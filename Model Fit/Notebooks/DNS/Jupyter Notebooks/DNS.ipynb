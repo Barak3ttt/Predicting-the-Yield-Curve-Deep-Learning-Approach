{
 "cells": [
  {
   "cell_type": "code",
   "execution_count": 9,
   "id": "5b35567a-bcfc-420f-8406-84d33e0db91f",
   "metadata": {},
   "outputs": [
    {
     "name": "stdout",
     "output_type": "stream",
     "text": [
      "Requirement already satisfied: pandas in /venv/main/lib/python3.10/site-packages (2.2.3)\n",
      "Requirement already satisfied: numpy in /venv/main/lib/python3.10/site-packages (2.1.2)\n",
      "Requirement already satisfied: datetime in /venv/main/lib/python3.10/site-packages (5.5)\n",
      "Requirement already satisfied: tqdm in /venv/main/lib/python3.10/site-packages (4.67.1)\n",
      "Requirement already satisfied: scikit-learn in /venv/main/lib/python3.10/site-packages (1.6.1)\n",
      "Requirement already satisfied: statsmodels in /venv/main/lib/python3.10/site-packages (0.14.4)\n",
      "Collecting pykalman\n",
      "  Downloading pykalman-0.10.1-py2.py3-none-any.whl (248 kB)\n",
      "\u001b[2K     \u001b[90m━━━━━━━━━━━━━━━━━━━━━━━━━━━━━━━━━━━━━━━\u001b[0m \u001b[32m248.5/248.5 KB\u001b[0m \u001b[31m7.5 MB/s\u001b[0m eta \u001b[36m0:00:00\u001b[0m\n",
      "\u001b[?25hRequirement already satisfied: tzdata>=2022.7 in /venv/main/lib/python3.10/site-packages (from pandas) (2025.2)\n",
      "Requirement already satisfied: python-dateutil>=2.8.2 in /venv/main/lib/python3.10/site-packages (from pandas) (2.9.0.post0)\n",
      "Requirement already satisfied: pytz>=2020.1 in /venv/main/lib/python3.10/site-packages (from pandas) (2025.2)\n",
      "Requirement already satisfied: zope.interface in /venv/main/lib/python3.10/site-packages (from datetime) (7.2)\n",
      "Requirement already satisfied: scipy>=1.6.0 in /venv/main/lib/python3.10/site-packages (from scikit-learn) (1.15.3)\n",
      "Requirement already satisfied: joblib>=1.2.0 in /venv/main/lib/python3.10/site-packages (from scikit-learn) (1.5.0)\n",
      "Requirement already satisfied: threadpoolctl>=3.1.0 in /venv/main/lib/python3.10/site-packages (from scikit-learn) (3.6.0)\n",
      "Requirement already satisfied: patsy>=0.5.6 in /venv/main/lib/python3.10/site-packages (from statsmodels) (1.0.1)\n",
      "Requirement already satisfied: packaging>=21.3 in /venv/main/lib/python3.10/site-packages (from statsmodels) (25.0)\n",
      "Collecting scikit-base<0.13.0\n",
      "  Downloading scikit_base-0.12.2-py3-none-any.whl (142 kB)\n",
      "\u001b[2K     \u001b[90m━━━━━━━━━━━━━━━━━━━━━━━━━━━━━━━━━━━━━━\u001b[0m \u001b[32m142.7/142.7 KB\u001b[0m \u001b[31m17.0 MB/s\u001b[0m eta \u001b[36m0:00:00\u001b[0m\n",
      "\u001b[?25hRequirement already satisfied: six>=1.5 in /venv/main/lib/python3.10/site-packages (from python-dateutil>=2.8.2->pandas) (1.17.0)\n",
      "Requirement already satisfied: setuptools in /venv/main/lib/python3.10/site-packages (from zope.interface->datetime) (59.6.0)\n",
      "Installing collected packages: scikit-base, pykalman\n",
      "Successfully installed pykalman-0.10.1 scikit-base-0.12.2\n",
      "Note: you may need to restart the kernel to use updated packages.\n"
     ]
    }
   ],
   "source": [
    "pip install pandas numpy datetime tqdm scikit-learn statsmodels pykalman"
   ]
  },
  {
   "cell_type": "code",
   "execution_count": 13,
   "id": "a8e0588e-908d-4468-831d-ad53fac0ff22",
   "metadata": {},
   "outputs": [
    {
     "name": "stderr",
     "output_type": "stream",
     "text": [
      "Rolling DNS Forecast:   0%|          | 1/756 [00:05<1:04:03,  5.09s/it]"
     ]
    },
    {
     "name": "stdout",
     "output_type": "stream",
     "text": [
      "[DEBUG] Eigenvalues: [0.96670611 0.9988845  1.0036314 ]\n"
     ]
    },
    {
     "name": "stderr",
     "output_type": "stream",
     "text": [
      "Rolling DNS Forecast:   0%|          | 2/756 [00:10<1:04:12,  5.11s/it]"
     ]
    },
    {
     "name": "stdout",
     "output_type": "stream",
     "text": [
      "[DEBUG] Eigenvalues: [0.96667985 0.99898878 1.00310743]\n"
     ]
    },
    {
     "name": "stderr",
     "output_type": "stream",
     "text": [
      "Rolling DNS Forecast:   0%|          | 3/756 [00:15<1:04:06,  5.11s/it]"
     ]
    },
    {
     "name": "stdout",
     "output_type": "stream",
     "text": [
      "[DEBUG] Eigenvalues: [0.96698445 0.99855096 1.00382032]\n"
     ]
    },
    {
     "name": "stderr",
     "output_type": "stream",
     "text": [
      "Rolling DNS Forecast:   1%|          | 4/756 [00:20<1:04:03,  5.11s/it]"
     ]
    },
    {
     "name": "stdout",
     "output_type": "stream",
     "text": [
      "[DEBUG] Eigenvalues: [0.96703703 0.99867348 1.00362896]\n"
     ]
    },
    {
     "name": "stderr",
     "output_type": "stream",
     "text": [
      "Rolling DNS Forecast:   1%|          | 5/756 [00:25<1:03:57,  5.11s/it]"
     ]
    },
    {
     "name": "stdout",
     "output_type": "stream",
     "text": [
      "[DEBUG] Eigenvalues: [0.96717426 0.99874566 1.00312658]\n"
     ]
    },
    {
     "name": "stderr",
     "output_type": "stream",
     "text": [
      "Rolling DNS Forecast:   1%|          | 6/756 [00:30<1:03:55,  5.11s/it]"
     ]
    },
    {
     "name": "stdout",
     "output_type": "stream",
     "text": [
      "[DEBUG] Eigenvalues: [0.96711435 0.99788656 1.00501776]\n"
     ]
    },
    {
     "name": "stderr",
     "output_type": "stream",
     "text": [
      "Rolling DNS Forecast:   1%|          | 7/756 [00:35<1:03:51,  5.12s/it]"
     ]
    },
    {
     "name": "stdout",
     "output_type": "stream",
     "text": [
      "[DEBUG] Eigenvalues: [0.96665455 0.99777212 1.00525106]\n"
     ]
    },
    {
     "name": "stderr",
     "output_type": "stream",
     "text": [
      "Rolling DNS Forecast:   1%|          | 8/756 [00:40<1:03:39,  5.11s/it]"
     ]
    },
    {
     "name": "stdout",
     "output_type": "stream",
     "text": [
      "[DEBUG] Eigenvalues: [0.96648673 0.99740233 1.00629969]\n"
     ]
    },
    {
     "name": "stderr",
     "output_type": "stream",
     "text": [
      "Rolling DNS Forecast:   1%|          | 9/756 [00:45<1:03:39,  5.11s/it]"
     ]
    },
    {
     "name": "stdout",
     "output_type": "stream",
     "text": [
      "[DEBUG] Eigenvalues: [0.96652297 0.99717047 1.00651452]\n"
     ]
    },
    {
     "name": "stderr",
     "output_type": "stream",
     "text": [
      "Rolling DNS Forecast:   1%|▏         | 10/756 [00:51<1:03:31,  5.11s/it]"
     ]
    },
    {
     "name": "stdout",
     "output_type": "stream",
     "text": [
      "[DEBUG] Eigenvalues: [0.9665083  0.99723342 1.00496669]\n"
     ]
    },
    {
     "name": "stderr",
     "output_type": "stream",
     "text": [
      "Rolling DNS Forecast:   1%|▏         | 11/756 [00:56<1:03:29,  5.11s/it]"
     ]
    },
    {
     "name": "stdout",
     "output_type": "stream",
     "text": [
      "[DEBUG] Eigenvalues: [0.96639752 0.99732992 1.00448234]\n"
     ]
    },
    {
     "name": "stderr",
     "output_type": "stream",
     "text": [
      "Rolling DNS Forecast:   2%|▏         | 12/756 [01:01<1:03:17,  5.10s/it]"
     ]
    },
    {
     "name": "stdout",
     "output_type": "stream",
     "text": [
      "[DEBUG] Eigenvalues: [0.96639089 0.99722621 1.00438379]\n"
     ]
    },
    {
     "name": "stderr",
     "output_type": "stream",
     "text": [
      "Rolling DNS Forecast:   2%|▏         | 13/756 [01:06<1:03:01,  5.09s/it]"
     ]
    },
    {
     "name": "stdout",
     "output_type": "stream",
     "text": [
      "[DEBUG] Eigenvalues: [0.96641922 0.99742566 1.0046246 ]\n"
     ]
    },
    {
     "name": "stderr",
     "output_type": "stream",
     "text": [
      "Rolling DNS Forecast:   2%|▏         | 14/756 [01:11<1:02:47,  5.08s/it]"
     ]
    },
    {
     "name": "stdout",
     "output_type": "stream",
     "text": [
      "[DEBUG] Eigenvalues: [0.96626335 0.99756448 1.00503335]\n"
     ]
    },
    {
     "name": "stderr",
     "output_type": "stream",
     "text": [
      "Rolling DNS Forecast:   2%|▏         | 15/756 [01:16<1:02:37,  5.07s/it]"
     ]
    },
    {
     "name": "stdout",
     "output_type": "stream",
     "text": [
      "[DEBUG] Eigenvalues: [0.96610273 0.99760702 1.00506263]\n"
     ]
    },
    {
     "name": "stderr",
     "output_type": "stream",
     "text": [
      "Rolling DNS Forecast:   2%|▏         | 16/756 [01:21<1:02:31,  5.07s/it]"
     ]
    },
    {
     "name": "stdout",
     "output_type": "stream",
     "text": [
      "[DEBUG] Eigenvalues: [0.96585095 0.99769007 1.00513392]\n"
     ]
    },
    {
     "name": "stderr",
     "output_type": "stream",
     "text": [
      "Rolling DNS Forecast:   2%|▏         | 17/756 [01:26<1:02:23,  5.07s/it]"
     ]
    },
    {
     "name": "stdout",
     "output_type": "stream",
     "text": [
      "[DEBUG] Eigenvalues: [0.96589821 0.99783129 1.00417191]\n"
     ]
    },
    {
     "name": "stderr",
     "output_type": "stream",
     "text": [
      "Rolling DNS Forecast:   2%|▏         | 18/756 [01:31<1:02:16,  5.06s/it]"
     ]
    },
    {
     "name": "stdout",
     "output_type": "stream",
     "text": [
      "[DEBUG] Eigenvalues: [0.96628181 0.99769827 1.00436519]\n"
     ]
    },
    {
     "name": "stderr",
     "output_type": "stream",
     "text": [
      "Rolling DNS Forecast:   3%|▎         | 19/756 [01:36<1:02:14,  5.07s/it]"
     ]
    },
    {
     "name": "stdout",
     "output_type": "stream",
     "text": [
      "[DEBUG] Eigenvalues: [0.96665697 0.99755255 1.00443783]\n"
     ]
    },
    {
     "name": "stderr",
     "output_type": "stream",
     "text": [
      "Rolling DNS Forecast:   3%|▎         | 20/756 [01:41<1:02:09,  5.07s/it]"
     ]
    },
    {
     "name": "stdout",
     "output_type": "stream",
     "text": [
      "[DEBUG] Eigenvalues: [0.96715859 0.99784252 1.00242468]\n"
     ]
    },
    {
     "name": "stderr",
     "output_type": "stream",
     "text": [
      "Rolling DNS Forecast:   3%|▎         | 21/756 [01:46<1:02:02,  5.06s/it]"
     ]
    },
    {
     "name": "stdout",
     "output_type": "stream",
     "text": [
      "[DEBUG] Eigenvalues: [0.96687053 0.99782268 1.00241773]\n"
     ]
    },
    {
     "name": "stderr",
     "output_type": "stream",
     "text": [
      "Rolling DNS Forecast:   3%|▎         | 22/756 [01:51<1:01:56,  5.06s/it]"
     ]
    },
    {
     "name": "stdout",
     "output_type": "stream",
     "text": [
      "[DEBUG] Eigenvalues: [0.96626546 0.99772405 1.00274661]\n"
     ]
    },
    {
     "name": "stderr",
     "output_type": "stream",
     "text": [
      "Rolling DNS Forecast:   3%|▎         | 23/756 [01:56<1:01:49,  5.06s/it]"
     ]
    },
    {
     "name": "stdout",
     "output_type": "stream",
     "text": [
      "[DEBUG] Eigenvalues: [0.96635979 0.99846711 1.00136454]\n"
     ]
    },
    {
     "name": "stderr",
     "output_type": "stream",
     "text": [
      "Rolling DNS Forecast:   3%|▎         | 24/756 [02:02<1:01:50,  5.07s/it]"
     ]
    },
    {
     "name": "stdout",
     "output_type": "stream",
     "text": [
      "[DEBUG] Eigenvalues: [0.96652737 0.99981843 0.99981843]\n"
     ]
    },
    {
     "name": "stderr",
     "output_type": "stream",
     "text": [
      "Rolling DNS Forecast:   3%|▎         | 25/756 [02:07<1:01:48,  5.07s/it]"
     ]
    },
    {
     "name": "stdout",
     "output_type": "stream",
     "text": [
      "[DEBUG] Eigenvalues: [0.96649271 0.99953433 0.99953433]\n"
     ]
    },
    {
     "name": "stderr",
     "output_type": "stream",
     "text": [
      "Rolling DNS Forecast:   3%|▎         | 26/756 [02:12<1:01:39,  5.07s/it]"
     ]
    },
    {
     "name": "stdout",
     "output_type": "stream",
     "text": [
      "[DEBUG] Eigenvalues: [0.96650454 0.998736   1.00104063]\n"
     ]
    },
    {
     "name": "stderr",
     "output_type": "stream",
     "text": [
      "Rolling DNS Forecast:   4%|▎         | 27/756 [02:17<1:01:28,  5.06s/it]"
     ]
    },
    {
     "name": "stdout",
     "output_type": "stream",
     "text": [
      "[DEBUG] Eigenvalues: [0.96626503 0.99875834 1.00107756]\n"
     ]
    },
    {
     "name": "stderr",
     "output_type": "stream",
     "text": [
      "Rolling DNS Forecast:   4%|▎         | 28/756 [02:22<1:01:22,  5.06s/it]"
     ]
    },
    {
     "name": "stdout",
     "output_type": "stream",
     "text": [
      "[DEBUG] Eigenvalues: [0.96644692 0.99965961 0.99965961]\n"
     ]
    },
    {
     "name": "stderr",
     "output_type": "stream",
     "text": [
      "Rolling DNS Forecast:   4%|▍         | 29/756 [02:27<1:01:22,  5.07s/it]"
     ]
    },
    {
     "name": "stdout",
     "output_type": "stream",
     "text": [
      "[DEBUG] Eigenvalues: [0.9664828  0.99955918 0.99955918]\n"
     ]
    },
    {
     "name": "stderr",
     "output_type": "stream",
     "text": [
      "Rolling DNS Forecast:   4%|▍         | 30/756 [02:32<1:01:14,  5.06s/it]"
     ]
    },
    {
     "name": "stdout",
     "output_type": "stream",
     "text": [
      "[DEBUG] Eigenvalues: [0.96651203 0.99847102 1.00045789]\n"
     ]
    },
    {
     "name": "stderr",
     "output_type": "stream",
     "text": [
      "Rolling DNS Forecast:   4%|▍         | 31/756 [02:37<1:01:04,  5.05s/it]"
     ]
    },
    {
     "name": "stdout",
     "output_type": "stream",
     "text": [
      "[DEBUG] Eigenvalues: [0.96661454 0.99909086 0.99909086]\n"
     ]
    },
    {
     "name": "stderr",
     "output_type": "stream",
     "text": [
      "Rolling DNS Forecast:   4%|▍         | 32/756 [02:42<1:00:56,  5.05s/it]"
     ]
    },
    {
     "name": "stdout",
     "output_type": "stream",
     "text": [
      "[DEBUG] Eigenvalues: [0.96671899 0.99883217 0.99883217]\n"
     ]
    },
    {
     "name": "stderr",
     "output_type": "stream",
     "text": [
      "Rolling DNS Forecast:   4%|▍         | 33/756 [02:47<1:00:51,  5.05s/it]"
     ]
    },
    {
     "name": "stdout",
     "output_type": "stream",
     "text": [
      "[DEBUG] Eigenvalues: [0.96671413 0.99873651 0.99873651]\n"
     ]
    },
    {
     "name": "stderr",
     "output_type": "stream",
     "text": [
      "Rolling DNS Forecast:   4%|▍         | 34/756 [02:52<1:00:49,  5.05s/it]"
     ]
    },
    {
     "name": "stdout",
     "output_type": "stream",
     "text": [
      "[DEBUG] Eigenvalues: [0.9665898  0.99876016 0.99876016]\n"
     ]
    },
    {
     "name": "stderr",
     "output_type": "stream",
     "text": [
      "Rolling DNS Forecast:   5%|▍         | 35/756 [02:57<1:00:50,  5.06s/it]"
     ]
    },
    {
     "name": "stdout",
     "output_type": "stream",
     "text": [
      "[DEBUG] Eigenvalues: [0.96648285 0.99871414 0.99871414]\n"
     ]
    },
    {
     "name": "stderr",
     "output_type": "stream",
     "text": [
      "Rolling DNS Forecast:   5%|▍         | 36/756 [03:02<1:00:52,  5.07s/it]"
     ]
    },
    {
     "name": "stdout",
     "output_type": "stream",
     "text": [
      "[DEBUG] Eigenvalues: [0.96653297 0.99870616 0.99870616]\n"
     ]
    },
    {
     "name": "stderr",
     "output_type": "stream",
     "text": [
      "Rolling DNS Forecast:   5%|▍         | 37/756 [03:07<1:00:52,  5.08s/it]"
     ]
    },
    {
     "name": "stdout",
     "output_type": "stream",
     "text": [
      "[DEBUG] Eigenvalues: [0.96613333 0.99911447 0.99911447]\n"
     ]
    },
    {
     "name": "stderr",
     "output_type": "stream",
     "text": [
      "Rolling DNS Forecast:   5%|▌         | 38/756 [03:12<1:00:40,  5.07s/it]"
     ]
    },
    {
     "name": "stdout",
     "output_type": "stream",
     "text": [
      "[DEBUG] Eigenvalues: [0.9658488  0.99918232 0.99918232]\n"
     ]
    },
    {
     "name": "stderr",
     "output_type": "stream",
     "text": [
      "Rolling DNS Forecast:   5%|▌         | 39/756 [03:18<1:00:39,  5.08s/it]"
     ]
    },
    {
     "name": "stdout",
     "output_type": "stream",
     "text": [
      "[DEBUG] Eigenvalues: [0.96579937 0.99918009 0.99918009]\n"
     ]
    },
    {
     "name": "stderr",
     "output_type": "stream",
     "text": [
      "Rolling DNS Forecast:   5%|▌         | 40/756 [03:23<1:00:35,  5.08s/it]"
     ]
    },
    {
     "name": "stdout",
     "output_type": "stream",
     "text": [
      "[DEBUG] Eigenvalues: [0.96595602 0.99918189 0.99918189]\n"
     ]
    },
    {
     "name": "stderr",
     "output_type": "stream",
     "text": [
      "Rolling DNS Forecast:   5%|▌         | 41/756 [03:28<1:00:33,  5.08s/it]"
     ]
    },
    {
     "name": "stdout",
     "output_type": "stream",
     "text": [
      "[DEBUG] Eigenvalues: [0.96559689 0.99920367 0.99920367]\n"
     ]
    },
    {
     "name": "stderr",
     "output_type": "stream",
     "text": [
      "Rolling DNS Forecast:   6%|▌         | 42/756 [03:33<1:00:25,  5.08s/it]"
     ]
    },
    {
     "name": "stdout",
     "output_type": "stream",
     "text": [
      "[DEBUG] Eigenvalues: [0.96574218 0.99919861 0.99919861]\n"
     ]
    },
    {
     "name": "stderr",
     "output_type": "stream",
     "text": [
      "Rolling DNS Forecast:   6%|▌         | 43/756 [03:38<1:00:15,  5.07s/it]"
     ]
    },
    {
     "name": "stdout",
     "output_type": "stream",
     "text": [
      "[DEBUG] Eigenvalues: [0.96545612 0.99944499 0.99944499]\n"
     ]
    },
    {
     "name": "stderr",
     "output_type": "stream",
     "text": [
      "Rolling DNS Forecast:   6%|▌         | 44/756 [03:43<1:00:06,  5.07s/it]"
     ]
    },
    {
     "name": "stdout",
     "output_type": "stream",
     "text": [
      "[DEBUG] Eigenvalues: [0.96515085 0.9999305  0.9999305 ]\n"
     ]
    },
    {
     "name": "stderr",
     "output_type": "stream",
     "text": [
      "Rolling DNS Forecast:   6%|▌         | 45/756 [03:48<1:00:06,  5.07s/it]"
     ]
    },
    {
     "name": "stdout",
     "output_type": "stream",
     "text": [
      "[DEBUG] Eigenvalues: [0.96560099 1.00024684 1.00024684]\n"
     ]
    },
    {
     "name": "stderr",
     "output_type": "stream",
     "text": [
      "Rolling DNS Forecast:   6%|▌         | 46/756 [03:53<59:59,  5.07s/it]  "
     ]
    },
    {
     "name": "stdout",
     "output_type": "stream",
     "text": [
      "[DEBUG] Eigenvalues: [0.96572649 1.00039309 1.00039309]\n"
     ]
    },
    {
     "name": "stderr",
     "output_type": "stream",
     "text": [
      "Rolling DNS Forecast:   6%|▌         | 47/756 [03:58<59:56,  5.07s/it]"
     ]
    },
    {
     "name": "stdout",
     "output_type": "stream",
     "text": [
      "[DEBUG] Eigenvalues: [0.96607086 0.99964806 0.99964806]\n"
     ]
    },
    {
     "name": "stderr",
     "output_type": "stream",
     "text": [
      "Rolling DNS Forecast:   6%|▋         | 48/756 [04:03<59:52,  5.07s/it]"
     ]
    },
    {
     "name": "stdout",
     "output_type": "stream",
     "text": [
      "[DEBUG] Eigenvalues: [0.96557683 0.99970214 0.99970214]\n"
     ]
    },
    {
     "name": "stderr",
     "output_type": "stream",
     "text": [
      "Rolling DNS Forecast:   6%|▋         | 49/756 [04:08<59:41,  5.07s/it]"
     ]
    },
    {
     "name": "stdout",
     "output_type": "stream",
     "text": [
      "[DEBUG] Eigenvalues: [0.96530407 0.99967426 0.99967426]\n"
     ]
    },
    {
     "name": "stderr",
     "output_type": "stream",
     "text": [
      "Rolling DNS Forecast:   7%|▋         | 50/756 [04:13<59:27,  5.05s/it]"
     ]
    },
    {
     "name": "stdout",
     "output_type": "stream",
     "text": [
      "[DEBUG] Eigenvalues: [0.96524101 0.99964423 0.99964423]\n"
     ]
    },
    {
     "name": "stderr",
     "output_type": "stream",
     "text": [
      "Rolling DNS Forecast:   7%|▋         | 51/756 [04:18<59:26,  5.06s/it]"
     ]
    },
    {
     "name": "stdout",
     "output_type": "stream",
     "text": [
      "[DEBUG] Eigenvalues: [0.96559997 0.99969525 0.99969525]\n"
     ]
    },
    {
     "name": "stderr",
     "output_type": "stream",
     "text": [
      "Rolling DNS Forecast:   7%|▋         | 52/756 [04:23<59:21,  5.06s/it]"
     ]
    },
    {
     "name": "stdout",
     "output_type": "stream",
     "text": [
      "[DEBUG] Eigenvalues: [0.96563479 0.99943855 0.99943855]\n"
     ]
    },
    {
     "name": "stderr",
     "output_type": "stream",
     "text": [
      "Rolling DNS Forecast:   7%|▋         | 53/756 [04:28<59:14,  5.06s/it]"
     ]
    },
    {
     "name": "stdout",
     "output_type": "stream",
     "text": [
      "[DEBUG] Eigenvalues: [0.9656111  0.99915486 0.99915486]\n"
     ]
    },
    {
     "name": "stderr",
     "output_type": "stream",
     "text": [
      "Rolling DNS Forecast:   7%|▋         | 54/756 [04:34<59:12,  5.06s/it]"
     ]
    },
    {
     "name": "stdout",
     "output_type": "stream",
     "text": [
      "[DEBUG] Eigenvalues: [0.9659187  0.99904035 0.99904035]\n"
     ]
    },
    {
     "name": "stderr",
     "output_type": "stream",
     "text": [
      "Rolling DNS Forecast:   7%|▋         | 55/756 [04:39<59:07,  5.06s/it]"
     ]
    },
    {
     "name": "stdout",
     "output_type": "stream",
     "text": [
      "[DEBUG] Eigenvalues: [0.96604734 0.99899088 0.99899088]\n"
     ]
    },
    {
     "name": "stderr",
     "output_type": "stream",
     "text": [
      "Rolling DNS Forecast:   7%|▋         | 56/756 [04:44<59:05,  5.06s/it]"
     ]
    },
    {
     "name": "stdout",
     "output_type": "stream",
     "text": [
      "[DEBUG] Eigenvalues: [0.96611191 0.99892518 0.99892518]\n"
     ]
    },
    {
     "name": "stderr",
     "output_type": "stream",
     "text": [
      "Rolling DNS Forecast:   8%|▊         | 57/756 [04:49<59:02,  5.07s/it]"
     ]
    },
    {
     "name": "stdout",
     "output_type": "stream",
     "text": [
      "[DEBUG] Eigenvalues: [0.96595202 0.99890376 0.99890376]\n"
     ]
    },
    {
     "name": "stderr",
     "output_type": "stream",
     "text": [
      "Rolling DNS Forecast:   8%|▊         | 58/756 [04:54<58:56,  5.07s/it]"
     ]
    },
    {
     "name": "stdout",
     "output_type": "stream",
     "text": [
      "[DEBUG] Eigenvalues: [0.96594126 0.99869351 0.99869351]\n"
     ]
    },
    {
     "name": "stderr",
     "output_type": "stream",
     "text": [
      "Rolling DNS Forecast:   8%|▊         | 59/756 [04:59<58:51,  5.07s/it]"
     ]
    },
    {
     "name": "stdout",
     "output_type": "stream",
     "text": [
      "[DEBUG] Eigenvalues: [0.96605763 0.99852316 0.99852316]\n"
     ]
    },
    {
     "name": "stderr",
     "output_type": "stream",
     "text": [
      "Rolling DNS Forecast:   8%|▊         | 60/756 [05:04<58:45,  5.06s/it]"
     ]
    },
    {
     "name": "stdout",
     "output_type": "stream",
     "text": [
      "[DEBUG] Eigenvalues: [0.96608727 0.99840047 0.99840047]\n"
     ]
    },
    {
     "name": "stderr",
     "output_type": "stream",
     "text": [
      "Rolling DNS Forecast:   8%|▊         | 61/756 [05:09<58:37,  5.06s/it]"
     ]
    },
    {
     "name": "stdout",
     "output_type": "stream",
     "text": [
      "[DEBUG] Eigenvalues: [0.96633857 0.998413   0.998413  ]\n"
     ]
    },
    {
     "name": "stderr",
     "output_type": "stream",
     "text": [
      "Rolling DNS Forecast:   8%|▊         | 62/756 [05:14<58:34,  5.06s/it]"
     ]
    },
    {
     "name": "stdout",
     "output_type": "stream",
     "text": [
      "[DEBUG] Eigenvalues: [0.96629626 0.998619   0.998619  ]\n"
     ]
    },
    {
     "name": "stderr",
     "output_type": "stream",
     "text": [
      "Rolling DNS Forecast:   8%|▊         | 63/756 [05:19<58:33,  5.07s/it]"
     ]
    },
    {
     "name": "stdout",
     "output_type": "stream",
     "text": [
      "[DEBUG] Eigenvalues: [0.96652648 0.99870253 0.99870253]\n"
     ]
    },
    {
     "name": "stderr",
     "output_type": "stream",
     "text": [
      "Rolling DNS Forecast:   8%|▊         | 64/756 [05:24<58:24,  5.06s/it]"
     ]
    },
    {
     "name": "stdout",
     "output_type": "stream",
     "text": [
      "[DEBUG] Eigenvalues: [0.96669026 0.99884509 0.99884509]\n"
     ]
    },
    {
     "name": "stderr",
     "output_type": "stream",
     "text": [
      "Rolling DNS Forecast:   9%|▊         | 65/756 [05:29<58:15,  5.06s/it]"
     ]
    },
    {
     "name": "stdout",
     "output_type": "stream",
     "text": [
      "[DEBUG] Eigenvalues: [0.96692945 0.99878811 0.99878811]\n"
     ]
    },
    {
     "name": "stderr",
     "output_type": "stream",
     "text": [
      "Rolling DNS Forecast:   9%|▊         | 66/756 [05:34<58:11,  5.06s/it]"
     ]
    },
    {
     "name": "stdout",
     "output_type": "stream",
     "text": [
      "[DEBUG] Eigenvalues: [0.96693628 0.99876226 0.99876226]\n"
     ]
    },
    {
     "name": "stderr",
     "output_type": "stream",
     "text": [
      "Rolling DNS Forecast:   9%|▉         | 67/756 [05:39<58:04,  5.06s/it]"
     ]
    },
    {
     "name": "stdout",
     "output_type": "stream",
     "text": [
      "[DEBUG] Eigenvalues: [0.96678524 0.99912503 0.99912503]\n"
     ]
    },
    {
     "name": "stderr",
     "output_type": "stream",
     "text": [
      "Rolling DNS Forecast:   9%|▉         | 68/756 [05:44<57:59,  5.06s/it]"
     ]
    },
    {
     "name": "stdout",
     "output_type": "stream",
     "text": [
      "[DEBUG] Eigenvalues: [0.96697793 0.99901855 0.99901855]\n"
     ]
    },
    {
     "name": "stderr",
     "output_type": "stream",
     "text": [
      "Rolling DNS Forecast:   9%|▉         | 69/756 [05:49<57:52,  5.05s/it]"
     ]
    },
    {
     "name": "stdout",
     "output_type": "stream",
     "text": [
      "[DEBUG] Eigenvalues: [0.96691206 0.99892277 0.99892277]\n"
     ]
    },
    {
     "name": "stderr",
     "output_type": "stream",
     "text": [
      "Rolling DNS Forecast:   9%|▉         | 70/756 [05:54<57:47,  5.05s/it]"
     ]
    },
    {
     "name": "stdout",
     "output_type": "stream",
     "text": [
      "[DEBUG] Eigenvalues: [0.96722085 0.99898315 0.99898315]\n"
     ]
    },
    {
     "name": "stderr",
     "output_type": "stream",
     "text": [
      "Rolling DNS Forecast:   9%|▉         | 71/756 [05:59<57:34,  5.04s/it]"
     ]
    },
    {
     "name": "stdout",
     "output_type": "stream",
     "text": [
      "[DEBUG] Eigenvalues: [0.96715498 0.99905426 0.99905426]\n"
     ]
    },
    {
     "name": "stderr",
     "output_type": "stream",
     "text": [
      "Rolling DNS Forecast:  10%|▉         | 72/756 [06:05<57:25,  5.04s/it]"
     ]
    },
    {
     "name": "stdout",
     "output_type": "stream",
     "text": [
      "[DEBUG] Eigenvalues: [0.96732648 0.99897066 0.99897066]\n"
     ]
    },
    {
     "name": "stderr",
     "output_type": "stream",
     "text": [
      "Rolling DNS Forecast:  10%|▉         | 73/756 [06:10<57:25,  5.04s/it]"
     ]
    },
    {
     "name": "stdout",
     "output_type": "stream",
     "text": [
      "[DEBUG] Eigenvalues: [0.96742918 0.99885675 0.99885675]\n"
     ]
    },
    {
     "name": "stderr",
     "output_type": "stream",
     "text": [
      "Rolling DNS Forecast:  10%|▉         | 74/756 [06:15<57:33,  5.06s/it]"
     ]
    },
    {
     "name": "stdout",
     "output_type": "stream",
     "text": [
      "[DEBUG] Eigenvalues: [0.96745187 0.99874158 0.99874158]\n"
     ]
    },
    {
     "name": "stderr",
     "output_type": "stream",
     "text": [
      "Rolling DNS Forecast:  10%|▉         | 75/756 [06:20<57:34,  5.07s/it]"
     ]
    },
    {
     "name": "stdout",
     "output_type": "stream",
     "text": [
      "[DEBUG] Eigenvalues: [0.96770482 0.99897398 0.99897398]\n"
     ]
    },
    {
     "name": "stderr",
     "output_type": "stream",
     "text": [
      "Rolling DNS Forecast:  10%|█         | 76/756 [06:25<57:27,  5.07s/it]"
     ]
    },
    {
     "name": "stdout",
     "output_type": "stream",
     "text": [
      "[DEBUG] Eigenvalues: [0.967709   0.99880622 0.99880622]\n"
     ]
    },
    {
     "name": "stderr",
     "output_type": "stream",
     "text": [
      "Rolling DNS Forecast:  10%|█         | 77/756 [06:30<57:21,  5.07s/it]"
     ]
    },
    {
     "name": "stdout",
     "output_type": "stream",
     "text": [
      "[DEBUG] Eigenvalues: [0.96784255 0.99854213 0.99854213]\n"
     ]
    },
    {
     "name": "stderr",
     "output_type": "stream",
     "text": [
      "Rolling DNS Forecast:  10%|█         | 78/756 [06:35<57:15,  5.07s/it]"
     ]
    },
    {
     "name": "stdout",
     "output_type": "stream",
     "text": [
      "[DEBUG] Eigenvalues: [0.96791924 0.99864016 0.99864016]\n"
     ]
    },
    {
     "name": "stderr",
     "output_type": "stream",
     "text": [
      "Rolling DNS Forecast:  10%|█         | 79/756 [06:40<57:04,  5.06s/it]"
     ]
    },
    {
     "name": "stdout",
     "output_type": "stream",
     "text": [
      "[DEBUG] Eigenvalues: [0.96786412 0.99868476 0.99868476]\n"
     ]
    },
    {
     "name": "stderr",
     "output_type": "stream",
     "text": [
      "Rolling DNS Forecast:  11%|█         | 80/756 [06:45<57:00,  5.06s/it]"
     ]
    },
    {
     "name": "stdout",
     "output_type": "stream",
     "text": [
      "[DEBUG] Eigenvalues: [0.96794666 0.99909437 0.99909437]\n"
     ]
    },
    {
     "name": "stderr",
     "output_type": "stream",
     "text": [
      "Rolling DNS Forecast:  11%|█         | 81/756 [06:50<57:00,  5.07s/it]"
     ]
    },
    {
     "name": "stdout",
     "output_type": "stream",
     "text": [
      "[DEBUG] Eigenvalues: [0.96796606 0.99918163 0.99918163]\n"
     ]
    },
    {
     "name": "stderr",
     "output_type": "stream",
     "text": [
      "Rolling DNS Forecast:  11%|█         | 82/756 [06:55<56:50,  5.06s/it]"
     ]
    },
    {
     "name": "stdout",
     "output_type": "stream",
     "text": [
      "[DEBUG] Eigenvalues: [0.96792579 0.99911866 0.99911866]\n"
     ]
    },
    {
     "name": "stderr",
     "output_type": "stream",
     "text": [
      "Rolling DNS Forecast:  11%|█         | 83/756 [07:00<56:47,  5.06s/it]"
     ]
    },
    {
     "name": "stdout",
     "output_type": "stream",
     "text": [
      "[DEBUG] Eigenvalues: [0.96788311 0.99916992 0.99916992]\n"
     ]
    },
    {
     "name": "stderr",
     "output_type": "stream",
     "text": [
      "Rolling DNS Forecast:  11%|█         | 84/756 [07:05<56:37,  5.06s/it]"
     ]
    },
    {
     "name": "stdout",
     "output_type": "stream",
     "text": [
      "[DEBUG] Eigenvalues: [0.96783802 0.9993648  0.9993648 ]\n"
     ]
    },
    {
     "name": "stderr",
     "output_type": "stream",
     "text": [
      "Rolling DNS Forecast:  11%|█         | 85/756 [07:10<56:30,  5.05s/it]"
     ]
    },
    {
     "name": "stdout",
     "output_type": "stream",
     "text": [
      "[DEBUG] Eigenvalues: [0.96777794 0.99942612 0.99942612]\n"
     ]
    },
    {
     "name": "stderr",
     "output_type": "stream",
     "text": [
      "Rolling DNS Forecast:  11%|█▏        | 86/756 [07:15<56:27,  5.06s/it]"
     ]
    },
    {
     "name": "stdout",
     "output_type": "stream",
     "text": [
      "[DEBUG] Eigenvalues: [0.96768395 0.99945022 0.99945022]\n"
     ]
    },
    {
     "name": "stderr",
     "output_type": "stream",
     "text": [
      "Rolling DNS Forecast:  12%|█▏        | 87/756 [07:20<56:21,  5.05s/it]"
     ]
    },
    {
     "name": "stdout",
     "output_type": "stream",
     "text": [
      "[DEBUG] Eigenvalues: [0.96766054 0.99950693 0.99950693]\n"
     ]
    },
    {
     "name": "stderr",
     "output_type": "stream",
     "text": [
      "Rolling DNS Forecast:  12%|█▏        | 88/756 [07:26<56:17,  5.06s/it]"
     ]
    },
    {
     "name": "stdout",
     "output_type": "stream",
     "text": [
      "[DEBUG] Eigenvalues: [0.96758536 0.99933394 0.99933394]\n"
     ]
    },
    {
     "name": "stderr",
     "output_type": "stream",
     "text": [
      "Rolling DNS Forecast:  12%|█▏        | 89/756 [07:31<56:09,  5.05s/it]"
     ]
    },
    {
     "name": "stdout",
     "output_type": "stream",
     "text": [
      "[DEBUG] Eigenvalues: [0.96752972 0.99934375 0.99934375]\n"
     ]
    },
    {
     "name": "stderr",
     "output_type": "stream",
     "text": [
      "Rolling DNS Forecast:  12%|█▏        | 90/756 [07:36<55:58,  5.04s/it]"
     ]
    },
    {
     "name": "stdout",
     "output_type": "stream",
     "text": [
      "[DEBUG] Eigenvalues: [0.96759391 0.99940556 0.99940556]\n"
     ]
    },
    {
     "name": "stderr",
     "output_type": "stream",
     "text": [
      "Rolling DNS Forecast:  12%|█▏        | 91/756 [07:41<55:41,  5.02s/it]"
     ]
    },
    {
     "name": "stdout",
     "output_type": "stream",
     "text": [
      "[DEBUG] Eigenvalues: [0.96753069 0.99937558 0.99937558]\n"
     ]
    },
    {
     "name": "stderr",
     "output_type": "stream",
     "text": [
      "Rolling DNS Forecast:  12%|█▏        | 92/756 [07:46<55:30,  5.02s/it]"
     ]
    },
    {
     "name": "stdout",
     "output_type": "stream",
     "text": [
      "[DEBUG] Eigenvalues: [0.96763622 0.99945566 0.99945566]\n"
     ]
    },
    {
     "name": "stderr",
     "output_type": "stream",
     "text": [
      "Rolling DNS Forecast:  12%|█▏        | 93/756 [07:51<55:26,  5.02s/it]"
     ]
    },
    {
     "name": "stdout",
     "output_type": "stream",
     "text": [
      "[DEBUG] Eigenvalues: [0.96771065 0.99960533 0.99960533]\n"
     ]
    },
    {
     "name": "stderr",
     "output_type": "stream",
     "text": [
      "Rolling DNS Forecast:  12%|█▏        | 94/756 [07:56<55:20,  5.02s/it]"
     ]
    },
    {
     "name": "stdout",
     "output_type": "stream",
     "text": [
      "[DEBUG] Eigenvalues: [0.96787803 0.99961854 0.99961854]\n"
     ]
    },
    {
     "name": "stderr",
     "output_type": "stream",
     "text": [
      "Rolling DNS Forecast:  13%|█▎        | 95/756 [08:01<55:20,  5.02s/it]"
     ]
    },
    {
     "name": "stdout",
     "output_type": "stream",
     "text": [
      "[DEBUG] Eigenvalues: [0.96804343 0.99957104 0.99957104]\n"
     ]
    },
    {
     "name": "stderr",
     "output_type": "stream",
     "text": [
      "Rolling DNS Forecast:  13%|█▎        | 96/756 [08:06<55:13,  5.02s/it]"
     ]
    },
    {
     "name": "stdout",
     "output_type": "stream",
     "text": [
      "[DEBUG] Eigenvalues: [0.96814473 0.99955785 0.99955785]\n"
     ]
    },
    {
     "name": "stderr",
     "output_type": "stream",
     "text": [
      "Rolling DNS Forecast:  13%|█▎        | 97/756 [08:11<55:06,  5.02s/it]"
     ]
    },
    {
     "name": "stdout",
     "output_type": "stream",
     "text": [
      "[DEBUG] Eigenvalues: [0.96838237 0.99959336 0.99959336]\n"
     ]
    },
    {
     "name": "stderr",
     "output_type": "stream",
     "text": [
      "Rolling DNS Forecast:  13%|█▎        | 98/756 [08:16<55:00,  5.02s/it]"
     ]
    },
    {
     "name": "stdout",
     "output_type": "stream",
     "text": [
      "[DEBUG] Eigenvalues: [0.96839729 0.99978875 0.99978875]\n"
     ]
    },
    {
     "name": "stderr",
     "output_type": "stream",
     "text": [
      "Rolling DNS Forecast:  13%|█▎        | 99/756 [08:21<54:52,  5.01s/it]"
     ]
    },
    {
     "name": "stdout",
     "output_type": "stream",
     "text": [
      "[DEBUG] Eigenvalues: [0.96844116 0.99979803 0.99979803]\n"
     ]
    },
    {
     "name": "stderr",
     "output_type": "stream",
     "text": [
      "Rolling DNS Forecast:  13%|█▎        | 100/756 [08:26<54:48,  5.01s/it]"
     ]
    },
    {
     "name": "stdout",
     "output_type": "stream",
     "text": [
      "[DEBUG] Eigenvalues: [0.96862168 0.9999228  0.9999228 ]\n"
     ]
    },
    {
     "name": "stderr",
     "output_type": "stream",
     "text": [
      "Rolling DNS Forecast:  13%|█▎        | 101/756 [08:31<54:49,  5.02s/it]"
     ]
    },
    {
     "name": "stdout",
     "output_type": "stream",
     "text": [
      "[DEBUG] Eigenvalues: [0.968668   1.00002477 1.00002477]\n"
     ]
    },
    {
     "name": "stderr",
     "output_type": "stream",
     "text": [
      "Rolling DNS Forecast:  13%|█▎        | 102/756 [08:36<54:48,  5.03s/it]"
     ]
    },
    {
     "name": "stdout",
     "output_type": "stream",
     "text": [
      "[DEBUG] Eigenvalues: [0.96885582 1.00017311 1.00017311]\n"
     ]
    },
    {
     "name": "stderr",
     "output_type": "stream",
     "text": [
      "Rolling DNS Forecast:  14%|█▎        | 103/756 [08:41<54:42,  5.03s/it]"
     ]
    },
    {
     "name": "stdout",
     "output_type": "stream",
     "text": [
      "[DEBUG] Eigenvalues: [0.96914137 1.00024    1.00024   ]\n"
     ]
    },
    {
     "name": "stderr",
     "output_type": "stream",
     "text": [
      "Rolling DNS Forecast:  14%|█▍        | 104/756 [08:46<54:37,  5.03s/it]"
     ]
    },
    {
     "name": "stdout",
     "output_type": "stream",
     "text": [
      "[DEBUG] Eigenvalues: [0.96922184 1.0003209  1.0003209 ]\n"
     ]
    },
    {
     "name": "stderr",
     "output_type": "stream",
     "text": [
      "Rolling DNS Forecast:  14%|█▍        | 105/756 [08:51<54:34,  5.03s/it]"
     ]
    },
    {
     "name": "stdout",
     "output_type": "stream",
     "text": [
      "[DEBUG] Eigenvalues: [0.96930939 1.00030218 1.00030218]\n"
     ]
    },
    {
     "name": "stderr",
     "output_type": "stream",
     "text": [
      "Rolling DNS Forecast:  14%|█▍        | 106/756 [08:56<54:27,  5.03s/it]"
     ]
    },
    {
     "name": "stdout",
     "output_type": "stream",
     "text": [
      "[DEBUG] Eigenvalues: [0.96960771 1.00052726 1.00052726]\n"
     ]
    },
    {
     "name": "stderr",
     "output_type": "stream",
     "text": [
      "Rolling DNS Forecast:  14%|█▍        | 107/756 [09:01<54:26,  5.03s/it]"
     ]
    },
    {
     "name": "stdout",
     "output_type": "stream",
     "text": [
      "[DEBUG] Eigenvalues: [0.96964253 1.00064351 1.00064351]\n"
     ]
    },
    {
     "name": "stderr",
     "output_type": "stream",
     "text": [
      "Rolling DNS Forecast:  14%|█▍        | 108/756 [09:06<54:24,  5.04s/it]"
     ]
    },
    {
     "name": "stdout",
     "output_type": "stream",
     "text": [
      "[DEBUG] Eigenvalues: [0.96971594 1.00059056 1.00059056]\n"
     ]
    },
    {
     "name": "stderr",
     "output_type": "stream",
     "text": [
      "Rolling DNS Forecast:  14%|█▍        | 109/756 [09:11<54:26,  5.05s/it]"
     ]
    },
    {
     "name": "stdout",
     "output_type": "stream",
     "text": [
      "[DEBUG] Eigenvalues: [0.96975585 1.00060948 1.00060948]\n"
     ]
    },
    {
     "name": "stderr",
     "output_type": "stream",
     "text": [
      "Rolling DNS Forecast:  15%|█▍        | 110/756 [09:16<54:31,  5.06s/it]"
     ]
    },
    {
     "name": "stdout",
     "output_type": "stream",
     "text": [
      "[DEBUG] Eigenvalues: [0.96990986 1.00083573 1.00083573]\n"
     ]
    },
    {
     "name": "stderr",
     "output_type": "stream",
     "text": [
      "Rolling DNS Forecast:  15%|█▍        | 111/756 [09:21<54:25,  5.06s/it]"
     ]
    },
    {
     "name": "stdout",
     "output_type": "stream",
     "text": [
      "[DEBUG] Eigenvalues: [0.96993057 1.00118989 1.00118989]\n"
     ]
    },
    {
     "name": "stderr",
     "output_type": "stream",
     "text": [
      "Rolling DNS Forecast:  15%|█▍        | 112/756 [09:26<54:28,  5.08s/it]"
     ]
    },
    {
     "name": "stdout",
     "output_type": "stream",
     "text": [
      "[DEBUG] Eigenvalues: [0.96991486 1.00105105 1.00105105]\n"
     ]
    },
    {
     "name": "stderr",
     "output_type": "stream",
     "text": [
      "Rolling DNS Forecast:  15%|█▍        | 113/756 [09:31<54:15,  5.06s/it]"
     ]
    },
    {
     "name": "stdout",
     "output_type": "stream",
     "text": [
      "[DEBUG] Eigenvalues: [0.96996587 1.00091042 1.00091042]\n"
     ]
    },
    {
     "name": "stderr",
     "output_type": "stream",
     "text": [
      "Rolling DNS Forecast:  15%|█▌        | 114/756 [09:36<54:14,  5.07s/it]"
     ]
    },
    {
     "name": "stdout",
     "output_type": "stream",
     "text": [
      "[DEBUG] Eigenvalues: [0.96998785 1.00090615 1.00090615]\n"
     ]
    },
    {
     "name": "stderr",
     "output_type": "stream",
     "text": [
      "Rolling DNS Forecast:  15%|█▌        | 115/756 [09:42<54:06,  5.06s/it]"
     ]
    },
    {
     "name": "stdout",
     "output_type": "stream",
     "text": [
      "[DEBUG] Eigenvalues: [0.97007889 1.00127155 1.00127155]\n"
     ]
    },
    {
     "name": "stderr",
     "output_type": "stream",
     "text": [
      "Rolling DNS Forecast:  15%|█▌        | 116/756 [09:47<54:01,  5.06s/it]"
     ]
    },
    {
     "name": "stdout",
     "output_type": "stream",
     "text": [
      "[DEBUG] Eigenvalues: [0.97017857 1.00123688 1.00123688]\n"
     ]
    },
    {
     "name": "stderr",
     "output_type": "stream",
     "text": [
      "Rolling DNS Forecast:  15%|█▌        | 117/756 [09:52<53:53,  5.06s/it]"
     ]
    },
    {
     "name": "stdout",
     "output_type": "stream",
     "text": [
      "[DEBUG] Eigenvalues: [0.96993184 1.00109549 1.00109549]\n"
     ]
    },
    {
     "name": "stderr",
     "output_type": "stream",
     "text": [
      "Rolling DNS Forecast:  16%|█▌        | 118/756 [09:57<53:45,  5.06s/it]"
     ]
    },
    {
     "name": "stdout",
     "output_type": "stream",
     "text": [
      "[DEBUG] Eigenvalues: [0.97007348 1.00100124 1.00100124]\n"
     ]
    },
    {
     "name": "stderr",
     "output_type": "stream",
     "text": [
      "Rolling DNS Forecast:  16%|█▌        | 119/756 [10:02<53:37,  5.05s/it]"
     ]
    },
    {
     "name": "stdout",
     "output_type": "stream",
     "text": [
      "[DEBUG] Eigenvalues: [0.96995373 1.00089695 1.00089695]\n"
     ]
    },
    {
     "name": "stderr",
     "output_type": "stream",
     "text": [
      "Rolling DNS Forecast:  16%|█▌        | 120/756 [10:07<53:34,  5.05s/it]"
     ]
    },
    {
     "name": "stdout",
     "output_type": "stream",
     "text": [
      "[DEBUG] Eigenvalues: [0.97023466 1.00104461 1.00104461]\n"
     ]
    },
    {
     "name": "stderr",
     "output_type": "stream",
     "text": [
      "Rolling DNS Forecast:  16%|█▌        | 121/756 [10:12<53:28,  5.05s/it]"
     ]
    },
    {
     "name": "stdout",
     "output_type": "stream",
     "text": [
      "[DEBUG] Eigenvalues: [0.97054186 1.00090286 1.00090286]\n"
     ]
    },
    {
     "name": "stderr",
     "output_type": "stream",
     "text": [
      "Rolling DNS Forecast:  16%|█▌        | 122/756 [10:17<53:20,  5.05s/it]"
     ]
    },
    {
     "name": "stdout",
     "output_type": "stream",
     "text": [
      "[DEBUG] Eigenvalues: [0.97045985 1.00085409 1.00085409]\n"
     ]
    },
    {
     "name": "stderr",
     "output_type": "stream",
     "text": [
      "Rolling DNS Forecast:  16%|█▋        | 123/756 [10:22<53:18,  5.05s/it]"
     ]
    },
    {
     "name": "stdout",
     "output_type": "stream",
     "text": [
      "[DEBUG] Eigenvalues: [0.97053618 1.00082855 1.00082855]\n"
     ]
    },
    {
     "name": "stderr",
     "output_type": "stream",
     "text": [
      "Rolling DNS Forecast:  16%|█▋        | 124/756 [10:27<53:20,  5.06s/it]"
     ]
    },
    {
     "name": "stdout",
     "output_type": "stream",
     "text": [
      "[DEBUG] Eigenvalues: [0.97060203 1.00077291 1.00077291]\n"
     ]
    },
    {
     "name": "stderr",
     "output_type": "stream",
     "text": [
      "Rolling DNS Forecast:  17%|█▋        | 125/756 [10:32<53:17,  5.07s/it]"
     ]
    },
    {
     "name": "stdout",
     "output_type": "stream",
     "text": [
      "[DEBUG] Eigenvalues: [0.97045057 1.00092626 1.00092626]\n"
     ]
    },
    {
     "name": "stderr",
     "output_type": "stream",
     "text": [
      "Rolling DNS Forecast:  17%|█▋        | 126/756 [10:37<53:09,  5.06s/it]"
     ]
    },
    {
     "name": "stdout",
     "output_type": "stream",
     "text": [
      "[DEBUG] Eigenvalues: [0.97034788 1.00095999 1.00095999]\n"
     ]
    },
    {
     "name": "stderr",
     "output_type": "stream",
     "text": [
      "Rolling DNS Forecast:  17%|█▋        | 127/756 [10:42<53:07,  5.07s/it]"
     ]
    },
    {
     "name": "stdout",
     "output_type": "stream",
     "text": [
      "[DEBUG] Eigenvalues: [0.97046496 1.00091487 1.00091487]\n"
     ]
    },
    {
     "name": "stderr",
     "output_type": "stream",
     "text": [
      "Rolling DNS Forecast:  17%|█▋        | 128/756 [10:47<53:06,  5.07s/it]"
     ]
    },
    {
     "name": "stdout",
     "output_type": "stream",
     "text": [
      "[DEBUG] Eigenvalues: [0.97054489 1.00082858 1.00082858]\n"
     ]
    },
    {
     "name": "stderr",
     "output_type": "stream",
     "text": [
      "Rolling DNS Forecast:  17%|█▋        | 129/756 [10:52<53:00,  5.07s/it]"
     ]
    },
    {
     "name": "stdout",
     "output_type": "stream",
     "text": [
      "[DEBUG] Eigenvalues: [0.97060081 1.00077563 1.00077563]\n"
     ]
    },
    {
     "name": "stderr",
     "output_type": "stream",
     "text": [
      "Rolling DNS Forecast:  17%|█▋        | 130/756 [10:57<52:57,  5.08s/it]"
     ]
    },
    {
     "name": "stdout",
     "output_type": "stream",
     "text": [
      "[DEBUG] Eigenvalues: [0.97060953 1.00072314 1.00072314]\n"
     ]
    },
    {
     "name": "stderr",
     "output_type": "stream",
     "text": [
      "Rolling DNS Forecast:  17%|█▋        | 131/756 [11:03<52:53,  5.08s/it]"
     ]
    },
    {
     "name": "stdout",
     "output_type": "stream",
     "text": [
      "[DEBUG] Eigenvalues: [0.97090181 1.00106851 1.00106851]\n"
     ]
    },
    {
     "name": "stderr",
     "output_type": "stream",
     "text": [
      "Rolling DNS Forecast:  17%|█▋        | 132/756 [11:08<52:48,  5.08s/it]"
     ]
    },
    {
     "name": "stdout",
     "output_type": "stream",
     "text": [
      "[DEBUG] Eigenvalues: [0.97098707 1.0011235  1.0011235 ]\n"
     ]
    },
    {
     "name": "stderr",
     "output_type": "stream",
     "text": [
      "Rolling DNS Forecast:  18%|█▊        | 133/756 [11:13<52:39,  5.07s/it]"
     ]
    },
    {
     "name": "stdout",
     "output_type": "stream",
     "text": [
      "[DEBUG] Eigenvalues: [0.97097594 1.00133783 1.00133783]\n"
     ]
    },
    {
     "name": "stderr",
     "output_type": "stream",
     "text": [
      "Rolling DNS Forecast:  18%|█▊        | 134/756 [11:18<52:32,  5.07s/it]"
     ]
    },
    {
     "name": "stdout",
     "output_type": "stream",
     "text": [
      "[DEBUG] Eigenvalues: [0.9710429  1.00134371 1.00134371]\n"
     ]
    },
    {
     "name": "stderr",
     "output_type": "stream",
     "text": [
      "Rolling DNS Forecast:  18%|█▊        | 135/756 [11:23<52:22,  5.06s/it]"
     ]
    },
    {
     "name": "stdout",
     "output_type": "stream",
     "text": [
      "[DEBUG] Eigenvalues: [0.97126739 1.00164017 1.00164017]\n"
     ]
    },
    {
     "name": "stderr",
     "output_type": "stream",
     "text": [
      "Rolling DNS Forecast:  18%|█▊        | 136/756 [11:28<52:15,  5.06s/it]"
     ]
    },
    {
     "name": "stdout",
     "output_type": "stream",
     "text": [
      "[DEBUG] Eigenvalues: [0.97143751 1.00181972 1.00181972]\n"
     ]
    },
    {
     "name": "stderr",
     "output_type": "stream",
     "text": [
      "Rolling DNS Forecast:  18%|█▊        | 137/756 [11:33<52:11,  5.06s/it]"
     ]
    },
    {
     "name": "stdout",
     "output_type": "stream",
     "text": [
      "[DEBUG] Eigenvalues: [0.97171281 1.00184774 1.00184774]\n"
     ]
    },
    {
     "name": "stderr",
     "output_type": "stream",
     "text": [
      "Rolling DNS Forecast:  18%|█▊        | 138/756 [11:38<52:09,  5.06s/it]"
     ]
    },
    {
     "name": "stdout",
     "output_type": "stream",
     "text": [
      "[DEBUG] Eigenvalues: [0.9720102  1.00179395 1.00179395]\n"
     ]
    },
    {
     "name": "stderr",
     "output_type": "stream",
     "text": [
      "Rolling DNS Forecast:  18%|█▊        | 139/756 [11:43<52:09,  5.07s/it]"
     ]
    },
    {
     "name": "stdout",
     "output_type": "stream",
     "text": [
      "[DEBUG] Eigenvalues: [0.9724137 1.0019126 1.0019126]\n"
     ]
    },
    {
     "name": "stderr",
     "output_type": "stream",
     "text": [
      "Rolling DNS Forecast:  19%|█▊        | 140/756 [11:48<52:06,  5.08s/it]"
     ]
    },
    {
     "name": "stdout",
     "output_type": "stream",
     "text": [
      "[DEBUG] Eigenvalues: [0.97280825 1.00213527 1.00213527]\n"
     ]
    },
    {
     "name": "stderr",
     "output_type": "stream",
     "text": [
      "Rolling DNS Forecast:  19%|█▊        | 141/756 [11:53<51:57,  5.07s/it]"
     ]
    },
    {
     "name": "stdout",
     "output_type": "stream",
     "text": [
      "[DEBUG] Eigenvalues: [0.97227148 1.00205031 1.00205031]\n"
     ]
    },
    {
     "name": "stderr",
     "output_type": "stream",
     "text": [
      "Rolling DNS Forecast:  19%|█▉        | 142/756 [11:58<51:51,  5.07s/it]"
     ]
    },
    {
     "name": "stdout",
     "output_type": "stream",
     "text": [
      "[DEBUG] Eigenvalues: [0.97218172 1.0019635  1.0019635 ]\n"
     ]
    },
    {
     "name": "stderr",
     "output_type": "stream",
     "text": [
      "Rolling DNS Forecast:  19%|█▉        | 143/756 [12:03<51:52,  5.08s/it]"
     ]
    },
    {
     "name": "stdout",
     "output_type": "stream",
     "text": [
      "[DEBUG] Eigenvalues: [0.97220455 1.00211629 1.00211629]\n"
     ]
    },
    {
     "name": "stderr",
     "output_type": "stream",
     "text": [
      "Rolling DNS Forecast:  19%|█▉        | 144/756 [12:08<51:43,  5.07s/it]"
     ]
    },
    {
     "name": "stdout",
     "output_type": "stream",
     "text": [
      "[DEBUG] Eigenvalues: [0.97228815 1.0021523  1.0021523 ]\n"
     ]
    },
    {
     "name": "stderr",
     "output_type": "stream",
     "text": [
      "Rolling DNS Forecast:  19%|█▉        | 145/756 [12:13<51:33,  5.06s/it]"
     ]
    },
    {
     "name": "stdout",
     "output_type": "stream",
     "text": [
      "[DEBUG] Eigenvalues: [0.97240501 1.00218421 1.00218421]\n"
     ]
    },
    {
     "name": "stderr",
     "output_type": "stream",
     "text": [
      "Rolling DNS Forecast:  19%|█▉        | 146/756 [12:19<51:32,  5.07s/it]"
     ]
    },
    {
     "name": "stdout",
     "output_type": "stream",
     "text": [
      "[DEBUG] Eigenvalues: [0.97235192 1.00208957 1.00208957]\n"
     ]
    },
    {
     "name": "stderr",
     "output_type": "stream",
     "text": [
      "Rolling DNS Forecast:  19%|█▉        | 147/756 [12:24<51:30,  5.07s/it]"
     ]
    },
    {
     "name": "stdout",
     "output_type": "stream",
     "text": [
      "[DEBUG] Eigenvalues: [0.97227366 1.00190837 1.00190837]\n"
     ]
    },
    {
     "name": "stderr",
     "output_type": "stream",
     "text": [
      "Rolling DNS Forecast:  20%|█▉        | 148/756 [12:29<51:28,  5.08s/it]"
     ]
    },
    {
     "name": "stdout",
     "output_type": "stream",
     "text": [
      "[DEBUG] Eigenvalues: [0.97241827 1.00180439 1.00180439]\n"
     ]
    },
    {
     "name": "stderr",
     "output_type": "stream",
     "text": [
      "Rolling DNS Forecast:  20%|█▉        | 149/756 [12:34<51:22,  5.08s/it]"
     ]
    },
    {
     "name": "stdout",
     "output_type": "stream",
     "text": [
      "[DEBUG] Eigenvalues: [0.97247745 1.00173121 1.00173121]\n"
     ]
    },
    {
     "name": "stderr",
     "output_type": "stream",
     "text": [
      "Rolling DNS Forecast:  20%|█▉        | 150/756 [12:39<51:18,  5.08s/it]"
     ]
    },
    {
     "name": "stdout",
     "output_type": "stream",
     "text": [
      "[DEBUG] Eigenvalues: [0.97267821 1.00187004 1.00187004]\n"
     ]
    },
    {
     "name": "stderr",
     "output_type": "stream",
     "text": [
      "Rolling DNS Forecast:  20%|█▉        | 151/756 [12:44<51:13,  5.08s/it]"
     ]
    },
    {
     "name": "stdout",
     "output_type": "stream",
     "text": [
      "[DEBUG] Eigenvalues: [0.97263387 1.00185789 1.00185789]\n"
     ]
    },
    {
     "name": "stderr",
     "output_type": "stream",
     "text": [
      "Rolling DNS Forecast:  20%|██        | 152/756 [12:49<51:09,  5.08s/it]"
     ]
    },
    {
     "name": "stdout",
     "output_type": "stream",
     "text": [
      "[DEBUG] Eigenvalues: [0.97269972 1.00190837 1.00190837]\n"
     ]
    },
    {
     "name": "stderr",
     "output_type": "stream",
     "text": [
      "Rolling DNS Forecast:  20%|██        | 153/756 [12:54<51:00,  5.08s/it]"
     ]
    },
    {
     "name": "stdout",
     "output_type": "stream",
     "text": [
      "[DEBUG] Eigenvalues: [0.97248453 1.00206444 1.00206444]\n"
     ]
    },
    {
     "name": "stderr",
     "output_type": "stream",
     "text": [
      "Rolling DNS Forecast:  20%|██        | 154/756 [12:59<50:54,  5.07s/it]"
     ]
    },
    {
     "name": "stdout",
     "output_type": "stream",
     "text": [
      "[DEBUG] Eigenvalues: [0.97247103 1.00206933 1.00206933]\n"
     ]
    },
    {
     "name": "stderr",
     "output_type": "stream",
     "text": [
      "Rolling DNS Forecast:  21%|██        | 155/756 [13:04<50:45,  5.07s/it]"
     ]
    },
    {
     "name": "stdout",
     "output_type": "stream",
     "text": [
      "[DEBUG] Eigenvalues: [0.97248692 1.00213931 1.00213931]\n"
     ]
    },
    {
     "name": "stderr",
     "output_type": "stream",
     "text": [
      "Rolling DNS Forecast:  21%|██        | 156/756 [13:09<50:36,  5.06s/it]"
     ]
    },
    {
     "name": "stdout",
     "output_type": "stream",
     "text": [
      "[DEBUG] Eigenvalues: [0.97241338 1.00205049 1.00205049]\n"
     ]
    },
    {
     "name": "stderr",
     "output_type": "stream",
     "text": [
      "Rolling DNS Forecast:  21%|██        | 157/756 [13:14<50:30,  5.06s/it]"
     ]
    },
    {
     "name": "stdout",
     "output_type": "stream",
     "text": [
      "[DEBUG] Eigenvalues: [0.97228513 1.00197918 1.00197918]\n"
     ]
    },
    {
     "name": "stderr",
     "output_type": "stream",
     "text": [
      "Rolling DNS Forecast:  21%|██        | 158/756 [13:19<50:24,  5.06s/it]"
     ]
    },
    {
     "name": "stdout",
     "output_type": "stream",
     "text": [
      "[DEBUG] Eigenvalues: [0.97228365 1.00183168 1.00183168]\n"
     ]
    },
    {
     "name": "stderr",
     "output_type": "stream",
     "text": [
      "Rolling DNS Forecast:  21%|██        | 159/756 [13:24<50:20,  5.06s/it]"
     ]
    },
    {
     "name": "stdout",
     "output_type": "stream",
     "text": [
      "[DEBUG] Eigenvalues: [0.97227312 1.00170375 1.00170375]\n"
     ]
    },
    {
     "name": "stderr",
     "output_type": "stream",
     "text": [
      "Rolling DNS Forecast:  21%|██        | 160/756 [13:29<50:13,  5.06s/it]"
     ]
    },
    {
     "name": "stdout",
     "output_type": "stream",
     "text": [
      "[DEBUG] Eigenvalues: [0.97225329 1.00182351 1.00182351]\n"
     ]
    },
    {
     "name": "stderr",
     "output_type": "stream",
     "text": [
      "Rolling DNS Forecast:  21%|██▏       | 161/756 [13:35<50:07,  5.05s/it]"
     ]
    },
    {
     "name": "stdout",
     "output_type": "stream",
     "text": [
      "[DEBUG] Eigenvalues: [0.97232522 1.00180942 1.00180942]\n"
     ]
    },
    {
     "name": "stderr",
     "output_type": "stream",
     "text": [
      "Rolling DNS Forecast:  21%|██▏       | 162/756 [13:40<49:59,  5.05s/it]"
     ]
    },
    {
     "name": "stdout",
     "output_type": "stream",
     "text": [
      "[DEBUG] Eigenvalues: [0.97232825 1.00178523 1.00178523]\n"
     ]
    },
    {
     "name": "stderr",
     "output_type": "stream",
     "text": [
      "Rolling DNS Forecast:  22%|██▏       | 163/756 [13:45<49:51,  5.05s/it]"
     ]
    },
    {
     "name": "stdout",
     "output_type": "stream",
     "text": [
      "[DEBUG] Eigenvalues: [0.97230016 1.00174596 1.00174596]\n"
     ]
    },
    {
     "name": "stderr",
     "output_type": "stream",
     "text": [
      "Rolling DNS Forecast:  22%|██▏       | 164/756 [13:50<49:53,  5.06s/it]"
     ]
    },
    {
     "name": "stdout",
     "output_type": "stream",
     "text": [
      "[DEBUG] Eigenvalues: [0.97229038 1.00174454 1.00174454]\n"
     ]
    },
    {
     "name": "stderr",
     "output_type": "stream",
     "text": [
      "Rolling DNS Forecast:  22%|██▏       | 165/756 [13:55<49:51,  5.06s/it]"
     ]
    },
    {
     "name": "stdout",
     "output_type": "stream",
     "text": [
      "[DEBUG] Eigenvalues: [0.97236441 1.00164305 1.00164305]\n"
     ]
    },
    {
     "name": "stderr",
     "output_type": "stream",
     "text": [
      "Rolling DNS Forecast:  22%|██▏       | 166/756 [14:00<49:50,  5.07s/it]"
     ]
    },
    {
     "name": "stdout",
     "output_type": "stream",
     "text": [
      "[DEBUG] Eigenvalues: [0.97232558 1.00154845 1.00154845]\n"
     ]
    },
    {
     "name": "stderr",
     "output_type": "stream",
     "text": [
      "Rolling DNS Forecast:  22%|██▏       | 167/756 [14:05<49:47,  5.07s/it]"
     ]
    },
    {
     "name": "stdout",
     "output_type": "stream",
     "text": [
      "[DEBUG] Eigenvalues: [0.97231778 1.00167066 1.00167066]\n"
     ]
    },
    {
     "name": "stderr",
     "output_type": "stream",
     "text": [
      "Rolling DNS Forecast:  22%|██▏       | 168/756 [14:10<49:44,  5.08s/it]"
     ]
    },
    {
     "name": "stdout",
     "output_type": "stream",
     "text": [
      "[DEBUG] Eigenvalues: [0.97238177 1.00164528 1.00164528]\n"
     ]
    },
    {
     "name": "stderr",
     "output_type": "stream",
     "text": [
      "Rolling DNS Forecast:  22%|██▏       | 169/756 [14:15<49:36,  5.07s/it]"
     ]
    },
    {
     "name": "stdout",
     "output_type": "stream",
     "text": [
      "[DEBUG] Eigenvalues: [0.97245529 1.00159335 1.00159335]\n"
     ]
    },
    {
     "name": "stderr",
     "output_type": "stream",
     "text": [
      "Rolling DNS Forecast:  22%|██▏       | 170/756 [14:20<49:26,  5.06s/it]"
     ]
    },
    {
     "name": "stdout",
     "output_type": "stream",
     "text": [
      "[DEBUG] Eigenvalues: [0.97253168 1.00135404 1.00135404]\n"
     ]
    },
    {
     "name": "stderr",
     "output_type": "stream",
     "text": [
      "Rolling DNS Forecast:  23%|██▎       | 171/756 [14:25<49:15,  5.05s/it]"
     ]
    },
    {
     "name": "stdout",
     "output_type": "stream",
     "text": [
      "[DEBUG] Eigenvalues: [0.97257245 1.00132124 1.00132124]\n"
     ]
    },
    {
     "name": "stderr",
     "output_type": "stream",
     "text": [
      "Rolling DNS Forecast:  23%|██▎       | 172/756 [14:30<49:01,  5.04s/it]"
     ]
    },
    {
     "name": "stdout",
     "output_type": "stream",
     "text": [
      "[DEBUG] Eigenvalues: [0.97261856 1.00120518 1.00120518]\n"
     ]
    },
    {
     "name": "stderr",
     "output_type": "stream",
     "text": [
      "Rolling DNS Forecast:  23%|██▎       | 173/756 [14:35<48:55,  5.04s/it]"
     ]
    },
    {
     "name": "stdout",
     "output_type": "stream",
     "text": [
      "[DEBUG] Eigenvalues: [0.97263305 1.00102062 1.00102062]\n"
     ]
    },
    {
     "name": "stderr",
     "output_type": "stream",
     "text": [
      "Rolling DNS Forecast:  23%|██▎       | 174/756 [14:40<48:50,  5.04s/it]"
     ]
    },
    {
     "name": "stdout",
     "output_type": "stream",
     "text": [
      "[DEBUG] Eigenvalues: [0.97237437 1.0010606  1.0010606 ]\n"
     ]
    },
    {
     "name": "stderr",
     "output_type": "stream",
     "text": [
      "Rolling DNS Forecast:  23%|██▎       | 175/756 [14:45<48:42,  5.03s/it]"
     ]
    },
    {
     "name": "stdout",
     "output_type": "stream",
     "text": [
      "[DEBUG] Eigenvalues: [0.9722699 1.0011842 1.0011842]\n"
     ]
    },
    {
     "name": "stderr",
     "output_type": "stream",
     "text": [
      "Rolling DNS Forecast:  23%|██▎       | 176/756 [14:50<48:35,  5.03s/it]"
     ]
    },
    {
     "name": "stdout",
     "output_type": "stream",
     "text": [
      "[DEBUG] Eigenvalues: [0.97219428 1.00126476 1.00126476]\n"
     ]
    },
    {
     "name": "stderr",
     "output_type": "stream",
     "text": [
      "Rolling DNS Forecast:  23%|██▎       | 177/756 [14:55<48:29,  5.02s/it]"
     ]
    },
    {
     "name": "stdout",
     "output_type": "stream",
     "text": [
      "[DEBUG] Eigenvalues: [0.97212573 1.00123383 1.00123383]\n"
     ]
    },
    {
     "name": "stderr",
     "output_type": "stream",
     "text": [
      "Rolling DNS Forecast:  24%|██▎       | 178/756 [15:00<48:25,  5.03s/it]"
     ]
    },
    {
     "name": "stdout",
     "output_type": "stream",
     "text": [
      "[DEBUG] Eigenvalues: [0.97216683 1.00113154 1.00113154]\n"
     ]
    },
    {
     "name": "stderr",
     "output_type": "stream",
     "text": [
      "Rolling DNS Forecast:  24%|██▎       | 179/756 [15:05<48:21,  5.03s/it]"
     ]
    },
    {
     "name": "stdout",
     "output_type": "stream",
     "text": [
      "[DEBUG] Eigenvalues: [0.97188521 1.00116289 1.00116289]\n"
     ]
    },
    {
     "name": "stderr",
     "output_type": "stream",
     "text": [
      "Rolling DNS Forecast:  24%|██▍       | 180/756 [15:10<48:21,  5.04s/it]"
     ]
    },
    {
     "name": "stdout",
     "output_type": "stream",
     "text": [
      "[DEBUG] Eigenvalues: [0.97159377 1.00117931 1.00117931]\n"
     ]
    },
    {
     "name": "stderr",
     "output_type": "stream",
     "text": [
      "Rolling DNS Forecast:  24%|██▍       | 181/756 [15:15<48:22,  5.05s/it]"
     ]
    },
    {
     "name": "stdout",
     "output_type": "stream",
     "text": [
      "[DEBUG] Eigenvalues: [0.97149005 1.00111973 1.00111973]\n"
     ]
    },
    {
     "name": "stderr",
     "output_type": "stream",
     "text": [
      "Rolling DNS Forecast:  24%|██▍       | 182/756 [15:21<48:18,  5.05s/it]"
     ]
    },
    {
     "name": "stdout",
     "output_type": "stream",
     "text": [
      "[DEBUG] Eigenvalues: [0.97137939 1.00101841 1.00101841]\n"
     ]
    },
    {
     "name": "stderr",
     "output_type": "stream",
     "text": [
      "Rolling DNS Forecast:  24%|██▍       | 183/756 [15:26<48:12,  5.05s/it]"
     ]
    },
    {
     "name": "stdout",
     "output_type": "stream",
     "text": [
      "[DEBUG] Eigenvalues: [0.97130708 1.00093655 1.00093655]\n"
     ]
    },
    {
     "name": "stderr",
     "output_type": "stream",
     "text": [
      "Rolling DNS Forecast:  24%|██▍       | 184/756 [15:31<48:03,  5.04s/it]"
     ]
    },
    {
     "name": "stdout",
     "output_type": "stream",
     "text": [
      "[DEBUG] Eigenvalues: [0.97123039 1.0008054  1.0008054 ]\n"
     ]
    },
    {
     "name": "stderr",
     "output_type": "stream",
     "text": [
      "Rolling DNS Forecast:  24%|██▍       | 185/756 [15:36<47:57,  5.04s/it]"
     ]
    },
    {
     "name": "stdout",
     "output_type": "stream",
     "text": [
      "[DEBUG] Eigenvalues: [0.97127729 1.00077302 1.00077302]\n"
     ]
    },
    {
     "name": "stderr",
     "output_type": "stream",
     "text": [
      "Rolling DNS Forecast:  25%|██▍       | 186/756 [15:41<47:52,  5.04s/it]"
     ]
    },
    {
     "name": "stdout",
     "output_type": "stream",
     "text": [
      "[DEBUG] Eigenvalues: [0.97139227 1.00100709 1.00100709]\n"
     ]
    },
    {
     "name": "stderr",
     "output_type": "stream",
     "text": [
      "Rolling DNS Forecast:  25%|██▍       | 187/756 [15:46<47:49,  5.04s/it]"
     ]
    },
    {
     "name": "stdout",
     "output_type": "stream",
     "text": [
      "[DEBUG] Eigenvalues: [0.9715031  1.00102448 1.00102448]\n"
     ]
    },
    {
     "name": "stderr",
     "output_type": "stream",
     "text": [
      "Rolling DNS Forecast:  25%|██▍       | 188/756 [15:51<47:44,  5.04s/it]"
     ]
    },
    {
     "name": "stdout",
     "output_type": "stream",
     "text": [
      "[DEBUG] Eigenvalues: [0.97139118 1.00094543 1.00094543]\n"
     ]
    },
    {
     "name": "stderr",
     "output_type": "stream",
     "text": [
      "Rolling DNS Forecast:  25%|██▌       | 189/756 [15:56<47:42,  5.05s/it]"
     ]
    },
    {
     "name": "stdout",
     "output_type": "stream",
     "text": [
      "[DEBUG] Eigenvalues: [0.97125353 1.00080138 1.00080138]\n"
     ]
    },
    {
     "name": "stderr",
     "output_type": "stream",
     "text": [
      "Rolling DNS Forecast:  25%|██▌       | 190/756 [16:01<47:36,  5.05s/it]"
     ]
    },
    {
     "name": "stdout",
     "output_type": "stream",
     "text": [
      "[DEBUG] Eigenvalues: [0.97123362 1.00071495 1.00071495]\n"
     ]
    },
    {
     "name": "stderr",
     "output_type": "stream",
     "text": [
      "Rolling DNS Forecast:  25%|██▌       | 191/756 [16:06<47:35,  5.05s/it]"
     ]
    },
    {
     "name": "stdout",
     "output_type": "stream",
     "text": [
      "[DEBUG] Eigenvalues: [0.97119923 1.00088126 1.00088126]\n"
     ]
    },
    {
     "name": "stderr",
     "output_type": "stream",
     "text": [
      "Rolling DNS Forecast:  25%|██▌       | 192/756 [16:11<47:28,  5.05s/it]"
     ]
    },
    {
     "name": "stdout",
     "output_type": "stream",
     "text": [
      "[DEBUG] Eigenvalues: [0.97115118 1.00097027 1.00097027]\n"
     ]
    },
    {
     "name": "stderr",
     "output_type": "stream",
     "text": [
      "Rolling DNS Forecast:  26%|██▌       | 193/756 [16:16<47:26,  5.06s/it]"
     ]
    },
    {
     "name": "stdout",
     "output_type": "stream",
     "text": [
      "[DEBUG] Eigenvalues: [0.97111159 1.001051   1.001051  ]\n"
     ]
    },
    {
     "name": "stderr",
     "output_type": "stream",
     "text": [
      "Rolling DNS Forecast:  26%|██▌       | 194/756 [16:21<47:22,  5.06s/it]"
     ]
    },
    {
     "name": "stdout",
     "output_type": "stream",
     "text": [
      "[DEBUG] Eigenvalues: [0.97096085 1.00135943 1.00135943]\n"
     ]
    },
    {
     "name": "stderr",
     "output_type": "stream",
     "text": [
      "Rolling DNS Forecast:  26%|██▌       | 195/756 [16:26<47:15,  5.05s/it]"
     ]
    },
    {
     "name": "stdout",
     "output_type": "stream",
     "text": [
      "[DEBUG] Eigenvalues: [0.97089349 1.00153119 1.00153119]\n"
     ]
    },
    {
     "name": "stderr",
     "output_type": "stream",
     "text": [
      "Rolling DNS Forecast:  26%|██▌       | 196/756 [16:31<47:08,  5.05s/it]"
     ]
    },
    {
     "name": "stdout",
     "output_type": "stream",
     "text": [
      "[DEBUG] Eigenvalues: [0.97061953 1.00164249 1.00164249]\n"
     ]
    },
    {
     "name": "stderr",
     "output_type": "stream",
     "text": [
      "Rolling DNS Forecast:  26%|██▌       | 197/756 [16:36<47:02,  5.05s/it]"
     ]
    },
    {
     "name": "stdout",
     "output_type": "stream",
     "text": [
      "[DEBUG] Eigenvalues: [0.97058024 1.00162364 1.00162364]\n"
     ]
    },
    {
     "name": "stderr",
     "output_type": "stream",
     "text": [
      "Rolling DNS Forecast:  26%|██▌       | 198/756 [16:41<46:56,  5.05s/it]"
     ]
    },
    {
     "name": "stdout",
     "output_type": "stream",
     "text": [
      "[DEBUG] Eigenvalues: [0.97046869 1.00155414 1.00155414]\n"
     ]
    },
    {
     "name": "stderr",
     "output_type": "stream",
     "text": [
      "Rolling DNS Forecast:  26%|██▋       | 199/756 [16:46<46:52,  5.05s/it]"
     ]
    },
    {
     "name": "stdout",
     "output_type": "stream",
     "text": [
      "[DEBUG] Eigenvalues: [0.97030903 1.00137504 1.00137504]\n"
     ]
    },
    {
     "name": "stderr",
     "output_type": "stream",
     "text": [
      "Rolling DNS Forecast:  26%|██▋       | 200/756 [16:51<46:44,  5.04s/it]"
     ]
    },
    {
     "name": "stdout",
     "output_type": "stream",
     "text": [
      "[DEBUG] Eigenvalues: [0.97015068 1.00126421 1.00126421]\n"
     ]
    },
    {
     "name": "stderr",
     "output_type": "stream",
     "text": [
      "Rolling DNS Forecast:  27%|██▋       | 201/756 [16:56<46:36,  5.04s/it]"
     ]
    },
    {
     "name": "stdout",
     "output_type": "stream",
     "text": [
      "[DEBUG] Eigenvalues: [0.96990194 1.00143263 1.00143263]\n"
     ]
    },
    {
     "name": "stderr",
     "output_type": "stream",
     "text": [
      "Rolling DNS Forecast:  27%|██▋       | 202/756 [17:01<46:28,  5.03s/it]"
     ]
    },
    {
     "name": "stdout",
     "output_type": "stream",
     "text": [
      "[DEBUG] Eigenvalues: [0.97002589 1.00152457 1.00152457]\n"
     ]
    },
    {
     "name": "stderr",
     "output_type": "stream",
     "text": [
      "Rolling DNS Forecast:  27%|██▋       | 203/756 [17:06<46:28,  5.04s/it]"
     ]
    },
    {
     "name": "stdout",
     "output_type": "stream",
     "text": [
      "[DEBUG] Eigenvalues: [0.9699857  1.00148797 1.00148797]\n"
     ]
    },
    {
     "name": "stderr",
     "output_type": "stream",
     "text": [
      "Rolling DNS Forecast:  27%|██▋       | 204/756 [17:12<46:28,  5.05s/it]"
     ]
    },
    {
     "name": "stdout",
     "output_type": "stream",
     "text": [
      "[DEBUG] Eigenvalues: [0.96970621 1.00142639 1.00142639]\n"
     ]
    },
    {
     "name": "stderr",
     "output_type": "stream",
     "text": [
      "Rolling DNS Forecast:  27%|██▋       | 205/756 [17:17<46:20,  5.05s/it]"
     ]
    },
    {
     "name": "stdout",
     "output_type": "stream",
     "text": [
      "[DEBUG] Eigenvalues: [0.96947458 1.00151755 1.00151755]\n"
     ]
    },
    {
     "name": "stderr",
     "output_type": "stream",
     "text": [
      "Rolling DNS Forecast:  27%|██▋       | 206/756 [17:22<46:16,  5.05s/it]"
     ]
    },
    {
     "name": "stdout",
     "output_type": "stream",
     "text": [
      "[DEBUG] Eigenvalues: [0.96941643 1.00149347 1.00149347]\n"
     ]
    },
    {
     "name": "stderr",
     "output_type": "stream",
     "text": [
      "Rolling DNS Forecast:  27%|██▋       | 207/756 [17:27<46:08,  5.04s/it]"
     ]
    },
    {
     "name": "stdout",
     "output_type": "stream",
     "text": [
      "[DEBUG] Eigenvalues: [0.96924139 1.00169126 1.00169126]\n"
     ]
    },
    {
     "name": "stderr",
     "output_type": "stream",
     "text": [
      "Rolling DNS Forecast:  28%|██▊       | 208/756 [17:32<46:05,  5.05s/it]"
     ]
    },
    {
     "name": "stdout",
     "output_type": "stream",
     "text": [
      "[DEBUG] Eigenvalues: [0.96879177 1.00164985 1.00164985]\n"
     ]
    },
    {
     "name": "stderr",
     "output_type": "stream",
     "text": [
      "Rolling DNS Forecast:  28%|██▊       | 209/756 [17:37<46:01,  5.05s/it]"
     ]
    },
    {
     "name": "stdout",
     "output_type": "stream",
     "text": [
      "[DEBUG] Eigenvalues: [0.96755828 1.00168687 1.00168687]\n"
     ]
    },
    {
     "name": "stderr",
     "output_type": "stream",
     "text": [
      "Rolling DNS Forecast:  28%|██▊       | 210/756 [17:42<45:56,  5.05s/it]"
     ]
    },
    {
     "name": "stdout",
     "output_type": "stream",
     "text": [
      "[DEBUG] Eigenvalues: [0.96642227 1.00150642 1.00150642]\n"
     ]
    },
    {
     "name": "stderr",
     "output_type": "stream",
     "text": [
      "Rolling DNS Forecast:  28%|██▊       | 211/756 [17:47<45:53,  5.05s/it]"
     ]
    },
    {
     "name": "stdout",
     "output_type": "stream",
     "text": [
      "[DEBUG] Eigenvalues: [0.96723503 1.00149287 1.00149287]\n"
     ]
    },
    {
     "name": "stderr",
     "output_type": "stream",
     "text": [
      "Rolling DNS Forecast:  28%|██▊       | 212/756 [17:52<45:48,  5.05s/it]"
     ]
    },
    {
     "name": "stdout",
     "output_type": "stream",
     "text": [
      "[DEBUG] Eigenvalues: [0.967648   1.00157493 1.00157493]\n"
     ]
    },
    {
     "name": "stderr",
     "output_type": "stream",
     "text": [
      "Rolling DNS Forecast:  28%|██▊       | 213/756 [17:57<45:42,  5.05s/it]"
     ]
    },
    {
     "name": "stdout",
     "output_type": "stream",
     "text": [
      "[DEBUG] Eigenvalues: [0.96784861 1.00154806 1.00154806]\n"
     ]
    },
    {
     "name": "stderr",
     "output_type": "stream",
     "text": [
      "Rolling DNS Forecast:  28%|██▊       | 214/756 [18:02<45:37,  5.05s/it]"
     ]
    },
    {
     "name": "stdout",
     "output_type": "stream",
     "text": [
      "[DEBUG] Eigenvalues: [0.96810295 1.00126273 1.00126273]\n"
     ]
    },
    {
     "name": "stderr",
     "output_type": "stream",
     "text": [
      "Rolling DNS Forecast:  28%|██▊       | 215/756 [18:07<45:31,  5.05s/it]"
     ]
    },
    {
     "name": "stdout",
     "output_type": "stream",
     "text": [
      "[DEBUG] Eigenvalues: [0.9677727  1.00098847 1.00098847]\n"
     ]
    },
    {
     "name": "stderr",
     "output_type": "stream",
     "text": [
      "Rolling DNS Forecast:  29%|██▊       | 216/756 [18:12<45:24,  5.05s/it]"
     ]
    },
    {
     "name": "stdout",
     "output_type": "stream",
     "text": [
      "[DEBUG] Eigenvalues: [0.96921856 1.00091006 1.00091006]\n"
     ]
    },
    {
     "name": "stderr",
     "output_type": "stream",
     "text": [
      "Rolling DNS Forecast:  29%|██▊       | 217/756 [18:17<45:17,  5.04s/it]"
     ]
    },
    {
     "name": "stdout",
     "output_type": "stream",
     "text": [
      "[DEBUG] Eigenvalues: [0.96956207 1.00086498 1.00086498]\n"
     ]
    },
    {
     "name": "stderr",
     "output_type": "stream",
     "text": [
      "Rolling DNS Forecast:  29%|██▉       | 218/756 [18:22<45:15,  5.05s/it]"
     ]
    },
    {
     "name": "stdout",
     "output_type": "stream",
     "text": [
      "[DEBUG] Eigenvalues: [0.9694877  1.00087254 1.00087254]\n"
     ]
    },
    {
     "name": "stderr",
     "output_type": "stream",
     "text": [
      "Rolling DNS Forecast:  29%|██▉       | 219/756 [18:27<45:09,  5.04s/it]"
     ]
    },
    {
     "name": "stdout",
     "output_type": "stream",
     "text": [
      "[DEBUG] Eigenvalues: [0.96891461 1.00084392 1.00084392]\n"
     ]
    },
    {
     "name": "stderr",
     "output_type": "stream",
     "text": [
      "Rolling DNS Forecast:  29%|██▉       | 220/756 [18:32<45:01,  5.04s/it]"
     ]
    },
    {
     "name": "stdout",
     "output_type": "stream",
     "text": [
      "[DEBUG] Eigenvalues: [0.96824038 1.00084915 1.00084915]\n"
     ]
    },
    {
     "name": "stderr",
     "output_type": "stream",
     "text": [
      "Rolling DNS Forecast:  29%|██▉       | 221/756 [18:37<44:54,  5.04s/it]"
     ]
    },
    {
     "name": "stdout",
     "output_type": "stream",
     "text": [
      "[DEBUG] Eigenvalues: [0.96806203 1.00071392 1.00071392]\n"
     ]
    },
    {
     "name": "stderr",
     "output_type": "stream",
     "text": [
      "Rolling DNS Forecast:  29%|██▉       | 222/756 [18:42<44:46,  5.03s/it]"
     ]
    },
    {
     "name": "stdout",
     "output_type": "stream",
     "text": [
      "[DEBUG] Eigenvalues: [0.96821039 1.00062635 1.00062635]\n"
     ]
    },
    {
     "name": "stderr",
     "output_type": "stream",
     "text": [
      "Rolling DNS Forecast:  29%|██▉       | 223/756 [18:47<44:45,  5.04s/it]"
     ]
    },
    {
     "name": "stdout",
     "output_type": "stream",
     "text": [
      "[DEBUG] Eigenvalues: [0.96802008 1.0006824  1.0006824 ]\n"
     ]
    },
    {
     "name": "stderr",
     "output_type": "stream",
     "text": [
      "Rolling DNS Forecast:  30%|██▉       | 224/756 [18:52<44:40,  5.04s/it]"
     ]
    },
    {
     "name": "stdout",
     "output_type": "stream",
     "text": [
      "[DEBUG] Eigenvalues: [0.96760987 1.00068436 1.00068436]\n"
     ]
    },
    {
     "name": "stderr",
     "output_type": "stream",
     "text": [
      "Rolling DNS Forecast:  30%|██▉       | 225/756 [18:57<44:34,  5.04s/it]"
     ]
    },
    {
     "name": "stdout",
     "output_type": "stream",
     "text": [
      "[DEBUG] Eigenvalues: [0.96735283 1.00065755 1.00065755]\n"
     ]
    },
    {
     "name": "stderr",
     "output_type": "stream",
     "text": [
      "Rolling DNS Forecast:  30%|██▉       | 226/756 [19:03<44:31,  5.04s/it]"
     ]
    },
    {
     "name": "stdout",
     "output_type": "stream",
     "text": [
      "[DEBUG] Eigenvalues: [0.96703754 1.00061852 1.00061852]\n"
     ]
    },
    {
     "name": "stderr",
     "output_type": "stream",
     "text": [
      "Rolling DNS Forecast:  30%|███       | 227/756 [19:08<44:23,  5.04s/it]"
     ]
    },
    {
     "name": "stdout",
     "output_type": "stream",
     "text": [
      "[DEBUG] Eigenvalues: [0.96622445 1.00060866 1.00060866]\n"
     ]
    },
    {
     "name": "stderr",
     "output_type": "stream",
     "text": [
      "Rolling DNS Forecast:  30%|███       | 228/756 [19:13<44:20,  5.04s/it]"
     ]
    },
    {
     "name": "stdout",
     "output_type": "stream",
     "text": [
      "[DEBUG] Eigenvalues: [0.96603739 1.00058669 1.00058669]\n"
     ]
    },
    {
     "name": "stderr",
     "output_type": "stream",
     "text": [
      "Rolling DNS Forecast:  30%|███       | 229/756 [19:18<44:18,  5.04s/it]"
     ]
    },
    {
     "name": "stdout",
     "output_type": "stream",
     "text": [
      "[DEBUG] Eigenvalues: [0.96577051 1.00049352 1.00049352]\n"
     ]
    },
    {
     "name": "stderr",
     "output_type": "stream",
     "text": [
      "Rolling DNS Forecast:  30%|███       | 230/756 [19:23<44:15,  5.05s/it]"
     ]
    },
    {
     "name": "stdout",
     "output_type": "stream",
     "text": [
      "[DEBUG] Eigenvalues: [0.96582058 1.00055273 1.00055273]\n",
      "[DEBUG] Eigenvalues: [0.96617103 1.00051622 1.00051622]\n"
     ]
    },
    {
     "name": "stderr",
     "output_type": "stream",
     "text": [
      "Rolling DNS Forecast:  31%|███       | 232/756 [19:33<44:11,  5.06s/it]"
     ]
    },
    {
     "name": "stdout",
     "output_type": "stream",
     "text": [
      "[DEBUG] Eigenvalues: [0.96624447 1.00045377 1.00045377]\n"
     ]
    },
    {
     "name": "stderr",
     "output_type": "stream",
     "text": [
      "Rolling DNS Forecast:  31%|███       | 233/756 [19:38<44:07,  5.06s/it]"
     ]
    },
    {
     "name": "stdout",
     "output_type": "stream",
     "text": [
      "[DEBUG] Eigenvalues: [0.96605819 1.00041365 1.00041365]\n"
     ]
    },
    {
     "name": "stderr",
     "output_type": "stream",
     "text": [
      "Rolling DNS Forecast:  31%|███       | 234/756 [19:43<44:01,  5.06s/it]"
     ]
    },
    {
     "name": "stdout",
     "output_type": "stream",
     "text": [
      "[DEBUG] Eigenvalues: [0.96580598 1.00036899 1.00036899]\n"
     ]
    },
    {
     "name": "stderr",
     "output_type": "stream",
     "text": [
      "Rolling DNS Forecast:  31%|███       | 235/756 [19:48<43:59,  5.07s/it]"
     ]
    },
    {
     "name": "stdout",
     "output_type": "stream",
     "text": [
      "[DEBUG] Eigenvalues: [0.9657145  1.00037749 1.00037749]\n"
     ]
    },
    {
     "name": "stderr",
     "output_type": "stream",
     "text": [
      "Rolling DNS Forecast:  31%|███       | 236/756 [19:53<43:56,  5.07s/it]"
     ]
    },
    {
     "name": "stdout",
     "output_type": "stream",
     "text": [
      "[DEBUG] Eigenvalues: [0.96557148 1.00044372 1.00044372]\n"
     ]
    },
    {
     "name": "stderr",
     "output_type": "stream",
     "text": [
      "Rolling DNS Forecast:  31%|███▏      | 237/756 [19:58<43:52,  5.07s/it]"
     ]
    },
    {
     "name": "stdout",
     "output_type": "stream",
     "text": [
      "[DEBUG] Eigenvalues: [0.96481752 1.00045073 1.00045073]\n"
     ]
    },
    {
     "name": "stderr",
     "output_type": "stream",
     "text": [
      "Rolling DNS Forecast:  31%|███▏      | 238/756 [20:03<43:44,  5.07s/it]"
     ]
    },
    {
     "name": "stdout",
     "output_type": "stream",
     "text": [
      "[DEBUG] Eigenvalues: [0.96443169 1.00053036 1.00053036]\n"
     ]
    },
    {
     "name": "stderr",
     "output_type": "stream",
     "text": [
      "Rolling DNS Forecast:  32%|███▏      | 239/756 [20:08<43:37,  5.06s/it]"
     ]
    },
    {
     "name": "stdout",
     "output_type": "stream",
     "text": [
      "[DEBUG] Eigenvalues: [0.96447171 1.00058329 1.00058329]\n"
     ]
    },
    {
     "name": "stderr",
     "output_type": "stream",
     "text": [
      "Rolling DNS Forecast:  32%|███▏      | 240/756 [20:13<43:28,  5.05s/it]"
     ]
    },
    {
     "name": "stdout",
     "output_type": "stream",
     "text": [
      "[DEBUG] Eigenvalues: [0.96383781 1.00071448 1.00071448]\n"
     ]
    },
    {
     "name": "stderr",
     "output_type": "stream",
     "text": [
      "Rolling DNS Forecast:  32%|███▏      | 241/756 [20:18<43:21,  5.05s/it]"
     ]
    },
    {
     "name": "stdout",
     "output_type": "stream",
     "text": [
      "[DEBUG] Eigenvalues: [0.96328144 1.00059576 1.00059576]\n"
     ]
    },
    {
     "name": "stderr",
     "output_type": "stream",
     "text": [
      "Rolling DNS Forecast:  32%|███▏      | 242/756 [20:23<43:11,  5.04s/it]"
     ]
    },
    {
     "name": "stdout",
     "output_type": "stream",
     "text": [
      "[DEBUG] Eigenvalues: [0.96346516 1.00060959 1.00060959]\n"
     ]
    },
    {
     "name": "stderr",
     "output_type": "stream",
     "text": [
      "Rolling DNS Forecast:  32%|███▏      | 243/756 [20:28<42:59,  5.03s/it]"
     ]
    },
    {
     "name": "stdout",
     "output_type": "stream",
     "text": [
      "[DEBUG] Eigenvalues: [0.96293077 1.00033343 1.00033343]\n"
     ]
    },
    {
     "name": "stderr",
     "output_type": "stream",
     "text": [
      "Rolling DNS Forecast:  32%|███▏      | 244/756 [20:33<42:51,  5.02s/it]"
     ]
    },
    {
     "name": "stdout",
     "output_type": "stream",
     "text": [
      "[DEBUG] Eigenvalues: [0.96265144 1.0003374  1.0003374 ]\n"
     ]
    },
    {
     "name": "stderr",
     "output_type": "stream",
     "text": [
      "Rolling DNS Forecast:  32%|███▏      | 245/756 [20:38<42:45,  5.02s/it]"
     ]
    },
    {
     "name": "stdout",
     "output_type": "stream",
     "text": [
      "[DEBUG] Eigenvalues: [0.96282331 1.00061704 1.00061704]\n"
     ]
    },
    {
     "name": "stderr",
     "output_type": "stream",
     "text": [
      "Rolling DNS Forecast:  33%|███▎      | 246/756 [20:43<42:38,  5.02s/it]"
     ]
    },
    {
     "name": "stdout",
     "output_type": "stream",
     "text": [
      "[DEBUG] Eigenvalues: [0.9623751  1.00036225 1.00036225]\n"
     ]
    },
    {
     "name": "stderr",
     "output_type": "stream",
     "text": [
      "Rolling DNS Forecast:  33%|███▎      | 247/756 [20:48<42:33,  5.02s/it]"
     ]
    },
    {
     "name": "stdout",
     "output_type": "stream",
     "text": [
      "[DEBUG] Eigenvalues: [0.96223922 1.0006302  1.0006302 ]\n"
     ]
    },
    {
     "name": "stderr",
     "output_type": "stream",
     "text": [
      "Rolling DNS Forecast:  33%|███▎      | 248/756 [20:53<42:29,  5.02s/it]"
     ]
    },
    {
     "name": "stdout",
     "output_type": "stream",
     "text": [
      "[DEBUG] Eigenvalues: [0.96207797 1.00080091 1.00080091]\n"
     ]
    },
    {
     "name": "stderr",
     "output_type": "stream",
     "text": [
      "Rolling DNS Forecast:  33%|███▎      | 249/756 [20:59<42:26,  5.02s/it]"
     ]
    },
    {
     "name": "stdout",
     "output_type": "stream",
     "text": [
      "[DEBUG] Eigenvalues: [0.96186506 1.00077524 1.00077524]\n"
     ]
    },
    {
     "name": "stderr",
     "output_type": "stream",
     "text": [
      "Rolling DNS Forecast:  33%|███▎      | 250/756 [21:04<42:24,  5.03s/it]"
     ]
    },
    {
     "name": "stdout",
     "output_type": "stream",
     "text": [
      "[DEBUG] Eigenvalues: [0.96178259 1.00075431 1.00075431]\n"
     ]
    },
    {
     "name": "stderr",
     "output_type": "stream",
     "text": [
      "Rolling DNS Forecast:  33%|███▎      | 251/756 [21:09<42:23,  5.04s/it]"
     ]
    },
    {
     "name": "stdout",
     "output_type": "stream",
     "text": [
      "[DEBUG] Eigenvalues: [0.96178408 1.00046539 1.00046539]\n"
     ]
    },
    {
     "name": "stderr",
     "output_type": "stream",
     "text": [
      "Rolling DNS Forecast:  33%|███▎      | 252/756 [21:14<42:23,  5.05s/it]"
     ]
    },
    {
     "name": "stdout",
     "output_type": "stream",
     "text": [
      "[DEBUG] Eigenvalues: [0.96201807 1.00031866 1.00031866]\n"
     ]
    },
    {
     "name": "stderr",
     "output_type": "stream",
     "text": [
      "Rolling DNS Forecast:  33%|███▎      | 253/756 [21:19<42:18,  5.05s/it]"
     ]
    },
    {
     "name": "stdout",
     "output_type": "stream",
     "text": [
      "[DEBUG] Eigenvalues: [0.96147195 1.00049986 1.00049986]\n"
     ]
    },
    {
     "name": "stderr",
     "output_type": "stream",
     "text": [
      "Rolling DNS Forecast:  34%|███▎      | 254/756 [21:24<42:12,  5.05s/it]"
     ]
    },
    {
     "name": "stdout",
     "output_type": "stream",
     "text": [
      "[DEBUG] Eigenvalues: [0.96171179 1.00039337 1.00039337]\n"
     ]
    },
    {
     "name": "stderr",
     "output_type": "stream",
     "text": [
      "Rolling DNS Forecast:  34%|███▎      | 255/756 [21:29<42:04,  5.04s/it]"
     ]
    },
    {
     "name": "stdout",
     "output_type": "stream",
     "text": [
      "[DEBUG] Eigenvalues: [0.96165339 1.00053703 1.00053703]\n"
     ]
    },
    {
     "name": "stderr",
     "output_type": "stream",
     "text": [
      "Rolling DNS Forecast:  34%|███▍      | 256/756 [21:34<42:02,  5.04s/it]"
     ]
    },
    {
     "name": "stdout",
     "output_type": "stream",
     "text": [
      "[DEBUG] Eigenvalues: [0.96121786 1.00070795 1.00070795]\n"
     ]
    },
    {
     "name": "stderr",
     "output_type": "stream",
     "text": [
      "Rolling DNS Forecast:  34%|███▍      | 257/756 [21:39<41:57,  5.04s/it]"
     ]
    },
    {
     "name": "stdout",
     "output_type": "stream",
     "text": [
      "[DEBUG] Eigenvalues: [0.96076379 1.00072082 1.00072082]\n"
     ]
    },
    {
     "name": "stderr",
     "output_type": "stream",
     "text": [
      "Rolling DNS Forecast:  34%|███▍      | 258/756 [21:44<41:57,  5.06s/it]"
     ]
    },
    {
     "name": "stdout",
     "output_type": "stream",
     "text": [
      "[DEBUG] Eigenvalues: [0.96051096 1.00074036 1.00074036]\n"
     ]
    },
    {
     "name": "stderr",
     "output_type": "stream",
     "text": [
      "Rolling DNS Forecast:  34%|███▍      | 259/756 [21:49<41:55,  5.06s/it]"
     ]
    },
    {
     "name": "stdout",
     "output_type": "stream",
     "text": [
      "[DEBUG] Eigenvalues: [0.96048808 1.00058367 1.00058367]\n"
     ]
    },
    {
     "name": "stderr",
     "output_type": "stream",
     "text": [
      "Rolling DNS Forecast:  34%|███▍      | 260/756 [21:54<41:50,  5.06s/it]"
     ]
    },
    {
     "name": "stdout",
     "output_type": "stream",
     "text": [
      "[DEBUG] Eigenvalues: [0.96074523 1.00069871 1.00069871]\n"
     ]
    },
    {
     "name": "stderr",
     "output_type": "stream",
     "text": [
      "Rolling DNS Forecast:  35%|███▍      | 261/756 [21:59<41:44,  5.06s/it]"
     ]
    },
    {
     "name": "stdout",
     "output_type": "stream",
     "text": [
      "[DEBUG] Eigenvalues: [0.96045376 1.00062982 1.00062982]\n"
     ]
    },
    {
     "name": "stderr",
     "output_type": "stream",
     "text": [
      "Rolling DNS Forecast:  35%|███▍      | 262/756 [22:04<41:28,  5.04s/it]"
     ]
    },
    {
     "name": "stdout",
     "output_type": "stream",
     "text": [
      "[DEBUG] Eigenvalues: [0.9601079  1.00075458 1.00075458]\n"
     ]
    },
    {
     "name": "stderr",
     "output_type": "stream",
     "text": [
      "Rolling DNS Forecast:  35%|███▍      | 263/756 [22:09<41:17,  5.03s/it]"
     ]
    },
    {
     "name": "stdout",
     "output_type": "stream",
     "text": [
      "[DEBUG] Eigenvalues: [0.95984568 1.00083432 1.00083432]\n"
     ]
    },
    {
     "name": "stderr",
     "output_type": "stream",
     "text": [
      "Rolling DNS Forecast:  35%|███▍      | 264/756 [22:14<41:11,  5.02s/it]"
     ]
    },
    {
     "name": "stdout",
     "output_type": "stream",
     "text": [
      "[DEBUG] Eigenvalues: [0.95946919 1.00072525 1.00072525]\n"
     ]
    },
    {
     "name": "stderr",
     "output_type": "stream",
     "text": [
      "Rolling DNS Forecast:  35%|███▌      | 265/756 [22:19<41:06,  5.02s/it]"
     ]
    },
    {
     "name": "stdout",
     "output_type": "stream",
     "text": [
      "[DEBUG] Eigenvalues: [0.95931358 1.00068432 1.00068432]\n"
     ]
    },
    {
     "name": "stderr",
     "output_type": "stream",
     "text": [
      "Rolling DNS Forecast:  35%|███▌      | 266/756 [22:24<40:59,  5.02s/it]"
     ]
    },
    {
     "name": "stdout",
     "output_type": "stream",
     "text": [
      "[DEBUG] Eigenvalues: [0.95934185 1.00060836 1.00060836]\n"
     ]
    },
    {
     "name": "stderr",
     "output_type": "stream",
     "text": [
      "Rolling DNS Forecast:  35%|███▌      | 267/756 [22:29<40:53,  5.02s/it]"
     ]
    },
    {
     "name": "stdout",
     "output_type": "stream",
     "text": [
      "[DEBUG] Eigenvalues: [0.95909526 1.00046259 1.00046259]\n"
     ]
    },
    {
     "name": "stderr",
     "output_type": "stream",
     "text": [
      "Rolling DNS Forecast:  35%|███▌      | 268/756 [22:34<40:50,  5.02s/it]"
     ]
    },
    {
     "name": "stdout",
     "output_type": "stream",
     "text": [
      "[DEBUG] Eigenvalues: [0.95904355 1.00047414 1.00047414]\n"
     ]
    },
    {
     "name": "stderr",
     "output_type": "stream",
     "text": [
      "Rolling DNS Forecast:  36%|███▌      | 269/756 [22:39<40:43,  5.02s/it]"
     ]
    },
    {
     "name": "stdout",
     "output_type": "stream",
     "text": [
      "[DEBUG] Eigenvalues: [0.95857548 1.00046512 1.00046512]\n"
     ]
    },
    {
     "name": "stderr",
     "output_type": "stream",
     "text": [
      "Rolling DNS Forecast:  36%|███▌      | 270/756 [22:44<40:38,  5.02s/it]"
     ]
    },
    {
     "name": "stdout",
     "output_type": "stream",
     "text": [
      "[DEBUG] Eigenvalues: [0.95844185 1.00058869 1.00058869]\n"
     ]
    },
    {
     "name": "stderr",
     "output_type": "stream",
     "text": [
      "Rolling DNS Forecast:  36%|███▌      | 271/756 [22:49<40:33,  5.02s/it]"
     ]
    },
    {
     "name": "stdout",
     "output_type": "stream",
     "text": [
      "[DEBUG] Eigenvalues: [0.95847808 1.00076222 1.00076222]\n"
     ]
    },
    {
     "name": "stderr",
     "output_type": "stream",
     "text": [
      "Rolling DNS Forecast:  36%|███▌      | 272/756 [22:54<40:27,  5.02s/it]"
     ]
    },
    {
     "name": "stdout",
     "output_type": "stream",
     "text": [
      "[DEBUG] Eigenvalues: [0.95888323 1.00079865 1.00079865]\n"
     ]
    },
    {
     "name": "stderr",
     "output_type": "stream",
     "text": [
      "Rolling DNS Forecast:  36%|███▌      | 273/756 [22:59<40:26,  5.02s/it]"
     ]
    },
    {
     "name": "stdout",
     "output_type": "stream",
     "text": [
      "[DEBUG] Eigenvalues: [0.95919038 1.0005479  1.0005479 ]\n"
     ]
    },
    {
     "name": "stderr",
     "output_type": "stream",
     "text": [
      "Rolling DNS Forecast:  36%|███▌      | 274/756 [23:04<40:18,  5.02s/it]"
     ]
    },
    {
     "name": "stdout",
     "output_type": "stream",
     "text": [
      "[DEBUG] Eigenvalues: [0.95949193 1.00043203 1.00043203]\n"
     ]
    },
    {
     "name": "stderr",
     "output_type": "stream",
     "text": [
      "Rolling DNS Forecast:  36%|███▋      | 275/756 [23:09<40:15,  5.02s/it]"
     ]
    },
    {
     "name": "stdout",
     "output_type": "stream",
     "text": [
      "[DEBUG] Eigenvalues: [0.95917176 1.00057797 1.00057797]\n"
     ]
    },
    {
     "name": "stderr",
     "output_type": "stream",
     "text": [
      "Rolling DNS Forecast:  37%|███▋      | 276/756 [23:14<40:09,  5.02s/it]"
     ]
    },
    {
     "name": "stdout",
     "output_type": "stream",
     "text": [
      "[DEBUG] Eigenvalues: [0.95889337 1.00075339 1.00075339]\n"
     ]
    },
    {
     "name": "stderr",
     "output_type": "stream",
     "text": [
      "Rolling DNS Forecast:  37%|███▋      | 277/756 [23:19<40:08,  5.03s/it]"
     ]
    },
    {
     "name": "stdout",
     "output_type": "stream",
     "text": [
      "[DEBUG] Eigenvalues: [0.95825954 1.00096981 1.00096981]\n"
     ]
    },
    {
     "name": "stderr",
     "output_type": "stream",
     "text": [
      "Rolling DNS Forecast:  37%|███▋      | 278/756 [23:24<40:02,  5.03s/it]"
     ]
    },
    {
     "name": "stdout",
     "output_type": "stream",
     "text": [
      "[DEBUG] Eigenvalues: [0.95735948 1.00128097 1.00128097]\n"
     ]
    },
    {
     "name": "stderr",
     "output_type": "stream",
     "text": [
      "Rolling DNS Forecast:  37%|███▋      | 279/756 [23:29<39:57,  5.03s/it]"
     ]
    },
    {
     "name": "stdout",
     "output_type": "stream",
     "text": [
      "[DEBUG] Eigenvalues: [0.95763639 1.00099336 1.00099336]\n"
     ]
    },
    {
     "name": "stderr",
     "output_type": "stream",
     "text": [
      "Rolling DNS Forecast:  37%|███▋      | 280/756 [23:34<39:50,  5.02s/it]"
     ]
    },
    {
     "name": "stdout",
     "output_type": "stream",
     "text": [
      "[DEBUG] Eigenvalues: [0.95755822 1.00090927 1.00090927]\n"
     ]
    },
    {
     "name": "stderr",
     "output_type": "stream",
     "text": [
      "Rolling DNS Forecast:  37%|███▋      | 281/756 [23:40<39:47,  5.03s/it]"
     ]
    },
    {
     "name": "stdout",
     "output_type": "stream",
     "text": [
      "[DEBUG] Eigenvalues: [0.95763274 1.00085098 1.00085098]\n"
     ]
    },
    {
     "name": "stderr",
     "output_type": "stream",
     "text": [
      "Rolling DNS Forecast:  37%|███▋      | 282/756 [23:45<39:42,  5.03s/it]"
     ]
    },
    {
     "name": "stdout",
     "output_type": "stream",
     "text": [
      "[DEBUG] Eigenvalues: [0.9573104  1.00096126 1.00096126]\n"
     ]
    },
    {
     "name": "stderr",
     "output_type": "stream",
     "text": [
      "Rolling DNS Forecast:  37%|███▋      | 283/756 [23:50<39:38,  5.03s/it]"
     ]
    },
    {
     "name": "stdout",
     "output_type": "stream",
     "text": [
      "[DEBUG] Eigenvalues: [0.95687421 1.00083069 1.00083069]\n"
     ]
    },
    {
     "name": "stderr",
     "output_type": "stream",
     "text": [
      "Rolling DNS Forecast:  38%|███▊      | 284/756 [23:55<39:34,  5.03s/it]"
     ]
    },
    {
     "name": "stdout",
     "output_type": "stream",
     "text": [
      "[DEBUG] Eigenvalues: [0.95664214 1.00071699 1.00071699]\n"
     ]
    },
    {
     "name": "stderr",
     "output_type": "stream",
     "text": [
      "Rolling DNS Forecast:  38%|███▊      | 285/756 [24:00<39:28,  5.03s/it]"
     ]
    },
    {
     "name": "stdout",
     "output_type": "stream",
     "text": [
      "[DEBUG] Eigenvalues: [0.95657072 1.00065453 1.00065453]\n"
     ]
    },
    {
     "name": "stderr",
     "output_type": "stream",
     "text": [
      "Rolling DNS Forecast:  38%|███▊      | 286/756 [24:05<39:24,  5.03s/it]"
     ]
    },
    {
     "name": "stdout",
     "output_type": "stream",
     "text": [
      "[DEBUG] Eigenvalues: [0.95644449 1.00053432 1.00053432]\n"
     ]
    },
    {
     "name": "stderr",
     "output_type": "stream",
     "text": [
      "Rolling DNS Forecast:  38%|███▊      | 287/756 [24:10<39:19,  5.03s/it]"
     ]
    },
    {
     "name": "stdout",
     "output_type": "stream",
     "text": [
      "[DEBUG] Eigenvalues: [0.95601855 1.00044158 1.00044158]\n"
     ]
    },
    {
     "name": "stderr",
     "output_type": "stream",
     "text": [
      "Rolling DNS Forecast:  38%|███▊      | 288/756 [24:15<39:12,  5.03s/it]"
     ]
    },
    {
     "name": "stdout",
     "output_type": "stream",
     "text": [
      "[DEBUG] Eigenvalues: [0.95572799 1.00029717 1.00029717]\n"
     ]
    },
    {
     "name": "stderr",
     "output_type": "stream",
     "text": [
      "Rolling DNS Forecast:  38%|███▊      | 289/756 [24:20<39:06,  5.02s/it]"
     ]
    },
    {
     "name": "stdout",
     "output_type": "stream",
     "text": [
      "[DEBUG] Eigenvalues: [0.95520751 1.00016958 1.00016958]\n"
     ]
    },
    {
     "name": "stderr",
     "output_type": "stream",
     "text": [
      "Rolling DNS Forecast:  38%|███▊      | 290/756 [24:25<39:00,  5.02s/it]"
     ]
    },
    {
     "name": "stdout",
     "output_type": "stream",
     "text": [
      "[DEBUG] Eigenvalues: [0.95507436 1.00027607 1.00027607]\n"
     ]
    },
    {
     "name": "stderr",
     "output_type": "stream",
     "text": [
      "Rolling DNS Forecast:  38%|███▊      | 291/756 [24:30<39:00,  5.03s/it]"
     ]
    },
    {
     "name": "stdout",
     "output_type": "stream",
     "text": [
      "[DEBUG] Eigenvalues: [0.95507006 1.00017809 1.00017809]\n"
     ]
    },
    {
     "name": "stderr",
     "output_type": "stream",
     "text": [
      "Rolling DNS Forecast:  39%|███▊      | 292/756 [24:35<38:56,  5.03s/it]"
     ]
    },
    {
     "name": "stdout",
     "output_type": "stream",
     "text": [
      "[DEBUG] Eigenvalues: [0.95502557 1.00019665 1.00019665]\n"
     ]
    },
    {
     "name": "stderr",
     "output_type": "stream",
     "text": [
      "Rolling DNS Forecast:  39%|███▉      | 293/756 [24:40<38:55,  5.05s/it]"
     ]
    },
    {
     "name": "stdout",
     "output_type": "stream",
     "text": [
      "[DEBUG] Eigenvalues: [0.95476766 0.99999381 0.99999381]\n"
     ]
    },
    {
     "name": "stderr",
     "output_type": "stream",
     "text": [
      "Rolling DNS Forecast:  39%|███▉      | 294/756 [24:45<38:50,  5.04s/it]"
     ]
    },
    {
     "name": "stdout",
     "output_type": "stream",
     "text": [
      "[DEBUG] Eigenvalues: [0.95451663 0.9998188  0.9998188 ]\n"
     ]
    },
    {
     "name": "stderr",
     "output_type": "stream",
     "text": [
      "Rolling DNS Forecast:  39%|███▉      | 295/756 [24:50<38:44,  5.04s/it]"
     ]
    },
    {
     "name": "stdout",
     "output_type": "stream",
     "text": [
      "[DEBUG] Eigenvalues: [0.95431253 0.99977496 0.99977496]\n"
     ]
    },
    {
     "name": "stderr",
     "output_type": "stream",
     "text": [
      "Rolling DNS Forecast:  39%|███▉      | 296/756 [24:55<38:42,  5.05s/it]"
     ]
    },
    {
     "name": "stdout",
     "output_type": "stream",
     "text": [
      "[DEBUG] Eigenvalues: [0.95373211 1.000055   1.000055  ]\n"
     ]
    },
    {
     "name": "stderr",
     "output_type": "stream",
     "text": [
      "Rolling DNS Forecast:  39%|███▉      | 297/756 [25:00<38:34,  5.04s/it]"
     ]
    },
    {
     "name": "stdout",
     "output_type": "stream",
     "text": [
      "[DEBUG] Eigenvalues: [0.95361018 1.0001234  1.0001234 ]\n"
     ]
    },
    {
     "name": "stderr",
     "output_type": "stream",
     "text": [
      "Rolling DNS Forecast:  39%|███▉      | 298/756 [25:05<38:29,  5.04s/it]"
     ]
    },
    {
     "name": "stdout",
     "output_type": "stream",
     "text": [
      "[DEBUG] Eigenvalues: [0.95288617 1.00017034 1.00017034]\n"
     ]
    },
    {
     "name": "stderr",
     "output_type": "stream",
     "text": [
      "Rolling DNS Forecast:  40%|███▉      | 299/756 [25:10<38:25,  5.05s/it]"
     ]
    },
    {
     "name": "stdout",
     "output_type": "stream",
     "text": [
      "[DEBUG] Eigenvalues: [0.9529151  0.99996435 0.99996435]\n"
     ]
    },
    {
     "name": "stderr",
     "output_type": "stream",
     "text": [
      "Rolling DNS Forecast:  40%|███▉      | 300/756 [25:15<38:20,  5.04s/it]"
     ]
    },
    {
     "name": "stdout",
     "output_type": "stream",
     "text": [
      "[DEBUG] Eigenvalues: [0.95251181 0.99991145 0.99991145]\n"
     ]
    },
    {
     "name": "stderr",
     "output_type": "stream",
     "text": [
      "Rolling DNS Forecast:  40%|███▉      | 301/756 [25:20<38:19,  5.05s/it]"
     ]
    },
    {
     "name": "stdout",
     "output_type": "stream",
     "text": [
      "[DEBUG] Eigenvalues: [0.95219888 0.99979317 0.99979317]\n"
     ]
    },
    {
     "name": "stderr",
     "output_type": "stream",
     "text": [
      "Rolling DNS Forecast:  40%|███▉      | 302/756 [25:25<38:16,  5.06s/it]"
     ]
    },
    {
     "name": "stdout",
     "output_type": "stream",
     "text": [
      "[DEBUG] Eigenvalues: [0.95202088 0.99970315 0.99970315]\n"
     ]
    },
    {
     "name": "stderr",
     "output_type": "stream",
     "text": [
      "Rolling DNS Forecast:  40%|████      | 303/756 [25:30<38:12,  5.06s/it]"
     ]
    },
    {
     "name": "stdout",
     "output_type": "stream",
     "text": [
      "[DEBUG] Eigenvalues: [0.95148497 0.99967199 0.99967199]\n"
     ]
    },
    {
     "name": "stderr",
     "output_type": "stream",
     "text": [
      "Rolling DNS Forecast:  40%|████      | 304/756 [25:36<38:05,  5.06s/it]"
     ]
    },
    {
     "name": "stdout",
     "output_type": "stream",
     "text": [
      "[DEBUG] Eigenvalues: [0.9513435  0.99957166 0.99957166]\n"
     ]
    },
    {
     "name": "stderr",
     "output_type": "stream",
     "text": [
      "Rolling DNS Forecast:  40%|████      | 305/756 [25:41<38:00,  5.06s/it]"
     ]
    },
    {
     "name": "stdout",
     "output_type": "stream",
     "text": [
      "[DEBUG] Eigenvalues: [0.95083041 0.99961364 0.99961364]\n"
     ]
    },
    {
     "name": "stderr",
     "output_type": "stream",
     "text": [
      "Rolling DNS Forecast:  40%|████      | 306/756 [25:46<37:53,  5.05s/it]"
     ]
    },
    {
     "name": "stdout",
     "output_type": "stream",
     "text": [
      "[DEBUG] Eigenvalues: [0.95043223 0.99948318 0.99948318]\n"
     ]
    },
    {
     "name": "stderr",
     "output_type": "stream",
     "text": [
      "Rolling DNS Forecast:  41%|████      | 307/756 [25:51<37:52,  5.06s/it]"
     ]
    },
    {
     "name": "stdout",
     "output_type": "stream",
     "text": [
      "[DEBUG] Eigenvalues: [0.94997636 0.99936532 0.99936532]\n"
     ]
    },
    {
     "name": "stderr",
     "output_type": "stream",
     "text": [
      "Rolling DNS Forecast:  41%|████      | 308/756 [25:56<37:51,  5.07s/it]"
     ]
    },
    {
     "name": "stdout",
     "output_type": "stream",
     "text": [
      "[DEBUG] Eigenvalues: [0.94951581 0.99940349 0.99940349]\n"
     ]
    },
    {
     "name": "stderr",
     "output_type": "stream",
     "text": [
      "Rolling DNS Forecast:  41%|████      | 309/756 [26:01<37:49,  5.08s/it]"
     ]
    },
    {
     "name": "stdout",
     "output_type": "stream",
     "text": [
      "[DEBUG] Eigenvalues: [0.94905817 0.99935473 0.99935473]\n"
     ]
    },
    {
     "name": "stderr",
     "output_type": "stream",
     "text": [
      "Rolling DNS Forecast:  41%|████      | 310/756 [26:06<37:44,  5.08s/it]"
     ]
    },
    {
     "name": "stdout",
     "output_type": "stream",
     "text": [
      "[DEBUG] Eigenvalues: [0.94902266 0.99933477 0.99933477]\n"
     ]
    },
    {
     "name": "stderr",
     "output_type": "stream",
     "text": [
      "Rolling DNS Forecast:  41%|████      | 311/756 [26:11<37:38,  5.07s/it]"
     ]
    },
    {
     "name": "stdout",
     "output_type": "stream",
     "text": [
      "[DEBUG] Eigenvalues: [0.94849949 0.99937114 0.99937114]\n"
     ]
    },
    {
     "name": "stderr",
     "output_type": "stream",
     "text": [
      "Rolling DNS Forecast:  41%|████▏     | 312/756 [26:16<37:32,  5.07s/it]"
     ]
    },
    {
     "name": "stdout",
     "output_type": "stream",
     "text": [
      "[DEBUG] Eigenvalues: [0.94810815 0.9993694  0.9993694 ]\n"
     ]
    },
    {
     "name": "stderr",
     "output_type": "stream",
     "text": [
      "Rolling DNS Forecast:  41%|████▏     | 313/756 [26:21<37:29,  5.08s/it]"
     ]
    },
    {
     "name": "stdout",
     "output_type": "stream",
     "text": [
      "[DEBUG] Eigenvalues: [0.94739403 0.99933021 0.99933021]\n"
     ]
    },
    {
     "name": "stderr",
     "output_type": "stream",
     "text": [
      "Rolling DNS Forecast:  42%|████▏     | 314/756 [26:26<37:20,  5.07s/it]"
     ]
    },
    {
     "name": "stdout",
     "output_type": "stream",
     "text": [
      "[DEBUG] Eigenvalues: [0.94720034 0.99931061 0.99931061]\n"
     ]
    },
    {
     "name": "stderr",
     "output_type": "stream",
     "text": [
      "Rolling DNS Forecast:  42%|████▏     | 315/756 [26:31<37:14,  5.07s/it]"
     ]
    },
    {
     "name": "stdout",
     "output_type": "stream",
     "text": [
      "[DEBUG] Eigenvalues: [0.94676913 0.99938654 0.99938654]\n"
     ]
    },
    {
     "name": "stderr",
     "output_type": "stream",
     "text": [
      "Rolling DNS Forecast:  42%|████▏     | 316/756 [26:36<37:04,  5.06s/it]"
     ]
    },
    {
     "name": "stdout",
     "output_type": "stream",
     "text": [
      "[DEBUG] Eigenvalues: [0.94596528 0.99931475 0.99931475]\n"
     ]
    },
    {
     "name": "stderr",
     "output_type": "stream",
     "text": [
      "Rolling DNS Forecast:  42%|████▏     | 317/756 [26:41<37:00,  5.06s/it]"
     ]
    },
    {
     "name": "stdout",
     "output_type": "stream",
     "text": [
      "[DEBUG] Eigenvalues: [0.94596128 0.99931204 0.99931204]\n"
     ]
    },
    {
     "name": "stderr",
     "output_type": "stream",
     "text": [
      "Rolling DNS Forecast:  42%|████▏     | 318/756 [26:46<36:54,  5.06s/it]"
     ]
    },
    {
     "name": "stdout",
     "output_type": "stream",
     "text": [
      "[DEBUG] Eigenvalues: [0.94545928 0.99923356 0.99923356]\n"
     ]
    },
    {
     "name": "stderr",
     "output_type": "stream",
     "text": [
      "Rolling DNS Forecast:  42%|████▏     | 319/756 [26:51<36:49,  5.06s/it]"
     ]
    },
    {
     "name": "stdout",
     "output_type": "stream",
     "text": [
      "[DEBUG] Eigenvalues: [0.94537604 0.99917039 0.99917039]\n"
     ]
    },
    {
     "name": "stderr",
     "output_type": "stream",
     "text": [
      "Rolling DNS Forecast:  42%|████▏     | 320/756 [26:57<36:45,  5.06s/it]"
     ]
    },
    {
     "name": "stdout",
     "output_type": "stream",
     "text": [
      "[DEBUG] Eigenvalues: [0.94533361 0.99913922 0.99913922]\n"
     ]
    },
    {
     "name": "stderr",
     "output_type": "stream",
     "text": [
      "Rolling DNS Forecast:  42%|████▏     | 321/756 [27:02<36:42,  5.06s/it]"
     ]
    },
    {
     "name": "stdout",
     "output_type": "stream",
     "text": [
      "[DEBUG] Eigenvalues: [0.94549785 0.99912299 0.99912299]\n"
     ]
    },
    {
     "name": "stderr",
     "output_type": "stream",
     "text": [
      "Rolling DNS Forecast:  43%|████▎     | 322/756 [27:07<36:34,  5.06s/it]"
     ]
    },
    {
     "name": "stdout",
     "output_type": "stream",
     "text": [
      "[DEBUG] Eigenvalues: [0.9455808  0.99910706 0.99910706]\n"
     ]
    },
    {
     "name": "stderr",
     "output_type": "stream",
     "text": [
      "Rolling DNS Forecast:  43%|████▎     | 323/756 [27:12<36:27,  5.05s/it]"
     ]
    },
    {
     "name": "stdout",
     "output_type": "stream",
     "text": [
      "[DEBUG] Eigenvalues: [0.94539521 0.99908664 0.99908664]\n"
     ]
    },
    {
     "name": "stderr",
     "output_type": "stream",
     "text": [
      "Rolling DNS Forecast:  43%|████▎     | 324/756 [27:17<36:22,  5.05s/it]"
     ]
    },
    {
     "name": "stdout",
     "output_type": "stream",
     "text": [
      "[DEBUG] Eigenvalues: [0.94520554 0.99907363 0.99907363]\n"
     ]
    },
    {
     "name": "stderr",
     "output_type": "stream",
     "text": [
      "Rolling DNS Forecast:  43%|████▎     | 325/756 [27:22<36:19,  5.06s/it]"
     ]
    },
    {
     "name": "stdout",
     "output_type": "stream",
     "text": [
      "[DEBUG] Eigenvalues: [0.94462691 0.99911541 0.99911541]\n"
     ]
    },
    {
     "name": "stderr",
     "output_type": "stream",
     "text": [
      "Rolling DNS Forecast:  43%|████▎     | 326/756 [27:27<36:12,  5.05s/it]"
     ]
    },
    {
     "name": "stdout",
     "output_type": "stream",
     "text": [
      "[DEBUG] Eigenvalues: [0.94408624 0.99912076 0.99912076]\n"
     ]
    },
    {
     "name": "stderr",
     "output_type": "stream",
     "text": [
      "Rolling DNS Forecast:  43%|████▎     | 327/756 [27:32<36:05,  5.05s/it]"
     ]
    },
    {
     "name": "stdout",
     "output_type": "stream",
     "text": [
      "[DEBUG] Eigenvalues: [0.94382387 0.99915651 0.99915651]\n"
     ]
    },
    {
     "name": "stderr",
     "output_type": "stream",
     "text": [
      "Rolling DNS Forecast:  43%|████▎     | 328/756 [27:37<35:59,  5.04s/it]"
     ]
    },
    {
     "name": "stdout",
     "output_type": "stream",
     "text": [
      "[DEBUG] Eigenvalues: [0.94321283 0.99922055 0.99922055]\n"
     ]
    },
    {
     "name": "stderr",
     "output_type": "stream",
     "text": [
      "Rolling DNS Forecast:  44%|████▎     | 329/756 [27:42<35:54,  5.04s/it]"
     ]
    },
    {
     "name": "stdout",
     "output_type": "stream",
     "text": [
      "[DEBUG] Eigenvalues: [0.94267493 0.99917241 0.99917241]\n"
     ]
    },
    {
     "name": "stderr",
     "output_type": "stream",
     "text": [
      "Rolling DNS Forecast:  44%|████▎     | 330/756 [27:47<35:48,  5.04s/it]"
     ]
    },
    {
     "name": "stdout",
     "output_type": "stream",
     "text": [
      "[DEBUG] Eigenvalues: [0.94242641 0.99915394 0.99915394]\n"
     ]
    },
    {
     "name": "stderr",
     "output_type": "stream",
     "text": [
      "Rolling DNS Forecast:  44%|████▍     | 331/756 [27:52<35:43,  5.04s/it]"
     ]
    },
    {
     "name": "stdout",
     "output_type": "stream",
     "text": [
      "[DEBUG] Eigenvalues: [0.94265613 0.99913457 0.99913457]\n"
     ]
    },
    {
     "name": "stderr",
     "output_type": "stream",
     "text": [
      "Rolling DNS Forecast:  44%|████▍     | 332/756 [27:57<35:38,  5.04s/it]"
     ]
    },
    {
     "name": "stdout",
     "output_type": "stream",
     "text": [
      "[DEBUG] Eigenvalues: [0.94255329 0.99909058 0.99909058]\n"
     ]
    },
    {
     "name": "stderr",
     "output_type": "stream",
     "text": [
      "Rolling DNS Forecast:  44%|████▍     | 333/756 [28:02<35:32,  5.04s/it]"
     ]
    },
    {
     "name": "stdout",
     "output_type": "stream",
     "text": [
      "[DEBUG] Eigenvalues: [0.9427094  0.99902893 0.99902893]\n"
     ]
    },
    {
     "name": "stderr",
     "output_type": "stream",
     "text": [
      "Rolling DNS Forecast:  44%|████▍     | 334/756 [28:07<35:26,  5.04s/it]"
     ]
    },
    {
     "name": "stdout",
     "output_type": "stream",
     "text": [
      "[DEBUG] Eigenvalues: [0.94260186 0.99898014 0.99898014]\n"
     ]
    },
    {
     "name": "stderr",
     "output_type": "stream",
     "text": [
      "Rolling DNS Forecast:  44%|████▍     | 335/756 [28:12<35:21,  5.04s/it]"
     ]
    },
    {
     "name": "stdout",
     "output_type": "stream",
     "text": [
      "[DEBUG] Eigenvalues: [0.94209824 0.9989593  0.9989593 ]\n"
     ]
    },
    {
     "name": "stderr",
     "output_type": "stream",
     "text": [
      "Rolling DNS Forecast:  44%|████▍     | 336/756 [28:17<35:16,  5.04s/it]"
     ]
    },
    {
     "name": "stdout",
     "output_type": "stream",
     "text": [
      "[DEBUG] Eigenvalues: [0.94132274 0.99896559 0.99896559]\n"
     ]
    },
    {
     "name": "stderr",
     "output_type": "stream",
     "text": [
      "Rolling DNS Forecast:  45%|████▍     | 337/756 [28:22<35:17,  5.05s/it]"
     ]
    },
    {
     "name": "stdout",
     "output_type": "stream",
     "text": [
      "[DEBUG] Eigenvalues: [0.94059778 0.99899354 0.99899354]\n"
     ]
    },
    {
     "name": "stderr",
     "output_type": "stream",
     "text": [
      "Rolling DNS Forecast:  45%|████▍     | 338/756 [28:27<35:13,  5.06s/it]"
     ]
    },
    {
     "name": "stdout",
     "output_type": "stream",
     "text": [
      "[DEBUG] Eigenvalues: [0.93982871 0.99896331 0.99896331]\n"
     ]
    },
    {
     "name": "stderr",
     "output_type": "stream",
     "text": [
      "Rolling DNS Forecast:  45%|████▍     | 339/756 [28:32<35:08,  5.06s/it]"
     ]
    },
    {
     "name": "stdout",
     "output_type": "stream",
     "text": [
      "[DEBUG] Eigenvalues: [0.94049481 0.9989619  0.9989619 ]\n"
     ]
    },
    {
     "name": "stderr",
     "output_type": "stream",
     "text": [
      "Rolling DNS Forecast:  45%|████▍     | 340/756 [28:38<35:06,  5.06s/it]"
     ]
    },
    {
     "name": "stdout",
     "output_type": "stream",
     "text": [
      "[DEBUG] Eigenvalues: [0.94015852 0.99897725 0.99897725]\n"
     ]
    },
    {
     "name": "stderr",
     "output_type": "stream",
     "text": [
      "Rolling DNS Forecast:  45%|████▌     | 341/756 [28:43<34:55,  5.05s/it]"
     ]
    },
    {
     "name": "stdout",
     "output_type": "stream",
     "text": [
      "[DEBUG] Eigenvalues: [0.93953222 0.99896388 0.99896388]\n"
     ]
    },
    {
     "name": "stderr",
     "output_type": "stream",
     "text": [
      "Rolling DNS Forecast:  45%|████▌     | 342/756 [28:48<34:48,  5.04s/it]"
     ]
    },
    {
     "name": "stdout",
     "output_type": "stream",
     "text": [
      "[DEBUG] Eigenvalues: [0.93956405 0.99896676 0.99896676]\n"
     ]
    },
    {
     "name": "stderr",
     "output_type": "stream",
     "text": [
      "Rolling DNS Forecast:  45%|████▌     | 343/756 [28:53<34:40,  5.04s/it]"
     ]
    },
    {
     "name": "stdout",
     "output_type": "stream",
     "text": [
      "[DEBUG] Eigenvalues: [0.93919956 0.99900204 0.99900204]\n"
     ]
    },
    {
     "name": "stderr",
     "output_type": "stream",
     "text": [
      "Rolling DNS Forecast:  46%|████▌     | 344/756 [28:58<34:36,  5.04s/it]"
     ]
    },
    {
     "name": "stdout",
     "output_type": "stream",
     "text": [
      "[DEBUG] Eigenvalues: [0.93836511 0.99904399 0.99904399]\n"
     ]
    },
    {
     "name": "stderr",
     "output_type": "stream",
     "text": [
      "Rolling DNS Forecast:  46%|████▌     | 345/756 [29:03<34:29,  5.04s/it]"
     ]
    },
    {
     "name": "stdout",
     "output_type": "stream",
     "text": [
      "[DEBUG] Eigenvalues: [0.93830155 0.99909356 0.99909356]\n"
     ]
    },
    {
     "name": "stderr",
     "output_type": "stream",
     "text": [
      "Rolling DNS Forecast:  46%|████▌     | 346/756 [29:08<34:21,  5.03s/it]"
     ]
    },
    {
     "name": "stdout",
     "output_type": "stream",
     "text": [
      "[DEBUG] Eigenvalues: [0.9377656  0.99911821 0.99911821]\n"
     ]
    },
    {
     "name": "stderr",
     "output_type": "stream",
     "text": [
      "Rolling DNS Forecast:  46%|████▌     | 347/756 [29:13<34:17,  5.03s/it]"
     ]
    },
    {
     "name": "stdout",
     "output_type": "stream",
     "text": [
      "[DEBUG] Eigenvalues: [0.93740957 0.99903492 0.99903492]\n"
     ]
    },
    {
     "name": "stderr",
     "output_type": "stream",
     "text": [
      "Rolling DNS Forecast:  46%|████▌     | 348/756 [29:18<34:15,  5.04s/it]"
     ]
    },
    {
     "name": "stdout",
     "output_type": "stream",
     "text": [
      "[DEBUG] Eigenvalues: [0.9372063  0.99898789 0.99898789]\n"
     ]
    },
    {
     "name": "stderr",
     "output_type": "stream",
     "text": [
      "Rolling DNS Forecast:  46%|████▌     | 349/756 [29:23<34:11,  5.04s/it]"
     ]
    },
    {
     "name": "stdout",
     "output_type": "stream",
     "text": [
      "[DEBUG] Eigenvalues: [0.93710781 0.99890458 0.99890458]\n"
     ]
    },
    {
     "name": "stderr",
     "output_type": "stream",
     "text": [
      "Rolling DNS Forecast:  46%|████▋     | 350/756 [29:28<34:06,  5.04s/it]"
     ]
    },
    {
     "name": "stdout",
     "output_type": "stream",
     "text": [
      "[DEBUG] Eigenvalues: [0.93654739 0.9988553  0.9988553 ]\n"
     ]
    },
    {
     "name": "stderr",
     "output_type": "stream",
     "text": [
      "Rolling DNS Forecast:  46%|████▋     | 351/756 [29:33<34:01,  5.04s/it]"
     ]
    },
    {
     "name": "stdout",
     "output_type": "stream",
     "text": [
      "[DEBUG] Eigenvalues: [0.93637496 0.9988519  0.9988519 ]\n"
     ]
    },
    {
     "name": "stderr",
     "output_type": "stream",
     "text": [
      "Rolling DNS Forecast:  47%|████▋     | 352/756 [29:38<33:57,  5.04s/it]"
     ]
    },
    {
     "name": "stdout",
     "output_type": "stream",
     "text": [
      "[DEBUG] Eigenvalues: [0.9363395  0.99884242 0.99884242]\n"
     ]
    },
    {
     "name": "stderr",
     "output_type": "stream",
     "text": [
      "Rolling DNS Forecast:  47%|████▋     | 353/756 [29:43<33:49,  5.03s/it]"
     ]
    },
    {
     "name": "stdout",
     "output_type": "stream",
     "text": [
      "[DEBUG] Eigenvalues: [0.93607486 0.99885278 0.99885278]\n"
     ]
    },
    {
     "name": "stderr",
     "output_type": "stream",
     "text": [
      "Rolling DNS Forecast:  47%|████▋     | 354/756 [29:48<33:44,  5.04s/it]"
     ]
    },
    {
     "name": "stdout",
     "output_type": "stream",
     "text": [
      "[DEBUG] Eigenvalues: [0.93549763 0.99884751 0.99884751]\n"
     ]
    },
    {
     "name": "stderr",
     "output_type": "stream",
     "text": [
      "Rolling DNS Forecast:  47%|████▋     | 355/756 [29:53<33:38,  5.03s/it]"
     ]
    },
    {
     "name": "stdout",
     "output_type": "stream",
     "text": [
      "[DEBUG] Eigenvalues: [0.93565131 0.99883252 0.99883252]\n"
     ]
    },
    {
     "name": "stderr",
     "output_type": "stream",
     "text": [
      "Rolling DNS Forecast:  47%|████▋     | 356/756 [29:58<33:32,  5.03s/it]"
     ]
    },
    {
     "name": "stdout",
     "output_type": "stream",
     "text": [
      "[DEBUG] Eigenvalues: [0.93513926 0.99878365 0.99878365]\n"
     ]
    },
    {
     "name": "stderr",
     "output_type": "stream",
     "text": [
      "Rolling DNS Forecast:  47%|████▋     | 357/756 [30:03<33:28,  5.03s/it]"
     ]
    },
    {
     "name": "stdout",
     "output_type": "stream",
     "text": [
      "[DEBUG] Eigenvalues: [0.93426081 0.99879256 0.99879256]\n"
     ]
    },
    {
     "name": "stderr",
     "output_type": "stream",
     "text": [
      "Rolling DNS Forecast:  47%|████▋     | 358/756 [30:08<33:23,  5.04s/it]"
     ]
    },
    {
     "name": "stdout",
     "output_type": "stream",
     "text": [
      "[DEBUG] Eigenvalues: [0.93376233 0.99878788 0.99878788]\n"
     ]
    },
    {
     "name": "stderr",
     "output_type": "stream",
     "text": [
      "Rolling DNS Forecast:  47%|████▋     | 359/756 [30:13<33:18,  5.03s/it]"
     ]
    },
    {
     "name": "stdout",
     "output_type": "stream",
     "text": [
      "[DEBUG] Eigenvalues: [0.93374988 0.9987648  0.9987648 ]\n"
     ]
    },
    {
     "name": "stderr",
     "output_type": "stream",
     "text": [
      "Rolling DNS Forecast:  48%|████▊     | 360/756 [30:18<33:12,  5.03s/it]"
     ]
    },
    {
     "name": "stdout",
     "output_type": "stream",
     "text": [
      "[DEBUG] Eigenvalues: [0.93426634 0.99873166 0.99873166]\n"
     ]
    },
    {
     "name": "stderr",
     "output_type": "stream",
     "text": [
      "Rolling DNS Forecast:  48%|████▊     | 361/756 [30:23<33:08,  5.03s/it]"
     ]
    },
    {
     "name": "stdout",
     "output_type": "stream",
     "text": [
      "[DEBUG] Eigenvalues: [0.93366541 0.9987578  0.9987578 ]\n"
     ]
    },
    {
     "name": "stderr",
     "output_type": "stream",
     "text": [
      "Rolling DNS Forecast:  48%|████▊     | 362/756 [30:28<33:04,  5.04s/it]"
     ]
    },
    {
     "name": "stdout",
     "output_type": "stream",
     "text": [
      "[DEBUG] Eigenvalues: [0.93384738 0.9987451  0.9987451 ]\n"
     ]
    },
    {
     "name": "stderr",
     "output_type": "stream",
     "text": [
      "Rolling DNS Forecast:  48%|████▊     | 363/756 [30:33<32:58,  5.03s/it]"
     ]
    },
    {
     "name": "stdout",
     "output_type": "stream",
     "text": [
      "[DEBUG] Eigenvalues: [0.93320868 0.99874832 0.99874832]\n"
     ]
    },
    {
     "name": "stderr",
     "output_type": "stream",
     "text": [
      "Rolling DNS Forecast:  48%|████▊     | 364/756 [30:38<32:52,  5.03s/it]"
     ]
    },
    {
     "name": "stdout",
     "output_type": "stream",
     "text": [
      "[DEBUG] Eigenvalues: [0.9332098  0.99874149 0.99874149]\n"
     ]
    },
    {
     "name": "stderr",
     "output_type": "stream",
     "text": [
      "Rolling DNS Forecast:  48%|████▊     | 365/756 [30:43<32:44,  5.03s/it]"
     ]
    },
    {
     "name": "stdout",
     "output_type": "stream",
     "text": [
      "[DEBUG] Eigenvalues: [0.93291721 0.99873285 0.99873285]\n"
     ]
    },
    {
     "name": "stderr",
     "output_type": "stream",
     "text": [
      "Rolling DNS Forecast:  48%|████▊     | 366/756 [30:48<32:38,  5.02s/it]"
     ]
    },
    {
     "name": "stdout",
     "output_type": "stream",
     "text": [
      "[DEBUG] Eigenvalues: [0.93237618 0.99872376 0.99872376]\n"
     ]
    },
    {
     "name": "stderr",
     "output_type": "stream",
     "text": [
      "Rolling DNS Forecast:  49%|████▊     | 367/756 [30:53<32:33,  5.02s/it]"
     ]
    },
    {
     "name": "stdout",
     "output_type": "stream",
     "text": [
      "[DEBUG] Eigenvalues: [0.93189972 0.99866342 0.99866342]\n"
     ]
    },
    {
     "name": "stderr",
     "output_type": "stream",
     "text": [
      "Rolling DNS Forecast:  49%|████▊     | 368/756 [30:58<32:30,  5.03s/it]"
     ]
    },
    {
     "name": "stdout",
     "output_type": "stream",
     "text": [
      "[DEBUG] Eigenvalues: [0.93181866 0.99867679 0.99867679]\n"
     ]
    },
    {
     "name": "stderr",
     "output_type": "stream",
     "text": [
      "Rolling DNS Forecast:  49%|████▉     | 369/756 [31:03<32:24,  5.02s/it]"
     ]
    },
    {
     "name": "stdout",
     "output_type": "stream",
     "text": [
      "[DEBUG] Eigenvalues: [0.93170937 0.99865018 0.99865018]\n"
     ]
    },
    {
     "name": "stderr",
     "output_type": "stream",
     "text": [
      "Rolling DNS Forecast:  49%|████▉     | 370/756 [31:08<32:18,  5.02s/it]"
     ]
    },
    {
     "name": "stdout",
     "output_type": "stream",
     "text": [
      "[DEBUG] Eigenvalues: [0.93203041 0.99866539 0.99866539]\n"
     ]
    },
    {
     "name": "stderr",
     "output_type": "stream",
     "text": [
      "Rolling DNS Forecast:  49%|████▉     | 371/756 [31:13<32:11,  5.02s/it]"
     ]
    },
    {
     "name": "stdout",
     "output_type": "stream",
     "text": [
      "[DEBUG] Eigenvalues: [0.93197748 0.99863074 0.99863074]\n"
     ]
    },
    {
     "name": "stderr",
     "output_type": "stream",
     "text": [
      "Rolling DNS Forecast:  49%|████▉     | 372/756 [31:19<32:08,  5.02s/it]"
     ]
    },
    {
     "name": "stdout",
     "output_type": "stream",
     "text": [
      "[DEBUG] Eigenvalues: [0.93190261 0.9986175  0.9986175 ]\n"
     ]
    },
    {
     "name": "stderr",
     "output_type": "stream",
     "text": [
      "Rolling DNS Forecast:  49%|████▉     | 373/756 [31:24<32:01,  5.02s/it]"
     ]
    },
    {
     "name": "stdout",
     "output_type": "stream",
     "text": [
      "[DEBUG] Eigenvalues: [0.93238495 0.99859521 0.99859521]\n"
     ]
    },
    {
     "name": "stderr",
     "output_type": "stream",
     "text": [
      "Rolling DNS Forecast:  49%|████▉     | 374/756 [31:29<31:57,  5.02s/it]"
     ]
    },
    {
     "name": "stdout",
     "output_type": "stream",
     "text": [
      "[DEBUG] Eigenvalues: [0.93220205 0.99858989 0.99858989]\n"
     ]
    },
    {
     "name": "stderr",
     "output_type": "stream",
     "text": [
      "Rolling DNS Forecast:  50%|████▉     | 375/756 [31:34<31:56,  5.03s/it]"
     ]
    },
    {
     "name": "stdout",
     "output_type": "stream",
     "text": [
      "[DEBUG] Eigenvalues: [0.93139029 0.99856718 0.99856718]\n"
     ]
    },
    {
     "name": "stderr",
     "output_type": "stream",
     "text": [
      "Rolling DNS Forecast:  50%|████▉     | 376/756 [31:39<31:54,  5.04s/it]"
     ]
    },
    {
     "name": "stdout",
     "output_type": "stream",
     "text": [
      "[DEBUG] Eigenvalues: [0.93103614 0.9985518  0.9985518 ]\n"
     ]
    },
    {
     "name": "stderr",
     "output_type": "stream",
     "text": [
      "Rolling DNS Forecast:  50%|████▉     | 377/756 [31:44<31:48,  5.03s/it]"
     ]
    },
    {
     "name": "stdout",
     "output_type": "stream",
     "text": [
      "[DEBUG] Eigenvalues: [0.93052753 0.9985247  0.9985247 ]\n"
     ]
    },
    {
     "name": "stderr",
     "output_type": "stream",
     "text": [
      "Rolling DNS Forecast:  50%|█████     | 378/756 [31:49<31:43,  5.04s/it]"
     ]
    },
    {
     "name": "stdout",
     "output_type": "stream",
     "text": [
      "[DEBUG] Eigenvalues: [0.93234774 0.99852326 0.99852326]\n"
     ]
    },
    {
     "name": "stderr",
     "output_type": "stream",
     "text": [
      "Rolling DNS Forecast:  50%|█████     | 379/756 [31:54<31:40,  5.04s/it]"
     ]
    },
    {
     "name": "stdout",
     "output_type": "stream",
     "text": [
      "[DEBUG] Eigenvalues: [0.93237919 0.9985007  0.9985007 ]\n"
     ]
    },
    {
     "name": "stderr",
     "output_type": "stream",
     "text": [
      "Rolling DNS Forecast:  50%|█████     | 380/756 [31:59<31:39,  5.05s/it]"
     ]
    },
    {
     "name": "stdout",
     "output_type": "stream",
     "text": [
      "[DEBUG] Eigenvalues: [0.9333811  0.99853468 0.99853468]\n"
     ]
    },
    {
     "name": "stderr",
     "output_type": "stream",
     "text": [
      "Rolling DNS Forecast:  50%|█████     | 381/756 [32:04<31:33,  5.05s/it]"
     ]
    },
    {
     "name": "stdout",
     "output_type": "stream",
     "text": [
      "[DEBUG] Eigenvalues: [0.93385896 0.99853383 0.99853383]\n"
     ]
    },
    {
     "name": "stderr",
     "output_type": "stream",
     "text": [
      "Rolling DNS Forecast:  51%|█████     | 382/756 [32:09<31:28,  5.05s/it]"
     ]
    },
    {
     "name": "stdout",
     "output_type": "stream",
     "text": [
      "[DEBUG] Eigenvalues: [0.93288491 0.99854298 0.99854298]\n"
     ]
    },
    {
     "name": "stderr",
     "output_type": "stream",
     "text": [
      "Rolling DNS Forecast:  51%|█████     | 383/756 [32:14<31:23,  5.05s/it]"
     ]
    },
    {
     "name": "stdout",
     "output_type": "stream",
     "text": [
      "[DEBUG] Eigenvalues: [0.93323189 0.99855171 0.99855171]\n"
     ]
    },
    {
     "name": "stderr",
     "output_type": "stream",
     "text": [
      "Rolling DNS Forecast:  51%|█████     | 384/756 [32:19<31:20,  5.06s/it]"
     ]
    },
    {
     "name": "stdout",
     "output_type": "stream",
     "text": [
      "[DEBUG] Eigenvalues: [0.93398453 0.99855879 0.99855879]\n"
     ]
    },
    {
     "name": "stderr",
     "output_type": "stream",
     "text": [
      "Rolling DNS Forecast:  51%|█████     | 385/756 [32:24<31:16,  5.06s/it]"
     ]
    },
    {
     "name": "stdout",
     "output_type": "stream",
     "text": [
      "[DEBUG] Eigenvalues: [0.93692887 0.998535   0.998535  ]\n"
     ]
    },
    {
     "name": "stderr",
     "output_type": "stream",
     "text": [
      "Rolling DNS Forecast:  51%|█████     | 386/756 [32:29<31:13,  5.06s/it]"
     ]
    },
    {
     "name": "stdout",
     "output_type": "stream",
     "text": [
      "[DEBUG] Eigenvalues: [0.93912434 0.9985505  0.9985505 ]\n"
     ]
    },
    {
     "name": "stderr",
     "output_type": "stream",
     "text": [
      "Rolling DNS Forecast:  51%|█████     | 387/756 [32:34<31:07,  5.06s/it]"
     ]
    },
    {
     "name": "stdout",
     "output_type": "stream",
     "text": [
      "[DEBUG] Eigenvalues: [0.93902467 0.99857964 0.99857964]\n"
     ]
    },
    {
     "name": "stderr",
     "output_type": "stream",
     "text": [
      "Rolling DNS Forecast:  51%|█████▏    | 388/756 [32:39<31:02,  5.06s/it]"
     ]
    },
    {
     "name": "stdout",
     "output_type": "stream",
     "text": [
      "[DEBUG] Eigenvalues: [0.93851186 0.99863556 0.99863556]\n"
     ]
    },
    {
     "name": "stderr",
     "output_type": "stream",
     "text": [
      "Rolling DNS Forecast:  51%|█████▏    | 389/756 [32:44<31:00,  5.07s/it]"
     ]
    },
    {
     "name": "stdout",
     "output_type": "stream",
     "text": [
      "[DEBUG] Eigenvalues: [0.93955265 0.99862533 0.99862533]\n"
     ]
    },
    {
     "name": "stderr",
     "output_type": "stream",
     "text": [
      "Rolling DNS Forecast:  52%|█████▏    | 390/756 [32:49<30:56,  5.07s/it]"
     ]
    },
    {
     "name": "stdout",
     "output_type": "stream",
     "text": [
      "[DEBUG] Eigenvalues: [0.9400538  0.99861307 0.99861307]\n"
     ]
    },
    {
     "name": "stderr",
     "output_type": "stream",
     "text": [
      "Rolling DNS Forecast:  52%|█████▏    | 391/756 [32:55<30:49,  5.07s/it]"
     ]
    },
    {
     "name": "stdout",
     "output_type": "stream",
     "text": [
      "[DEBUG] Eigenvalues: [0.93875404 0.99865253 0.99865253]\n"
     ]
    },
    {
     "name": "stderr",
     "output_type": "stream",
     "text": [
      "Rolling DNS Forecast:  52%|█████▏    | 392/756 [33:00<30:39,  5.05s/it]"
     ]
    },
    {
     "name": "stdout",
     "output_type": "stream",
     "text": [
      "[DEBUG] Eigenvalues: [0.93757733 0.9986022  0.9986022 ]\n"
     ]
    },
    {
     "name": "stderr",
     "output_type": "stream",
     "text": [
      "Rolling DNS Forecast:  52%|█████▏    | 393/756 [33:05<30:33,  5.05s/it]"
     ]
    },
    {
     "name": "stdout",
     "output_type": "stream",
     "text": [
      "[DEBUG] Eigenvalues: [0.93847052 0.99860508 0.99860508]\n"
     ]
    },
    {
     "name": "stderr",
     "output_type": "stream",
     "text": [
      "Rolling DNS Forecast:  52%|█████▏    | 394/756 [33:10<30:24,  5.04s/it]"
     ]
    },
    {
     "name": "stdout",
     "output_type": "stream",
     "text": [
      "[DEBUG] Eigenvalues: [0.9373055 0.9985732 0.9985732]\n"
     ]
    },
    {
     "name": "stderr",
     "output_type": "stream",
     "text": [
      "Rolling DNS Forecast:  52%|█████▏    | 395/756 [33:15<30:20,  5.04s/it]"
     ]
    },
    {
     "name": "stdout",
     "output_type": "stream",
     "text": [
      "[DEBUG] Eigenvalues: [0.93861638 0.9985228  0.9985228 ]\n"
     ]
    },
    {
     "name": "stderr",
     "output_type": "stream",
     "text": [
      "Rolling DNS Forecast:  52%|█████▏    | 396/756 [33:20<30:14,  5.04s/it]"
     ]
    },
    {
     "name": "stdout",
     "output_type": "stream",
     "text": [
      "[DEBUG] Eigenvalues: [0.93998495 0.9984444  0.9984444 ]\n"
     ]
    },
    {
     "name": "stderr",
     "output_type": "stream",
     "text": [
      "Rolling DNS Forecast:  53%|█████▎    | 397/756 [33:25<30:07,  5.03s/it]"
     ]
    },
    {
     "name": "stdout",
     "output_type": "stream",
     "text": [
      "[DEBUG] Eigenvalues: [0.94175574 0.99843072 0.99843072]\n"
     ]
    },
    {
     "name": "stderr",
     "output_type": "stream",
     "text": [
      "Rolling DNS Forecast:  53%|█████▎    | 398/756 [33:30<30:01,  5.03s/it]"
     ]
    },
    {
     "name": "stdout",
     "output_type": "stream",
     "text": [
      "[DEBUG] Eigenvalues: [0.94389716 0.99845956 0.99845956]\n"
     ]
    },
    {
     "name": "stderr",
     "output_type": "stream",
     "text": [
      "Rolling DNS Forecast:  53%|█████▎    | 399/756 [33:35<29:58,  5.04s/it]"
     ]
    },
    {
     "name": "stdout",
     "output_type": "stream",
     "text": [
      "[DEBUG] Eigenvalues: [0.94363884 0.99850989 0.99850989]\n"
     ]
    },
    {
     "name": "stderr",
     "output_type": "stream",
     "text": [
      "Rolling DNS Forecast:  53%|█████▎    | 400/756 [33:40<29:53,  5.04s/it]"
     ]
    },
    {
     "name": "stdout",
     "output_type": "stream",
     "text": [
      "[DEBUG] Eigenvalues: [0.9427995  0.99849148 0.99849148]\n"
     ]
    },
    {
     "name": "stderr",
     "output_type": "stream",
     "text": [
      "Rolling DNS Forecast:  53%|█████▎    | 401/756 [33:45<29:47,  5.03s/it]"
     ]
    },
    {
     "name": "stdout",
     "output_type": "stream",
     "text": [
      "[DEBUG] Eigenvalues: [0.94323632 0.99842696 0.99842696]\n"
     ]
    },
    {
     "name": "stderr",
     "output_type": "stream",
     "text": [
      "Rolling DNS Forecast:  53%|█████▎    | 402/756 [33:50<29:42,  5.03s/it]"
     ]
    },
    {
     "name": "stdout",
     "output_type": "stream",
     "text": [
      "[DEBUG] Eigenvalues: [0.94557627 0.99841875 0.99841875]\n"
     ]
    },
    {
     "name": "stderr",
     "output_type": "stream",
     "text": [
      "Rolling DNS Forecast:  53%|█████▎    | 403/756 [33:55<29:37,  5.03s/it]"
     ]
    },
    {
     "name": "stdout",
     "output_type": "stream",
     "text": [
      "[DEBUG] Eigenvalues: [0.94486294 0.99845088 0.99845088]\n"
     ]
    },
    {
     "name": "stderr",
     "output_type": "stream",
     "text": [
      "Rolling DNS Forecast:  53%|█████▎    | 404/756 [34:00<29:32,  5.04s/it]"
     ]
    },
    {
     "name": "stdout",
     "output_type": "stream",
     "text": [
      "[DEBUG] Eigenvalues: [0.94558467 0.99844941 0.99844941]\n"
     ]
    },
    {
     "name": "stderr",
     "output_type": "stream",
     "text": [
      "Rolling DNS Forecast:  54%|█████▎    | 405/756 [34:05<29:27,  5.04s/it]"
     ]
    },
    {
     "name": "stdout",
     "output_type": "stream",
     "text": [
      "[DEBUG] Eigenvalues: [0.9461657  0.99845651 0.99845651]\n"
     ]
    },
    {
     "name": "stderr",
     "output_type": "stream",
     "text": [
      "Rolling DNS Forecast:  54%|█████▎    | 406/756 [34:10<29:22,  5.04s/it]"
     ]
    },
    {
     "name": "stdout",
     "output_type": "stream",
     "text": [
      "[DEBUG] Eigenvalues: [0.94599903 0.99841008 0.99841008]\n"
     ]
    },
    {
     "name": "stderr",
     "output_type": "stream",
     "text": [
      "Rolling DNS Forecast:  54%|█████▍    | 407/756 [34:15<29:14,  5.03s/it]"
     ]
    },
    {
     "name": "stdout",
     "output_type": "stream",
     "text": [
      "[DEBUG] Eigenvalues: [0.94569541 0.99846714 0.99846714]\n"
     ]
    },
    {
     "name": "stderr",
     "output_type": "stream",
     "text": [
      "Rolling DNS Forecast:  54%|█████▍    | 408/756 [34:20<29:11,  5.03s/it]"
     ]
    },
    {
     "name": "stdout",
     "output_type": "stream",
     "text": [
      "[DEBUG] Eigenvalues: [0.9437305  0.99835772 0.99835772]\n"
     ]
    },
    {
     "name": "stderr",
     "output_type": "stream",
     "text": [
      "Rolling DNS Forecast:  54%|█████▍    | 409/756 [34:25<29:06,  5.03s/it]"
     ]
    },
    {
     "name": "stdout",
     "output_type": "stream",
     "text": [
      "[DEBUG] Eigenvalues: [0.94327983 0.99842951 0.99842951]\n"
     ]
    },
    {
     "name": "stderr",
     "output_type": "stream",
     "text": [
      "Rolling DNS Forecast:  54%|█████▍    | 410/756 [34:30<28:59,  5.03s/it]"
     ]
    },
    {
     "name": "stdout",
     "output_type": "stream",
     "text": [
      "[DEBUG] Eigenvalues: [0.94414374 0.99840529 0.99840529]\n"
     ]
    },
    {
     "name": "stderr",
     "output_type": "stream",
     "text": [
      "Rolling DNS Forecast:  54%|█████▍    | 411/756 [34:35<28:55,  5.03s/it]"
     ]
    },
    {
     "name": "stdout",
     "output_type": "stream",
     "text": [
      "[DEBUG] Eigenvalues: [0.94358512 0.99838033 0.99838033]\n"
     ]
    },
    {
     "name": "stderr",
     "output_type": "stream",
     "text": [
      "Rolling DNS Forecast:  54%|█████▍    | 412/756 [34:40<28:52,  5.04s/it]"
     ]
    },
    {
     "name": "stdout",
     "output_type": "stream",
     "text": [
      "[DEBUG] Eigenvalues: [0.94239402 0.99827845 0.99827845]\n"
     ]
    },
    {
     "name": "stderr",
     "output_type": "stream",
     "text": [
      "Rolling DNS Forecast:  55%|█████▍    | 413/756 [34:45<28:46,  5.03s/it]"
     ]
    },
    {
     "name": "stdout",
     "output_type": "stream",
     "text": [
      "[DEBUG] Eigenvalues: [0.94332295 0.99820635 0.99820635]\n"
     ]
    },
    {
     "name": "stderr",
     "output_type": "stream",
     "text": [
      "Rolling DNS Forecast:  55%|█████▍    | 414/756 [34:50<28:39,  5.03s/it]"
     ]
    },
    {
     "name": "stdout",
     "output_type": "stream",
     "text": [
      "[DEBUG] Eigenvalues: [0.94331281 0.99815965 0.99815965]\n"
     ]
    },
    {
     "name": "stderr",
     "output_type": "stream",
     "text": [
      "Rolling DNS Forecast:  55%|█████▍    | 415/756 [34:55<28:46,  5.06s/it]"
     ]
    },
    {
     "name": "stdout",
     "output_type": "stream",
     "text": [
      "[DEBUG] Eigenvalues: [0.94366749 0.99815613 0.99815613]\n"
     ]
    },
    {
     "name": "stderr",
     "output_type": "stream",
     "text": [
      "Rolling DNS Forecast:  55%|█████▌    | 416/756 [35:00<28:41,  5.06s/it]"
     ]
    },
    {
     "name": "stdout",
     "output_type": "stream",
     "text": [
      "[DEBUG] Eigenvalues: [0.94265964 0.99821919 0.99821919]\n"
     ]
    },
    {
     "name": "stderr",
     "output_type": "stream",
     "text": [
      "Rolling DNS Forecast:  55%|█████▌    | 417/756 [35:06<28:39,  5.07s/it]"
     ]
    },
    {
     "name": "stdout",
     "output_type": "stream",
     "text": [
      "[DEBUG] Eigenvalues: [0.94332004 0.99817588 0.99817588]\n"
     ]
    },
    {
     "name": "stderr",
     "output_type": "stream",
     "text": [
      "Rolling DNS Forecast:  55%|█████▌    | 418/756 [35:11<28:31,  5.06s/it]"
     ]
    },
    {
     "name": "stdout",
     "output_type": "stream",
     "text": [
      "[DEBUG] Eigenvalues: [0.94274114 0.99819631 0.99819631]\n"
     ]
    },
    {
     "name": "stderr",
     "output_type": "stream",
     "text": [
      "Rolling DNS Forecast:  55%|█████▌    | 419/756 [35:16<28:26,  5.06s/it]"
     ]
    },
    {
     "name": "stdout",
     "output_type": "stream",
     "text": [
      "[DEBUG] Eigenvalues: [0.9423895  0.99813863 0.99813863]\n"
     ]
    },
    {
     "name": "stderr",
     "output_type": "stream",
     "text": [
      "Rolling DNS Forecast:  56%|█████▌    | 420/756 [35:21<28:19,  5.06s/it]"
     ]
    },
    {
     "name": "stdout",
     "output_type": "stream",
     "text": [
      "[DEBUG] Eigenvalues: [0.94214645 0.99814698 0.99814698]\n"
     ]
    },
    {
     "name": "stderr",
     "output_type": "stream",
     "text": [
      "Rolling DNS Forecast:  56%|█████▌    | 421/756 [35:26<28:13,  5.06s/it]"
     ]
    },
    {
     "name": "stdout",
     "output_type": "stream",
     "text": [
      "[DEBUG] Eigenvalues: [0.9420305  0.99816039 0.99816039]\n"
     ]
    },
    {
     "name": "stderr",
     "output_type": "stream",
     "text": [
      "Rolling DNS Forecast:  56%|█████▌    | 422/756 [35:31<28:08,  5.06s/it]"
     ]
    },
    {
     "name": "stdout",
     "output_type": "stream",
     "text": [
      "[DEBUG] Eigenvalues: [0.94184025 0.99814984 0.99814984]\n"
     ]
    },
    {
     "name": "stderr",
     "output_type": "stream",
     "text": [
      "Rolling DNS Forecast:  56%|█████▌    | 423/756 [35:36<28:03,  5.06s/it]"
     ]
    },
    {
     "name": "stdout",
     "output_type": "stream",
     "text": [
      "[DEBUG] Eigenvalues: [0.94182426 0.99812246 0.99812246]\n"
     ]
    },
    {
     "name": "stderr",
     "output_type": "stream",
     "text": [
      "Rolling DNS Forecast:  56%|█████▌    | 424/756 [35:41<28:00,  5.06s/it]"
     ]
    },
    {
     "name": "stdout",
     "output_type": "stream",
     "text": [
      "[DEBUG] Eigenvalues: [0.94201847 0.9980998  0.9980998 ]\n"
     ]
    },
    {
     "name": "stderr",
     "output_type": "stream",
     "text": [
      "Rolling DNS Forecast:  56%|█████▌    | 425/756 [35:46<27:57,  5.07s/it]"
     ]
    },
    {
     "name": "stdout",
     "output_type": "stream",
     "text": [
      "[DEBUG] Eigenvalues: [0.94152336 0.998092   0.998092  ]\n"
     ]
    },
    {
     "name": "stderr",
     "output_type": "stream",
     "text": [
      "Rolling DNS Forecast:  56%|█████▋    | 426/756 [35:51<27:52,  5.07s/it]"
     ]
    },
    {
     "name": "stdout",
     "output_type": "stream",
     "text": [
      "[DEBUG] Eigenvalues: [0.94171554 0.99811894 0.99811894]\n"
     ]
    },
    {
     "name": "stderr",
     "output_type": "stream",
     "text": [
      "Rolling DNS Forecast:  56%|█████▋    | 427/756 [35:56<27:49,  5.07s/it]"
     ]
    },
    {
     "name": "stdout",
     "output_type": "stream",
     "text": [
      "[DEBUG] Eigenvalues: [0.94224587 0.99810594 0.99810594]\n"
     ]
    },
    {
     "name": "stderr",
     "output_type": "stream",
     "text": [
      "Rolling DNS Forecast:  57%|█████▋    | 428/756 [36:01<27:46,  5.08s/it]"
     ]
    },
    {
     "name": "stdout",
     "output_type": "stream",
     "text": [
      "[DEBUG] Eigenvalues: [0.94300392 0.99807601 0.99807601]\n"
     ]
    },
    {
     "name": "stderr",
     "output_type": "stream",
     "text": [
      "Rolling DNS Forecast:  57%|█████▋    | 429/756 [36:06<27:40,  5.08s/it]"
     ]
    },
    {
     "name": "stdout",
     "output_type": "stream",
     "text": [
      "[DEBUG] Eigenvalues: [0.94287581 0.99810651 0.99810651]\n"
     ]
    },
    {
     "name": "stderr",
     "output_type": "stream",
     "text": [
      "Rolling DNS Forecast:  57%|█████▋    | 430/756 [36:11<27:34,  5.08s/it]"
     ]
    },
    {
     "name": "stdout",
     "output_type": "stream",
     "text": [
      "[DEBUG] Eigenvalues: [0.94313847 0.99803565 0.99803565]\n"
     ]
    },
    {
     "name": "stderr",
     "output_type": "stream",
     "text": [
      "Rolling DNS Forecast:  57%|█████▋    | 431/756 [36:17<27:28,  5.07s/it]"
     ]
    },
    {
     "name": "stdout",
     "output_type": "stream",
     "text": [
      "[DEBUG] Eigenvalues: [0.94265331 0.99802825 0.99802825]\n"
     ]
    },
    {
     "name": "stderr",
     "output_type": "stream",
     "text": [
      "Rolling DNS Forecast:  57%|█████▋    | 432/756 [36:22<27:23,  5.07s/it]"
     ]
    },
    {
     "name": "stdout",
     "output_type": "stream",
     "text": [
      "[DEBUG] Eigenvalues: [0.94194569 0.99799515 0.99799515]\n"
     ]
    },
    {
     "name": "stderr",
     "output_type": "stream",
     "text": [
      "Rolling DNS Forecast:  57%|█████▋    | 433/756 [36:27<27:16,  5.07s/it]"
     ]
    },
    {
     "name": "stdout",
     "output_type": "stream",
     "text": [
      "[DEBUG] Eigenvalues: [0.94239155 0.99795752 0.99795752]\n"
     ]
    },
    {
     "name": "stderr",
     "output_type": "stream",
     "text": [
      "Rolling DNS Forecast:  57%|█████▋    | 434/756 [36:32<27:12,  5.07s/it]"
     ]
    },
    {
     "name": "stdout",
     "output_type": "stream",
     "text": [
      "[DEBUG] Eigenvalues: [0.94225905 0.99786711 0.99786711]\n"
     ]
    },
    {
     "name": "stderr",
     "output_type": "stream",
     "text": [
      "Rolling DNS Forecast:  58%|█████▊    | 435/756 [36:37<27:07,  5.07s/it]"
     ]
    },
    {
     "name": "stdout",
     "output_type": "stream",
     "text": [
      "[DEBUG] Eigenvalues: [0.94228864 0.99786457 0.99786457]\n"
     ]
    },
    {
     "name": "stderr",
     "output_type": "stream",
     "text": [
      "Rolling DNS Forecast:  58%|█████▊    | 436/756 [36:42<27:02,  5.07s/it]"
     ]
    },
    {
     "name": "stdout",
     "output_type": "stream",
     "text": [
      "[DEBUG] Eigenvalues: [0.94198318 0.99784589 0.99784589]\n"
     ]
    },
    {
     "name": "stderr",
     "output_type": "stream",
     "text": [
      "Rolling DNS Forecast:  58%|█████▊    | 437/756 [36:47<26:56,  5.07s/it]"
     ]
    },
    {
     "name": "stdout",
     "output_type": "stream",
     "text": [
      "[DEBUG] Eigenvalues: [0.94184909 0.99794565 0.99794565]\n"
     ]
    },
    {
     "name": "stderr",
     "output_type": "stream",
     "text": [
      "Rolling DNS Forecast:  58%|█████▊    | 438/756 [36:52<26:51,  5.07s/it]"
     ]
    },
    {
     "name": "stdout",
     "output_type": "stream",
     "text": [
      "[DEBUG] Eigenvalues: [0.94160377 0.99792159 0.99792159]\n"
     ]
    },
    {
     "name": "stderr",
     "output_type": "stream",
     "text": [
      "Rolling DNS Forecast:  58%|█████▊    | 439/756 [36:57<26:45,  5.07s/it]"
     ]
    },
    {
     "name": "stdout",
     "output_type": "stream",
     "text": [
      "[DEBUG] Eigenvalues: [0.94127652 0.99790648 0.99790648]\n"
     ]
    },
    {
     "name": "stderr",
     "output_type": "stream",
     "text": [
      "Rolling DNS Forecast:  58%|█████▊    | 440/756 [37:02<26:37,  5.06s/it]"
     ]
    },
    {
     "name": "stdout",
     "output_type": "stream",
     "text": [
      "[DEBUG] Eigenvalues: [0.94088909 0.99794645 0.99794645]\n"
     ]
    },
    {
     "name": "stderr",
     "output_type": "stream",
     "text": [
      "Rolling DNS Forecast:  58%|█████▊    | 441/756 [37:07<26:28,  5.04s/it]"
     ]
    },
    {
     "name": "stdout",
     "output_type": "stream",
     "text": [
      "[DEBUG] Eigenvalues: [0.94072984 0.99790733 0.99790733]\n"
     ]
    },
    {
     "name": "stderr",
     "output_type": "stream",
     "text": [
      "Rolling DNS Forecast:  58%|█████▊    | 442/756 [37:12<26:23,  5.04s/it]"
     ]
    },
    {
     "name": "stdout",
     "output_type": "stream",
     "text": [
      "[DEBUG] Eigenvalues: [0.94052749 0.99793312 0.99793312]\n"
     ]
    },
    {
     "name": "stderr",
     "output_type": "stream",
     "text": [
      "Rolling DNS Forecast:  59%|█████▊    | 443/756 [37:17<26:20,  5.05s/it]"
     ]
    },
    {
     "name": "stdout",
     "output_type": "stream",
     "text": [
      "[DEBUG] Eigenvalues: [0.9407492  0.99791758 0.99791758]\n"
     ]
    },
    {
     "name": "stderr",
     "output_type": "stream",
     "text": [
      "Rolling DNS Forecast:  59%|█████▊    | 444/756 [37:22<26:16,  5.05s/it]"
     ]
    },
    {
     "name": "stdout",
     "output_type": "stream",
     "text": [
      "[DEBUG] Eigenvalues: [0.94096591 0.99793779 0.99793779]\n"
     ]
    },
    {
     "name": "stderr",
     "output_type": "stream",
     "text": [
      "Rolling DNS Forecast:  59%|█████▉    | 445/756 [37:27<26:10,  5.05s/it]"
     ]
    },
    {
     "name": "stdout",
     "output_type": "stream",
     "text": [
      "[DEBUG] Eigenvalues: [0.94082708 0.99791067 0.99791067]\n"
     ]
    },
    {
     "name": "stderr",
     "output_type": "stream",
     "text": [
      "Rolling DNS Forecast:  59%|█████▉    | 446/756 [37:32<26:04,  5.05s/it]"
     ]
    },
    {
     "name": "stdout",
     "output_type": "stream",
     "text": [
      "[DEBUG] Eigenvalues: [0.94096637 0.99785663 0.99785663]\n"
     ]
    },
    {
     "name": "stderr",
     "output_type": "stream",
     "text": [
      "Rolling DNS Forecast:  59%|█████▉    | 447/756 [37:37<25:58,  5.04s/it]"
     ]
    },
    {
     "name": "stdout",
     "output_type": "stream",
     "text": [
      "[DEBUG] Eigenvalues: [0.94101855 0.99784829 0.99784829]\n"
     ]
    },
    {
     "name": "stderr",
     "output_type": "stream",
     "text": [
      "Rolling DNS Forecast:  59%|█████▉    | 448/756 [37:42<25:52,  5.04s/it]"
     ]
    },
    {
     "name": "stdout",
     "output_type": "stream",
     "text": [
      "[DEBUG] Eigenvalues: [0.94101923 0.99781018 0.99781018]\n"
     ]
    },
    {
     "name": "stderr",
     "output_type": "stream",
     "text": [
      "Rolling DNS Forecast:  59%|█████▉    | 449/756 [37:47<25:46,  5.04s/it]"
     ]
    },
    {
     "name": "stdout",
     "output_type": "stream",
     "text": [
      "[DEBUG] Eigenvalues: [0.94125181 0.99777396 0.99777396]\n"
     ]
    },
    {
     "name": "stderr",
     "output_type": "stream",
     "text": [
      "Rolling DNS Forecast:  60%|█████▉    | 450/756 [37:52<25:40,  5.04s/it]"
     ]
    },
    {
     "name": "stdout",
     "output_type": "stream",
     "text": [
      "[DEBUG] Eigenvalues: [0.94119485 0.99777672 0.99777672]\n"
     ]
    },
    {
     "name": "stderr",
     "output_type": "stream",
     "text": [
      "Rolling DNS Forecast:  60%|█████▉    | 451/756 [37:57<25:33,  5.03s/it]"
     ]
    },
    {
     "name": "stdout",
     "output_type": "stream",
     "text": [
      "[DEBUG] Eigenvalues: [0.94118318 0.9977918  0.9977918 ]\n"
     ]
    },
    {
     "name": "stderr",
     "output_type": "stream",
     "text": [
      "Rolling DNS Forecast:  60%|█████▉    | 452/756 [38:03<25:29,  5.03s/it]"
     ]
    },
    {
     "name": "stdout",
     "output_type": "stream",
     "text": [
      "[DEBUG] Eigenvalues: [0.94087196 0.99779684 0.99779684]\n"
     ]
    },
    {
     "name": "stderr",
     "output_type": "stream",
     "text": [
      "Rolling DNS Forecast:  60%|█████▉    | 453/756 [38:08<25:23,  5.03s/it]"
     ]
    },
    {
     "name": "stdout",
     "output_type": "stream",
     "text": [
      "[DEBUG] Eigenvalues: [0.94100199 0.99775877 0.99775877]\n"
     ]
    },
    {
     "name": "stderr",
     "output_type": "stream",
     "text": [
      "Rolling DNS Forecast:  60%|██████    | 454/756 [38:13<25:21,  5.04s/it]"
     ]
    },
    {
     "name": "stdout",
     "output_type": "stream",
     "text": [
      "[DEBUG] Eigenvalues: [0.94143845 0.99774115 0.99774115]\n"
     ]
    },
    {
     "name": "stderr",
     "output_type": "stream",
     "text": [
      "Rolling DNS Forecast:  60%|██████    | 455/756 [38:18<25:17,  5.04s/it]"
     ]
    },
    {
     "name": "stdout",
     "output_type": "stream",
     "text": [
      "[DEBUG] Eigenvalues: [0.94141968 0.99777117 0.99777117]\n"
     ]
    },
    {
     "name": "stderr",
     "output_type": "stream",
     "text": [
      "Rolling DNS Forecast:  60%|██████    | 456/756 [38:23<25:11,  5.04s/it]"
     ]
    },
    {
     "name": "stdout",
     "output_type": "stream",
     "text": [
      "[DEBUG] Eigenvalues: [0.94198624 0.99772393 0.99772393]\n"
     ]
    },
    {
     "name": "stderr",
     "output_type": "stream",
     "text": [
      "Rolling DNS Forecast:  60%|██████    | 457/756 [38:28<25:07,  5.04s/it]"
     ]
    },
    {
     "name": "stdout",
     "output_type": "stream",
     "text": [
      "[DEBUG] Eigenvalues: [0.94210106 0.99770409 0.99770409]\n"
     ]
    },
    {
     "name": "stderr",
     "output_type": "stream",
     "text": [
      "Rolling DNS Forecast:  61%|██████    | 458/756 [38:33<25:03,  5.05s/it]"
     ]
    },
    {
     "name": "stdout",
     "output_type": "stream",
     "text": [
      "[DEBUG] Eigenvalues: [0.94207306 0.99774402 0.99774402]\n"
     ]
    },
    {
     "name": "stderr",
     "output_type": "stream",
     "text": [
      "Rolling DNS Forecast:  61%|██████    | 459/756 [38:38<24:57,  5.04s/it]"
     ]
    },
    {
     "name": "stdout",
     "output_type": "stream",
     "text": [
      "[DEBUG] Eigenvalues: [0.94244785 0.99782373 0.99782373]\n"
     ]
    },
    {
     "name": "stderr",
     "output_type": "stream",
     "text": [
      "Rolling DNS Forecast:  61%|██████    | 460/756 [38:43<24:51,  5.04s/it]"
     ]
    },
    {
     "name": "stdout",
     "output_type": "stream",
     "text": [
      "[DEBUG] Eigenvalues: [0.94259956 0.99780352 0.99780352]\n"
     ]
    },
    {
     "name": "stderr",
     "output_type": "stream",
     "text": [
      "Rolling DNS Forecast:  61%|██████    | 461/756 [38:48<24:47,  5.04s/it]"
     ]
    },
    {
     "name": "stdout",
     "output_type": "stream",
     "text": [
      "[DEBUG] Eigenvalues: [0.94295346 0.99774652 0.99774652]\n"
     ]
    },
    {
     "name": "stderr",
     "output_type": "stream",
     "text": [
      "Rolling DNS Forecast:  61%|██████    | 462/756 [38:53<24:42,  5.04s/it]"
     ]
    },
    {
     "name": "stdout",
     "output_type": "stream",
     "text": [
      "[DEBUG] Eigenvalues: [0.94295136 0.99766107 0.99766107]\n"
     ]
    },
    {
     "name": "stderr",
     "output_type": "stream",
     "text": [
      "Rolling DNS Forecast:  61%|██████    | 463/756 [38:58<24:40,  5.05s/it]"
     ]
    },
    {
     "name": "stdout",
     "output_type": "stream",
     "text": [
      "[DEBUG] Eigenvalues: [0.94349432 0.99768571 0.99768571]\n"
     ]
    },
    {
     "name": "stderr",
     "output_type": "stream",
     "text": [
      "Rolling DNS Forecast:  61%|██████▏   | 464/756 [39:03<24:36,  5.06s/it]"
     ]
    },
    {
     "name": "stdout",
     "output_type": "stream",
     "text": [
      "[DEBUG] Eigenvalues: [0.94357345 0.99764085 0.99764085]\n"
     ]
    },
    {
     "name": "stderr",
     "output_type": "stream",
     "text": [
      "Rolling DNS Forecast:  62%|██████▏   | 465/756 [39:08<24:31,  5.06s/it]"
     ]
    },
    {
     "name": "stdout",
     "output_type": "stream",
     "text": [
      "[DEBUG] Eigenvalues: [0.94348183 0.9975568  0.9975568 ]\n"
     ]
    },
    {
     "name": "stderr",
     "output_type": "stream",
     "text": [
      "Rolling DNS Forecast:  62%|██████▏   | 466/756 [39:13<24:26,  5.06s/it]"
     ]
    },
    {
     "name": "stdout",
     "output_type": "stream",
     "text": [
      "[DEBUG] Eigenvalues: [0.94369579 0.99753951 0.99753951]\n"
     ]
    },
    {
     "name": "stderr",
     "output_type": "stream",
     "text": [
      "Rolling DNS Forecast:  62%|██████▏   | 467/756 [39:18<24:21,  5.06s/it]"
     ]
    },
    {
     "name": "stdout",
     "output_type": "stream",
     "text": [
      "[DEBUG] Eigenvalues: [0.94399734 0.99755763 0.99755763]\n"
     ]
    },
    {
     "name": "stderr",
     "output_type": "stream",
     "text": [
      "Rolling DNS Forecast:  62%|██████▏   | 468/756 [39:23<24:15,  5.05s/it]"
     ]
    },
    {
     "name": "stdout",
     "output_type": "stream",
     "text": [
      "[DEBUG] Eigenvalues: [0.94411069 0.99755973 0.99755973]\n"
     ]
    },
    {
     "name": "stderr",
     "output_type": "stream",
     "text": [
      "Rolling DNS Forecast:  62%|██████▏   | 469/756 [39:28<24:10,  5.05s/it]"
     ]
    },
    {
     "name": "stdout",
     "output_type": "stream",
     "text": [
      "[DEBUG] Eigenvalues: [0.94416453 0.99751705 0.99751705]\n"
     ]
    },
    {
     "name": "stderr",
     "output_type": "stream",
     "text": [
      "Rolling DNS Forecast:  62%|██████▏   | 470/756 [39:33<24:10,  5.07s/it]"
     ]
    },
    {
     "name": "stdout",
     "output_type": "stream",
     "text": [
      "[DEBUG] Eigenvalues: [0.94386794 0.99754048 0.99754048]\n"
     ]
    },
    {
     "name": "stderr",
     "output_type": "stream",
     "text": [
      "Rolling DNS Forecast:  62%|██████▏   | 471/756 [39:39<24:06,  5.08s/it]"
     ]
    },
    {
     "name": "stdout",
     "output_type": "stream",
     "text": [
      "[DEBUG] Eigenvalues: [0.94376963 0.99746182 0.99746182]\n"
     ]
    },
    {
     "name": "stderr",
     "output_type": "stream",
     "text": [
      "Rolling DNS Forecast:  62%|██████▏   | 472/756 [39:44<24:03,  5.08s/it]"
     ]
    },
    {
     "name": "stdout",
     "output_type": "stream",
     "text": [
      "[DEBUG] Eigenvalues: [0.94366093 0.99745439 0.99745439]\n"
     ]
    },
    {
     "name": "stderr",
     "output_type": "stream",
     "text": [
      "Rolling DNS Forecast:  63%|██████▎   | 473/756 [39:49<23:54,  5.07s/it]"
     ]
    },
    {
     "name": "stdout",
     "output_type": "stream",
     "text": [
      "[DEBUG] Eigenvalues: [0.94334229 0.9973923  0.9973923 ]\n"
     ]
    },
    {
     "name": "stderr",
     "output_type": "stream",
     "text": [
      "Rolling DNS Forecast:  63%|██████▎   | 474/756 [39:54<23:48,  5.07s/it]"
     ]
    },
    {
     "name": "stdout",
     "output_type": "stream",
     "text": [
      "[DEBUG] Eigenvalues: [0.94336482 0.99720659 0.99720659]\n"
     ]
    },
    {
     "name": "stderr",
     "output_type": "stream",
     "text": [
      "Rolling DNS Forecast:  63%|██████▎   | 475/756 [39:59<23:42,  5.06s/it]"
     ]
    },
    {
     "name": "stdout",
     "output_type": "stream",
     "text": [
      "[DEBUG] Eigenvalues: [0.94371045 0.99713129 0.99713129]\n"
     ]
    },
    {
     "name": "stderr",
     "output_type": "stream",
     "text": [
      "Rolling DNS Forecast:  63%|██████▎   | 476/756 [40:04<23:39,  5.07s/it]"
     ]
    },
    {
     "name": "stdout",
     "output_type": "stream",
     "text": [
      "[DEBUG] Eigenvalues: [0.94358279 0.99716539 0.99716539]\n"
     ]
    },
    {
     "name": "stderr",
     "output_type": "stream",
     "text": [
      "Rolling DNS Forecast:  63%|██████▎   | 477/756 [40:09<23:34,  5.07s/it]"
     ]
    },
    {
     "name": "stdout",
     "output_type": "stream",
     "text": [
      "[DEBUG] Eigenvalues: [0.94346618 0.99700654 0.99700654]\n"
     ]
    },
    {
     "name": "stderr",
     "output_type": "stream",
     "text": [
      "Rolling DNS Forecast:  63%|██████▎   | 478/756 [40:14<23:28,  5.07s/it]"
     ]
    },
    {
     "name": "stdout",
     "output_type": "stream",
     "text": [
      "[DEBUG] Eigenvalues: [0.94342139 0.99693827 0.99693827]\n"
     ]
    },
    {
     "name": "stderr",
     "output_type": "stream",
     "text": [
      "Rolling DNS Forecast:  63%|██████▎   | 479/756 [40:19<23:24,  5.07s/it]"
     ]
    },
    {
     "name": "stdout",
     "output_type": "stream",
     "text": [
      "[DEBUG] Eigenvalues: [0.94330646 0.99691639 0.99691639]\n"
     ]
    },
    {
     "name": "stderr",
     "output_type": "stream",
     "text": [
      "Rolling DNS Forecast:  63%|██████▎   | 480/756 [40:24<23:18,  5.07s/it]"
     ]
    },
    {
     "name": "stdout",
     "output_type": "stream",
     "text": [
      "[DEBUG] Eigenvalues: [0.94356093 0.99695082 0.99695082]\n"
     ]
    },
    {
     "name": "stderr",
     "output_type": "stream",
     "text": [
      "Rolling DNS Forecast:  64%|██████▎   | 481/756 [40:29<23:12,  5.06s/it]"
     ]
    },
    {
     "name": "stdout",
     "output_type": "stream",
     "text": [
      "[DEBUG] Eigenvalues: [0.94417899 0.9969113  0.9969113 ]\n"
     ]
    },
    {
     "name": "stderr",
     "output_type": "stream",
     "text": [
      "Rolling DNS Forecast:  64%|██████▍   | 482/756 [40:34<23:06,  5.06s/it]"
     ]
    },
    {
     "name": "stdout",
     "output_type": "stream",
     "text": [
      "[DEBUG] Eigenvalues: [0.9441859  0.99689874 0.99689874]\n"
     ]
    },
    {
     "name": "stderr",
     "output_type": "stream",
     "text": [
      "Rolling DNS Forecast:  64%|██████▍   | 483/756 [40:39<23:00,  5.06s/it]"
     ]
    },
    {
     "name": "stdout",
     "output_type": "stream",
     "text": [
      "[DEBUG] Eigenvalues: [0.94402868 0.99683302 0.99683302]\n"
     ]
    },
    {
     "name": "stderr",
     "output_type": "stream",
     "text": [
      "Rolling DNS Forecast:  64%|██████▍   | 484/756 [40:44<22:53,  5.05s/it]"
     ]
    },
    {
     "name": "stdout",
     "output_type": "stream",
     "text": [
      "[DEBUG] Eigenvalues: [0.94407998 0.9967557  0.9967557 ]\n"
     ]
    },
    {
     "name": "stderr",
     "output_type": "stream",
     "text": [
      "Rolling DNS Forecast:  64%|██████▍   | 485/756 [40:49<22:49,  5.05s/it]"
     ]
    },
    {
     "name": "stdout",
     "output_type": "stream",
     "text": [
      "[DEBUG] Eigenvalues: [0.94384257 0.99668092 0.99668092]\n"
     ]
    },
    {
     "name": "stderr",
     "output_type": "stream",
     "text": [
      "Rolling DNS Forecast:  64%|██████▍   | 486/756 [40:54<22:45,  5.06s/it]"
     ]
    },
    {
     "name": "stdout",
     "output_type": "stream",
     "text": [
      "[DEBUG] Eigenvalues: [0.94374794 0.99672024 0.99672024]\n"
     ]
    },
    {
     "name": "stderr",
     "output_type": "stream",
     "text": [
      "Rolling DNS Forecast:  64%|██████▍   | 487/756 [41:00<22:38,  5.05s/it]"
     ]
    },
    {
     "name": "stdout",
     "output_type": "stream",
     "text": [
      "[DEBUG] Eigenvalues: [0.94397278 0.99674443 0.99674443]\n"
     ]
    },
    {
     "name": "stderr",
     "output_type": "stream",
     "text": [
      "Rolling DNS Forecast:  65%|██████▍   | 488/756 [41:05<22:36,  5.06s/it]"
     ]
    },
    {
     "name": "stdout",
     "output_type": "stream",
     "text": [
      "[DEBUG] Eigenvalues: [0.94414769 0.99678724 0.99678724]\n"
     ]
    },
    {
     "name": "stderr",
     "output_type": "stream",
     "text": [
      "Rolling DNS Forecast:  65%|██████▍   | 489/756 [41:10<22:32,  5.07s/it]"
     ]
    },
    {
     "name": "stdout",
     "output_type": "stream",
     "text": [
      "[DEBUG] Eigenvalues: [0.94368864 0.9968212  0.9968212 ]\n"
     ]
    },
    {
     "name": "stderr",
     "output_type": "stream",
     "text": [
      "Rolling DNS Forecast:  65%|██████▍   | 490/756 [41:15<22:27,  5.07s/it]"
     ]
    },
    {
     "name": "stdout",
     "output_type": "stream",
     "text": [
      "[DEBUG] Eigenvalues: [0.94355578 0.99671733 0.99671733]\n"
     ]
    },
    {
     "name": "stderr",
     "output_type": "stream",
     "text": [
      "Rolling DNS Forecast:  65%|██████▍   | 491/756 [41:20<22:23,  5.07s/it]"
     ]
    },
    {
     "name": "stdout",
     "output_type": "stream",
     "text": [
      "[DEBUG] Eigenvalues: [0.94397146 0.99669603 0.99669603]\n"
     ]
    },
    {
     "name": "stderr",
     "output_type": "stream",
     "text": [
      "Rolling DNS Forecast:  65%|██████▌   | 492/756 [41:25<22:15,  5.06s/it]"
     ]
    },
    {
     "name": "stdout",
     "output_type": "stream",
     "text": [
      "[DEBUG] Eigenvalues: [0.94384281 0.9966625  0.9966625 ]\n"
     ]
    },
    {
     "name": "stderr",
     "output_type": "stream",
     "text": [
      "Rolling DNS Forecast:  65%|██████▌   | 493/756 [41:30<22:10,  5.06s/it]"
     ]
    },
    {
     "name": "stdout",
     "output_type": "stream",
     "text": [
      "[DEBUG] Eigenvalues: [0.94388982 0.99667876 0.99667876]\n"
     ]
    },
    {
     "name": "stderr",
     "output_type": "stream",
     "text": [
      "Rolling DNS Forecast:  65%|██████▌   | 494/756 [41:35<22:05,  5.06s/it]"
     ]
    },
    {
     "name": "stdout",
     "output_type": "stream",
     "text": [
      "[DEBUG] Eigenvalues: [0.9437021  0.99666691 0.99666691]\n"
     ]
    },
    {
     "name": "stderr",
     "output_type": "stream",
     "text": [
      "Rolling DNS Forecast:  65%|██████▌   | 495/756 [41:40<21:59,  5.05s/it]"
     ]
    },
    {
     "name": "stdout",
     "output_type": "stream",
     "text": [
      "[DEBUG] Eigenvalues: [0.94362214 0.99667486 0.99667486]\n"
     ]
    },
    {
     "name": "stderr",
     "output_type": "stream",
     "text": [
      "Rolling DNS Forecast:  66%|██████▌   | 496/756 [41:45<21:51,  5.05s/it]"
     ]
    },
    {
     "name": "stdout",
     "output_type": "stream",
     "text": [
      "[DEBUG] Eigenvalues: [0.94352234 0.99667891 0.99667891]\n"
     ]
    },
    {
     "name": "stderr",
     "output_type": "stream",
     "text": [
      "Rolling DNS Forecast:  66%|██████▌   | 497/756 [41:50<21:45,  5.04s/it]"
     ]
    },
    {
     "name": "stdout",
     "output_type": "stream",
     "text": [
      "[DEBUG] Eigenvalues: [0.94344484 0.99669604 0.99669604]\n"
     ]
    },
    {
     "name": "stderr",
     "output_type": "stream",
     "text": [
      "Rolling DNS Forecast:  66%|██████▌   | 498/756 [41:55<21:38,  5.03s/it]"
     ]
    },
    {
     "name": "stdout",
     "output_type": "stream",
     "text": [
      "[DEBUG] Eigenvalues: [0.9436712 0.9967562 0.9967562]\n"
     ]
    },
    {
     "name": "stderr",
     "output_type": "stream",
     "text": [
      "Rolling DNS Forecast:  66%|██████▌   | 499/756 [42:00<21:32,  5.03s/it]"
     ]
    },
    {
     "name": "stdout",
     "output_type": "stream",
     "text": [
      "[DEBUG] Eigenvalues: [0.94363889 0.99675387 0.99675387]\n"
     ]
    },
    {
     "name": "stderr",
     "output_type": "stream",
     "text": [
      "Rolling DNS Forecast:  66%|██████▌   | 500/756 [42:05<21:26,  5.02s/it]"
     ]
    },
    {
     "name": "stdout",
     "output_type": "stream",
     "text": [
      "[DEBUG] Eigenvalues: [0.94359293 0.99670855 0.99670855]\n"
     ]
    },
    {
     "name": "stderr",
     "output_type": "stream",
     "text": [
      "Rolling DNS Forecast:  66%|██████▋   | 501/756 [42:10<21:22,  5.03s/it]"
     ]
    },
    {
     "name": "stdout",
     "output_type": "stream",
     "text": [
      "[DEBUG] Eigenvalues: [0.94373275 0.99662291 0.99662291]\n"
     ]
    },
    {
     "name": "stderr",
     "output_type": "stream",
     "text": [
      "Rolling DNS Forecast:  66%|██████▋   | 502/756 [42:15<21:20,  5.04s/it]"
     ]
    },
    {
     "name": "stdout",
     "output_type": "stream",
     "text": [
      "[DEBUG] Eigenvalues: [0.94384655 0.99660726 0.99660726]\n"
     ]
    },
    {
     "name": "stderr",
     "output_type": "stream",
     "text": [
      "Rolling DNS Forecast:  67%|██████▋   | 503/756 [42:20<21:17,  5.05s/it]"
     ]
    },
    {
     "name": "stdout",
     "output_type": "stream",
     "text": [
      "[DEBUG] Eigenvalues: [0.94415284 0.99656743 0.99656743]\n"
     ]
    },
    {
     "name": "stderr",
     "output_type": "stream",
     "text": [
      "Rolling DNS Forecast:  67%|██████▋   | 504/756 [42:25<21:13,  5.06s/it]"
     ]
    },
    {
     "name": "stdout",
     "output_type": "stream",
     "text": [
      "[DEBUG] Eigenvalues: [0.94423679 0.99654872 0.99654872]\n"
     ]
    },
    {
     "name": "stderr",
     "output_type": "stream",
     "text": [
      "Rolling DNS Forecast:  67%|██████▋   | 505/756 [42:30<21:11,  5.07s/it]"
     ]
    },
    {
     "name": "stdout",
     "output_type": "stream",
     "text": [
      "[DEBUG] Eigenvalues: [0.94444093 0.99655726 0.99655726]\n"
     ]
    },
    {
     "name": "stderr",
     "output_type": "stream",
     "text": [
      "Rolling DNS Forecast:  67%|██████▋   | 506/756 [42:36<21:06,  5.07s/it]"
     ]
    },
    {
     "name": "stdout",
     "output_type": "stream",
     "text": [
      "[DEBUG] Eigenvalues: [0.94417606 0.99650795 0.99650795]\n"
     ]
    },
    {
     "name": "stderr",
     "output_type": "stream",
     "text": [
      "Rolling DNS Forecast:  67%|██████▋   | 507/756 [42:41<21:02,  5.07s/it]"
     ]
    },
    {
     "name": "stdout",
     "output_type": "stream",
     "text": [
      "[DEBUG] Eigenvalues: [0.94414548 0.99646092 0.99646092]\n"
     ]
    },
    {
     "name": "stderr",
     "output_type": "stream",
     "text": [
      "Rolling DNS Forecast:  67%|██████▋   | 508/756 [42:46<20:54,  5.06s/it]"
     ]
    },
    {
     "name": "stdout",
     "output_type": "stream",
     "text": [
      "[DEBUG] Eigenvalues: [0.94405484 0.99639138 0.99639138]\n"
     ]
    },
    {
     "name": "stderr",
     "output_type": "stream",
     "text": [
      "Rolling DNS Forecast:  67%|██████▋   | 509/756 [42:51<20:46,  5.05s/it]"
     ]
    },
    {
     "name": "stdout",
     "output_type": "stream",
     "text": [
      "[DEBUG] Eigenvalues: [0.94390355 0.99636729 0.99636729]\n"
     ]
    },
    {
     "name": "stderr",
     "output_type": "stream",
     "text": [
      "Rolling DNS Forecast:  67%|██████▋   | 510/756 [42:56<20:40,  5.04s/it]"
     ]
    },
    {
     "name": "stdout",
     "output_type": "stream",
     "text": [
      "[DEBUG] Eigenvalues: [0.94405381 0.99631293 0.99631293]\n"
     ]
    },
    {
     "name": "stderr",
     "output_type": "stream",
     "text": [
      "Rolling DNS Forecast:  68%|██████▊   | 511/756 [43:01<20:35,  5.04s/it]"
     ]
    },
    {
     "name": "stdout",
     "output_type": "stream",
     "text": [
      "[DEBUG] Eigenvalues: [0.94411718 0.99631784 0.99631784]\n"
     ]
    },
    {
     "name": "stderr",
     "output_type": "stream",
     "text": [
      "Rolling DNS Forecast:  68%|██████▊   | 512/756 [43:06<20:30,  5.04s/it]"
     ]
    },
    {
     "name": "stdout",
     "output_type": "stream",
     "text": [
      "[DEBUG] Eigenvalues: [0.94401667 0.99629044 0.99629044]\n"
     ]
    },
    {
     "name": "stderr",
     "output_type": "stream",
     "text": [
      "Rolling DNS Forecast:  68%|██████▊   | 513/756 [43:11<20:23,  5.04s/it]"
     ]
    },
    {
     "name": "stdout",
     "output_type": "stream",
     "text": [
      "[DEBUG] Eigenvalues: [0.94392567 0.99623534 0.99623534]\n"
     ]
    },
    {
     "name": "stderr",
     "output_type": "stream",
     "text": [
      "Rolling DNS Forecast:  68%|██████▊   | 514/756 [43:16<20:17,  5.03s/it]"
     ]
    },
    {
     "name": "stdout",
     "output_type": "stream",
     "text": [
      "[DEBUG] Eigenvalues: [0.94379047 0.99604164 0.99604164]\n"
     ]
    },
    {
     "name": "stderr",
     "output_type": "stream",
     "text": [
      "Rolling DNS Forecast:  68%|██████▊   | 515/756 [43:21<20:14,  5.04s/it]"
     ]
    },
    {
     "name": "stdout",
     "output_type": "stream",
     "text": [
      "[DEBUG] Eigenvalues: [0.94407989 0.99599163 0.99599163]\n"
     ]
    },
    {
     "name": "stderr",
     "output_type": "stream",
     "text": [
      "Rolling DNS Forecast:  68%|██████▊   | 516/756 [43:26<20:08,  5.03s/it]"
     ]
    },
    {
     "name": "stdout",
     "output_type": "stream",
     "text": [
      "[DEBUG] Eigenvalues: [0.94426477 0.99594727 0.99594727]\n"
     ]
    },
    {
     "name": "stderr",
     "output_type": "stream",
     "text": [
      "Rolling DNS Forecast:  68%|██████▊   | 517/756 [43:31<20:04,  5.04s/it]"
     ]
    },
    {
     "name": "stdout",
     "output_type": "stream",
     "text": [
      "[DEBUG] Eigenvalues: [0.94423684 0.99597451 0.99597451]\n"
     ]
    },
    {
     "name": "stderr",
     "output_type": "stream",
     "text": [
      "Rolling DNS Forecast:  69%|██████▊   | 518/756 [43:36<20:00,  5.05s/it]"
     ]
    },
    {
     "name": "stdout",
     "output_type": "stream",
     "text": [
      "[DEBUG] Eigenvalues: [0.94413038 0.99593867 0.99593867]\n"
     ]
    },
    {
     "name": "stderr",
     "output_type": "stream",
     "text": [
      "Rolling DNS Forecast:  69%|██████▊   | 519/756 [43:41<19:55,  5.04s/it]"
     ]
    },
    {
     "name": "stdout",
     "output_type": "stream",
     "text": [
      "[DEBUG] Eigenvalues: [0.94459584 0.99595227 0.99595227]\n"
     ]
    },
    {
     "name": "stderr",
     "output_type": "stream",
     "text": [
      "Rolling DNS Forecast:  69%|██████▉   | 520/756 [43:46<19:50,  5.04s/it]"
     ]
    },
    {
     "name": "stdout",
     "output_type": "stream",
     "text": [
      "[DEBUG] Eigenvalues: [0.94468678 0.99591135 0.99591135]\n"
     ]
    },
    {
     "name": "stderr",
     "output_type": "stream",
     "text": [
      "Rolling DNS Forecast:  69%|██████▉   | 521/756 [43:51<19:43,  5.04s/it]"
     ]
    },
    {
     "name": "stdout",
     "output_type": "stream",
     "text": [
      "[DEBUG] Eigenvalues: [0.94449668 0.99585615 0.99585615]\n"
     ]
    },
    {
     "name": "stderr",
     "output_type": "stream",
     "text": [
      "Rolling DNS Forecast:  69%|██████▉   | 522/756 [43:56<19:37,  5.03s/it]"
     ]
    },
    {
     "name": "stdout",
     "output_type": "stream",
     "text": [
      "[DEBUG] Eigenvalues: [0.94491853 0.9957782  0.9957782 ]\n"
     ]
    },
    {
     "name": "stderr",
     "output_type": "stream",
     "text": [
      "Rolling DNS Forecast:  69%|██████▉   | 523/756 [44:01<19:35,  5.05s/it]"
     ]
    },
    {
     "name": "stdout",
     "output_type": "stream",
     "text": [
      "[DEBUG] Eigenvalues: [0.94544288 0.99577164 0.99577164]\n"
     ]
    },
    {
     "name": "stderr",
     "output_type": "stream",
     "text": [
      "Rolling DNS Forecast:  69%|██████▉   | 524/756 [44:06<19:33,  5.06s/it]"
     ]
    },
    {
     "name": "stdout",
     "output_type": "stream",
     "text": [
      "[DEBUG] Eigenvalues: [0.94528407 0.99575431 0.99575431]\n"
     ]
    },
    {
     "name": "stderr",
     "output_type": "stream",
     "text": [
      "Rolling DNS Forecast:  69%|██████▉   | 525/756 [44:11<19:30,  5.07s/it]"
     ]
    },
    {
     "name": "stdout",
     "output_type": "stream",
     "text": [
      "[DEBUG] Eigenvalues: [0.9463514  0.99571674 0.99571674]\n"
     ]
    },
    {
     "name": "stderr",
     "output_type": "stream",
     "text": [
      "Rolling DNS Forecast:  70%|██████▉   | 526/756 [44:16<19:27,  5.08s/it]"
     ]
    },
    {
     "name": "stdout",
     "output_type": "stream",
     "text": [
      "[DEBUG] Eigenvalues: [0.94699518 0.99572853 0.99572853]\n"
     ]
    },
    {
     "name": "stderr",
     "output_type": "stream",
     "text": [
      "Rolling DNS Forecast:  70%|██████▉   | 527/756 [44:22<19:23,  5.08s/it]"
     ]
    },
    {
     "name": "stdout",
     "output_type": "stream",
     "text": [
      "[DEBUG] Eigenvalues: [0.94647497 0.99565991 0.99565991]\n"
     ]
    },
    {
     "name": "stderr",
     "output_type": "stream",
     "text": [
      "Rolling DNS Forecast:  70%|██████▉   | 528/756 [44:27<19:18,  5.08s/it]"
     ]
    },
    {
     "name": "stdout",
     "output_type": "stream",
     "text": [
      "[DEBUG] Eigenvalues: [0.94675144 0.99556653 0.99556653]\n"
     ]
    },
    {
     "name": "stderr",
     "output_type": "stream",
     "text": [
      "Rolling DNS Forecast:  70%|██████▉   | 529/756 [44:32<19:15,  5.09s/it]"
     ]
    },
    {
     "name": "stdout",
     "output_type": "stream",
     "text": [
      "[DEBUG] Eigenvalues: [0.94689949 0.99555648 0.99555648]\n"
     ]
    },
    {
     "name": "stderr",
     "output_type": "stream",
     "text": [
      "Rolling DNS Forecast:  70%|███████   | 530/756 [44:37<19:11,  5.09s/it]"
     ]
    },
    {
     "name": "stdout",
     "output_type": "stream",
     "text": [
      "[DEBUG] Eigenvalues: [0.94701881 0.99549938 0.99549938]\n"
     ]
    },
    {
     "name": "stderr",
     "output_type": "stream",
     "text": [
      "Rolling DNS Forecast:  70%|███████   | 531/756 [44:42<19:05,  5.09s/it]"
     ]
    },
    {
     "name": "stdout",
     "output_type": "stream",
     "text": [
      "[DEBUG] Eigenvalues: [0.94710382 0.99541333 0.99541333]\n"
     ]
    },
    {
     "name": "stderr",
     "output_type": "stream",
     "text": [
      "Rolling DNS Forecast:  70%|███████   | 532/756 [44:47<18:59,  5.09s/it]"
     ]
    },
    {
     "name": "stdout",
     "output_type": "stream",
     "text": [
      "[DEBUG] Eigenvalues: [0.94764843 0.99544761 0.99544761]\n"
     ]
    },
    {
     "name": "stderr",
     "output_type": "stream",
     "text": [
      "Rolling DNS Forecast:  71%|███████   | 533/756 [44:52<18:53,  5.08s/it]"
     ]
    },
    {
     "name": "stdout",
     "output_type": "stream",
     "text": [
      "[DEBUG] Eigenvalues: [0.94793203 0.99543729 0.99543729]\n"
     ]
    },
    {
     "name": "stderr",
     "output_type": "stream",
     "text": [
      "Rolling DNS Forecast:  71%|███████   | 534/756 [44:57<18:46,  5.07s/it]"
     ]
    },
    {
     "name": "stdout",
     "output_type": "stream",
     "text": [
      "[DEBUG] Eigenvalues: [0.94815377 0.99543116 0.99543116]\n"
     ]
    },
    {
     "name": "stderr",
     "output_type": "stream",
     "text": [
      "Rolling DNS Forecast:  71%|███████   | 535/756 [45:02<18:40,  5.07s/it]"
     ]
    },
    {
     "name": "stdout",
     "output_type": "stream",
     "text": [
      "[DEBUG] Eigenvalues: [0.94798058 0.99540382 0.99540382]\n"
     ]
    },
    {
     "name": "stderr",
     "output_type": "stream",
     "text": [
      "Rolling DNS Forecast:  71%|███████   | 536/756 [45:07<18:35,  5.07s/it]"
     ]
    },
    {
     "name": "stdout",
     "output_type": "stream",
     "text": [
      "[DEBUG] Eigenvalues: [0.94857504 0.99542044 0.99542044]\n"
     ]
    },
    {
     "name": "stderr",
     "output_type": "stream",
     "text": [
      "Rolling DNS Forecast:  71%|███████   | 537/756 [45:12<18:26,  5.05s/it]"
     ]
    },
    {
     "name": "stdout",
     "output_type": "stream",
     "text": [
      "[DEBUG] Eigenvalues: [0.94860122 0.99542236 0.99542236]\n"
     ]
    },
    {
     "name": "stderr",
     "output_type": "stream",
     "text": [
      "Rolling DNS Forecast:  71%|███████   | 538/756 [45:17<18:18,  5.04s/it]"
     ]
    },
    {
     "name": "stdout",
     "output_type": "stream",
     "text": [
      "[DEBUG] Eigenvalues: [0.94873543 0.99549032 0.99549032]\n"
     ]
    },
    {
     "name": "stderr",
     "output_type": "stream",
     "text": [
      "Rolling DNS Forecast:  71%|███████▏  | 539/756 [45:22<18:13,  5.04s/it]"
     ]
    },
    {
     "name": "stdout",
     "output_type": "stream",
     "text": [
      "[DEBUG] Eigenvalues: [0.9484081  0.99549604 0.99549604]\n"
     ]
    },
    {
     "name": "stderr",
     "output_type": "stream",
     "text": [
      "Rolling DNS Forecast:  71%|███████▏  | 540/756 [45:27<18:07,  5.04s/it]"
     ]
    },
    {
     "name": "stdout",
     "output_type": "stream",
     "text": [
      "[DEBUG] Eigenvalues: [0.94833126 0.99547136 0.99547136]\n"
     ]
    },
    {
     "name": "stderr",
     "output_type": "stream",
     "text": [
      "Rolling DNS Forecast:  72%|███████▏  | 541/756 [45:32<18:04,  5.04s/it]"
     ]
    },
    {
     "name": "stdout",
     "output_type": "stream",
     "text": [
      "[DEBUG] Eigenvalues: [0.94836961 0.99546449 0.99546449]\n"
     ]
    },
    {
     "name": "stderr",
     "output_type": "stream",
     "text": [
      "Rolling DNS Forecast:  72%|███████▏  | 542/756 [45:37<17:59,  5.04s/it]"
     ]
    },
    {
     "name": "stdout",
     "output_type": "stream",
     "text": [
      "[DEBUG] Eigenvalues: [0.94843122 0.99561529 0.99561529]\n"
     ]
    },
    {
     "name": "stderr",
     "output_type": "stream",
     "text": [
      "Rolling DNS Forecast:  72%|███████▏  | 543/756 [45:43<17:53,  5.04s/it]"
     ]
    },
    {
     "name": "stdout",
     "output_type": "stream",
     "text": [
      "[DEBUG] Eigenvalues: [0.94861112 0.99581383 0.99581383]\n"
     ]
    },
    {
     "name": "stderr",
     "output_type": "stream",
     "text": [
      "Rolling DNS Forecast:  72%|███████▏  | 544/756 [45:48<17:47,  5.03s/it]"
     ]
    },
    {
     "name": "stdout",
     "output_type": "stream",
     "text": [
      "[DEBUG] Eigenvalues: [0.94901105 0.99594558 0.99594558]\n"
     ]
    },
    {
     "name": "stderr",
     "output_type": "stream",
     "text": [
      "Rolling DNS Forecast:  72%|███████▏  | 545/756 [45:53<17:42,  5.04s/it]"
     ]
    },
    {
     "name": "stdout",
     "output_type": "stream",
     "text": [
      "[DEBUG] Eigenvalues: [0.94895428 0.99581112 0.99581112]\n"
     ]
    },
    {
     "name": "stderr",
     "output_type": "stream",
     "text": [
      "Rolling DNS Forecast:  72%|███████▏  | 546/756 [45:58<17:37,  5.04s/it]"
     ]
    },
    {
     "name": "stdout",
     "output_type": "stream",
     "text": [
      "[DEBUG] Eigenvalues: [0.9489319 0.9957535 0.9957535]\n"
     ]
    },
    {
     "name": "stderr",
     "output_type": "stream",
     "text": [
      "Rolling DNS Forecast:  72%|███████▏  | 547/756 [46:03<17:32,  5.04s/it]"
     ]
    },
    {
     "name": "stdout",
     "output_type": "stream",
     "text": [
      "[DEBUG] Eigenvalues: [0.94872644 0.99578151 0.99578151]\n"
     ]
    },
    {
     "name": "stderr",
     "output_type": "stream",
     "text": [
      "Rolling DNS Forecast:  72%|███████▏  | 548/756 [46:08<17:29,  5.05s/it]"
     ]
    },
    {
     "name": "stdout",
     "output_type": "stream",
     "text": [
      "[DEBUG] Eigenvalues: [0.94875409 0.99574848 0.99574848]\n"
     ]
    },
    {
     "name": "stderr",
     "output_type": "stream",
     "text": [
      "Rolling DNS Forecast:  73%|███████▎  | 549/756 [46:13<17:24,  5.05s/it]"
     ]
    },
    {
     "name": "stdout",
     "output_type": "stream",
     "text": [
      "[DEBUG] Eigenvalues: [0.94896529 0.99564279 0.99564279]\n"
     ]
    },
    {
     "name": "stderr",
     "output_type": "stream",
     "text": [
      "Rolling DNS Forecast:  73%|███████▎  | 550/756 [46:18<17:20,  5.05s/it]"
     ]
    },
    {
     "name": "stdout",
     "output_type": "stream",
     "text": [
      "[DEBUG] Eigenvalues: [0.94923527 0.99569236 0.99569236]\n"
     ]
    },
    {
     "name": "stderr",
     "output_type": "stream",
     "text": [
      "Rolling DNS Forecast:  73%|███████▎  | 551/756 [46:23<17:15,  5.05s/it]"
     ]
    },
    {
     "name": "stdout",
     "output_type": "stream",
     "text": [
      "[DEBUG] Eigenvalues: [0.94919732 0.99565967 0.99565967]\n"
     ]
    },
    {
     "name": "stderr",
     "output_type": "stream",
     "text": [
      "Rolling DNS Forecast:  73%|███████▎  | 552/756 [46:28<17:11,  5.06s/it]"
     ]
    },
    {
     "name": "stdout",
     "output_type": "stream",
     "text": [
      "[DEBUG] Eigenvalues: [0.94936798 0.99564677 0.99564677]\n"
     ]
    },
    {
     "name": "stderr",
     "output_type": "stream",
     "text": [
      "Rolling DNS Forecast:  73%|███████▎  | 553/756 [46:33<17:06,  5.06s/it]"
     ]
    },
    {
     "name": "stdout",
     "output_type": "stream",
     "text": [
      "[DEBUG] Eigenvalues: [0.94951666 0.99557772 0.99557772]\n"
     ]
    },
    {
     "name": "stderr",
     "output_type": "stream",
     "text": [
      "Rolling DNS Forecast:  73%|███████▎  | 554/756 [46:38<17:01,  5.06s/it]"
     ]
    },
    {
     "name": "stdout",
     "output_type": "stream",
     "text": [
      "[DEBUG] Eigenvalues: [0.94960014 0.99555619 0.99555619]\n"
     ]
    },
    {
     "name": "stderr",
     "output_type": "stream",
     "text": [
      "Rolling DNS Forecast:  73%|███████▎  | 555/756 [46:43<16:56,  5.06s/it]"
     ]
    },
    {
     "name": "stdout",
     "output_type": "stream",
     "text": [
      "[DEBUG] Eigenvalues: [0.94972589 0.99553582 0.99553582]\n"
     ]
    },
    {
     "name": "stderr",
     "output_type": "stream",
     "text": [
      "Rolling DNS Forecast:  74%|███████▎  | 556/756 [46:48<16:50,  5.05s/it]"
     ]
    },
    {
     "name": "stdout",
     "output_type": "stream",
     "text": [
      "[DEBUG] Eigenvalues: [0.95027387 0.99557628 0.99557628]\n"
     ]
    },
    {
     "name": "stderr",
     "output_type": "stream",
     "text": [
      "Rolling DNS Forecast:  74%|███████▎  | 557/756 [46:53<16:44,  5.05s/it]"
     ]
    },
    {
     "name": "stdout",
     "output_type": "stream",
     "text": [
      "[DEBUG] Eigenvalues: [0.95083966 0.99557604 0.99557604]\n"
     ]
    },
    {
     "name": "stderr",
     "output_type": "stream",
     "text": [
      "Rolling DNS Forecast:  74%|███████▍  | 558/756 [46:58<16:41,  5.06s/it]"
     ]
    },
    {
     "name": "stdout",
     "output_type": "stream",
     "text": [
      "[DEBUG] Eigenvalues: [0.9506982  0.99546923 0.99546923]\n"
     ]
    },
    {
     "name": "stderr",
     "output_type": "stream",
     "text": [
      "Rolling DNS Forecast:  74%|███████▍  | 559/756 [47:03<16:34,  5.05s/it]"
     ]
    },
    {
     "name": "stdout",
     "output_type": "stream",
     "text": [
      "[DEBUG] Eigenvalues: [0.95075798 0.99541661 0.99541661]\n"
     ]
    },
    {
     "name": "stderr",
     "output_type": "stream",
     "text": [
      "Rolling DNS Forecast:  74%|███████▍  | 560/756 [47:08<16:29,  5.05s/it]"
     ]
    },
    {
     "name": "stdout",
     "output_type": "stream",
     "text": [
      "[DEBUG] Eigenvalues: [0.95041155 0.99547996 0.99547996]\n"
     ]
    },
    {
     "name": "stderr",
     "output_type": "stream",
     "text": [
      "Rolling DNS Forecast:  74%|███████▍  | 561/756 [47:13<16:24,  5.05s/it]"
     ]
    },
    {
     "name": "stdout",
     "output_type": "stream",
     "text": [
      "[DEBUG] Eigenvalues: [0.9502061  0.99548232 0.99548232]\n"
     ]
    },
    {
     "name": "stderr",
     "output_type": "stream",
     "text": [
      "Rolling DNS Forecast:  74%|███████▍  | 562/756 [47:18<16:19,  5.05s/it]"
     ]
    },
    {
     "name": "stdout",
     "output_type": "stream",
     "text": [
      "[DEBUG] Eigenvalues: [0.95018531 0.99546467 0.99546467]\n"
     ]
    },
    {
     "name": "stderr",
     "output_type": "stream",
     "text": [
      "Rolling DNS Forecast:  74%|███████▍  | 563/756 [47:23<16:13,  5.05s/it]"
     ]
    },
    {
     "name": "stdout",
     "output_type": "stream",
     "text": [
      "[DEBUG] Eigenvalues: [0.95018979 0.99557784 0.99557784]\n"
     ]
    },
    {
     "name": "stderr",
     "output_type": "stream",
     "text": [
      "Rolling DNS Forecast:  75%|███████▍  | 564/756 [47:29<16:08,  5.04s/it]"
     ]
    },
    {
     "name": "stdout",
     "output_type": "stream",
     "text": [
      "[DEBUG] Eigenvalues: [0.95060792 0.99552962 0.99552962]\n"
     ]
    },
    {
     "name": "stderr",
     "output_type": "stream",
     "text": [
      "Rolling DNS Forecast:  75%|███████▍  | 565/756 [47:34<16:02,  5.04s/it]"
     ]
    },
    {
     "name": "stdout",
     "output_type": "stream",
     "text": [
      "[DEBUG] Eigenvalues: [0.9507697 0.9955728 0.9955728]\n"
     ]
    },
    {
     "name": "stderr",
     "output_type": "stream",
     "text": [
      "Rolling DNS Forecast:  75%|███████▍  | 566/756 [47:39<15:58,  5.04s/it]"
     ]
    },
    {
     "name": "stdout",
     "output_type": "stream",
     "text": [
      "[DEBUG] Eigenvalues: [0.95063984 0.99539953 0.99539953]\n"
     ]
    },
    {
     "name": "stderr",
     "output_type": "stream",
     "text": [
      "Rolling DNS Forecast:  75%|███████▌  | 567/756 [47:44<15:53,  5.04s/it]"
     ]
    },
    {
     "name": "stdout",
     "output_type": "stream",
     "text": [
      "[DEBUG] Eigenvalues: [0.95070273 0.99531138 0.99531138]\n"
     ]
    },
    {
     "name": "stderr",
     "output_type": "stream",
     "text": [
      "Rolling DNS Forecast:  75%|███████▌  | 568/756 [47:49<15:49,  5.05s/it]"
     ]
    },
    {
     "name": "stdout",
     "output_type": "stream",
     "text": [
      "[DEBUG] Eigenvalues: [0.95053379 0.99529393 0.99529393]\n"
     ]
    },
    {
     "name": "stderr",
     "output_type": "stream",
     "text": [
      "Rolling DNS Forecast:  75%|███████▌  | 569/756 [47:54<15:47,  5.06s/it]"
     ]
    },
    {
     "name": "stdout",
     "output_type": "stream",
     "text": [
      "[DEBUG] Eigenvalues: [0.95053824 0.99520012 0.99520012]\n"
     ]
    },
    {
     "name": "stderr",
     "output_type": "stream",
     "text": [
      "Rolling DNS Forecast:  75%|███████▌  | 570/756 [47:59<15:42,  5.07s/it]"
     ]
    },
    {
     "name": "stdout",
     "output_type": "stream",
     "text": [
      "[DEBUG] Eigenvalues: [0.95069893 0.99521506 0.99521506]\n"
     ]
    },
    {
     "name": "stderr",
     "output_type": "stream",
     "text": [
      "Rolling DNS Forecast:  76%|███████▌  | 571/756 [48:04<15:37,  5.07s/it]"
     ]
    },
    {
     "name": "stdout",
     "output_type": "stream",
     "text": [
      "[DEBUG] Eigenvalues: [0.95056565 0.99523375 0.99523375]\n"
     ]
    },
    {
     "name": "stderr",
     "output_type": "stream",
     "text": [
      "Rolling DNS Forecast:  76%|███████▌  | 572/756 [48:09<15:32,  5.07s/it]"
     ]
    },
    {
     "name": "stdout",
     "output_type": "stream",
     "text": [
      "[DEBUG] Eigenvalues: [0.95064824 0.99519176 0.99519176]\n"
     ]
    },
    {
     "name": "stderr",
     "output_type": "stream",
     "text": [
      "Rolling DNS Forecast:  76%|███████▌  | 573/756 [48:14<15:28,  5.07s/it]"
     ]
    },
    {
     "name": "stdout",
     "output_type": "stream",
     "text": [
      "[DEBUG] Eigenvalues: [0.95083483 0.99510408 0.99510408]\n"
     ]
    },
    {
     "name": "stderr",
     "output_type": "stream",
     "text": [
      "Rolling DNS Forecast:  76%|███████▌  | 574/756 [48:19<15:21,  5.06s/it]"
     ]
    },
    {
     "name": "stdout",
     "output_type": "stream",
     "text": [
      "[DEBUG] Eigenvalues: [0.95080106 0.99507663 0.99507663]\n"
     ]
    },
    {
     "name": "stderr",
     "output_type": "stream",
     "text": [
      "Rolling DNS Forecast:  76%|███████▌  | 575/756 [48:24<15:16,  5.07s/it]"
     ]
    },
    {
     "name": "stdout",
     "output_type": "stream",
     "text": [
      "[DEBUG] Eigenvalues: [0.95071927 0.99508391 0.99508391]\n"
     ]
    },
    {
     "name": "stderr",
     "output_type": "stream",
     "text": [
      "Rolling DNS Forecast:  76%|███████▌  | 576/756 [48:29<15:12,  5.07s/it]"
     ]
    },
    {
     "name": "stdout",
     "output_type": "stream",
     "text": [
      "[DEBUG] Eigenvalues: [0.95066943 0.99505925 0.99505925]\n"
     ]
    },
    {
     "name": "stderr",
     "output_type": "stream",
     "text": [
      "Rolling DNS Forecast:  76%|███████▋  | 577/756 [48:34<15:07,  5.07s/it]"
     ]
    },
    {
     "name": "stdout",
     "output_type": "stream",
     "text": [
      "[DEBUG] Eigenvalues: [0.9508902  0.99509095 0.99509095]\n"
     ]
    },
    {
     "name": "stderr",
     "output_type": "stream",
     "text": [
      "Rolling DNS Forecast:  76%|███████▋  | 578/756 [48:39<15:03,  5.08s/it]"
     ]
    },
    {
     "name": "stdout",
     "output_type": "stream",
     "text": [
      "[DEBUG] Eigenvalues: [0.95106939 0.99509921 0.99509921]\n"
     ]
    },
    {
     "name": "stderr",
     "output_type": "stream",
     "text": [
      "Rolling DNS Forecast:  77%|███████▋  | 579/756 [48:45<14:58,  5.08s/it]"
     ]
    },
    {
     "name": "stdout",
     "output_type": "stream",
     "text": [
      "[DEBUG] Eigenvalues: [0.95165073 0.99500015 0.99500015]\n"
     ]
    },
    {
     "name": "stderr",
     "output_type": "stream",
     "text": [
      "Rolling DNS Forecast:  77%|███████▋  | 580/756 [48:50<14:53,  5.08s/it]"
     ]
    },
    {
     "name": "stdout",
     "output_type": "stream",
     "text": [
      "[DEBUG] Eigenvalues: [0.95232733 0.99496249 0.99496249]\n"
     ]
    },
    {
     "name": "stderr",
     "output_type": "stream",
     "text": [
      "Rolling DNS Forecast:  77%|███████▋  | 581/756 [48:55<14:48,  5.07s/it]"
     ]
    },
    {
     "name": "stdout",
     "output_type": "stream",
     "text": [
      "[DEBUG] Eigenvalues: [0.95235739 0.99496638 0.99496638]\n"
     ]
    },
    {
     "name": "stderr",
     "output_type": "stream",
     "text": [
      "Rolling DNS Forecast:  77%|███████▋  | 582/756 [49:00<14:43,  5.08s/it]"
     ]
    },
    {
     "name": "stdout",
     "output_type": "stream",
     "text": [
      "[DEBUG] Eigenvalues: [0.95217676 0.99492972 0.99492972]\n"
     ]
    },
    {
     "name": "stderr",
     "output_type": "stream",
     "text": [
      "Rolling DNS Forecast:  77%|███████▋  | 583/756 [49:05<14:39,  5.08s/it]"
     ]
    },
    {
     "name": "stdout",
     "output_type": "stream",
     "text": [
      "[DEBUG] Eigenvalues: [0.95229494 0.99493139 0.99493139]\n"
     ]
    },
    {
     "name": "stderr",
     "output_type": "stream",
     "text": [
      "Rolling DNS Forecast:  77%|███████▋  | 584/756 [49:10<14:35,  5.09s/it]"
     ]
    },
    {
     "name": "stdout",
     "output_type": "stream",
     "text": [
      "[DEBUG] Eigenvalues: [0.95200826 0.99504848 0.99504848]\n"
     ]
    },
    {
     "name": "stderr",
     "output_type": "stream",
     "text": [
      "Rolling DNS Forecast:  77%|███████▋  | 585/756 [49:15<14:30,  5.09s/it]"
     ]
    },
    {
     "name": "stdout",
     "output_type": "stream",
     "text": [
      "[DEBUG] Eigenvalues: [0.95196313 0.99499638 0.99499638]\n"
     ]
    },
    {
     "name": "stderr",
     "output_type": "stream",
     "text": [
      "Rolling DNS Forecast:  78%|███████▊  | 586/756 [49:20<14:25,  5.09s/it]"
     ]
    },
    {
     "name": "stdout",
     "output_type": "stream",
     "text": [
      "[DEBUG] Eigenvalues: [0.95214169 0.99505139 0.99505139]\n"
     ]
    },
    {
     "name": "stderr",
     "output_type": "stream",
     "text": [
      "Rolling DNS Forecast:  78%|███████▊  | 587/756 [49:25<14:19,  5.09s/it]"
     ]
    },
    {
     "name": "stdout",
     "output_type": "stream",
     "text": [
      "[DEBUG] Eigenvalues: [0.95220705 0.99501356 0.99501356]\n"
     ]
    },
    {
     "name": "stderr",
     "output_type": "stream",
     "text": [
      "Rolling DNS Forecast:  78%|███████▊  | 588/756 [49:30<14:14,  5.08s/it]"
     ]
    },
    {
     "name": "stdout",
     "output_type": "stream",
     "text": [
      "[DEBUG] Eigenvalues: [0.95206062 0.99517201 0.99517201]\n"
     ]
    },
    {
     "name": "stderr",
     "output_type": "stream",
     "text": [
      "Rolling DNS Forecast:  78%|███████▊  | 589/756 [49:35<14:09,  5.09s/it]"
     ]
    },
    {
     "name": "stdout",
     "output_type": "stream",
     "text": [
      "[DEBUG] Eigenvalues: [0.95221073 0.99518072 0.99518072]\n"
     ]
    },
    {
     "name": "stderr",
     "output_type": "stream",
     "text": [
      "Rolling DNS Forecast:  78%|███████▊  | 590/756 [49:40<14:04,  5.09s/it]"
     ]
    },
    {
     "name": "stdout",
     "output_type": "stream",
     "text": [
      "[DEBUG] Eigenvalues: [0.9524011 0.995176  0.995176 ]\n"
     ]
    },
    {
     "name": "stderr",
     "output_type": "stream",
     "text": [
      "Rolling DNS Forecast:  78%|███████▊  | 591/756 [49:46<13:58,  5.08s/it]"
     ]
    },
    {
     "name": "stdout",
     "output_type": "stream",
     "text": [
      "[DEBUG] Eigenvalues: [0.95245707 0.99500754 0.99500754]\n"
     ]
    },
    {
     "name": "stderr",
     "output_type": "stream",
     "text": [
      "Rolling DNS Forecast:  78%|███████▊  | 592/756 [49:51<13:52,  5.08s/it]"
     ]
    },
    {
     "name": "stdout",
     "output_type": "stream",
     "text": [
      "[DEBUG] Eigenvalues: [0.95269283 0.99492328 0.99492328]\n"
     ]
    },
    {
     "name": "stderr",
     "output_type": "stream",
     "text": [
      "Rolling DNS Forecast:  78%|███████▊  | 593/756 [49:56<13:47,  5.08s/it]"
     ]
    },
    {
     "name": "stdout",
     "output_type": "stream",
     "text": [
      "[DEBUG] Eigenvalues: [0.9528342 0.9948842 0.9948842]\n"
     ]
    },
    {
     "name": "stderr",
     "output_type": "stream",
     "text": [
      "Rolling DNS Forecast:  79%|███████▊  | 594/756 [50:01<13:43,  5.08s/it]"
     ]
    },
    {
     "name": "stdout",
     "output_type": "stream",
     "text": [
      "[DEBUG] Eigenvalues: [0.95298122 0.99472706 0.99472706]\n"
     ]
    },
    {
     "name": "stderr",
     "output_type": "stream",
     "text": [
      "Rolling DNS Forecast:  79%|███████▊  | 595/756 [50:06<13:38,  5.08s/it]"
     ]
    },
    {
     "name": "stdout",
     "output_type": "stream",
     "text": [
      "[DEBUG] Eigenvalues: [0.95302174 0.99468598 0.99468598]\n"
     ]
    },
    {
     "name": "stderr",
     "output_type": "stream",
     "text": [
      "Rolling DNS Forecast:  79%|███████▉  | 596/756 [50:11<13:31,  5.07s/it]"
     ]
    },
    {
     "name": "stdout",
     "output_type": "stream",
     "text": [
      "[DEBUG] Eigenvalues: [0.95317205 0.99465679 0.99465679]\n"
     ]
    },
    {
     "name": "stderr",
     "output_type": "stream",
     "text": [
      "Rolling DNS Forecast:  79%|███████▉  | 597/756 [50:16<13:24,  5.06s/it]"
     ]
    },
    {
     "name": "stdout",
     "output_type": "stream",
     "text": [
      "[DEBUG] Eigenvalues: [0.9534263  0.99478343 0.99478343]\n"
     ]
    },
    {
     "name": "stderr",
     "output_type": "stream",
     "text": [
      "Rolling DNS Forecast:  79%|███████▉  | 598/756 [50:21<13:18,  5.06s/it]"
     ]
    },
    {
     "name": "stdout",
     "output_type": "stream",
     "text": [
      "[DEBUG] Eigenvalues: [0.95339839 0.99474285 0.99474285]\n"
     ]
    },
    {
     "name": "stderr",
     "output_type": "stream",
     "text": [
      "Rolling DNS Forecast:  79%|███████▉  | 599/756 [50:26<13:12,  5.05s/it]"
     ]
    },
    {
     "name": "stdout",
     "output_type": "stream",
     "text": [
      "[DEBUG] Eigenvalues: [0.95341402 0.99452992 0.99452992]\n"
     ]
    },
    {
     "name": "stderr",
     "output_type": "stream",
     "text": [
      "Rolling DNS Forecast:  79%|███████▉  | 600/756 [50:31<13:07,  5.05s/it]"
     ]
    },
    {
     "name": "stdout",
     "output_type": "stream",
     "text": [
      "[DEBUG] Eigenvalues: [0.95338782 0.99445901 0.99445901]\n"
     ]
    },
    {
     "name": "stderr",
     "output_type": "stream",
     "text": [
      "Rolling DNS Forecast:  79%|███████▉  | 601/756 [50:36<13:02,  5.05s/it]"
     ]
    },
    {
     "name": "stdout",
     "output_type": "stream",
     "text": [
      "[DEBUG] Eigenvalues: [0.95359911 0.99440667 0.99440667]\n"
     ]
    },
    {
     "name": "stderr",
     "output_type": "stream",
     "text": [
      "Rolling DNS Forecast:  80%|███████▉  | 602/756 [50:41<12:58,  5.05s/it]"
     ]
    },
    {
     "name": "stdout",
     "output_type": "stream",
     "text": [
      "[DEBUG] Eigenvalues: [0.95349706 0.99449886 0.99449886]\n"
     ]
    },
    {
     "name": "stderr",
     "output_type": "stream",
     "text": [
      "Rolling DNS Forecast:  80%|███████▉  | 603/756 [50:46<12:52,  5.05s/it]"
     ]
    },
    {
     "name": "stdout",
     "output_type": "stream",
     "text": [
      "[DEBUG] Eigenvalues: [0.95327066 0.99473474 0.99473474]\n"
     ]
    },
    {
     "name": "stderr",
     "output_type": "stream",
     "text": [
      "Rolling DNS Forecast:  80%|███████▉  | 604/756 [50:51<12:47,  5.05s/it]"
     ]
    },
    {
     "name": "stdout",
     "output_type": "stream",
     "text": [
      "[DEBUG] Eigenvalues: [0.95342414 0.99490275 0.99490275]\n"
     ]
    },
    {
     "name": "stderr",
     "output_type": "stream",
     "text": [
      "Rolling DNS Forecast:  80%|████████  | 605/756 [50:56<12:43,  5.06s/it]"
     ]
    },
    {
     "name": "stdout",
     "output_type": "stream",
     "text": [
      "[DEBUG] Eigenvalues: [0.95341313 0.99493622 0.99493622]\n"
     ]
    },
    {
     "name": "stderr",
     "output_type": "stream",
     "text": [
      "Rolling DNS Forecast:  80%|████████  | 606/756 [51:01<12:40,  5.07s/it]"
     ]
    },
    {
     "name": "stdout",
     "output_type": "stream",
     "text": [
      "[DEBUG] Eigenvalues: [0.95326579 0.99503531 0.99503531]\n"
     ]
    },
    {
     "name": "stderr",
     "output_type": "stream",
     "text": [
      "Rolling DNS Forecast:  80%|████████  | 607/756 [51:07<12:35,  5.07s/it]"
     ]
    },
    {
     "name": "stdout",
     "output_type": "stream",
     "text": [
      "[DEBUG] Eigenvalues: [0.95350483 0.99493819 0.99493819]\n"
     ]
    },
    {
     "name": "stderr",
     "output_type": "stream",
     "text": [
      "Rolling DNS Forecast:  80%|████████  | 608/756 [51:12<12:31,  5.07s/it]"
     ]
    },
    {
     "name": "stdout",
     "output_type": "stream",
     "text": [
      "[DEBUG] Eigenvalues: [0.95370347 0.99482552 0.99482552]\n"
     ]
    },
    {
     "name": "stderr",
     "output_type": "stream",
     "text": [
      "Rolling DNS Forecast:  81%|████████  | 609/756 [51:17<12:24,  5.06s/it]"
     ]
    },
    {
     "name": "stdout",
     "output_type": "stream",
     "text": [
      "[DEBUG] Eigenvalues: [0.95381056 0.99464103 0.99464103]\n"
     ]
    },
    {
     "name": "stderr",
     "output_type": "stream",
     "text": [
      "Rolling DNS Forecast:  81%|████████  | 610/756 [51:22<12:17,  5.05s/it]"
     ]
    },
    {
     "name": "stdout",
     "output_type": "stream",
     "text": [
      "[DEBUG] Eigenvalues: [0.95359012 0.9947006  0.9947006 ]\n"
     ]
    },
    {
     "name": "stderr",
     "output_type": "stream",
     "text": [
      "Rolling DNS Forecast:  81%|████████  | 611/756 [51:27<12:10,  5.04s/it]"
     ]
    },
    {
     "name": "stdout",
     "output_type": "stream",
     "text": [
      "[DEBUG] Eigenvalues: [0.953718   0.99477763 0.99477763]\n"
     ]
    },
    {
     "name": "stderr",
     "output_type": "stream",
     "text": [
      "Rolling DNS Forecast:  81%|████████  | 612/756 [51:32<12:04,  5.03s/it]"
     ]
    },
    {
     "name": "stdout",
     "output_type": "stream",
     "text": [
      "[DEBUG] Eigenvalues: [0.95373222 0.99479103 0.99479103]\n"
     ]
    },
    {
     "name": "stderr",
     "output_type": "stream",
     "text": [
      "Rolling DNS Forecast:  81%|████████  | 613/756 [51:37<11:58,  5.03s/it]"
     ]
    },
    {
     "name": "stdout",
     "output_type": "stream",
     "text": [
      "[DEBUG] Eigenvalues: [0.95421067 0.99442476 0.99442476]\n"
     ]
    },
    {
     "name": "stderr",
     "output_type": "stream",
     "text": [
      "Rolling DNS Forecast:  81%|████████  | 614/756 [51:42<11:54,  5.03s/it]"
     ]
    },
    {
     "name": "stdout",
     "output_type": "stream",
     "text": [
      "[DEBUG] Eigenvalues: [0.95448464 0.99418981 0.99418981]\n"
     ]
    },
    {
     "name": "stderr",
     "output_type": "stream",
     "text": [
      "Rolling DNS Forecast:  81%|████████▏ | 615/756 [51:47<11:50,  5.04s/it]"
     ]
    },
    {
     "name": "stdout",
     "output_type": "stream",
     "text": [
      "[DEBUG] Eigenvalues: [0.95459887 0.99402945 0.99402945]\n"
     ]
    },
    {
     "name": "stderr",
     "output_type": "stream",
     "text": [
      "Rolling DNS Forecast:  81%|████████▏ | 616/756 [51:52<11:46,  5.05s/it]"
     ]
    },
    {
     "name": "stdout",
     "output_type": "stream",
     "text": [
      "[DEBUG] Eigenvalues: [0.95486156 0.99380942 0.99380942]\n"
     ]
    },
    {
     "name": "stderr",
     "output_type": "stream",
     "text": [
      "Rolling DNS Forecast:  82%|████████▏ | 617/756 [51:57<11:40,  5.04s/it]"
     ]
    },
    {
     "name": "stdout",
     "output_type": "stream",
     "text": [
      "[DEBUG] Eigenvalues: [0.95494679 0.99378061 0.99378061]\n"
     ]
    },
    {
     "name": "stderr",
     "output_type": "stream",
     "text": [
      "Rolling DNS Forecast:  82%|████████▏ | 618/756 [52:02<11:35,  5.04s/it]"
     ]
    },
    {
     "name": "stdout",
     "output_type": "stream",
     "text": [
      "[DEBUG] Eigenvalues: [0.95494184 0.99368371 0.99368371]\n"
     ]
    },
    {
     "name": "stderr",
     "output_type": "stream",
     "text": [
      "Rolling DNS Forecast:  82%|████████▏ | 619/756 [52:07<11:32,  5.05s/it]"
     ]
    },
    {
     "name": "stdout",
     "output_type": "stream",
     "text": [
      "[DEBUG] Eigenvalues: [0.95492358 0.99370123 0.99370123]\n"
     ]
    },
    {
     "name": "stderr",
     "output_type": "stream",
     "text": [
      "Rolling DNS Forecast:  82%|████████▏ | 620/756 [52:12<11:27,  5.06s/it]"
     ]
    },
    {
     "name": "stdout",
     "output_type": "stream",
     "text": [
      "[DEBUG] Eigenvalues: [0.95501718 0.9937207  0.9937207 ]\n"
     ]
    },
    {
     "name": "stderr",
     "output_type": "stream",
     "text": [
      "Rolling DNS Forecast:  82%|████████▏ | 621/756 [52:17<11:22,  5.05s/it]"
     ]
    },
    {
     "name": "stdout",
     "output_type": "stream",
     "text": [
      "[DEBUG] Eigenvalues: [0.95521852 0.99362188 0.99362188]\n"
     ]
    },
    {
     "name": "stderr",
     "output_type": "stream",
     "text": [
      "Rolling DNS Forecast:  82%|████████▏ | 622/756 [52:22<11:17,  5.05s/it]"
     ]
    },
    {
     "name": "stdout",
     "output_type": "stream",
     "text": [
      "[DEBUG] Eigenvalues: [0.95526026 0.9937486  0.9937486 ]\n"
     ]
    },
    {
     "name": "stderr",
     "output_type": "stream",
     "text": [
      "Rolling DNS Forecast:  82%|████████▏ | 623/756 [52:27<11:11,  5.05s/it]"
     ]
    },
    {
     "name": "stdout",
     "output_type": "stream",
     "text": [
      "[DEBUG] Eigenvalues: [0.95544738 0.99351857 0.99351857]\n"
     ]
    },
    {
     "name": "stderr",
     "output_type": "stream",
     "text": [
      "Rolling DNS Forecast:  83%|████████▎ | 624/756 [52:32<11:08,  5.06s/it]"
     ]
    },
    {
     "name": "stdout",
     "output_type": "stream",
     "text": [
      "[DEBUG] Eigenvalues: [0.9555855  0.99341869 0.99341869]\n"
     ]
    },
    {
     "name": "stderr",
     "output_type": "stream",
     "text": [
      "Rolling DNS Forecast:  83%|████████▎ | 625/756 [52:37<11:03,  5.06s/it]"
     ]
    },
    {
     "name": "stdout",
     "output_type": "stream",
     "text": [
      "[DEBUG] Eigenvalues: [0.95567465 0.99341967 0.99341967]\n"
     ]
    },
    {
     "name": "stderr",
     "output_type": "stream",
     "text": [
      "Rolling DNS Forecast:  83%|████████▎ | 626/756 [52:42<10:56,  5.05s/it]"
     ]
    },
    {
     "name": "stdout",
     "output_type": "stream",
     "text": [
      "[DEBUG] Eigenvalues: [0.95570986 0.99376479 0.99376479]\n"
     ]
    },
    {
     "name": "stderr",
     "output_type": "stream",
     "text": [
      "Rolling DNS Forecast:  83%|████████▎ | 627/756 [52:47<10:51,  5.05s/it]"
     ]
    },
    {
     "name": "stdout",
     "output_type": "stream",
     "text": [
      "[DEBUG] Eigenvalues: [0.95573502 0.99415133 0.99415133]\n"
     ]
    },
    {
     "name": "stderr",
     "output_type": "stream",
     "text": [
      "Rolling DNS Forecast:  83%|████████▎ | 628/756 [52:53<10:47,  5.06s/it]"
     ]
    },
    {
     "name": "stdout",
     "output_type": "stream",
     "text": [
      "[DEBUG] Eigenvalues: [0.95576542 0.99401853 0.99401853]\n"
     ]
    },
    {
     "name": "stderr",
     "output_type": "stream",
     "text": [
      "Rolling DNS Forecast:  83%|████████▎ | 629/756 [52:58<10:42,  5.06s/it]"
     ]
    },
    {
     "name": "stdout",
     "output_type": "stream",
     "text": [
      "[DEBUG] Eigenvalues: [0.95597117 0.99427185 0.99427185]\n"
     ]
    },
    {
     "name": "stderr",
     "output_type": "stream",
     "text": [
      "Rolling DNS Forecast:  83%|████████▎ | 630/756 [53:03<10:36,  5.05s/it]"
     ]
    },
    {
     "name": "stdout",
     "output_type": "stream",
     "text": [
      "[DEBUG] Eigenvalues: [0.9560772  0.99422398 0.99422398]\n"
     ]
    },
    {
     "name": "stderr",
     "output_type": "stream",
     "text": [
      "Rolling DNS Forecast:  83%|████████▎ | 631/756 [53:08<10:31,  5.05s/it]"
     ]
    },
    {
     "name": "stdout",
     "output_type": "stream",
     "text": [
      "[DEBUG] Eigenvalues: [0.95627149 0.99402086 0.99402086]\n"
     ]
    },
    {
     "name": "stderr",
     "output_type": "stream",
     "text": [
      "Rolling DNS Forecast:  84%|████████▎ | 632/756 [53:13<10:25,  5.05s/it]"
     ]
    },
    {
     "name": "stdout",
     "output_type": "stream",
     "text": [
      "[DEBUG] Eigenvalues: [0.95639072 0.99383393 0.99383393]\n"
     ]
    },
    {
     "name": "stderr",
     "output_type": "stream",
     "text": [
      "Rolling DNS Forecast:  84%|████████▎ | 633/756 [53:18<10:20,  5.04s/it]"
     ]
    },
    {
     "name": "stdout",
     "output_type": "stream",
     "text": [
      "[DEBUG] Eigenvalues: [0.95643855 0.99407169 0.99407169]\n"
     ]
    },
    {
     "name": "stderr",
     "output_type": "stream",
     "text": [
      "Rolling DNS Forecast:  84%|████████▍ | 634/756 [53:23<10:14,  5.04s/it]"
     ]
    },
    {
     "name": "stdout",
     "output_type": "stream",
     "text": [
      "[DEBUG] Eigenvalues: [0.95647414 0.99422965 0.99422965]\n"
     ]
    },
    {
     "name": "stderr",
     "output_type": "stream",
     "text": [
      "Rolling DNS Forecast:  84%|████████▍ | 635/756 [53:28<10:09,  5.04s/it]"
     ]
    },
    {
     "name": "stdout",
     "output_type": "stream",
     "text": [
      "[DEBUG] Eigenvalues: [0.95655083 0.99411583 0.99411583]\n"
     ]
    },
    {
     "name": "stderr",
     "output_type": "stream",
     "text": [
      "Rolling DNS Forecast:  84%|████████▍ | 636/756 [53:33<10:04,  5.04s/it]"
     ]
    },
    {
     "name": "stdout",
     "output_type": "stream",
     "text": [
      "[DEBUG] Eigenvalues: [0.95663803 0.99415716 0.99415716]\n"
     ]
    },
    {
     "name": "stderr",
     "output_type": "stream",
     "text": [
      "Rolling DNS Forecast:  84%|████████▍ | 637/756 [53:38<10:00,  5.05s/it]"
     ]
    },
    {
     "name": "stdout",
     "output_type": "stream",
     "text": [
      "[DEBUG] Eigenvalues: [0.95651428 0.99438838 0.99438838]\n"
     ]
    },
    {
     "name": "stderr",
     "output_type": "stream",
     "text": [
      "Rolling DNS Forecast:  84%|████████▍ | 638/756 [53:43<09:55,  5.05s/it]"
     ]
    },
    {
     "name": "stdout",
     "output_type": "stream",
     "text": [
      "[DEBUG] Eigenvalues: [0.95665741 0.99435662 0.99435662]\n"
     ]
    },
    {
     "name": "stderr",
     "output_type": "stream",
     "text": [
      "Rolling DNS Forecast:  85%|████████▍ | 639/756 [53:48<09:49,  5.04s/it]"
     ]
    },
    {
     "name": "stdout",
     "output_type": "stream",
     "text": [
      "[DEBUG] Eigenvalues: [0.95670655 0.99439571 0.99439571]\n"
     ]
    },
    {
     "name": "stderr",
     "output_type": "stream",
     "text": [
      "Rolling DNS Forecast:  85%|████████▍ | 640/756 [53:53<09:45,  5.04s/it]"
     ]
    },
    {
     "name": "stdout",
     "output_type": "stream",
     "text": [
      "[DEBUG] Eigenvalues: [0.95690199 0.99431317 0.99431317]\n"
     ]
    },
    {
     "name": "stderr",
     "output_type": "stream",
     "text": [
      "Rolling DNS Forecast:  85%|████████▍ | 641/756 [53:58<09:39,  5.04s/it]"
     ]
    },
    {
     "name": "stdout",
     "output_type": "stream",
     "text": [
      "[DEBUG] Eigenvalues: [0.95693997 0.99422664 0.99422664]\n"
     ]
    },
    {
     "name": "stderr",
     "output_type": "stream",
     "text": [
      "Rolling DNS Forecast:  85%|████████▍ | 642/756 [54:03<09:33,  5.03s/it]"
     ]
    },
    {
     "name": "stdout",
     "output_type": "stream",
     "text": [
      "[DEBUG] Eigenvalues: [0.95717226 0.9942037  0.9942037 ]\n"
     ]
    },
    {
     "name": "stderr",
     "output_type": "stream",
     "text": [
      "Rolling DNS Forecast:  85%|████████▌ | 643/756 [54:08<09:28,  5.03s/it]"
     ]
    },
    {
     "name": "stdout",
     "output_type": "stream",
     "text": [
      "[DEBUG] Eigenvalues: [0.95711158 0.99386908 0.99386908]\n"
     ]
    },
    {
     "name": "stderr",
     "output_type": "stream",
     "text": [
      "Rolling DNS Forecast:  85%|████████▌ | 644/756 [54:13<09:23,  5.03s/it]"
     ]
    },
    {
     "name": "stdout",
     "output_type": "stream",
     "text": [
      "[DEBUG] Eigenvalues: [0.95687329 0.99409116 0.99409116]\n"
     ]
    },
    {
     "name": "stderr",
     "output_type": "stream",
     "text": [
      "Rolling DNS Forecast:  85%|████████▌ | 645/756 [54:18<09:17,  5.02s/it]"
     ]
    },
    {
     "name": "stdout",
     "output_type": "stream",
     "text": [
      "[DEBUG] Eigenvalues: [0.95721864 0.99412618 0.99412618]\n"
     ]
    },
    {
     "name": "stderr",
     "output_type": "stream",
     "text": [
      "Rolling DNS Forecast:  85%|████████▌ | 646/756 [54:23<09:12,  5.02s/it]"
     ]
    },
    {
     "name": "stdout",
     "output_type": "stream",
     "text": [
      "[DEBUG] Eigenvalues: [0.95704501 0.99411682 0.99411682]\n"
     ]
    },
    {
     "name": "stderr",
     "output_type": "stream",
     "text": [
      "Rolling DNS Forecast:  86%|████████▌ | 647/756 [54:28<09:06,  5.02s/it]"
     ]
    },
    {
     "name": "stdout",
     "output_type": "stream",
     "text": [
      "[DEBUG] Eigenvalues: [0.95755509 0.99429818 0.99429818]\n"
     ]
    },
    {
     "name": "stderr",
     "output_type": "stream",
     "text": [
      "Rolling DNS Forecast:  86%|████████▌ | 648/756 [54:33<09:02,  5.02s/it]"
     ]
    },
    {
     "name": "stdout",
     "output_type": "stream",
     "text": [
      "[DEBUG] Eigenvalues: [0.95770426 0.99415663 0.99415663]\n"
     ]
    },
    {
     "name": "stderr",
     "output_type": "stream",
     "text": [
      "Rolling DNS Forecast:  86%|████████▌ | 649/756 [54:38<08:58,  5.03s/it]"
     ]
    },
    {
     "name": "stdout",
     "output_type": "stream",
     "text": [
      "[DEBUG] Eigenvalues: [0.95800138 0.99366152 0.99366152]\n"
     ]
    },
    {
     "name": "stderr",
     "output_type": "stream",
     "text": [
      "Rolling DNS Forecast:  86%|████████▌ | 650/756 [54:43<08:54,  5.04s/it]"
     ]
    },
    {
     "name": "stdout",
     "output_type": "stream",
     "text": [
      "[DEBUG] Eigenvalues: [0.95836029 0.99344812 0.99344812]\n"
     ]
    },
    {
     "name": "stderr",
     "output_type": "stream",
     "text": [
      "Rolling DNS Forecast:  86%|████████▌ | 651/756 [54:48<08:49,  5.04s/it]"
     ]
    },
    {
     "name": "stdout",
     "output_type": "stream",
     "text": [
      "[DEBUG] Eigenvalues: [0.95859284 0.99351435 0.99351435]\n"
     ]
    },
    {
     "name": "stderr",
     "output_type": "stream",
     "text": [
      "Rolling DNS Forecast:  86%|████████▌ | 652/756 [54:53<08:44,  5.04s/it]"
     ]
    },
    {
     "name": "stdout",
     "output_type": "stream",
     "text": [
      "[DEBUG] Eigenvalues: [0.95873745 0.99339633 0.99339633]\n"
     ]
    },
    {
     "name": "stderr",
     "output_type": "stream",
     "text": [
      "Rolling DNS Forecast:  86%|████████▋ | 653/756 [54:58<08:38,  5.04s/it]"
     ]
    },
    {
     "name": "stdout",
     "output_type": "stream",
     "text": [
      "[DEBUG] Eigenvalues: [0.95896607 0.99351951 0.99351951]\n"
     ]
    },
    {
     "name": "stderr",
     "output_type": "stream",
     "text": [
      "Rolling DNS Forecast:  87%|████████▋ | 654/756 [55:04<08:33,  5.04s/it]"
     ]
    },
    {
     "name": "stdout",
     "output_type": "stream",
     "text": [
      "[DEBUG] Eigenvalues: [0.95894071 0.99387244 0.99387244]\n"
     ]
    },
    {
     "name": "stderr",
     "output_type": "stream",
     "text": [
      "Rolling DNS Forecast:  87%|████████▋ | 655/756 [55:09<08:29,  5.04s/it]"
     ]
    },
    {
     "name": "stdout",
     "output_type": "stream",
     "text": [
      "[DEBUG] Eigenvalues: [0.95938415 0.99387693 0.99387693]\n"
     ]
    },
    {
     "name": "stderr",
     "output_type": "stream",
     "text": [
      "Rolling DNS Forecast:  87%|████████▋ | 656/756 [55:14<08:25,  5.05s/it]"
     ]
    },
    {
     "name": "stdout",
     "output_type": "stream",
     "text": [
      "[DEBUG] Eigenvalues: [0.95941351 0.99352619 0.99352619]\n"
     ]
    },
    {
     "name": "stderr",
     "output_type": "stream",
     "text": [
      "Rolling DNS Forecast:  87%|████████▋ | 657/756 [55:19<08:20,  5.05s/it]"
     ]
    },
    {
     "name": "stdout",
     "output_type": "stream",
     "text": [
      "[DEBUG] Eigenvalues: [0.95940326 0.99374384 0.99374384]\n"
     ]
    },
    {
     "name": "stderr",
     "output_type": "stream",
     "text": [
      "Rolling DNS Forecast:  87%|████████▋ | 658/756 [55:24<08:15,  5.06s/it]"
     ]
    },
    {
     "name": "stdout",
     "output_type": "stream",
     "text": [
      "[DEBUG] Eigenvalues: [0.95971678 0.99374563 0.99374563]\n"
     ]
    },
    {
     "name": "stderr",
     "output_type": "stream",
     "text": [
      "Rolling DNS Forecast:  87%|████████▋ | 659/756 [55:29<08:11,  5.06s/it]"
     ]
    },
    {
     "name": "stdout",
     "output_type": "stream",
     "text": [
      "[DEBUG] Eigenvalues: [0.95929531 0.99372865 0.99372865]\n"
     ]
    },
    {
     "name": "stderr",
     "output_type": "stream",
     "text": [
      "Rolling DNS Forecast:  87%|████████▋ | 660/756 [55:34<08:05,  5.06s/it]"
     ]
    },
    {
     "name": "stdout",
     "output_type": "stream",
     "text": [
      "[DEBUG] Eigenvalues: [0.95987753 0.99373281 0.99373281]\n"
     ]
    },
    {
     "name": "stderr",
     "output_type": "stream",
     "text": [
      "Rolling DNS Forecast:  87%|████████▋ | 661/756 [55:39<08:00,  5.06s/it]"
     ]
    },
    {
     "name": "stdout",
     "output_type": "stream",
     "text": [
      "[DEBUG] Eigenvalues: [0.95962343 0.9939826  0.9939826 ]\n"
     ]
    },
    {
     "name": "stderr",
     "output_type": "stream",
     "text": [
      "Rolling DNS Forecast:  88%|████████▊ | 662/756 [55:44<07:55,  5.06s/it]"
     ]
    },
    {
     "name": "stdout",
     "output_type": "stream",
     "text": [
      "[DEBUG] Eigenvalues: [0.95984243 0.99404987 0.99404987]\n"
     ]
    },
    {
     "name": "stderr",
     "output_type": "stream",
     "text": [
      "Rolling DNS Forecast:  88%|████████▊ | 663/756 [55:49<07:50,  5.06s/it]"
     ]
    },
    {
     "name": "stdout",
     "output_type": "stream",
     "text": [
      "[DEBUG] Eigenvalues: [0.95991823 0.99410575 0.99410575]\n"
     ]
    },
    {
     "name": "stderr",
     "output_type": "stream",
     "text": [
      "Rolling DNS Forecast:  88%|████████▊ | 664/756 [55:54<07:45,  5.06s/it]"
     ]
    },
    {
     "name": "stdout",
     "output_type": "stream",
     "text": [
      "[DEBUG] Eigenvalues: [0.95957934 0.99418117 0.99418117]\n"
     ]
    },
    {
     "name": "stderr",
     "output_type": "stream",
     "text": [
      "Rolling DNS Forecast:  88%|████████▊ | 665/756 [55:59<07:40,  5.06s/it]"
     ]
    },
    {
     "name": "stdout",
     "output_type": "stream",
     "text": [
      "[DEBUG] Eigenvalues: [0.96032975 0.99414955 0.99414955]\n"
     ]
    },
    {
     "name": "stderr",
     "output_type": "stream",
     "text": [
      "Rolling DNS Forecast:  88%|████████▊ | 666/756 [56:04<07:35,  5.06s/it]"
     ]
    },
    {
     "name": "stdout",
     "output_type": "stream",
     "text": [
      "[DEBUG] Eigenvalues: [0.96065924 0.99420771 0.99420771]\n"
     ]
    },
    {
     "name": "stderr",
     "output_type": "stream",
     "text": [
      "Rolling DNS Forecast:  88%|████████▊ | 667/756 [56:09<07:30,  5.06s/it]"
     ]
    },
    {
     "name": "stdout",
     "output_type": "stream",
     "text": [
      "[DEBUG] Eigenvalues: [0.96102106 0.99390515 0.99390515]\n"
     ]
    },
    {
     "name": "stderr",
     "output_type": "stream",
     "text": [
      "Rolling DNS Forecast:  88%|████████▊ | 668/756 [56:14<07:25,  5.06s/it]"
     ]
    },
    {
     "name": "stdout",
     "output_type": "stream",
     "text": [
      "[DEBUG] Eigenvalues: [0.96102553 0.99389485 0.99389485]\n"
     ]
    },
    {
     "name": "stderr",
     "output_type": "stream",
     "text": [
      "Rolling DNS Forecast:  88%|████████▊ | 669/756 [56:19<07:20,  5.06s/it]"
     ]
    },
    {
     "name": "stdout",
     "output_type": "stream",
     "text": [
      "[DEBUG] Eigenvalues: [0.96152057 0.99397786 0.99397786]\n"
     ]
    },
    {
     "name": "stderr",
     "output_type": "stream",
     "text": [
      "Rolling DNS Forecast:  89%|████████▊ | 670/756 [56:24<07:14,  5.06s/it]"
     ]
    },
    {
     "name": "stdout",
     "output_type": "stream",
     "text": [
      "[DEBUG] Eigenvalues: [0.96093155 0.99414155 0.99414155]\n"
     ]
    },
    {
     "name": "stderr",
     "output_type": "stream",
     "text": [
      "Rolling DNS Forecast:  89%|████████▉ | 671/756 [56:30<07:09,  5.06s/it]"
     ]
    },
    {
     "name": "stdout",
     "output_type": "stream",
     "text": [
      "[DEBUG] Eigenvalues: [0.96084628 0.99393989 0.99393989]\n"
     ]
    },
    {
     "name": "stderr",
     "output_type": "stream",
     "text": [
      "Rolling DNS Forecast:  89%|████████▉ | 672/756 [56:35<07:05,  5.06s/it]"
     ]
    },
    {
     "name": "stdout",
     "output_type": "stream",
     "text": [
      "[DEBUG] Eigenvalues: [0.96174125 0.99408924 0.99408924]\n"
     ]
    },
    {
     "name": "stderr",
     "output_type": "stream",
     "text": [
      "Rolling DNS Forecast:  89%|████████▉ | 673/756 [56:40<07:00,  5.06s/it]"
     ]
    },
    {
     "name": "stdout",
     "output_type": "stream",
     "text": [
      "[DEBUG] Eigenvalues: [0.9608232  0.99387631 0.99387631]\n"
     ]
    },
    {
     "name": "stderr",
     "output_type": "stream",
     "text": [
      "Rolling DNS Forecast:  89%|████████▉ | 674/756 [56:45<06:54,  5.06s/it]"
     ]
    },
    {
     "name": "stdout",
     "output_type": "stream",
     "text": [
      "[DEBUG] Eigenvalues: [0.96063897 0.9936854  0.9936854 ]\n"
     ]
    },
    {
     "name": "stderr",
     "output_type": "stream",
     "text": [
      "Rolling DNS Forecast:  89%|████████▉ | 675/756 [56:50<06:48,  5.05s/it]"
     ]
    },
    {
     "name": "stdout",
     "output_type": "stream",
     "text": [
      "[DEBUG] Eigenvalues: [0.96057483 0.99353515 0.99353515]\n"
     ]
    },
    {
     "name": "stderr",
     "output_type": "stream",
     "text": [
      "Rolling DNS Forecast:  89%|████████▉ | 676/756 [56:55<06:43,  5.05s/it]"
     ]
    },
    {
     "name": "stdout",
     "output_type": "stream",
     "text": [
      "[DEBUG] Eigenvalues: [0.96159308 0.9935801  0.9935801 ]\n"
     ]
    },
    {
     "name": "stderr",
     "output_type": "stream",
     "text": [
      "Rolling DNS Forecast:  90%|████████▉ | 677/756 [57:00<06:39,  5.05s/it]"
     ]
    },
    {
     "name": "stdout",
     "output_type": "stream",
     "text": [
      "[DEBUG] Eigenvalues: [0.96157012 0.99379602 0.99379602]\n"
     ]
    },
    {
     "name": "stderr",
     "output_type": "stream",
     "text": [
      "Rolling DNS Forecast:  90%|████████▉ | 678/756 [57:05<06:34,  5.06s/it]"
     ]
    },
    {
     "name": "stdout",
     "output_type": "stream",
     "text": [
      "[DEBUG] Eigenvalues: [0.96175081 0.99354665 0.99354665]\n"
     ]
    },
    {
     "name": "stderr",
     "output_type": "stream",
     "text": [
      "Rolling DNS Forecast:  90%|████████▉ | 679/756 [57:10<06:30,  5.07s/it]"
     ]
    },
    {
     "name": "stdout",
     "output_type": "stream",
     "text": [
      "[DEBUG] Eigenvalues: [0.96165994 0.99361046 0.99361046]\n"
     ]
    },
    {
     "name": "stderr",
     "output_type": "stream",
     "text": [
      "Rolling DNS Forecast:  90%|████████▉ | 680/756 [57:15<06:25,  5.08s/it]"
     ]
    },
    {
     "name": "stdout",
     "output_type": "stream",
     "text": [
      "[DEBUG] Eigenvalues: [0.96141511 0.99378814 0.99378814]\n"
     ]
    },
    {
     "name": "stderr",
     "output_type": "stream",
     "text": [
      "Rolling DNS Forecast:  90%|█████████ | 681/756 [57:20<06:20,  5.08s/it]"
     ]
    },
    {
     "name": "stdout",
     "output_type": "stream",
     "text": [
      "[DEBUG] Eigenvalues: [0.96124425 0.99367885 0.99367885]\n"
     ]
    },
    {
     "name": "stderr",
     "output_type": "stream",
     "text": [
      "Rolling DNS Forecast:  90%|█████████ | 682/756 [57:25<06:16,  5.08s/it]"
     ]
    },
    {
     "name": "stdout",
     "output_type": "stream",
     "text": [
      "[DEBUG] Eigenvalues: [0.96159022 0.99347695 0.99347695]\n"
     ]
    },
    {
     "name": "stderr",
     "output_type": "stream",
     "text": [
      "Rolling DNS Forecast:  90%|█████████ | 683/756 [57:30<06:10,  5.08s/it]"
     ]
    },
    {
     "name": "stdout",
     "output_type": "stream",
     "text": [
      "[DEBUG] Eigenvalues: [0.96145715 0.99345994 0.99345994]\n"
     ]
    },
    {
     "name": "stderr",
     "output_type": "stream",
     "text": [
      "Rolling DNS Forecast:  90%|█████████ | 684/756 [57:35<06:05,  5.07s/it]"
     ]
    },
    {
     "name": "stdout",
     "output_type": "stream",
     "text": [
      "[DEBUG] Eigenvalues: [0.96129438 0.99322692 0.99322692]\n"
     ]
    },
    {
     "name": "stderr",
     "output_type": "stream",
     "text": [
      "Rolling DNS Forecast:  91%|█████████ | 685/756 [57:40<06:00,  5.07s/it]"
     ]
    },
    {
     "name": "stdout",
     "output_type": "stream",
     "text": [
      "[DEBUG] Eigenvalues: [0.96123831 0.99290128 0.99290128]\n"
     ]
    },
    {
     "name": "stderr",
     "output_type": "stream",
     "text": [
      "Rolling DNS Forecast:  91%|█████████ | 686/756 [57:46<05:54,  5.07s/it]"
     ]
    },
    {
     "name": "stdout",
     "output_type": "stream",
     "text": [
      "[DEBUG] Eigenvalues: [0.96127488 0.99277244 0.99277244]\n"
     ]
    },
    {
     "name": "stderr",
     "output_type": "stream",
     "text": [
      "Rolling DNS Forecast:  91%|█████████ | 687/756 [57:51<05:49,  5.07s/it]"
     ]
    },
    {
     "name": "stdout",
     "output_type": "stream",
     "text": [
      "[DEBUG] Eigenvalues: [0.96140391 0.99281696 0.99281696]\n"
     ]
    },
    {
     "name": "stderr",
     "output_type": "stream",
     "text": [
      "Rolling DNS Forecast:  91%|█████████ | 688/756 [57:56<05:44,  5.07s/it]"
     ]
    },
    {
     "name": "stdout",
     "output_type": "stream",
     "text": [
      "[DEBUG] Eigenvalues: [0.96152267 0.99287431 0.99287431]\n"
     ]
    },
    {
     "name": "stderr",
     "output_type": "stream",
     "text": [
      "Rolling DNS Forecast:  91%|█████████ | 689/756 [58:01<05:39,  5.06s/it]"
     ]
    },
    {
     "name": "stdout",
     "output_type": "stream",
     "text": [
      "[DEBUG] Eigenvalues: [0.96143388 0.99277279 0.99277279]\n"
     ]
    },
    {
     "name": "stderr",
     "output_type": "stream",
     "text": [
      "Rolling DNS Forecast:  91%|█████████▏| 690/756 [58:06<05:34,  5.07s/it]"
     ]
    },
    {
     "name": "stdout",
     "output_type": "stream",
     "text": [
      "[DEBUG] Eigenvalues: [0.96156626 0.99276884 0.99276884]\n"
     ]
    },
    {
     "name": "stderr",
     "output_type": "stream",
     "text": [
      "Rolling DNS Forecast:  91%|█████████▏| 691/756 [58:11<05:29,  5.07s/it]"
     ]
    },
    {
     "name": "stdout",
     "output_type": "stream",
     "text": [
      "[DEBUG] Eigenvalues: [0.96152371 0.9929418  0.9929418 ]\n"
     ]
    },
    {
     "name": "stderr",
     "output_type": "stream",
     "text": [
      "Rolling DNS Forecast:  92%|█████████▏| 692/756 [58:16<05:24,  5.07s/it]"
     ]
    },
    {
     "name": "stdout",
     "output_type": "stream",
     "text": [
      "[DEBUG] Eigenvalues: [0.96125089 0.99291033 0.99291033]\n"
     ]
    },
    {
     "name": "stderr",
     "output_type": "stream",
     "text": [
      "Rolling DNS Forecast:  92%|█████████▏| 693/756 [58:21<05:19,  5.07s/it]"
     ]
    },
    {
     "name": "stdout",
     "output_type": "stream",
     "text": [
      "[DEBUG] Eigenvalues: [0.96088844 0.99284421 0.99284421]\n"
     ]
    },
    {
     "name": "stderr",
     "output_type": "stream",
     "text": [
      "Rolling DNS Forecast:  92%|█████████▏| 694/756 [58:26<05:14,  5.07s/it]"
     ]
    },
    {
     "name": "stdout",
     "output_type": "stream",
     "text": [
      "[DEBUG] Eigenvalues: [0.96128559 0.99284294 0.99284294]\n"
     ]
    },
    {
     "name": "stderr",
     "output_type": "stream",
     "text": [
      "Rolling DNS Forecast:  92%|█████████▏| 695/756 [58:31<05:09,  5.07s/it]"
     ]
    },
    {
     "name": "stdout",
     "output_type": "stream",
     "text": [
      "[DEBUG] Eigenvalues: [0.96132263 0.99287101 0.99287101]\n"
     ]
    },
    {
     "name": "stderr",
     "output_type": "stream",
     "text": [
      "Rolling DNS Forecast:  92%|█████████▏| 696/756 [58:36<05:04,  5.07s/it]"
     ]
    },
    {
     "name": "stdout",
     "output_type": "stream",
     "text": [
      "[DEBUG] Eigenvalues: [0.96186174 0.99293661 0.99293661]\n"
     ]
    },
    {
     "name": "stderr",
     "output_type": "stream",
     "text": [
      "Rolling DNS Forecast:  92%|█████████▏| 697/756 [58:41<04:59,  5.07s/it]"
     ]
    },
    {
     "name": "stdout",
     "output_type": "stream",
     "text": [
      "[DEBUG] Eigenvalues: [0.96173128 0.99309016 0.99309016]\n"
     ]
    },
    {
     "name": "stderr",
     "output_type": "stream",
     "text": [
      "Rolling DNS Forecast:  92%|█████████▏| 698/756 [58:46<04:53,  5.07s/it]"
     ]
    },
    {
     "name": "stdout",
     "output_type": "stream",
     "text": [
      "[DEBUG] Eigenvalues: [0.96188142 0.99318837 0.99318837]\n"
     ]
    },
    {
     "name": "stderr",
     "output_type": "stream",
     "text": [
      "Rolling DNS Forecast:  92%|█████████▏| 699/756 [58:51<04:48,  5.06s/it]"
     ]
    },
    {
     "name": "stdout",
     "output_type": "stream",
     "text": [
      "[DEBUG] Eigenvalues: [0.96156762 0.99332496 0.99332496]\n"
     ]
    },
    {
     "name": "stderr",
     "output_type": "stream",
     "text": [
      "Rolling DNS Forecast:  93%|█████████▎| 700/756 [58:56<04:43,  5.06s/it]"
     ]
    },
    {
     "name": "stdout",
     "output_type": "stream",
     "text": [
      "[DEBUG] Eigenvalues: [0.96123846 0.99325904 0.99325904]\n"
     ]
    },
    {
     "name": "stderr",
     "output_type": "stream",
     "text": [
      "Rolling DNS Forecast:  93%|█████████▎| 701/756 [59:02<04:38,  5.07s/it]"
     ]
    },
    {
     "name": "stdout",
     "output_type": "stream",
     "text": [
      "[DEBUG] Eigenvalues: [0.9613814  0.99329976 0.99329976]\n"
     ]
    },
    {
     "name": "stderr",
     "output_type": "stream",
     "text": [
      "Rolling DNS Forecast:  93%|█████████▎| 702/756 [59:07<04:33,  5.07s/it]"
     ]
    },
    {
     "name": "stdout",
     "output_type": "stream",
     "text": [
      "[DEBUG] Eigenvalues: [0.96268286 0.99339994 0.99339994]\n"
     ]
    },
    {
     "name": "stderr",
     "output_type": "stream",
     "text": [
      "Rolling DNS Forecast:  93%|█████████▎| 703/756 [59:12<04:28,  5.07s/it]"
     ]
    },
    {
     "name": "stdout",
     "output_type": "stream",
     "text": [
      "[DEBUG] Eigenvalues: [0.96283655 0.99388258 0.99388258]\n"
     ]
    },
    {
     "name": "stderr",
     "output_type": "stream",
     "text": [
      "Rolling DNS Forecast:  93%|█████████▎| 704/756 [59:17<04:23,  5.06s/it]"
     ]
    },
    {
     "name": "stdout",
     "output_type": "stream",
     "text": [
      "[DEBUG] Eigenvalues: [0.96213995 0.99380792 0.99380792]\n"
     ]
    },
    {
     "name": "stderr",
     "output_type": "stream",
     "text": [
      "Rolling DNS Forecast:  93%|█████████▎| 705/756 [59:22<04:18,  5.06s/it]"
     ]
    },
    {
     "name": "stdout",
     "output_type": "stream",
     "text": [
      "[DEBUG] Eigenvalues: [0.96229714 0.99398355 0.99398355]\n"
     ]
    },
    {
     "name": "stderr",
     "output_type": "stream",
     "text": [
      "Rolling DNS Forecast:  93%|█████████▎| 706/756 [59:27<04:13,  5.06s/it]"
     ]
    },
    {
     "name": "stdout",
     "output_type": "stream",
     "text": [
      "[DEBUG] Eigenvalues: [0.96217624 0.99401131 0.99401131]\n"
     ]
    },
    {
     "name": "stderr",
     "output_type": "stream",
     "text": [
      "Rolling DNS Forecast:  94%|█████████▎| 707/756 [59:32<04:07,  5.05s/it]"
     ]
    },
    {
     "name": "stdout",
     "output_type": "stream",
     "text": [
      "[DEBUG] Eigenvalues: [0.96184763 0.9940616  0.9940616 ]\n"
     ]
    },
    {
     "name": "stderr",
     "output_type": "stream",
     "text": [
      "Rolling DNS Forecast:  94%|█████████▎| 708/756 [59:37<04:02,  5.06s/it]"
     ]
    },
    {
     "name": "stdout",
     "output_type": "stream",
     "text": [
      "[DEBUG] Eigenvalues: [0.96209323 0.99402709 0.99402709]\n"
     ]
    },
    {
     "name": "stderr",
     "output_type": "stream",
     "text": [
      "Rolling DNS Forecast:  94%|█████████▍| 709/756 [59:42<03:57,  5.06s/it]"
     ]
    },
    {
     "name": "stdout",
     "output_type": "stream",
     "text": [
      "[DEBUG] Eigenvalues: [0.96307539 0.99421703 0.99421703]\n"
     ]
    },
    {
     "name": "stderr",
     "output_type": "stream",
     "text": [
      "Rolling DNS Forecast:  94%|█████████▍| 710/756 [59:47<03:52,  5.06s/it]"
     ]
    },
    {
     "name": "stdout",
     "output_type": "stream",
     "text": [
      "[DEBUG] Eigenvalues: [0.96223352 0.99429331 0.99429331]\n"
     ]
    },
    {
     "name": "stderr",
     "output_type": "stream",
     "text": [
      "Rolling DNS Forecast:  94%|█████████▍| 711/756 [59:52<03:47,  5.06s/it]"
     ]
    },
    {
     "name": "stdout",
     "output_type": "stream",
     "text": [
      "[DEBUG] Eigenvalues: [0.96248049 0.99457575 0.99457575]\n"
     ]
    },
    {
     "name": "stderr",
     "output_type": "stream",
     "text": [
      "Rolling DNS Forecast:  94%|█████████▍| 712/756 [59:57<03:42,  5.06s/it]"
     ]
    },
    {
     "name": "stdout",
     "output_type": "stream",
     "text": [
      "[DEBUG] Eigenvalues: [0.9624167  0.99478122 0.99478122]\n"
     ]
    },
    {
     "name": "stderr",
     "output_type": "stream",
     "text": [
      "Rolling DNS Forecast:  94%|█████████▍| 713/756 [1:00:02<03:36,  5.05s/it]"
     ]
    },
    {
     "name": "stdout",
     "output_type": "stream",
     "text": [
      "[DEBUG] Eigenvalues: [0.96325669 0.99489991 0.99489991]\n"
     ]
    },
    {
     "name": "stderr",
     "output_type": "stream",
     "text": [
      "Rolling DNS Forecast:  94%|█████████▍| 714/756 [1:00:07<03:32,  5.05s/it]"
     ]
    },
    {
     "name": "stdout",
     "output_type": "stream",
     "text": [
      "[DEBUG] Eigenvalues: [0.96273488 0.99490727 0.99490727]\n"
     ]
    },
    {
     "name": "stderr",
     "output_type": "stream",
     "text": [
      "Rolling DNS Forecast:  95%|█████████▍| 715/756 [1:00:12<03:27,  5.06s/it]"
     ]
    },
    {
     "name": "stdout",
     "output_type": "stream",
     "text": [
      "[DEBUG] Eigenvalues: [0.96300098 0.9951043  0.9951043 ]\n"
     ]
    },
    {
     "name": "stderr",
     "output_type": "stream",
     "text": [
      "Rolling DNS Forecast:  95%|█████████▍| 716/756 [1:00:17<03:22,  5.06s/it]"
     ]
    },
    {
     "name": "stdout",
     "output_type": "stream",
     "text": [
      "[DEBUG] Eigenvalues: [0.96331138 0.9951493  0.9951493 ]\n"
     ]
    },
    {
     "name": "stderr",
     "output_type": "stream",
     "text": [
      "Rolling DNS Forecast:  95%|█████████▍| 717/756 [1:00:22<03:17,  5.06s/it]"
     ]
    },
    {
     "name": "stdout",
     "output_type": "stream",
     "text": [
      "[DEBUG] Eigenvalues: [0.96291453 0.99517378 0.99517378]\n"
     ]
    },
    {
     "name": "stderr",
     "output_type": "stream",
     "text": [
      "Rolling DNS Forecast:  95%|█████████▍| 718/756 [1:00:28<03:12,  5.07s/it]"
     ]
    },
    {
     "name": "stdout",
     "output_type": "stream",
     "text": [
      "[DEBUG] Eigenvalues: [0.96244016 0.99530916 0.99530916]\n"
     ]
    },
    {
     "name": "stderr",
     "output_type": "stream",
     "text": [
      "Rolling DNS Forecast:  95%|█████████▌| 719/756 [1:00:33<03:07,  5.07s/it]"
     ]
    },
    {
     "name": "stdout",
     "output_type": "stream",
     "text": [
      "[DEBUG] Eigenvalues: [0.96276369 0.99523221 0.99523221]\n"
     ]
    },
    {
     "name": "stderr",
     "output_type": "stream",
     "text": [
      "Rolling DNS Forecast:  95%|█████████▌| 720/756 [1:00:38<03:02,  5.08s/it]"
     ]
    },
    {
     "name": "stdout",
     "output_type": "stream",
     "text": [
      "[DEBUG] Eigenvalues: [0.96272211 0.99520333 0.99520333]\n"
     ]
    },
    {
     "name": "stderr",
     "output_type": "stream",
     "text": [
      "Rolling DNS Forecast:  95%|█████████▌| 721/756 [1:00:43<02:57,  5.06s/it]"
     ]
    },
    {
     "name": "stdout",
     "output_type": "stream",
     "text": [
      "[DEBUG] Eigenvalues: [0.96284958 0.99529427 0.99529427]\n"
     ]
    },
    {
     "name": "stderr",
     "output_type": "stream",
     "text": [
      "Rolling DNS Forecast:  96%|█████████▌| 722/756 [1:00:48<02:52,  5.06s/it]"
     ]
    },
    {
     "name": "stdout",
     "output_type": "stream",
     "text": [
      "[DEBUG] Eigenvalues: [0.9622482 0.9951751 0.9951751]\n"
     ]
    },
    {
     "name": "stderr",
     "output_type": "stream",
     "text": [
      "Rolling DNS Forecast:  96%|█████████▌| 723/756 [1:00:53<02:46,  5.05s/it]"
     ]
    },
    {
     "name": "stdout",
     "output_type": "stream",
     "text": [
      "[DEBUG] Eigenvalues: [0.96145592 0.99504999 0.99504999]\n"
     ]
    },
    {
     "name": "stderr",
     "output_type": "stream",
     "text": [
      "Rolling DNS Forecast:  96%|█████████▌| 724/756 [1:00:58<02:41,  5.06s/it]"
     ]
    },
    {
     "name": "stdout",
     "output_type": "stream",
     "text": [
      "[DEBUG] Eigenvalues: [0.96155347 0.9949068  0.9949068 ]\n"
     ]
    },
    {
     "name": "stderr",
     "output_type": "stream",
     "text": [
      "Rolling DNS Forecast:  96%|█████████▌| 725/756 [1:01:03<02:36,  5.06s/it]"
     ]
    },
    {
     "name": "stdout",
     "output_type": "stream",
     "text": [
      "[DEBUG] Eigenvalues: [0.96003218 0.99490064 0.99490064]\n"
     ]
    },
    {
     "name": "stderr",
     "output_type": "stream",
     "text": [
      "Rolling DNS Forecast:  96%|█████████▌| 726/756 [1:01:08<02:31,  5.05s/it]"
     ]
    },
    {
     "name": "stdout",
     "output_type": "stream",
     "text": [
      "[DEBUG] Eigenvalues: [0.95816467 0.99471268 0.99471268]\n"
     ]
    },
    {
     "name": "stderr",
     "output_type": "stream",
     "text": [
      "Rolling DNS Forecast:  96%|█████████▌| 727/756 [1:01:13<02:26,  5.06s/it]"
     ]
    },
    {
     "name": "stdout",
     "output_type": "stream",
     "text": [
      "[DEBUG] Eigenvalues: [0.95989761 0.99482151 0.99482151]\n"
     ]
    },
    {
     "name": "stderr",
     "output_type": "stream",
     "text": [
      "Rolling DNS Forecast:  96%|█████████▋| 728/756 [1:01:18<02:21,  5.06s/it]"
     ]
    },
    {
     "name": "stdout",
     "output_type": "stream",
     "text": [
      "[DEBUG] Eigenvalues: [0.95954843 0.9950899  0.9950899 ]\n"
     ]
    },
    {
     "name": "stderr",
     "output_type": "stream",
     "text": [
      "Rolling DNS Forecast:  96%|█████████▋| 729/756 [1:01:23<02:16,  5.06s/it]"
     ]
    },
    {
     "name": "stdout",
     "output_type": "stream",
     "text": [
      "[DEBUG] Eigenvalues: [0.95842841 0.9951847  0.9951847 ]\n"
     ]
    },
    {
     "name": "stderr",
     "output_type": "stream",
     "text": [
      "Rolling DNS Forecast:  97%|█████████▋| 730/756 [1:01:28<02:11,  5.05s/it]"
     ]
    },
    {
     "name": "stdout",
     "output_type": "stream",
     "text": [
      "[DEBUG] Eigenvalues: [0.95806265 0.99506546 0.99506546]\n"
     ]
    },
    {
     "name": "stderr",
     "output_type": "stream",
     "text": [
      "Rolling DNS Forecast:  97%|█████████▋| 731/756 [1:01:33<02:05,  5.03s/it]"
     ]
    },
    {
     "name": "stdout",
     "output_type": "stream",
     "text": [
      "[DEBUG] Eigenvalues: [0.9587897  0.99504611 0.99504611]\n"
     ]
    },
    {
     "name": "stderr",
     "output_type": "stream",
     "text": [
      "Rolling DNS Forecast:  97%|█████████▋| 732/756 [1:01:38<02:00,  5.03s/it]"
     ]
    },
    {
     "name": "stdout",
     "output_type": "stream",
     "text": [
      "[DEBUG] Eigenvalues: [0.95903368 0.99493582 0.99493582]\n"
     ]
    },
    {
     "name": "stderr",
     "output_type": "stream",
     "text": [
      "Rolling DNS Forecast:  97%|█████████▋| 733/756 [1:01:43<01:55,  5.02s/it]"
     ]
    },
    {
     "name": "stdout",
     "output_type": "stream",
     "text": [
      "[DEBUG] Eigenvalues: [0.95909095 0.99487803 0.99487803]\n"
     ]
    },
    {
     "name": "stderr",
     "output_type": "stream",
     "text": [
      "Rolling DNS Forecast:  97%|█████████▋| 734/756 [1:01:48<01:50,  5.03s/it]"
     ]
    },
    {
     "name": "stdout",
     "output_type": "stream",
     "text": [
      "[DEBUG] Eigenvalues: [0.95919652 0.99500941 0.99500941]\n"
     ]
    },
    {
     "name": "stderr",
     "output_type": "stream",
     "text": [
      "Rolling DNS Forecast:  97%|█████████▋| 735/756 [1:01:53<01:45,  5.03s/it]"
     ]
    },
    {
     "name": "stdout",
     "output_type": "stream",
     "text": [
      "[DEBUG] Eigenvalues: [0.95992866 0.99486572 0.99486572]\n"
     ]
    },
    {
     "name": "stderr",
     "output_type": "stream",
     "text": [
      "Rolling DNS Forecast:  97%|█████████▋| 736/756 [1:01:58<01:40,  5.03s/it]"
     ]
    },
    {
     "name": "stdout",
     "output_type": "stream",
     "text": [
      "[DEBUG] Eigenvalues: [0.95957774 0.9948619  0.9948619 ]\n"
     ]
    },
    {
     "name": "stderr",
     "output_type": "stream",
     "text": [
      "Rolling DNS Forecast:  97%|█████████▋| 737/756 [1:02:03<01:35,  5.03s/it]"
     ]
    },
    {
     "name": "stdout",
     "output_type": "stream",
     "text": [
      "[DEBUG] Eigenvalues: [0.95999875 0.99464052 0.99464052]\n"
     ]
    },
    {
     "name": "stderr",
     "output_type": "stream",
     "text": [
      "Rolling DNS Forecast:  98%|█████████▊| 738/756 [1:02:08<01:30,  5.02s/it]"
     ]
    },
    {
     "name": "stdout",
     "output_type": "stream",
     "text": [
      "[DEBUG] Eigenvalues: [0.95998091 0.9945073  0.9945073 ]\n"
     ]
    },
    {
     "name": "stderr",
     "output_type": "stream",
     "text": [
      "Rolling DNS Forecast:  98%|█████████▊| 739/756 [1:02:13<01:25,  5.03s/it]"
     ]
    },
    {
     "name": "stdout",
     "output_type": "stream",
     "text": [
      "[DEBUG] Eigenvalues: [0.95998594 0.99446822 0.99446822]\n"
     ]
    },
    {
     "name": "stderr",
     "output_type": "stream",
     "text": [
      "Rolling DNS Forecast:  98%|█████████▊| 740/756 [1:02:19<01:20,  5.05s/it]"
     ]
    },
    {
     "name": "stdout",
     "output_type": "stream",
     "text": [
      "[DEBUG] Eigenvalues: [0.96084518 0.99458483 0.99458483]\n"
     ]
    },
    {
     "name": "stderr",
     "output_type": "stream",
     "text": [
      "Rolling DNS Forecast:  98%|█████████▊| 741/756 [1:02:24<01:15,  5.05s/it]"
     ]
    },
    {
     "name": "stdout",
     "output_type": "stream",
     "text": [
      "[DEBUG] Eigenvalues: [0.96128439 0.99460804 0.99460804]\n"
     ]
    },
    {
     "name": "stderr",
     "output_type": "stream",
     "text": [
      "Rolling DNS Forecast:  98%|█████████▊| 742/756 [1:02:29<01:10,  5.06s/it]"
     ]
    },
    {
     "name": "stdout",
     "output_type": "stream",
     "text": [
      "[DEBUG] Eigenvalues: [0.96138077 0.99458601 0.99458601]\n"
     ]
    },
    {
     "name": "stderr",
     "output_type": "stream",
     "text": [
      "Rolling DNS Forecast:  98%|█████████▊| 743/756 [1:02:34<01:05,  5.06s/it]"
     ]
    },
    {
     "name": "stdout",
     "output_type": "stream",
     "text": [
      "[DEBUG] Eigenvalues: [0.96116067 0.99439443 0.99439443]\n"
     ]
    },
    {
     "name": "stderr",
     "output_type": "stream",
     "text": [
      "Rolling DNS Forecast:  98%|█████████▊| 744/756 [1:02:39<01:00,  5.07s/it]"
     ]
    },
    {
     "name": "stdout",
     "output_type": "stream",
     "text": [
      "[DEBUG] Eigenvalues: [0.96162535 0.99434286 0.99434286]\n"
     ]
    },
    {
     "name": "stderr",
     "output_type": "stream",
     "text": [
      "Rolling DNS Forecast:  99%|█████████▊| 745/756 [1:02:44<00:55,  5.07s/it]"
     ]
    },
    {
     "name": "stdout",
     "output_type": "stream",
     "text": [
      "[DEBUG] Eigenvalues: [0.9617068  0.99436161 0.99436161]\n"
     ]
    },
    {
     "name": "stderr",
     "output_type": "stream",
     "text": [
      "Rolling DNS Forecast:  99%|█████████▊| 746/756 [1:02:49<00:50,  5.06s/it]"
     ]
    },
    {
     "name": "stdout",
     "output_type": "stream",
     "text": [
      "[DEBUG] Eigenvalues: [0.96199424 0.99438387 0.99438387]\n"
     ]
    },
    {
     "name": "stderr",
     "output_type": "stream",
     "text": [
      "Rolling DNS Forecast:  99%|█████████▉| 747/756 [1:02:54<00:45,  5.06s/it]"
     ]
    },
    {
     "name": "stdout",
     "output_type": "stream",
     "text": [
      "[DEBUG] Eigenvalues: [0.96173612 0.99434446 0.99434446]\n"
     ]
    },
    {
     "name": "stderr",
     "output_type": "stream",
     "text": [
      "Rolling DNS Forecast:  99%|█████████▉| 748/756 [1:02:59<00:40,  5.04s/it]"
     ]
    },
    {
     "name": "stdout",
     "output_type": "stream",
     "text": [
      "[DEBUG] Eigenvalues: [0.96144154 0.9942569  0.9942569 ]\n"
     ]
    },
    {
     "name": "stderr",
     "output_type": "stream",
     "text": [
      "Rolling DNS Forecast:  99%|█████████▉| 749/756 [1:03:04<00:35,  5.04s/it]"
     ]
    },
    {
     "name": "stdout",
     "output_type": "stream",
     "text": [
      "[DEBUG] Eigenvalues: [0.96183068 0.9941501  0.9941501 ]\n"
     ]
    },
    {
     "name": "stderr",
     "output_type": "stream",
     "text": [
      "Rolling DNS Forecast:  99%|█████████▉| 750/756 [1:03:09<00:30,  5.03s/it]"
     ]
    },
    {
     "name": "stdout",
     "output_type": "stream",
     "text": [
      "[DEBUG] Eigenvalues: [0.96168489 0.99426552 0.99426552]\n"
     ]
    },
    {
     "name": "stderr",
     "output_type": "stream",
     "text": [
      "Rolling DNS Forecast:  99%|█████████▉| 751/756 [1:03:14<00:25,  5.02s/it]"
     ]
    },
    {
     "name": "stdout",
     "output_type": "stream",
     "text": [
      "[DEBUG] Eigenvalues: [0.96172349 0.99417379 0.99417379]\n"
     ]
    },
    {
     "name": "stderr",
     "output_type": "stream",
     "text": [
      "Rolling DNS Forecast:  99%|█████████▉| 752/756 [1:03:19<00:20,  5.02s/it]"
     ]
    },
    {
     "name": "stdout",
     "output_type": "stream",
     "text": [
      "[DEBUG] Eigenvalues: [0.96170865 0.99418745 0.99418745]\n"
     ]
    },
    {
     "name": "stderr",
     "output_type": "stream",
     "text": [
      "Rolling DNS Forecast: 100%|█████████▉| 753/756 [1:03:24<00:15,  5.03s/it]"
     ]
    },
    {
     "name": "stdout",
     "output_type": "stream",
     "text": [
      "[DEBUG] Eigenvalues: [0.96173077 0.9942616  0.9942616 ]\n"
     ]
    },
    {
     "name": "stderr",
     "output_type": "stream",
     "text": [
      "Rolling DNS Forecast: 100%|█████████▉| 754/756 [1:03:29<00:10,  5.02s/it]"
     ]
    },
    {
     "name": "stdout",
     "output_type": "stream",
     "text": [
      "[DEBUG] Eigenvalues: [0.96188475 0.99429497 0.99429497]\n"
     ]
    },
    {
     "name": "stderr",
     "output_type": "stream",
     "text": [
      "Rolling DNS Forecast: 100%|█████████▉| 755/756 [1:03:34<00:05,  5.03s/it]"
     ]
    },
    {
     "name": "stdout",
     "output_type": "stream",
     "text": [
      "[DEBUG] Eigenvalues: [0.9619873  0.99409706 0.99409706]\n"
     ]
    },
    {
     "name": "stderr",
     "output_type": "stream",
     "text": [
      "Rolling DNS Forecast: 100%|██████████| 756/756 [1:03:39<00:00,  5.05s/it]"
     ]
    },
    {
     "name": "stdout",
     "output_type": "stream",
     "text": [
      "[DEBUG] Eigenvalues: [0.96169901 0.9941248  0.9941248 ]\n"
     ]
    },
    {
     "name": "stderr",
     "output_type": "stream",
     "text": [
      "\n"
     ]
    }
   ],
   "source": [
    "# ---------------------- Imports ---------------------- #\n",
    "import pandas as pd\n",
    "import numpy as np\n",
    "from datetime import datetime\n",
    "from tqdm import tqdm\n",
    "from sklearn.metrics import mean_absolute_error\n",
    "import json\n",
    "\n",
    "# ---------------------- DNS Functions ---------------------- #\n",
    "def DNS_formula(x, f, lambb):\n",
    "    l1, s1, c1 = f\n",
    "    return l1 + s1 * ((1 - np.exp(-lambb * x)) / (lambb * x)) + \\\n",
    "           c1 * (((1 - np.exp(-lambb * x)) / (lambb * x)) - np.exp(-lambb * x))\n",
    "\n",
    "def params_VAR(factors_df):\n",
    "    from statsmodels.tsa.api import VAR\n",
    "    model = VAR(factors_df)\n",
    "    fitted = model.fit(1)\n",
    "    coeffs = fitted.params.values\n",
    "    offset = coeffs[0, :]\n",
    "    trans_mat = coeffs[1:, :].T\n",
    "    return offset, trans_mat\n",
    "\n",
    "def forecast_DNS_KF_explosivcor(da, tau, lamb, state_init, offset_init, trans_init, pred):\n",
    "    from pykalman import KalmanFilter\n",
    "    t = np.array(tau).T\n",
    "    dat = da.to_numpy()\n",
    "\n",
    "    kf = KalmanFilter(\n",
    "        transition_matrices=trans_init,\n",
    "        observation_matrices=np.hstack((np.ones((tau.size, 1)), (1 - np.exp(-lamb * t)) / (lamb * t), (1 - np.exp(-lamb * t)) / (lamb * t) - np.exp(-lamb * t))),\n",
    "        transition_covariance=np.eye(3),\n",
    "        observation_covariance=np.eye(dat.shape[1]),\n",
    "        transition_offsets=offset_init,\n",
    "        observation_offsets=np.zeros(dat.shape[1]),\n",
    "        initial_state_mean=state_init,\n",
    "        initial_state_covariance=np.eye(3),\n",
    "        em_vars=[\n",
    "            'transition_matrices', 'transition_offsets',\n",
    "            'transition_covariance', 'observation_covariance',\n",
    "            'initial_state_mean', 'initial_state_covariance'\n",
    "        ],\n",
    "        n_dim_state=3,\n",
    "        n_dim_obs=dat.shape[1]\n",
    "    )\n",
    "    kf = kf.em(dat, n_iter=20)\n",
    "    smoother_x, _ = kf.smooth(dat)\n",
    "\n",
    "    A = kf.transition_matrices\n",
    "    offs = kf.transition_offsets\n",
    "\n",
    "    eigvals = np.abs(np.linalg.eigvals(A))\n",
    "    print(f\"[DEBUG] Eigenvalues: {eigvals}\")\n",
    "    \n",
    "    if np.max(eigvals) > 1.01:\n",
    "        print(\"explosivity corrected\")\n",
    "        A = np.eye(3)\n",
    "        offs = np.zeros_like(offs)\n",
    "\n",
    "    forecast = np.zeros((pred, 3))\n",
    "    last_value = np.array([smoother_x[-1]])\n",
    "    for i in range(pred):\n",
    "        forecast[i, :] = np.array(last_value @ A.T + offs)\n",
    "        last_value = forecast[i, :]\n",
    "\n",
    "    return forecast\n",
    "\n",
    "def DNS_OLS(data, tau_in, lamb_i):\n",
    "    tau = tau_in.reshape(-1, 1)\n",
    "    dummy = lamb_i * tau\n",
    "    col2 = (1 - np.exp(-dummy)) / dummy\n",
    "    col3 = col2 - np.exp(-dummy)\n",
    "    X = np.hstack([np.ones_like(tau), col2, col3])\n",
    "    XtX_inv_Xt = np.linalg.pinv(X.T @ X) @ X.T\n",
    "    betas = (XtX_inv_Xt @ data.T).T\n",
    "    return betas\n",
    "\n",
    "# ---------------------- Parameters ---------------------- #\n",
    "window_size = 3 * 252  # 3 years assuming 252 trading days/year\n",
    "forecast_horizon = 1\n",
    "lamb_i = 0.496\n",
    "tau = np.array([0.25, 0.5, 1, 3, 5, 10])\n",
    "\n",
    "# ---------------------- Load Data ---------------------- #\n",
    "y_df = pd.read_csv(\"Y_df.csv\", index_col=0, parse_dates=True)\n",
    "date_index = y_df.index\n",
    "y_all = y_df.values\n",
    "columns = y_df.columns.tolist()\n",
    "\n",
    "# ---------------------- Forecasting Loop ---------------------- #\n",
    "start_date = pd.to_datetime(\"2022-04-13\")\n",
    "end_date = pd.to_datetime(\"2025-03-05\")\n",
    "start_idx = date_index.get_loc(start_date)\n",
    "end_idx = date_index.get_loc(end_date)\n",
    "\n",
    "preds, trues, test_dates, results = [], [], [], []\n",
    "\n",
    "for i in tqdm(range(start_idx, end_idx + 1), desc=\"Rolling DNS Forecast\"):\n",
    "    y_hist = y_all[i - window_size:i]\n",
    "    y_true = y_all[i]\n",
    "\n",
    "    betas = DNS_OLS(y_hist, tau, lamb_i)\n",
    "    offset, A = params_VAR(pd.DataFrame(betas))\n",
    "    forecasted_betas = forecast_DNS_KF_explosivcor(\n",
    "        pd.DataFrame(y_hist), tau.reshape(1, -1), lamb_i,\n",
    "        state_init=betas[-1], offset_init=offset, trans_init=A,\n",
    "        pred=forecast_horizon\n",
    "    )\n",
    "\n",
    "    y_pred = DNS_formula(tau, forecasted_betas[-1], lamb_i)\n",
    "\n",
    "    eval_date = date_index[i]\n",
    "    preds.append(y_pred)\n",
    "    trues.append(y_true)\n",
    "    test_dates.append(eval_date)\n",
    "\n",
    "    results.append({\n",
    "        \"eval_date\": eval_date.strftime(\"%Y-%m-%d\"),\n",
    "        \"true_yields\": y_true.tolist(),\n",
    "        \"forecast_yields\": y_pred.tolist(),\n",
    "        \"forecast_betas\": forecasted_betas[-1].tolist(),\n",
    "        \"mae\": mean_absolute_error(y_true, y_pred)\n",
    "    })\n",
    "\n",
    "# ---------------------- Save Outputs ---------------------- #\n",
    "pd.DataFrame(trues, columns=columns, index=test_dates).to_csv(\"dns_fixed_window_true.csv\")\n",
    "pd.DataFrame(preds, columns=columns, index=test_dates).to_csv(\"dns_fixed_window_preds.csv\")\n",
    "\n",
    "with open(\"dns_fixed_window_metadata.json\", \"w\") as f:\n",
    "    json.dump(results, f, indent=4)\n",
    "\n",
    "pd.DataFrame(results).to_csv(\"dns_fixed_window_results.csv\", index=False)\n"
   ]
  },
  {
   "cell_type": "code",
   "execution_count": null,
   "id": "efb6f5f4-598e-4937-95a6-7fcbb2f0d805",
   "metadata": {},
   "outputs": [],
   "source": []
  }
 ],
 "metadata": {
  "kernelspec": {
   "display_name": "Python3 (ipykernel)",
   "language": "python",
   "name": "python3"
  },
  "language_info": {
   "codemirror_mode": {
    "name": "ipython",
    "version": 3
   },
   "file_extension": ".py",
   "mimetype": "text/x-python",
   "name": "python",
   "nbconvert_exporter": "python",
   "pygments_lexer": "ipython3",
   "version": "3.10.12"
  }
 },
 "nbformat": 4,
 "nbformat_minor": 5
}
