{
 "cells": [
  {
   "cell_type": "code",
   "execution_count": 19,
   "id": "914819af9bb112c5",
   "metadata": {},
   "outputs": [
    {
     "name": "stdout",
     "output_type": "stream",
     "text": [
      "Requirement already satisfied: pandas in /venv/main/lib/python3.12/site-packages (2.2.3)\n",
      "Requirement already satisfied: numpy in /venv/main/lib/python3.12/site-packages (2.1.2)\n",
      "Requirement already satisfied: scikit-learn in /venv/main/lib/python3.12/site-packages (1.6.1)\n",
      "Requirement already satisfied: tqdm in /venv/main/lib/python3.12/site-packages (4.67.1)\n",
      "Requirement already satisfied: torch in /venv/main/lib/python3.12/site-packages (2.6.0+cu126)\n",
      "Requirement already satisfied: geneticalgorithm in /venv/main/lib/python3.12/site-packages (1.0.2)\n",
      "Requirement already satisfied: matplotlib in /venv/main/lib/python3.12/site-packages (3.10.3)\n",
      "Collecting optuna\n",
      "  Downloading optuna-4.3.0-py3-none-any.whl.metadata (17 kB)\n",
      "Requirement already satisfied: python-dateutil>=2.8.2 in /venv/main/lib/python3.12/site-packages (from pandas) (2.9.0.post0)\n",
      "Requirement already satisfied: pytz>=2020.1 in /venv/main/lib/python3.12/site-packages (from pandas) (2025.2)\n",
      "Requirement already satisfied: tzdata>=2022.7 in /venv/main/lib/python3.12/site-packages (from pandas) (2025.2)\n",
      "Requirement already satisfied: scipy>=1.6.0 in /venv/main/lib/python3.12/site-packages (from scikit-learn) (1.15.3)\n",
      "Requirement already satisfied: joblib>=1.2.0 in /venv/main/lib/python3.12/site-packages (from scikit-learn) (1.5.0)\n",
      "Requirement already satisfied: threadpoolctl>=3.1.0 in /venv/main/lib/python3.12/site-packages (from scikit-learn) (3.6.0)\n",
      "Requirement already satisfied: filelock in /venv/main/lib/python3.12/site-packages (from torch) (3.18.0)\n",
      "Requirement already satisfied: typing-extensions>=4.10.0 in /venv/main/lib/python3.12/site-packages (from torch) (4.13.2)\n",
      "Requirement already satisfied: setuptools in /venv/main/lib/python3.12/site-packages (from torch) (70.2.0)\n",
      "Requirement already satisfied: sympy==1.13.1 in /venv/main/lib/python3.12/site-packages (from torch) (1.13.1)\n",
      "Requirement already satisfied: networkx in /venv/main/lib/python3.12/site-packages (from torch) (3.3)\n",
      "Requirement already satisfied: jinja2 in /venv/main/lib/python3.12/site-packages (from torch) (3.1.4)\n",
      "Requirement already satisfied: fsspec in /venv/main/lib/python3.12/site-packages (from torch) (2025.3.2)\n",
      "Requirement already satisfied: nvidia-cuda-nvrtc-cu12==12.6.77 in /venv/main/lib/python3.12/site-packages (from torch) (12.6.77)\n",
      "Requirement already satisfied: nvidia-cuda-runtime-cu12==12.6.77 in /venv/main/lib/python3.12/site-packages (from torch) (12.6.77)\n",
      "Requirement already satisfied: nvidia-cuda-cupti-cu12==12.6.80 in /venv/main/lib/python3.12/site-packages (from torch) (12.6.80)\n",
      "Requirement already satisfied: nvidia-cudnn-cu12==9.5.1.17 in /venv/main/lib/python3.12/site-packages (from torch) (9.5.1.17)\n",
      "Requirement already satisfied: nvidia-cublas-cu12==12.6.4.1 in /venv/main/lib/python3.12/site-packages (from torch) (12.6.4.1)\n",
      "Requirement already satisfied: nvidia-cufft-cu12==11.3.0.4 in /venv/main/lib/python3.12/site-packages (from torch) (11.3.0.4)\n",
      "Requirement already satisfied: nvidia-curand-cu12==10.3.7.77 in /venv/main/lib/python3.12/site-packages (from torch) (10.3.7.77)\n",
      "Requirement already satisfied: nvidia-cusolver-cu12==11.7.1.2 in /venv/main/lib/python3.12/site-packages (from torch) (11.7.1.2)\n",
      "Requirement already satisfied: nvidia-cusparse-cu12==12.5.4.2 in /venv/main/lib/python3.12/site-packages (from torch) (12.5.4.2)\n",
      "Requirement already satisfied: nvidia-cusparselt-cu12==0.6.3 in /venv/main/lib/python3.12/site-packages (from torch) (0.6.3)\n",
      "Requirement already satisfied: nvidia-nccl-cu12==2.21.5 in /venv/main/lib/python3.12/site-packages (from torch) (2.21.5)\n",
      "Requirement already satisfied: nvidia-nvtx-cu12==12.6.77 in /venv/main/lib/python3.12/site-packages (from torch) (12.6.77)\n",
      "Requirement already satisfied: nvidia-nvjitlink-cu12==12.6.85 in /venv/main/lib/python3.12/site-packages (from torch) (12.6.85)\n",
      "Requirement already satisfied: triton==3.2.0 in /venv/main/lib/python3.12/site-packages (from torch) (3.2.0)\n",
      "Requirement already satisfied: mpmath<1.4,>=1.1.0 in /venv/main/lib/python3.12/site-packages (from sympy==1.13.1->torch) (1.3.0)\n",
      "Requirement already satisfied: func-timeout in /venv/main/lib/python3.12/site-packages (from geneticalgorithm) (4.3.5)\n",
      "Requirement already satisfied: contourpy>=1.0.1 in /venv/main/lib/python3.12/site-packages (from matplotlib) (1.3.2)\n",
      "Requirement already satisfied: cycler>=0.10 in /venv/main/lib/python3.12/site-packages (from matplotlib) (0.12.1)\n",
      "Requirement already satisfied: fonttools>=4.22.0 in /venv/main/lib/python3.12/site-packages (from matplotlib) (4.58.0)\n",
      "Requirement already satisfied: kiwisolver>=1.3.1 in /venv/main/lib/python3.12/site-packages (from matplotlib) (1.4.8)\n",
      "Requirement already satisfied: packaging>=20.0 in /venv/main/lib/python3.12/site-packages (from matplotlib) (25.0)\n",
      "Requirement already satisfied: pillow>=8 in /venv/main/lib/python3.12/site-packages (from matplotlib) (11.0.0)\n",
      "Requirement already satisfied: pyparsing>=2.3.1 in /venv/main/lib/python3.12/site-packages (from matplotlib) (3.2.3)\n",
      "Collecting alembic>=1.5.0 (from optuna)\n",
      "  Downloading alembic-1.15.2-py3-none-any.whl.metadata (7.3 kB)\n",
      "Collecting colorlog (from optuna)\n",
      "  Downloading colorlog-6.9.0-py3-none-any.whl.metadata (10 kB)\n",
      "Collecting sqlalchemy>=1.4.2 (from optuna)\n",
      "  Downloading sqlalchemy-2.0.40-cp312-cp312-manylinux_2_17_x86_64.manylinux2014_x86_64.whl.metadata (9.6 kB)\n",
      "Requirement already satisfied: PyYAML in /venv/main/lib/python3.12/site-packages (from optuna) (6.0.2)\n",
      "Collecting Mako (from alembic>=1.5.0->optuna)\n",
      "  Downloading mako-1.3.10-py3-none-any.whl.metadata (2.9 kB)\n",
      "Requirement already satisfied: six>=1.5 in /venv/main/lib/python3.12/site-packages (from python-dateutil>=2.8.2->pandas) (1.17.0)\n",
      "Collecting greenlet>=1 (from sqlalchemy>=1.4.2->optuna)\n",
      "  Downloading greenlet-3.2.2-cp312-cp312-manylinux_2_24_x86_64.manylinux_2_28_x86_64.whl.metadata (4.1 kB)\n",
      "Requirement already satisfied: MarkupSafe>=2.0 in /venv/main/lib/python3.12/site-packages (from jinja2->torch) (2.1.5)\n",
      "Downloading optuna-4.3.0-py3-none-any.whl (386 kB)\n",
      "\u001b[2K   \u001b[90m━━━━━━━━━━━━━━━━━━━━━━━━━━━━━━━━━━━━━━━━\u001b[0m \u001b[32m386.6/386.6 kB\u001b[0m \u001b[31m37.4 MB/s\u001b[0m eta \u001b[36m0:00:00\u001b[0m\n",
      "\u001b[?25hDownloading alembic-1.15.2-py3-none-any.whl (231 kB)\n",
      "\u001b[2K   \u001b[90m━━━━━━━━━━━━━━━━━━━━━━━━━━━━━━━━━━━━━━━\u001b[0m \u001b[32m231.9/231.9 kB\u001b[0m \u001b[31m111.7 MB/s\u001b[0m eta \u001b[36m0:00:00\u001b[0m\n",
      "\u001b[?25hDownloading sqlalchemy-2.0.40-cp312-cp312-manylinux_2_17_x86_64.manylinux2014_x86_64.whl (3.3 MB)\n",
      "\u001b[2K   \u001b[90m━━━━━━━━━━━━━━━━━━━━━━━━━━━━━━━━━━━━━━━━\u001b[0m \u001b[32m3.3/3.3 MB\u001b[0m \u001b[31m108.0 MB/s\u001b[0m eta \u001b[36m0:00:00\u001b[0m\n",
      "\u001b[?25hDownloading colorlog-6.9.0-py3-none-any.whl (11 kB)\n",
      "Downloading greenlet-3.2.2-cp312-cp312-manylinux_2_24_x86_64.manylinux_2_28_x86_64.whl (603 kB)\n",
      "\u001b[2K   \u001b[90m━━━━━━━━━━━━━━━━━━━━━━━━━━━━━━━━━━━━━━━\u001b[0m \u001b[32m603.9/603.9 kB\u001b[0m \u001b[31m100.6 MB/s\u001b[0m eta \u001b[36m0:00:00\u001b[0m\n",
      "\u001b[?25hDownloading mako-1.3.10-py3-none-any.whl (78 kB)\n",
      "\u001b[2K   \u001b[90m━━━━━━━━━━━━━━━━━━━━━━━━━━━━━━━━━━━━━━━━\u001b[0m \u001b[32m78.5/78.5 kB\u001b[0m \u001b[31m45.8 MB/s\u001b[0m eta \u001b[36m0:00:00\u001b[0m\n",
      "\u001b[?25hInstalling collected packages: Mako, greenlet, colorlog, sqlalchemy, alembic, optuna\n",
      "Successfully installed Mako-1.3.10 alembic-1.15.2 colorlog-6.9.0 greenlet-3.2.2 optuna-4.3.0 sqlalchemy-2.0.40\n",
      "Note: you may need to restart the kernel to use updated packages.\n"
     ]
    }
   ],
   "source": [
    "pip install pandas numpy scikit-learn tqdm torch geneticalgorithm matplotlib optuna"
   ]
  },
  {
   "cell_type": "code",
   "execution_count": 3,
   "id": "51eb54fc85eec128",
   "metadata": {
    "ExecuteTime": {
     "end_time": "2025-05-11T10:43:51.911033Z",
     "start_time": "2025-05-11T10:43:51.879928Z"
    }
   },
   "outputs": [],
   "source": [
    "# ---------------------- Importing Packages ---------------------- #\n",
    "import pandas as pd\n",
    "import numpy as np\n",
    "from sklearn.preprocessing import StandardScaler\n",
    "from sklearn.metrics import f1_score\n",
    "from tqdm import tqdm\n",
    "import torch\n",
    "import torch.nn as nn\n",
    "from torch.utils.data import DataLoader, TensorDataset\n",
    "import optuna\n",
    "import random\n",
    "\n",
    "# ---------------------- Reproducibility ---------------------- #\n",
    "def set_seed(seed=42):\n",
    "    random.seed(seed)\n",
    "    np.random.seed(seed)\n",
    "    torch.manual_seed(seed)\n",
    "    if torch.cuda.is_available():\n",
    "        torch.cuda.manual_seed_all(seed)\n",
    "\n",
    "set_seed()\n",
    "\n",
    "# Select CPU or GPU\n",
    "device = torch.device(\"cuda\" if torch.cuda.is_available() else \"cpu\")\n",
    "\n",
    "# ---------------------- Fold Configuration Settings ---------------------- #\n",
    "val_window_num_sequences = 252\n",
    "holdout_base = 756\n",
    "forecast_horizons = [1, 5, 21, 63, 252]\n",
    "num_epochs = 50\n",
    "patience = 10\n",
    "\n",
    "# ---------------------- LSTM Classifier ---------------------- #\n",
    "class LSTMClassifier(nn.Module):\n",
    "    def __init__(self, input_dim, hidden_dim, num_layers, output_dim, dropout=0.0):\n",
    "        super().__init__()\n",
    "        effective_dropout = dropout if num_layers > 1 else 0.0\n",
    "        self.lstm = nn.LSTM(input_dim, hidden_dim, num_layers, batch_first=True, dropout=effective_dropout)\n",
    "        self.fc = nn.Linear(hidden_dim, output_dim)\n",
    "\n",
    "    def forward(self, x):\n",
    "        _, (hn, _) = self.lstm(x)\n",
    "        return self.fc(hn[-1])\n",
    "\n",
    "# ---------------------- Helper: Sequence Creation ---------------------- #\n",
    "def create_sequences(X_df, Y_df, seq_len, forecast_horizon):\n",
    "    X_df = X_df.dropna()\n",
    "    Y_df = Y_df.dropna()\n",
    "    common_idx = X_df.index.intersection(Y_df.index)\n",
    "    X_df = X_df.loc[common_idx]\n",
    "    Y_df = Y_df.loc[common_idx]\n",
    "\n",
    "    X_arr = X_df.values.astype(np.float32)\n",
    "    Y_arr = Y_df.values.astype(np.float32).reshape(-1, 1)\n",
    "\n",
    "    X_seq, Y_seq = [], []\n",
    "    max_i = len(X_arr) - seq_len - forecast_horizon + 1\n",
    "    for i in range(max_i):\n",
    "        X_seq.append(X_arr[i:i + seq_len])\n",
    "        Y_seq.append(Y_arr[i + seq_len + forecast_horizon - 1])\n",
    "\n",
    "    X_seq = np.array(X_seq)\n",
    "    Y_seq = np.array(Y_seq)\n",
    "    return X_seq, Y_seq\n",
    "\n",
    "# ---------------------- Feature Shifting ---------------------- #\n",
    "def shift_X_by_horizon(X_df, horizon):\n",
    "    return X_df.shift(horizon).dropna()\n",
    "\n",
    "# ---------------------- Standardization ---------------------- #\n",
    "def standardize_fold(X_train, X_val):\n",
    "    scaler = StandardScaler()\n",
    "    X_train_scaled = pd.DataFrame(scaler.fit_transform(X_train), index=X_train.index, columns=X_train.columns)\n",
    "    X_val_scaled = pd.DataFrame(scaler.transform(X_val), index=X_val.index, columns=X_val.columns)\n",
    "    return X_train_scaled, X_val_scaled\n",
    "\n",
    "# ---------------------- Generate Expanding Folds ---------------------- #\n",
    "def get_expanding_folds(X_df, Y_df, forecast_horizon, sequence_length, val_window_num_sequences, holdout_base):\n",
    "    assert X_df.index.equals(Y_df.index)\n",
    "    total_days = len(X_df)\n",
    "    val_window = sequence_length + forecast_horizon + val_window_num_sequences - 1\n",
    "    min_train_window = sequence_length + forecast_horizon + val_window_num_sequences - 1\n",
    "\n",
    "    fold_starts = []\n",
    "    i = min_train_window\n",
    "    while i + val_window + holdout_base <= total_days:\n",
    "        fold_starts.append(i)\n",
    "        i += val_window\n",
    "\n",
    "    folds = []\n",
    "    for fold_start in fold_starts:\n",
    "        train_end = fold_start\n",
    "        val_start = fold_start\n",
    "        val_end = fold_start + val_window\n",
    "\n",
    "        X_train = X_df.iloc[:train_end].copy()\n",
    "        Y_train = Y_df.iloc[:train_end].copy()\n",
    "        X_val = X_df.iloc[val_start:val_end].copy()\n",
    "        Y_val = Y_df.iloc[val_start:val_end].copy()\n",
    "\n",
    "        folds.append({\n",
    "            \"X_train\": X_train,\n",
    "            \"Y_train\": Y_train,\n",
    "            \"X_val\": X_val,\n",
    "            \"Y_val\": Y_val,\n",
    "            \"fold_start\": fold_start,\n",
    "            \"fold_end\": val_end,\n",
    "        })\n",
    "\n",
    "    last_val_end = folds[-1]['fold_end']\n",
    "    holdout_days = total_days - last_val_end\n",
    "    print(f\"[INFO] Generated {len(folds)} folds for forecast horizon {forecast_horizon}\")\n",
    "    return folds, last_val_end, holdout_days\n",
    "\n",
    "# ---------------------- Optuna Objective (Sequence + Feature Selection) ---------------------- #\n",
    "def optuna_objective(trial, X_df, Y_df, forecast_horizon):\n",
    "    sequence_len = trial.suggest_int(\"sequence_length\", 756, 1512, step=63)\n",
    "\n",
    "    # Feature selection\n",
    "    all_columns = list(X_df.columns)\n",
    "    selected_cols = [col for col in all_columns if trial.suggest_categorical(f\"use_{col}\", [True, False])]\n",
    "    if not selected_cols:\n",
    "        return float('inf')  # skip trials with no features selected\n",
    "\n",
    "    X_filtered = X_df[selected_cols]\n",
    "    folds, _, _ = get_expanding_folds(X_filtered, Y_df, forecast_horizon, sequence_len, val_window_num_sequences, holdout_base)\n",
    "\n",
    "    total_f1 = 0\n",
    "    for fold in folds:\n",
    "        X_train_raw, X_val_raw = fold[\"X_train\"], fold[\"X_val\"]\n",
    "        Y_train_raw, Y_val_raw = fold[\"Y_train\"], fold[\"Y_val\"]\n",
    "        X_train_std, X_val_std = standardize_fold(X_train_raw, X_val_raw)\n",
    "\n",
    "        X_train_seq, Y_train_seq = create_sequences(X_train_std, Y_train_raw, sequence_len, forecast_horizon)\n",
    "        X_val_seq, Y_val_seq = create_sequences(X_val_std, Y_val_raw, sequence_len, forecast_horizon)\n",
    "\n",
    "        if len(X_train_seq) == 0 or len(X_val_seq) == 0:\n",
    "            continue\n",
    "\n",
    "        X_train_tensor = torch.tensor(X_train_seq, dtype=torch.float32).to(device)\n",
    "        Y_train_tensor = torch.tensor(Y_train_seq, dtype=torch.float32).view(-1, 1).to(device)\n",
    "        X_val_tensor = torch.tensor(X_val_seq, dtype=torch.float32).to(device)\n",
    "        Y_val_tensor = torch.tensor(Y_val_seq, dtype=torch.float32).view(-1, 1).to(device)\n",
    "\n",
    "        model = LSTMClassifier(input_dim=X_train_seq.shape[2], hidden_dim=64, num_layers=1, output_dim=1, dropout=0.2).to(device)\n",
    "        optimizer = torch.optim.Adam(model.parameters(), lr=0.001)\n",
    "        pos_weight_val = (Y_train_tensor == 0).sum() / (Y_train_tensor == 1).sum()\n",
    "        criterion = nn.BCEWithLogitsLoss(pos_weight=pos_weight_val)\n",
    "\n",
    "        train_loader = DataLoader(TensorDataset(X_train_tensor, Y_train_tensor), batch_size=64, shuffle=True)\n",
    "        val_loader = DataLoader(TensorDataset(X_val_tensor, Y_val_tensor), batch_size=64)\n",
    "\n",
    "        best_f1 = 0\n",
    "        patience_counter = 0\n",
    "        for epoch in range(num_epochs):\n",
    "            model.train()\n",
    "            for xb, yb in train_loader:\n",
    "                optimizer.zero_grad()\n",
    "                loss = criterion(model(xb), yb)\n",
    "                loss.backward()\n",
    "                optimizer.step()\n",
    "\n",
    "            model.eval()\n",
    "            preds = []\n",
    "            with torch.no_grad():\n",
    "                for xb, _ in val_loader:\n",
    "                    preds.append(torch.sigmoid(model(xb)))\n",
    "            pred_tensor = torch.cat(preds, dim=0).squeeze()\n",
    "            pred_class = (pred_tensor > 0.5).int()\n",
    "            f1 = f1_score(Y_val_tensor.cpu(), pred_class.cpu())\n",
    "\n",
    "            if f1 > best_f1:\n",
    "                best_f1 = f1\n",
    "                patience_counter = 0\n",
    "            else:\n",
    "                patience_counter += 1\n",
    "                if patience_counter >= patience:\n",
    "                    break\n",
    "\n",
    "        total_f1 += best_f1\n",
    "\n",
    "    return -total_f1 / len(folds)\n",
    "\n",
    "# ---------------------- Run Optuna ---------------------- #\n",
    "def run_optuna_optimization(X_df, Y_df, forecast_horizon, n_trials=30):\n",
    "    study = optuna.create_study(direction=\"minimize\")\n",
    "    study.optimize(lambda trial: optuna_objective(trial, X_df, Y_df, forecast_horizon), n_trials=n_trials)\n",
    "    return study.best_params, -study.best_value\n",
    "\n",
    "# ---------------------- Run All Horizons ---------------------- #\n",
    "def run_for_all_horizons(X_df, Y_df_dict):\n",
    "    all_results = {}\n",
    "    for h in forecast_horizons:\n",
    "        print(f\"\\n=== Forecast Horizon: {h} ===\")\n",
    "        Y_df = Y_df_dict[h]\n",
    "        X_shifted = shift_X_by_horizon(X_df, h)\n",
    "        Y_aligned = Y_df.loc[X_shifted.index]\n",
    "        X_final, Y_final = X_shifted, Y_aligned\n",
    "        best_params, best_f1 = run_optuna_optimization(X_final, Y_final, h)\n",
    "        all_results[h] = {\"best_params\": best_params, \"best_f1\": best_f1}\n",
    "        print(f\"[RESULT] Horizon {h}: Best Params = {best_params}, Best F1 = {best_f1:.4f}\")\n",
    "    return all_results\n"
   ]
  },
  {
   "cell_type": "code",
   "execution_count": 4,
   "id": "cebc013986906094",
   "metadata": {},
   "outputs": [
    {
     "name": "stderr",
     "output_type": "stream",
     "text": [
      "[I 2025-05-11 16:01:16,729] A new study created in memory with name: no-name-7a68c724-4cf0-4090-9a5b-27c6cb6da5cb\n"
     ]
    },
    {
     "name": "stdout",
     "output_type": "stream",
     "text": [
      "\n",
      "=== Forecast Horizon: 1 ===\n",
      "[INFO] Generated 2 folds for forecast horizon 1\n"
     ]
    },
    {
     "name": "stderr",
     "output_type": "stream",
     "text": [
      "[I 2025-05-11 16:01:18,624] Trial 0 finished with value: -0.2467948717948718 and parameters: {'sequence_length': 1071, 'use_EUDR1T  Index': False, 'use_EUR009M  Index': True, 'use_ER1  Index': True, 'use_ER2  Index': True, 'use_ER3  Index': True, 'use_ER4  Index': True, 'use_ER5  Index': True, 'use_FDTR  Index': True, 'use_GJTB3MO  Index': False, 'use_DU1  Index': False, 'use_RX1  Index': True, 'use_SX5E  Index': False, 'use_SX7E  Index': False, 'use_HSI  Index': True, 'use_EURUSD   Index': False, 'use_EURJPY   Index': False, 'use_EURGBP   Index': False, 'use_EURCHF   Index': False, 'use_CRY  Index': False, 'use_C 1  Index': False, 'use_NG1  Index': False, 'use_MOVE  Index': True, 'use_VIX  Index': False, 'use_GDP CQOQ Index': False, 'use_CPI XYOY  Index': True, 'use_NAPMPMI  Index': True, 'use_IP CHNG  Index': False, 'use_CPTICHNG  Index': True, 'use_USURTOT  Index': False, 'use_NFP TCH  Index': True, 'use_INJCJC  Index': True, 'use_LEI CHNG  Index': False, 'use_EUGNEMUY  Index': False, 'use_CPEXEMUY  Index': True, 'use_EUIPEMUY  Index': False, 'use_EUUCEMU  Index': False, 'use_GRZEEUEX  Index': False, 'use_UMRTEMU   Index': False, 'use_OLE3US  Index': False, 'use_OLE3EURA  Index': True, 'use_OLE3JAPA  Index': True, 'use_OLE3BRAZ  Index': True, 'use_OLE3INDI  Index': False, 'use_OLE3CHIN  Index': False, 'use_EBBSDEPF  Index': True, 'use_EBBSLONG  Index': False, 'use_ECMSM1Y  Index': True, 'use_ECMSM2Y  Index': False, 'use_.USDEUR02 U Index': True, 'use_.EURGBP02 U Index': True, 'use_.EURGBP10 U Index': False, 'use_EU 10Y-03M': True, 'use_US 10Y-03M': True, 'use_.EUR0210Y U Index': False, 'use_.EUR1030Y U Index': False, 'use_CS': True, 'use_HCS': False, 'use_INF': True, 'use_NFP': True, 'use_GLD': True, 'use_OIL': False, 'use_VIX': True, 'use_UMCSENT': False, 'use_GPR': True, 'use_INFCE1': False, 'use_INFE1': False, 'use_BEAR': False, 'use_BULL': False, 'use_UNC': False, 'use_CU_release': False, 'use_INF_release': True, 'use_NFP_release': True, 'use_PMI_release': False, 'use_UN_release': True}. Best is trial 0 with value: -0.2467948717948718.\n"
     ]
    },
    {
     "name": "stdout",
     "output_type": "stream",
     "text": [
      "[INFO] Generated 2 folds for forecast horizon 1\n"
     ]
    },
    {
     "name": "stderr",
     "output_type": "stream",
     "text": [
      "[I 2025-05-11 16:01:21,722] Trial 1 finished with value: -0.460993731135361 and parameters: {'sequence_length': 1260, 'use_EUDR1T  Index': True, 'use_EUR009M  Index': True, 'use_ER1  Index': True, 'use_ER2  Index': False, 'use_ER3  Index': True, 'use_ER4  Index': True, 'use_ER5  Index': False, 'use_FDTR  Index': False, 'use_GJTB3MO  Index': True, 'use_DU1  Index': False, 'use_RX1  Index': True, 'use_SX5E  Index': False, 'use_SX7E  Index': False, 'use_HSI  Index': True, 'use_EURUSD   Index': True, 'use_EURJPY   Index': True, 'use_EURGBP   Index': False, 'use_EURCHF   Index': False, 'use_CRY  Index': True, 'use_C 1  Index': True, 'use_NG1  Index': False, 'use_MOVE  Index': False, 'use_VIX  Index': False, 'use_GDP CQOQ Index': False, 'use_CPI XYOY  Index': True, 'use_NAPMPMI  Index': True, 'use_IP CHNG  Index': False, 'use_CPTICHNG  Index': True, 'use_USURTOT  Index': False, 'use_NFP TCH  Index': True, 'use_INJCJC  Index': True, 'use_LEI CHNG  Index': True, 'use_EUGNEMUY  Index': False, 'use_CPEXEMUY  Index': True, 'use_EUIPEMUY  Index': True, 'use_EUUCEMU  Index': False, 'use_GRZEEUEX  Index': False, 'use_UMRTEMU   Index': True, 'use_OLE3US  Index': False, 'use_OLE3EURA  Index': False, 'use_OLE3JAPA  Index': False, 'use_OLE3BRAZ  Index': False, 'use_OLE3INDI  Index': False, 'use_OLE3CHIN  Index': False, 'use_EBBSDEPF  Index': False, 'use_EBBSLONG  Index': True, 'use_ECMSM1Y  Index': False, 'use_ECMSM2Y  Index': True, 'use_.USDEUR02 U Index': False, 'use_.EURGBP02 U Index': True, 'use_.EURGBP10 U Index': False, 'use_EU 10Y-03M': True, 'use_US 10Y-03M': False, 'use_.EUR0210Y U Index': True, 'use_.EUR1030Y U Index': True, 'use_CS': False, 'use_HCS': True, 'use_INF': True, 'use_NFP': False, 'use_GLD': False, 'use_OIL': False, 'use_VIX': True, 'use_UMCSENT': True, 'use_GPR': True, 'use_INFCE1': False, 'use_INFE1': False, 'use_BEAR': True, 'use_BULL': False, 'use_UNC': True, 'use_CU_release': True, 'use_INF_release': True, 'use_NFP_release': True, 'use_PMI_release': False, 'use_UN_release': True}. Best is trial 1 with value: -0.460993731135361.\n"
     ]
    },
    {
     "name": "stdout",
     "output_type": "stream",
     "text": [
      "[INFO] Generated 2 folds for forecast horizon 1\n"
     ]
    },
    {
     "name": "stderr",
     "output_type": "stream",
     "text": [
      "[I 2025-05-11 16:01:23,377] Trial 2 finished with value: -0.5376379418932611 and parameters: {'sequence_length': 1197, 'use_EUDR1T  Index': True, 'use_EUR009M  Index': True, 'use_ER1  Index': True, 'use_ER2  Index': True, 'use_ER3  Index': True, 'use_ER4  Index': True, 'use_ER5  Index': True, 'use_FDTR  Index': False, 'use_GJTB3MO  Index': True, 'use_DU1  Index': False, 'use_RX1  Index': False, 'use_SX5E  Index': False, 'use_SX7E  Index': True, 'use_HSI  Index': True, 'use_EURUSD   Index': True, 'use_EURJPY   Index': True, 'use_EURGBP   Index': False, 'use_EURCHF   Index': True, 'use_CRY  Index': False, 'use_C 1  Index': True, 'use_NG1  Index': False, 'use_MOVE  Index': False, 'use_VIX  Index': True, 'use_GDP CQOQ Index': True, 'use_CPI XYOY  Index': False, 'use_NAPMPMI  Index': True, 'use_IP CHNG  Index': False, 'use_CPTICHNG  Index': False, 'use_USURTOT  Index': True, 'use_NFP TCH  Index': True, 'use_INJCJC  Index': False, 'use_LEI CHNG  Index': True, 'use_EUGNEMUY  Index': False, 'use_CPEXEMUY  Index': True, 'use_EUIPEMUY  Index': True, 'use_EUUCEMU  Index': True, 'use_GRZEEUEX  Index': True, 'use_UMRTEMU   Index': False, 'use_OLE3US  Index': True, 'use_OLE3EURA  Index': True, 'use_OLE3JAPA  Index': False, 'use_OLE3BRAZ  Index': True, 'use_OLE3INDI  Index': True, 'use_OLE3CHIN  Index': True, 'use_EBBSDEPF  Index': True, 'use_EBBSLONG  Index': True, 'use_ECMSM1Y  Index': False, 'use_ECMSM2Y  Index': True, 'use_.USDEUR02 U Index': True, 'use_.EURGBP02 U Index': True, 'use_.EURGBP10 U Index': False, 'use_EU 10Y-03M': True, 'use_US 10Y-03M': True, 'use_.EUR0210Y U Index': True, 'use_.EUR1030Y U Index': False, 'use_CS': True, 'use_HCS': True, 'use_INF': True, 'use_NFP': False, 'use_GLD': True, 'use_OIL': True, 'use_VIX': True, 'use_UMCSENT': True, 'use_GPR': True, 'use_INFCE1': True, 'use_INFE1': True, 'use_BEAR': True, 'use_BULL': True, 'use_UNC': True, 'use_CU_release': False, 'use_INF_release': True, 'use_NFP_release': True, 'use_PMI_release': False, 'use_UN_release': False}. Best is trial 2 with value: -0.5376379418932611.\n"
     ]
    },
    {
     "name": "stdout",
     "output_type": "stream",
     "text": [
      "[INFO] Generated 2 folds for forecast horizon 1\n"
     ]
    },
    {
     "name": "stderr",
     "output_type": "stream",
     "text": [
      "[I 2025-05-11 16:01:24,992] Trial 3 finished with value: -0.2356687898089172 and parameters: {'sequence_length': 1071, 'use_EUDR1T  Index': True, 'use_EUR009M  Index': True, 'use_ER1  Index': False, 'use_ER2  Index': False, 'use_ER3  Index': True, 'use_ER4  Index': False, 'use_ER5  Index': False, 'use_FDTR  Index': False, 'use_GJTB3MO  Index': False, 'use_DU1  Index': False, 'use_RX1  Index': False, 'use_SX5E  Index': False, 'use_SX7E  Index': True, 'use_HSI  Index': False, 'use_EURUSD   Index': True, 'use_EURJPY   Index': True, 'use_EURGBP   Index': False, 'use_EURCHF   Index': False, 'use_CRY  Index': False, 'use_C 1  Index': False, 'use_NG1  Index': False, 'use_MOVE  Index': True, 'use_VIX  Index': False, 'use_GDP CQOQ Index': True, 'use_CPI XYOY  Index': True, 'use_NAPMPMI  Index': False, 'use_IP CHNG  Index': True, 'use_CPTICHNG  Index': False, 'use_USURTOT  Index': False, 'use_NFP TCH  Index': False, 'use_INJCJC  Index': True, 'use_LEI CHNG  Index': False, 'use_EUGNEMUY  Index': True, 'use_CPEXEMUY  Index': True, 'use_EUIPEMUY  Index': False, 'use_EUUCEMU  Index': True, 'use_GRZEEUEX  Index': False, 'use_UMRTEMU   Index': True, 'use_OLE3US  Index': True, 'use_OLE3EURA  Index': True, 'use_OLE3JAPA  Index': False, 'use_OLE3BRAZ  Index': True, 'use_OLE3INDI  Index': False, 'use_OLE3CHIN  Index': False, 'use_EBBSDEPF  Index': False, 'use_EBBSLONG  Index': False, 'use_ECMSM1Y  Index': False, 'use_ECMSM2Y  Index': True, 'use_.USDEUR02 U Index': False, 'use_.EURGBP02 U Index': False, 'use_.EURGBP10 U Index': False, 'use_EU 10Y-03M': True, 'use_US 10Y-03M': False, 'use_.EUR0210Y U Index': False, 'use_.EUR1030Y U Index': False, 'use_CS': False, 'use_HCS': True, 'use_INF': False, 'use_NFP': True, 'use_GLD': True, 'use_OIL': True, 'use_VIX': False, 'use_UMCSENT': True, 'use_GPR': True, 'use_INFCE1': False, 'use_INFE1': True, 'use_BEAR': True, 'use_BULL': True, 'use_UNC': True, 'use_CU_release': False, 'use_INF_release': False, 'use_NFP_release': False, 'use_PMI_release': True, 'use_UN_release': True}. Best is trial 2 with value: -0.5376379418932611.\n"
     ]
    },
    {
     "name": "stdout",
     "output_type": "stream",
     "text": [
      "[INFO] Generated 3 folds for forecast horizon 1\n"
     ]
    },
    {
     "name": "stderr",
     "output_type": "stream",
     "text": [
      "[I 2025-05-11 16:01:28,161] Trial 4 finished with value: -0.3609110078525289 and parameters: {'sequence_length': 945, 'use_EUDR1T  Index': True, 'use_EUR009M  Index': True, 'use_ER1  Index': False, 'use_ER2  Index': True, 'use_ER3  Index': False, 'use_ER4  Index': False, 'use_ER5  Index': False, 'use_FDTR  Index': True, 'use_GJTB3MO  Index': True, 'use_DU1  Index': True, 'use_RX1  Index': False, 'use_SX5E  Index': True, 'use_SX7E  Index': True, 'use_HSI  Index': True, 'use_EURUSD   Index': True, 'use_EURJPY   Index': True, 'use_EURGBP   Index': True, 'use_EURCHF   Index': True, 'use_CRY  Index': False, 'use_C 1  Index': False, 'use_NG1  Index': False, 'use_MOVE  Index': True, 'use_VIX  Index': False, 'use_GDP CQOQ Index': False, 'use_CPI XYOY  Index': True, 'use_NAPMPMI  Index': True, 'use_IP CHNG  Index': True, 'use_CPTICHNG  Index': True, 'use_USURTOT  Index': False, 'use_NFP TCH  Index': False, 'use_INJCJC  Index': True, 'use_LEI CHNG  Index': False, 'use_EUGNEMUY  Index': False, 'use_CPEXEMUY  Index': False, 'use_EUIPEMUY  Index': False, 'use_EUUCEMU  Index': False, 'use_GRZEEUEX  Index': False, 'use_UMRTEMU   Index': False, 'use_OLE3US  Index': False, 'use_OLE3EURA  Index': True, 'use_OLE3JAPA  Index': True, 'use_OLE3BRAZ  Index': True, 'use_OLE3INDI  Index': True, 'use_OLE3CHIN  Index': True, 'use_EBBSDEPF  Index': False, 'use_EBBSLONG  Index': True, 'use_ECMSM1Y  Index': False, 'use_ECMSM2Y  Index': True, 'use_.USDEUR02 U Index': True, 'use_.EURGBP02 U Index': False, 'use_.EURGBP10 U Index': False, 'use_EU 10Y-03M': False, 'use_US 10Y-03M': True, 'use_.EUR0210Y U Index': True, 'use_.EUR1030Y U Index': True, 'use_CS': False, 'use_HCS': True, 'use_INF': True, 'use_NFP': True, 'use_GLD': False, 'use_OIL': True, 'use_VIX': True, 'use_UMCSENT': True, 'use_GPR': False, 'use_INFCE1': True, 'use_INFE1': True, 'use_BEAR': True, 'use_BULL': False, 'use_UNC': True, 'use_CU_release': True, 'use_INF_release': True, 'use_NFP_release': True, 'use_PMI_release': False, 'use_UN_release': False}. Best is trial 2 with value: -0.5376379418932611.\n"
     ]
    },
    {
     "name": "stdout",
     "output_type": "stream",
     "text": [
      "[INFO] Generated 2 folds for forecast horizon 1\n"
     ]
    },
    {
     "name": "stderr",
     "output_type": "stream",
     "text": [
      "[I 2025-05-11 16:01:31,467] Trial 5 finished with value: -0.562851586915758 and parameters: {'sequence_length': 1260, 'use_EUDR1T  Index': True, 'use_EUR009M  Index': True, 'use_ER1  Index': True, 'use_ER2  Index': False, 'use_ER3  Index': True, 'use_ER4  Index': True, 'use_ER5  Index': False, 'use_FDTR  Index': False, 'use_GJTB3MO  Index': True, 'use_DU1  Index': False, 'use_RX1  Index': False, 'use_SX5E  Index': False, 'use_SX7E  Index': False, 'use_HSI  Index': False, 'use_EURUSD   Index': False, 'use_EURJPY   Index': False, 'use_EURGBP   Index': False, 'use_EURCHF   Index': True, 'use_CRY  Index': True, 'use_C 1  Index': True, 'use_NG1  Index': False, 'use_MOVE  Index': True, 'use_VIX  Index': True, 'use_GDP CQOQ Index': False, 'use_CPI XYOY  Index': True, 'use_NAPMPMI  Index': True, 'use_IP CHNG  Index': True, 'use_CPTICHNG  Index': False, 'use_USURTOT  Index': False, 'use_NFP TCH  Index': False, 'use_INJCJC  Index': True, 'use_LEI CHNG  Index': False, 'use_EUGNEMUY  Index': False, 'use_CPEXEMUY  Index': False, 'use_EUIPEMUY  Index': False, 'use_EUUCEMU  Index': True, 'use_GRZEEUEX  Index': True, 'use_UMRTEMU   Index': True, 'use_OLE3US  Index': True, 'use_OLE3EURA  Index': True, 'use_OLE3JAPA  Index': True, 'use_OLE3BRAZ  Index': True, 'use_OLE3INDI  Index': False, 'use_OLE3CHIN  Index': True, 'use_EBBSDEPF  Index': True, 'use_EBBSLONG  Index': False, 'use_ECMSM1Y  Index': False, 'use_ECMSM2Y  Index': False, 'use_.USDEUR02 U Index': True, 'use_.EURGBP02 U Index': False, 'use_.EURGBP10 U Index': False, 'use_EU 10Y-03M': False, 'use_US 10Y-03M': True, 'use_.EUR0210Y U Index': True, 'use_.EUR1030Y U Index': False, 'use_CS': False, 'use_HCS': True, 'use_INF': True, 'use_NFP': False, 'use_GLD': True, 'use_OIL': False, 'use_VIX': False, 'use_UMCSENT': True, 'use_GPR': True, 'use_INFCE1': True, 'use_INFE1': False, 'use_BEAR': True, 'use_BULL': False, 'use_UNC': True, 'use_CU_release': False, 'use_INF_release': True, 'use_NFP_release': False, 'use_PMI_release': False, 'use_UN_release': True}. Best is trial 5 with value: -0.562851586915758.\n"
     ]
    },
    {
     "name": "stdout",
     "output_type": "stream",
     "text": [
      "[INFO] Generated 2 folds for forecast horizon 1\n"
     ]
    },
    {
     "name": "stderr",
     "output_type": "stream",
     "text": [
      "[I 2025-05-11 16:01:33,490] Trial 6 finished with value: -0.5260372280780444 and parameters: {'sequence_length': 1323, 'use_EUDR1T  Index': True, 'use_EUR009M  Index': True, 'use_ER1  Index': True, 'use_ER2  Index': True, 'use_ER3  Index': False, 'use_ER4  Index': False, 'use_ER5  Index': True, 'use_FDTR  Index': True, 'use_GJTB3MO  Index': False, 'use_DU1  Index': False, 'use_RX1  Index': True, 'use_SX5E  Index': False, 'use_SX7E  Index': False, 'use_HSI  Index': True, 'use_EURUSD   Index': False, 'use_EURJPY   Index': False, 'use_EURGBP   Index': True, 'use_EURCHF   Index': False, 'use_CRY  Index': False, 'use_C 1  Index': False, 'use_NG1  Index': False, 'use_MOVE  Index': False, 'use_VIX  Index': True, 'use_GDP CQOQ Index': True, 'use_CPI XYOY  Index': False, 'use_NAPMPMI  Index': False, 'use_IP CHNG  Index': False, 'use_CPTICHNG  Index': True, 'use_USURTOT  Index': False, 'use_NFP TCH  Index': False, 'use_INJCJC  Index': False, 'use_LEI CHNG  Index': True, 'use_EUGNEMUY  Index': False, 'use_CPEXEMUY  Index': True, 'use_EUIPEMUY  Index': False, 'use_EUUCEMU  Index': False, 'use_GRZEEUEX  Index': True, 'use_UMRTEMU   Index': True, 'use_OLE3US  Index': False, 'use_OLE3EURA  Index': True, 'use_OLE3JAPA  Index': True, 'use_OLE3BRAZ  Index': True, 'use_OLE3INDI  Index': False, 'use_OLE3CHIN  Index': True, 'use_EBBSDEPF  Index': False, 'use_EBBSLONG  Index': True, 'use_ECMSM1Y  Index': False, 'use_ECMSM2Y  Index': True, 'use_.USDEUR02 U Index': False, 'use_.EURGBP02 U Index': True, 'use_.EURGBP10 U Index': False, 'use_EU 10Y-03M': False, 'use_US 10Y-03M': False, 'use_.EUR0210Y U Index': True, 'use_.EUR1030Y U Index': False, 'use_CS': False, 'use_HCS': True, 'use_INF': False, 'use_NFP': True, 'use_GLD': False, 'use_OIL': False, 'use_VIX': True, 'use_UMCSENT': True, 'use_GPR': True, 'use_INFCE1': False, 'use_INFE1': True, 'use_BEAR': True, 'use_BULL': True, 'use_UNC': True, 'use_CU_release': False, 'use_INF_release': True, 'use_NFP_release': False, 'use_PMI_release': False, 'use_UN_release': True}. Best is trial 5 with value: -0.562851586915758.\n"
     ]
    },
    {
     "name": "stdout",
     "output_type": "stream",
     "text": [
      "[INFO] Generated 2 folds for forecast horizon 1\n"
     ]
    },
    {
     "name": "stderr",
     "output_type": "stream",
     "text": [
      "[I 2025-05-11 16:01:36,266] Trial 7 finished with value: -0.4883641807294502 and parameters: {'sequence_length': 1260, 'use_EUDR1T  Index': True, 'use_EUR009M  Index': False, 'use_ER1  Index': True, 'use_ER2  Index': False, 'use_ER3  Index': False, 'use_ER4  Index': False, 'use_ER5  Index': True, 'use_FDTR  Index': True, 'use_GJTB3MO  Index': True, 'use_DU1  Index': True, 'use_RX1  Index': True, 'use_SX5E  Index': False, 'use_SX7E  Index': True, 'use_HSI  Index': True, 'use_EURUSD   Index': False, 'use_EURJPY   Index': True, 'use_EURGBP   Index': False, 'use_EURCHF   Index': True, 'use_CRY  Index': True, 'use_C 1  Index': False, 'use_NG1  Index': True, 'use_MOVE  Index': False, 'use_VIX  Index': True, 'use_GDP CQOQ Index': False, 'use_CPI XYOY  Index': False, 'use_NAPMPMI  Index': True, 'use_IP CHNG  Index': True, 'use_CPTICHNG  Index': False, 'use_USURTOT  Index': False, 'use_NFP TCH  Index': False, 'use_INJCJC  Index': True, 'use_LEI CHNG  Index': True, 'use_EUGNEMUY  Index': False, 'use_CPEXEMUY  Index': True, 'use_EUIPEMUY  Index': True, 'use_EUUCEMU  Index': True, 'use_GRZEEUEX  Index': True, 'use_UMRTEMU   Index': False, 'use_OLE3US  Index': False, 'use_OLE3EURA  Index': False, 'use_OLE3JAPA  Index': False, 'use_OLE3BRAZ  Index': False, 'use_OLE3INDI  Index': False, 'use_OLE3CHIN  Index': True, 'use_EBBSDEPF  Index': False, 'use_EBBSLONG  Index': True, 'use_ECMSM1Y  Index': True, 'use_ECMSM2Y  Index': True, 'use_.USDEUR02 U Index': True, 'use_.EURGBP02 U Index': False, 'use_.EURGBP10 U Index': True, 'use_EU 10Y-03M': False, 'use_US 10Y-03M': False, 'use_.EUR0210Y U Index': True, 'use_.EUR1030Y U Index': False, 'use_CS': True, 'use_HCS': True, 'use_INF': True, 'use_NFP': False, 'use_GLD': True, 'use_OIL': False, 'use_VIX': True, 'use_UMCSENT': True, 'use_GPR': False, 'use_INFCE1': False, 'use_INFE1': False, 'use_BEAR': False, 'use_BULL': False, 'use_UNC': True, 'use_CU_release': False, 'use_INF_release': False, 'use_NFP_release': False, 'use_PMI_release': False, 'use_UN_release': False}. Best is trial 5 with value: -0.562851586915758.\n"
     ]
    },
    {
     "name": "stdout",
     "output_type": "stream",
     "text": [
      "[INFO] Generated 1 folds for forecast horizon 1\n"
     ]
    },
    {
     "name": "stderr",
     "output_type": "stream",
     "text": [
      "[I 2025-05-11 16:01:36,714] Trial 8 finished with value: -0.5572755417956656 and parameters: {'sequence_length': 1512, 'use_EUDR1T  Index': False, 'use_EUR009M  Index': False, 'use_ER1  Index': False, 'use_ER2  Index': False, 'use_ER3  Index': False, 'use_ER4  Index': False, 'use_ER5  Index': True, 'use_FDTR  Index': True, 'use_GJTB3MO  Index': False, 'use_DU1  Index': False, 'use_RX1  Index': False, 'use_SX5E  Index': True, 'use_SX7E  Index': False, 'use_HSI  Index': False, 'use_EURUSD   Index': True, 'use_EURJPY   Index': True, 'use_EURGBP   Index': False, 'use_EURCHF   Index': False, 'use_CRY  Index': False, 'use_C 1  Index': True, 'use_NG1  Index': False, 'use_MOVE  Index': True, 'use_VIX  Index': False, 'use_GDP CQOQ Index': True, 'use_CPI XYOY  Index': False, 'use_NAPMPMI  Index': True, 'use_IP CHNG  Index': True, 'use_CPTICHNG  Index': True, 'use_USURTOT  Index': True, 'use_NFP TCH  Index': True, 'use_INJCJC  Index': False, 'use_LEI CHNG  Index': False, 'use_EUGNEMUY  Index': True, 'use_CPEXEMUY  Index': True, 'use_EUIPEMUY  Index': True, 'use_EUUCEMU  Index': True, 'use_GRZEEUEX  Index': False, 'use_UMRTEMU   Index': True, 'use_OLE3US  Index': True, 'use_OLE3EURA  Index': True, 'use_OLE3JAPA  Index': False, 'use_OLE3BRAZ  Index': False, 'use_OLE3INDI  Index': True, 'use_OLE3CHIN  Index': True, 'use_EBBSDEPF  Index': True, 'use_EBBSLONG  Index': False, 'use_ECMSM1Y  Index': False, 'use_ECMSM2Y  Index': False, 'use_.USDEUR02 U Index': True, 'use_.EURGBP02 U Index': True, 'use_.EURGBP10 U Index': False, 'use_EU 10Y-03M': True, 'use_US 10Y-03M': False, 'use_.EUR0210Y U Index': False, 'use_.EUR1030Y U Index': True, 'use_CS': False, 'use_HCS': False, 'use_INF': True, 'use_NFP': True, 'use_GLD': False, 'use_OIL': False, 'use_VIX': True, 'use_UMCSENT': True, 'use_GPR': False, 'use_INFCE1': False, 'use_INFE1': True, 'use_BEAR': False, 'use_BULL': True, 'use_UNC': True, 'use_CU_release': True, 'use_INF_release': True, 'use_NFP_release': True, 'use_PMI_release': False, 'use_UN_release': False}. Best is trial 5 with value: -0.562851586915758.\n"
     ]
    },
    {
     "name": "stdout",
     "output_type": "stream",
     "text": [
      "[INFO] Generated 3 folds for forecast horizon 1\n"
     ]
    },
    {
     "name": "stderr",
     "output_type": "stream",
     "text": [
      "[I 2025-05-11 16:01:39,626] Trial 9 finished with value: -0.5576141450870206 and parameters: {'sequence_length': 819, 'use_EUDR1T  Index': False, 'use_EUR009M  Index': False, 'use_ER1  Index': True, 'use_ER2  Index': False, 'use_ER3  Index': True, 'use_ER4  Index': True, 'use_ER5  Index': True, 'use_FDTR  Index': False, 'use_GJTB3MO  Index': True, 'use_DU1  Index': True, 'use_RX1  Index': False, 'use_SX5E  Index': False, 'use_SX7E  Index': False, 'use_HSI  Index': True, 'use_EURUSD   Index': True, 'use_EURJPY   Index': True, 'use_EURGBP   Index': False, 'use_EURCHF   Index': False, 'use_CRY  Index': False, 'use_C 1  Index': False, 'use_NG1  Index': True, 'use_MOVE  Index': True, 'use_VIX  Index': True, 'use_GDP CQOQ Index': False, 'use_CPI XYOY  Index': True, 'use_NAPMPMI  Index': True, 'use_IP CHNG  Index': True, 'use_CPTICHNG  Index': True, 'use_USURTOT  Index': True, 'use_NFP TCH  Index': False, 'use_INJCJC  Index': False, 'use_LEI CHNG  Index': True, 'use_EUGNEMUY  Index': False, 'use_CPEXEMUY  Index': False, 'use_EUIPEMUY  Index': True, 'use_EUUCEMU  Index': True, 'use_GRZEEUEX  Index': False, 'use_UMRTEMU   Index': True, 'use_OLE3US  Index': False, 'use_OLE3EURA  Index': True, 'use_OLE3JAPA  Index': True, 'use_OLE3BRAZ  Index': False, 'use_OLE3INDI  Index': True, 'use_OLE3CHIN  Index': True, 'use_EBBSDEPF  Index': False, 'use_EBBSLONG  Index': False, 'use_ECMSM1Y  Index': False, 'use_ECMSM2Y  Index': False, 'use_.USDEUR02 U Index': False, 'use_.EURGBP02 U Index': True, 'use_.EURGBP10 U Index': False, 'use_EU 10Y-03M': False, 'use_US 10Y-03M': True, 'use_.EUR0210Y U Index': True, 'use_.EUR1030Y U Index': True, 'use_CS': False, 'use_HCS': False, 'use_INF': True, 'use_NFP': False, 'use_GLD': False, 'use_OIL': True, 'use_VIX': False, 'use_UMCSENT': False, 'use_GPR': False, 'use_INFCE1': False, 'use_INFE1': True, 'use_BEAR': True, 'use_BULL': True, 'use_UNC': True, 'use_CU_release': True, 'use_INF_release': True, 'use_NFP_release': True, 'use_PMI_release': True, 'use_UN_release': False}. Best is trial 5 with value: -0.562851586915758.\n"
     ]
    },
    {
     "name": "stdout",
     "output_type": "stream",
     "text": [
      "[INFO] Generated 1 folds for forecast horizon 1\n"
     ]
    },
    {
     "name": "stderr",
     "output_type": "stream",
     "text": [
      "[I 2025-05-11 16:01:40,292] Trial 10 finished with value: -0.5689149560117303 and parameters: {'sequence_length': 1512, 'use_EUDR1T  Index': False, 'use_EUR009M  Index': False, 'use_ER1  Index': False, 'use_ER2  Index': False, 'use_ER3  Index': True, 'use_ER4  Index': True, 'use_ER5  Index': False, 'use_FDTR  Index': False, 'use_GJTB3MO  Index': True, 'use_DU1  Index': True, 'use_RX1  Index': False, 'use_SX5E  Index': True, 'use_SX7E  Index': False, 'use_HSI  Index': False, 'use_EURUSD   Index': False, 'use_EURJPY   Index': False, 'use_EURGBP   Index': True, 'use_EURCHF   Index': True, 'use_CRY  Index': True, 'use_C 1  Index': True, 'use_NG1  Index': True, 'use_MOVE  Index': True, 'use_VIX  Index': True, 'use_GDP CQOQ Index': False, 'use_CPI XYOY  Index': True, 'use_NAPMPMI  Index': False, 'use_IP CHNG  Index': True, 'use_CPTICHNG  Index': False, 'use_USURTOT  Index': True, 'use_NFP TCH  Index': False, 'use_INJCJC  Index': True, 'use_LEI CHNG  Index': False, 'use_EUGNEMUY  Index': True, 'use_CPEXEMUY  Index': False, 'use_EUIPEMUY  Index': False, 'use_EUUCEMU  Index': True, 'use_GRZEEUEX  Index': True, 'use_UMRTEMU   Index': True, 'use_OLE3US  Index': True, 'use_OLE3EURA  Index': False, 'use_OLE3JAPA  Index': True, 'use_OLE3BRAZ  Index': True, 'use_OLE3INDI  Index': False, 'use_OLE3CHIN  Index': False, 'use_EBBSDEPF  Index': True, 'use_EBBSLONG  Index': False, 'use_ECMSM1Y  Index': True, 'use_ECMSM2Y  Index': False, 'use_.USDEUR02 U Index': True, 'use_.EURGBP02 U Index': False, 'use_.EURGBP10 U Index': True, 'use_EU 10Y-03M': False, 'use_US 10Y-03M': True, 'use_.EUR0210Y U Index': False, 'use_.EUR1030Y U Index': False, 'use_CS': True, 'use_HCS': False, 'use_INF': False, 'use_NFP': False, 'use_GLD': True, 'use_OIL': False, 'use_VIX': False, 'use_UMCSENT': False, 'use_GPR': True, 'use_INFCE1': True, 'use_INFE1': False, 'use_BEAR': False, 'use_BULL': False, 'use_UNC': False, 'use_CU_release': False, 'use_INF_release': False, 'use_NFP_release': False, 'use_PMI_release': True, 'use_UN_release': True}. Best is trial 10 with value: -0.5689149560117303.\n"
     ]
    },
    {
     "name": "stdout",
     "output_type": "stream",
     "text": [
      "[INFO] Generated 1 folds for forecast horizon 1\n"
     ]
    },
    {
     "name": "stderr",
     "output_type": "stream",
     "text": [
      "[I 2025-05-11 16:01:40,807] Trial 11 finished with value: -0.5574712643678161 and parameters: {'sequence_length': 1512, 'use_EUDR1T  Index': False, 'use_EUR009M  Index': False, 'use_ER1  Index': False, 'use_ER2  Index': False, 'use_ER3  Index': True, 'use_ER4  Index': True, 'use_ER5  Index': False, 'use_FDTR  Index': False, 'use_GJTB3MO  Index': True, 'use_DU1  Index': True, 'use_RX1  Index': False, 'use_SX5E  Index': True, 'use_SX7E  Index': False, 'use_HSI  Index': False, 'use_EURUSD   Index': False, 'use_EURJPY   Index': False, 'use_EURGBP   Index': True, 'use_EURCHF   Index': True, 'use_CRY  Index': True, 'use_C 1  Index': True, 'use_NG1  Index': True, 'use_MOVE  Index': True, 'use_VIX  Index': True, 'use_GDP CQOQ Index': False, 'use_CPI XYOY  Index': True, 'use_NAPMPMI  Index': False, 'use_IP CHNG  Index': True, 'use_CPTICHNG  Index': False, 'use_USURTOT  Index': True, 'use_NFP TCH  Index': False, 'use_INJCJC  Index': True, 'use_LEI CHNG  Index': False, 'use_EUGNEMUY  Index': True, 'use_CPEXEMUY  Index': False, 'use_EUIPEMUY  Index': False, 'use_EUUCEMU  Index': True, 'use_GRZEEUEX  Index': True, 'use_UMRTEMU   Index': True, 'use_OLE3US  Index': True, 'use_OLE3EURA  Index': False, 'use_OLE3JAPA  Index': True, 'use_OLE3BRAZ  Index': True, 'use_OLE3INDI  Index': False, 'use_OLE3CHIN  Index': False, 'use_EBBSDEPF  Index': True, 'use_EBBSLONG  Index': False, 'use_ECMSM1Y  Index': True, 'use_ECMSM2Y  Index': False, 'use_.USDEUR02 U Index': True, 'use_.EURGBP02 U Index': False, 'use_.EURGBP10 U Index': True, 'use_EU 10Y-03M': False, 'use_US 10Y-03M': True, 'use_.EUR0210Y U Index': False, 'use_.EUR1030Y U Index': False, 'use_CS': True, 'use_HCS': False, 'use_INF': False, 'use_NFP': False, 'use_GLD': True, 'use_OIL': False, 'use_VIX': False, 'use_UMCSENT': False, 'use_GPR': True, 'use_INFCE1': True, 'use_INFE1': False, 'use_BEAR': False, 'use_BULL': False, 'use_UNC': False, 'use_CU_release': False, 'use_INF_release': False, 'use_NFP_release': False, 'use_PMI_release': True, 'use_UN_release': True}. Best is trial 10 with value: -0.5689149560117303.\n"
     ]
    },
    {
     "name": "stdout",
     "output_type": "stream",
     "text": [
      "[INFO] Generated 1 folds for forecast horizon 1\n"
     ]
    },
    {
     "name": "stderr",
     "output_type": "stream",
     "text": [
      "[I 2025-05-11 16:01:41,328] Trial 12 finished with value: -0.5020242914979757 and parameters: {'sequence_length': 1449, 'use_EUDR1T  Index': False, 'use_EUR009M  Index': False, 'use_ER1  Index': False, 'use_ER2  Index': False, 'use_ER3  Index': True, 'use_ER4  Index': True, 'use_ER5  Index': False, 'use_FDTR  Index': False, 'use_GJTB3MO  Index': True, 'use_DU1  Index': True, 'use_RX1  Index': False, 'use_SX5E  Index': True, 'use_SX7E  Index': False, 'use_HSI  Index': False, 'use_EURUSD   Index': False, 'use_EURJPY   Index': False, 'use_EURGBP   Index': True, 'use_EURCHF   Index': True, 'use_CRY  Index': True, 'use_C 1  Index': True, 'use_NG1  Index': True, 'use_MOVE  Index': True, 'use_VIX  Index': True, 'use_GDP CQOQ Index': False, 'use_CPI XYOY  Index': True, 'use_NAPMPMI  Index': False, 'use_IP CHNG  Index': True, 'use_CPTICHNG  Index': False, 'use_USURTOT  Index': True, 'use_NFP TCH  Index': False, 'use_INJCJC  Index': True, 'use_LEI CHNG  Index': False, 'use_EUGNEMUY  Index': True, 'use_CPEXEMUY  Index': False, 'use_EUIPEMUY  Index': False, 'use_EUUCEMU  Index': True, 'use_GRZEEUEX  Index': True, 'use_UMRTEMU   Index': True, 'use_OLE3US  Index': True, 'use_OLE3EURA  Index': False, 'use_OLE3JAPA  Index': True, 'use_OLE3BRAZ  Index': True, 'use_OLE3INDI  Index': False, 'use_OLE3CHIN  Index': False, 'use_EBBSDEPF  Index': True, 'use_EBBSLONG  Index': False, 'use_ECMSM1Y  Index': True, 'use_ECMSM2Y  Index': False, 'use_.USDEUR02 U Index': True, 'use_.EURGBP02 U Index': False, 'use_.EURGBP10 U Index': True, 'use_EU 10Y-03M': False, 'use_US 10Y-03M': True, 'use_.EUR0210Y U Index': False, 'use_.EUR1030Y U Index': False, 'use_CS': True, 'use_HCS': False, 'use_INF': False, 'use_NFP': False, 'use_GLD': True, 'use_OIL': False, 'use_VIX': False, 'use_UMCSENT': False, 'use_GPR': True, 'use_INFCE1': True, 'use_INFE1': False, 'use_BEAR': False, 'use_BULL': False, 'use_UNC': False, 'use_CU_release': False, 'use_INF_release': False, 'use_NFP_release': False, 'use_PMI_release': True, 'use_UN_release': True}. Best is trial 10 with value: -0.5689149560117303.\n"
     ]
    },
    {
     "name": "stdout",
     "output_type": "stream",
     "text": [
      "[INFO] Generated 1 folds for forecast horizon 1\n"
     ]
    },
    {
     "name": "stderr",
     "output_type": "stream",
     "text": [
      "[I 2025-05-11 16:01:41,749] Trial 13 finished with value: 0.0 and parameters: {'sequence_length': 1386, 'use_EUDR1T  Index': False, 'use_EUR009M  Index': False, 'use_ER1  Index': False, 'use_ER2  Index': False, 'use_ER3  Index': True, 'use_ER4  Index': True, 'use_ER5  Index': False, 'use_FDTR  Index': False, 'use_GJTB3MO  Index': True, 'use_DU1  Index': True, 'use_RX1  Index': False, 'use_SX5E  Index': True, 'use_SX7E  Index': False, 'use_HSI  Index': False, 'use_EURUSD   Index': False, 'use_EURJPY   Index': False, 'use_EURGBP   Index': True, 'use_EURCHF   Index': True, 'use_CRY  Index': True, 'use_C 1  Index': True, 'use_NG1  Index': True, 'use_MOVE  Index': True, 'use_VIX  Index': True, 'use_GDP CQOQ Index': False, 'use_CPI XYOY  Index': True, 'use_NAPMPMI  Index': False, 'use_IP CHNG  Index': True, 'use_CPTICHNG  Index': False, 'use_USURTOT  Index': True, 'use_NFP TCH  Index': False, 'use_INJCJC  Index': True, 'use_LEI CHNG  Index': False, 'use_EUGNEMUY  Index': True, 'use_CPEXEMUY  Index': False, 'use_EUIPEMUY  Index': False, 'use_EUUCEMU  Index': True, 'use_GRZEEUEX  Index': True, 'use_UMRTEMU   Index': True, 'use_OLE3US  Index': True, 'use_OLE3EURA  Index': False, 'use_OLE3JAPA  Index': True, 'use_OLE3BRAZ  Index': True, 'use_OLE3INDI  Index': False, 'use_OLE3CHIN  Index': False, 'use_EBBSDEPF  Index': True, 'use_EBBSLONG  Index': False, 'use_ECMSM1Y  Index': True, 'use_ECMSM2Y  Index': False, 'use_.USDEUR02 U Index': True, 'use_.EURGBP02 U Index': False, 'use_.EURGBP10 U Index': True, 'use_EU 10Y-03M': False, 'use_US 10Y-03M': True, 'use_.EUR0210Y U Index': False, 'use_.EUR1030Y U Index': False, 'use_CS': True, 'use_HCS': False, 'use_INF': False, 'use_NFP': False, 'use_GLD': True, 'use_OIL': False, 'use_VIX': False, 'use_UMCSENT': False, 'use_GPR': True, 'use_INFCE1': True, 'use_INFE1': False, 'use_BEAR': False, 'use_BULL': False, 'use_UNC': False, 'use_CU_release': False, 'use_INF_release': False, 'use_NFP_release': False, 'use_PMI_release': True, 'use_UN_release': True}. Best is trial 10 with value: -0.5689149560117303.\n"
     ]
    },
    {
     "name": "stdout",
     "output_type": "stream",
     "text": [
      "[INFO] Generated 1 folds for forecast horizon 1\n"
     ]
    },
    {
     "name": "stderr",
     "output_type": "stream",
     "text": [
      "[I 2025-05-11 16:01:42,221] Trial 14 finished with value: -0.16981132075471697 and parameters: {'sequence_length': 1386, 'use_EUDR1T  Index': True, 'use_EUR009M  Index': True, 'use_ER1  Index': True, 'use_ER2  Index': False, 'use_ER3  Index': True, 'use_ER4  Index': True, 'use_ER5  Index': False, 'use_FDTR  Index': False, 'use_GJTB3MO  Index': True, 'use_DU1  Index': False, 'use_RX1  Index': False, 'use_SX5E  Index': True, 'use_SX7E  Index': False, 'use_HSI  Index': False, 'use_EURUSD   Index': False, 'use_EURJPY   Index': False, 'use_EURGBP   Index': True, 'use_EURCHF   Index': True, 'use_CRY  Index': True, 'use_C 1  Index': True, 'use_NG1  Index': True, 'use_MOVE  Index': True, 'use_VIX  Index': True, 'use_GDP CQOQ Index': False, 'use_CPI XYOY  Index': True, 'use_NAPMPMI  Index': False, 'use_IP CHNG  Index': True, 'use_CPTICHNG  Index': False, 'use_USURTOT  Index': False, 'use_NFP TCH  Index': False, 'use_INJCJC  Index': True, 'use_LEI CHNG  Index': False, 'use_EUGNEMUY  Index': True, 'use_CPEXEMUY  Index': False, 'use_EUIPEMUY  Index': False, 'use_EUUCEMU  Index': True, 'use_GRZEEUEX  Index': True, 'use_UMRTEMU   Index': True, 'use_OLE3US  Index': True, 'use_OLE3EURA  Index': False, 'use_OLE3JAPA  Index': True, 'use_OLE3BRAZ  Index': True, 'use_OLE3INDI  Index': False, 'use_OLE3CHIN  Index': True, 'use_EBBSDEPF  Index': True, 'use_EBBSLONG  Index': False, 'use_ECMSM1Y  Index': True, 'use_ECMSM2Y  Index': False, 'use_.USDEUR02 U Index': True, 'use_.EURGBP02 U Index': False, 'use_.EURGBP10 U Index': True, 'use_EU 10Y-03M': False, 'use_US 10Y-03M': True, 'use_.EUR0210Y U Index': True, 'use_.EUR1030Y U Index': False, 'use_CS': False, 'use_HCS': True, 'use_INF': False, 'use_NFP': False, 'use_GLD': True, 'use_OIL': False, 'use_VIX': False, 'use_UMCSENT': False, 'use_GPR': True, 'use_INFCE1': True, 'use_INFE1': False, 'use_BEAR': True, 'use_BULL': False, 'use_UNC': False, 'use_CU_release': False, 'use_INF_release': False, 'use_NFP_release': False, 'use_PMI_release': True, 'use_UN_release': True}. Best is trial 10 with value: -0.5689149560117303.\n"
     ]
    },
    {
     "name": "stdout",
     "output_type": "stream",
     "text": [
      "[INFO] Generated 2 folds for forecast horizon 1\n"
     ]
    },
    {
     "name": "stderr",
     "output_type": "stream",
     "text": [
      "[I 2025-05-11 16:01:43,735] Trial 15 finished with value: -0.27246376811594203 and parameters: {'sequence_length': 1134, 'use_EUDR1T  Index': False, 'use_EUR009M  Index': False, 'use_ER1  Index': False, 'use_ER2  Index': False, 'use_ER3  Index': True, 'use_ER4  Index': True, 'use_ER5  Index': False, 'use_FDTR  Index': False, 'use_GJTB3MO  Index': True, 'use_DU1  Index': True, 'use_RX1  Index': False, 'use_SX5E  Index': True, 'use_SX7E  Index': False, 'use_HSI  Index': False, 'use_EURUSD   Index': False, 'use_EURJPY   Index': False, 'use_EURGBP   Index': True, 'use_EURCHF   Index': True, 'use_CRY  Index': True, 'use_C 1  Index': True, 'use_NG1  Index': True, 'use_MOVE  Index': True, 'use_VIX  Index': True, 'use_GDP CQOQ Index': False, 'use_CPI XYOY  Index': True, 'use_NAPMPMI  Index': False, 'use_IP CHNG  Index': True, 'use_CPTICHNG  Index': False, 'use_USURTOT  Index': True, 'use_NFP TCH  Index': False, 'use_INJCJC  Index': True, 'use_LEI CHNG  Index': False, 'use_EUGNEMUY  Index': True, 'use_CPEXEMUY  Index': False, 'use_EUIPEMUY  Index': False, 'use_EUUCEMU  Index': True, 'use_GRZEEUEX  Index': True, 'use_UMRTEMU   Index': True, 'use_OLE3US  Index': True, 'use_OLE3EURA  Index': False, 'use_OLE3JAPA  Index': True, 'use_OLE3BRAZ  Index': True, 'use_OLE3INDI  Index': False, 'use_OLE3CHIN  Index': False, 'use_EBBSDEPF  Index': True, 'use_EBBSLONG  Index': False, 'use_ECMSM1Y  Index': True, 'use_ECMSM2Y  Index': False, 'use_.USDEUR02 U Index': True, 'use_.EURGBP02 U Index': False, 'use_.EURGBP10 U Index': True, 'use_EU 10Y-03M': False, 'use_US 10Y-03M': True, 'use_.EUR0210Y U Index': False, 'use_.EUR1030Y U Index': False, 'use_CS': True, 'use_HCS': False, 'use_INF': False, 'use_NFP': False, 'use_GLD': True, 'use_OIL': False, 'use_VIX': False, 'use_UMCSENT': False, 'use_GPR': True, 'use_INFCE1': True, 'use_INFE1': False, 'use_BEAR': False, 'use_BULL': False, 'use_UNC': False, 'use_CU_release': False, 'use_INF_release': False, 'use_NFP_release': False, 'use_PMI_release': True, 'use_UN_release': True}. Best is trial 10 with value: -0.5689149560117303.\n"
     ]
    },
    {
     "name": "stdout",
     "output_type": "stream",
     "text": [
      "[INFO] Generated 3 folds for forecast horizon 1\n"
     ]
    },
    {
     "name": "stderr",
     "output_type": "stream",
     "text": [
      "[I 2025-05-11 16:01:46,099] Trial 16 finished with value: -0.5571244912639529 and parameters: {'sequence_length': 756, 'use_EUDR1T  Index': True, 'use_EUR009M  Index': True, 'use_ER1  Index': False, 'use_ER2  Index': False, 'use_ER3  Index': True, 'use_ER4  Index': True, 'use_ER5  Index': False, 'use_FDTR  Index': False, 'use_GJTB3MO  Index': True, 'use_DU1  Index': False, 'use_RX1  Index': False, 'use_SX5E  Index': False, 'use_SX7E  Index': False, 'use_HSI  Index': False, 'use_EURUSD   Index': False, 'use_EURJPY   Index': False, 'use_EURGBP   Index': False, 'use_EURCHF   Index': True, 'use_CRY  Index': True, 'use_C 1  Index': True, 'use_NG1  Index': False, 'use_MOVE  Index': True, 'use_VIX  Index': True, 'use_GDP CQOQ Index': False, 'use_CPI XYOY  Index': True, 'use_NAPMPMI  Index': True, 'use_IP CHNG  Index': True, 'use_CPTICHNG  Index': False, 'use_USURTOT  Index': False, 'use_NFP TCH  Index': False, 'use_INJCJC  Index': True, 'use_LEI CHNG  Index': False, 'use_EUGNEMUY  Index': True, 'use_CPEXEMUY  Index': False, 'use_EUIPEMUY  Index': False, 'use_EUUCEMU  Index': True, 'use_GRZEEUEX  Index': True, 'use_UMRTEMU   Index': True, 'use_OLE3US  Index': True, 'use_OLE3EURA  Index': False, 'use_OLE3JAPA  Index': True, 'use_OLE3BRAZ  Index': True, 'use_OLE3INDI  Index': False, 'use_OLE3CHIN  Index': True, 'use_EBBSDEPF  Index': True, 'use_EBBSLONG  Index': False, 'use_ECMSM1Y  Index': True, 'use_ECMSM2Y  Index': False, 'use_.USDEUR02 U Index': True, 'use_.EURGBP02 U Index': False, 'use_.EURGBP10 U Index': True, 'use_EU 10Y-03M': False, 'use_US 10Y-03M': True, 'use_.EUR0210Y U Index': True, 'use_.EUR1030Y U Index': False, 'use_CS': True, 'use_HCS': False, 'use_INF': True, 'use_NFP': False, 'use_GLD': True, 'use_OIL': False, 'use_VIX': False, 'use_UMCSENT': True, 'use_GPR': True, 'use_INFCE1': True, 'use_INFE1': False, 'use_BEAR': False, 'use_BULL': False, 'use_UNC': False, 'use_CU_release': False, 'use_INF_release': False, 'use_NFP_release': False, 'use_PMI_release': False, 'use_UN_release': True}. Best is trial 10 with value: -0.5689149560117303.\n"
     ]
    },
    {
     "name": "stdout",
     "output_type": "stream",
     "text": [
      "[INFO] Generated 1 folds for forecast horizon 1\n"
     ]
    },
    {
     "name": "stderr",
     "output_type": "stream",
     "text": [
      "[I 2025-05-11 16:01:46,507] Trial 17 finished with value: -0.5045592705167173 and parameters: {'sequence_length': 1386, 'use_EUDR1T  Index': False, 'use_EUR009M  Index': False, 'use_ER1  Index': True, 'use_ER2  Index': False, 'use_ER3  Index': True, 'use_ER4  Index': True, 'use_ER5  Index': False, 'use_FDTR  Index': False, 'use_GJTB3MO  Index': True, 'use_DU1  Index': True, 'use_RX1  Index': False, 'use_SX5E  Index': True, 'use_SX7E  Index': False, 'use_HSI  Index': False, 'use_EURUSD   Index': False, 'use_EURJPY   Index': False, 'use_EURGBP   Index': True, 'use_EURCHF   Index': True, 'use_CRY  Index': True, 'use_C 1  Index': True, 'use_NG1  Index': True, 'use_MOVE  Index': True, 'use_VIX  Index': True, 'use_GDP CQOQ Index': False, 'use_CPI XYOY  Index': True, 'use_NAPMPMI  Index': False, 'use_IP CHNG  Index': True, 'use_CPTICHNG  Index': False, 'use_USURTOT  Index': True, 'use_NFP TCH  Index': False, 'use_INJCJC  Index': True, 'use_LEI CHNG  Index': False, 'use_EUGNEMUY  Index': False, 'use_CPEXEMUY  Index': False, 'use_EUIPEMUY  Index': False, 'use_EUUCEMU  Index': True, 'use_GRZEEUEX  Index': True, 'use_UMRTEMU   Index': True, 'use_OLE3US  Index': True, 'use_OLE3EURA  Index': True, 'use_OLE3JAPA  Index': True, 'use_OLE3BRAZ  Index': True, 'use_OLE3INDI  Index': False, 'use_OLE3CHIN  Index': False, 'use_EBBSDEPF  Index': True, 'use_EBBSLONG  Index': False, 'use_ECMSM1Y  Index': False, 'use_ECMSM2Y  Index': False, 'use_.USDEUR02 U Index': True, 'use_.EURGBP02 U Index': False, 'use_.EURGBP10 U Index': True, 'use_EU 10Y-03M': False, 'use_US 10Y-03M': True, 'use_.EUR0210Y U Index': False, 'use_.EUR1030Y U Index': False, 'use_CS': False, 'use_HCS': True, 'use_INF': False, 'use_NFP': False, 'use_GLD': True, 'use_OIL': False, 'use_VIX': False, 'use_UMCSENT': False, 'use_GPR': True, 'use_INFCE1': True, 'use_INFE1': False, 'use_BEAR': True, 'use_BULL': False, 'use_UNC': False, 'use_CU_release': False, 'use_INF_release': True, 'use_NFP_release': False, 'use_PMI_release': True, 'use_UN_release': True}. Best is trial 10 with value: -0.5689149560117303.\n"
     ]
    },
    {
     "name": "stdout",
     "output_type": "stream",
     "text": [
      "[INFO] Generated 3 folds for forecast horizon 1\n"
     ]
    },
    {
     "name": "stderr",
     "output_type": "stream",
     "text": [
      "[I 2025-05-11 16:01:49,039] Trial 18 finished with value: -0.5772755197723672 and parameters: {'sequence_length': 945, 'use_EUDR1T  Index': False, 'use_EUR009M  Index': False, 'use_ER1  Index': True, 'use_ER2  Index': True, 'use_ER3  Index': False, 'use_ER4  Index': True, 'use_ER5  Index': False, 'use_FDTR  Index': False, 'use_GJTB3MO  Index': False, 'use_DU1  Index': True, 'use_RX1  Index': True, 'use_SX5E  Index': True, 'use_SX7E  Index': True, 'use_HSI  Index': False, 'use_EURUSD   Index': False, 'use_EURJPY   Index': False, 'use_EURGBP   Index': True, 'use_EURCHF   Index': True, 'use_CRY  Index': True, 'use_C 1  Index': True, 'use_NG1  Index': True, 'use_MOVE  Index': False, 'use_VIX  Index': True, 'use_GDP CQOQ Index': True, 'use_CPI XYOY  Index': False, 'use_NAPMPMI  Index': False, 'use_IP CHNG  Index': False, 'use_CPTICHNG  Index': False, 'use_USURTOT  Index': False, 'use_NFP TCH  Index': True, 'use_INJCJC  Index': False, 'use_LEI CHNG  Index': False, 'use_EUGNEMUY  Index': True, 'use_CPEXEMUY  Index': False, 'use_EUIPEMUY  Index': False, 'use_EUUCEMU  Index': False, 'use_GRZEEUEX  Index': True, 'use_UMRTEMU   Index': False, 'use_OLE3US  Index': True, 'use_OLE3EURA  Index': True, 'use_OLE3JAPA  Index': True, 'use_OLE3BRAZ  Index': False, 'use_OLE3INDI  Index': True, 'use_OLE3CHIN  Index': True, 'use_EBBSDEPF  Index': True, 'use_EBBSLONG  Index': False, 'use_ECMSM1Y  Index': False, 'use_ECMSM2Y  Index': False, 'use_.USDEUR02 U Index': False, 'use_.EURGBP02 U Index': False, 'use_.EURGBP10 U Index': False, 'use_EU 10Y-03M': False, 'use_US 10Y-03M': True, 'use_.EUR0210Y U Index': False, 'use_.EUR1030Y U Index': True, 'use_CS': False, 'use_HCS': False, 'use_INF': True, 'use_NFP': False, 'use_GLD': True, 'use_OIL': True, 'use_VIX': False, 'use_UMCSENT': True, 'use_GPR': False, 'use_INFCE1': True, 'use_INFE1': False, 'use_BEAR': False, 'use_BULL': False, 'use_UNC': False, 'use_CU_release': True, 'use_INF_release': True, 'use_NFP_release': False, 'use_PMI_release': False, 'use_UN_release': True}. Best is trial 18 with value: -0.5772755197723672.\n"
     ]
    },
    {
     "name": "stdout",
     "output_type": "stream",
     "text": [
      "[INFO] Generated 3 folds for forecast horizon 1\n"
     ]
    },
    {
     "name": "stderr",
     "output_type": "stream",
     "text": [
      "[I 2025-05-11 16:01:52,718] Trial 19 finished with value: -0.5722627848953789 and parameters: {'sequence_length': 945, 'use_EUDR1T  Index': False, 'use_EUR009M  Index': False, 'use_ER1  Index': False, 'use_ER2  Index': True, 'use_ER3  Index': False, 'use_ER4  Index': True, 'use_ER5  Index': False, 'use_FDTR  Index': False, 'use_GJTB3MO  Index': False, 'use_DU1  Index': True, 'use_RX1  Index': True, 'use_SX5E  Index': True, 'use_SX7E  Index': True, 'use_HSI  Index': False, 'use_EURUSD   Index': False, 'use_EURJPY   Index': False, 'use_EURGBP   Index': True, 'use_EURCHF   Index': True, 'use_CRY  Index': True, 'use_C 1  Index': True, 'use_NG1  Index': True, 'use_MOVE  Index': False, 'use_VIX  Index': True, 'use_GDP CQOQ Index': True, 'use_CPI XYOY  Index': False, 'use_NAPMPMI  Index': False, 'use_IP CHNG  Index': False, 'use_CPTICHNG  Index': False, 'use_USURTOT  Index': True, 'use_NFP TCH  Index': True, 'use_INJCJC  Index': False, 'use_LEI CHNG  Index': False, 'use_EUGNEMUY  Index': True, 'use_CPEXEMUY  Index': False, 'use_EUIPEMUY  Index': False, 'use_EUUCEMU  Index': False, 'use_GRZEEUEX  Index': True, 'use_UMRTEMU   Index': False, 'use_OLE3US  Index': True, 'use_OLE3EURA  Index': False, 'use_OLE3JAPA  Index': True, 'use_OLE3BRAZ  Index': False, 'use_OLE3INDI  Index': True, 'use_OLE3CHIN  Index': False, 'use_EBBSDEPF  Index': True, 'use_EBBSLONG  Index': False, 'use_ECMSM1Y  Index': True, 'use_ECMSM2Y  Index': False, 'use_.USDEUR02 U Index': False, 'use_.EURGBP02 U Index': False, 'use_.EURGBP10 U Index': True, 'use_EU 10Y-03M': False, 'use_US 10Y-03M': True, 'use_.EUR0210Y U Index': False, 'use_.EUR1030Y U Index': True, 'use_CS': True, 'use_HCS': False, 'use_INF': False, 'use_NFP': False, 'use_GLD': True, 'use_OIL': True, 'use_VIX': False, 'use_UMCSENT': False, 'use_GPR': False, 'use_INFCE1': True, 'use_INFE1': False, 'use_BEAR': False, 'use_BULL': False, 'use_UNC': False, 'use_CU_release': True, 'use_INF_release': False, 'use_NFP_release': False, 'use_PMI_release': True, 'use_UN_release': True}. Best is trial 18 with value: -0.5772755197723672.\n"
     ]
    },
    {
     "name": "stdout",
     "output_type": "stream",
     "text": [
      "[INFO] Generated 3 folds for forecast horizon 1\n"
     ]
    },
    {
     "name": "stderr",
     "output_type": "stream",
     "text": [
      "[I 2025-05-11 16:01:55,825] Trial 20 finished with value: -0.3694385051851115 and parameters: {'sequence_length': 945, 'use_EUDR1T  Index': False, 'use_EUR009M  Index': False, 'use_ER1  Index': False, 'use_ER2  Index': True, 'use_ER3  Index': False, 'use_ER4  Index': True, 'use_ER5  Index': False, 'use_FDTR  Index': False, 'use_GJTB3MO  Index': False, 'use_DU1  Index': True, 'use_RX1  Index': True, 'use_SX5E  Index': True, 'use_SX7E  Index': True, 'use_HSI  Index': False, 'use_EURUSD   Index': False, 'use_EURJPY   Index': False, 'use_EURGBP   Index': True, 'use_EURCHF   Index': True, 'use_CRY  Index': True, 'use_C 1  Index': True, 'use_NG1  Index': True, 'use_MOVE  Index': False, 'use_VIX  Index': True, 'use_GDP CQOQ Index': True, 'use_CPI XYOY  Index': False, 'use_NAPMPMI  Index': False, 'use_IP CHNG  Index': False, 'use_CPTICHNG  Index': False, 'use_USURTOT  Index': True, 'use_NFP TCH  Index': True, 'use_INJCJC  Index': False, 'use_LEI CHNG  Index': False, 'use_EUGNEMUY  Index': True, 'use_CPEXEMUY  Index': False, 'use_EUIPEMUY  Index': False, 'use_EUUCEMU  Index': False, 'use_GRZEEUEX  Index': True, 'use_UMRTEMU   Index': False, 'use_OLE3US  Index': True, 'use_OLE3EURA  Index': True, 'use_OLE3JAPA  Index': True, 'use_OLE3BRAZ  Index': False, 'use_OLE3INDI  Index': True, 'use_OLE3CHIN  Index': False, 'use_EBBSDEPF  Index': True, 'use_EBBSLONG  Index': False, 'use_ECMSM1Y  Index': False, 'use_ECMSM2Y  Index': False, 'use_.USDEUR02 U Index': False, 'use_.EURGBP02 U Index': False, 'use_.EURGBP10 U Index': True, 'use_EU 10Y-03M': False, 'use_US 10Y-03M': True, 'use_.EUR0210Y U Index': False, 'use_.EUR1030Y U Index': True, 'use_CS': False, 'use_HCS': False, 'use_INF': False, 'use_NFP': False, 'use_GLD': True, 'use_OIL': True, 'use_VIX': False, 'use_UMCSENT': True, 'use_GPR': False, 'use_INFCE1': True, 'use_INFE1': False, 'use_BEAR': False, 'use_BULL': False, 'use_UNC': False, 'use_CU_release': True, 'use_INF_release': True, 'use_NFP_release': False, 'use_PMI_release': True, 'use_UN_release': True}. Best is trial 18 with value: -0.5772755197723672.\n"
     ]
    },
    {
     "name": "stdout",
     "output_type": "stream",
     "text": [
      "[INFO] Generated 3 folds for forecast horizon 1\n"
     ]
    },
    {
     "name": "stderr",
     "output_type": "stream",
     "text": [
      "[I 2025-05-11 16:01:59,123] Trial 21 finished with value: -0.542838922495125 and parameters: {'sequence_length': 945, 'use_EUDR1T  Index': False, 'use_EUR009M  Index': False, 'use_ER1  Index': False, 'use_ER2  Index': True, 'use_ER3  Index': False, 'use_ER4  Index': True, 'use_ER5  Index': False, 'use_FDTR  Index': False, 'use_GJTB3MO  Index': False, 'use_DU1  Index': True, 'use_RX1  Index': True, 'use_SX5E  Index': True, 'use_SX7E  Index': True, 'use_HSI  Index': False, 'use_EURUSD   Index': False, 'use_EURJPY   Index': False, 'use_EURGBP   Index': True, 'use_EURCHF   Index': True, 'use_CRY  Index': True, 'use_C 1  Index': True, 'use_NG1  Index': True, 'use_MOVE  Index': False, 'use_VIX  Index': True, 'use_GDP CQOQ Index': True, 'use_CPI XYOY  Index': False, 'use_NAPMPMI  Index': False, 'use_IP CHNG  Index': False, 'use_CPTICHNG  Index': False, 'use_USURTOT  Index': True, 'use_NFP TCH  Index': True, 'use_INJCJC  Index': False, 'use_LEI CHNG  Index': False, 'use_EUGNEMUY  Index': True, 'use_CPEXEMUY  Index': False, 'use_EUIPEMUY  Index': False, 'use_EUUCEMU  Index': False, 'use_GRZEEUEX  Index': True, 'use_UMRTEMU   Index': False, 'use_OLE3US  Index': True, 'use_OLE3EURA  Index': False, 'use_OLE3JAPA  Index': True, 'use_OLE3BRAZ  Index': False, 'use_OLE3INDI  Index': True, 'use_OLE3CHIN  Index': False, 'use_EBBSDEPF  Index': True, 'use_EBBSLONG  Index': False, 'use_ECMSM1Y  Index': True, 'use_ECMSM2Y  Index': False, 'use_.USDEUR02 U Index': False, 'use_.EURGBP02 U Index': False, 'use_.EURGBP10 U Index': True, 'use_EU 10Y-03M': False, 'use_US 10Y-03M': True, 'use_.EUR0210Y U Index': False, 'use_.EUR1030Y U Index': True, 'use_CS': True, 'use_HCS': False, 'use_INF': False, 'use_NFP': False, 'use_GLD': True, 'use_OIL': True, 'use_VIX': False, 'use_UMCSENT': False, 'use_GPR': False, 'use_INFCE1': True, 'use_INFE1': False, 'use_BEAR': False, 'use_BULL': False, 'use_UNC': False, 'use_CU_release': True, 'use_INF_release': False, 'use_NFP_release': False, 'use_PMI_release': True, 'use_UN_release': True}. Best is trial 18 with value: -0.5772755197723672.\n"
     ]
    },
    {
     "name": "stdout",
     "output_type": "stream",
     "text": [
      "[INFO] Generated 3 folds for forecast horizon 1\n"
     ]
    },
    {
     "name": "stderr",
     "output_type": "stream",
     "text": [
      "[I 2025-05-11 16:02:02,459] Trial 22 finished with value: -0.528859690633818 and parameters: {'sequence_length': 819, 'use_EUDR1T  Index': False, 'use_EUR009M  Index': False, 'use_ER1  Index': False, 'use_ER2  Index': True, 'use_ER3  Index': False, 'use_ER4  Index': True, 'use_ER5  Index': False, 'use_FDTR  Index': False, 'use_GJTB3MO  Index': False, 'use_DU1  Index': True, 'use_RX1  Index': True, 'use_SX5E  Index': True, 'use_SX7E  Index': True, 'use_HSI  Index': False, 'use_EURUSD   Index': False, 'use_EURJPY   Index': False, 'use_EURGBP   Index': True, 'use_EURCHF   Index': True, 'use_CRY  Index': True, 'use_C 1  Index': True, 'use_NG1  Index': True, 'use_MOVE  Index': False, 'use_VIX  Index': True, 'use_GDP CQOQ Index': True, 'use_CPI XYOY  Index': False, 'use_NAPMPMI  Index': False, 'use_IP CHNG  Index': False, 'use_CPTICHNG  Index': False, 'use_USURTOT  Index': True, 'use_NFP TCH  Index': True, 'use_INJCJC  Index': False, 'use_LEI CHNG  Index': False, 'use_EUGNEMUY  Index': True, 'use_CPEXEMUY  Index': False, 'use_EUIPEMUY  Index': False, 'use_EUUCEMU  Index': False, 'use_GRZEEUEX  Index': True, 'use_UMRTEMU   Index': False, 'use_OLE3US  Index': True, 'use_OLE3EURA  Index': False, 'use_OLE3JAPA  Index': True, 'use_OLE3BRAZ  Index': False, 'use_OLE3INDI  Index': True, 'use_OLE3CHIN  Index': False, 'use_EBBSDEPF  Index': True, 'use_EBBSLONG  Index': False, 'use_ECMSM1Y  Index': True, 'use_ECMSM2Y  Index': False, 'use_.USDEUR02 U Index': False, 'use_.EURGBP02 U Index': False, 'use_.EURGBP10 U Index': True, 'use_EU 10Y-03M': False, 'use_US 10Y-03M': True, 'use_.EUR0210Y U Index': False, 'use_.EUR1030Y U Index': True, 'use_CS': True, 'use_HCS': False, 'use_INF': False, 'use_NFP': False, 'use_GLD': True, 'use_OIL': True, 'use_VIX': False, 'use_UMCSENT': False, 'use_GPR': False, 'use_INFCE1': True, 'use_INFE1': False, 'use_BEAR': False, 'use_BULL': False, 'use_UNC': False, 'use_CU_release': True, 'use_INF_release': False, 'use_NFP_release': False, 'use_PMI_release': True, 'use_UN_release': True}. Best is trial 18 with value: -0.5772755197723672.\n"
     ]
    },
    {
     "name": "stdout",
     "output_type": "stream",
     "text": [
      "[INFO] Generated 2 folds for forecast horizon 1\n"
     ]
    },
    {
     "name": "stderr",
     "output_type": "stream",
     "text": [
      "[I 2025-05-11 16:02:04,800] Trial 23 finished with value: -0.5488884168790711 and parameters: {'sequence_length': 1008, 'use_EUDR1T  Index': False, 'use_EUR009M  Index': False, 'use_ER1  Index': False, 'use_ER2  Index': True, 'use_ER3  Index': False, 'use_ER4  Index': True, 'use_ER5  Index': False, 'use_FDTR  Index': False, 'use_GJTB3MO  Index': False, 'use_DU1  Index': True, 'use_RX1  Index': True, 'use_SX5E  Index': True, 'use_SX7E  Index': True, 'use_HSI  Index': False, 'use_EURUSD   Index': False, 'use_EURJPY   Index': False, 'use_EURGBP   Index': True, 'use_EURCHF   Index': True, 'use_CRY  Index': True, 'use_C 1  Index': True, 'use_NG1  Index': True, 'use_MOVE  Index': False, 'use_VIX  Index': True, 'use_GDP CQOQ Index': True, 'use_CPI XYOY  Index': False, 'use_NAPMPMI  Index': False, 'use_IP CHNG  Index': False, 'use_CPTICHNG  Index': False, 'use_USURTOT  Index': True, 'use_NFP TCH  Index': True, 'use_INJCJC  Index': False, 'use_LEI CHNG  Index': False, 'use_EUGNEMUY  Index': True, 'use_CPEXEMUY  Index': False, 'use_EUIPEMUY  Index': False, 'use_EUUCEMU  Index': False, 'use_GRZEEUEX  Index': True, 'use_UMRTEMU   Index': False, 'use_OLE3US  Index': True, 'use_OLE3EURA  Index': False, 'use_OLE3JAPA  Index': True, 'use_OLE3BRAZ  Index': False, 'use_OLE3INDI  Index': True, 'use_OLE3CHIN  Index': False, 'use_EBBSDEPF  Index': True, 'use_EBBSLONG  Index': False, 'use_ECMSM1Y  Index': True, 'use_ECMSM2Y  Index': False, 'use_.USDEUR02 U Index': False, 'use_.EURGBP02 U Index': False, 'use_.EURGBP10 U Index': True, 'use_EU 10Y-03M': False, 'use_US 10Y-03M': True, 'use_.EUR0210Y U Index': False, 'use_.EUR1030Y U Index': True, 'use_CS': True, 'use_HCS': False, 'use_INF': False, 'use_NFP': False, 'use_GLD': True, 'use_OIL': True, 'use_VIX': False, 'use_UMCSENT': False, 'use_GPR': False, 'use_INFCE1': True, 'use_INFE1': False, 'use_BEAR': False, 'use_BULL': False, 'use_UNC': False, 'use_CU_release': True, 'use_INF_release': False, 'use_NFP_release': False, 'use_PMI_release': True, 'use_UN_release': True}. Best is trial 18 with value: -0.5772755197723672.\n"
     ]
    },
    {
     "name": "stdout",
     "output_type": "stream",
     "text": [
      "[INFO] Generated 3 folds for forecast horizon 1\n"
     ]
    },
    {
     "name": "stderr",
     "output_type": "stream",
     "text": [
      "[I 2025-05-11 16:02:07,408] Trial 24 finished with value: -0.4832194159651024 and parameters: {'sequence_length': 882, 'use_EUDR1T  Index': False, 'use_EUR009M  Index': False, 'use_ER1  Index': False, 'use_ER2  Index': True, 'use_ER3  Index': False, 'use_ER4  Index': True, 'use_ER5  Index': False, 'use_FDTR  Index': False, 'use_GJTB3MO  Index': False, 'use_DU1  Index': True, 'use_RX1  Index': True, 'use_SX5E  Index': True, 'use_SX7E  Index': True, 'use_HSI  Index': False, 'use_EURUSD   Index': False, 'use_EURJPY   Index': False, 'use_EURGBP   Index': True, 'use_EURCHF   Index': True, 'use_CRY  Index': True, 'use_C 1  Index': True, 'use_NG1  Index': True, 'use_MOVE  Index': False, 'use_VIX  Index': True, 'use_GDP CQOQ Index': True, 'use_CPI XYOY  Index': False, 'use_NAPMPMI  Index': False, 'use_IP CHNG  Index': False, 'use_CPTICHNG  Index': False, 'use_USURTOT  Index': True, 'use_NFP TCH  Index': True, 'use_INJCJC  Index': False, 'use_LEI CHNG  Index': False, 'use_EUGNEMUY  Index': True, 'use_CPEXEMUY  Index': False, 'use_EUIPEMUY  Index': False, 'use_EUUCEMU  Index': False, 'use_GRZEEUEX  Index': True, 'use_UMRTEMU   Index': False, 'use_OLE3US  Index': True, 'use_OLE3EURA  Index': False, 'use_OLE3JAPA  Index': True, 'use_OLE3BRAZ  Index': False, 'use_OLE3INDI  Index': True, 'use_OLE3CHIN  Index': False, 'use_EBBSDEPF  Index': True, 'use_EBBSLONG  Index': False, 'use_ECMSM1Y  Index': True, 'use_ECMSM2Y  Index': False, 'use_.USDEUR02 U Index': False, 'use_.EURGBP02 U Index': False, 'use_.EURGBP10 U Index': True, 'use_EU 10Y-03M': False, 'use_US 10Y-03M': True, 'use_.EUR0210Y U Index': False, 'use_.EUR1030Y U Index': True, 'use_CS': True, 'use_HCS': False, 'use_INF': False, 'use_NFP': False, 'use_GLD': True, 'use_OIL': True, 'use_VIX': False, 'use_UMCSENT': False, 'use_GPR': False, 'use_INFCE1': True, 'use_INFE1': False, 'use_BEAR': False, 'use_BULL': False, 'use_UNC': False, 'use_CU_release': True, 'use_INF_release': False, 'use_NFP_release': False, 'use_PMI_release': True, 'use_UN_release': True}. Best is trial 18 with value: -0.5772755197723672.\n"
     ]
    },
    {
     "name": "stdout",
     "output_type": "stream",
     "text": [
      "[INFO] Generated 2 folds for forecast horizon 1\n"
     ]
    },
    {
     "name": "stderr",
     "output_type": "stream",
     "text": [
      "[I 2025-05-11 16:02:08,794] Trial 25 finished with value: -0.4331873773214555 and parameters: {'sequence_length': 1071, 'use_EUDR1T  Index': False, 'use_EUR009M  Index': False, 'use_ER1  Index': False, 'use_ER2  Index': True, 'use_ER3  Index': False, 'use_ER4  Index': True, 'use_ER5  Index': False, 'use_FDTR  Index': False, 'use_GJTB3MO  Index': False, 'use_DU1  Index': True, 'use_RX1  Index': True, 'use_SX5E  Index': True, 'use_SX7E  Index': True, 'use_HSI  Index': False, 'use_EURUSD   Index': False, 'use_EURJPY   Index': False, 'use_EURGBP   Index': True, 'use_EURCHF   Index': True, 'use_CRY  Index': True, 'use_C 1  Index': True, 'use_NG1  Index': True, 'use_MOVE  Index': False, 'use_VIX  Index': True, 'use_GDP CQOQ Index': True, 'use_CPI XYOY  Index': False, 'use_NAPMPMI  Index': False, 'use_IP CHNG  Index': False, 'use_CPTICHNG  Index': False, 'use_USURTOT  Index': True, 'use_NFP TCH  Index': True, 'use_INJCJC  Index': False, 'use_LEI CHNG  Index': False, 'use_EUGNEMUY  Index': True, 'use_CPEXEMUY  Index': False, 'use_EUIPEMUY  Index': False, 'use_EUUCEMU  Index': False, 'use_GRZEEUEX  Index': True, 'use_UMRTEMU   Index': False, 'use_OLE3US  Index': True, 'use_OLE3EURA  Index': False, 'use_OLE3JAPA  Index': True, 'use_OLE3BRAZ  Index': False, 'use_OLE3INDI  Index': True, 'use_OLE3CHIN  Index': False, 'use_EBBSDEPF  Index': True, 'use_EBBSLONG  Index': False, 'use_ECMSM1Y  Index': True, 'use_ECMSM2Y  Index': False, 'use_.USDEUR02 U Index': False, 'use_.EURGBP02 U Index': False, 'use_.EURGBP10 U Index': True, 'use_EU 10Y-03M': False, 'use_US 10Y-03M': True, 'use_.EUR0210Y U Index': False, 'use_.EUR1030Y U Index': True, 'use_CS': True, 'use_HCS': False, 'use_INF': False, 'use_NFP': False, 'use_GLD': True, 'use_OIL': True, 'use_VIX': False, 'use_UMCSENT': False, 'use_GPR': False, 'use_INFCE1': True, 'use_INFE1': False, 'use_BEAR': False, 'use_BULL': False, 'use_UNC': False, 'use_CU_release': True, 'use_INF_release': False, 'use_NFP_release': False, 'use_PMI_release': True, 'use_UN_release': True}. Best is trial 18 with value: -0.5772755197723672.\n"
     ]
    },
    {
     "name": "stdout",
     "output_type": "stream",
     "text": [
      "[INFO] Generated 3 folds for forecast horizon 1\n"
     ]
    },
    {
     "name": "stderr",
     "output_type": "stream",
     "text": [
      "[I 2025-05-11 16:02:11,436] Trial 26 finished with value: -0.46293226588605746 and parameters: {'sequence_length': 882, 'use_EUDR1T  Index': False, 'use_EUR009M  Index': False, 'use_ER1  Index': True, 'use_ER2  Index': True, 'use_ER3  Index': False, 'use_ER4  Index': False, 'use_ER5  Index': False, 'use_FDTR  Index': True, 'use_GJTB3MO  Index': False, 'use_DU1  Index': True, 'use_RX1  Index': True, 'use_SX5E  Index': True, 'use_SX7E  Index': True, 'use_HSI  Index': False, 'use_EURUSD   Index': False, 'use_EURJPY   Index': False, 'use_EURGBP   Index': True, 'use_EURCHF   Index': True, 'use_CRY  Index': True, 'use_C 1  Index': True, 'use_NG1  Index': True, 'use_MOVE  Index': False, 'use_VIX  Index': False, 'use_GDP CQOQ Index': True, 'use_CPI XYOY  Index': False, 'use_NAPMPMI  Index': False, 'use_IP CHNG  Index': False, 'use_CPTICHNG  Index': False, 'use_USURTOT  Index': False, 'use_NFP TCH  Index': True, 'use_INJCJC  Index': False, 'use_LEI CHNG  Index': True, 'use_EUGNEMUY  Index': True, 'use_CPEXEMUY  Index': False, 'use_EUIPEMUY  Index': True, 'use_EUUCEMU  Index': False, 'use_GRZEEUEX  Index': True, 'use_UMRTEMU   Index': False, 'use_OLE3US  Index': True, 'use_OLE3EURA  Index': False, 'use_OLE3JAPA  Index': False, 'use_OLE3BRAZ  Index': False, 'use_OLE3INDI  Index': True, 'use_OLE3CHIN  Index': True, 'use_EBBSDEPF  Index': True, 'use_EBBSLONG  Index': True, 'use_ECMSM1Y  Index': True, 'use_ECMSM2Y  Index': False, 'use_.USDEUR02 U Index': False, 'use_.EURGBP02 U Index': False, 'use_.EURGBP10 U Index': False, 'use_EU 10Y-03M': True, 'use_US 10Y-03M': False, 'use_.EUR0210Y U Index': False, 'use_.EUR1030Y U Index': True, 'use_CS': True, 'use_HCS': False, 'use_INF': True, 'use_NFP': True, 'use_GLD': False, 'use_OIL': True, 'use_VIX': False, 'use_UMCSENT': False, 'use_GPR': False, 'use_INFCE1': True, 'use_INFE1': False, 'use_BEAR': False, 'use_BULL': True, 'use_UNC': False, 'use_CU_release': True, 'use_INF_release': False, 'use_NFP_release': False, 'use_PMI_release': False, 'use_UN_release': False}. Best is trial 18 with value: -0.5772755197723672.\n"
     ]
    },
    {
     "name": "stdout",
     "output_type": "stream",
     "text": [
      "[INFO] Generated 2 folds for forecast horizon 1\n"
     ]
    },
    {
     "name": "stderr",
     "output_type": "stream",
     "text": [
      "[I 2025-05-11 16:02:12,727] Trial 27 finished with value: -0.26099706744868034 and parameters: {'sequence_length': 1008, 'use_EUDR1T  Index': False, 'use_EUR009M  Index': False, 'use_ER1  Index': False, 'use_ER2  Index': True, 'use_ER3  Index': False, 'use_ER4  Index': True, 'use_ER5  Index': False, 'use_FDTR  Index': False, 'use_GJTB3MO  Index': False, 'use_DU1  Index': True, 'use_RX1  Index': True, 'use_SX5E  Index': True, 'use_SX7E  Index': True, 'use_HSI  Index': False, 'use_EURUSD   Index': False, 'use_EURJPY   Index': False, 'use_EURGBP   Index': True, 'use_EURCHF   Index': True, 'use_CRY  Index': True, 'use_C 1  Index': True, 'use_NG1  Index': True, 'use_MOVE  Index': False, 'use_VIX  Index': True, 'use_GDP CQOQ Index': True, 'use_CPI XYOY  Index': False, 'use_NAPMPMI  Index': False, 'use_IP CHNG  Index': False, 'use_CPTICHNG  Index': False, 'use_USURTOT  Index': True, 'use_NFP TCH  Index': True, 'use_INJCJC  Index': False, 'use_LEI CHNG  Index': False, 'use_EUGNEMUY  Index': True, 'use_CPEXEMUY  Index': False, 'use_EUIPEMUY  Index': False, 'use_EUUCEMU  Index': False, 'use_GRZEEUEX  Index': True, 'use_UMRTEMU   Index': False, 'use_OLE3US  Index': True, 'use_OLE3EURA  Index': False, 'use_OLE3JAPA  Index': True, 'use_OLE3BRAZ  Index': False, 'use_OLE3INDI  Index': True, 'use_OLE3CHIN  Index': False, 'use_EBBSDEPF  Index': True, 'use_EBBSLONG  Index': False, 'use_ECMSM1Y  Index': True, 'use_ECMSM2Y  Index': False, 'use_.USDEUR02 U Index': False, 'use_.EURGBP02 U Index': False, 'use_.EURGBP10 U Index': True, 'use_EU 10Y-03M': False, 'use_US 10Y-03M': True, 'use_.EUR0210Y U Index': False, 'use_.EUR1030Y U Index': True, 'use_CS': True, 'use_HCS': False, 'use_INF': False, 'use_NFP': False, 'use_GLD': True, 'use_OIL': True, 'use_VIX': False, 'use_UMCSENT': False, 'use_GPR': False, 'use_INFCE1': True, 'use_INFE1': False, 'use_BEAR': False, 'use_BULL': False, 'use_UNC': False, 'use_CU_release': True, 'use_INF_release': False, 'use_NFP_release': False, 'use_PMI_release': True, 'use_UN_release': True}. Best is trial 18 with value: -0.5772755197723672.\n"
     ]
    },
    {
     "name": "stdout",
     "output_type": "stream",
     "text": [
      "[INFO] Generated 2 folds for forecast horizon 1\n"
     ]
    },
    {
     "name": "stderr",
     "output_type": "stream",
     "text": [
      "[I 2025-05-11 16:02:14,161] Trial 28 finished with value: -0.5357027032182986 and parameters: {'sequence_length': 1134, 'use_EUDR1T  Index': False, 'use_EUR009M  Index': False, 'use_ER1  Index': True, 'use_ER2  Index': True, 'use_ER3  Index': False, 'use_ER4  Index': True, 'use_ER5  Index': False, 'use_FDTR  Index': False, 'use_GJTB3MO  Index': False, 'use_DU1  Index': True, 'use_RX1  Index': True, 'use_SX5E  Index': True, 'use_SX7E  Index': True, 'use_HSI  Index': False, 'use_EURUSD   Index': False, 'use_EURJPY   Index': False, 'use_EURGBP   Index': True, 'use_EURCHF   Index': True, 'use_CRY  Index': True, 'use_C 1  Index': True, 'use_NG1  Index': True, 'use_MOVE  Index': False, 'use_VIX  Index': True, 'use_GDP CQOQ Index': True, 'use_CPI XYOY  Index': False, 'use_NAPMPMI  Index': False, 'use_IP CHNG  Index': False, 'use_CPTICHNG  Index': False, 'use_USURTOT  Index': False, 'use_NFP TCH  Index': True, 'use_INJCJC  Index': False, 'use_LEI CHNG  Index': False, 'use_EUGNEMUY  Index': True, 'use_CPEXEMUY  Index': False, 'use_EUIPEMUY  Index': False, 'use_EUUCEMU  Index': False, 'use_GRZEEUEX  Index': True, 'use_UMRTEMU   Index': False, 'use_OLE3US  Index': True, 'use_OLE3EURA  Index': True, 'use_OLE3JAPA  Index': True, 'use_OLE3BRAZ  Index': False, 'use_OLE3INDI  Index': True, 'use_OLE3CHIN  Index': True, 'use_EBBSDEPF  Index': True, 'use_EBBSLONG  Index': False, 'use_ECMSM1Y  Index': False, 'use_ECMSM2Y  Index': False, 'use_.USDEUR02 U Index': False, 'use_.EURGBP02 U Index': False, 'use_.EURGBP10 U Index': False, 'use_EU 10Y-03M': False, 'use_US 10Y-03M': True, 'use_.EUR0210Y U Index': False, 'use_.EUR1030Y U Index': True, 'use_CS': False, 'use_HCS': False, 'use_INF': True, 'use_NFP': False, 'use_GLD': True, 'use_OIL': True, 'use_VIX': False, 'use_UMCSENT': True, 'use_GPR': False, 'use_INFCE1': True, 'use_INFE1': False, 'use_BEAR': False, 'use_BULL': False, 'use_UNC': False, 'use_CU_release': True, 'use_INF_release': True, 'use_NFP_release': False, 'use_PMI_release': False, 'use_UN_release': True}. Best is trial 18 with value: -0.5772755197723672.\n"
     ]
    },
    {
     "name": "stdout",
     "output_type": "stream",
     "text": [
      "[INFO] Generated 3 folds for forecast horizon 1\n"
     ]
    },
    {
     "name": "stderr",
     "output_type": "stream",
     "text": [
      "[I 2025-05-11 16:02:16,989] Trial 29 finished with value: -0.55809808259899 and parameters: {'sequence_length': 756, 'use_EUDR1T  Index': False, 'use_EUR009M  Index': False, 'use_ER1  Index': True, 'use_ER2  Index': True, 'use_ER3  Index': False, 'use_ER4  Index': True, 'use_ER5  Index': True, 'use_FDTR  Index': True, 'use_GJTB3MO  Index': False, 'use_DU1  Index': True, 'use_RX1  Index': True, 'use_SX5E  Index': True, 'use_SX7E  Index': True, 'use_HSI  Index': False, 'use_EURUSD   Index': False, 'use_EURJPY   Index': False, 'use_EURGBP   Index': True, 'use_EURCHF   Index': False, 'use_CRY  Index': True, 'use_C 1  Index': False, 'use_NG1  Index': True, 'use_MOVE  Index': False, 'use_VIX  Index': False, 'use_GDP CQOQ Index': True, 'use_CPI XYOY  Index': False, 'use_NAPMPMI  Index': False, 'use_IP CHNG  Index': False, 'use_CPTICHNG  Index': True, 'use_USURTOT  Index': False, 'use_NFP TCH  Index': True, 'use_INJCJC  Index': False, 'use_LEI CHNG  Index': False, 'use_EUGNEMUY  Index': True, 'use_CPEXEMUY  Index': False, 'use_EUIPEMUY  Index': False, 'use_EUUCEMU  Index': False, 'use_GRZEEUEX  Index': False, 'use_UMRTEMU   Index': False, 'use_OLE3US  Index': False, 'use_OLE3EURA  Index': True, 'use_OLE3JAPA  Index': True, 'use_OLE3BRAZ  Index': False, 'use_OLE3INDI  Index': True, 'use_OLE3CHIN  Index': False, 'use_EBBSDEPF  Index': True, 'use_EBBSLONG  Index': False, 'use_ECMSM1Y  Index': True, 'use_ECMSM2Y  Index': False, 'use_.USDEUR02 U Index': False, 'use_.EURGBP02 U Index': True, 'use_.EURGBP10 U Index': False, 'use_EU 10Y-03M': True, 'use_US 10Y-03M': True, 'use_.EUR0210Y U Index': False, 'use_.EUR1030Y U Index': True, 'use_CS': True, 'use_HCS': False, 'use_INF': True, 'use_NFP': True, 'use_GLD': True, 'use_OIL': True, 'use_VIX': False, 'use_UMCSENT': False, 'use_GPR': False, 'use_INFCE1': True, 'use_INFE1': False, 'use_BEAR': False, 'use_BULL': False, 'use_UNC': False, 'use_CU_release': True, 'use_INF_release': True, 'use_NFP_release': True, 'use_PMI_release': False, 'use_UN_release': True}. Best is trial 18 with value: -0.5772755197723672.\n",
      "[I 2025-05-11 16:02:16,998] A new study created in memory with name: no-name-6a362894-b7a0-438f-810f-615a5dca6ad4\n"
     ]
    },
    {
     "name": "stdout",
     "output_type": "stream",
     "text": [
      "[RESULT] Horizon 1: Best Params = {'sequence_length': 945, 'use_EUDR1T  Index': False, 'use_EUR009M  Index': False, 'use_ER1  Index': True, 'use_ER2  Index': True, 'use_ER3  Index': False, 'use_ER4  Index': True, 'use_ER5  Index': False, 'use_FDTR  Index': False, 'use_GJTB3MO  Index': False, 'use_DU1  Index': True, 'use_RX1  Index': True, 'use_SX5E  Index': True, 'use_SX7E  Index': True, 'use_HSI  Index': False, 'use_EURUSD   Index': False, 'use_EURJPY   Index': False, 'use_EURGBP   Index': True, 'use_EURCHF   Index': True, 'use_CRY  Index': True, 'use_C 1  Index': True, 'use_NG1  Index': True, 'use_MOVE  Index': False, 'use_VIX  Index': True, 'use_GDP CQOQ Index': True, 'use_CPI XYOY  Index': False, 'use_NAPMPMI  Index': False, 'use_IP CHNG  Index': False, 'use_CPTICHNG  Index': False, 'use_USURTOT  Index': False, 'use_NFP TCH  Index': True, 'use_INJCJC  Index': False, 'use_LEI CHNG  Index': False, 'use_EUGNEMUY  Index': True, 'use_CPEXEMUY  Index': False, 'use_EUIPEMUY  Index': False, 'use_EUUCEMU  Index': False, 'use_GRZEEUEX  Index': True, 'use_UMRTEMU   Index': False, 'use_OLE3US  Index': True, 'use_OLE3EURA  Index': True, 'use_OLE3JAPA  Index': True, 'use_OLE3BRAZ  Index': False, 'use_OLE3INDI  Index': True, 'use_OLE3CHIN  Index': True, 'use_EBBSDEPF  Index': True, 'use_EBBSLONG  Index': False, 'use_ECMSM1Y  Index': False, 'use_ECMSM2Y  Index': False, 'use_.USDEUR02 U Index': False, 'use_.EURGBP02 U Index': False, 'use_.EURGBP10 U Index': False, 'use_EU 10Y-03M': False, 'use_US 10Y-03M': True, 'use_.EUR0210Y U Index': False, 'use_.EUR1030Y U Index': True, 'use_CS': False, 'use_HCS': False, 'use_INF': True, 'use_NFP': False, 'use_GLD': True, 'use_OIL': True, 'use_VIX': False, 'use_UMCSENT': True, 'use_GPR': False, 'use_INFCE1': True, 'use_INFE1': False, 'use_BEAR': False, 'use_BULL': False, 'use_UNC': False, 'use_CU_release': True, 'use_INF_release': True, 'use_NFP_release': False, 'use_PMI_release': False, 'use_UN_release': True}, Best F1 = 0.5773\n",
      "\n",
      "=== Forecast Horizon: 5 ===\n",
      "[INFO] Generated 3 folds for forecast horizon 5\n"
     ]
    },
    {
     "name": "stderr",
     "output_type": "stream",
     "text": [
      "[I 2025-05-11 16:02:19,523] Trial 0 finished with value: -0.6080164075054152 and parameters: {'sequence_length': 819, 'use_EUDR1T  Index': False, 'use_EUR009M  Index': True, 'use_ER1  Index': False, 'use_ER2  Index': False, 'use_ER3  Index': False, 'use_ER4  Index': False, 'use_ER5  Index': False, 'use_FDTR  Index': True, 'use_GJTB3MO  Index': False, 'use_DU1  Index': False, 'use_RX1  Index': False, 'use_SX5E  Index': True, 'use_SX7E  Index': True, 'use_HSI  Index': False, 'use_EURUSD   Index': False, 'use_EURJPY   Index': False, 'use_EURGBP   Index': False, 'use_EURCHF   Index': True, 'use_CRY  Index': False, 'use_C 1  Index': True, 'use_NG1  Index': True, 'use_MOVE  Index': True, 'use_VIX  Index': False, 'use_GDP CQOQ Index': False, 'use_CPI XYOY  Index': True, 'use_NAPMPMI  Index': False, 'use_IP CHNG  Index': True, 'use_CPTICHNG  Index': False, 'use_USURTOT  Index': False, 'use_NFP TCH  Index': False, 'use_INJCJC  Index': True, 'use_LEI CHNG  Index': False, 'use_EUGNEMUY  Index': True, 'use_CPEXEMUY  Index': False, 'use_EUIPEMUY  Index': False, 'use_EUUCEMU  Index': True, 'use_GRZEEUEX  Index': False, 'use_UMRTEMU   Index': True, 'use_OLE3US  Index': False, 'use_OLE3EURA  Index': False, 'use_OLE3JAPA  Index': False, 'use_OLE3BRAZ  Index': True, 'use_OLE3INDI  Index': True, 'use_OLE3CHIN  Index': True, 'use_EBBSDEPF  Index': False, 'use_EBBSLONG  Index': True, 'use_ECMSM1Y  Index': False, 'use_ECMSM2Y  Index': False, 'use_.USDEUR02 U Index': False, 'use_.EURGBP02 U Index': False, 'use_.EURGBP10 U Index': True, 'use_EU 10Y-03M': False, 'use_US 10Y-03M': False, 'use_.EUR0210Y U Index': True, 'use_.EUR1030Y U Index': False, 'use_CS': True, 'use_HCS': True, 'use_INF': True, 'use_NFP': True, 'use_GLD': False, 'use_OIL': True, 'use_VIX': True, 'use_UMCSENT': False, 'use_GPR': True, 'use_INFCE1': True, 'use_INFE1': False, 'use_BEAR': False, 'use_BULL': False, 'use_UNC': False, 'use_CU_release': False, 'use_INF_release': True, 'use_NFP_release': False, 'use_PMI_release': True, 'use_UN_release': True}. Best is trial 0 with value: -0.6080164075054152.\n"
     ]
    },
    {
     "name": "stdout",
     "output_type": "stream",
     "text": [
      "[INFO] Generated 2 folds for forecast horizon 5\n"
     ]
    },
    {
     "name": "stderr",
     "output_type": "stream",
     "text": [
      "[I 2025-05-11 16:02:24,296] Trial 1 finished with value: -0.3955262154307431 and parameters: {'sequence_length': 1260, 'use_EUDR1T  Index': False, 'use_EUR009M  Index': True, 'use_ER1  Index': True, 'use_ER2  Index': True, 'use_ER3  Index': False, 'use_ER4  Index': True, 'use_ER5  Index': False, 'use_FDTR  Index': False, 'use_GJTB3MO  Index': False, 'use_DU1  Index': True, 'use_RX1  Index': True, 'use_SX5E  Index': True, 'use_SX7E  Index': True, 'use_HSI  Index': True, 'use_EURUSD   Index': False, 'use_EURJPY   Index': True, 'use_EURGBP   Index': False, 'use_EURCHF   Index': False, 'use_CRY  Index': False, 'use_C 1  Index': True, 'use_NG1  Index': False, 'use_MOVE  Index': True, 'use_VIX  Index': False, 'use_GDP CQOQ Index': True, 'use_CPI XYOY  Index': False, 'use_NAPMPMI  Index': True, 'use_IP CHNG  Index': True, 'use_CPTICHNG  Index': True, 'use_USURTOT  Index': True, 'use_NFP TCH  Index': True, 'use_INJCJC  Index': False, 'use_LEI CHNG  Index': False, 'use_EUGNEMUY  Index': False, 'use_CPEXEMUY  Index': False, 'use_EUIPEMUY  Index': True, 'use_EUUCEMU  Index': False, 'use_GRZEEUEX  Index': True, 'use_UMRTEMU   Index': False, 'use_OLE3US  Index': True, 'use_OLE3EURA  Index': True, 'use_OLE3JAPA  Index': True, 'use_OLE3BRAZ  Index': False, 'use_OLE3INDI  Index': False, 'use_OLE3CHIN  Index': True, 'use_EBBSDEPF  Index': False, 'use_EBBSLONG  Index': False, 'use_ECMSM1Y  Index': True, 'use_ECMSM2Y  Index': False, 'use_.USDEUR02 U Index': False, 'use_.EURGBP02 U Index': False, 'use_.EURGBP10 U Index': True, 'use_EU 10Y-03M': True, 'use_US 10Y-03M': False, 'use_.EUR0210Y U Index': False, 'use_.EUR1030Y U Index': False, 'use_CS': False, 'use_HCS': False, 'use_INF': True, 'use_NFP': False, 'use_GLD': False, 'use_OIL': True, 'use_VIX': True, 'use_UMCSENT': True, 'use_GPR': False, 'use_INFCE1': True, 'use_INFE1': True, 'use_BEAR': True, 'use_BULL': True, 'use_UNC': False, 'use_CU_release': True, 'use_INF_release': True, 'use_NFP_release': True, 'use_PMI_release': False, 'use_UN_release': False}. Best is trial 0 with value: -0.6080164075054152.\n"
     ]
    },
    {
     "name": "stdout",
     "output_type": "stream",
     "text": [
      "[INFO] Generated 3 folds for forecast horizon 5\n"
     ]
    },
    {
     "name": "stderr",
     "output_type": "stream",
     "text": [
      "[I 2025-05-11 16:02:26,425] Trial 2 finished with value: -0.6169839536311335 and parameters: {'sequence_length': 819, 'use_EUDR1T  Index': False, 'use_EUR009M  Index': True, 'use_ER1  Index': True, 'use_ER2  Index': False, 'use_ER3  Index': False, 'use_ER4  Index': True, 'use_ER5  Index': False, 'use_FDTR  Index': False, 'use_GJTB3MO  Index': False, 'use_DU1  Index': False, 'use_RX1  Index': True, 'use_SX5E  Index': False, 'use_SX7E  Index': False, 'use_HSI  Index': False, 'use_EURUSD   Index': True, 'use_EURJPY   Index': False, 'use_EURGBP   Index': False, 'use_EURCHF   Index': True, 'use_CRY  Index': False, 'use_C 1  Index': True, 'use_NG1  Index': False, 'use_MOVE  Index': False, 'use_VIX  Index': True, 'use_GDP CQOQ Index': True, 'use_CPI XYOY  Index': True, 'use_NAPMPMI  Index': True, 'use_IP CHNG  Index': False, 'use_CPTICHNG  Index': True, 'use_USURTOT  Index': False, 'use_NFP TCH  Index': False, 'use_INJCJC  Index': True, 'use_LEI CHNG  Index': True, 'use_EUGNEMUY  Index': True, 'use_CPEXEMUY  Index': False, 'use_EUIPEMUY  Index': False, 'use_EUUCEMU  Index': True, 'use_GRZEEUEX  Index': False, 'use_UMRTEMU   Index': True, 'use_OLE3US  Index': True, 'use_OLE3EURA  Index': True, 'use_OLE3JAPA  Index': True, 'use_OLE3BRAZ  Index': False, 'use_OLE3INDI  Index': False, 'use_OLE3CHIN  Index': True, 'use_EBBSDEPF  Index': True, 'use_EBBSLONG  Index': False, 'use_ECMSM1Y  Index': False, 'use_ECMSM2Y  Index': False, 'use_.USDEUR02 U Index': False, 'use_.EURGBP02 U Index': False, 'use_.EURGBP10 U Index': True, 'use_EU 10Y-03M': False, 'use_US 10Y-03M': True, 'use_.EUR0210Y U Index': True, 'use_.EUR1030Y U Index': True, 'use_CS': False, 'use_HCS': True, 'use_INF': False, 'use_NFP': False, 'use_GLD': True, 'use_OIL': False, 'use_VIX': True, 'use_UMCSENT': True, 'use_GPR': False, 'use_INFCE1': False, 'use_INFE1': True, 'use_BEAR': True, 'use_BULL': False, 'use_UNC': True, 'use_CU_release': True, 'use_INF_release': False, 'use_NFP_release': False, 'use_PMI_release': False, 'use_UN_release': True}. Best is trial 2 with value: -0.6169839536311335.\n"
     ]
    },
    {
     "name": "stdout",
     "output_type": "stream",
     "text": [
      "[INFO] Generated 2 folds for forecast horizon 5\n"
     ]
    },
    {
     "name": "stderr",
     "output_type": "stream",
     "text": [
      "[I 2025-05-11 16:02:28,722] Trial 3 finished with value: -0.6852602818521714 and parameters: {'sequence_length': 1197, 'use_EUDR1T  Index': False, 'use_EUR009M  Index': False, 'use_ER1  Index': False, 'use_ER2  Index': False, 'use_ER3  Index': False, 'use_ER4  Index': True, 'use_ER5  Index': False, 'use_FDTR  Index': True, 'use_GJTB3MO  Index': True, 'use_DU1  Index': True, 'use_RX1  Index': True, 'use_SX5E  Index': True, 'use_SX7E  Index': False, 'use_HSI  Index': False, 'use_EURUSD   Index': False, 'use_EURJPY   Index': False, 'use_EURGBP   Index': False, 'use_EURCHF   Index': True, 'use_CRY  Index': False, 'use_C 1  Index': True, 'use_NG1  Index': False, 'use_MOVE  Index': True, 'use_VIX  Index': False, 'use_GDP CQOQ Index': True, 'use_CPI XYOY  Index': False, 'use_NAPMPMI  Index': False, 'use_IP CHNG  Index': True, 'use_CPTICHNG  Index': False, 'use_USURTOT  Index': True, 'use_NFP TCH  Index': False, 'use_INJCJC  Index': True, 'use_LEI CHNG  Index': False, 'use_EUGNEMUY  Index': True, 'use_CPEXEMUY  Index': True, 'use_EUIPEMUY  Index': False, 'use_EUUCEMU  Index': False, 'use_GRZEEUEX  Index': False, 'use_UMRTEMU   Index': True, 'use_OLE3US  Index': True, 'use_OLE3EURA  Index': True, 'use_OLE3JAPA  Index': False, 'use_OLE3BRAZ  Index': True, 'use_OLE3INDI  Index': True, 'use_OLE3CHIN  Index': True, 'use_EBBSDEPF  Index': True, 'use_EBBSLONG  Index': True, 'use_ECMSM1Y  Index': True, 'use_ECMSM2Y  Index': False, 'use_.USDEUR02 U Index': False, 'use_.EURGBP02 U Index': True, 'use_.EURGBP10 U Index': False, 'use_EU 10Y-03M': True, 'use_US 10Y-03M': True, 'use_.EUR0210Y U Index': True, 'use_.EUR1030Y U Index': False, 'use_CS': False, 'use_HCS': True, 'use_INF': False, 'use_NFP': True, 'use_GLD': True, 'use_OIL': True, 'use_VIX': True, 'use_UMCSENT': True, 'use_GPR': False, 'use_INFCE1': False, 'use_INFE1': True, 'use_BEAR': False, 'use_BULL': False, 'use_UNC': False, 'use_CU_release': False, 'use_INF_release': True, 'use_NFP_release': False, 'use_PMI_release': True, 'use_UN_release': True}. Best is trial 3 with value: -0.6852602818521714.\n"
     ]
    },
    {
     "name": "stdout",
     "output_type": "stream",
     "text": [
      "[INFO] Generated 2 folds for forecast horizon 5\n"
     ]
    },
    {
     "name": "stderr",
     "output_type": "stream",
     "text": [
      "[I 2025-05-11 16:02:30,796] Trial 4 finished with value: -0.628424218603141 and parameters: {'sequence_length': 1323, 'use_EUDR1T  Index': False, 'use_EUR009M  Index': False, 'use_ER1  Index': False, 'use_ER2  Index': True, 'use_ER3  Index': False, 'use_ER4  Index': True, 'use_ER5  Index': False, 'use_FDTR  Index': False, 'use_GJTB3MO  Index': True, 'use_DU1  Index': False, 'use_RX1  Index': False, 'use_SX5E  Index': False, 'use_SX7E  Index': True, 'use_HSI  Index': True, 'use_EURUSD   Index': False, 'use_EURJPY   Index': False, 'use_EURGBP   Index': True, 'use_EURCHF   Index': False, 'use_CRY  Index': True, 'use_C 1  Index': True, 'use_NG1  Index': False, 'use_MOVE  Index': True, 'use_VIX  Index': True, 'use_GDP CQOQ Index': True, 'use_CPI XYOY  Index': True, 'use_NAPMPMI  Index': False, 'use_IP CHNG  Index': False, 'use_CPTICHNG  Index': True, 'use_USURTOT  Index': True, 'use_NFP TCH  Index': False, 'use_INJCJC  Index': False, 'use_LEI CHNG  Index': True, 'use_EUGNEMUY  Index': True, 'use_CPEXEMUY  Index': True, 'use_EUIPEMUY  Index': True, 'use_EUUCEMU  Index': False, 'use_GRZEEUEX  Index': False, 'use_UMRTEMU   Index': False, 'use_OLE3US  Index': False, 'use_OLE3EURA  Index': False, 'use_OLE3JAPA  Index': True, 'use_OLE3BRAZ  Index': True, 'use_OLE3INDI  Index': True, 'use_OLE3CHIN  Index': True, 'use_EBBSDEPF  Index': True, 'use_EBBSLONG  Index': True, 'use_ECMSM1Y  Index': False, 'use_ECMSM2Y  Index': False, 'use_.USDEUR02 U Index': True, 'use_.EURGBP02 U Index': False, 'use_.EURGBP10 U Index': True, 'use_EU 10Y-03M': True, 'use_US 10Y-03M': True, 'use_.EUR0210Y U Index': True, 'use_.EUR1030Y U Index': False, 'use_CS': False, 'use_HCS': True, 'use_INF': True, 'use_NFP': False, 'use_GLD': False, 'use_OIL': False, 'use_VIX': False, 'use_UMCSENT': False, 'use_GPR': True, 'use_INFCE1': False, 'use_INFE1': True, 'use_BEAR': False, 'use_BULL': True, 'use_UNC': False, 'use_CU_release': False, 'use_INF_release': False, 'use_NFP_release': True, 'use_PMI_release': True, 'use_UN_release': False}. Best is trial 3 with value: -0.6852602818521714.\n"
     ]
    },
    {
     "name": "stdout",
     "output_type": "stream",
     "text": [
      "[INFO] Generated 3 folds for forecast horizon 5\n"
     ]
    },
    {
     "name": "stderr",
     "output_type": "stream",
     "text": [
      "[I 2025-05-11 16:02:33,102] Trial 5 finished with value: -0.5775370784527324 and parameters: {'sequence_length': 882, 'use_EUDR1T  Index': False, 'use_EUR009M  Index': False, 'use_ER1  Index': True, 'use_ER2  Index': False, 'use_ER3  Index': True, 'use_ER4  Index': False, 'use_ER5  Index': True, 'use_FDTR  Index': True, 'use_GJTB3MO  Index': False, 'use_DU1  Index': False, 'use_RX1  Index': True, 'use_SX5E  Index': False, 'use_SX7E  Index': False, 'use_HSI  Index': True, 'use_EURUSD   Index': True, 'use_EURJPY   Index': True, 'use_EURGBP   Index': False, 'use_EURCHF   Index': False, 'use_CRY  Index': True, 'use_C 1  Index': False, 'use_NG1  Index': False, 'use_MOVE  Index': True, 'use_VIX  Index': False, 'use_GDP CQOQ Index': False, 'use_CPI XYOY  Index': True, 'use_NAPMPMI  Index': True, 'use_IP CHNG  Index': False, 'use_CPTICHNG  Index': True, 'use_USURTOT  Index': True, 'use_NFP TCH  Index': True, 'use_INJCJC  Index': False, 'use_LEI CHNG  Index': False, 'use_EUGNEMUY  Index': False, 'use_CPEXEMUY  Index': True, 'use_EUIPEMUY  Index': True, 'use_EUUCEMU  Index': True, 'use_GRZEEUEX  Index': False, 'use_UMRTEMU   Index': False, 'use_OLE3US  Index': False, 'use_OLE3EURA  Index': True, 'use_OLE3JAPA  Index': True, 'use_OLE3BRAZ  Index': True, 'use_OLE3INDI  Index': False, 'use_OLE3CHIN  Index': False, 'use_EBBSDEPF  Index': False, 'use_EBBSLONG  Index': True, 'use_ECMSM1Y  Index': False, 'use_ECMSM2Y  Index': False, 'use_.USDEUR02 U Index': False, 'use_.EURGBP02 U Index': False, 'use_.EURGBP10 U Index': True, 'use_EU 10Y-03M': True, 'use_US 10Y-03M': False, 'use_.EUR0210Y U Index': True, 'use_.EUR1030Y U Index': True, 'use_CS': True, 'use_HCS': False, 'use_INF': False, 'use_NFP': True, 'use_GLD': False, 'use_OIL': False, 'use_VIX': False, 'use_UMCSENT': False, 'use_GPR': False, 'use_INFCE1': True, 'use_INFE1': False, 'use_BEAR': True, 'use_BULL': True, 'use_UNC': True, 'use_CU_release': False, 'use_INF_release': False, 'use_NFP_release': False, 'use_PMI_release': False, 'use_UN_release': False}. Best is trial 3 with value: -0.6852602818521714.\n"
     ]
    },
    {
     "name": "stdout",
     "output_type": "stream",
     "text": [
      "[INFO] Generated 3 folds for forecast horizon 5\n"
     ]
    },
    {
     "name": "stderr",
     "output_type": "stream",
     "text": [
      "[I 2025-05-11 16:02:35,935] Trial 6 finished with value: -0.40970714870298547 and parameters: {'sequence_length': 945, 'use_EUDR1T  Index': True, 'use_EUR009M  Index': True, 'use_ER1  Index': True, 'use_ER2  Index': False, 'use_ER3  Index': True, 'use_ER4  Index': True, 'use_ER5  Index': True, 'use_FDTR  Index': True, 'use_GJTB3MO  Index': True, 'use_DU1  Index': False, 'use_RX1  Index': False, 'use_SX5E  Index': True, 'use_SX7E  Index': True, 'use_HSI  Index': True, 'use_EURUSD   Index': True, 'use_EURJPY   Index': False, 'use_EURGBP   Index': False, 'use_EURCHF   Index': False, 'use_CRY  Index': True, 'use_C 1  Index': True, 'use_NG1  Index': False, 'use_MOVE  Index': True, 'use_VIX  Index': True, 'use_GDP CQOQ Index': False, 'use_CPI XYOY  Index': False, 'use_NAPMPMI  Index': False, 'use_IP CHNG  Index': False, 'use_CPTICHNG  Index': False, 'use_USURTOT  Index': True, 'use_NFP TCH  Index': True, 'use_INJCJC  Index': False, 'use_LEI CHNG  Index': True, 'use_EUGNEMUY  Index': True, 'use_CPEXEMUY  Index': False, 'use_EUIPEMUY  Index': False, 'use_EUUCEMU  Index': True, 'use_GRZEEUEX  Index': False, 'use_UMRTEMU   Index': False, 'use_OLE3US  Index': True, 'use_OLE3EURA  Index': False, 'use_OLE3JAPA  Index': True, 'use_OLE3BRAZ  Index': True, 'use_OLE3INDI  Index': False, 'use_OLE3CHIN  Index': False, 'use_EBBSDEPF  Index': False, 'use_EBBSLONG  Index': True, 'use_ECMSM1Y  Index': False, 'use_ECMSM2Y  Index': True, 'use_.USDEUR02 U Index': False, 'use_.EURGBP02 U Index': False, 'use_.EURGBP10 U Index': True, 'use_EU 10Y-03M': True, 'use_US 10Y-03M': False, 'use_.EUR0210Y U Index': False, 'use_.EUR1030Y U Index': True, 'use_CS': True, 'use_HCS': False, 'use_INF': True, 'use_NFP': False, 'use_GLD': True, 'use_OIL': False, 'use_VIX': False, 'use_UMCSENT': True, 'use_GPR': True, 'use_INFCE1': True, 'use_INFE1': True, 'use_BEAR': True, 'use_BULL': False, 'use_UNC': True, 'use_CU_release': True, 'use_INF_release': True, 'use_NFP_release': True, 'use_PMI_release': True, 'use_UN_release': True}. Best is trial 3 with value: -0.6852602818521714.\n"
     ]
    },
    {
     "name": "stdout",
     "output_type": "stream",
     "text": [
      "[INFO] Generated 2 folds for forecast horizon 5\n"
     ]
    },
    {
     "name": "stderr",
     "output_type": "stream",
     "text": [
      "[I 2025-05-11 16:02:37,469] Trial 7 finished with value: -0.5299536138434714 and parameters: {'sequence_length': 1134, 'use_EUDR1T  Index': False, 'use_EUR009M  Index': True, 'use_ER1  Index': True, 'use_ER2  Index': True, 'use_ER3  Index': True, 'use_ER4  Index': False, 'use_ER5  Index': False, 'use_FDTR  Index': False, 'use_GJTB3MO  Index': False, 'use_DU1  Index': False, 'use_RX1  Index': True, 'use_SX5E  Index': False, 'use_SX7E  Index': False, 'use_HSI  Index': False, 'use_EURUSD   Index': True, 'use_EURJPY   Index': True, 'use_EURGBP   Index': False, 'use_EURCHF   Index': True, 'use_CRY  Index': False, 'use_C 1  Index': True, 'use_NG1  Index': False, 'use_MOVE  Index': False, 'use_VIX  Index': False, 'use_GDP CQOQ Index': False, 'use_CPI XYOY  Index': True, 'use_NAPMPMI  Index': False, 'use_IP CHNG  Index': False, 'use_CPTICHNG  Index': True, 'use_USURTOT  Index': False, 'use_NFP TCH  Index': True, 'use_INJCJC  Index': False, 'use_LEI CHNG  Index': False, 'use_EUGNEMUY  Index': False, 'use_CPEXEMUY  Index': True, 'use_EUIPEMUY  Index': True, 'use_EUUCEMU  Index': False, 'use_GRZEEUEX  Index': True, 'use_UMRTEMU   Index': True, 'use_OLE3US  Index': False, 'use_OLE3EURA  Index': True, 'use_OLE3JAPA  Index': True, 'use_OLE3BRAZ  Index': True, 'use_OLE3INDI  Index': False, 'use_OLE3CHIN  Index': True, 'use_EBBSDEPF  Index': False, 'use_EBBSLONG  Index': False, 'use_ECMSM1Y  Index': True, 'use_ECMSM2Y  Index': True, 'use_.USDEUR02 U Index': True, 'use_.EURGBP02 U Index': False, 'use_.EURGBP10 U Index': True, 'use_EU 10Y-03M': True, 'use_US 10Y-03M': True, 'use_.EUR0210Y U Index': False, 'use_.EUR1030Y U Index': False, 'use_CS': False, 'use_HCS': False, 'use_INF': False, 'use_NFP': False, 'use_GLD': True, 'use_OIL': True, 'use_VIX': True, 'use_UMCSENT': False, 'use_GPR': False, 'use_INFCE1': False, 'use_INFE1': True, 'use_BEAR': False, 'use_BULL': True, 'use_UNC': True, 'use_CU_release': False, 'use_INF_release': True, 'use_NFP_release': False, 'use_PMI_release': True, 'use_UN_release': False}. Best is trial 3 with value: -0.6852602818521714.\n"
     ]
    },
    {
     "name": "stdout",
     "output_type": "stream",
     "text": [
      "[INFO] Generated 2 folds for forecast horizon 5\n"
     ]
    },
    {
     "name": "stderr",
     "output_type": "stream",
     "text": [
      "[I 2025-05-11 16:02:40,942] Trial 8 finished with value: -0.6032750791248108 and parameters: {'sequence_length': 1323, 'use_EUDR1T  Index': True, 'use_EUR009M  Index': True, 'use_ER1  Index': False, 'use_ER2  Index': True, 'use_ER3  Index': True, 'use_ER4  Index': True, 'use_ER5  Index': False, 'use_FDTR  Index': False, 'use_GJTB3MO  Index': False, 'use_DU1  Index': True, 'use_RX1  Index': True, 'use_SX5E  Index': False, 'use_SX7E  Index': True, 'use_HSI  Index': True, 'use_EURUSD   Index': True, 'use_EURJPY   Index': True, 'use_EURGBP   Index': False, 'use_EURCHF   Index': False, 'use_CRY  Index': True, 'use_C 1  Index': True, 'use_NG1  Index': True, 'use_MOVE  Index': True, 'use_VIX  Index': True, 'use_GDP CQOQ Index': False, 'use_CPI XYOY  Index': False, 'use_NAPMPMI  Index': False, 'use_IP CHNG  Index': True, 'use_CPTICHNG  Index': True, 'use_USURTOT  Index': True, 'use_NFP TCH  Index': False, 'use_INJCJC  Index': False, 'use_LEI CHNG  Index': False, 'use_EUGNEMUY  Index': True, 'use_CPEXEMUY  Index': True, 'use_EUIPEMUY  Index': True, 'use_EUUCEMU  Index': False, 'use_GRZEEUEX  Index': False, 'use_UMRTEMU   Index': True, 'use_OLE3US  Index': False, 'use_OLE3EURA  Index': True, 'use_OLE3JAPA  Index': True, 'use_OLE3BRAZ  Index': False, 'use_OLE3INDI  Index': True, 'use_OLE3CHIN  Index': True, 'use_EBBSDEPF  Index': True, 'use_EBBSLONG  Index': False, 'use_ECMSM1Y  Index': False, 'use_ECMSM2Y  Index': True, 'use_.USDEUR02 U Index': False, 'use_.EURGBP02 U Index': False, 'use_.EURGBP10 U Index': True, 'use_EU 10Y-03M': False, 'use_US 10Y-03M': False, 'use_.EUR0210Y U Index': True, 'use_.EUR1030Y U Index': False, 'use_CS': False, 'use_HCS': True, 'use_INF': False, 'use_NFP': True, 'use_GLD': True, 'use_OIL': False, 'use_VIX': True, 'use_UMCSENT': True, 'use_GPR': False, 'use_INFCE1': True, 'use_INFE1': True, 'use_BEAR': False, 'use_BULL': True, 'use_UNC': True, 'use_CU_release': True, 'use_INF_release': True, 'use_NFP_release': False, 'use_PMI_release': True, 'use_UN_release': False}. Best is trial 3 with value: -0.6852602818521714.\n"
     ]
    },
    {
     "name": "stdout",
     "output_type": "stream",
     "text": [
      "[INFO] Generated 2 folds for forecast horizon 5\n"
     ]
    },
    {
     "name": "stderr",
     "output_type": "stream",
     "text": [
      "[I 2025-05-11 16:02:42,561] Trial 9 finished with value: -0.6972145793221988 and parameters: {'sequence_length': 1197, 'use_EUDR1T  Index': True, 'use_EUR009M  Index': True, 'use_ER1  Index': True, 'use_ER2  Index': False, 'use_ER3  Index': True, 'use_ER4  Index': False, 'use_ER5  Index': False, 'use_FDTR  Index': False, 'use_GJTB3MO  Index': True, 'use_DU1  Index': True, 'use_RX1  Index': False, 'use_SX5E  Index': False, 'use_SX7E  Index': False, 'use_HSI  Index': True, 'use_EURUSD   Index': False, 'use_EURJPY   Index': False, 'use_EURGBP   Index': True, 'use_EURCHF   Index': True, 'use_CRY  Index': False, 'use_C 1  Index': True, 'use_NG1  Index': False, 'use_MOVE  Index': True, 'use_VIX  Index': True, 'use_GDP CQOQ Index': True, 'use_CPI XYOY  Index': True, 'use_NAPMPMI  Index': True, 'use_IP CHNG  Index': False, 'use_CPTICHNG  Index': True, 'use_USURTOT  Index': True, 'use_NFP TCH  Index': False, 'use_INJCJC  Index': False, 'use_LEI CHNG  Index': False, 'use_EUGNEMUY  Index': False, 'use_CPEXEMUY  Index': False, 'use_EUIPEMUY  Index': False, 'use_EUUCEMU  Index': True, 'use_GRZEEUEX  Index': True, 'use_UMRTEMU   Index': True, 'use_OLE3US  Index': True, 'use_OLE3EURA  Index': True, 'use_OLE3JAPA  Index': False, 'use_OLE3BRAZ  Index': False, 'use_OLE3INDI  Index': False, 'use_OLE3CHIN  Index': False, 'use_EBBSDEPF  Index': False, 'use_EBBSLONG  Index': False, 'use_ECMSM1Y  Index': True, 'use_ECMSM2Y  Index': True, 'use_.USDEUR02 U Index': False, 'use_.EURGBP02 U Index': True, 'use_.EURGBP10 U Index': False, 'use_EU 10Y-03M': False, 'use_US 10Y-03M': True, 'use_.EUR0210Y U Index': True, 'use_.EUR1030Y U Index': False, 'use_CS': True, 'use_HCS': True, 'use_INF': True, 'use_NFP': False, 'use_GLD': False, 'use_OIL': False, 'use_VIX': False, 'use_UMCSENT': False, 'use_GPR': True, 'use_INFCE1': False, 'use_INFE1': True, 'use_BEAR': True, 'use_BULL': False, 'use_UNC': False, 'use_CU_release': True, 'use_INF_release': False, 'use_NFP_release': False, 'use_PMI_release': True, 'use_UN_release': False}. Best is trial 9 with value: -0.6972145793221988.\n"
     ]
    },
    {
     "name": "stdout",
     "output_type": "stream",
     "text": [
      "[INFO] Generated 1 folds for forecast horizon 5\n"
     ]
    },
    {
     "name": "stderr",
     "output_type": "stream",
     "text": [
      "[I 2025-05-11 16:02:43,076] Trial 10 finished with value: -0.5176470588235295 and parameters: {'sequence_length': 1512, 'use_EUDR1T  Index': True, 'use_EUR009M  Index': False, 'use_ER1  Index': True, 'use_ER2  Index': False, 'use_ER3  Index': True, 'use_ER4  Index': False, 'use_ER5  Index': True, 'use_FDTR  Index': False, 'use_GJTB3MO  Index': True, 'use_DU1  Index': True, 'use_RX1  Index': False, 'use_SX5E  Index': False, 'use_SX7E  Index': False, 'use_HSI  Index': True, 'use_EURUSD   Index': False, 'use_EURJPY   Index': False, 'use_EURGBP   Index': True, 'use_EURCHF   Index': True, 'use_CRY  Index': False, 'use_C 1  Index': False, 'use_NG1  Index': True, 'use_MOVE  Index': False, 'use_VIX  Index': True, 'use_GDP CQOQ Index': True, 'use_CPI XYOY  Index': True, 'use_NAPMPMI  Index': True, 'use_IP CHNG  Index': False, 'use_CPTICHNG  Index': False, 'use_USURTOT  Index': False, 'use_NFP TCH  Index': False, 'use_INJCJC  Index': True, 'use_LEI CHNG  Index': True, 'use_EUGNEMUY  Index': False, 'use_CPEXEMUY  Index': False, 'use_EUIPEMUY  Index': False, 'use_EUUCEMU  Index': True, 'use_GRZEEUEX  Index': True, 'use_UMRTEMU   Index': True, 'use_OLE3US  Index': True, 'use_OLE3EURA  Index': False, 'use_OLE3JAPA  Index': False, 'use_OLE3BRAZ  Index': False, 'use_OLE3INDI  Index': False, 'use_OLE3CHIN  Index': False, 'use_EBBSDEPF  Index': False, 'use_EBBSLONG  Index': False, 'use_ECMSM1Y  Index': True, 'use_ECMSM2Y  Index': True, 'use_.USDEUR02 U Index': True, 'use_.EURGBP02 U Index': True, 'use_.EURGBP10 U Index': False, 'use_EU 10Y-03M': False, 'use_US 10Y-03M': True, 'use_.EUR0210Y U Index': False, 'use_.EUR1030Y U Index': True, 'use_CS': True, 'use_HCS': True, 'use_INF': True, 'use_NFP': False, 'use_GLD': False, 'use_OIL': False, 'use_VIX': False, 'use_UMCSENT': False, 'use_GPR': True, 'use_INFCE1': False, 'use_INFE1': False, 'use_BEAR': True, 'use_BULL': False, 'use_UNC': False, 'use_CU_release': True, 'use_INF_release': False, 'use_NFP_release': True, 'use_PMI_release': False, 'use_UN_release': False}. Best is trial 9 with value: -0.6972145793221988.\n"
     ]
    },
    {
     "name": "stdout",
     "output_type": "stream",
     "text": [
      "[INFO] Generated 2 folds for forecast horizon 5\n"
     ]
    },
    {
     "name": "stderr",
     "output_type": "stream",
     "text": [
      "[I 2025-05-11 16:02:44,391] Trial 11 finished with value: -0.25 and parameters: {'sequence_length': 1071, 'use_EUDR1T  Index': True, 'use_EUR009M  Index': False, 'use_ER1  Index': False, 'use_ER2  Index': False, 'use_ER3  Index': False, 'use_ER4  Index': False, 'use_ER5  Index': False, 'use_FDTR  Index': True, 'use_GJTB3MO  Index': True, 'use_DU1  Index': True, 'use_RX1  Index': False, 'use_SX5E  Index': True, 'use_SX7E  Index': False, 'use_HSI  Index': False, 'use_EURUSD   Index': False, 'use_EURJPY   Index': False, 'use_EURGBP   Index': True, 'use_EURCHF   Index': True, 'use_CRY  Index': False, 'use_C 1  Index': False, 'use_NG1  Index': False, 'use_MOVE  Index': True, 'use_VIX  Index': False, 'use_GDP CQOQ Index': True, 'use_CPI XYOY  Index': False, 'use_NAPMPMI  Index': True, 'use_IP CHNG  Index': True, 'use_CPTICHNG  Index': False, 'use_USURTOT  Index': True, 'use_NFP TCH  Index': False, 'use_INJCJC  Index': True, 'use_LEI CHNG  Index': False, 'use_EUGNEMUY  Index': False, 'use_CPEXEMUY  Index': True, 'use_EUIPEMUY  Index': False, 'use_EUUCEMU  Index': False, 'use_GRZEEUEX  Index': True, 'use_UMRTEMU   Index': True, 'use_OLE3US  Index': True, 'use_OLE3EURA  Index': True, 'use_OLE3JAPA  Index': False, 'use_OLE3BRAZ  Index': False, 'use_OLE3INDI  Index': True, 'use_OLE3CHIN  Index': False, 'use_EBBSDEPF  Index': True, 'use_EBBSLONG  Index': True, 'use_ECMSM1Y  Index': True, 'use_ECMSM2Y  Index': True, 'use_.USDEUR02 U Index': False, 'use_.EURGBP02 U Index': True, 'use_.EURGBP10 U Index': False, 'use_EU 10Y-03M': False, 'use_US 10Y-03M': True, 'use_.EUR0210Y U Index': True, 'use_.EUR1030Y U Index': False, 'use_CS': True, 'use_HCS': True, 'use_INF': False, 'use_NFP': True, 'use_GLD': True, 'use_OIL': True, 'use_VIX': False, 'use_UMCSENT': True, 'use_GPR': True, 'use_INFCE1': False, 'use_INFE1': True, 'use_BEAR': False, 'use_BULL': False, 'use_UNC': False, 'use_CU_release': False, 'use_INF_release': False, 'use_NFP_release': False, 'use_PMI_release': True, 'use_UN_release': True}. Best is trial 9 with value: -0.6972145793221988.\n"
     ]
    },
    {
     "name": "stdout",
     "output_type": "stream",
     "text": [
      "[INFO] Generated 2 folds for forecast horizon 5\n"
     ]
    },
    {
     "name": "stderr",
     "output_type": "stream",
     "text": [
      "[I 2025-05-11 16:02:46,784] Trial 12 finished with value: -0.6972145793221988 and parameters: {'sequence_length': 1197, 'use_EUDR1T  Index': True, 'use_EUR009M  Index': False, 'use_ER1  Index': False, 'use_ER2  Index': False, 'use_ER3  Index': True, 'use_ER4  Index': True, 'use_ER5  Index': False, 'use_FDTR  Index': True, 'use_GJTB3MO  Index': True, 'use_DU1  Index': True, 'use_RX1  Index': True, 'use_SX5E  Index': True, 'use_SX7E  Index': False, 'use_HSI  Index': False, 'use_EURUSD   Index': False, 'use_EURJPY   Index': False, 'use_EURGBP   Index': True, 'use_EURCHF   Index': True, 'use_CRY  Index': False, 'use_C 1  Index': True, 'use_NG1  Index': False, 'use_MOVE  Index': True, 'use_VIX  Index': True, 'use_GDP CQOQ Index': True, 'use_CPI XYOY  Index': False, 'use_NAPMPMI  Index': False, 'use_IP CHNG  Index': True, 'use_CPTICHNG  Index': False, 'use_USURTOT  Index': True, 'use_NFP TCH  Index': False, 'use_INJCJC  Index': True, 'use_LEI CHNG  Index': False, 'use_EUGNEMUY  Index': False, 'use_CPEXEMUY  Index': True, 'use_EUIPEMUY  Index': False, 'use_EUUCEMU  Index': False, 'use_GRZEEUEX  Index': True, 'use_UMRTEMU   Index': True, 'use_OLE3US  Index': True, 'use_OLE3EURA  Index': True, 'use_OLE3JAPA  Index': False, 'use_OLE3BRAZ  Index': False, 'use_OLE3INDI  Index': True, 'use_OLE3CHIN  Index': False, 'use_EBBSDEPF  Index': True, 'use_EBBSLONG  Index': True, 'use_ECMSM1Y  Index': True, 'use_ECMSM2Y  Index': False, 'use_.USDEUR02 U Index': False, 'use_.EURGBP02 U Index': True, 'use_.EURGBP10 U Index': False, 'use_EU 10Y-03M': True, 'use_US 10Y-03M': True, 'use_.EUR0210Y U Index': True, 'use_.EUR1030Y U Index': False, 'use_CS': True, 'use_HCS': True, 'use_INF': True, 'use_NFP': True, 'use_GLD': True, 'use_OIL': True, 'use_VIX': False, 'use_UMCSENT': False, 'use_GPR': False, 'use_INFCE1': False, 'use_INFE1': True, 'use_BEAR': False, 'use_BULL': False, 'use_UNC': False, 'use_CU_release': False, 'use_INF_release': True, 'use_NFP_release': False, 'use_PMI_release': True, 'use_UN_release': True}. Best is trial 9 with value: -0.6972145793221988.\n"
     ]
    },
    {
     "name": "stdout",
     "output_type": "stream",
     "text": [
      "[INFO] Generated 1 folds for forecast horizon 5\n"
     ]
    },
    {
     "name": "stderr",
     "output_type": "stream",
     "text": [
      "[I 2025-05-11 16:02:47,275] Trial 13 finished with value: -0.5044510385756676 and parameters: {'sequence_length': 1449, 'use_EUDR1T  Index': True, 'use_EUR009M  Index': False, 'use_ER1  Index': False, 'use_ER2  Index': False, 'use_ER3  Index': True, 'use_ER4  Index': False, 'use_ER5  Index': False, 'use_FDTR  Index': True, 'use_GJTB3MO  Index': True, 'use_DU1  Index': True, 'use_RX1  Index': False, 'use_SX5E  Index': True, 'use_SX7E  Index': False, 'use_HSI  Index': False, 'use_EURUSD   Index': False, 'use_EURJPY   Index': False, 'use_EURGBP   Index': True, 'use_EURCHF   Index': True, 'use_CRY  Index': False, 'use_C 1  Index': True, 'use_NG1  Index': False, 'use_MOVE  Index': True, 'use_VIX  Index': True, 'use_GDP CQOQ Index': True, 'use_CPI XYOY  Index': False, 'use_NAPMPMI  Index': True, 'use_IP CHNG  Index': True, 'use_CPTICHNG  Index': False, 'use_USURTOT  Index': True, 'use_NFP TCH  Index': False, 'use_INJCJC  Index': True, 'use_LEI CHNG  Index': False, 'use_EUGNEMUY  Index': False, 'use_CPEXEMUY  Index': False, 'use_EUIPEMUY  Index': False, 'use_EUUCEMU  Index': True, 'use_GRZEEUEX  Index': True, 'use_UMRTEMU   Index': True, 'use_OLE3US  Index': True, 'use_OLE3EURA  Index': True, 'use_OLE3JAPA  Index': False, 'use_OLE3BRAZ  Index': False, 'use_OLE3INDI  Index': True, 'use_OLE3CHIN  Index': False, 'use_EBBSDEPF  Index': True, 'use_EBBSLONG  Index': False, 'use_ECMSM1Y  Index': True, 'use_ECMSM2Y  Index': True, 'use_.USDEUR02 U Index': False, 'use_.EURGBP02 U Index': True, 'use_.EURGBP10 U Index': False, 'use_EU 10Y-03M': False, 'use_US 10Y-03M': True, 'use_.EUR0210Y U Index': True, 'use_.EUR1030Y U Index': False, 'use_CS': True, 'use_HCS': True, 'use_INF': True, 'use_NFP': True, 'use_GLD': False, 'use_OIL': True, 'use_VIX': False, 'use_UMCSENT': False, 'use_GPR': True, 'use_INFCE1': False, 'use_INFE1': True, 'use_BEAR': True, 'use_BULL': False, 'use_UNC': False, 'use_CU_release': True, 'use_INF_release': False, 'use_NFP_release': False, 'use_PMI_release': True, 'use_UN_release': True}. Best is trial 9 with value: -0.6972145793221988.\n"
     ]
    },
    {
     "name": "stdout",
     "output_type": "stream",
     "text": [
      "[INFO] Generated 2 folds for forecast horizon 5\n"
     ]
    },
    {
     "name": "stderr",
     "output_type": "stream",
     "text": [
      "[I 2025-05-11 16:02:48,664] Trial 14 finished with value: -0.3862956882398687 and parameters: {'sequence_length': 1008, 'use_EUDR1T  Index': True, 'use_EUR009M  Index': True, 'use_ER1  Index': True, 'use_ER2  Index': False, 'use_ER3  Index': True, 'use_ER4  Index': True, 'use_ER5  Index': True, 'use_FDTR  Index': True, 'use_GJTB3MO  Index': True, 'use_DU1  Index': True, 'use_RX1  Index': True, 'use_SX5E  Index': False, 'use_SX7E  Index': False, 'use_HSI  Index': False, 'use_EURUSD   Index': False, 'use_EURJPY   Index': False, 'use_EURGBP   Index': True, 'use_EURCHF   Index': True, 'use_CRY  Index': False, 'use_C 1  Index': False, 'use_NG1  Index': True, 'use_MOVE  Index': False, 'use_VIX  Index': True, 'use_GDP CQOQ Index': True, 'use_CPI XYOY  Index': True, 'use_NAPMPMI  Index': False, 'use_IP CHNG  Index': False, 'use_CPTICHNG  Index': True, 'use_USURTOT  Index': True, 'use_NFP TCH  Index': False, 'use_INJCJC  Index': False, 'use_LEI CHNG  Index': False, 'use_EUGNEMUY  Index': False, 'use_CPEXEMUY  Index': False, 'use_EUIPEMUY  Index': False, 'use_EUUCEMU  Index': False, 'use_GRZEEUEX  Index': True, 'use_UMRTEMU   Index': True, 'use_OLE3US  Index': True, 'use_OLE3EURA  Index': True, 'use_OLE3JAPA  Index': False, 'use_OLE3BRAZ  Index': False, 'use_OLE3INDI  Index': False, 'use_OLE3CHIN  Index': False, 'use_EBBSDEPF  Index': False, 'use_EBBSLONG  Index': True, 'use_ECMSM1Y  Index': True, 'use_ECMSM2Y  Index': False, 'use_.USDEUR02 U Index': True, 'use_.EURGBP02 U Index': True, 'use_.EURGBP10 U Index': False, 'use_EU 10Y-03M': True, 'use_US 10Y-03M': True, 'use_.EUR0210Y U Index': True, 'use_.EUR1030Y U Index': False, 'use_CS': True, 'use_HCS': True, 'use_INF': True, 'use_NFP': False, 'use_GLD': True, 'use_OIL': True, 'use_VIX': False, 'use_UMCSENT': False, 'use_GPR': False, 'use_INFCE1': False, 'use_INFE1': False, 'use_BEAR': True, 'use_BULL': False, 'use_UNC': False, 'use_CU_release': False, 'use_INF_release': True, 'use_NFP_release': False, 'use_PMI_release': True, 'use_UN_release': True}. Best is trial 9 with value: -0.6972145793221988.\n"
     ]
    },
    {
     "name": "stdout",
     "output_type": "stream",
     "text": [
      "[INFO] Generated 2 folds for forecast horizon 5\n"
     ]
    },
    {
     "name": "stderr",
     "output_type": "stream",
     "text": [
      "[I 2025-05-11 16:02:50,179] Trial 15 finished with value: -0.5681702622212537 and parameters: {'sequence_length': 1134, 'use_EUDR1T  Index': True, 'use_EUR009M  Index': False, 'use_ER1  Index': False, 'use_ER2  Index': False, 'use_ER3  Index': True, 'use_ER4  Index': False, 'use_ER5  Index': False, 'use_FDTR  Index': False, 'use_GJTB3MO  Index': True, 'use_DU1  Index': True, 'use_RX1  Index': False, 'use_SX5E  Index': True, 'use_SX7E  Index': False, 'use_HSI  Index': True, 'use_EURUSD   Index': False, 'use_EURJPY   Index': False, 'use_EURGBP   Index': True, 'use_EURCHF   Index': True, 'use_CRY  Index': False, 'use_C 1  Index': True, 'use_NG1  Index': False, 'use_MOVE  Index': True, 'use_VIX  Index': True, 'use_GDP CQOQ Index': True, 'use_CPI XYOY  Index': False, 'use_NAPMPMI  Index': True, 'use_IP CHNG  Index': True, 'use_CPTICHNG  Index': False, 'use_USURTOT  Index': True, 'use_NFP TCH  Index': False, 'use_INJCJC  Index': True, 'use_LEI CHNG  Index': False, 'use_EUGNEMUY  Index': False, 'use_CPEXEMUY  Index': True, 'use_EUIPEMUY  Index': False, 'use_EUUCEMU  Index': True, 'use_GRZEEUEX  Index': True, 'use_UMRTEMU   Index': True, 'use_OLE3US  Index': True, 'use_OLE3EURA  Index': True, 'use_OLE3JAPA  Index': False, 'use_OLE3BRAZ  Index': False, 'use_OLE3INDI  Index': True, 'use_OLE3CHIN  Index': False, 'use_EBBSDEPF  Index': True, 'use_EBBSLONG  Index': False, 'use_ECMSM1Y  Index': True, 'use_ECMSM2Y  Index': True, 'use_.USDEUR02 U Index': False, 'use_.EURGBP02 U Index': True, 'use_.EURGBP10 U Index': False, 'use_EU 10Y-03M': False, 'use_US 10Y-03M': True, 'use_.EUR0210Y U Index': True, 'use_.EUR1030Y U Index': False, 'use_CS': True, 'use_HCS': True, 'use_INF': True, 'use_NFP': True, 'use_GLD': False, 'use_OIL': False, 'use_VIX': False, 'use_UMCSENT': False, 'use_GPR': True, 'use_INFCE1': False, 'use_INFE1': True, 'use_BEAR': False, 'use_BULL': False, 'use_UNC': False, 'use_CU_release': True, 'use_INF_release': False, 'use_NFP_release': False, 'use_PMI_release': True, 'use_UN_release': False}. Best is trial 9 with value: -0.6972145793221988.\n"
     ]
    },
    {
     "name": "stdout",
     "output_type": "stream",
     "text": [
      "[INFO] Generated 1 folds for forecast horizon 5\n"
     ]
    },
    {
     "name": "stderr",
     "output_type": "stream",
     "text": [
      "[I 2025-05-11 16:02:50,562] Trial 16 finished with value: -0.6288951841359773 and parameters: {'sequence_length': 1386, 'use_EUDR1T  Index': True, 'use_EUR009M  Index': False, 'use_ER1  Index': True, 'use_ER2  Index': False, 'use_ER3  Index': True, 'use_ER4  Index': True, 'use_ER5  Index': False, 'use_FDTR  Index': False, 'use_GJTB3MO  Index': True, 'use_DU1  Index': True, 'use_RX1  Index': True, 'use_SX5E  Index': True, 'use_SX7E  Index': False, 'use_HSI  Index': True, 'use_EURUSD   Index': False, 'use_EURJPY   Index': False, 'use_EURGBP   Index': True, 'use_EURCHF   Index': True, 'use_CRY  Index': False, 'use_C 1  Index': True, 'use_NG1  Index': False, 'use_MOVE  Index': True, 'use_VIX  Index': True, 'use_GDP CQOQ Index': True, 'use_CPI XYOY  Index': False, 'use_NAPMPMI  Index': False, 'use_IP CHNG  Index': False, 'use_CPTICHNG  Index': True, 'use_USURTOT  Index': True, 'use_NFP TCH  Index': False, 'use_INJCJC  Index': True, 'use_LEI CHNG  Index': False, 'use_EUGNEMUY  Index': False, 'use_CPEXEMUY  Index': True, 'use_EUIPEMUY  Index': False, 'use_EUUCEMU  Index': False, 'use_GRZEEUEX  Index': True, 'use_UMRTEMU   Index': True, 'use_OLE3US  Index': True, 'use_OLE3EURA  Index': True, 'use_OLE3JAPA  Index': False, 'use_OLE3BRAZ  Index': False, 'use_OLE3INDI  Index': False, 'use_OLE3CHIN  Index': False, 'use_EBBSDEPF  Index': True, 'use_EBBSLONG  Index': True, 'use_ECMSM1Y  Index': True, 'use_ECMSM2Y  Index': True, 'use_.USDEUR02 U Index': False, 'use_.EURGBP02 U Index': True, 'use_.EURGBP10 U Index': False, 'use_EU 10Y-03M': True, 'use_US 10Y-03M': True, 'use_.EUR0210Y U Index': True, 'use_.EUR1030Y U Index': False, 'use_CS': True, 'use_HCS': True, 'use_INF': True, 'use_NFP': True, 'use_GLD': False, 'use_OIL': False, 'use_VIX': False, 'use_UMCSENT': False, 'use_GPR': True, 'use_INFCE1': False, 'use_INFE1': True, 'use_BEAR': True, 'use_BULL': False, 'use_UNC': False, 'use_CU_release': False, 'use_INF_release': False, 'use_NFP_release': False, 'use_PMI_release': True, 'use_UN_release': False}. Best is trial 9 with value: -0.6972145793221988.\n"
     ]
    },
    {
     "name": "stdout",
     "output_type": "stream",
     "text": [
      "[INFO] Generated 2 folds for forecast horizon 5\n"
     ]
    },
    {
     "name": "stderr",
     "output_type": "stream",
     "text": [
      "[I 2025-05-11 16:02:54,823] Trial 17 finished with value: -0.14666666666666667 and parameters: {'sequence_length': 1260, 'use_EUDR1T  Index': True, 'use_EUR009M  Index': True, 'use_ER1  Index': False, 'use_ER2  Index': False, 'use_ER3  Index': True, 'use_ER4  Index': False, 'use_ER5  Index': False, 'use_FDTR  Index': True, 'use_GJTB3MO  Index': True, 'use_DU1  Index': True, 'use_RX1  Index': False, 'use_SX5E  Index': False, 'use_SX7E  Index': False, 'use_HSI  Index': False, 'use_EURUSD   Index': False, 'use_EURJPY   Index': False, 'use_EURGBP   Index': True, 'use_EURCHF   Index': True, 'use_CRY  Index': False, 'use_C 1  Index': True, 'use_NG1  Index': False, 'use_MOVE  Index': True, 'use_VIX  Index': True, 'use_GDP CQOQ Index': True, 'use_CPI XYOY  Index': True, 'use_NAPMPMI  Index': True, 'use_IP CHNG  Index': True, 'use_CPTICHNG  Index': False, 'use_USURTOT  Index': True, 'use_NFP TCH  Index': False, 'use_INJCJC  Index': False, 'use_LEI CHNG  Index': False, 'use_EUGNEMUY  Index': False, 'use_CPEXEMUY  Index': False, 'use_EUIPEMUY  Index': False, 'use_EUUCEMU  Index': True, 'use_GRZEEUEX  Index': True, 'use_UMRTEMU   Index': True, 'use_OLE3US  Index': True, 'use_OLE3EURA  Index': True, 'use_OLE3JAPA  Index': False, 'use_OLE3BRAZ  Index': False, 'use_OLE3INDI  Index': True, 'use_OLE3CHIN  Index': False, 'use_EBBSDEPF  Index': False, 'use_EBBSLONG  Index': False, 'use_ECMSM1Y  Index': True, 'use_ECMSM2Y  Index': False, 'use_.USDEUR02 U Index': False, 'use_.EURGBP02 U Index': True, 'use_.EURGBP10 U Index': False, 'use_EU 10Y-03M': False, 'use_US 10Y-03M': True, 'use_.EUR0210Y U Index': True, 'use_.EUR1030Y U Index': False, 'use_CS': True, 'use_HCS': True, 'use_INF': True, 'use_NFP': False, 'use_GLD': True, 'use_OIL': True, 'use_VIX': False, 'use_UMCSENT': False, 'use_GPR': False, 'use_INFCE1': False, 'use_INFE1': True, 'use_BEAR': False, 'use_BULL': False, 'use_UNC': False, 'use_CU_release': True, 'use_INF_release': True, 'use_NFP_release': False, 'use_PMI_release': True, 'use_UN_release': True}. Best is trial 9 with value: -0.6972145793221988.\n"
     ]
    },
    {
     "name": "stdout",
     "output_type": "stream",
     "text": [
      "[INFO] Generated 2 folds for forecast horizon 5\n"
     ]
    },
    {
     "name": "stderr",
     "output_type": "stream",
     "text": [
      "[I 2025-05-11 16:02:56,480] Trial 18 finished with value: -0.26296296296296295 and parameters: {'sequence_length': 1071, 'use_EUDR1T  Index': True, 'use_EUR009M  Index': True, 'use_ER1  Index': False, 'use_ER2  Index': True, 'use_ER3  Index': True, 'use_ER4  Index': False, 'use_ER5  Index': True, 'use_FDTR  Index': True, 'use_GJTB3MO  Index': True, 'use_DU1  Index': True, 'use_RX1  Index': True, 'use_SX5E  Index': True, 'use_SX7E  Index': False, 'use_HSI  Index': True, 'use_EURUSD   Index': False, 'use_EURJPY   Index': True, 'use_EURGBP   Index': True, 'use_EURCHF   Index': True, 'use_CRY  Index': True, 'use_C 1  Index': False, 'use_NG1  Index': True, 'use_MOVE  Index': False, 'use_VIX  Index': True, 'use_GDP CQOQ Index': True, 'use_CPI XYOY  Index': True, 'use_NAPMPMI  Index': False, 'use_IP CHNG  Index': True, 'use_CPTICHNG  Index': True, 'use_USURTOT  Index': False, 'use_NFP TCH  Index': True, 'use_INJCJC  Index': True, 'use_LEI CHNG  Index': True, 'use_EUGNEMUY  Index': False, 'use_CPEXEMUY  Index': False, 'use_EUIPEMUY  Index': False, 'use_EUUCEMU  Index': True, 'use_GRZEEUEX  Index': True, 'use_UMRTEMU   Index': False, 'use_OLE3US  Index': True, 'use_OLE3EURA  Index': False, 'use_OLE3JAPA  Index': False, 'use_OLE3BRAZ  Index': False, 'use_OLE3INDI  Index': False, 'use_OLE3CHIN  Index': False, 'use_EBBSDEPF  Index': True, 'use_EBBSLONG  Index': False, 'use_ECMSM1Y  Index': True, 'use_ECMSM2Y  Index': True, 'use_.USDEUR02 U Index': True, 'use_.EURGBP02 U Index': True, 'use_.EURGBP10 U Index': False, 'use_EU 10Y-03M': True, 'use_US 10Y-03M': True, 'use_.EUR0210Y U Index': False, 'use_.EUR1030Y U Index': True, 'use_CS': True, 'use_HCS': False, 'use_INF': True, 'use_NFP': False, 'use_GLD': True, 'use_OIL': True, 'use_VIX': False, 'use_UMCSENT': False, 'use_GPR': False, 'use_INFCE1': False, 'use_INFE1': False, 'use_BEAR': True, 'use_BULL': False, 'use_UNC': False, 'use_CU_release': False, 'use_INF_release': True, 'use_NFP_release': True, 'use_PMI_release': False, 'use_UN_release': True}. Best is trial 9 with value: -0.6972145793221988.\n"
     ]
    },
    {
     "name": "stdout",
     "output_type": "stream",
     "text": [
      "[INFO] Generated 2 folds for forecast horizon 5\n"
     ]
    },
    {
     "name": "stderr",
     "output_type": "stream",
     "text": [
      "[I 2025-05-11 16:02:58,319] Trial 19 finished with value: -0.6914609513739206 and parameters: {'sequence_length': 1197, 'use_EUDR1T  Index': True, 'use_EUR009M  Index': False, 'use_ER1  Index': True, 'use_ER2  Index': False, 'use_ER3  Index': True, 'use_ER4  Index': True, 'use_ER5  Index': False, 'use_FDTR  Index': False, 'use_GJTB3MO  Index': True, 'use_DU1  Index': True, 'use_RX1  Index': False, 'use_SX5E  Index': False, 'use_SX7E  Index': False, 'use_HSI  Index': False, 'use_EURUSD   Index': False, 'use_EURJPY   Index': False, 'use_EURGBP   Index': True, 'use_EURCHF   Index': True, 'use_CRY  Index': False, 'use_C 1  Index': True, 'use_NG1  Index': False, 'use_MOVE  Index': True, 'use_VIX  Index': True, 'use_GDP CQOQ Index': True, 'use_CPI XYOY  Index': False, 'use_NAPMPMI  Index': True, 'use_IP CHNG  Index': False, 'use_CPTICHNG  Index': False, 'use_USURTOT  Index': True, 'use_NFP TCH  Index': False, 'use_INJCJC  Index': False, 'use_LEI CHNG  Index': False, 'use_EUGNEMUY  Index': False, 'use_CPEXEMUY  Index': True, 'use_EUIPEMUY  Index': False, 'use_EUUCEMU  Index': False, 'use_GRZEEUEX  Index': True, 'use_UMRTEMU   Index': True, 'use_OLE3US  Index': True, 'use_OLE3EURA  Index': True, 'use_OLE3JAPA  Index': False, 'use_OLE3BRAZ  Index': False, 'use_OLE3INDI  Index': True, 'use_OLE3CHIN  Index': False, 'use_EBBSDEPF  Index': False, 'use_EBBSLONG  Index': True, 'use_ECMSM1Y  Index': True, 'use_ECMSM2Y  Index': False, 'use_.USDEUR02 U Index': False, 'use_.EURGBP02 U Index': True, 'use_.EURGBP10 U Index': False, 'use_EU 10Y-03M': False, 'use_US 10Y-03M': True, 'use_.EUR0210Y U Index': True, 'use_.EUR1030Y U Index': False, 'use_CS': True, 'use_HCS': True, 'use_INF': True, 'use_NFP': True, 'use_GLD': False, 'use_OIL': False, 'use_VIX': False, 'use_UMCSENT': False, 'use_GPR': True, 'use_INFCE1': False, 'use_INFE1': True, 'use_BEAR': False, 'use_BULL': False, 'use_UNC': False, 'use_CU_release': True, 'use_INF_release': False, 'use_NFP_release': False, 'use_PMI_release': True, 'use_UN_release': False}. Best is trial 9 with value: -0.6972145793221988.\n"
     ]
    },
    {
     "name": "stdout",
     "output_type": "stream",
     "text": [
      "[INFO] Generated 2 folds for forecast horizon 5\n"
     ]
    },
    {
     "name": "stderr",
     "output_type": "stream",
     "text": [
      "[I 2025-05-11 16:02:59,542] Trial 20 finished with value: -0.6443678011322964 and parameters: {'sequence_length': 1008, 'use_EUDR1T  Index': True, 'use_EUR009M  Index': True, 'use_ER1  Index': False, 'use_ER2  Index': False, 'use_ER3  Index': True, 'use_ER4  Index': False, 'use_ER5  Index': False, 'use_FDTR  Index': True, 'use_GJTB3MO  Index': True, 'use_DU1  Index': True, 'use_RX1  Index': False, 'use_SX5E  Index': True, 'use_SX7E  Index': False, 'use_HSI  Index': False, 'use_EURUSD   Index': False, 'use_EURJPY   Index': False, 'use_EURGBP   Index': True, 'use_EURCHF   Index': True, 'use_CRY  Index': False, 'use_C 1  Index': True, 'use_NG1  Index': False, 'use_MOVE  Index': True, 'use_VIX  Index': True, 'use_GDP CQOQ Index': True, 'use_CPI XYOY  Index': True, 'use_NAPMPMI  Index': False, 'use_IP CHNG  Index': False, 'use_CPTICHNG  Index': False, 'use_USURTOT  Index': True, 'use_NFP TCH  Index': False, 'use_INJCJC  Index': False, 'use_LEI CHNG  Index': False, 'use_EUGNEMUY  Index': False, 'use_CPEXEMUY  Index': False, 'use_EUIPEMUY  Index': False, 'use_EUUCEMU  Index': False, 'use_GRZEEUEX  Index': True, 'use_UMRTEMU   Index': True, 'use_OLE3US  Index': True, 'use_OLE3EURA  Index': True, 'use_OLE3JAPA  Index': False, 'use_OLE3BRAZ  Index': False, 'use_OLE3INDI  Index': False, 'use_OLE3CHIN  Index': False, 'use_EBBSDEPF  Index': False, 'use_EBBSLONG  Index': False, 'use_ECMSM1Y  Index': True, 'use_ECMSM2Y  Index': False, 'use_.USDEUR02 U Index': False, 'use_.EURGBP02 U Index': True, 'use_.EURGBP10 U Index': False, 'use_EU 10Y-03M': False, 'use_US 10Y-03M': True, 'use_.EUR0210Y U Index': True, 'use_.EUR1030Y U Index': False, 'use_CS': True, 'use_HCS': True, 'use_INF': True, 'use_NFP': True, 'use_GLD': True, 'use_OIL': True, 'use_VIX': False, 'use_UMCSENT': False, 'use_GPR': False, 'use_INFCE1': False, 'use_INFE1': True, 'use_BEAR': False, 'use_BULL': False, 'use_UNC': False, 'use_CU_release': True, 'use_INF_release': False, 'use_NFP_release': False, 'use_PMI_release': True, 'use_UN_release': True}. Best is trial 9 with value: -0.6972145793221988.\n"
     ]
    },
    {
     "name": "stdout",
     "output_type": "stream",
     "text": [
      "[INFO] Generated 2 folds for forecast horizon 5\n"
     ]
    },
    {
     "name": "stderr",
     "output_type": "stream",
     "text": [
      "[I 2025-05-11 16:03:01,446] Trial 21 finished with value: -0.6981487949703109 and parameters: {'sequence_length': 1197, 'use_EUDR1T  Index': True, 'use_EUR009M  Index': False, 'use_ER1  Index': True, 'use_ER2  Index': False, 'use_ER3  Index': True, 'use_ER4  Index': True, 'use_ER5  Index': False, 'use_FDTR  Index': False, 'use_GJTB3MO  Index': True, 'use_DU1  Index': True, 'use_RX1  Index': False, 'use_SX5E  Index': False, 'use_SX7E  Index': False, 'use_HSI  Index': False, 'use_EURUSD   Index': False, 'use_EURJPY   Index': False, 'use_EURGBP   Index': True, 'use_EURCHF   Index': True, 'use_CRY  Index': False, 'use_C 1  Index': True, 'use_NG1  Index': False, 'use_MOVE  Index': True, 'use_VIX  Index': True, 'use_GDP CQOQ Index': True, 'use_CPI XYOY  Index': False, 'use_NAPMPMI  Index': True, 'use_IP CHNG  Index': False, 'use_CPTICHNG  Index': False, 'use_USURTOT  Index': True, 'use_NFP TCH  Index': False, 'use_INJCJC  Index': False, 'use_LEI CHNG  Index': False, 'use_EUGNEMUY  Index': False, 'use_CPEXEMUY  Index': True, 'use_EUIPEMUY  Index': False, 'use_EUUCEMU  Index': False, 'use_GRZEEUEX  Index': True, 'use_UMRTEMU   Index': True, 'use_OLE3US  Index': True, 'use_OLE3EURA  Index': True, 'use_OLE3JAPA  Index': False, 'use_OLE3BRAZ  Index': False, 'use_OLE3INDI  Index': True, 'use_OLE3CHIN  Index': False, 'use_EBBSDEPF  Index': False, 'use_EBBSLONG  Index': True, 'use_ECMSM1Y  Index': True, 'use_ECMSM2Y  Index': False, 'use_.USDEUR02 U Index': False, 'use_.EURGBP02 U Index': True, 'use_.EURGBP10 U Index': False, 'use_EU 10Y-03M': False, 'use_US 10Y-03M': True, 'use_.EUR0210Y U Index': True, 'use_.EUR1030Y U Index': False, 'use_CS': True, 'use_HCS': True, 'use_INF': True, 'use_NFP': True, 'use_GLD': False, 'use_OIL': False, 'use_VIX': False, 'use_UMCSENT': False, 'use_GPR': True, 'use_INFCE1': False, 'use_INFE1': True, 'use_BEAR': False, 'use_BULL': False, 'use_UNC': False, 'use_CU_release': True, 'use_INF_release': False, 'use_NFP_release': False, 'use_PMI_release': True, 'use_UN_release': False}. Best is trial 21 with value: -0.6981487949703109.\n"
     ]
    },
    {
     "name": "stdout",
     "output_type": "stream",
     "text": [
      "[INFO] Generated 2 folds for forecast horizon 5\n"
     ]
    },
    {
     "name": "stderr",
     "output_type": "stream",
     "text": [
      "[I 2025-05-11 16:03:02,951] Trial 22 finished with value: -0.6972145793221988 and parameters: {'sequence_length': 1197, 'use_EUDR1T  Index': True, 'use_EUR009M  Index': False, 'use_ER1  Index': True, 'use_ER2  Index': False, 'use_ER3  Index': True, 'use_ER4  Index': True, 'use_ER5  Index': False, 'use_FDTR  Index': False, 'use_GJTB3MO  Index': True, 'use_DU1  Index': True, 'use_RX1  Index': False, 'use_SX5E  Index': False, 'use_SX7E  Index': False, 'use_HSI  Index': False, 'use_EURUSD   Index': False, 'use_EURJPY   Index': False, 'use_EURGBP   Index': True, 'use_EURCHF   Index': True, 'use_CRY  Index': False, 'use_C 1  Index': True, 'use_NG1  Index': False, 'use_MOVE  Index': True, 'use_VIX  Index': True, 'use_GDP CQOQ Index': True, 'use_CPI XYOY  Index': False, 'use_NAPMPMI  Index': True, 'use_IP CHNG  Index': False, 'use_CPTICHNG  Index': False, 'use_USURTOT  Index': True, 'use_NFP TCH  Index': False, 'use_INJCJC  Index': False, 'use_LEI CHNG  Index': False, 'use_EUGNEMUY  Index': False, 'use_CPEXEMUY  Index': True, 'use_EUIPEMUY  Index': False, 'use_EUUCEMU  Index': False, 'use_GRZEEUEX  Index': True, 'use_UMRTEMU   Index': True, 'use_OLE3US  Index': True, 'use_OLE3EURA  Index': True, 'use_OLE3JAPA  Index': False, 'use_OLE3BRAZ  Index': False, 'use_OLE3INDI  Index': True, 'use_OLE3CHIN  Index': False, 'use_EBBSDEPF  Index': False, 'use_EBBSLONG  Index': True, 'use_ECMSM1Y  Index': True, 'use_ECMSM2Y  Index': False, 'use_.USDEUR02 U Index': False, 'use_.EURGBP02 U Index': True, 'use_.EURGBP10 U Index': False, 'use_EU 10Y-03M': False, 'use_US 10Y-03M': True, 'use_.EUR0210Y U Index': True, 'use_.EUR1030Y U Index': False, 'use_CS': True, 'use_HCS': True, 'use_INF': True, 'use_NFP': True, 'use_GLD': False, 'use_OIL': False, 'use_VIX': False, 'use_UMCSENT': False, 'use_GPR': True, 'use_INFCE1': False, 'use_INFE1': True, 'use_BEAR': False, 'use_BULL': False, 'use_UNC': False, 'use_CU_release': True, 'use_INF_release': False, 'use_NFP_release': False, 'use_PMI_release': True, 'use_UN_release': False}. Best is trial 21 with value: -0.6981487949703109.\n"
     ]
    },
    {
     "name": "stdout",
     "output_type": "stream",
     "text": [
      "[INFO] Generated 2 folds for forecast horizon 5\n"
     ]
    },
    {
     "name": "stderr",
     "output_type": "stream",
     "text": [
      "[I 2025-05-11 16:03:04,748] Trial 23 finished with value: -0.6078410111837418 and parameters: {'sequence_length': 1323, 'use_EUDR1T  Index': True, 'use_EUR009M  Index': False, 'use_ER1  Index': True, 'use_ER2  Index': False, 'use_ER3  Index': True, 'use_ER4  Index': True, 'use_ER5  Index': False, 'use_FDTR  Index': False, 'use_GJTB3MO  Index': True, 'use_DU1  Index': True, 'use_RX1  Index': False, 'use_SX5E  Index': False, 'use_SX7E  Index': False, 'use_HSI  Index': False, 'use_EURUSD   Index': False, 'use_EURJPY   Index': False, 'use_EURGBP   Index': True, 'use_EURCHF   Index': True, 'use_CRY  Index': False, 'use_C 1  Index': True, 'use_NG1  Index': False, 'use_MOVE  Index': True, 'use_VIX  Index': True, 'use_GDP CQOQ Index': True, 'use_CPI XYOY  Index': False, 'use_NAPMPMI  Index': True, 'use_IP CHNG  Index': False, 'use_CPTICHNG  Index': False, 'use_USURTOT  Index': True, 'use_NFP TCH  Index': False, 'use_INJCJC  Index': False, 'use_LEI CHNG  Index': False, 'use_EUGNEMUY  Index': False, 'use_CPEXEMUY  Index': True, 'use_EUIPEMUY  Index': False, 'use_EUUCEMU  Index': False, 'use_GRZEEUEX  Index': True, 'use_UMRTEMU   Index': True, 'use_OLE3US  Index': True, 'use_OLE3EURA  Index': True, 'use_OLE3JAPA  Index': False, 'use_OLE3BRAZ  Index': False, 'use_OLE3INDI  Index': True, 'use_OLE3CHIN  Index': False, 'use_EBBSDEPF  Index': False, 'use_EBBSLONG  Index': True, 'use_ECMSM1Y  Index': True, 'use_ECMSM2Y  Index': False, 'use_.USDEUR02 U Index': False, 'use_.EURGBP02 U Index': True, 'use_.EURGBP10 U Index': False, 'use_EU 10Y-03M': False, 'use_US 10Y-03M': True, 'use_.EUR0210Y U Index': True, 'use_.EUR1030Y U Index': False, 'use_CS': True, 'use_HCS': True, 'use_INF': True, 'use_NFP': True, 'use_GLD': False, 'use_OIL': False, 'use_VIX': False, 'use_UMCSENT': False, 'use_GPR': True, 'use_INFCE1': False, 'use_INFE1': True, 'use_BEAR': False, 'use_BULL': False, 'use_UNC': False, 'use_CU_release': True, 'use_INF_release': False, 'use_NFP_release': False, 'use_PMI_release': True, 'use_UN_release': False}. Best is trial 21 with value: -0.6981487949703109.\n"
     ]
    },
    {
     "name": "stdout",
     "output_type": "stream",
     "text": [
      "[INFO] Generated 2 folds for forecast horizon 5\n"
     ]
    },
    {
     "name": "stderr",
     "output_type": "stream",
     "text": [
      "[I 2025-05-11 16:03:06,218] Trial 24 finished with value: -0.30996309963099633 and parameters: {'sequence_length': 1134, 'use_EUDR1T  Index': True, 'use_EUR009M  Index': False, 'use_ER1  Index': True, 'use_ER2  Index': False, 'use_ER3  Index': True, 'use_ER4  Index': True, 'use_ER5  Index': False, 'use_FDTR  Index': False, 'use_GJTB3MO  Index': True, 'use_DU1  Index': True, 'use_RX1  Index': False, 'use_SX5E  Index': False, 'use_SX7E  Index': False, 'use_HSI  Index': False, 'use_EURUSD   Index': False, 'use_EURJPY   Index': False, 'use_EURGBP   Index': True, 'use_EURCHF   Index': True, 'use_CRY  Index': False, 'use_C 1  Index': True, 'use_NG1  Index': False, 'use_MOVE  Index': True, 'use_VIX  Index': True, 'use_GDP CQOQ Index': True, 'use_CPI XYOY  Index': False, 'use_NAPMPMI  Index': True, 'use_IP CHNG  Index': False, 'use_CPTICHNG  Index': False, 'use_USURTOT  Index': True, 'use_NFP TCH  Index': False, 'use_INJCJC  Index': False, 'use_LEI CHNG  Index': False, 'use_EUGNEMUY  Index': False, 'use_CPEXEMUY  Index': True, 'use_EUIPEMUY  Index': False, 'use_EUUCEMU  Index': False, 'use_GRZEEUEX  Index': True, 'use_UMRTEMU   Index': True, 'use_OLE3US  Index': True, 'use_OLE3EURA  Index': True, 'use_OLE3JAPA  Index': False, 'use_OLE3BRAZ  Index': False, 'use_OLE3INDI  Index': True, 'use_OLE3CHIN  Index': False, 'use_EBBSDEPF  Index': False, 'use_EBBSLONG  Index': True, 'use_ECMSM1Y  Index': True, 'use_ECMSM2Y  Index': False, 'use_.USDEUR02 U Index': False, 'use_.EURGBP02 U Index': True, 'use_.EURGBP10 U Index': False, 'use_EU 10Y-03M': False, 'use_US 10Y-03M': True, 'use_.EUR0210Y U Index': True, 'use_.EUR1030Y U Index': False, 'use_CS': True, 'use_HCS': True, 'use_INF': True, 'use_NFP': True, 'use_GLD': False, 'use_OIL': False, 'use_VIX': False, 'use_UMCSENT': False, 'use_GPR': True, 'use_INFCE1': False, 'use_INFE1': True, 'use_BEAR': False, 'use_BULL': False, 'use_UNC': False, 'use_CU_release': True, 'use_INF_release': False, 'use_NFP_release': False, 'use_PMI_release': True, 'use_UN_release': False}. Best is trial 21 with value: -0.6981487949703109.\n"
     ]
    },
    {
     "name": "stdout",
     "output_type": "stream",
     "text": [
      "[INFO] Generated 2 folds for forecast horizon 5\n"
     ]
    },
    {
     "name": "stderr",
     "output_type": "stream",
     "text": [
      "[I 2025-05-11 16:03:07,820] Trial 25 finished with value: -0.422463768115942 and parameters: {'sequence_length': 1260, 'use_EUDR1T  Index': True, 'use_EUR009M  Index': False, 'use_ER1  Index': True, 'use_ER2  Index': False, 'use_ER3  Index': True, 'use_ER4  Index': True, 'use_ER5  Index': False, 'use_FDTR  Index': False, 'use_GJTB3MO  Index': True, 'use_DU1  Index': True, 'use_RX1  Index': False, 'use_SX5E  Index': False, 'use_SX7E  Index': False, 'use_HSI  Index': False, 'use_EURUSD   Index': False, 'use_EURJPY   Index': False, 'use_EURGBP   Index': True, 'use_EURCHF   Index': True, 'use_CRY  Index': False, 'use_C 1  Index': True, 'use_NG1  Index': False, 'use_MOVE  Index': True, 'use_VIX  Index': True, 'use_GDP CQOQ Index': True, 'use_CPI XYOY  Index': False, 'use_NAPMPMI  Index': True, 'use_IP CHNG  Index': False, 'use_CPTICHNG  Index': False, 'use_USURTOT  Index': True, 'use_NFP TCH  Index': False, 'use_INJCJC  Index': False, 'use_LEI CHNG  Index': False, 'use_EUGNEMUY  Index': False, 'use_CPEXEMUY  Index': True, 'use_EUIPEMUY  Index': False, 'use_EUUCEMU  Index': False, 'use_GRZEEUEX  Index': True, 'use_UMRTEMU   Index': True, 'use_OLE3US  Index': True, 'use_OLE3EURA  Index': True, 'use_OLE3JAPA  Index': False, 'use_OLE3BRAZ  Index': False, 'use_OLE3INDI  Index': True, 'use_OLE3CHIN  Index': False, 'use_EBBSDEPF  Index': False, 'use_EBBSLONG  Index': True, 'use_ECMSM1Y  Index': True, 'use_ECMSM2Y  Index': False, 'use_.USDEUR02 U Index': False, 'use_.EURGBP02 U Index': True, 'use_.EURGBP10 U Index': False, 'use_EU 10Y-03M': False, 'use_US 10Y-03M': True, 'use_.EUR0210Y U Index': True, 'use_.EUR1030Y U Index': False, 'use_CS': True, 'use_HCS': True, 'use_INF': True, 'use_NFP': True, 'use_GLD': False, 'use_OIL': False, 'use_VIX': False, 'use_UMCSENT': False, 'use_GPR': True, 'use_INFCE1': False, 'use_INFE1': True, 'use_BEAR': False, 'use_BULL': False, 'use_UNC': False, 'use_CU_release': True, 'use_INF_release': False, 'use_NFP_release': False, 'use_PMI_release': True, 'use_UN_release': False}. Best is trial 21 with value: -0.6981487949703109.\n"
     ]
    },
    {
     "name": "stdout",
     "output_type": "stream",
     "text": [
      "[INFO] Generated 1 folds for forecast horizon 5\n"
     ]
    },
    {
     "name": "stderr",
     "output_type": "stream",
     "text": [
      "[I 2025-05-11 16:03:08,627] Trial 26 finished with value: -0.6089385474860335 and parameters: {'sequence_length': 1386, 'use_EUDR1T  Index': True, 'use_EUR009M  Index': False, 'use_ER1  Index': True, 'use_ER2  Index': True, 'use_ER3  Index': True, 'use_ER4  Index': True, 'use_ER5  Index': True, 'use_FDTR  Index': False, 'use_GJTB3MO  Index': True, 'use_DU1  Index': True, 'use_RX1  Index': True, 'use_SX5E  Index': False, 'use_SX7E  Index': True, 'use_HSI  Index': True, 'use_EURUSD   Index': True, 'use_EURJPY   Index': True, 'use_EURGBP   Index': True, 'use_EURCHF   Index': False, 'use_CRY  Index': True, 'use_C 1  Index': False, 'use_NG1  Index': True, 'use_MOVE  Index': False, 'use_VIX  Index': True, 'use_GDP CQOQ Index': False, 'use_CPI XYOY  Index': False, 'use_NAPMPMI  Index': True, 'use_IP CHNG  Index': True, 'use_CPTICHNG  Index': True, 'use_USURTOT  Index': False, 'use_NFP TCH  Index': True, 'use_INJCJC  Index': True, 'use_LEI CHNG  Index': True, 'use_EUGNEMUY  Index': False, 'use_CPEXEMUY  Index': True, 'use_EUIPEMUY  Index': True, 'use_EUUCEMU  Index': True, 'use_GRZEEUEX  Index': True, 'use_UMRTEMU   Index': False, 'use_OLE3US  Index': False, 'use_OLE3EURA  Index': False, 'use_OLE3JAPA  Index': False, 'use_OLE3BRAZ  Index': False, 'use_OLE3INDI  Index': True, 'use_OLE3CHIN  Index': False, 'use_EBBSDEPF  Index': True, 'use_EBBSLONG  Index': True, 'use_ECMSM1Y  Index': True, 'use_ECMSM2Y  Index': True, 'use_.USDEUR02 U Index': True, 'use_.EURGBP02 U Index': True, 'use_.EURGBP10 U Index': False, 'use_EU 10Y-03M': True, 'use_US 10Y-03M': False, 'use_.EUR0210Y U Index': False, 'use_.EUR1030Y U Index': True, 'use_CS': True, 'use_HCS': False, 'use_INF': True, 'use_NFP': False, 'use_GLD': False, 'use_OIL': False, 'use_VIX': False, 'use_UMCSENT': False, 'use_GPR': True, 'use_INFCE1': True, 'use_INFE1': False, 'use_BEAR': True, 'use_BULL': True, 'use_UNC': True, 'use_CU_release': False, 'use_INF_release': True, 'use_NFP_release': True, 'use_PMI_release': False, 'use_UN_release': False}. Best is trial 21 with value: -0.6981487949703109.\n"
     ]
    },
    {
     "name": "stdout",
     "output_type": "stream",
     "text": [
      "[INFO] Generated 2 folds for forecast horizon 5\n"
     ]
    },
    {
     "name": "stderr",
     "output_type": "stream",
     "text": [
      "[I 2025-05-11 16:03:10,010] Trial 27 finished with value: -0.30982905982905984 and parameters: {'sequence_length': 1071, 'use_EUDR1T  Index': True, 'use_EUR009M  Index': False, 'use_ER1  Index': True, 'use_ER2  Index': False, 'use_ER3  Index': True, 'use_ER4  Index': True, 'use_ER5  Index': False, 'use_FDTR  Index': False, 'use_GJTB3MO  Index': True, 'use_DU1  Index': True, 'use_RX1  Index': False, 'use_SX5E  Index': False, 'use_SX7E  Index': False, 'use_HSI  Index': False, 'use_EURUSD   Index': False, 'use_EURJPY   Index': False, 'use_EURGBP   Index': True, 'use_EURCHF   Index': True, 'use_CRY  Index': False, 'use_C 1  Index': True, 'use_NG1  Index': False, 'use_MOVE  Index': True, 'use_VIX  Index': True, 'use_GDP CQOQ Index': True, 'use_CPI XYOY  Index': False, 'use_NAPMPMI  Index': True, 'use_IP CHNG  Index': False, 'use_CPTICHNG  Index': False, 'use_USURTOT  Index': True, 'use_NFP TCH  Index': False, 'use_INJCJC  Index': False, 'use_LEI CHNG  Index': False, 'use_EUGNEMUY  Index': False, 'use_CPEXEMUY  Index': True, 'use_EUIPEMUY  Index': False, 'use_EUUCEMU  Index': False, 'use_GRZEEUEX  Index': True, 'use_UMRTEMU   Index': True, 'use_OLE3US  Index': True, 'use_OLE3EURA  Index': True, 'use_OLE3JAPA  Index': False, 'use_OLE3BRAZ  Index': False, 'use_OLE3INDI  Index': True, 'use_OLE3CHIN  Index': False, 'use_EBBSDEPF  Index': False, 'use_EBBSLONG  Index': True, 'use_ECMSM1Y  Index': True, 'use_ECMSM2Y  Index': False, 'use_.USDEUR02 U Index': False, 'use_.EURGBP02 U Index': True, 'use_.EURGBP10 U Index': False, 'use_EU 10Y-03M': False, 'use_US 10Y-03M': True, 'use_.EUR0210Y U Index': True, 'use_.EUR1030Y U Index': False, 'use_CS': True, 'use_HCS': True, 'use_INF': True, 'use_NFP': True, 'use_GLD': False, 'use_OIL': False, 'use_VIX': False, 'use_UMCSENT': False, 'use_GPR': True, 'use_INFCE1': False, 'use_INFE1': True, 'use_BEAR': False, 'use_BULL': False, 'use_UNC': False, 'use_CU_release': True, 'use_INF_release': False, 'use_NFP_release': False, 'use_PMI_release': True, 'use_UN_release': False}. Best is trial 21 with value: -0.6981487949703109.\n"
     ]
    },
    {
     "name": "stdout",
     "output_type": "stream",
     "text": [
      "[INFO] Generated 2 folds for forecast horizon 5\n"
     ]
    },
    {
     "name": "stderr",
     "output_type": "stream",
     "text": [
      "[I 2025-05-11 16:03:11,921] Trial 28 finished with value: -0.6972145793221988 and parameters: {'sequence_length': 1197, 'use_EUDR1T  Index': True, 'use_EUR009M  Index': True, 'use_ER1  Index': False, 'use_ER2  Index': False, 'use_ER3  Index': True, 'use_ER4  Index': False, 'use_ER5  Index': False, 'use_FDTR  Index': True, 'use_GJTB3MO  Index': True, 'use_DU1  Index': True, 'use_RX1  Index': True, 'use_SX5E  Index': True, 'use_SX7E  Index': False, 'use_HSI  Index': True, 'use_EURUSD   Index': False, 'use_EURJPY   Index': False, 'use_EURGBP   Index': True, 'use_EURCHF   Index': True, 'use_CRY  Index': False, 'use_C 1  Index': True, 'use_NG1  Index': False, 'use_MOVE  Index': True, 'use_VIX  Index': True, 'use_GDP CQOQ Index': True, 'use_CPI XYOY  Index': True, 'use_NAPMPMI  Index': False, 'use_IP CHNG  Index': True, 'use_CPTICHNG  Index': True, 'use_USURTOT  Index': True, 'use_NFP TCH  Index': False, 'use_INJCJC  Index': True, 'use_LEI CHNG  Index': False, 'use_EUGNEMUY  Index': False, 'use_CPEXEMUY  Index': False, 'use_EUIPEMUY  Index': False, 'use_EUUCEMU  Index': True, 'use_GRZEEUEX  Index': True, 'use_UMRTEMU   Index': True, 'use_OLE3US  Index': True, 'use_OLE3EURA  Index': True, 'use_OLE3JAPA  Index': False, 'use_OLE3BRAZ  Index': False, 'use_OLE3INDI  Index': False, 'use_OLE3CHIN  Index': False, 'use_EBBSDEPF  Index': True, 'use_EBBSLONG  Index': False, 'use_ECMSM1Y  Index': True, 'use_ECMSM2Y  Index': True, 'use_.USDEUR02 U Index': False, 'use_.EURGBP02 U Index': True, 'use_.EURGBP10 U Index': False, 'use_EU 10Y-03M': True, 'use_US 10Y-03M': True, 'use_.EUR0210Y U Index': True, 'use_.EUR1030Y U Index': False, 'use_CS': True, 'use_HCS': True, 'use_INF': True, 'use_NFP': False, 'use_GLD': True, 'use_OIL': True, 'use_VIX': False, 'use_UMCSENT': False, 'use_GPR': False, 'use_INFCE1': False, 'use_INFE1': True, 'use_BEAR': True, 'use_BULL': False, 'use_UNC': False, 'use_CU_release': False, 'use_INF_release': True, 'use_NFP_release': False, 'use_PMI_release': True, 'use_UN_release': True}. Best is trial 21 with value: -0.6981487949703109.\n"
     ]
    },
    {
     "name": "stdout",
     "output_type": "stream",
     "text": [
      "[INFO] Generated 2 folds for forecast horizon 5\n"
     ]
    },
    {
     "name": "stderr",
     "output_type": "stream",
     "text": [
      "[I 2025-05-11 16:03:13,955] Trial 29 finished with value: -0.6503804299743431 and parameters: {'sequence_length': 1008, 'use_EUDR1T  Index': True, 'use_EUR009M  Index': True, 'use_ER1  Index': False, 'use_ER2  Index': False, 'use_ER3  Index': False, 'use_ER4  Index': False, 'use_ER5  Index': False, 'use_FDTR  Index': True, 'use_GJTB3MO  Index': False, 'use_DU1  Index': False, 'use_RX1  Index': False, 'use_SX5E  Index': True, 'use_SX7E  Index': True, 'use_HSI  Index': False, 'use_EURUSD   Index': False, 'use_EURJPY   Index': False, 'use_EURGBP   Index': True, 'use_EURCHF   Index': True, 'use_CRY  Index': False, 'use_C 1  Index': True, 'use_NG1  Index': True, 'use_MOVE  Index': True, 'use_VIX  Index': False, 'use_GDP CQOQ Index': False, 'use_CPI XYOY  Index': True, 'use_NAPMPMI  Index': False, 'use_IP CHNG  Index': True, 'use_CPTICHNG  Index': False, 'use_USURTOT  Index': False, 'use_NFP TCH  Index': False, 'use_INJCJC  Index': True, 'use_LEI CHNG  Index': False, 'use_EUGNEMUY  Index': True, 'use_CPEXEMUY  Index': False, 'use_EUIPEMUY  Index': False, 'use_EUUCEMU  Index': True, 'use_GRZEEUEX  Index': True, 'use_UMRTEMU   Index': True, 'use_OLE3US  Index': False, 'use_OLE3EURA  Index': False, 'use_OLE3JAPA  Index': False, 'use_OLE3BRAZ  Index': True, 'use_OLE3INDI  Index': True, 'use_OLE3CHIN  Index': False, 'use_EBBSDEPF  Index': False, 'use_EBBSLONG  Index': True, 'use_ECMSM1Y  Index': False, 'use_ECMSM2Y  Index': False, 'use_.USDEUR02 U Index': False, 'use_.EURGBP02 U Index': True, 'use_.EURGBP10 U Index': False, 'use_EU 10Y-03M': False, 'use_US 10Y-03M': False, 'use_.EUR0210Y U Index': True, 'use_.EUR1030Y U Index': False, 'use_CS': True, 'use_HCS': True, 'use_INF': True, 'use_NFP': True, 'use_GLD': False, 'use_OIL': True, 'use_VIX': True, 'use_UMCSENT': False, 'use_GPR': True, 'use_INFCE1': True, 'use_INFE1': False, 'use_BEAR': False, 'use_BULL': False, 'use_UNC': False, 'use_CU_release': False, 'use_INF_release': True, 'use_NFP_release': False, 'use_PMI_release': True, 'use_UN_release': True}. Best is trial 21 with value: -0.6981487949703109.\n",
      "[I 2025-05-11 16:03:13,964] A new study created in memory with name: no-name-3ec00bd5-0bd1-4212-87e3-f480cd4f361b\n"
     ]
    },
    {
     "name": "stdout",
     "output_type": "stream",
     "text": [
      "[RESULT] Horizon 5: Best Params = {'sequence_length': 1197, 'use_EUDR1T  Index': True, 'use_EUR009M  Index': False, 'use_ER1  Index': True, 'use_ER2  Index': False, 'use_ER3  Index': True, 'use_ER4  Index': True, 'use_ER5  Index': False, 'use_FDTR  Index': False, 'use_GJTB3MO  Index': True, 'use_DU1  Index': True, 'use_RX1  Index': False, 'use_SX5E  Index': False, 'use_SX7E  Index': False, 'use_HSI  Index': False, 'use_EURUSD   Index': False, 'use_EURJPY   Index': False, 'use_EURGBP   Index': True, 'use_EURCHF   Index': True, 'use_CRY  Index': False, 'use_C 1  Index': True, 'use_NG1  Index': False, 'use_MOVE  Index': True, 'use_VIX  Index': True, 'use_GDP CQOQ Index': True, 'use_CPI XYOY  Index': False, 'use_NAPMPMI  Index': True, 'use_IP CHNG  Index': False, 'use_CPTICHNG  Index': False, 'use_USURTOT  Index': True, 'use_NFP TCH  Index': False, 'use_INJCJC  Index': False, 'use_LEI CHNG  Index': False, 'use_EUGNEMUY  Index': False, 'use_CPEXEMUY  Index': True, 'use_EUIPEMUY  Index': False, 'use_EUUCEMU  Index': False, 'use_GRZEEUEX  Index': True, 'use_UMRTEMU   Index': True, 'use_OLE3US  Index': True, 'use_OLE3EURA  Index': True, 'use_OLE3JAPA  Index': False, 'use_OLE3BRAZ  Index': False, 'use_OLE3INDI  Index': True, 'use_OLE3CHIN  Index': False, 'use_EBBSDEPF  Index': False, 'use_EBBSLONG  Index': True, 'use_ECMSM1Y  Index': True, 'use_ECMSM2Y  Index': False, 'use_.USDEUR02 U Index': False, 'use_.EURGBP02 U Index': True, 'use_.EURGBP10 U Index': False, 'use_EU 10Y-03M': False, 'use_US 10Y-03M': True, 'use_.EUR0210Y U Index': True, 'use_.EUR1030Y U Index': False, 'use_CS': True, 'use_HCS': True, 'use_INF': True, 'use_NFP': True, 'use_GLD': False, 'use_OIL': False, 'use_VIX': False, 'use_UMCSENT': False, 'use_GPR': True, 'use_INFCE1': False, 'use_INFE1': True, 'use_BEAR': False, 'use_BULL': False, 'use_UNC': False, 'use_CU_release': True, 'use_INF_release': False, 'use_NFP_release': False, 'use_PMI_release': True, 'use_UN_release': False}, Best F1 = 0.6981\n",
      "\n",
      "=== Forecast Horizon: 21 ===\n",
      "[INFO] Generated 2 folds for forecast horizon 21\n"
     ]
    },
    {
     "name": "stderr",
     "output_type": "stream",
     "text": [
      "[I 2025-05-11 16:03:15,750] Trial 0 finished with value: -0.8273672687465791 and parameters: {'sequence_length': 1197, 'use_EUDR1T  Index': False, 'use_EUR009M  Index': True, 'use_ER1  Index': True, 'use_ER2  Index': True, 'use_ER3  Index': True, 'use_ER4  Index': False, 'use_ER5  Index': False, 'use_FDTR  Index': False, 'use_GJTB3MO  Index': False, 'use_DU1  Index': True, 'use_RX1  Index': False, 'use_SX5E  Index': False, 'use_SX7E  Index': True, 'use_HSI  Index': True, 'use_EURUSD   Index': False, 'use_EURJPY   Index': False, 'use_EURGBP   Index': True, 'use_EURCHF   Index': False, 'use_CRY  Index': False, 'use_C 1  Index': False, 'use_NG1  Index': True, 'use_MOVE  Index': True, 'use_VIX  Index': True, 'use_GDP CQOQ Index': True, 'use_CPI XYOY  Index': False, 'use_NAPMPMI  Index': True, 'use_IP CHNG  Index': False, 'use_CPTICHNG  Index': True, 'use_USURTOT  Index': True, 'use_NFP TCH  Index': True, 'use_INJCJC  Index': False, 'use_LEI CHNG  Index': False, 'use_EUGNEMUY  Index': True, 'use_CPEXEMUY  Index': False, 'use_EUIPEMUY  Index': False, 'use_EUUCEMU  Index': False, 'use_GRZEEUEX  Index': True, 'use_UMRTEMU   Index': False, 'use_OLE3US  Index': True, 'use_OLE3EURA  Index': False, 'use_OLE3JAPA  Index': True, 'use_OLE3BRAZ  Index': False, 'use_OLE3INDI  Index': False, 'use_OLE3CHIN  Index': False, 'use_EBBSDEPF  Index': True, 'use_EBBSLONG  Index': True, 'use_ECMSM1Y  Index': True, 'use_ECMSM2Y  Index': True, 'use_.USDEUR02 U Index': True, 'use_.EURGBP02 U Index': False, 'use_.EURGBP10 U Index': True, 'use_EU 10Y-03M': False, 'use_US 10Y-03M': False, 'use_.EUR0210Y U Index': True, 'use_.EUR1030Y U Index': False, 'use_CS': False, 'use_HCS': True, 'use_INF': True, 'use_NFP': False, 'use_GLD': False, 'use_OIL': True, 'use_VIX': False, 'use_UMCSENT': False, 'use_GPR': True, 'use_INFCE1': True, 'use_INFE1': True, 'use_BEAR': True, 'use_BULL': False, 'use_UNC': False, 'use_CU_release': False, 'use_INF_release': False, 'use_NFP_release': False, 'use_PMI_release': False, 'use_UN_release': False}. Best is trial 0 with value: -0.8273672687465791.\n"
     ]
    },
    {
     "name": "stdout",
     "output_type": "stream",
     "text": [
      "[INFO] Generated 2 folds for forecast horizon 21\n"
     ]
    },
    {
     "name": "stderr",
     "output_type": "stream",
     "text": [
      "[I 2025-05-11 16:03:18,079] Trial 1 finished with value: -0.7316224967022424 and parameters: {'sequence_length': 1323, 'use_EUDR1T  Index': False, 'use_EUR009M  Index': True, 'use_ER1  Index': True, 'use_ER2  Index': True, 'use_ER3  Index': False, 'use_ER4  Index': False, 'use_ER5  Index': True, 'use_FDTR  Index': True, 'use_GJTB3MO  Index': False, 'use_DU1  Index': True, 'use_RX1  Index': False, 'use_SX5E  Index': True, 'use_SX7E  Index': False, 'use_HSI  Index': False, 'use_EURUSD   Index': True, 'use_EURJPY   Index': True, 'use_EURGBP   Index': False, 'use_EURCHF   Index': True, 'use_CRY  Index': True, 'use_C 1  Index': True, 'use_NG1  Index': False, 'use_MOVE  Index': True, 'use_VIX  Index': False, 'use_GDP CQOQ Index': False, 'use_CPI XYOY  Index': True, 'use_NAPMPMI  Index': True, 'use_IP CHNG  Index': True, 'use_CPTICHNG  Index': False, 'use_USURTOT  Index': False, 'use_NFP TCH  Index': False, 'use_INJCJC  Index': True, 'use_LEI CHNG  Index': True, 'use_EUGNEMUY  Index': False, 'use_CPEXEMUY  Index': False, 'use_EUIPEMUY  Index': False, 'use_EUUCEMU  Index': False, 'use_GRZEEUEX  Index': False, 'use_UMRTEMU   Index': False, 'use_OLE3US  Index': False, 'use_OLE3EURA  Index': True, 'use_OLE3JAPA  Index': False, 'use_OLE3BRAZ  Index': False, 'use_OLE3INDI  Index': True, 'use_OLE3CHIN  Index': True, 'use_EBBSDEPF  Index': False, 'use_EBBSLONG  Index': True, 'use_ECMSM1Y  Index': False, 'use_ECMSM2Y  Index': True, 'use_.USDEUR02 U Index': True, 'use_.EURGBP02 U Index': True, 'use_.EURGBP10 U Index': True, 'use_EU 10Y-03M': True, 'use_US 10Y-03M': False, 'use_.EUR0210Y U Index': True, 'use_.EUR1030Y U Index': True, 'use_CS': True, 'use_HCS': False, 'use_INF': True, 'use_NFP': True, 'use_GLD': True, 'use_OIL': False, 'use_VIX': False, 'use_UMCSENT': True, 'use_GPR': False, 'use_INFCE1': True, 'use_INFE1': True, 'use_BEAR': False, 'use_BULL': False, 'use_UNC': False, 'use_CU_release': False, 'use_INF_release': True, 'use_NFP_release': True, 'use_PMI_release': False, 'use_UN_release': False}. Best is trial 0 with value: -0.8273672687465791.\n"
     ]
    },
    {
     "name": "stdout",
     "output_type": "stream",
     "text": [
      "[INFO] Generated 1 folds for forecast horizon 21\n"
     ]
    },
    {
     "name": "stderr",
     "output_type": "stream",
     "text": [
      "[I 2025-05-11 16:03:18,737] Trial 2 finished with value: -0.48135593220338985 and parameters: {'sequence_length': 1512, 'use_EUDR1T  Index': True, 'use_EUR009M  Index': False, 'use_ER1  Index': False, 'use_ER2  Index': False, 'use_ER3  Index': True, 'use_ER4  Index': False, 'use_ER5  Index': False, 'use_FDTR  Index': False, 'use_GJTB3MO  Index': False, 'use_DU1  Index': True, 'use_RX1  Index': False, 'use_SX5E  Index': False, 'use_SX7E  Index': True, 'use_HSI  Index': True, 'use_EURUSD   Index': False, 'use_EURJPY   Index': True, 'use_EURGBP   Index': True, 'use_EURCHF   Index': False, 'use_CRY  Index': True, 'use_C 1  Index': False, 'use_NG1  Index': False, 'use_MOVE  Index': True, 'use_VIX  Index': False, 'use_GDP CQOQ Index': False, 'use_CPI XYOY  Index': False, 'use_NAPMPMI  Index': True, 'use_IP CHNG  Index': True, 'use_CPTICHNG  Index': False, 'use_USURTOT  Index': True, 'use_NFP TCH  Index': True, 'use_INJCJC  Index': True, 'use_LEI CHNG  Index': False, 'use_EUGNEMUY  Index': False, 'use_CPEXEMUY  Index': False, 'use_EUIPEMUY  Index': True, 'use_EUUCEMU  Index': False, 'use_GRZEEUEX  Index': True, 'use_UMRTEMU   Index': False, 'use_OLE3US  Index': False, 'use_OLE3EURA  Index': True, 'use_OLE3JAPA  Index': False, 'use_OLE3BRAZ  Index': False, 'use_OLE3INDI  Index': False, 'use_OLE3CHIN  Index': False, 'use_EBBSDEPF  Index': True, 'use_EBBSLONG  Index': False, 'use_ECMSM1Y  Index': True, 'use_ECMSM2Y  Index': False, 'use_.USDEUR02 U Index': True, 'use_.EURGBP02 U Index': True, 'use_.EURGBP10 U Index': False, 'use_EU 10Y-03M': True, 'use_US 10Y-03M': False, 'use_.EUR0210Y U Index': False, 'use_.EUR1030Y U Index': False, 'use_CS': True, 'use_HCS': False, 'use_INF': True, 'use_NFP': False, 'use_GLD': False, 'use_OIL': False, 'use_VIX': False, 'use_UMCSENT': False, 'use_GPR': True, 'use_INFCE1': False, 'use_INFE1': True, 'use_BEAR': True, 'use_BULL': True, 'use_UNC': True, 'use_CU_release': False, 'use_INF_release': True, 'use_NFP_release': True, 'use_PMI_release': False, 'use_UN_release': False}. Best is trial 0 with value: -0.8273672687465791.\n"
     ]
    },
    {
     "name": "stdout",
     "output_type": "stream",
     "text": [
      "[INFO] Generated 2 folds for forecast horizon 21\n"
     ]
    },
    {
     "name": "stderr",
     "output_type": "stream",
     "text": [
      "[I 2025-05-11 16:03:20,074] Trial 3 finished with value: 0.0 and parameters: {'sequence_length': 1008, 'use_EUDR1T  Index': False, 'use_EUR009M  Index': False, 'use_ER1  Index': True, 'use_ER2  Index': True, 'use_ER3  Index': True, 'use_ER4  Index': True, 'use_ER5  Index': True, 'use_FDTR  Index': True, 'use_GJTB3MO  Index': True, 'use_DU1  Index': False, 'use_RX1  Index': False, 'use_SX5E  Index': True, 'use_SX7E  Index': False, 'use_HSI  Index': False, 'use_EURUSD   Index': False, 'use_EURJPY   Index': False, 'use_EURGBP   Index': False, 'use_EURCHF   Index': True, 'use_CRY  Index': False, 'use_C 1  Index': True, 'use_NG1  Index': True, 'use_MOVE  Index': False, 'use_VIX  Index': True, 'use_GDP CQOQ Index': False, 'use_CPI XYOY  Index': True, 'use_NAPMPMI  Index': False, 'use_IP CHNG  Index': True, 'use_CPTICHNG  Index': True, 'use_USURTOT  Index': False, 'use_NFP TCH  Index': False, 'use_INJCJC  Index': True, 'use_LEI CHNG  Index': True, 'use_EUGNEMUY  Index': False, 'use_CPEXEMUY  Index': True, 'use_EUIPEMUY  Index': True, 'use_EUUCEMU  Index': True, 'use_GRZEEUEX  Index': True, 'use_UMRTEMU   Index': True, 'use_OLE3US  Index': True, 'use_OLE3EURA  Index': True, 'use_OLE3JAPA  Index': False, 'use_OLE3BRAZ  Index': False, 'use_OLE3INDI  Index': False, 'use_OLE3CHIN  Index': True, 'use_EBBSDEPF  Index': True, 'use_EBBSLONG  Index': False, 'use_ECMSM1Y  Index': False, 'use_ECMSM2Y  Index': True, 'use_.USDEUR02 U Index': True, 'use_.EURGBP02 U Index': False, 'use_.EURGBP10 U Index': False, 'use_EU 10Y-03M': True, 'use_US 10Y-03M': False, 'use_.EUR0210Y U Index': True, 'use_.EUR1030Y U Index': True, 'use_CS': False, 'use_HCS': True, 'use_INF': False, 'use_NFP': True, 'use_GLD': True, 'use_OIL': False, 'use_VIX': True, 'use_UMCSENT': True, 'use_GPR': True, 'use_INFCE1': False, 'use_INFE1': False, 'use_BEAR': False, 'use_BULL': True, 'use_UNC': False, 'use_CU_release': True, 'use_INF_release': True, 'use_NFP_release': False, 'use_PMI_release': False, 'use_UN_release': True}. Best is trial 0 with value: -0.8273672687465791.\n"
     ]
    },
    {
     "name": "stdout",
     "output_type": "stream",
     "text": [
      "[INFO] Generated 1 folds for forecast horizon 21\n"
     ]
    },
    {
     "name": "stderr",
     "output_type": "stream",
     "text": [
      "[I 2025-05-11 16:03:20,485] Trial 4 finished with value: -0.5348837209302325 and parameters: {'sequence_length': 1386, 'use_EUDR1T  Index': False, 'use_EUR009M  Index': False, 'use_ER1  Index': False, 'use_ER2  Index': True, 'use_ER3  Index': True, 'use_ER4  Index': True, 'use_ER5  Index': True, 'use_FDTR  Index': False, 'use_GJTB3MO  Index': True, 'use_DU1  Index': True, 'use_RX1  Index': True, 'use_SX5E  Index': True, 'use_SX7E  Index': True, 'use_HSI  Index': False, 'use_EURUSD   Index': True, 'use_EURJPY   Index': True, 'use_EURGBP   Index': True, 'use_EURCHF   Index': True, 'use_CRY  Index': True, 'use_C 1  Index': True, 'use_NG1  Index': True, 'use_MOVE  Index': True, 'use_VIX  Index': False, 'use_GDP CQOQ Index': True, 'use_CPI XYOY  Index': False, 'use_NAPMPMI  Index': False, 'use_IP CHNG  Index': False, 'use_CPTICHNG  Index': False, 'use_USURTOT  Index': False, 'use_NFP TCH  Index': False, 'use_INJCJC  Index': True, 'use_LEI CHNG  Index': False, 'use_EUGNEMUY  Index': True, 'use_CPEXEMUY  Index': True, 'use_EUIPEMUY  Index': True, 'use_EUUCEMU  Index': False, 'use_GRZEEUEX  Index': False, 'use_UMRTEMU   Index': True, 'use_OLE3US  Index': False, 'use_OLE3EURA  Index': False, 'use_OLE3JAPA  Index': True, 'use_OLE3BRAZ  Index': True, 'use_OLE3INDI  Index': True, 'use_OLE3CHIN  Index': True, 'use_EBBSDEPF  Index': True, 'use_EBBSLONG  Index': True, 'use_ECMSM1Y  Index': True, 'use_ECMSM2Y  Index': False, 'use_.USDEUR02 U Index': True, 'use_.EURGBP02 U Index': True, 'use_.EURGBP10 U Index': False, 'use_EU 10Y-03M': True, 'use_US 10Y-03M': False, 'use_.EUR0210Y U Index': False, 'use_.EUR1030Y U Index': False, 'use_CS': True, 'use_HCS': True, 'use_INF': True, 'use_NFP': False, 'use_GLD': False, 'use_OIL': False, 'use_VIX': True, 'use_UMCSENT': True, 'use_GPR': True, 'use_INFCE1': True, 'use_INFE1': True, 'use_BEAR': False, 'use_BULL': False, 'use_UNC': False, 'use_CU_release': False, 'use_INF_release': True, 'use_NFP_release': False, 'use_PMI_release': False, 'use_UN_release': True}. Best is trial 0 with value: -0.8273672687465791.\n"
     ]
    },
    {
     "name": "stdout",
     "output_type": "stream",
     "text": [
      "[INFO] Generated 2 folds for forecast horizon 21\n"
     ]
    },
    {
     "name": "stderr",
     "output_type": "stream",
     "text": [
      "[I 2025-05-11 16:03:23,261] Trial 5 finished with value: -0.207392761025979 and parameters: {'sequence_length': 1260, 'use_EUDR1T  Index': False, 'use_EUR009M  Index': False, 'use_ER1  Index': False, 'use_ER2  Index': False, 'use_ER3  Index': False, 'use_ER4  Index': False, 'use_ER5  Index': False, 'use_FDTR  Index': True, 'use_GJTB3MO  Index': False, 'use_DU1  Index': False, 'use_RX1  Index': True, 'use_SX5E  Index': True, 'use_SX7E  Index': True, 'use_HSI  Index': True, 'use_EURUSD   Index': True, 'use_EURJPY   Index': False, 'use_EURGBP   Index': True, 'use_EURCHF   Index': True, 'use_CRY  Index': True, 'use_C 1  Index': False, 'use_NG1  Index': False, 'use_MOVE  Index': True, 'use_VIX  Index': True, 'use_GDP CQOQ Index': False, 'use_CPI XYOY  Index': True, 'use_NAPMPMI  Index': False, 'use_IP CHNG  Index': True, 'use_CPTICHNG  Index': False, 'use_USURTOT  Index': False, 'use_NFP TCH  Index': False, 'use_INJCJC  Index': False, 'use_LEI CHNG  Index': True, 'use_EUGNEMUY  Index': False, 'use_CPEXEMUY  Index': False, 'use_EUIPEMUY  Index': True, 'use_EUUCEMU  Index': False, 'use_GRZEEUEX  Index': True, 'use_UMRTEMU   Index': True, 'use_OLE3US  Index': True, 'use_OLE3EURA  Index': True, 'use_OLE3JAPA  Index': False, 'use_OLE3BRAZ  Index': False, 'use_OLE3INDI  Index': True, 'use_OLE3CHIN  Index': True, 'use_EBBSDEPF  Index': True, 'use_EBBSLONG  Index': True, 'use_ECMSM1Y  Index': False, 'use_ECMSM2Y  Index': False, 'use_.USDEUR02 U Index': True, 'use_.EURGBP02 U Index': False, 'use_.EURGBP10 U Index': True, 'use_EU 10Y-03M': False, 'use_US 10Y-03M': False, 'use_.EUR0210Y U Index': True, 'use_.EUR1030Y U Index': True, 'use_CS': True, 'use_HCS': False, 'use_INF': False, 'use_NFP': True, 'use_GLD': True, 'use_OIL': True, 'use_VIX': False, 'use_UMCSENT': False, 'use_GPR': True, 'use_INFCE1': True, 'use_INFE1': False, 'use_BEAR': False, 'use_BULL': True, 'use_UNC': False, 'use_CU_release': False, 'use_INF_release': False, 'use_NFP_release': True, 'use_PMI_release': True, 'use_UN_release': True}. Best is trial 0 with value: -0.8273672687465791.\n"
     ]
    },
    {
     "name": "stdout",
     "output_type": "stream",
     "text": [
      "[INFO] Generated 2 folds for forecast horizon 21\n"
     ]
    },
    {
     "name": "stderr",
     "output_type": "stream",
     "text": [
      "[I 2025-05-11 16:03:25,146] Trial 6 finished with value: -0.4285531554290648 and parameters: {'sequence_length': 1197, 'use_EUDR1T  Index': True, 'use_EUR009M  Index': True, 'use_ER1  Index': True, 'use_ER2  Index': False, 'use_ER3  Index': True, 'use_ER4  Index': False, 'use_ER5  Index': True, 'use_FDTR  Index': True, 'use_GJTB3MO  Index': False, 'use_DU1  Index': False, 'use_RX1  Index': False, 'use_SX5E  Index': True, 'use_SX7E  Index': True, 'use_HSI  Index': False, 'use_EURUSD   Index': True, 'use_EURJPY   Index': True, 'use_EURGBP   Index': False, 'use_EURCHF   Index': False, 'use_CRY  Index': True, 'use_C 1  Index': True, 'use_NG1  Index': True, 'use_MOVE  Index': False, 'use_VIX  Index': False, 'use_GDP CQOQ Index': False, 'use_CPI XYOY  Index': False, 'use_NAPMPMI  Index': True, 'use_IP CHNG  Index': False, 'use_CPTICHNG  Index': True, 'use_USURTOT  Index': True, 'use_NFP TCH  Index': True, 'use_INJCJC  Index': True, 'use_LEI CHNG  Index': True, 'use_EUGNEMUY  Index': False, 'use_CPEXEMUY  Index': False, 'use_EUIPEMUY  Index': False, 'use_EUUCEMU  Index': False, 'use_GRZEEUEX  Index': False, 'use_UMRTEMU   Index': False, 'use_OLE3US  Index': False, 'use_OLE3EURA  Index': True, 'use_OLE3JAPA  Index': True, 'use_OLE3BRAZ  Index': False, 'use_OLE3INDI  Index': False, 'use_OLE3CHIN  Index': False, 'use_EBBSDEPF  Index': False, 'use_EBBSLONG  Index': True, 'use_ECMSM1Y  Index': True, 'use_ECMSM2Y  Index': True, 'use_.USDEUR02 U Index': True, 'use_.EURGBP02 U Index': False, 'use_.EURGBP10 U Index': True, 'use_EU 10Y-03M': False, 'use_US 10Y-03M': True, 'use_.EUR0210Y U Index': False, 'use_.EUR1030Y U Index': True, 'use_CS': True, 'use_HCS': True, 'use_INF': True, 'use_NFP': False, 'use_GLD': False, 'use_OIL': True, 'use_VIX': False, 'use_UMCSENT': False, 'use_GPR': True, 'use_INFCE1': True, 'use_INFE1': False, 'use_BEAR': True, 'use_BULL': True, 'use_UNC': False, 'use_CU_release': True, 'use_INF_release': True, 'use_NFP_release': True, 'use_PMI_release': True, 'use_UN_release': True}. Best is trial 0 with value: -0.8273672687465791.\n"
     ]
    },
    {
     "name": "stdout",
     "output_type": "stream",
     "text": [
      "[INFO] Generated 2 folds for forecast horizon 21\n"
     ]
    },
    {
     "name": "stderr",
     "output_type": "stream",
     "text": [
      "[I 2025-05-11 16:03:26,609] Trial 7 finished with value: -0.1271266885724717 and parameters: {'sequence_length': 1071, 'use_EUDR1T  Index': False, 'use_EUR009M  Index': True, 'use_ER1  Index': True, 'use_ER2  Index': True, 'use_ER3  Index': False, 'use_ER4  Index': True, 'use_ER5  Index': True, 'use_FDTR  Index': True, 'use_GJTB3MO  Index': False, 'use_DU1  Index': False, 'use_RX1  Index': True, 'use_SX5E  Index': True, 'use_SX7E  Index': True, 'use_HSI  Index': True, 'use_EURUSD   Index': False, 'use_EURJPY   Index': False, 'use_EURGBP   Index': False, 'use_EURCHF   Index': False, 'use_CRY  Index': True, 'use_C 1  Index': True, 'use_NG1  Index': True, 'use_MOVE  Index': False, 'use_VIX  Index': True, 'use_GDP CQOQ Index': True, 'use_CPI XYOY  Index': False, 'use_NAPMPMI  Index': False, 'use_IP CHNG  Index': True, 'use_CPTICHNG  Index': True, 'use_USURTOT  Index': False, 'use_NFP TCH  Index': False, 'use_INJCJC  Index': False, 'use_LEI CHNG  Index': True, 'use_EUGNEMUY  Index': False, 'use_CPEXEMUY  Index': False, 'use_EUIPEMUY  Index': False, 'use_EUUCEMU  Index': False, 'use_GRZEEUEX  Index': True, 'use_UMRTEMU   Index': True, 'use_OLE3US  Index': False, 'use_OLE3EURA  Index': False, 'use_OLE3JAPA  Index': True, 'use_OLE3BRAZ  Index': False, 'use_OLE3INDI  Index': True, 'use_OLE3CHIN  Index': False, 'use_EBBSDEPF  Index': False, 'use_EBBSLONG  Index': False, 'use_ECMSM1Y  Index': False, 'use_ECMSM2Y  Index': False, 'use_.USDEUR02 U Index': False, 'use_.EURGBP02 U Index': False, 'use_.EURGBP10 U Index': False, 'use_EU 10Y-03M': True, 'use_US 10Y-03M': True, 'use_.EUR0210Y U Index': False, 'use_.EUR1030Y U Index': True, 'use_CS': True, 'use_HCS': True, 'use_INF': True, 'use_NFP': False, 'use_GLD': False, 'use_OIL': True, 'use_VIX': True, 'use_UMCSENT': True, 'use_GPR': True, 'use_INFCE1': True, 'use_INFE1': False, 'use_BEAR': True, 'use_BULL': False, 'use_UNC': False, 'use_CU_release': True, 'use_INF_release': False, 'use_NFP_release': True, 'use_PMI_release': True, 'use_UN_release': False}. Best is trial 0 with value: -0.8273672687465791.\n"
     ]
    },
    {
     "name": "stdout",
     "output_type": "stream",
     "text": [
      "[INFO] Generated 2 folds for forecast horizon 21\n"
     ]
    },
    {
     "name": "stderr",
     "output_type": "stream",
     "text": [
      "[I 2025-05-11 16:03:28,303] Trial 8 finished with value: -0.5209770114942529 and parameters: {'sequence_length': 1071, 'use_EUDR1T  Index': False, 'use_EUR009M  Index': False, 'use_ER1  Index': False, 'use_ER2  Index': False, 'use_ER3  Index': True, 'use_ER4  Index': False, 'use_ER5  Index': False, 'use_FDTR  Index': False, 'use_GJTB3MO  Index': False, 'use_DU1  Index': False, 'use_RX1  Index': False, 'use_SX5E  Index': False, 'use_SX7E  Index': True, 'use_HSI  Index': False, 'use_EURUSD   Index': False, 'use_EURJPY   Index': True, 'use_EURGBP   Index': False, 'use_EURCHF   Index': False, 'use_CRY  Index': True, 'use_C 1  Index': False, 'use_NG1  Index': False, 'use_MOVE  Index': False, 'use_VIX  Index': True, 'use_GDP CQOQ Index': False, 'use_CPI XYOY  Index': True, 'use_NAPMPMI  Index': True, 'use_IP CHNG  Index': True, 'use_CPTICHNG  Index': False, 'use_USURTOT  Index': False, 'use_NFP TCH  Index': False, 'use_INJCJC  Index': False, 'use_LEI CHNG  Index': False, 'use_EUGNEMUY  Index': True, 'use_CPEXEMUY  Index': False, 'use_EUIPEMUY  Index': True, 'use_EUUCEMU  Index': True, 'use_GRZEEUEX  Index': False, 'use_UMRTEMU   Index': False, 'use_OLE3US  Index': True, 'use_OLE3EURA  Index': True, 'use_OLE3JAPA  Index': True, 'use_OLE3BRAZ  Index': True, 'use_OLE3INDI  Index': True, 'use_OLE3CHIN  Index': True, 'use_EBBSDEPF  Index': True, 'use_EBBSLONG  Index': False, 'use_ECMSM1Y  Index': True, 'use_ECMSM2Y  Index': True, 'use_.USDEUR02 U Index': False, 'use_.EURGBP02 U Index': True, 'use_.EURGBP10 U Index': True, 'use_EU 10Y-03M': False, 'use_US 10Y-03M': True, 'use_.EUR0210Y U Index': False, 'use_.EUR1030Y U Index': True, 'use_CS': False, 'use_HCS': False, 'use_INF': False, 'use_NFP': False, 'use_GLD': False, 'use_OIL': False, 'use_VIX': True, 'use_UMCSENT': True, 'use_GPR': True, 'use_INFCE1': False, 'use_INFE1': False, 'use_BEAR': True, 'use_BULL': False, 'use_UNC': True, 'use_CU_release': True, 'use_INF_release': False, 'use_NFP_release': True, 'use_PMI_release': True, 'use_UN_release': True}. Best is trial 0 with value: -0.8273672687465791.\n"
     ]
    },
    {
     "name": "stdout",
     "output_type": "stream",
     "text": [
      "[INFO] Generated 1 folds for forecast horizon 21\n"
     ]
    },
    {
     "name": "stderr",
     "output_type": "stream",
     "text": [
      "[I 2025-05-11 16:03:28,662] Trial 9 finished with value: -0.33663366336633666 and parameters: {'sequence_length': 1449, 'use_EUDR1T  Index': False, 'use_EUR009M  Index': False, 'use_ER1  Index': True, 'use_ER2  Index': False, 'use_ER3  Index': True, 'use_ER4  Index': True, 'use_ER5  Index': False, 'use_FDTR  Index': True, 'use_GJTB3MO  Index': True, 'use_DU1  Index': False, 'use_RX1  Index': False, 'use_SX5E  Index': False, 'use_SX7E  Index': False, 'use_HSI  Index': True, 'use_EURUSD   Index': False, 'use_EURJPY   Index': False, 'use_EURGBP   Index': False, 'use_EURCHF   Index': True, 'use_CRY  Index': True, 'use_C 1  Index': True, 'use_NG1  Index': False, 'use_MOVE  Index': False, 'use_VIX  Index': False, 'use_GDP CQOQ Index': False, 'use_CPI XYOY  Index': True, 'use_NAPMPMI  Index': True, 'use_IP CHNG  Index': True, 'use_CPTICHNG  Index': False, 'use_USURTOT  Index': True, 'use_NFP TCH  Index': True, 'use_INJCJC  Index': True, 'use_LEI CHNG  Index': False, 'use_EUGNEMUY  Index': True, 'use_CPEXEMUY  Index': True, 'use_EUIPEMUY  Index': True, 'use_EUUCEMU  Index': False, 'use_GRZEEUEX  Index': True, 'use_UMRTEMU   Index': False, 'use_OLE3US  Index': True, 'use_OLE3EURA  Index': False, 'use_OLE3JAPA  Index': False, 'use_OLE3BRAZ  Index': False, 'use_OLE3INDI  Index': False, 'use_OLE3CHIN  Index': True, 'use_EBBSDEPF  Index': False, 'use_EBBSLONG  Index': False, 'use_ECMSM1Y  Index': False, 'use_ECMSM2Y  Index': False, 'use_.USDEUR02 U Index': True, 'use_.EURGBP02 U Index': False, 'use_.EURGBP10 U Index': False, 'use_EU 10Y-03M': True, 'use_US 10Y-03M': False, 'use_.EUR0210Y U Index': False, 'use_.EUR1030Y U Index': True, 'use_CS': True, 'use_HCS': False, 'use_INF': True, 'use_NFP': True, 'use_GLD': False, 'use_OIL': False, 'use_VIX': True, 'use_UMCSENT': True, 'use_GPR': False, 'use_INFCE1': False, 'use_INFE1': False, 'use_BEAR': True, 'use_BULL': True, 'use_UNC': False, 'use_CU_release': True, 'use_INF_release': False, 'use_NFP_release': False, 'use_PMI_release': False, 'use_UN_release': False}. Best is trial 0 with value: -0.8273672687465791.\n"
     ]
    },
    {
     "name": "stdout",
     "output_type": "stream",
     "text": [
      "[INFO] Generated 3 folds for forecast horizon 21\n"
     ]
    },
    {
     "name": "stderr",
     "output_type": "stream",
     "text": [
      "[I 2025-05-11 16:03:31,156] Trial 10 finished with value: -0.6484106081285418 and parameters: {'sequence_length': 819, 'use_EUDR1T  Index': True, 'use_EUR009M  Index': True, 'use_ER1  Index': True, 'use_ER2  Index': True, 'use_ER3  Index': False, 'use_ER4  Index': False, 'use_ER5  Index': False, 'use_FDTR  Index': False, 'use_GJTB3MO  Index': True, 'use_DU1  Index': True, 'use_RX1  Index': True, 'use_SX5E  Index': False, 'use_SX7E  Index': False, 'use_HSI  Index': True, 'use_EURUSD   Index': False, 'use_EURJPY   Index': False, 'use_EURGBP   Index': True, 'use_EURCHF   Index': False, 'use_CRY  Index': False, 'use_C 1  Index': False, 'use_NG1  Index': True, 'use_MOVE  Index': True, 'use_VIX  Index': True, 'use_GDP CQOQ Index': True, 'use_CPI XYOY  Index': False, 'use_NAPMPMI  Index': True, 'use_IP CHNG  Index': False, 'use_CPTICHNG  Index': True, 'use_USURTOT  Index': True, 'use_NFP TCH  Index': True, 'use_INJCJC  Index': False, 'use_LEI CHNG  Index': False, 'use_EUGNEMUY  Index': True, 'use_CPEXEMUY  Index': True, 'use_EUIPEMUY  Index': False, 'use_EUUCEMU  Index': True, 'use_GRZEEUEX  Index': True, 'use_UMRTEMU   Index': False, 'use_OLE3US  Index': True, 'use_OLE3EURA  Index': False, 'use_OLE3JAPA  Index': True, 'use_OLE3BRAZ  Index': True, 'use_OLE3INDI  Index': False, 'use_OLE3CHIN  Index': False, 'use_EBBSDEPF  Index': True, 'use_EBBSLONG  Index': True, 'use_ECMSM1Y  Index': True, 'use_ECMSM2Y  Index': True, 'use_.USDEUR02 U Index': False, 'use_.EURGBP02 U Index': False, 'use_.EURGBP10 U Index': True, 'use_EU 10Y-03M': False, 'use_US 10Y-03M': True, 'use_.EUR0210Y U Index': True, 'use_.EUR1030Y U Index': False, 'use_CS': False, 'use_HCS': True, 'use_INF': False, 'use_NFP': False, 'use_GLD': True, 'use_OIL': True, 'use_VIX': False, 'use_UMCSENT': False, 'use_GPR': False, 'use_INFCE1': True, 'use_INFE1': True, 'use_BEAR': True, 'use_BULL': False, 'use_UNC': True, 'use_CU_release': False, 'use_INF_release': False, 'use_NFP_release': False, 'use_PMI_release': False, 'use_UN_release': False}. Best is trial 0 with value: -0.8273672687465791.\n"
     ]
    },
    {
     "name": "stdout",
     "output_type": "stream",
     "text": [
      "[INFO] Generated 2 folds for forecast horizon 21\n"
     ]
    },
    {
     "name": "stderr",
     "output_type": "stream",
     "text": [
      "[I 2025-05-11 16:03:32,996] Trial 11 finished with value: -0.553373463757211 and parameters: {'sequence_length': 1323, 'use_EUDR1T  Index': False, 'use_EUR009M  Index': True, 'use_ER1  Index': True, 'use_ER2  Index': True, 'use_ER3  Index': False, 'use_ER4  Index': False, 'use_ER5  Index': True, 'use_FDTR  Index': False, 'use_GJTB3MO  Index': False, 'use_DU1  Index': True, 'use_RX1  Index': False, 'use_SX5E  Index': False, 'use_SX7E  Index': False, 'use_HSI  Index': False, 'use_EURUSD   Index': True, 'use_EURJPY   Index': True, 'use_EURGBP   Index': True, 'use_EURCHF   Index': True, 'use_CRY  Index': False, 'use_C 1  Index': False, 'use_NG1  Index': False, 'use_MOVE  Index': True, 'use_VIX  Index': False, 'use_GDP CQOQ Index': True, 'use_CPI XYOY  Index': True, 'use_NAPMPMI  Index': True, 'use_IP CHNG  Index': False, 'use_CPTICHNG  Index': True, 'use_USURTOT  Index': True, 'use_NFP TCH  Index': True, 'use_INJCJC  Index': False, 'use_LEI CHNG  Index': True, 'use_EUGNEMUY  Index': True, 'use_CPEXEMUY  Index': False, 'use_EUIPEMUY  Index': False, 'use_EUUCEMU  Index': False, 'use_GRZEEUEX  Index': False, 'use_UMRTEMU   Index': False, 'use_OLE3US  Index': False, 'use_OLE3EURA  Index': False, 'use_OLE3JAPA  Index': False, 'use_OLE3BRAZ  Index': False, 'use_OLE3INDI  Index': True, 'use_OLE3CHIN  Index': False, 'use_EBBSDEPF  Index': False, 'use_EBBSLONG  Index': True, 'use_ECMSM1Y  Index': False, 'use_ECMSM2Y  Index': True, 'use_.USDEUR02 U Index': True, 'use_.EURGBP02 U Index': True, 'use_.EURGBP10 U Index': True, 'use_EU 10Y-03M': False, 'use_US 10Y-03M': False, 'use_.EUR0210Y U Index': True, 'use_.EUR1030Y U Index': False, 'use_CS': False, 'use_HCS': False, 'use_INF': True, 'use_NFP': True, 'use_GLD': True, 'use_OIL': True, 'use_VIX': False, 'use_UMCSENT': False, 'use_GPR': False, 'use_INFCE1': True, 'use_INFE1': True, 'use_BEAR': False, 'use_BULL': False, 'use_UNC': False, 'use_CU_release': False, 'use_INF_release': True, 'use_NFP_release': False, 'use_PMI_release': False, 'use_UN_release': False}. Best is trial 0 with value: -0.8273672687465791.\n"
     ]
    },
    {
     "name": "stdout",
     "output_type": "stream",
     "text": [
      "[INFO] Generated 3 folds for forecast horizon 21\n"
     ]
    },
    {
     "name": "stderr",
     "output_type": "stream",
     "text": [
      "[I 2025-05-11 16:03:35,561] Trial 12 finished with value: -0.413034560160997 and parameters: {'sequence_length': 882, 'use_EUDR1T  Index': False, 'use_EUR009M  Index': True, 'use_ER1  Index': True, 'use_ER2  Index': True, 'use_ER3  Index': False, 'use_ER4  Index': False, 'use_ER5  Index': False, 'use_FDTR  Index': False, 'use_GJTB3MO  Index': False, 'use_DU1  Index': True, 'use_RX1  Index': False, 'use_SX5E  Index': True, 'use_SX7E  Index': False, 'use_HSI  Index': False, 'use_EURUSD   Index': True, 'use_EURJPY   Index': False, 'use_EURGBP   Index': True, 'use_EURCHF   Index': False, 'use_CRY  Index': False, 'use_C 1  Index': False, 'use_NG1  Index': False, 'use_MOVE  Index': True, 'use_VIX  Index': False, 'use_GDP CQOQ Index': True, 'use_CPI XYOY  Index': True, 'use_NAPMPMI  Index': True, 'use_IP CHNG  Index': False, 'use_CPTICHNG  Index': True, 'use_USURTOT  Index': False, 'use_NFP TCH  Index': False, 'use_INJCJC  Index': False, 'use_LEI CHNG  Index': True, 'use_EUGNEMUY  Index': False, 'use_CPEXEMUY  Index': False, 'use_EUIPEMUY  Index': False, 'use_EUUCEMU  Index': False, 'use_GRZEEUEX  Index': False, 'use_UMRTEMU   Index': False, 'use_OLE3US  Index': False, 'use_OLE3EURA  Index': False, 'use_OLE3JAPA  Index': True, 'use_OLE3BRAZ  Index': False, 'use_OLE3INDI  Index': False, 'use_OLE3CHIN  Index': False, 'use_EBBSDEPF  Index': False, 'use_EBBSLONG  Index': True, 'use_ECMSM1Y  Index': False, 'use_ECMSM2Y  Index': True, 'use_.USDEUR02 U Index': True, 'use_.EURGBP02 U Index': True, 'use_.EURGBP10 U Index': True, 'use_EU 10Y-03M': False, 'use_US 10Y-03M': False, 'use_.EUR0210Y U Index': True, 'use_.EUR1030Y U Index': False, 'use_CS': False, 'use_HCS': True, 'use_INF': True, 'use_NFP': True, 'use_GLD': True, 'use_OIL': True, 'use_VIX': False, 'use_UMCSENT': True, 'use_GPR': False, 'use_INFCE1': True, 'use_INFE1': True, 'use_BEAR': False, 'use_BULL': False, 'use_UNC': False, 'use_CU_release': False, 'use_INF_release': True, 'use_NFP_release': True, 'use_PMI_release': False, 'use_UN_release': False}. Best is trial 0 with value: -0.8273672687465791.\n"
     ]
    },
    {
     "name": "stdout",
     "output_type": "stream",
     "text": [
      "[INFO] Generated 2 folds for forecast horizon 21\n"
     ]
    },
    {
     "name": "stderr",
     "output_type": "stream",
     "text": [
      "[I 2025-05-11 16:03:37,250] Trial 13 finished with value: -0.18021201413427562 and parameters: {'sequence_length': 1197, 'use_EUDR1T  Index': False, 'use_EUR009M  Index': True, 'use_ER1  Index': True, 'use_ER2  Index': True, 'use_ER3  Index': False, 'use_ER4  Index': False, 'use_ER5  Index': True, 'use_FDTR  Index': True, 'use_GJTB3MO  Index': False, 'use_DU1  Index': True, 'use_RX1  Index': False, 'use_SX5E  Index': False, 'use_SX7E  Index': False, 'use_HSI  Index': True, 'use_EURUSD   Index': True, 'use_EURJPY   Index': True, 'use_EURGBP   Index': False, 'use_EURCHF   Index': True, 'use_CRY  Index': False, 'use_C 1  Index': True, 'use_NG1  Index': True, 'use_MOVE  Index': True, 'use_VIX  Index': True, 'use_GDP CQOQ Index': True, 'use_CPI XYOY  Index': False, 'use_NAPMPMI  Index': True, 'use_IP CHNG  Index': False, 'use_CPTICHNG  Index': False, 'use_USURTOT  Index': True, 'use_NFP TCH  Index': True, 'use_INJCJC  Index': True, 'use_LEI CHNG  Index': False, 'use_EUGNEMUY  Index': True, 'use_CPEXEMUY  Index': False, 'use_EUIPEMUY  Index': False, 'use_EUUCEMU  Index': False, 'use_GRZEEUEX  Index': False, 'use_UMRTEMU   Index': False, 'use_OLE3US  Index': True, 'use_OLE3EURA  Index': True, 'use_OLE3JAPA  Index': False, 'use_OLE3BRAZ  Index': False, 'use_OLE3INDI  Index': True, 'use_OLE3CHIN  Index': True, 'use_EBBSDEPF  Index': False, 'use_EBBSLONG  Index': True, 'use_ECMSM1Y  Index': True, 'use_ECMSM2Y  Index': True, 'use_.USDEUR02 U Index': True, 'use_.EURGBP02 U Index': True, 'use_.EURGBP10 U Index': True, 'use_EU 10Y-03M': True, 'use_US 10Y-03M': False, 'use_.EUR0210Y U Index': True, 'use_.EUR1030Y U Index': False, 'use_CS': False, 'use_HCS': False, 'use_INF': True, 'use_NFP': True, 'use_GLD': True, 'use_OIL': False, 'use_VIX': False, 'use_UMCSENT': False, 'use_GPR': False, 'use_INFCE1': True, 'use_INFE1': True, 'use_BEAR': False, 'use_BULL': False, 'use_UNC': False, 'use_CU_release': False, 'use_INF_release': False, 'use_NFP_release': False, 'use_PMI_release': False, 'use_UN_release': False}. Best is trial 0 with value: -0.8273672687465791.\n"
     ]
    },
    {
     "name": "stdout",
     "output_type": "stream",
     "text": [
      "[INFO] Generated 2 folds for forecast horizon 21\n"
     ]
    },
    {
     "name": "stderr",
     "output_type": "stream",
     "text": [
      "[I 2025-05-11 16:03:39,202] Trial 14 finished with value: -0.7749012415349887 and parameters: {'sequence_length': 1323, 'use_EUDR1T  Index': True, 'use_EUR009M  Index': True, 'use_ER1  Index': True, 'use_ER2  Index': True, 'use_ER3  Index': True, 'use_ER4  Index': False, 'use_ER5  Index': True, 'use_FDTR  Index': True, 'use_GJTB3MO  Index': False, 'use_DU1  Index': True, 'use_RX1  Index': False, 'use_SX5E  Index': True, 'use_SX7E  Index': True, 'use_HSI  Index': False, 'use_EURUSD   Index': False, 'use_EURJPY   Index': False, 'use_EURGBP   Index': False, 'use_EURCHF   Index': False, 'use_CRY  Index': False, 'use_C 1  Index': True, 'use_NG1  Index': False, 'use_MOVE  Index': True, 'use_VIX  Index': True, 'use_GDP CQOQ Index': False, 'use_CPI XYOY  Index': False, 'use_NAPMPMI  Index': True, 'use_IP CHNG  Index': True, 'use_CPTICHNG  Index': False, 'use_USURTOT  Index': False, 'use_NFP TCH  Index': False, 'use_INJCJC  Index': True, 'use_LEI CHNG  Index': False, 'use_EUGNEMUY  Index': False, 'use_CPEXEMUY  Index': False, 'use_EUIPEMUY  Index': False, 'use_EUUCEMU  Index': True, 'use_GRZEEUEX  Index': True, 'use_UMRTEMU   Index': False, 'use_OLE3US  Index': True, 'use_OLE3EURA  Index': True, 'use_OLE3JAPA  Index': True, 'use_OLE3BRAZ  Index': True, 'use_OLE3INDI  Index': True, 'use_OLE3CHIN  Index': True, 'use_EBBSDEPF  Index': True, 'use_EBBSLONG  Index': True, 'use_ECMSM1Y  Index': False, 'use_ECMSM2Y  Index': True, 'use_.USDEUR02 U Index': False, 'use_.EURGBP02 U Index': False, 'use_.EURGBP10 U Index': True, 'use_EU 10Y-03M': True, 'use_US 10Y-03M': False, 'use_.EUR0210Y U Index': True, 'use_.EUR1030Y U Index': True, 'use_CS': True, 'use_HCS': True, 'use_INF': True, 'use_NFP': False, 'use_GLD': False, 'use_OIL': False, 'use_VIX': False, 'use_UMCSENT': True, 'use_GPR': False, 'use_INFCE1': True, 'use_INFE1': True, 'use_BEAR': True, 'use_BULL': False, 'use_UNC': True, 'use_CU_release': False, 'use_INF_release': True, 'use_NFP_release': True, 'use_PMI_release': False, 'use_UN_release': False}. Best is trial 0 with value: -0.8273672687465791.\n"
     ]
    },
    {
     "name": "stdout",
     "output_type": "stream",
     "text": [
      "[INFO] Generated 2 folds for forecast horizon 21\n"
     ]
    },
    {
     "name": "stderr",
     "output_type": "stream",
     "text": [
      "[I 2025-05-11 16:03:40,468] Trial 15 finished with value: -0.34065934065934067 and parameters: {'sequence_length': 945, 'use_EUDR1T  Index': True, 'use_EUR009M  Index': True, 'use_ER1  Index': True, 'use_ER2  Index': True, 'use_ER3  Index': True, 'use_ER4  Index': False, 'use_ER5  Index': False, 'use_FDTR  Index': False, 'use_GJTB3MO  Index': False, 'use_DU1  Index': True, 'use_RX1  Index': False, 'use_SX5E  Index': False, 'use_SX7E  Index': True, 'use_HSI  Index': True, 'use_EURUSD   Index': False, 'use_EURJPY   Index': False, 'use_EURGBP   Index': True, 'use_EURCHF   Index': False, 'use_CRY  Index': False, 'use_C 1  Index': False, 'use_NG1  Index': True, 'use_MOVE  Index': True, 'use_VIX  Index': True, 'use_GDP CQOQ Index': True, 'use_CPI XYOY  Index': False, 'use_NAPMPMI  Index': True, 'use_IP CHNG  Index': False, 'use_CPTICHNG  Index': True, 'use_USURTOT  Index': True, 'use_NFP TCH  Index': True, 'use_INJCJC  Index': False, 'use_LEI CHNG  Index': False, 'use_EUGNEMUY  Index': True, 'use_CPEXEMUY  Index': False, 'use_EUIPEMUY  Index': False, 'use_EUUCEMU  Index': True, 'use_GRZEEUEX  Index': True, 'use_UMRTEMU   Index': False, 'use_OLE3US  Index': True, 'use_OLE3EURA  Index': False, 'use_OLE3JAPA  Index': True, 'use_OLE3BRAZ  Index': True, 'use_OLE3INDI  Index': False, 'use_OLE3CHIN  Index': False, 'use_EBBSDEPF  Index': True, 'use_EBBSLONG  Index': True, 'use_ECMSM1Y  Index': True, 'use_ECMSM2Y  Index': True, 'use_.USDEUR02 U Index': False, 'use_.EURGBP02 U Index': False, 'use_.EURGBP10 U Index': True, 'use_EU 10Y-03M': False, 'use_US 10Y-03M': False, 'use_.EUR0210Y U Index': True, 'use_.EUR1030Y U Index': False, 'use_CS': False, 'use_HCS': True, 'use_INF': True, 'use_NFP': False, 'use_GLD': False, 'use_OIL': True, 'use_VIX': False, 'use_UMCSENT': False, 'use_GPR': False, 'use_INFCE1': True, 'use_INFE1': True, 'use_BEAR': True, 'use_BULL': False, 'use_UNC': True, 'use_CU_release': False, 'use_INF_release': False, 'use_NFP_release': False, 'use_PMI_release': False, 'use_UN_release': False}. Best is trial 0 with value: -0.8273672687465791.\n"
     ]
    },
    {
     "name": "stdout",
     "output_type": "stream",
     "text": [
      "[INFO] Generated 2 folds for forecast horizon 21\n"
     ]
    },
    {
     "name": "stderr",
     "output_type": "stream",
     "text": [
      "[I 2025-05-11 16:03:42,375] Trial 16 finished with value: -0.7284864489970124 and parameters: {'sequence_length': 1134, 'use_EUDR1T  Index': True, 'use_EUR009M  Index': True, 'use_ER1  Index': True, 'use_ER2  Index': True, 'use_ER3  Index': True, 'use_ER4  Index': False, 'use_ER5  Index': True, 'use_FDTR  Index': False, 'use_GJTB3MO  Index': False, 'use_DU1  Index': True, 'use_RX1  Index': False, 'use_SX5E  Index': False, 'use_SX7E  Index': True, 'use_HSI  Index': False, 'use_EURUSD   Index': False, 'use_EURJPY   Index': False, 'use_EURGBP   Index': False, 'use_EURCHF   Index': False, 'use_CRY  Index': False, 'use_C 1  Index': True, 'use_NG1  Index': False, 'use_MOVE  Index': True, 'use_VIX  Index': True, 'use_GDP CQOQ Index': False, 'use_CPI XYOY  Index': False, 'use_NAPMPMI  Index': True, 'use_IP CHNG  Index': False, 'use_CPTICHNG  Index': True, 'use_USURTOT  Index': True, 'use_NFP TCH  Index': True, 'use_INJCJC  Index': True, 'use_LEI CHNG  Index': False, 'use_EUGNEMUY  Index': False, 'use_CPEXEMUY  Index': False, 'use_EUIPEMUY  Index': False, 'use_EUUCEMU  Index': True, 'use_GRZEEUEX  Index': True, 'use_UMRTEMU   Index': False, 'use_OLE3US  Index': True, 'use_OLE3EURA  Index': False, 'use_OLE3JAPA  Index': True, 'use_OLE3BRAZ  Index': True, 'use_OLE3INDI  Index': False, 'use_OLE3CHIN  Index': False, 'use_EBBSDEPF  Index': True, 'use_EBBSLONG  Index': True, 'use_ECMSM1Y  Index': True, 'use_ECMSM2Y  Index': True, 'use_.USDEUR02 U Index': False, 'use_.EURGBP02 U Index': False, 'use_.EURGBP10 U Index': True, 'use_EU 10Y-03M': True, 'use_US 10Y-03M': False, 'use_.EUR0210Y U Index': True, 'use_.EUR1030Y U Index': False, 'use_CS': False, 'use_HCS': True, 'use_INF': True, 'use_NFP': False, 'use_GLD': False, 'use_OIL': False, 'use_VIX': False, 'use_UMCSENT': True, 'use_GPR': True, 'use_INFCE1': True, 'use_INFE1': True, 'use_BEAR': True, 'use_BULL': False, 'use_UNC': True, 'use_CU_release': False, 'use_INF_release': False, 'use_NFP_release': True, 'use_PMI_release': False, 'use_UN_release': False}. Best is trial 0 with value: -0.8273672687465791.\n"
     ]
    },
    {
     "name": "stdout",
     "output_type": "stream",
     "text": [
      "[INFO] Generated 3 folds for forecast horizon 21\n"
     ]
    },
    {
     "name": "stderr",
     "output_type": "stream",
     "text": [
      "[I 2025-05-11 16:03:44,672] Trial 17 finished with value: -0.4068662390116417 and parameters: {'sequence_length': 756, 'use_EUDR1T  Index': True, 'use_EUR009M  Index': True, 'use_ER1  Index': True, 'use_ER2  Index': True, 'use_ER3  Index': True, 'use_ER4  Index': False, 'use_ER5  Index': False, 'use_FDTR  Index': True, 'use_GJTB3MO  Index': False, 'use_DU1  Index': True, 'use_RX1  Index': False, 'use_SX5E  Index': True, 'use_SX7E  Index': True, 'use_HSI  Index': True, 'use_EURUSD   Index': False, 'use_EURJPY   Index': False, 'use_EURGBP   Index': True, 'use_EURCHF   Index': False, 'use_CRY  Index': False, 'use_C 1  Index': False, 'use_NG1  Index': True, 'use_MOVE  Index': True, 'use_VIX  Index': True, 'use_GDP CQOQ Index': True, 'use_CPI XYOY  Index': False, 'use_NAPMPMI  Index': True, 'use_IP CHNG  Index': True, 'use_CPTICHNG  Index': False, 'use_USURTOT  Index': False, 'use_NFP TCH  Index': False, 'use_INJCJC  Index': False, 'use_LEI CHNG  Index': False, 'use_EUGNEMUY  Index': True, 'use_CPEXEMUY  Index': False, 'use_EUIPEMUY  Index': False, 'use_EUUCEMU  Index': True, 'use_GRZEEUEX  Index': True, 'use_UMRTEMU   Index': False, 'use_OLE3US  Index': True, 'use_OLE3EURA  Index': True, 'use_OLE3JAPA  Index': True, 'use_OLE3BRAZ  Index': True, 'use_OLE3INDI  Index': True, 'use_OLE3CHIN  Index': True, 'use_EBBSDEPF  Index': True, 'use_EBBSLONG  Index': True, 'use_ECMSM1Y  Index': False, 'use_ECMSM2Y  Index': True, 'use_.USDEUR02 U Index': False, 'use_.EURGBP02 U Index': False, 'use_.EURGBP10 U Index': True, 'use_EU 10Y-03M': False, 'use_US 10Y-03M': False, 'use_.EUR0210Y U Index': True, 'use_.EUR1030Y U Index': True, 'use_CS': True, 'use_HCS': True, 'use_INF': True, 'use_NFP': False, 'use_GLD': False, 'use_OIL': True, 'use_VIX': False, 'use_UMCSENT': False, 'use_GPR': False, 'use_INFCE1': True, 'use_INFE1': True, 'use_BEAR': True, 'use_BULL': False, 'use_UNC': True, 'use_CU_release': False, 'use_INF_release': True, 'use_NFP_release': False, 'use_PMI_release': False, 'use_UN_release': False}. Best is trial 0 with value: -0.8273672687465791.\n"
     ]
    },
    {
     "name": "stdout",
     "output_type": "stream",
     "text": [
      "[INFO] Generated 1 folds for forecast horizon 21\n"
     ]
    },
    {
     "name": "stderr",
     "output_type": "stream",
     "text": [
      "[I 2025-05-11 16:03:45,169] Trial 18 finished with value: -0.5348837209302325 and parameters: {'sequence_length': 1386, 'use_EUDR1T  Index': True, 'use_EUR009M  Index': True, 'use_ER1  Index': False, 'use_ER2  Index': True, 'use_ER3  Index': True, 'use_ER4  Index': True, 'use_ER5  Index': False, 'use_FDTR  Index': False, 'use_GJTB3MO  Index': True, 'use_DU1  Index': True, 'use_RX1  Index': True, 'use_SX5E  Index': True, 'use_SX7E  Index': True, 'use_HSI  Index': True, 'use_EURUSD   Index': False, 'use_EURJPY   Index': False, 'use_EURGBP   Index': True, 'use_EURCHF   Index': False, 'use_CRY  Index': False, 'use_C 1  Index': False, 'use_NG1  Index': False, 'use_MOVE  Index': True, 'use_VIX  Index': True, 'use_GDP CQOQ Index': False, 'use_CPI XYOY  Index': False, 'use_NAPMPMI  Index': False, 'use_IP CHNG  Index': False, 'use_CPTICHNG  Index': True, 'use_USURTOT  Index': True, 'use_NFP TCH  Index': False, 'use_INJCJC  Index': True, 'use_LEI CHNG  Index': False, 'use_EUGNEMUY  Index': False, 'use_CPEXEMUY  Index': True, 'use_EUIPEMUY  Index': False, 'use_EUUCEMU  Index': True, 'use_GRZEEUEX  Index': True, 'use_UMRTEMU   Index': True, 'use_OLE3US  Index': True, 'use_OLE3EURA  Index': True, 'use_OLE3JAPA  Index': True, 'use_OLE3BRAZ  Index': True, 'use_OLE3INDI  Index': True, 'use_OLE3CHIN  Index': False, 'use_EBBSDEPF  Index': True, 'use_EBBSLONG  Index': True, 'use_ECMSM1Y  Index': False, 'use_ECMSM2Y  Index': True, 'use_.USDEUR02 U Index': False, 'use_.EURGBP02 U Index': False, 'use_.EURGBP10 U Index': True, 'use_EU 10Y-03M': True, 'use_US 10Y-03M': True, 'use_.EUR0210Y U Index': True, 'use_.EUR1030Y U Index': False, 'use_CS': False, 'use_HCS': True, 'use_INF': False, 'use_NFP': False, 'use_GLD': False, 'use_OIL': True, 'use_VIX': False, 'use_UMCSENT': True, 'use_GPR': False, 'use_INFCE1': False, 'use_INFE1': True, 'use_BEAR': True, 'use_BULL': False, 'use_UNC': True, 'use_CU_release': False, 'use_INF_release': True, 'use_NFP_release': False, 'use_PMI_release': True, 'use_UN_release': False}. Best is trial 0 with value: -0.8273672687465791.\n"
     ]
    },
    {
     "name": "stdout",
     "output_type": "stream",
     "text": [
      "[INFO] Generated 2 folds for forecast horizon 21\n"
     ]
    },
    {
     "name": "stderr",
     "output_type": "stream",
     "text": [
      "[I 2025-05-11 16:03:47,025] Trial 19 finished with value: -0.16290412486064662 and parameters: {'sequence_length': 1260, 'use_EUDR1T  Index': True, 'use_EUR009M  Index': True, 'use_ER1  Index': True, 'use_ER2  Index': True, 'use_ER3  Index': True, 'use_ER4  Index': False, 'use_ER5  Index': True, 'use_FDTR  Index': True, 'use_GJTB3MO  Index': False, 'use_DU1  Index': True, 'use_RX1  Index': False, 'use_SX5E  Index': False, 'use_SX7E  Index': True, 'use_HSI  Index': False, 'use_EURUSD   Index': False, 'use_EURJPY   Index': False, 'use_EURGBP   Index': False, 'use_EURCHF   Index': False, 'use_CRY  Index': False, 'use_C 1  Index': True, 'use_NG1  Index': True, 'use_MOVE  Index': True, 'use_VIX  Index': True, 'use_GDP CQOQ Index': True, 'use_CPI XYOY  Index': False, 'use_NAPMPMI  Index': True, 'use_IP CHNG  Index': True, 'use_CPTICHNG  Index': False, 'use_USURTOT  Index': False, 'use_NFP TCH  Index': True, 'use_INJCJC  Index': False, 'use_LEI CHNG  Index': False, 'use_EUGNEMUY  Index': True, 'use_CPEXEMUY  Index': False, 'use_EUIPEMUY  Index': False, 'use_EUUCEMU  Index': True, 'use_GRZEEUEX  Index': True, 'use_UMRTEMU   Index': False, 'use_OLE3US  Index': True, 'use_OLE3EURA  Index': False, 'use_OLE3JAPA  Index': True, 'use_OLE3BRAZ  Index': True, 'use_OLE3INDI  Index': False, 'use_OLE3CHIN  Index': True, 'use_EBBSDEPF  Index': True, 'use_EBBSLONG  Index': True, 'use_ECMSM1Y  Index': True, 'use_ECMSM2Y  Index': True, 'use_.USDEUR02 U Index': False, 'use_.EURGBP02 U Index': False, 'use_.EURGBP10 U Index': True, 'use_EU 10Y-03M': False, 'use_US 10Y-03M': False, 'use_.EUR0210Y U Index': True, 'use_.EUR1030Y U Index': True, 'use_CS': True, 'use_HCS': True, 'use_INF': True, 'use_NFP': False, 'use_GLD': False, 'use_OIL': False, 'use_VIX': False, 'use_UMCSENT': False, 'use_GPR': True, 'use_INFCE1': True, 'use_INFE1': True, 'use_BEAR': True, 'use_BULL': False, 'use_UNC': True, 'use_CU_release': False, 'use_INF_release': False, 'use_NFP_release': True, 'use_PMI_release': False, 'use_UN_release': False}. Best is trial 0 with value: -0.8273672687465791.\n"
     ]
    },
    {
     "name": "stdout",
     "output_type": "stream",
     "text": [
      "[INFO] Generated 2 folds for forecast horizon 21\n"
     ]
    },
    {
     "name": "stderr",
     "output_type": "stream",
     "text": [
      "[I 2025-05-11 16:03:49,020] Trial 20 finished with value: -0.4560779172129612 and parameters: {'sequence_length': 1134, 'use_EUDR1T  Index': True, 'use_EUR009M  Index': True, 'use_ER1  Index': True, 'use_ER2  Index': True, 'use_ER3  Index': True, 'use_ER4  Index': False, 'use_ER5  Index': False, 'use_FDTR  Index': False, 'use_GJTB3MO  Index': False, 'use_DU1  Index': True, 'use_RX1  Index': False, 'use_SX5E  Index': True, 'use_SX7E  Index': True, 'use_HSI  Index': True, 'use_EURUSD   Index': False, 'use_EURJPY   Index': False, 'use_EURGBP   Index': False, 'use_EURCHF   Index': False, 'use_CRY  Index': False, 'use_C 1  Index': True, 'use_NG1  Index': False, 'use_MOVE  Index': True, 'use_VIX  Index': True, 'use_GDP CQOQ Index': False, 'use_CPI XYOY  Index': False, 'use_NAPMPMI  Index': True, 'use_IP CHNG  Index': False, 'use_CPTICHNG  Index': False, 'use_USURTOT  Index': True, 'use_NFP TCH  Index': True, 'use_INJCJC  Index': False, 'use_LEI CHNG  Index': False, 'use_EUGNEMUY  Index': True, 'use_CPEXEMUY  Index': False, 'use_EUIPEMUY  Index': False, 'use_EUUCEMU  Index': True, 'use_GRZEEUEX  Index': True, 'use_UMRTEMU   Index': False, 'use_OLE3US  Index': True, 'use_OLE3EURA  Index': False, 'use_OLE3JAPA  Index': True, 'use_OLE3BRAZ  Index': True, 'use_OLE3INDI  Index': True, 'use_OLE3CHIN  Index': True, 'use_EBBSDEPF  Index': True, 'use_EBBSLONG  Index': True, 'use_ECMSM1Y  Index': True, 'use_ECMSM2Y  Index': True, 'use_.USDEUR02 U Index': False, 'use_.EURGBP02 U Index': False, 'use_.EURGBP10 U Index': True, 'use_EU 10Y-03M': True, 'use_US 10Y-03M': False, 'use_.EUR0210Y U Index': True, 'use_.EUR1030Y U Index': True, 'use_CS': True, 'use_HCS': True, 'use_INF': True, 'use_NFP': False, 'use_GLD': False, 'use_OIL': False, 'use_VIX': False, 'use_UMCSENT': False, 'use_GPR': True, 'use_INFCE1': True, 'use_INFE1': True, 'use_BEAR': True, 'use_BULL': False, 'use_UNC': True, 'use_CU_release': False, 'use_INF_release': True, 'use_NFP_release': True, 'use_PMI_release': False, 'use_UN_release': False}. Best is trial 0 with value: -0.8273672687465791.\n"
     ]
    },
    {
     "name": "stdout",
     "output_type": "stream",
     "text": [
      "[INFO] Generated 2 folds for forecast horizon 21\n"
     ]
    },
    {
     "name": "stderr",
     "output_type": "stream",
     "text": [
      "[I 2025-05-11 16:03:50,809] Trial 21 finished with value: -0.39371980676328505 and parameters: {'sequence_length': 1323, 'use_EUDR1T  Index': False, 'use_EUR009M  Index': True, 'use_ER1  Index': True, 'use_ER2  Index': True, 'use_ER3  Index': False, 'use_ER4  Index': False, 'use_ER5  Index': True, 'use_FDTR  Index': True, 'use_GJTB3MO  Index': False, 'use_DU1  Index': True, 'use_RX1  Index': False, 'use_SX5E  Index': True, 'use_SX7E  Index': False, 'use_HSI  Index': False, 'use_EURUSD   Index': True, 'use_EURJPY   Index': True, 'use_EURGBP   Index': False, 'use_EURCHF   Index': True, 'use_CRY  Index': True, 'use_C 1  Index': True, 'use_NG1  Index': False, 'use_MOVE  Index': True, 'use_VIX  Index': False, 'use_GDP CQOQ Index': False, 'use_CPI XYOY  Index': True, 'use_NAPMPMI  Index': True, 'use_IP CHNG  Index': True, 'use_CPTICHNG  Index': False, 'use_USURTOT  Index': False, 'use_NFP TCH  Index': False, 'use_INJCJC  Index': True, 'use_LEI CHNG  Index': True, 'use_EUGNEMUY  Index': False, 'use_CPEXEMUY  Index': False, 'use_EUIPEMUY  Index': False, 'use_EUUCEMU  Index': False, 'use_GRZEEUEX  Index': False, 'use_UMRTEMU   Index': False, 'use_OLE3US  Index': False, 'use_OLE3EURA  Index': True, 'use_OLE3JAPA  Index': False, 'use_OLE3BRAZ  Index': False, 'use_OLE3INDI  Index': True, 'use_OLE3CHIN  Index': True, 'use_EBBSDEPF  Index': False, 'use_EBBSLONG  Index': True, 'use_ECMSM1Y  Index': False, 'use_ECMSM2Y  Index': True, 'use_.USDEUR02 U Index': True, 'use_.EURGBP02 U Index': True, 'use_.EURGBP10 U Index': True, 'use_EU 10Y-03M': True, 'use_US 10Y-03M': False, 'use_.EUR0210Y U Index': True, 'use_.EUR1030Y U Index': True, 'use_CS': True, 'use_HCS': False, 'use_INF': True, 'use_NFP': True, 'use_GLD': True, 'use_OIL': False, 'use_VIX': False, 'use_UMCSENT': True, 'use_GPR': False, 'use_INFCE1': True, 'use_INFE1': True, 'use_BEAR': False, 'use_BULL': False, 'use_UNC': False, 'use_CU_release': False, 'use_INF_release': True, 'use_NFP_release': True, 'use_PMI_release': False, 'use_UN_release': False}. Best is trial 0 with value: -0.8273672687465791.\n"
     ]
    },
    {
     "name": "stdout",
     "output_type": "stream",
     "text": [
      "[INFO] Generated 1 folds for forecast horizon 21\n"
     ]
    },
    {
     "name": "stderr",
     "output_type": "stream",
     "text": [
      "[I 2025-05-11 16:03:51,364] Trial 22 finished with value: -0.43962848297213625 and parameters: {'sequence_length': 1512, 'use_EUDR1T  Index': False, 'use_EUR009M  Index': True, 'use_ER1  Index': True, 'use_ER2  Index': True, 'use_ER3  Index': False, 'use_ER4  Index': False, 'use_ER5  Index': True, 'use_FDTR  Index': True, 'use_GJTB3MO  Index': False, 'use_DU1  Index': True, 'use_RX1  Index': False, 'use_SX5E  Index': True, 'use_SX7E  Index': False, 'use_HSI  Index': False, 'use_EURUSD   Index': True, 'use_EURJPY   Index': True, 'use_EURGBP   Index': False, 'use_EURCHF   Index': True, 'use_CRY  Index': False, 'use_C 1  Index': True, 'use_NG1  Index': False, 'use_MOVE  Index': True, 'use_VIX  Index': False, 'use_GDP CQOQ Index': False, 'use_CPI XYOY  Index': True, 'use_NAPMPMI  Index': True, 'use_IP CHNG  Index': True, 'use_CPTICHNG  Index': False, 'use_USURTOT  Index': False, 'use_NFP TCH  Index': False, 'use_INJCJC  Index': True, 'use_LEI CHNG  Index': True, 'use_EUGNEMUY  Index': False, 'use_CPEXEMUY  Index': False, 'use_EUIPEMUY  Index': False, 'use_EUUCEMU  Index': False, 'use_GRZEEUEX  Index': False, 'use_UMRTEMU   Index': False, 'use_OLE3US  Index': False, 'use_OLE3EURA  Index': True, 'use_OLE3JAPA  Index': False, 'use_OLE3BRAZ  Index': False, 'use_OLE3INDI  Index': True, 'use_OLE3CHIN  Index': True, 'use_EBBSDEPF  Index': False, 'use_EBBSLONG  Index': True, 'use_ECMSM1Y  Index': False, 'use_ECMSM2Y  Index': True, 'use_.USDEUR02 U Index': True, 'use_.EURGBP02 U Index': True, 'use_.EURGBP10 U Index': True, 'use_EU 10Y-03M': True, 'use_US 10Y-03M': False, 'use_.EUR0210Y U Index': True, 'use_.EUR1030Y U Index': True, 'use_CS': True, 'use_HCS': False, 'use_INF': True, 'use_NFP': True, 'use_GLD': True, 'use_OIL': False, 'use_VIX': False, 'use_UMCSENT': True, 'use_GPR': False, 'use_INFCE1': True, 'use_INFE1': True, 'use_BEAR': False, 'use_BULL': False, 'use_UNC': False, 'use_CU_release': False, 'use_INF_release': True, 'use_NFP_release': True, 'use_PMI_release': False, 'use_UN_release': False}. Best is trial 0 with value: -0.8273672687465791.\n"
     ]
    },
    {
     "name": "stdout",
     "output_type": "stream",
     "text": [
      "[INFO] Generated 2 folds for forecast horizon 21\n"
     ]
    },
    {
     "name": "stderr",
     "output_type": "stream",
     "text": [
      "[I 2025-05-11 16:03:53,180] Trial 23 finished with value: -0.4631817217231379 and parameters: {'sequence_length': 1323, 'use_EUDR1T  Index': False, 'use_EUR009M  Index': True, 'use_ER1  Index': True, 'use_ER2  Index': True, 'use_ER3  Index': False, 'use_ER4  Index': False, 'use_ER5  Index': True, 'use_FDTR  Index': True, 'use_GJTB3MO  Index': False, 'use_DU1  Index': True, 'use_RX1  Index': False, 'use_SX5E  Index': True, 'use_SX7E  Index': False, 'use_HSI  Index': False, 'use_EURUSD   Index': True, 'use_EURJPY   Index': True, 'use_EURGBP   Index': False, 'use_EURCHF   Index': True, 'use_CRY  Index': True, 'use_C 1  Index': True, 'use_NG1  Index': False, 'use_MOVE  Index': True, 'use_VIX  Index': False, 'use_GDP CQOQ Index': False, 'use_CPI XYOY  Index': True, 'use_NAPMPMI  Index': True, 'use_IP CHNG  Index': True, 'use_CPTICHNG  Index': False, 'use_USURTOT  Index': False, 'use_NFP TCH  Index': False, 'use_INJCJC  Index': True, 'use_LEI CHNG  Index': True, 'use_EUGNEMUY  Index': False, 'use_CPEXEMUY  Index': False, 'use_EUIPEMUY  Index': False, 'use_EUUCEMU  Index': False, 'use_GRZEEUEX  Index': False, 'use_UMRTEMU   Index': False, 'use_OLE3US  Index': False, 'use_OLE3EURA  Index': True, 'use_OLE3JAPA  Index': False, 'use_OLE3BRAZ  Index': False, 'use_OLE3INDI  Index': True, 'use_OLE3CHIN  Index': True, 'use_EBBSDEPF  Index': False, 'use_EBBSLONG  Index': True, 'use_ECMSM1Y  Index': False, 'use_ECMSM2Y  Index': True, 'use_.USDEUR02 U Index': True, 'use_.EURGBP02 U Index': True, 'use_.EURGBP10 U Index': True, 'use_EU 10Y-03M': True, 'use_US 10Y-03M': False, 'use_.EUR0210Y U Index': True, 'use_.EUR1030Y U Index': True, 'use_CS': True, 'use_HCS': False, 'use_INF': True, 'use_NFP': True, 'use_GLD': True, 'use_OIL': False, 'use_VIX': False, 'use_UMCSENT': True, 'use_GPR': False, 'use_INFCE1': True, 'use_INFE1': True, 'use_BEAR': False, 'use_BULL': False, 'use_UNC': False, 'use_CU_release': False, 'use_INF_release': True, 'use_NFP_release': True, 'use_PMI_release': False, 'use_UN_release': False}. Best is trial 0 with value: -0.8273672687465791.\n"
     ]
    },
    {
     "name": "stdout",
     "output_type": "stream",
     "text": [
      "[INFO] Generated 2 folds for forecast horizon 21\n"
     ]
    },
    {
     "name": "stderr",
     "output_type": "stream",
     "text": [
      "[I 2025-05-11 16:03:54,917] Trial 24 finished with value: -0.4055769211459097 and parameters: {'sequence_length': 1260, 'use_EUDR1T  Index': False, 'use_EUR009M  Index': True, 'use_ER1  Index': True, 'use_ER2  Index': True, 'use_ER3  Index': True, 'use_ER4  Index': False, 'use_ER5  Index': True, 'use_FDTR  Index': True, 'use_GJTB3MO  Index': False, 'use_DU1  Index': True, 'use_RX1  Index': False, 'use_SX5E  Index': True, 'use_SX7E  Index': True, 'use_HSI  Index': False, 'use_EURUSD   Index': False, 'use_EURJPY   Index': False, 'use_EURGBP   Index': False, 'use_EURCHF   Index': False, 'use_CRY  Index': False, 'use_C 1  Index': True, 'use_NG1  Index': False, 'use_MOVE  Index': True, 'use_VIX  Index': True, 'use_GDP CQOQ Index': False, 'use_CPI XYOY  Index': False, 'use_NAPMPMI  Index': True, 'use_IP CHNG  Index': True, 'use_CPTICHNG  Index': False, 'use_USURTOT  Index': False, 'use_NFP TCH  Index': False, 'use_INJCJC  Index': True, 'use_LEI CHNG  Index': False, 'use_EUGNEMUY  Index': False, 'use_CPEXEMUY  Index': False, 'use_EUIPEMUY  Index': False, 'use_EUUCEMU  Index': False, 'use_GRZEEUEX  Index': True, 'use_UMRTEMU   Index': False, 'use_OLE3US  Index': True, 'use_OLE3EURA  Index': True, 'use_OLE3JAPA  Index': True, 'use_OLE3BRAZ  Index': False, 'use_OLE3INDI  Index': True, 'use_OLE3CHIN  Index': True, 'use_EBBSDEPF  Index': True, 'use_EBBSLONG  Index': True, 'use_ECMSM1Y  Index': False, 'use_ECMSM2Y  Index': True, 'use_.USDEUR02 U Index': True, 'use_.EURGBP02 U Index': False, 'use_.EURGBP10 U Index': True, 'use_EU 10Y-03M': True, 'use_US 10Y-03M': False, 'use_.EUR0210Y U Index': True, 'use_.EUR1030Y U Index': True, 'use_CS': True, 'use_HCS': True, 'use_INF': True, 'use_NFP': False, 'use_GLD': False, 'use_OIL': False, 'use_VIX': False, 'use_UMCSENT': True, 'use_GPR': False, 'use_INFCE1': True, 'use_INFE1': True, 'use_BEAR': True, 'use_BULL': False, 'use_UNC': False, 'use_CU_release': False, 'use_INF_release': True, 'use_NFP_release': True, 'use_PMI_release': False, 'use_UN_release': False}. Best is trial 0 with value: -0.8273672687465791.\n"
     ]
    },
    {
     "name": "stdout",
     "output_type": "stream",
     "text": [
      "[INFO] Generated 1 folds for forecast horizon 21\n"
     ]
    },
    {
     "name": "stderr",
     "output_type": "stream",
     "text": [
      "[I 2025-05-11 16:03:55,459] Trial 25 finished with value: -0.6666666666666666 and parameters: {'sequence_length': 1386, 'use_EUDR1T  Index': False, 'use_EUR009M  Index': True, 'use_ER1  Index': True, 'use_ER2  Index': True, 'use_ER3  Index': True, 'use_ER4  Index': False, 'use_ER5  Index': True, 'use_FDTR  Index': True, 'use_GJTB3MO  Index': False, 'use_DU1  Index': True, 'use_RX1  Index': False, 'use_SX5E  Index': True, 'use_SX7E  Index': True, 'use_HSI  Index': False, 'use_EURUSD   Index': False, 'use_EURJPY   Index': False, 'use_EURGBP   Index': False, 'use_EURCHF   Index': False, 'use_CRY  Index': False, 'use_C 1  Index': True, 'use_NG1  Index': False, 'use_MOVE  Index': True, 'use_VIX  Index': True, 'use_GDP CQOQ Index': False, 'use_CPI XYOY  Index': False, 'use_NAPMPMI  Index': True, 'use_IP CHNG  Index': True, 'use_CPTICHNG  Index': False, 'use_USURTOT  Index': False, 'use_NFP TCH  Index': False, 'use_INJCJC  Index': True, 'use_LEI CHNG  Index': False, 'use_EUGNEMUY  Index': False, 'use_CPEXEMUY  Index': False, 'use_EUIPEMUY  Index': False, 'use_EUUCEMU  Index': False, 'use_GRZEEUEX  Index': True, 'use_UMRTEMU   Index': False, 'use_OLE3US  Index': True, 'use_OLE3EURA  Index': True, 'use_OLE3JAPA  Index': True, 'use_OLE3BRAZ  Index': False, 'use_OLE3INDI  Index': True, 'use_OLE3CHIN  Index': True, 'use_EBBSDEPF  Index': True, 'use_EBBSLONG  Index': True, 'use_ECMSM1Y  Index': False, 'use_ECMSM2Y  Index': True, 'use_.USDEUR02 U Index': True, 'use_.EURGBP02 U Index': False, 'use_.EURGBP10 U Index': True, 'use_EU 10Y-03M': True, 'use_US 10Y-03M': False, 'use_.EUR0210Y U Index': True, 'use_.EUR1030Y U Index': True, 'use_CS': True, 'use_HCS': True, 'use_INF': True, 'use_NFP': False, 'use_GLD': False, 'use_OIL': False, 'use_VIX': False, 'use_UMCSENT': True, 'use_GPR': False, 'use_INFCE1': True, 'use_INFE1': True, 'use_BEAR': True, 'use_BULL': False, 'use_UNC': False, 'use_CU_release': False, 'use_INF_release': True, 'use_NFP_release': True, 'use_PMI_release': False, 'use_UN_release': False}. Best is trial 0 with value: -0.8273672687465791.\n"
     ]
    },
    {
     "name": "stdout",
     "output_type": "stream",
     "text": [
      "[INFO] Generated 2 folds for forecast horizon 21\n"
     ]
    },
    {
     "name": "stderr",
     "output_type": "stream",
     "text": [
      "[I 2025-05-11 16:03:57,270] Trial 26 finished with value: -0.5432000114153622 and parameters: {'sequence_length': 1197, 'use_EUDR1T  Index': True, 'use_EUR009M  Index': True, 'use_ER1  Index': False, 'use_ER2  Index': False, 'use_ER3  Index': False, 'use_ER4  Index': True, 'use_ER5  Index': True, 'use_FDTR  Index': True, 'use_GJTB3MO  Index': True, 'use_DU1  Index': True, 'use_RX1  Index': True, 'use_SX5E  Index': False, 'use_SX7E  Index': False, 'use_HSI  Index': False, 'use_EURUSD   Index': True, 'use_EURJPY   Index': True, 'use_EURGBP   Index': True, 'use_EURCHF   Index': True, 'use_CRY  Index': True, 'use_C 1  Index': False, 'use_NG1  Index': True, 'use_MOVE  Index': False, 'use_VIX  Index': False, 'use_GDP CQOQ Index': True, 'use_CPI XYOY  Index': True, 'use_NAPMPMI  Index': False, 'use_IP CHNG  Index': True, 'use_CPTICHNG  Index': True, 'use_USURTOT  Index': False, 'use_NFP TCH  Index': False, 'use_INJCJC  Index': True, 'use_LEI CHNG  Index': True, 'use_EUGNEMUY  Index': False, 'use_CPEXEMUY  Index': True, 'use_EUIPEMUY  Index': False, 'use_EUUCEMU  Index': True, 'use_GRZEEUEX  Index': False, 'use_UMRTEMU   Index': True, 'use_OLE3US  Index': False, 'use_OLE3EURA  Index': True, 'use_OLE3JAPA  Index': False, 'use_OLE3BRAZ  Index': True, 'use_OLE3INDI  Index': False, 'use_OLE3CHIN  Index': False, 'use_EBBSDEPF  Index': False, 'use_EBBSLONG  Index': False, 'use_ECMSM1Y  Index': False, 'use_ECMSM2Y  Index': False, 'use_.USDEUR02 U Index': False, 'use_.EURGBP02 U Index': True, 'use_.EURGBP10 U Index': False, 'use_EU 10Y-03M': False, 'use_US 10Y-03M': True, 'use_.EUR0210Y U Index': True, 'use_.EUR1030Y U Index': False, 'use_CS': False, 'use_HCS': False, 'use_INF': False, 'use_NFP': True, 'use_GLD': True, 'use_OIL': True, 'use_VIX': True, 'use_UMCSENT': True, 'use_GPR': False, 'use_INFCE1': False, 'use_INFE1': True, 'use_BEAR': False, 'use_BULL': True, 'use_UNC': True, 'use_CU_release': True, 'use_INF_release': False, 'use_NFP_release': False, 'use_PMI_release': True, 'use_UN_release': True}. Best is trial 0 with value: -0.8273672687465791.\n"
     ]
    },
    {
     "name": "stdout",
     "output_type": "stream",
     "text": [
      "[INFO] Generated 1 folds for forecast horizon 21\n"
     ]
    },
    {
     "name": "stderr",
     "output_type": "stream",
     "text": [
      "[I 2025-05-11 16:03:57,747] Trial 27 finished with value: -0.3557312252964427 and parameters: {'sequence_length': 1449, 'use_EUDR1T  Index': False, 'use_EUR009M  Index': True, 'use_ER1  Index': True, 'use_ER2  Index': True, 'use_ER3  Index': True, 'use_ER4  Index': False, 'use_ER5  Index': True, 'use_FDTR  Index': True, 'use_GJTB3MO  Index': False, 'use_DU1  Index': True, 'use_RX1  Index': False, 'use_SX5E  Index': True, 'use_SX7E  Index': True, 'use_HSI  Index': False, 'use_EURUSD   Index': False, 'use_EURJPY   Index': False, 'use_EURGBP   Index': False, 'use_EURCHF   Index': False, 'use_CRY  Index': False, 'use_C 1  Index': True, 'use_NG1  Index': False, 'use_MOVE  Index': True, 'use_VIX  Index': True, 'use_GDP CQOQ Index': False, 'use_CPI XYOY  Index': False, 'use_NAPMPMI  Index': True, 'use_IP CHNG  Index': True, 'use_CPTICHNG  Index': False, 'use_USURTOT  Index': False, 'use_NFP TCH  Index': False, 'use_INJCJC  Index': True, 'use_LEI CHNG  Index': False, 'use_EUGNEMUY  Index': False, 'use_CPEXEMUY  Index': False, 'use_EUIPEMUY  Index': False, 'use_EUUCEMU  Index': False, 'use_GRZEEUEX  Index': True, 'use_UMRTEMU   Index': False, 'use_OLE3US  Index': True, 'use_OLE3EURA  Index': True, 'use_OLE3JAPA  Index': True, 'use_OLE3BRAZ  Index': False, 'use_OLE3INDI  Index': True, 'use_OLE3CHIN  Index': True, 'use_EBBSDEPF  Index': True, 'use_EBBSLONG  Index': True, 'use_ECMSM1Y  Index': False, 'use_ECMSM2Y  Index': True, 'use_.USDEUR02 U Index': True, 'use_.EURGBP02 U Index': False, 'use_.EURGBP10 U Index': True, 'use_EU 10Y-03M': True, 'use_US 10Y-03M': False, 'use_.EUR0210Y U Index': True, 'use_.EUR1030Y U Index': True, 'use_CS': True, 'use_HCS': True, 'use_INF': True, 'use_NFP': False, 'use_GLD': False, 'use_OIL': False, 'use_VIX': False, 'use_UMCSENT': True, 'use_GPR': False, 'use_INFCE1': True, 'use_INFE1': True, 'use_BEAR': True, 'use_BULL': False, 'use_UNC': False, 'use_CU_release': False, 'use_INF_release': True, 'use_NFP_release': True, 'use_PMI_release': False, 'use_UN_release': False}. Best is trial 0 with value: -0.8273672687465791.\n"
     ]
    },
    {
     "name": "stdout",
     "output_type": "stream",
     "text": [
      "[INFO] Generated 2 folds for forecast horizon 21\n"
     ]
    },
    {
     "name": "stderr",
     "output_type": "stream",
     "text": [
      "[I 2025-05-11 16:03:59,463] Trial 28 finished with value: -0.779421583441684 and parameters: {'sequence_length': 1134, 'use_EUDR1T  Index': True, 'use_EUR009M  Index': True, 'use_ER1  Index': True, 'use_ER2  Index': True, 'use_ER3  Index': False, 'use_ER4  Index': False, 'use_ER5  Index': False, 'use_FDTR  Index': False, 'use_GJTB3MO  Index': False, 'use_DU1  Index': True, 'use_RX1  Index': False, 'use_SX5E  Index': False, 'use_SX7E  Index': False, 'use_HSI  Index': True, 'use_EURUSD   Index': True, 'use_EURJPY   Index': True, 'use_EURGBP   Index': True, 'use_EURCHF   Index': True, 'use_CRY  Index': True, 'use_C 1  Index': False, 'use_NG1  Index': True, 'use_MOVE  Index': True, 'use_VIX  Index': False, 'use_GDP CQOQ Index': True, 'use_CPI XYOY  Index': True, 'use_NAPMPMI  Index': True, 'use_IP CHNG  Index': False, 'use_CPTICHNG  Index': True, 'use_USURTOT  Index': True, 'use_NFP TCH  Index': True, 'use_INJCJC  Index': False, 'use_LEI CHNG  Index': True, 'use_EUGNEMUY  Index': True, 'use_CPEXEMUY  Index': False, 'use_EUIPEMUY  Index': False, 'use_EUUCEMU  Index': True, 'use_GRZEEUEX  Index': False, 'use_UMRTEMU   Index': False, 'use_OLE3US  Index': False, 'use_OLE3EURA  Index': False, 'use_OLE3JAPA  Index': False, 'use_OLE3BRAZ  Index': True, 'use_OLE3INDI  Index': False, 'use_OLE3CHIN  Index': False, 'use_EBBSDEPF  Index': False, 'use_EBBSLONG  Index': True, 'use_ECMSM1Y  Index': True, 'use_ECMSM2Y  Index': True, 'use_.USDEUR02 U Index': False, 'use_.EURGBP02 U Index': True, 'use_.EURGBP10 U Index': True, 'use_EU 10Y-03M': False, 'use_US 10Y-03M': False, 'use_.EUR0210Y U Index': True, 'use_.EUR1030Y U Index': False, 'use_CS': False, 'use_HCS': False, 'use_INF': True, 'use_NFP': True, 'use_GLD': True, 'use_OIL': True, 'use_VIX': False, 'use_UMCSENT': False, 'use_GPR': True, 'use_INFCE1': True, 'use_INFE1': True, 'use_BEAR': False, 'use_BULL': False, 'use_UNC': True, 'use_CU_release': False, 'use_INF_release': False, 'use_NFP_release': False, 'use_PMI_release': False, 'use_UN_release': False}. Best is trial 0 with value: -0.8273672687465791.\n"
     ]
    },
    {
     "name": "stdout",
     "output_type": "stream",
     "text": [
      "[INFO] Generated 2 folds for forecast horizon 21\n"
     ]
    },
    {
     "name": "stderr",
     "output_type": "stream",
     "text": [
      "[I 2025-05-11 16:04:01,044] Trial 29 finished with value: -0.1735108090248277 and parameters: {'sequence_length': 1071, 'use_EUDR1T  Index': True, 'use_EUR009M  Index': True, 'use_ER1  Index': True, 'use_ER2  Index': True, 'use_ER3  Index': False, 'use_ER4  Index': False, 'use_ER5  Index': False, 'use_FDTR  Index': False, 'use_GJTB3MO  Index': False, 'use_DU1  Index': True, 'use_RX1  Index': False, 'use_SX5E  Index': False, 'use_SX7E  Index': False, 'use_HSI  Index': True, 'use_EURUSD   Index': True, 'use_EURJPY   Index': True, 'use_EURGBP   Index': True, 'use_EURCHF   Index': True, 'use_CRY  Index': True, 'use_C 1  Index': False, 'use_NG1  Index': True, 'use_MOVE  Index': True, 'use_VIX  Index': False, 'use_GDP CQOQ Index': True, 'use_CPI XYOY  Index': True, 'use_NAPMPMI  Index': True, 'use_IP CHNG  Index': False, 'use_CPTICHNG  Index': True, 'use_USURTOT  Index': True, 'use_NFP TCH  Index': True, 'use_INJCJC  Index': False, 'use_LEI CHNG  Index': True, 'use_EUGNEMUY  Index': True, 'use_CPEXEMUY  Index': False, 'use_EUIPEMUY  Index': False, 'use_EUUCEMU  Index': True, 'use_GRZEEUEX  Index': False, 'use_UMRTEMU   Index': False, 'use_OLE3US  Index': False, 'use_OLE3EURA  Index': False, 'use_OLE3JAPA  Index': False, 'use_OLE3BRAZ  Index': True, 'use_OLE3INDI  Index': False, 'use_OLE3CHIN  Index': False, 'use_EBBSDEPF  Index': False, 'use_EBBSLONG  Index': True, 'use_ECMSM1Y  Index': True, 'use_ECMSM2Y  Index': True, 'use_.USDEUR02 U Index': False, 'use_.EURGBP02 U Index': True, 'use_.EURGBP10 U Index': True, 'use_EU 10Y-03M': False, 'use_US 10Y-03M': False, 'use_.EUR0210Y U Index': True, 'use_.EUR1030Y U Index': False, 'use_CS': False, 'use_HCS': False, 'use_INF': True, 'use_NFP': True, 'use_GLD': True, 'use_OIL': True, 'use_VIX': False, 'use_UMCSENT': False, 'use_GPR': True, 'use_INFCE1': True, 'use_INFE1': True, 'use_BEAR': False, 'use_BULL': False, 'use_UNC': True, 'use_CU_release': False, 'use_INF_release': False, 'use_NFP_release': False, 'use_PMI_release': False, 'use_UN_release': False}. Best is trial 0 with value: -0.8273672687465791.\n",
      "[I 2025-05-11 16:04:01,050] A new study created in memory with name: no-name-a0eeca8d-7989-4445-8088-796cc482daca\n"
     ]
    },
    {
     "name": "stdout",
     "output_type": "stream",
     "text": [
      "[RESULT] Horizon 21: Best Params = {'sequence_length': 1197, 'use_EUDR1T  Index': False, 'use_EUR009M  Index': True, 'use_ER1  Index': True, 'use_ER2  Index': True, 'use_ER3  Index': True, 'use_ER4  Index': False, 'use_ER5  Index': False, 'use_FDTR  Index': False, 'use_GJTB3MO  Index': False, 'use_DU1  Index': True, 'use_RX1  Index': False, 'use_SX5E  Index': False, 'use_SX7E  Index': True, 'use_HSI  Index': True, 'use_EURUSD   Index': False, 'use_EURJPY   Index': False, 'use_EURGBP   Index': True, 'use_EURCHF   Index': False, 'use_CRY  Index': False, 'use_C 1  Index': False, 'use_NG1  Index': True, 'use_MOVE  Index': True, 'use_VIX  Index': True, 'use_GDP CQOQ Index': True, 'use_CPI XYOY  Index': False, 'use_NAPMPMI  Index': True, 'use_IP CHNG  Index': False, 'use_CPTICHNG  Index': True, 'use_USURTOT  Index': True, 'use_NFP TCH  Index': True, 'use_INJCJC  Index': False, 'use_LEI CHNG  Index': False, 'use_EUGNEMUY  Index': True, 'use_CPEXEMUY  Index': False, 'use_EUIPEMUY  Index': False, 'use_EUUCEMU  Index': False, 'use_GRZEEUEX  Index': True, 'use_UMRTEMU   Index': False, 'use_OLE3US  Index': True, 'use_OLE3EURA  Index': False, 'use_OLE3JAPA  Index': True, 'use_OLE3BRAZ  Index': False, 'use_OLE3INDI  Index': False, 'use_OLE3CHIN  Index': False, 'use_EBBSDEPF  Index': True, 'use_EBBSLONG  Index': True, 'use_ECMSM1Y  Index': True, 'use_ECMSM2Y  Index': True, 'use_.USDEUR02 U Index': True, 'use_.EURGBP02 U Index': False, 'use_.EURGBP10 U Index': True, 'use_EU 10Y-03M': False, 'use_US 10Y-03M': False, 'use_.EUR0210Y U Index': True, 'use_.EUR1030Y U Index': False, 'use_CS': False, 'use_HCS': True, 'use_INF': True, 'use_NFP': False, 'use_GLD': False, 'use_OIL': True, 'use_VIX': False, 'use_UMCSENT': False, 'use_GPR': True, 'use_INFCE1': True, 'use_INFE1': True, 'use_BEAR': True, 'use_BULL': False, 'use_UNC': False, 'use_CU_release': False, 'use_INF_release': False, 'use_NFP_release': False, 'use_PMI_release': False, 'use_UN_release': False}, Best F1 = 0.8274\n",
      "\n",
      "=== Forecast Horizon: 63 ===\n",
      "[INFO] Generated 2 folds for forecast horizon 63\n"
     ]
    },
    {
     "name": "stderr",
     "output_type": "stream",
     "text": [
      "[I 2025-05-11 16:04:02,145] Trial 0 finished with value: -0.2624348144307889 and parameters: {'sequence_length': 882, 'use_EUDR1T  Index': True, 'use_EUR009M  Index': True, 'use_ER1  Index': False, 'use_ER2  Index': True, 'use_ER3  Index': False, 'use_ER4  Index': True, 'use_ER5  Index': True, 'use_FDTR  Index': False, 'use_GJTB3MO  Index': True, 'use_DU1  Index': True, 'use_RX1  Index': True, 'use_SX5E  Index': False, 'use_SX7E  Index': True, 'use_HSI  Index': False, 'use_EURUSD   Index': True, 'use_EURJPY   Index': True, 'use_EURGBP   Index': True, 'use_EURCHF   Index': True, 'use_CRY  Index': False, 'use_C 1  Index': True, 'use_NG1  Index': False, 'use_MOVE  Index': True, 'use_VIX  Index': True, 'use_GDP CQOQ Index': False, 'use_CPI XYOY  Index': False, 'use_NAPMPMI  Index': True, 'use_IP CHNG  Index': False, 'use_CPTICHNG  Index': False, 'use_USURTOT  Index': True, 'use_NFP TCH  Index': False, 'use_INJCJC  Index': False, 'use_LEI CHNG  Index': True, 'use_EUGNEMUY  Index': True, 'use_CPEXEMUY  Index': True, 'use_EUIPEMUY  Index': True, 'use_EUUCEMU  Index': True, 'use_GRZEEUEX  Index': False, 'use_UMRTEMU   Index': False, 'use_OLE3US  Index': False, 'use_OLE3EURA  Index': False, 'use_OLE3JAPA  Index': True, 'use_OLE3BRAZ  Index': False, 'use_OLE3INDI  Index': True, 'use_OLE3CHIN  Index': False, 'use_EBBSDEPF  Index': False, 'use_EBBSLONG  Index': False, 'use_ECMSM1Y  Index': False, 'use_ECMSM2Y  Index': True, 'use_.USDEUR02 U Index': True, 'use_.EURGBP02 U Index': False, 'use_.EURGBP10 U Index': True, 'use_EU 10Y-03M': False, 'use_US 10Y-03M': False, 'use_.EUR0210Y U Index': False, 'use_.EUR1030Y U Index': False, 'use_CS': False, 'use_HCS': False, 'use_INF': False, 'use_NFP': True, 'use_GLD': False, 'use_OIL': False, 'use_VIX': False, 'use_UMCSENT': True, 'use_GPR': False, 'use_INFCE1': False, 'use_INFE1': True, 'use_BEAR': True, 'use_BULL': True, 'use_UNC': False, 'use_CU_release': True, 'use_INF_release': False, 'use_NFP_release': False, 'use_PMI_release': True, 'use_UN_release': True}. Best is trial 0 with value: -0.2624348144307889.\n"
     ]
    },
    {
     "name": "stdout",
     "output_type": "stream",
     "text": [
      "[INFO] Generated 2 folds for forecast horizon 63\n"
     ]
    },
    {
     "name": "stderr",
     "output_type": "stream",
     "text": [
      "[I 2025-05-11 16:04:05,834] Trial 1 finished with value: -0.36927730542838455 and parameters: {'sequence_length': 1197, 'use_EUDR1T  Index': True, 'use_EUR009M  Index': False, 'use_ER1  Index': False, 'use_ER2  Index': True, 'use_ER3  Index': False, 'use_ER4  Index': False, 'use_ER5  Index': False, 'use_FDTR  Index': True, 'use_GJTB3MO  Index': False, 'use_DU1  Index': False, 'use_RX1  Index': True, 'use_SX5E  Index': False, 'use_SX7E  Index': True, 'use_HSI  Index': False, 'use_EURUSD   Index': False, 'use_EURJPY   Index': True, 'use_EURGBP   Index': True, 'use_EURCHF   Index': True, 'use_CRY  Index': False, 'use_C 1  Index': False, 'use_NG1  Index': True, 'use_MOVE  Index': False, 'use_VIX  Index': False, 'use_GDP CQOQ Index': True, 'use_CPI XYOY  Index': False, 'use_NAPMPMI  Index': True, 'use_IP CHNG  Index': False, 'use_CPTICHNG  Index': False, 'use_USURTOT  Index': True, 'use_NFP TCH  Index': True, 'use_INJCJC  Index': False, 'use_LEI CHNG  Index': False, 'use_EUGNEMUY  Index': False, 'use_CPEXEMUY  Index': False, 'use_EUIPEMUY  Index': False, 'use_EUUCEMU  Index': False, 'use_GRZEEUEX  Index': False, 'use_UMRTEMU   Index': True, 'use_OLE3US  Index': True, 'use_OLE3EURA  Index': False, 'use_OLE3JAPA  Index': False, 'use_OLE3BRAZ  Index': False, 'use_OLE3INDI  Index': False, 'use_OLE3CHIN  Index': False, 'use_EBBSDEPF  Index': False, 'use_EBBSLONG  Index': True, 'use_ECMSM1Y  Index': True, 'use_ECMSM2Y  Index': False, 'use_.USDEUR02 U Index': True, 'use_.EURGBP02 U Index': False, 'use_.EURGBP10 U Index': False, 'use_EU 10Y-03M': False, 'use_US 10Y-03M': False, 'use_.EUR0210Y U Index': True, 'use_.EUR1030Y U Index': True, 'use_CS': False, 'use_HCS': True, 'use_INF': True, 'use_NFP': True, 'use_GLD': False, 'use_OIL': False, 'use_VIX': False, 'use_UMCSENT': True, 'use_GPR': True, 'use_INFCE1': False, 'use_INFE1': False, 'use_BEAR': True, 'use_BULL': False, 'use_UNC': False, 'use_CU_release': True, 'use_INF_release': True, 'use_NFP_release': True, 'use_PMI_release': False, 'use_UN_release': False}. Best is trial 1 with value: -0.36927730542838455.\n"
     ]
    },
    {
     "name": "stdout",
     "output_type": "stream",
     "text": [
      "[INFO] Generated 2 folds for forecast horizon 63\n"
     ]
    },
    {
     "name": "stderr",
     "output_type": "stream",
     "text": [
      "[I 2025-05-11 16:04:07,234] Trial 2 finished with value: -0.7690841399851079 and parameters: {'sequence_length': 1071, 'use_EUDR1T  Index': True, 'use_EUR009M  Index': True, 'use_ER1  Index': True, 'use_ER2  Index': True, 'use_ER3  Index': False, 'use_ER4  Index': True, 'use_ER5  Index': False, 'use_FDTR  Index': True, 'use_GJTB3MO  Index': True, 'use_DU1  Index': True, 'use_RX1  Index': False, 'use_SX5E  Index': False, 'use_SX7E  Index': False, 'use_HSI  Index': False, 'use_EURUSD   Index': True, 'use_EURJPY   Index': False, 'use_EURGBP   Index': False, 'use_EURCHF   Index': False, 'use_CRY  Index': False, 'use_C 1  Index': False, 'use_NG1  Index': True, 'use_MOVE  Index': True, 'use_VIX  Index': False, 'use_GDP CQOQ Index': False, 'use_CPI XYOY  Index': True, 'use_NAPMPMI  Index': True, 'use_IP CHNG  Index': False, 'use_CPTICHNG  Index': False, 'use_USURTOT  Index': False, 'use_NFP TCH  Index': False, 'use_INJCJC  Index': True, 'use_LEI CHNG  Index': False, 'use_EUGNEMUY  Index': True, 'use_CPEXEMUY  Index': True, 'use_EUIPEMUY  Index': True, 'use_EUUCEMU  Index': False, 'use_GRZEEUEX  Index': False, 'use_UMRTEMU   Index': True, 'use_OLE3US  Index': True, 'use_OLE3EURA  Index': True, 'use_OLE3JAPA  Index': False, 'use_OLE3BRAZ  Index': True, 'use_OLE3INDI  Index': True, 'use_OLE3CHIN  Index': False, 'use_EBBSDEPF  Index': True, 'use_EBBSLONG  Index': True, 'use_ECMSM1Y  Index': False, 'use_ECMSM2Y  Index': False, 'use_.USDEUR02 U Index': True, 'use_.EURGBP02 U Index': True, 'use_.EURGBP10 U Index': True, 'use_EU 10Y-03M': False, 'use_US 10Y-03M': True, 'use_.EUR0210Y U Index': False, 'use_.EUR1030Y U Index': True, 'use_CS': True, 'use_HCS': True, 'use_INF': False, 'use_NFP': False, 'use_GLD': False, 'use_OIL': False, 'use_VIX': False, 'use_UMCSENT': False, 'use_GPR': True, 'use_INFCE1': False, 'use_INFE1': False, 'use_BEAR': True, 'use_BULL': True, 'use_UNC': False, 'use_CU_release': False, 'use_INF_release': False, 'use_NFP_release': False, 'use_PMI_release': True, 'use_UN_release': False}. Best is trial 2 with value: -0.7690841399851079.\n"
     ]
    },
    {
     "name": "stdout",
     "output_type": "stream",
     "text": [
      "[INFO] Generated 2 folds for forecast horizon 63\n"
     ]
    },
    {
     "name": "stderr",
     "output_type": "stream",
     "text": [
      "[I 2025-05-11 16:04:09,079] Trial 3 finished with value: -0.9056603773584906 and parameters: {'sequence_length': 1260, 'use_EUDR1T  Index': True, 'use_EUR009M  Index': True, 'use_ER1  Index': False, 'use_ER2  Index': False, 'use_ER3  Index': False, 'use_ER4  Index': False, 'use_ER5  Index': False, 'use_FDTR  Index': False, 'use_GJTB3MO  Index': True, 'use_DU1  Index': True, 'use_RX1  Index': False, 'use_SX5E  Index': False, 'use_SX7E  Index': True, 'use_HSI  Index': False, 'use_EURUSD   Index': False, 'use_EURJPY   Index': True, 'use_EURGBP   Index': False, 'use_EURCHF   Index': True, 'use_CRY  Index': False, 'use_C 1  Index': True, 'use_NG1  Index': False, 'use_MOVE  Index': True, 'use_VIX  Index': False, 'use_GDP CQOQ Index': False, 'use_CPI XYOY  Index': False, 'use_NAPMPMI  Index': False, 'use_IP CHNG  Index': True, 'use_CPTICHNG  Index': False, 'use_USURTOT  Index': False, 'use_NFP TCH  Index': True, 'use_INJCJC  Index': False, 'use_LEI CHNG  Index': False, 'use_EUGNEMUY  Index': True, 'use_CPEXEMUY  Index': True, 'use_EUIPEMUY  Index': True, 'use_EUUCEMU  Index': False, 'use_GRZEEUEX  Index': False, 'use_UMRTEMU   Index': False, 'use_OLE3US  Index': True, 'use_OLE3EURA  Index': False, 'use_OLE3JAPA  Index': False, 'use_OLE3BRAZ  Index': True, 'use_OLE3INDI  Index': False, 'use_OLE3CHIN  Index': True, 'use_EBBSDEPF  Index': False, 'use_EBBSLONG  Index': True, 'use_ECMSM1Y  Index': False, 'use_ECMSM2Y  Index': True, 'use_.USDEUR02 U Index': False, 'use_.EURGBP02 U Index': False, 'use_.EURGBP10 U Index': False, 'use_EU 10Y-03M': True, 'use_US 10Y-03M': True, 'use_.EUR0210Y U Index': False, 'use_.EUR1030Y U Index': True, 'use_CS': True, 'use_HCS': False, 'use_INF': True, 'use_NFP': True, 'use_GLD': True, 'use_OIL': False, 'use_VIX': False, 'use_UMCSENT': True, 'use_GPR': False, 'use_INFCE1': True, 'use_INFE1': False, 'use_BEAR': False, 'use_BULL': False, 'use_UNC': False, 'use_CU_release': True, 'use_INF_release': False, 'use_NFP_release': True, 'use_PMI_release': False, 'use_UN_release': True}. Best is trial 3 with value: -0.9056603773584906.\n"
     ]
    },
    {
     "name": "stdout",
     "output_type": "stream",
     "text": [
      "[INFO] Generated 1 folds for forecast horizon 63\n"
     ]
    },
    {
     "name": "stderr",
     "output_type": "stream",
     "text": [
      "[I 2025-05-11 16:04:09,488] Trial 4 finished with value: -0.5670731707317073 and parameters: {'sequence_length': 1512, 'use_EUDR1T  Index': False, 'use_EUR009M  Index': True, 'use_ER1  Index': False, 'use_ER2  Index': False, 'use_ER3  Index': False, 'use_ER4  Index': True, 'use_ER5  Index': True, 'use_FDTR  Index': False, 'use_GJTB3MO  Index': False, 'use_DU1  Index': True, 'use_RX1  Index': False, 'use_SX5E  Index': False, 'use_SX7E  Index': False, 'use_HSI  Index': True, 'use_EURUSD   Index': False, 'use_EURJPY   Index': False, 'use_EURGBP   Index': False, 'use_EURCHF   Index': True, 'use_CRY  Index': False, 'use_C 1  Index': False, 'use_NG1  Index': True, 'use_MOVE  Index': True, 'use_VIX  Index': True, 'use_GDP CQOQ Index': True, 'use_CPI XYOY  Index': True, 'use_NAPMPMI  Index': False, 'use_IP CHNG  Index': True, 'use_CPTICHNG  Index': True, 'use_USURTOT  Index': True, 'use_NFP TCH  Index': False, 'use_INJCJC  Index': True, 'use_LEI CHNG  Index': True, 'use_EUGNEMUY  Index': True, 'use_CPEXEMUY  Index': False, 'use_EUIPEMUY  Index': True, 'use_EUUCEMU  Index': True, 'use_GRZEEUEX  Index': True, 'use_UMRTEMU   Index': False, 'use_OLE3US  Index': False, 'use_OLE3EURA  Index': False, 'use_OLE3JAPA  Index': True, 'use_OLE3BRAZ  Index': True, 'use_OLE3INDI  Index': True, 'use_OLE3CHIN  Index': False, 'use_EBBSDEPF  Index': True, 'use_EBBSLONG  Index': True, 'use_ECMSM1Y  Index': False, 'use_ECMSM2Y  Index': True, 'use_.USDEUR02 U Index': True, 'use_.EURGBP02 U Index': True, 'use_.EURGBP10 U Index': True, 'use_EU 10Y-03M': False, 'use_US 10Y-03M': True, 'use_.EUR0210Y U Index': False, 'use_.EUR1030Y U Index': True, 'use_CS': False, 'use_HCS': True, 'use_INF': True, 'use_NFP': True, 'use_GLD': True, 'use_OIL': False, 'use_VIX': False, 'use_UMCSENT': False, 'use_GPR': True, 'use_INFCE1': True, 'use_INFE1': True, 'use_BEAR': True, 'use_BULL': True, 'use_UNC': False, 'use_CU_release': True, 'use_INF_release': False, 'use_NFP_release': False, 'use_PMI_release': False, 'use_UN_release': True}. Best is trial 3 with value: -0.9056603773584906.\n"
     ]
    },
    {
     "name": "stdout",
     "output_type": "stream",
     "text": [
      "[INFO] Generated 2 folds for forecast horizon 63\n"
     ]
    },
    {
     "name": "stderr",
     "output_type": "stream",
     "text": [
      "[I 2025-05-11 16:04:11,171] Trial 5 finished with value: -0.7002919062361787 and parameters: {'sequence_length': 1071, 'use_EUDR1T  Index': False, 'use_EUR009M  Index': False, 'use_ER1  Index': False, 'use_ER2  Index': False, 'use_ER3  Index': True, 'use_ER4  Index': True, 'use_ER5  Index': True, 'use_FDTR  Index': False, 'use_GJTB3MO  Index': True, 'use_DU1  Index': True, 'use_RX1  Index': False, 'use_SX5E  Index': False, 'use_SX7E  Index': False, 'use_HSI  Index': True, 'use_EURUSD   Index': True, 'use_EURJPY   Index': False, 'use_EURGBP   Index': False, 'use_EURCHF   Index': False, 'use_CRY  Index': False, 'use_C 1  Index': True, 'use_NG1  Index': True, 'use_MOVE  Index': False, 'use_VIX  Index': True, 'use_GDP CQOQ Index': True, 'use_CPI XYOY  Index': False, 'use_NAPMPMI  Index': False, 'use_IP CHNG  Index': True, 'use_CPTICHNG  Index': True, 'use_USURTOT  Index': False, 'use_NFP TCH  Index': False, 'use_INJCJC  Index': False, 'use_LEI CHNG  Index': False, 'use_EUGNEMUY  Index': False, 'use_CPEXEMUY  Index': True, 'use_EUIPEMUY  Index': False, 'use_EUUCEMU  Index': False, 'use_GRZEEUEX  Index': False, 'use_UMRTEMU   Index': True, 'use_OLE3US  Index': False, 'use_OLE3EURA  Index': True, 'use_OLE3JAPA  Index': True, 'use_OLE3BRAZ  Index': True, 'use_OLE3INDI  Index': False, 'use_OLE3CHIN  Index': False, 'use_EBBSDEPF  Index': True, 'use_EBBSLONG  Index': False, 'use_ECMSM1Y  Index': True, 'use_ECMSM2Y  Index': True, 'use_.USDEUR02 U Index': False, 'use_.EURGBP02 U Index': True, 'use_.EURGBP10 U Index': False, 'use_EU 10Y-03M': False, 'use_US 10Y-03M': True, 'use_.EUR0210Y U Index': False, 'use_.EUR1030Y U Index': False, 'use_CS': True, 'use_HCS': True, 'use_INF': False, 'use_NFP': False, 'use_GLD': True, 'use_OIL': True, 'use_VIX': True, 'use_UMCSENT': True, 'use_GPR': True, 'use_INFCE1': False, 'use_INFE1': True, 'use_BEAR': True, 'use_BULL': True, 'use_UNC': False, 'use_CU_release': False, 'use_INF_release': True, 'use_NFP_release': True, 'use_PMI_release': True, 'use_UN_release': True}. Best is trial 3 with value: -0.9056603773584906.\n"
     ]
    },
    {
     "name": "stdout",
     "output_type": "stream",
     "text": [
      "[INFO] Generated 3 folds for forecast horizon 63\n"
     ]
    },
    {
     "name": "stderr",
     "output_type": "stream",
     "text": [
      "/venv/main/lib/python3.12/site-packages/sklearn/metrics/_classification.py:1565: UndefinedMetricWarning: F-score is ill-defined and being set to 0.0 due to no true nor predicted samples. Use `zero_division` parameter to control this behavior.\n",
      "  _warn_prf(average, modifier, f\"{metric.capitalize()} is\", len(result))\n",
      "/venv/main/lib/python3.12/site-packages/sklearn/metrics/_classification.py:1565: UndefinedMetricWarning: F-score is ill-defined and being set to 0.0 due to no true nor predicted samples. Use `zero_division` parameter to control this behavior.\n",
      "  _warn_prf(average, modifier, f\"{metric.capitalize()} is\", len(result))\n",
      "/venv/main/lib/python3.12/site-packages/sklearn/metrics/_classification.py:1565: UndefinedMetricWarning: F-score is ill-defined and being set to 0.0 due to no true nor predicted samples. Use `zero_division` parameter to control this behavior.\n",
      "  _warn_prf(average, modifier, f\"{metric.capitalize()} is\", len(result))\n",
      "/venv/main/lib/python3.12/site-packages/sklearn/metrics/_classification.py:1565: UndefinedMetricWarning: F-score is ill-defined and being set to 0.0 due to no true nor predicted samples. Use `zero_division` parameter to control this behavior.\n",
      "  _warn_prf(average, modifier, f\"{metric.capitalize()} is\", len(result))\n",
      "/venv/main/lib/python3.12/site-packages/sklearn/metrics/_classification.py:1565: UndefinedMetricWarning: F-score is ill-defined and being set to 0.0 due to no true nor predicted samples. Use `zero_division` parameter to control this behavior.\n",
      "  _warn_prf(average, modifier, f\"{metric.capitalize()} is\", len(result))\n",
      "/venv/main/lib/python3.12/site-packages/sklearn/metrics/_classification.py:1565: UndefinedMetricWarning: F-score is ill-defined and being set to 0.0 due to no true nor predicted samples. Use `zero_division` parameter to control this behavior.\n",
      "  _warn_prf(average, modifier, f\"{metric.capitalize()} is\", len(result))\n",
      "/venv/main/lib/python3.12/site-packages/sklearn/metrics/_classification.py:1565: UndefinedMetricWarning: F-score is ill-defined and being set to 0.0 due to no true nor predicted samples. Use `zero_division` parameter to control this behavior.\n",
      "  _warn_prf(average, modifier, f\"{metric.capitalize()} is\", len(result))\n",
      "/venv/main/lib/python3.12/site-packages/sklearn/metrics/_classification.py:1565: UndefinedMetricWarning: F-score is ill-defined and being set to 0.0 due to no true nor predicted samples. Use `zero_division` parameter to control this behavior.\n",
      "  _warn_prf(average, modifier, f\"{metric.capitalize()} is\", len(result))\n",
      "/venv/main/lib/python3.12/site-packages/sklearn/metrics/_classification.py:1565: UndefinedMetricWarning: F-score is ill-defined and being set to 0.0 due to no true nor predicted samples. Use `zero_division` parameter to control this behavior.\n",
      "  _warn_prf(average, modifier, f\"{metric.capitalize()} is\", len(result))\n",
      "[I 2025-05-11 16:04:15,501] Trial 6 finished with value: -0.31106429552025405 and parameters: {'sequence_length': 819, 'use_EUDR1T  Index': True, 'use_EUR009M  Index': True, 'use_ER1  Index': True, 'use_ER2  Index': False, 'use_ER3  Index': False, 'use_ER4  Index': False, 'use_ER5  Index': True, 'use_FDTR  Index': True, 'use_GJTB3MO  Index': False, 'use_DU1  Index': False, 'use_RX1  Index': True, 'use_SX5E  Index': False, 'use_SX7E  Index': False, 'use_HSI  Index': True, 'use_EURUSD   Index': True, 'use_EURJPY   Index': True, 'use_EURGBP   Index': True, 'use_EURCHF   Index': False, 'use_CRY  Index': False, 'use_C 1  Index': True, 'use_NG1  Index': True, 'use_MOVE  Index': True, 'use_VIX  Index': True, 'use_GDP CQOQ Index': False, 'use_CPI XYOY  Index': True, 'use_NAPMPMI  Index': False, 'use_IP CHNG  Index': False, 'use_CPTICHNG  Index': False, 'use_USURTOT  Index': False, 'use_NFP TCH  Index': True, 'use_INJCJC  Index': False, 'use_LEI CHNG  Index': False, 'use_EUGNEMUY  Index': False, 'use_CPEXEMUY  Index': False, 'use_EUIPEMUY  Index': True, 'use_EUUCEMU  Index': True, 'use_GRZEEUEX  Index': True, 'use_UMRTEMU   Index': False, 'use_OLE3US  Index': True, 'use_OLE3EURA  Index': False, 'use_OLE3JAPA  Index': False, 'use_OLE3BRAZ  Index': True, 'use_OLE3INDI  Index': True, 'use_OLE3CHIN  Index': True, 'use_EBBSDEPF  Index': True, 'use_EBBSLONG  Index': True, 'use_ECMSM1Y  Index': True, 'use_ECMSM2Y  Index': True, 'use_.USDEUR02 U Index': True, 'use_.EURGBP02 U Index': True, 'use_.EURGBP10 U Index': True, 'use_EU 10Y-03M': True, 'use_US 10Y-03M': True, 'use_.EUR0210Y U Index': True, 'use_.EUR1030Y U Index': True, 'use_CS': True, 'use_HCS': True, 'use_INF': True, 'use_NFP': False, 'use_GLD': False, 'use_OIL': True, 'use_VIX': False, 'use_UMCSENT': False, 'use_GPR': True, 'use_INFCE1': False, 'use_INFE1': True, 'use_BEAR': True, 'use_BULL': True, 'use_UNC': True, 'use_CU_release': False, 'use_INF_release': False, 'use_NFP_release': True, 'use_PMI_release': False, 'use_UN_release': False}. Best is trial 3 with value: -0.9056603773584906.\n"
     ]
    },
    {
     "name": "stdout",
     "output_type": "stream",
     "text": [
      "[INFO] Generated 1 folds for forecast horizon 63\n"
     ]
    },
    {
     "name": "stderr",
     "output_type": "stream",
     "text": [
      "[I 2025-05-11 16:04:15,855] Trial 7 finished with value: -0.6077348066298343 and parameters: {'sequence_length': 1323, 'use_EUDR1T  Index': True, 'use_EUR009M  Index': False, 'use_ER1  Index': False, 'use_ER2  Index': False, 'use_ER3  Index': False, 'use_ER4  Index': True, 'use_ER5  Index': False, 'use_FDTR  Index': False, 'use_GJTB3MO  Index': True, 'use_DU1  Index': True, 'use_RX1  Index': True, 'use_SX5E  Index': False, 'use_SX7E  Index': True, 'use_HSI  Index': False, 'use_EURUSD   Index': True, 'use_EURJPY   Index': True, 'use_EURGBP   Index': False, 'use_EURCHF   Index': True, 'use_CRY  Index': True, 'use_C 1  Index': False, 'use_NG1  Index': True, 'use_MOVE  Index': True, 'use_VIX  Index': False, 'use_GDP CQOQ Index': False, 'use_CPI XYOY  Index': True, 'use_NAPMPMI  Index': True, 'use_IP CHNG  Index': True, 'use_CPTICHNG  Index': False, 'use_USURTOT  Index': True, 'use_NFP TCH  Index': False, 'use_INJCJC  Index': True, 'use_LEI CHNG  Index': False, 'use_EUGNEMUY  Index': False, 'use_CPEXEMUY  Index': True, 'use_EUIPEMUY  Index': False, 'use_EUUCEMU  Index': False, 'use_GRZEEUEX  Index': True, 'use_UMRTEMU   Index': False, 'use_OLE3US  Index': True, 'use_OLE3EURA  Index': True, 'use_OLE3JAPA  Index': True, 'use_OLE3BRAZ  Index': True, 'use_OLE3INDI  Index': False, 'use_OLE3CHIN  Index': False, 'use_EBBSDEPF  Index': True, 'use_EBBSLONG  Index': True, 'use_ECMSM1Y  Index': False, 'use_ECMSM2Y  Index': True, 'use_.USDEUR02 U Index': False, 'use_.EURGBP02 U Index': True, 'use_.EURGBP10 U Index': True, 'use_EU 10Y-03M': False, 'use_US 10Y-03M': True, 'use_.EUR0210Y U Index': False, 'use_.EUR1030Y U Index': False, 'use_CS': True, 'use_HCS': True, 'use_INF': False, 'use_NFP': True, 'use_GLD': True, 'use_OIL': False, 'use_VIX': True, 'use_UMCSENT': False, 'use_GPR': False, 'use_INFCE1': True, 'use_INFE1': True, 'use_BEAR': True, 'use_BULL': True, 'use_UNC': False, 'use_CU_release': False, 'use_INF_release': True, 'use_NFP_release': True, 'use_PMI_release': False, 'use_UN_release': False}. Best is trial 3 with value: -0.9056603773584906.\n"
     ]
    },
    {
     "name": "stdout",
     "output_type": "stream",
     "text": [
      "[INFO] Generated 2 folds for forecast horizon 63\n"
     ]
    },
    {
     "name": "stderr",
     "output_type": "stream",
     "text": [
      "[I 2025-05-11 16:04:17,196] Trial 8 finished with value: -0.5820164169262603 and parameters: {'sequence_length': 945, 'use_EUDR1T  Index': True, 'use_EUR009M  Index': False, 'use_ER1  Index': False, 'use_ER2  Index': True, 'use_ER3  Index': False, 'use_ER4  Index': True, 'use_ER5  Index': True, 'use_FDTR  Index': False, 'use_GJTB3MO  Index': False, 'use_DU1  Index': True, 'use_RX1  Index': False, 'use_SX5E  Index': True, 'use_SX7E  Index': True, 'use_HSI  Index': False, 'use_EURUSD   Index': True, 'use_EURJPY   Index': False, 'use_EURGBP   Index': True, 'use_EURCHF   Index': True, 'use_CRY  Index': False, 'use_C 1  Index': True, 'use_NG1  Index': False, 'use_MOVE  Index': False, 'use_VIX  Index': True, 'use_GDP CQOQ Index': False, 'use_CPI XYOY  Index': True, 'use_NAPMPMI  Index': False, 'use_IP CHNG  Index': True, 'use_CPTICHNG  Index': True, 'use_USURTOT  Index': True, 'use_NFP TCH  Index': False, 'use_INJCJC  Index': False, 'use_LEI CHNG  Index': False, 'use_EUGNEMUY  Index': True, 'use_CPEXEMUY  Index': True, 'use_EUIPEMUY  Index': True, 'use_EUUCEMU  Index': True, 'use_GRZEEUEX  Index': True, 'use_UMRTEMU   Index': False, 'use_OLE3US  Index': False, 'use_OLE3EURA  Index': True, 'use_OLE3JAPA  Index': False, 'use_OLE3BRAZ  Index': True, 'use_OLE3INDI  Index': False, 'use_OLE3CHIN  Index': True, 'use_EBBSDEPF  Index': True, 'use_EBBSLONG  Index': True, 'use_ECMSM1Y  Index': False, 'use_ECMSM2Y  Index': True, 'use_.USDEUR02 U Index': True, 'use_.EURGBP02 U Index': False, 'use_.EURGBP10 U Index': False, 'use_EU 10Y-03M': False, 'use_US 10Y-03M': False, 'use_.EUR0210Y U Index': False, 'use_.EUR1030Y U Index': True, 'use_CS': False, 'use_HCS': True, 'use_INF': True, 'use_NFP': True, 'use_GLD': False, 'use_OIL': False, 'use_VIX': True, 'use_UMCSENT': True, 'use_GPR': True, 'use_INFCE1': True, 'use_INFE1': True, 'use_BEAR': True, 'use_BULL': False, 'use_UNC': False, 'use_CU_release': False, 'use_INF_release': False, 'use_NFP_release': False, 'use_PMI_release': False, 'use_UN_release': False}. Best is trial 3 with value: -0.9056603773584906.\n"
     ]
    },
    {
     "name": "stdout",
     "output_type": "stream",
     "text": [
      "[INFO] Generated 1 folds for forecast horizon 63\n"
     ]
    },
    {
     "name": "stderr",
     "output_type": "stream",
     "text": [
      "[I 2025-05-11 16:04:17,571] Trial 9 finished with value: 0.0 and parameters: {'sequence_length': 1449, 'use_EUDR1T  Index': False, 'use_EUR009M  Index': False, 'use_ER1  Index': False, 'use_ER2  Index': False, 'use_ER3  Index': True, 'use_ER4  Index': False, 'use_ER5  Index': True, 'use_FDTR  Index': False, 'use_GJTB3MO  Index': False, 'use_DU1  Index': True, 'use_RX1  Index': True, 'use_SX5E  Index': True, 'use_SX7E  Index': True, 'use_HSI  Index': False, 'use_EURUSD   Index': True, 'use_EURJPY   Index': True, 'use_EURGBP   Index': True, 'use_EURCHF   Index': False, 'use_CRY  Index': False, 'use_C 1  Index': False, 'use_NG1  Index': False, 'use_MOVE  Index': True, 'use_VIX  Index': True, 'use_GDP CQOQ Index': True, 'use_CPI XYOY  Index': False, 'use_NAPMPMI  Index': True, 'use_IP CHNG  Index': False, 'use_CPTICHNG  Index': True, 'use_USURTOT  Index': True, 'use_NFP TCH  Index': False, 'use_INJCJC  Index': True, 'use_LEI CHNG  Index': True, 'use_EUGNEMUY  Index': True, 'use_CPEXEMUY  Index': True, 'use_EUIPEMUY  Index': True, 'use_EUUCEMU  Index': False, 'use_GRZEEUEX  Index': False, 'use_UMRTEMU   Index': False, 'use_OLE3US  Index': True, 'use_OLE3EURA  Index': True, 'use_OLE3JAPA  Index': False, 'use_OLE3BRAZ  Index': True, 'use_OLE3INDI  Index': True, 'use_OLE3CHIN  Index': True, 'use_EBBSDEPF  Index': True, 'use_EBBSLONG  Index': True, 'use_ECMSM1Y  Index': False, 'use_ECMSM2Y  Index': False, 'use_.USDEUR02 U Index': True, 'use_.EURGBP02 U Index': False, 'use_.EURGBP10 U Index': False, 'use_EU 10Y-03M': False, 'use_US 10Y-03M': True, 'use_.EUR0210Y U Index': False, 'use_.EUR1030Y U Index': False, 'use_CS': True, 'use_HCS': True, 'use_INF': True, 'use_NFP': True, 'use_GLD': False, 'use_OIL': False, 'use_VIX': False, 'use_UMCSENT': True, 'use_GPR': True, 'use_INFCE1': True, 'use_INFE1': True, 'use_BEAR': True, 'use_BULL': True, 'use_UNC': True, 'use_CU_release': False, 'use_INF_release': True, 'use_NFP_release': False, 'use_PMI_release': False, 'use_UN_release': True}. Best is trial 3 with value: -0.9056603773584906.\n"
     ]
    },
    {
     "name": "stdout",
     "output_type": "stream",
     "text": [
      "[INFO] Generated 2 folds for forecast horizon 63\n"
     ]
    },
    {
     "name": "stderr",
     "output_type": "stream",
     "text": [
      "[I 2025-05-11 16:04:19,166] Trial 10 finished with value: -0.9056603773584906 and parameters: {'sequence_length': 1260, 'use_EUDR1T  Index': False, 'use_EUR009M  Index': True, 'use_ER1  Index': True, 'use_ER2  Index': False, 'use_ER3  Index': True, 'use_ER4  Index': False, 'use_ER5  Index': False, 'use_FDTR  Index': True, 'use_GJTB3MO  Index': True, 'use_DU1  Index': False, 'use_RX1  Index': False, 'use_SX5E  Index': True, 'use_SX7E  Index': True, 'use_HSI  Index': True, 'use_EURUSD   Index': False, 'use_EURJPY   Index': True, 'use_EURGBP   Index': False, 'use_EURCHF   Index': True, 'use_CRY  Index': True, 'use_C 1  Index': True, 'use_NG1  Index': False, 'use_MOVE  Index': False, 'use_VIX  Index': False, 'use_GDP CQOQ Index': False, 'use_CPI XYOY  Index': False, 'use_NAPMPMI  Index': False, 'use_IP CHNG  Index': True, 'use_CPTICHNG  Index': False, 'use_USURTOT  Index': False, 'use_NFP TCH  Index': True, 'use_INJCJC  Index': False, 'use_LEI CHNG  Index': True, 'use_EUGNEMUY  Index': True, 'use_CPEXEMUY  Index': False, 'use_EUIPEMUY  Index': False, 'use_EUUCEMU  Index': False, 'use_GRZEEUEX  Index': False, 'use_UMRTEMU   Index': True, 'use_OLE3US  Index': True, 'use_OLE3EURA  Index': False, 'use_OLE3JAPA  Index': False, 'use_OLE3BRAZ  Index': False, 'use_OLE3INDI  Index': False, 'use_OLE3CHIN  Index': True, 'use_EBBSDEPF  Index': False, 'use_EBBSLONG  Index': False, 'use_ECMSM1Y  Index': True, 'use_ECMSM2Y  Index': False, 'use_.USDEUR02 U Index': False, 'use_.EURGBP02 U Index': False, 'use_.EURGBP10 U Index': False, 'use_EU 10Y-03M': True, 'use_US 10Y-03M': False, 'use_.EUR0210Y U Index': True, 'use_.EUR1030Y U Index': True, 'use_CS': True, 'use_HCS': False, 'use_INF': True, 'use_NFP': False, 'use_GLD': True, 'use_OIL': True, 'use_VIX': True, 'use_UMCSENT': True, 'use_GPR': False, 'use_INFCE1': True, 'use_INFE1': False, 'use_BEAR': False, 'use_BULL': False, 'use_UNC': True, 'use_CU_release': True, 'use_INF_release': False, 'use_NFP_release': True, 'use_PMI_release': True, 'use_UN_release': True}. Best is trial 3 with value: -0.9056603773584906.\n"
     ]
    },
    {
     "name": "stdout",
     "output_type": "stream",
     "text": [
      "[INFO] Generated 2 folds for forecast horizon 63\n"
     ]
    },
    {
     "name": "stderr",
     "output_type": "stream",
     "text": [
      "[I 2025-05-11 16:04:20,952] Trial 11 finished with value: -0.9056603773584906 and parameters: {'sequence_length': 1260, 'use_EUDR1T  Index': False, 'use_EUR009M  Index': True, 'use_ER1  Index': True, 'use_ER2  Index': False, 'use_ER3  Index': True, 'use_ER4  Index': False, 'use_ER5  Index': False, 'use_FDTR  Index': True, 'use_GJTB3MO  Index': True, 'use_DU1  Index': False, 'use_RX1  Index': False, 'use_SX5E  Index': True, 'use_SX7E  Index': True, 'use_HSI  Index': True, 'use_EURUSD   Index': False, 'use_EURJPY   Index': True, 'use_EURGBP   Index': False, 'use_EURCHF   Index': True, 'use_CRY  Index': True, 'use_C 1  Index': True, 'use_NG1  Index': False, 'use_MOVE  Index': False, 'use_VIX  Index': False, 'use_GDP CQOQ Index': False, 'use_CPI XYOY  Index': False, 'use_NAPMPMI  Index': False, 'use_IP CHNG  Index': True, 'use_CPTICHNG  Index': False, 'use_USURTOT  Index': False, 'use_NFP TCH  Index': True, 'use_INJCJC  Index': False, 'use_LEI CHNG  Index': True, 'use_EUGNEMUY  Index': True, 'use_CPEXEMUY  Index': False, 'use_EUIPEMUY  Index': False, 'use_EUUCEMU  Index': False, 'use_GRZEEUEX  Index': False, 'use_UMRTEMU   Index': True, 'use_OLE3US  Index': True, 'use_OLE3EURA  Index': False, 'use_OLE3JAPA  Index': False, 'use_OLE3BRAZ  Index': False, 'use_OLE3INDI  Index': False, 'use_OLE3CHIN  Index': True, 'use_EBBSDEPF  Index': False, 'use_EBBSLONG  Index': False, 'use_ECMSM1Y  Index': True, 'use_ECMSM2Y  Index': False, 'use_.USDEUR02 U Index': False, 'use_.EURGBP02 U Index': False, 'use_.EURGBP10 U Index': False, 'use_EU 10Y-03M': True, 'use_US 10Y-03M': False, 'use_.EUR0210Y U Index': True, 'use_.EUR1030Y U Index': True, 'use_CS': True, 'use_HCS': False, 'use_INF': True, 'use_NFP': False, 'use_GLD': True, 'use_OIL': True, 'use_VIX': True, 'use_UMCSENT': True, 'use_GPR': False, 'use_INFCE1': True, 'use_INFE1': False, 'use_BEAR': False, 'use_BULL': False, 'use_UNC': True, 'use_CU_release': True, 'use_INF_release': False, 'use_NFP_release': True, 'use_PMI_release': True, 'use_UN_release': True}. Best is trial 3 with value: -0.9056603773584906.\n"
     ]
    },
    {
     "name": "stdout",
     "output_type": "stream",
     "text": [
      "[INFO] Generated 1 folds for forecast horizon 63\n"
     ]
    },
    {
     "name": "stderr",
     "output_type": "stream",
     "text": [
      "[I 2025-05-11 16:04:21,265] Trial 12 finished with value: -0.06153846153846154 and parameters: {'sequence_length': 1386, 'use_EUDR1T  Index': False, 'use_EUR009M  Index': True, 'use_ER1  Index': True, 'use_ER2  Index': False, 'use_ER3  Index': True, 'use_ER4  Index': False, 'use_ER5  Index': False, 'use_FDTR  Index': True, 'use_GJTB3MO  Index': True, 'use_DU1  Index': False, 'use_RX1  Index': False, 'use_SX5E  Index': True, 'use_SX7E  Index': True, 'use_HSI  Index': True, 'use_EURUSD   Index': False, 'use_EURJPY   Index': True, 'use_EURGBP   Index': False, 'use_EURCHF   Index': True, 'use_CRY  Index': True, 'use_C 1  Index': True, 'use_NG1  Index': False, 'use_MOVE  Index': False, 'use_VIX  Index': False, 'use_GDP CQOQ Index': False, 'use_CPI XYOY  Index': False, 'use_NAPMPMI  Index': False, 'use_IP CHNG  Index': True, 'use_CPTICHNG  Index': False, 'use_USURTOT  Index': False, 'use_NFP TCH  Index': True, 'use_INJCJC  Index': False, 'use_LEI CHNG  Index': True, 'use_EUGNEMUY  Index': True, 'use_CPEXEMUY  Index': False, 'use_EUIPEMUY  Index': False, 'use_EUUCEMU  Index': False, 'use_GRZEEUEX  Index': False, 'use_UMRTEMU   Index': True, 'use_OLE3US  Index': True, 'use_OLE3EURA  Index': False, 'use_OLE3JAPA  Index': False, 'use_OLE3BRAZ  Index': False, 'use_OLE3INDI  Index': False, 'use_OLE3CHIN  Index': True, 'use_EBBSDEPF  Index': False, 'use_EBBSLONG  Index': False, 'use_ECMSM1Y  Index': True, 'use_ECMSM2Y  Index': False, 'use_.USDEUR02 U Index': False, 'use_.EURGBP02 U Index': False, 'use_.EURGBP10 U Index': False, 'use_EU 10Y-03M': True, 'use_US 10Y-03M': False, 'use_.EUR0210Y U Index': True, 'use_.EUR1030Y U Index': True, 'use_CS': True, 'use_HCS': False, 'use_INF': True, 'use_NFP': False, 'use_GLD': True, 'use_OIL': True, 'use_VIX': True, 'use_UMCSENT': True, 'use_GPR': False, 'use_INFCE1': True, 'use_INFE1': False, 'use_BEAR': False, 'use_BULL': False, 'use_UNC': True, 'use_CU_release': True, 'use_INF_release': False, 'use_NFP_release': True, 'use_PMI_release': True, 'use_UN_release': True}. Best is trial 3 with value: -0.9056603773584906.\n"
     ]
    },
    {
     "name": "stdout",
     "output_type": "stream",
     "text": [
      "[INFO] Generated 2 folds for forecast horizon 63\n"
     ]
    },
    {
     "name": "stderr",
     "output_type": "stream",
     "text": [
      "[I 2025-05-11 16:04:22,793] Trial 13 finished with value: -0.8579303675048355 and parameters: {'sequence_length': 1134, 'use_EUDR1T  Index': False, 'use_EUR009M  Index': True, 'use_ER1  Index': True, 'use_ER2  Index': False, 'use_ER3  Index': True, 'use_ER4  Index': False, 'use_ER5  Index': False, 'use_FDTR  Index': True, 'use_GJTB3MO  Index': True, 'use_DU1  Index': False, 'use_RX1  Index': False, 'use_SX5E  Index': True, 'use_SX7E  Index': True, 'use_HSI  Index': True, 'use_EURUSD   Index': False, 'use_EURJPY   Index': True, 'use_EURGBP   Index': False, 'use_EURCHF   Index': True, 'use_CRY  Index': True, 'use_C 1  Index': True, 'use_NG1  Index': False, 'use_MOVE  Index': False, 'use_VIX  Index': False, 'use_GDP CQOQ Index': False, 'use_CPI XYOY  Index': False, 'use_NAPMPMI  Index': False, 'use_IP CHNG  Index': True, 'use_CPTICHNG  Index': False, 'use_USURTOT  Index': False, 'use_NFP TCH  Index': True, 'use_INJCJC  Index': False, 'use_LEI CHNG  Index': True, 'use_EUGNEMUY  Index': True, 'use_CPEXEMUY  Index': False, 'use_EUIPEMUY  Index': False, 'use_EUUCEMU  Index': False, 'use_GRZEEUEX  Index': False, 'use_UMRTEMU   Index': True, 'use_OLE3US  Index': True, 'use_OLE3EURA  Index': False, 'use_OLE3JAPA  Index': False, 'use_OLE3BRAZ  Index': False, 'use_OLE3INDI  Index': False, 'use_OLE3CHIN  Index': True, 'use_EBBSDEPF  Index': False, 'use_EBBSLONG  Index': False, 'use_ECMSM1Y  Index': True, 'use_ECMSM2Y  Index': False, 'use_.USDEUR02 U Index': False, 'use_.EURGBP02 U Index': False, 'use_.EURGBP10 U Index': False, 'use_EU 10Y-03M': True, 'use_US 10Y-03M': False, 'use_.EUR0210Y U Index': True, 'use_.EUR1030Y U Index': True, 'use_CS': True, 'use_HCS': False, 'use_INF': True, 'use_NFP': False, 'use_GLD': True, 'use_OIL': True, 'use_VIX': True, 'use_UMCSENT': True, 'use_GPR': False, 'use_INFCE1': True, 'use_INFE1': False, 'use_BEAR': False, 'use_BULL': False, 'use_UNC': True, 'use_CU_release': True, 'use_INF_release': False, 'use_NFP_release': True, 'use_PMI_release': True, 'use_UN_release': True}. Best is trial 3 with value: -0.9056603773584906.\n"
     ]
    },
    {
     "name": "stdout",
     "output_type": "stream",
     "text": [
      "[INFO] Generated 2 folds for forecast horizon 63\n"
     ]
    },
    {
     "name": "stderr",
     "output_type": "stream",
     "text": [
      "[I 2025-05-11 16:04:24,363] Trial 14 finished with value: -0.9056603773584906 and parameters: {'sequence_length': 1260, 'use_EUDR1T  Index': True, 'use_EUR009M  Index': True, 'use_ER1  Index': True, 'use_ER2  Index': False, 'use_ER3  Index': True, 'use_ER4  Index': False, 'use_ER5  Index': False, 'use_FDTR  Index': False, 'use_GJTB3MO  Index': True, 'use_DU1  Index': False, 'use_RX1  Index': False, 'use_SX5E  Index': True, 'use_SX7E  Index': True, 'use_HSI  Index': False, 'use_EURUSD   Index': False, 'use_EURJPY   Index': True, 'use_EURGBP   Index': False, 'use_EURCHF   Index': True, 'use_CRY  Index': True, 'use_C 1  Index': True, 'use_NG1  Index': False, 'use_MOVE  Index': True, 'use_VIX  Index': False, 'use_GDP CQOQ Index': False, 'use_CPI XYOY  Index': False, 'use_NAPMPMI  Index': False, 'use_IP CHNG  Index': True, 'use_CPTICHNG  Index': False, 'use_USURTOT  Index': False, 'use_NFP TCH  Index': True, 'use_INJCJC  Index': False, 'use_LEI CHNG  Index': False, 'use_EUGNEMUY  Index': True, 'use_CPEXEMUY  Index': True, 'use_EUIPEMUY  Index': True, 'use_EUUCEMU  Index': False, 'use_GRZEEUEX  Index': False, 'use_UMRTEMU   Index': False, 'use_OLE3US  Index': True, 'use_OLE3EURA  Index': False, 'use_OLE3JAPA  Index': False, 'use_OLE3BRAZ  Index': False, 'use_OLE3INDI  Index': False, 'use_OLE3CHIN  Index': True, 'use_EBBSDEPF  Index': False, 'use_EBBSLONG  Index': False, 'use_ECMSM1Y  Index': False, 'use_ECMSM2Y  Index': True, 'use_.USDEUR02 U Index': False, 'use_.EURGBP02 U Index': False, 'use_.EURGBP10 U Index': False, 'use_EU 10Y-03M': True, 'use_US 10Y-03M': True, 'use_.EUR0210Y U Index': True, 'use_.EUR1030Y U Index': True, 'use_CS': True, 'use_HCS': False, 'use_INF': True, 'use_NFP': True, 'use_GLD': True, 'use_OIL': True, 'use_VIX': False, 'use_UMCSENT': True, 'use_GPR': False, 'use_INFCE1': True, 'use_INFE1': False, 'use_BEAR': False, 'use_BULL': False, 'use_UNC': True, 'use_CU_release': True, 'use_INF_release': False, 'use_NFP_release': True, 'use_PMI_release': False, 'use_UN_release': True}. Best is trial 3 with value: -0.9056603773584906.\n"
     ]
    },
    {
     "name": "stdout",
     "output_type": "stream",
     "text": [
      "[INFO] Generated 2 folds for forecast horizon 63\n"
     ]
    },
    {
     "name": "stderr",
     "output_type": "stream",
     "text": [
      "[I 2025-05-11 16:04:25,665] Trial 15 finished with value: -0.27211475766137794 and parameters: {'sequence_length': 1008, 'use_EUDR1T  Index': False, 'use_EUR009M  Index': True, 'use_ER1  Index': True, 'use_ER2  Index': False, 'use_ER3  Index': True, 'use_ER4  Index': False, 'use_ER5  Index': False, 'use_FDTR  Index': True, 'use_GJTB3MO  Index': True, 'use_DU1  Index': False, 'use_RX1  Index': False, 'use_SX5E  Index': True, 'use_SX7E  Index': True, 'use_HSI  Index': True, 'use_EURUSD   Index': False, 'use_EURJPY   Index': True, 'use_EURGBP   Index': False, 'use_EURCHF   Index': True, 'use_CRY  Index': True, 'use_C 1  Index': True, 'use_NG1  Index': False, 'use_MOVE  Index': False, 'use_VIX  Index': False, 'use_GDP CQOQ Index': False, 'use_CPI XYOY  Index': False, 'use_NAPMPMI  Index': False, 'use_IP CHNG  Index': True, 'use_CPTICHNG  Index': False, 'use_USURTOT  Index': False, 'use_NFP TCH  Index': True, 'use_INJCJC  Index': False, 'use_LEI CHNG  Index': True, 'use_EUGNEMUY  Index': True, 'use_CPEXEMUY  Index': False, 'use_EUIPEMUY  Index': False, 'use_EUUCEMU  Index': False, 'use_GRZEEUEX  Index': False, 'use_UMRTEMU   Index': True, 'use_OLE3US  Index': True, 'use_OLE3EURA  Index': False, 'use_OLE3JAPA  Index': False, 'use_OLE3BRAZ  Index': False, 'use_OLE3INDI  Index': False, 'use_OLE3CHIN  Index': True, 'use_EBBSDEPF  Index': False, 'use_EBBSLONG  Index': False, 'use_ECMSM1Y  Index': True, 'use_ECMSM2Y  Index': False, 'use_.USDEUR02 U Index': False, 'use_.EURGBP02 U Index': False, 'use_.EURGBP10 U Index': False, 'use_EU 10Y-03M': True, 'use_US 10Y-03M': False, 'use_.EUR0210Y U Index': True, 'use_.EUR1030Y U Index': True, 'use_CS': True, 'use_HCS': False, 'use_INF': True, 'use_NFP': False, 'use_GLD': True, 'use_OIL': True, 'use_VIX': True, 'use_UMCSENT': True, 'use_GPR': False, 'use_INFCE1': True, 'use_INFE1': False, 'use_BEAR': False, 'use_BULL': False, 'use_UNC': True, 'use_CU_release': True, 'use_INF_release': False, 'use_NFP_release': True, 'use_PMI_release': True, 'use_UN_release': True}. Best is trial 3 with value: -0.9056603773584906.\n"
     ]
    },
    {
     "name": "stdout",
     "output_type": "stream",
     "text": [
      "[INFO] Generated 1 folds for forecast horizon 63\n"
     ]
    },
    {
     "name": "stderr",
     "output_type": "stream",
     "text": [
      "[I 2025-05-11 16:04:26,057] Trial 16 finished with value: -0.6077348066298343 and parameters: {'sequence_length': 1323, 'use_EUDR1T  Index': True, 'use_EUR009M  Index': True, 'use_ER1  Index': True, 'use_ER2  Index': False, 'use_ER3  Index': False, 'use_ER4  Index': False, 'use_ER5  Index': False, 'use_FDTR  Index': False, 'use_GJTB3MO  Index': True, 'use_DU1  Index': True, 'use_RX1  Index': False, 'use_SX5E  Index': True, 'use_SX7E  Index': True, 'use_HSI  Index': False, 'use_EURUSD   Index': False, 'use_EURJPY   Index': True, 'use_EURGBP   Index': False, 'use_EURCHF   Index': True, 'use_CRY  Index': True, 'use_C 1  Index': True, 'use_NG1  Index': False, 'use_MOVE  Index': True, 'use_VIX  Index': False, 'use_GDP CQOQ Index': False, 'use_CPI XYOY  Index': False, 'use_NAPMPMI  Index': False, 'use_IP CHNG  Index': True, 'use_CPTICHNG  Index': False, 'use_USURTOT  Index': False, 'use_NFP TCH  Index': True, 'use_INJCJC  Index': False, 'use_LEI CHNG  Index': True, 'use_EUGNEMUY  Index': True, 'use_CPEXEMUY  Index': False, 'use_EUIPEMUY  Index': True, 'use_EUUCEMU  Index': False, 'use_GRZEEUEX  Index': False, 'use_UMRTEMU   Index': True, 'use_OLE3US  Index': True, 'use_OLE3EURA  Index': False, 'use_OLE3JAPA  Index': False, 'use_OLE3BRAZ  Index': False, 'use_OLE3INDI  Index': False, 'use_OLE3CHIN  Index': True, 'use_EBBSDEPF  Index': False, 'use_EBBSLONG  Index': False, 'use_ECMSM1Y  Index': True, 'use_ECMSM2Y  Index': True, 'use_.USDEUR02 U Index': False, 'use_.EURGBP02 U Index': False, 'use_.EURGBP10 U Index': False, 'use_EU 10Y-03M': True, 'use_US 10Y-03M': True, 'use_.EUR0210Y U Index': False, 'use_.EUR1030Y U Index': True, 'use_CS': True, 'use_HCS': False, 'use_INF': True, 'use_NFP': True, 'use_GLD': True, 'use_OIL': False, 'use_VIX': True, 'use_UMCSENT': True, 'use_GPR': False, 'use_INFCE1': True, 'use_INFE1': False, 'use_BEAR': False, 'use_BULL': False, 'use_UNC': False, 'use_CU_release': True, 'use_INF_release': False, 'use_NFP_release': True, 'use_PMI_release': False, 'use_UN_release': True}. Best is trial 3 with value: -0.9056603773584906.\n"
     ]
    },
    {
     "name": "stdout",
     "output_type": "stream",
     "text": [
      "[INFO] Generated 2 folds for forecast horizon 63\n"
     ]
    },
    {
     "name": "stderr",
     "output_type": "stream",
     "text": [
      "[I 2025-05-11 16:04:27,474] Trial 17 finished with value: -0.3685189010535013 and parameters: {'sequence_length': 1197, 'use_EUDR1T  Index': False, 'use_EUR009M  Index': True, 'use_ER1  Index': False, 'use_ER2  Index': False, 'use_ER3  Index': True, 'use_ER4  Index': False, 'use_ER5  Index': False, 'use_FDTR  Index': True, 'use_GJTB3MO  Index': True, 'use_DU1  Index': False, 'use_RX1  Index': False, 'use_SX5E  Index': False, 'use_SX7E  Index': True, 'use_HSI  Index': True, 'use_EURUSD   Index': False, 'use_EURJPY   Index': True, 'use_EURGBP   Index': False, 'use_EURCHF   Index': True, 'use_CRY  Index': True, 'use_C 1  Index': True, 'use_NG1  Index': False, 'use_MOVE  Index': False, 'use_VIX  Index': False, 'use_GDP CQOQ Index': False, 'use_CPI XYOY  Index': False, 'use_NAPMPMI  Index': False, 'use_IP CHNG  Index': True, 'use_CPTICHNG  Index': False, 'use_USURTOT  Index': False, 'use_NFP TCH  Index': True, 'use_INJCJC  Index': False, 'use_LEI CHNG  Index': False, 'use_EUGNEMUY  Index': True, 'use_CPEXEMUY  Index': True, 'use_EUIPEMUY  Index': False, 'use_EUUCEMU  Index': False, 'use_GRZEEUEX  Index': False, 'use_UMRTEMU   Index': False, 'use_OLE3US  Index': True, 'use_OLE3EURA  Index': False, 'use_OLE3JAPA  Index': False, 'use_OLE3BRAZ  Index': True, 'use_OLE3INDI  Index': False, 'use_OLE3CHIN  Index': True, 'use_EBBSDEPF  Index': False, 'use_EBBSLONG  Index': True, 'use_ECMSM1Y  Index': False, 'use_ECMSM2Y  Index': False, 'use_.USDEUR02 U Index': False, 'use_.EURGBP02 U Index': False, 'use_.EURGBP10 U Index': False, 'use_EU 10Y-03M': True, 'use_US 10Y-03M': False, 'use_.EUR0210Y U Index': True, 'use_.EUR1030Y U Index': True, 'use_CS': True, 'use_HCS': False, 'use_INF': True, 'use_NFP': False, 'use_GLD': True, 'use_OIL': True, 'use_VIX': False, 'use_UMCSENT': True, 'use_GPR': False, 'use_INFCE1': True, 'use_INFE1': False, 'use_BEAR': False, 'use_BULL': False, 'use_UNC': True, 'use_CU_release': True, 'use_INF_release': False, 'use_NFP_release': True, 'use_PMI_release': True, 'use_UN_release': True}. Best is trial 3 with value: -0.9056603773584906.\n"
     ]
    },
    {
     "name": "stdout",
     "output_type": "stream",
     "text": [
      "[INFO] Generated 3 folds for forecast horizon 63\n"
     ]
    },
    {
     "name": "stderr",
     "output_type": "stream",
     "text": [
      "[I 2025-05-11 16:04:29,696] Trial 18 finished with value: -0.6959429918647363 and parameters: {'sequence_length': 756, 'use_EUDR1T  Index': False, 'use_EUR009M  Index': True, 'use_ER1  Index': False, 'use_ER2  Index': True, 'use_ER3  Index': True, 'use_ER4  Index': False, 'use_ER5  Index': False, 'use_FDTR  Index': False, 'use_GJTB3MO  Index': True, 'use_DU1  Index': True, 'use_RX1  Index': False, 'use_SX5E  Index': False, 'use_SX7E  Index': False, 'use_HSI  Index': True, 'use_EURUSD   Index': False, 'use_EURJPY   Index': False, 'use_EURGBP   Index': False, 'use_EURCHF   Index': False, 'use_CRY  Index': False, 'use_C 1  Index': True, 'use_NG1  Index': False, 'use_MOVE  Index': False, 'use_VIX  Index': False, 'use_GDP CQOQ Index': True, 'use_CPI XYOY  Index': False, 'use_NAPMPMI  Index': False, 'use_IP CHNG  Index': True, 'use_CPTICHNG  Index': True, 'use_USURTOT  Index': False, 'use_NFP TCH  Index': True, 'use_INJCJC  Index': True, 'use_LEI CHNG  Index': True, 'use_EUGNEMUY  Index': False, 'use_CPEXEMUY  Index': True, 'use_EUIPEMUY  Index': True, 'use_EUUCEMU  Index': True, 'use_GRZEEUEX  Index': True, 'use_UMRTEMU   Index': True, 'use_OLE3US  Index': False, 'use_OLE3EURA  Index': False, 'use_OLE3JAPA  Index': True, 'use_OLE3BRAZ  Index': False, 'use_OLE3INDI  Index': False, 'use_OLE3CHIN  Index': True, 'use_EBBSDEPF  Index': False, 'use_EBBSLONG  Index': True, 'use_ECMSM1Y  Index': False, 'use_ECMSM2Y  Index': True, 'use_.USDEUR02 U Index': False, 'use_.EURGBP02 U Index': False, 'use_.EURGBP10 U Index': False, 'use_EU 10Y-03M': True, 'use_US 10Y-03M': True, 'use_.EUR0210Y U Index': False, 'use_.EUR1030Y U Index': False, 'use_CS': False, 'use_HCS': False, 'use_INF': False, 'use_NFP': True, 'use_GLD': True, 'use_OIL': True, 'use_VIX': True, 'use_UMCSENT': False, 'use_GPR': False, 'use_INFCE1': True, 'use_INFE1': False, 'use_BEAR': False, 'use_BULL': False, 'use_UNC': True, 'use_CU_release': True, 'use_INF_release': True, 'use_NFP_release': True, 'use_PMI_release': False, 'use_UN_release': True}. Best is trial 3 with value: -0.9056603773584906.\n"
     ]
    },
    {
     "name": "stdout",
     "output_type": "stream",
     "text": [
      "[INFO] Generated 1 folds for forecast horizon 63\n"
     ]
    },
    {
     "name": "stderr",
     "output_type": "stream",
     "text": [
      "[I 2025-05-11 16:04:30,154] Trial 19 finished with value: -0.06153846153846154 and parameters: {'sequence_length': 1386, 'use_EUDR1T  Index': True, 'use_EUR009M  Index': True, 'use_ER1  Index': True, 'use_ER2  Index': False, 'use_ER3  Index': False, 'use_ER4  Index': False, 'use_ER5  Index': False, 'use_FDTR  Index': True, 'use_GJTB3MO  Index': True, 'use_DU1  Index': False, 'use_RX1  Index': False, 'use_SX5E  Index': True, 'use_SX7E  Index': True, 'use_HSI  Index': False, 'use_EURUSD   Index': False, 'use_EURJPY   Index': True, 'use_EURGBP   Index': False, 'use_EURCHF   Index': True, 'use_CRY  Index': True, 'use_C 1  Index': True, 'use_NG1  Index': False, 'use_MOVE  Index': True, 'use_VIX  Index': False, 'use_GDP CQOQ Index': False, 'use_CPI XYOY  Index': False, 'use_NAPMPMI  Index': False, 'use_IP CHNG  Index': True, 'use_CPTICHNG  Index': False, 'use_USURTOT  Index': False, 'use_NFP TCH  Index': True, 'use_INJCJC  Index': False, 'use_LEI CHNG  Index': False, 'use_EUGNEMUY  Index': True, 'use_CPEXEMUY  Index': False, 'use_EUIPEMUY  Index': False, 'use_EUUCEMU  Index': False, 'use_GRZEEUEX  Index': False, 'use_UMRTEMU   Index': False, 'use_OLE3US  Index': True, 'use_OLE3EURA  Index': False, 'use_OLE3JAPA  Index': False, 'use_OLE3BRAZ  Index': True, 'use_OLE3INDI  Index': False, 'use_OLE3CHIN  Index': True, 'use_EBBSDEPF  Index': False, 'use_EBBSLONG  Index': False, 'use_ECMSM1Y  Index': True, 'use_ECMSM2Y  Index': False, 'use_.USDEUR02 U Index': False, 'use_.EURGBP02 U Index': False, 'use_.EURGBP10 U Index': False, 'use_EU 10Y-03M': True, 'use_US 10Y-03M': False, 'use_.EUR0210Y U Index': True, 'use_.EUR1030Y U Index': True, 'use_CS': True, 'use_HCS': False, 'use_INF': True, 'use_NFP': False, 'use_GLD': True, 'use_OIL': False, 'use_VIX': False, 'use_UMCSENT': True, 'use_GPR': False, 'use_INFCE1': True, 'use_INFE1': False, 'use_BEAR': False, 'use_BULL': False, 'use_UNC': False, 'use_CU_release': True, 'use_INF_release': False, 'use_NFP_release': True, 'use_PMI_release': True, 'use_UN_release': True}. Best is trial 3 with value: -0.9056603773584906.\n"
     ]
    },
    {
     "name": "stdout",
     "output_type": "stream",
     "text": [
      "[INFO] Generated 1 folds for forecast horizon 63\n"
     ]
    },
    {
     "name": "stderr",
     "output_type": "stream",
     "text": [
      "[I 2025-05-11 16:04:30,559] Trial 20 finished with value: 0.0 and parameters: {'sequence_length': 1512, 'use_EUDR1T  Index': True, 'use_EUR009M  Index': True, 'use_ER1  Index': True, 'use_ER2  Index': False, 'use_ER3  Index': False, 'use_ER4  Index': False, 'use_ER5  Index': False, 'use_FDTR  Index': True, 'use_GJTB3MO  Index': True, 'use_DU1  Index': True, 'use_RX1  Index': False, 'use_SX5E  Index': True, 'use_SX7E  Index': True, 'use_HSI  Index': True, 'use_EURUSD   Index': False, 'use_EURJPY   Index': True, 'use_EURGBP   Index': False, 'use_EURCHF   Index': True, 'use_CRY  Index': False, 'use_C 1  Index': True, 'use_NG1  Index': False, 'use_MOVE  Index': False, 'use_VIX  Index': False, 'use_GDP CQOQ Index': False, 'use_CPI XYOY  Index': False, 'use_NAPMPMI  Index': False, 'use_IP CHNG  Index': True, 'use_CPTICHNG  Index': False, 'use_USURTOT  Index': False, 'use_NFP TCH  Index': True, 'use_INJCJC  Index': False, 'use_LEI CHNG  Index': False, 'use_EUGNEMUY  Index': True, 'use_CPEXEMUY  Index': False, 'use_EUIPEMUY  Index': False, 'use_EUUCEMU  Index': False, 'use_GRZEEUEX  Index': False, 'use_UMRTEMU   Index': False, 'use_OLE3US  Index': True, 'use_OLE3EURA  Index': False, 'use_OLE3JAPA  Index': False, 'use_OLE3BRAZ  Index': True, 'use_OLE3INDI  Index': False, 'use_OLE3CHIN  Index': True, 'use_EBBSDEPF  Index': False, 'use_EBBSLONG  Index': True, 'use_ECMSM1Y  Index': False, 'use_ECMSM2Y  Index': False, 'use_.USDEUR02 U Index': False, 'use_.EURGBP02 U Index': False, 'use_.EURGBP10 U Index': False, 'use_EU 10Y-03M': True, 'use_US 10Y-03M': True, 'use_.EUR0210Y U Index': True, 'use_.EUR1030Y U Index': True, 'use_CS': True, 'use_HCS': False, 'use_INF': True, 'use_NFP': True, 'use_GLD': True, 'use_OIL': False, 'use_VIX': False, 'use_UMCSENT': True, 'use_GPR': False, 'use_INFCE1': True, 'use_INFE1': False, 'use_BEAR': False, 'use_BULL': False, 'use_UNC': False, 'use_CU_release': True, 'use_INF_release': False, 'use_NFP_release': True, 'use_PMI_release': True, 'use_UN_release': True}. Best is trial 3 with value: -0.9056603773584906.\n"
     ]
    },
    {
     "name": "stdout",
     "output_type": "stream",
     "text": [
      "[INFO] Generated 2 folds for forecast horizon 63\n"
     ]
    },
    {
     "name": "stderr",
     "output_type": "stream",
     "text": [
      "[I 2025-05-11 16:04:32,250] Trial 21 finished with value: -0.9056603773584906 and parameters: {'sequence_length': 1260, 'use_EUDR1T  Index': False, 'use_EUR009M  Index': True, 'use_ER1  Index': True, 'use_ER2  Index': False, 'use_ER3  Index': True, 'use_ER4  Index': False, 'use_ER5  Index': False, 'use_FDTR  Index': True, 'use_GJTB3MO  Index': True, 'use_DU1  Index': False, 'use_RX1  Index': False, 'use_SX5E  Index': True, 'use_SX7E  Index': True, 'use_HSI  Index': True, 'use_EURUSD   Index': False, 'use_EURJPY   Index': True, 'use_EURGBP   Index': False, 'use_EURCHF   Index': True, 'use_CRY  Index': True, 'use_C 1  Index': True, 'use_NG1  Index': False, 'use_MOVE  Index': False, 'use_VIX  Index': False, 'use_GDP CQOQ Index': False, 'use_CPI XYOY  Index': False, 'use_NAPMPMI  Index': False, 'use_IP CHNG  Index': True, 'use_CPTICHNG  Index': False, 'use_USURTOT  Index': False, 'use_NFP TCH  Index': True, 'use_INJCJC  Index': False, 'use_LEI CHNG  Index': True, 'use_EUGNEMUY  Index': True, 'use_CPEXEMUY  Index': False, 'use_EUIPEMUY  Index': False, 'use_EUUCEMU  Index': False, 'use_GRZEEUEX  Index': False, 'use_UMRTEMU   Index': True, 'use_OLE3US  Index': True, 'use_OLE3EURA  Index': False, 'use_OLE3JAPA  Index': False, 'use_OLE3BRAZ  Index': False, 'use_OLE3INDI  Index': False, 'use_OLE3CHIN  Index': True, 'use_EBBSDEPF  Index': False, 'use_EBBSLONG  Index': False, 'use_ECMSM1Y  Index': True, 'use_ECMSM2Y  Index': False, 'use_.USDEUR02 U Index': False, 'use_.EURGBP02 U Index': False, 'use_.EURGBP10 U Index': False, 'use_EU 10Y-03M': True, 'use_US 10Y-03M': False, 'use_.EUR0210Y U Index': True, 'use_.EUR1030Y U Index': True, 'use_CS': True, 'use_HCS': False, 'use_INF': True, 'use_NFP': False, 'use_GLD': True, 'use_OIL': True, 'use_VIX': True, 'use_UMCSENT': True, 'use_GPR': False, 'use_INFCE1': True, 'use_INFE1': False, 'use_BEAR': False, 'use_BULL': False, 'use_UNC': True, 'use_CU_release': True, 'use_INF_release': False, 'use_NFP_release': True, 'use_PMI_release': True, 'use_UN_release': True}. Best is trial 3 with value: -0.9056603773584906.\n"
     ]
    },
    {
     "name": "stdout",
     "output_type": "stream",
     "text": [
      "[INFO] Generated 2 folds for forecast horizon 63\n"
     ]
    },
    {
     "name": "stderr",
     "output_type": "stream",
     "text": [
      "[I 2025-05-11 16:04:33,987] Trial 22 finished with value: -0.39055564059390785 and parameters: {'sequence_length': 1197, 'use_EUDR1T  Index': False, 'use_EUR009M  Index': True, 'use_ER1  Index': True, 'use_ER2  Index': False, 'use_ER3  Index': True, 'use_ER4  Index': False, 'use_ER5  Index': False, 'use_FDTR  Index': True, 'use_GJTB3MO  Index': True, 'use_DU1  Index': False, 'use_RX1  Index': False, 'use_SX5E  Index': True, 'use_SX7E  Index': True, 'use_HSI  Index': True, 'use_EURUSD   Index': False, 'use_EURJPY   Index': True, 'use_EURGBP   Index': False, 'use_EURCHF   Index': True, 'use_CRY  Index': True, 'use_C 1  Index': True, 'use_NG1  Index': False, 'use_MOVE  Index': False, 'use_VIX  Index': False, 'use_GDP CQOQ Index': False, 'use_CPI XYOY  Index': False, 'use_NAPMPMI  Index': False, 'use_IP CHNG  Index': True, 'use_CPTICHNG  Index': False, 'use_USURTOT  Index': False, 'use_NFP TCH  Index': True, 'use_INJCJC  Index': False, 'use_LEI CHNG  Index': True, 'use_EUGNEMUY  Index': True, 'use_CPEXEMUY  Index': False, 'use_EUIPEMUY  Index': False, 'use_EUUCEMU  Index': False, 'use_GRZEEUEX  Index': False, 'use_UMRTEMU   Index': True, 'use_OLE3US  Index': True, 'use_OLE3EURA  Index': False, 'use_OLE3JAPA  Index': False, 'use_OLE3BRAZ  Index': False, 'use_OLE3INDI  Index': False, 'use_OLE3CHIN  Index': True, 'use_EBBSDEPF  Index': False, 'use_EBBSLONG  Index': False, 'use_ECMSM1Y  Index': True, 'use_ECMSM2Y  Index': False, 'use_.USDEUR02 U Index': False, 'use_.EURGBP02 U Index': False, 'use_.EURGBP10 U Index': False, 'use_EU 10Y-03M': True, 'use_US 10Y-03M': False, 'use_.EUR0210Y U Index': True, 'use_.EUR1030Y U Index': True, 'use_CS': True, 'use_HCS': False, 'use_INF': True, 'use_NFP': False, 'use_GLD': True, 'use_OIL': True, 'use_VIX': True, 'use_UMCSENT': True, 'use_GPR': False, 'use_INFCE1': True, 'use_INFE1': False, 'use_BEAR': False, 'use_BULL': False, 'use_UNC': True, 'use_CU_release': True, 'use_INF_release': False, 'use_NFP_release': True, 'use_PMI_release': True, 'use_UN_release': True}. Best is trial 3 with value: -0.9056603773584906.\n"
     ]
    },
    {
     "name": "stdout",
     "output_type": "stream",
     "text": [
      "[INFO] Generated 1 folds for forecast horizon 63\n"
     ]
    },
    {
     "name": "stderr",
     "output_type": "stream",
     "text": [
      "[I 2025-05-11 16:04:34,281] Trial 23 finished with value: -0.6077348066298343 and parameters: {'sequence_length': 1323, 'use_EUDR1T  Index': False, 'use_EUR009M  Index': True, 'use_ER1  Index': True, 'use_ER2  Index': False, 'use_ER3  Index': True, 'use_ER4  Index': False, 'use_ER5  Index': False, 'use_FDTR  Index': True, 'use_GJTB3MO  Index': True, 'use_DU1  Index': False, 'use_RX1  Index': False, 'use_SX5E  Index': True, 'use_SX7E  Index': True, 'use_HSI  Index': True, 'use_EURUSD   Index': False, 'use_EURJPY   Index': True, 'use_EURGBP   Index': False, 'use_EURCHF   Index': True, 'use_CRY  Index': True, 'use_C 1  Index': True, 'use_NG1  Index': False, 'use_MOVE  Index': False, 'use_VIX  Index': False, 'use_GDP CQOQ Index': False, 'use_CPI XYOY  Index': False, 'use_NAPMPMI  Index': False, 'use_IP CHNG  Index': True, 'use_CPTICHNG  Index': False, 'use_USURTOT  Index': False, 'use_NFP TCH  Index': True, 'use_INJCJC  Index': False, 'use_LEI CHNG  Index': True, 'use_EUGNEMUY  Index': True, 'use_CPEXEMUY  Index': False, 'use_EUIPEMUY  Index': False, 'use_EUUCEMU  Index': False, 'use_GRZEEUEX  Index': False, 'use_UMRTEMU   Index': True, 'use_OLE3US  Index': True, 'use_OLE3EURA  Index': False, 'use_OLE3JAPA  Index': False, 'use_OLE3BRAZ  Index': False, 'use_OLE3INDI  Index': False, 'use_OLE3CHIN  Index': True, 'use_EBBSDEPF  Index': False, 'use_EBBSLONG  Index': False, 'use_ECMSM1Y  Index': True, 'use_ECMSM2Y  Index': False, 'use_.USDEUR02 U Index': False, 'use_.EURGBP02 U Index': False, 'use_.EURGBP10 U Index': False, 'use_EU 10Y-03M': True, 'use_US 10Y-03M': False, 'use_.EUR0210Y U Index': True, 'use_.EUR1030Y U Index': True, 'use_CS': True, 'use_HCS': False, 'use_INF': True, 'use_NFP': False, 'use_GLD': True, 'use_OIL': True, 'use_VIX': True, 'use_UMCSENT': True, 'use_GPR': False, 'use_INFCE1': True, 'use_INFE1': False, 'use_BEAR': False, 'use_BULL': False, 'use_UNC': True, 'use_CU_release': True, 'use_INF_release': False, 'use_NFP_release': True, 'use_PMI_release': True, 'use_UN_release': True}. Best is trial 3 with value: -0.9056603773584906.\n"
     ]
    },
    {
     "name": "stdout",
     "output_type": "stream",
     "text": [
      "[INFO] Generated 2 folds for forecast horizon 63\n"
     ]
    },
    {
     "name": "stderr",
     "output_type": "stream",
     "text": [
      "[I 2025-05-11 16:04:35,705] Trial 24 finished with value: -0.8480519480519481 and parameters: {'sequence_length': 1134, 'use_EUDR1T  Index': False, 'use_EUR009M  Index': True, 'use_ER1  Index': True, 'use_ER2  Index': False, 'use_ER3  Index': True, 'use_ER4  Index': False, 'use_ER5  Index': False, 'use_FDTR  Index': True, 'use_GJTB3MO  Index': True, 'use_DU1  Index': False, 'use_RX1  Index': False, 'use_SX5E  Index': True, 'use_SX7E  Index': True, 'use_HSI  Index': True, 'use_EURUSD   Index': False, 'use_EURJPY   Index': True, 'use_EURGBP   Index': False, 'use_EURCHF   Index': True, 'use_CRY  Index': True, 'use_C 1  Index': True, 'use_NG1  Index': False, 'use_MOVE  Index': False, 'use_VIX  Index': False, 'use_GDP CQOQ Index': False, 'use_CPI XYOY  Index': False, 'use_NAPMPMI  Index': False, 'use_IP CHNG  Index': True, 'use_CPTICHNG  Index': False, 'use_USURTOT  Index': False, 'use_NFP TCH  Index': True, 'use_INJCJC  Index': False, 'use_LEI CHNG  Index': True, 'use_EUGNEMUY  Index': True, 'use_CPEXEMUY  Index': False, 'use_EUIPEMUY  Index': False, 'use_EUUCEMU  Index': False, 'use_GRZEEUEX  Index': False, 'use_UMRTEMU   Index': True, 'use_OLE3US  Index': True, 'use_OLE3EURA  Index': False, 'use_OLE3JAPA  Index': False, 'use_OLE3BRAZ  Index': False, 'use_OLE3INDI  Index': False, 'use_OLE3CHIN  Index': True, 'use_EBBSDEPF  Index': False, 'use_EBBSLONG  Index': False, 'use_ECMSM1Y  Index': True, 'use_ECMSM2Y  Index': False, 'use_.USDEUR02 U Index': False, 'use_.EURGBP02 U Index': False, 'use_.EURGBP10 U Index': False, 'use_EU 10Y-03M': True, 'use_US 10Y-03M': False, 'use_.EUR0210Y U Index': True, 'use_.EUR1030Y U Index': True, 'use_CS': True, 'use_HCS': False, 'use_INF': True, 'use_NFP': False, 'use_GLD': True, 'use_OIL': True, 'use_VIX': True, 'use_UMCSENT': True, 'use_GPR': False, 'use_INFCE1': True, 'use_INFE1': False, 'use_BEAR': False, 'use_BULL': False, 'use_UNC': True, 'use_CU_release': True, 'use_INF_release': False, 'use_NFP_release': True, 'use_PMI_release': True, 'use_UN_release': True}. Best is trial 3 with value: -0.9056603773584906.\n"
     ]
    },
    {
     "name": "stdout",
     "output_type": "stream",
     "text": [
      "[INFO] Generated 2 folds for forecast horizon 63\n"
     ]
    },
    {
     "name": "stderr",
     "output_type": "stream",
     "text": [
      "[I 2025-05-11 16:04:37,550] Trial 25 finished with value: -0.9056603773584906 and parameters: {'sequence_length': 1260, 'use_EUDR1T  Index': False, 'use_EUR009M  Index': True, 'use_ER1  Index': True, 'use_ER2  Index': False, 'use_ER3  Index': True, 'use_ER4  Index': False, 'use_ER5  Index': False, 'use_FDTR  Index': True, 'use_GJTB3MO  Index': True, 'use_DU1  Index': False, 'use_RX1  Index': False, 'use_SX5E  Index': True, 'use_SX7E  Index': True, 'use_HSI  Index': True, 'use_EURUSD   Index': False, 'use_EURJPY   Index': True, 'use_EURGBP   Index': False, 'use_EURCHF   Index': True, 'use_CRY  Index': True, 'use_C 1  Index': True, 'use_NG1  Index': False, 'use_MOVE  Index': False, 'use_VIX  Index': False, 'use_GDP CQOQ Index': False, 'use_CPI XYOY  Index': False, 'use_NAPMPMI  Index': False, 'use_IP CHNG  Index': True, 'use_CPTICHNG  Index': False, 'use_USURTOT  Index': False, 'use_NFP TCH  Index': True, 'use_INJCJC  Index': False, 'use_LEI CHNG  Index': True, 'use_EUGNEMUY  Index': True, 'use_CPEXEMUY  Index': False, 'use_EUIPEMUY  Index': False, 'use_EUUCEMU  Index': False, 'use_GRZEEUEX  Index': False, 'use_UMRTEMU   Index': True, 'use_OLE3US  Index': True, 'use_OLE3EURA  Index': False, 'use_OLE3JAPA  Index': False, 'use_OLE3BRAZ  Index': False, 'use_OLE3INDI  Index': False, 'use_OLE3CHIN  Index': True, 'use_EBBSDEPF  Index': False, 'use_EBBSLONG  Index': False, 'use_ECMSM1Y  Index': True, 'use_ECMSM2Y  Index': False, 'use_.USDEUR02 U Index': False, 'use_.EURGBP02 U Index': False, 'use_.EURGBP10 U Index': False, 'use_EU 10Y-03M': True, 'use_US 10Y-03M': False, 'use_.EUR0210Y U Index': True, 'use_.EUR1030Y U Index': True, 'use_CS': True, 'use_HCS': False, 'use_INF': True, 'use_NFP': False, 'use_GLD': True, 'use_OIL': True, 'use_VIX': True, 'use_UMCSENT': True, 'use_GPR': False, 'use_INFCE1': True, 'use_INFE1': False, 'use_BEAR': False, 'use_BULL': False, 'use_UNC': True, 'use_CU_release': True, 'use_INF_release': False, 'use_NFP_release': True, 'use_PMI_release': True, 'use_UN_release': True}. Best is trial 3 with value: -0.9056603773584906.\n"
     ]
    },
    {
     "name": "stdout",
     "output_type": "stream",
     "text": [
      "[INFO] Generated 1 folds for forecast horizon 63\n"
     ]
    },
    {
     "name": "stderr",
     "output_type": "stream",
     "text": [
      "[I 2025-05-11 16:04:37,963] Trial 26 finished with value: -0.16666666666666666 and parameters: {'sequence_length': 1386, 'use_EUDR1T  Index': False, 'use_EUR009M  Index': False, 'use_ER1  Index': False, 'use_ER2  Index': True, 'use_ER3  Index': True, 'use_ER4  Index': False, 'use_ER5  Index': False, 'use_FDTR  Index': False, 'use_GJTB3MO  Index': False, 'use_DU1  Index': False, 'use_RX1  Index': True, 'use_SX5E  Index': False, 'use_SX7E  Index': False, 'use_HSI  Index': False, 'use_EURUSD   Index': False, 'use_EURJPY   Index': False, 'use_EURGBP   Index': True, 'use_EURCHF   Index': False, 'use_CRY  Index': True, 'use_C 1  Index': False, 'use_NG1  Index': False, 'use_MOVE  Index': True, 'use_VIX  Index': False, 'use_GDP CQOQ Index': True, 'use_CPI XYOY  Index': True, 'use_NAPMPMI  Index': True, 'use_IP CHNG  Index': False, 'use_CPTICHNG  Index': True, 'use_USURTOT  Index': False, 'use_NFP TCH  Index': True, 'use_INJCJC  Index': True, 'use_LEI CHNG  Index': True, 'use_EUGNEMUY  Index': False, 'use_CPEXEMUY  Index': True, 'use_EUIPEMUY  Index': True, 'use_EUUCEMU  Index': True, 'use_GRZEEUEX  Index': True, 'use_UMRTEMU   Index': True, 'use_OLE3US  Index': False, 'use_OLE3EURA  Index': True, 'use_OLE3JAPA  Index': True, 'use_OLE3BRAZ  Index': False, 'use_OLE3INDI  Index': True, 'use_OLE3CHIN  Index': True, 'use_EBBSDEPF  Index': False, 'use_EBBSLONG  Index': False, 'use_ECMSM1Y  Index': True, 'use_ECMSM2Y  Index': True, 'use_.USDEUR02 U Index': False, 'use_.EURGBP02 U Index': True, 'use_.EURGBP10 U Index': True, 'use_EU 10Y-03M': True, 'use_US 10Y-03M': False, 'use_.EUR0210Y U Index': False, 'use_.EUR1030Y U Index': False, 'use_CS': False, 'use_HCS': False, 'use_INF': False, 'use_NFP': False, 'use_GLD': True, 'use_OIL': True, 'use_VIX': True, 'use_UMCSENT': False, 'use_GPR': False, 'use_INFCE1': False, 'use_INFE1': False, 'use_BEAR': False, 'use_BULL': False, 'use_UNC': True, 'use_CU_release': True, 'use_INF_release': True, 'use_NFP_release': False, 'use_PMI_release': False, 'use_UN_release': False}. Best is trial 3 with value: -0.9056603773584906.\n"
     ]
    },
    {
     "name": "stdout",
     "output_type": "stream",
     "text": [
      "[INFO] Generated 2 folds for forecast horizon 63\n"
     ]
    },
    {
     "name": "stderr",
     "output_type": "stream",
     "text": [
      "[I 2025-05-11 16:04:39,296] Trial 27 finished with value: -0.8639498432601881 and parameters: {'sequence_length': 1134, 'use_EUDR1T  Index': False, 'use_EUR009M  Index': True, 'use_ER1  Index': True, 'use_ER2  Index': False, 'use_ER3  Index': True, 'use_ER4  Index': False, 'use_ER5  Index': False, 'use_FDTR  Index': True, 'use_GJTB3MO  Index': True, 'use_DU1  Index': False, 'use_RX1  Index': False, 'use_SX5E  Index': True, 'use_SX7E  Index': True, 'use_HSI  Index': True, 'use_EURUSD   Index': False, 'use_EURJPY   Index': True, 'use_EURGBP   Index': False, 'use_EURCHF   Index': True, 'use_CRY  Index': True, 'use_C 1  Index': True, 'use_NG1  Index': False, 'use_MOVE  Index': False, 'use_VIX  Index': False, 'use_GDP CQOQ Index': False, 'use_CPI XYOY  Index': False, 'use_NAPMPMI  Index': False, 'use_IP CHNG  Index': True, 'use_CPTICHNG  Index': False, 'use_USURTOT  Index': False, 'use_NFP TCH  Index': True, 'use_INJCJC  Index': False, 'use_LEI CHNG  Index': True, 'use_EUGNEMUY  Index': True, 'use_CPEXEMUY  Index': False, 'use_EUIPEMUY  Index': False, 'use_EUUCEMU  Index': False, 'use_GRZEEUEX  Index': False, 'use_UMRTEMU   Index': True, 'use_OLE3US  Index': True, 'use_OLE3EURA  Index': False, 'use_OLE3JAPA  Index': False, 'use_OLE3BRAZ  Index': False, 'use_OLE3INDI  Index': False, 'use_OLE3CHIN  Index': True, 'use_EBBSDEPF  Index': False, 'use_EBBSLONG  Index': False, 'use_ECMSM1Y  Index': True, 'use_ECMSM2Y  Index': False, 'use_.USDEUR02 U Index': False, 'use_.EURGBP02 U Index': False, 'use_.EURGBP10 U Index': False, 'use_EU 10Y-03M': True, 'use_US 10Y-03M': False, 'use_.EUR0210Y U Index': True, 'use_.EUR1030Y U Index': True, 'use_CS': True, 'use_HCS': False, 'use_INF': True, 'use_NFP': False, 'use_GLD': True, 'use_OIL': True, 'use_VIX': True, 'use_UMCSENT': True, 'use_GPR': False, 'use_INFCE1': True, 'use_INFE1': False, 'use_BEAR': False, 'use_BULL': False, 'use_UNC': True, 'use_CU_release': True, 'use_INF_release': False, 'use_NFP_release': True, 'use_PMI_release': True, 'use_UN_release': True}. Best is trial 3 with value: -0.9056603773584906.\n"
     ]
    },
    {
     "name": "stdout",
     "output_type": "stream",
     "text": [
      "[INFO] Generated 2 folds for forecast horizon 63\n"
     ]
    },
    {
     "name": "stderr",
     "output_type": "stream",
     "text": [
      "[I 2025-05-11 16:04:40,949] Trial 28 finished with value: -0.9056603773584906 and parameters: {'sequence_length': 1260, 'use_EUDR1T  Index': True, 'use_EUR009M  Index': True, 'use_ER1  Index': False, 'use_ER2  Index': False, 'use_ER3  Index': False, 'use_ER4  Index': False, 'use_ER5  Index': False, 'use_FDTR  Index': False, 'use_GJTB3MO  Index': True, 'use_DU1  Index': True, 'use_RX1  Index': False, 'use_SX5E  Index': False, 'use_SX7E  Index': True, 'use_HSI  Index': False, 'use_EURUSD   Index': False, 'use_EURJPY   Index': True, 'use_EURGBP   Index': False, 'use_EURCHF   Index': True, 'use_CRY  Index': False, 'use_C 1  Index': True, 'use_NG1  Index': False, 'use_MOVE  Index': True, 'use_VIX  Index': False, 'use_GDP CQOQ Index': False, 'use_CPI XYOY  Index': False, 'use_NAPMPMI  Index': False, 'use_IP CHNG  Index': True, 'use_CPTICHNG  Index': False, 'use_USURTOT  Index': False, 'use_NFP TCH  Index': True, 'use_INJCJC  Index': False, 'use_LEI CHNG  Index': False, 'use_EUGNEMUY  Index': True, 'use_CPEXEMUY  Index': True, 'use_EUIPEMUY  Index': True, 'use_EUUCEMU  Index': False, 'use_GRZEEUEX  Index': False, 'use_UMRTEMU   Index': False, 'use_OLE3US  Index': True, 'use_OLE3EURA  Index': False, 'use_OLE3JAPA  Index': False, 'use_OLE3BRAZ  Index': True, 'use_OLE3INDI  Index': False, 'use_OLE3CHIN  Index': True, 'use_EBBSDEPF  Index': False, 'use_EBBSLONG  Index': True, 'use_ECMSM1Y  Index': False, 'use_ECMSM2Y  Index': True, 'use_.USDEUR02 U Index': False, 'use_.EURGBP02 U Index': False, 'use_.EURGBP10 U Index': False, 'use_EU 10Y-03M': True, 'use_US 10Y-03M': True, 'use_.EUR0210Y U Index': False, 'use_.EUR1030Y U Index': True, 'use_CS': True, 'use_HCS': False, 'use_INF': True, 'use_NFP': True, 'use_GLD': True, 'use_OIL': False, 'use_VIX': False, 'use_UMCSENT': True, 'use_GPR': False, 'use_INFCE1': True, 'use_INFE1': False, 'use_BEAR': False, 'use_BULL': False, 'use_UNC': False, 'use_CU_release': True, 'use_INF_release': False, 'use_NFP_release': True, 'use_PMI_release': False, 'use_UN_release': True}. Best is trial 3 with value: -0.9056603773584906.\n"
     ]
    },
    {
     "name": "stdout",
     "output_type": "stream",
     "text": [
      "[INFO] Generated 1 folds for forecast horizon 63\n"
     ]
    },
    {
     "name": "stderr",
     "output_type": "stream",
     "text": [
      "[I 2025-05-11 16:04:41,406] Trial 29 finished with value: -0.08866995073891626 and parameters: {'sequence_length': 1449, 'use_EUDR1T  Index': True, 'use_EUR009M  Index': True, 'use_ER1  Index': False, 'use_ER2  Index': True, 'use_ER3  Index': False, 'use_ER4  Index': True, 'use_ER5  Index': True, 'use_FDTR  Index': False, 'use_GJTB3MO  Index': True, 'use_DU1  Index': True, 'use_RX1  Index': True, 'use_SX5E  Index': False, 'use_SX7E  Index': True, 'use_HSI  Index': False, 'use_EURUSD   Index': False, 'use_EURJPY   Index': True, 'use_EURGBP   Index': True, 'use_EURCHF   Index': True, 'use_CRY  Index': False, 'use_C 1  Index': True, 'use_NG1  Index': False, 'use_MOVE  Index': True, 'use_VIX  Index': True, 'use_GDP CQOQ Index': False, 'use_CPI XYOY  Index': False, 'use_NAPMPMI  Index': True, 'use_IP CHNG  Index': False, 'use_CPTICHNG  Index': False, 'use_USURTOT  Index': True, 'use_NFP TCH  Index': True, 'use_INJCJC  Index': False, 'use_LEI CHNG  Index': True, 'use_EUGNEMUY  Index': True, 'use_CPEXEMUY  Index': True, 'use_EUIPEMUY  Index': True, 'use_EUUCEMU  Index': True, 'use_GRZEEUEX  Index': False, 'use_UMRTEMU   Index': False, 'use_OLE3US  Index': False, 'use_OLE3EURA  Index': False, 'use_OLE3JAPA  Index': True, 'use_OLE3BRAZ  Index': False, 'use_OLE3INDI  Index': True, 'use_OLE3CHIN  Index': False, 'use_EBBSDEPF  Index': False, 'use_EBBSLONG  Index': False, 'use_ECMSM1Y  Index': False, 'use_ECMSM2Y  Index': True, 'use_.USDEUR02 U Index': False, 'use_.EURGBP02 U Index': False, 'use_.EURGBP10 U Index': True, 'use_EU 10Y-03M': True, 'use_US 10Y-03M': False, 'use_.EUR0210Y U Index': False, 'use_.EUR1030Y U Index': False, 'use_CS': False, 'use_HCS': False, 'use_INF': False, 'use_NFP': True, 'use_GLD': False, 'use_OIL': False, 'use_VIX': False, 'use_UMCSENT': True, 'use_GPR': False, 'use_INFCE1': False, 'use_INFE1': False, 'use_BEAR': False, 'use_BULL': False, 'use_UNC': False, 'use_CU_release': True, 'use_INF_release': False, 'use_NFP_release': False, 'use_PMI_release': True, 'use_UN_release': True}. Best is trial 3 with value: -0.9056603773584906.\n",
      "[I 2025-05-11 16:04:41,413] A new study created in memory with name: no-name-29c75d04-8ada-4e05-92a9-2891dc517d71\n"
     ]
    },
    {
     "name": "stdout",
     "output_type": "stream",
     "text": [
      "[RESULT] Horizon 63: Best Params = {'sequence_length': 1260, 'use_EUDR1T  Index': True, 'use_EUR009M  Index': True, 'use_ER1  Index': False, 'use_ER2  Index': False, 'use_ER3  Index': False, 'use_ER4  Index': False, 'use_ER5  Index': False, 'use_FDTR  Index': False, 'use_GJTB3MO  Index': True, 'use_DU1  Index': True, 'use_RX1  Index': False, 'use_SX5E  Index': False, 'use_SX7E  Index': True, 'use_HSI  Index': False, 'use_EURUSD   Index': False, 'use_EURJPY   Index': True, 'use_EURGBP   Index': False, 'use_EURCHF   Index': True, 'use_CRY  Index': False, 'use_C 1  Index': True, 'use_NG1  Index': False, 'use_MOVE  Index': True, 'use_VIX  Index': False, 'use_GDP CQOQ Index': False, 'use_CPI XYOY  Index': False, 'use_NAPMPMI  Index': False, 'use_IP CHNG  Index': True, 'use_CPTICHNG  Index': False, 'use_USURTOT  Index': False, 'use_NFP TCH  Index': True, 'use_INJCJC  Index': False, 'use_LEI CHNG  Index': False, 'use_EUGNEMUY  Index': True, 'use_CPEXEMUY  Index': True, 'use_EUIPEMUY  Index': True, 'use_EUUCEMU  Index': False, 'use_GRZEEUEX  Index': False, 'use_UMRTEMU   Index': False, 'use_OLE3US  Index': True, 'use_OLE3EURA  Index': False, 'use_OLE3JAPA  Index': False, 'use_OLE3BRAZ  Index': True, 'use_OLE3INDI  Index': False, 'use_OLE3CHIN  Index': True, 'use_EBBSDEPF  Index': False, 'use_EBBSLONG  Index': True, 'use_ECMSM1Y  Index': False, 'use_ECMSM2Y  Index': True, 'use_.USDEUR02 U Index': False, 'use_.EURGBP02 U Index': False, 'use_.EURGBP10 U Index': False, 'use_EU 10Y-03M': True, 'use_US 10Y-03M': True, 'use_.EUR0210Y U Index': False, 'use_.EUR1030Y U Index': True, 'use_CS': True, 'use_HCS': False, 'use_INF': True, 'use_NFP': True, 'use_GLD': True, 'use_OIL': False, 'use_VIX': False, 'use_UMCSENT': True, 'use_GPR': False, 'use_INFCE1': True, 'use_INFE1': False, 'use_BEAR': False, 'use_BULL': False, 'use_UNC': False, 'use_CU_release': True, 'use_INF_release': False, 'use_NFP_release': True, 'use_PMI_release': False, 'use_UN_release': True}, Best F1 = 0.9057\n",
      "\n",
      "=== Forecast Horizon: 252 ===\n",
      "[INFO] Generated 2 folds for forecast horizon 252\n"
     ]
    },
    {
     "name": "stderr",
     "output_type": "stream",
     "text": [
      "[I 2025-05-11 16:04:42,757] Trial 0 finished with value: -0.4671014835591903 and parameters: {'sequence_length': 1008, 'use_EUDR1T  Index': True, 'use_EUR009M  Index': True, 'use_ER1  Index': False, 'use_ER2  Index': True, 'use_ER3  Index': False, 'use_ER4  Index': True, 'use_ER5  Index': True, 'use_FDTR  Index': False, 'use_GJTB3MO  Index': True, 'use_DU1  Index': True, 'use_RX1  Index': True, 'use_SX5E  Index': False, 'use_SX7E  Index': True, 'use_HSI  Index': True, 'use_EURUSD   Index': True, 'use_EURJPY   Index': True, 'use_EURGBP   Index': True, 'use_EURCHF   Index': False, 'use_CRY  Index': True, 'use_C 1  Index': True, 'use_NG1  Index': True, 'use_MOVE  Index': False, 'use_VIX  Index': False, 'use_GDP CQOQ Index': True, 'use_CPI XYOY  Index': True, 'use_NAPMPMI  Index': False, 'use_IP CHNG  Index': False, 'use_CPTICHNG  Index': False, 'use_USURTOT  Index': False, 'use_NFP TCH  Index': False, 'use_INJCJC  Index': False, 'use_LEI CHNG  Index': True, 'use_EUGNEMUY  Index': False, 'use_CPEXEMUY  Index': False, 'use_EUIPEMUY  Index': True, 'use_EUUCEMU  Index': True, 'use_GRZEEUEX  Index': True, 'use_UMRTEMU   Index': True, 'use_OLE3US  Index': True, 'use_OLE3EURA  Index': False, 'use_OLE3JAPA  Index': True, 'use_OLE3BRAZ  Index': True, 'use_OLE3INDI  Index': True, 'use_OLE3CHIN  Index': True, 'use_EBBSDEPF  Index': False, 'use_EBBSLONG  Index': True, 'use_ECMSM1Y  Index': False, 'use_ECMSM2Y  Index': False, 'use_.USDEUR02 U Index': False, 'use_.EURGBP02 U Index': False, 'use_.EURGBP10 U Index': False, 'use_EU 10Y-03M': False, 'use_US 10Y-03M': True, 'use_.EUR0210Y U Index': False, 'use_.EUR1030Y U Index': False, 'use_CS': False, 'use_HCS': True, 'use_INF': True, 'use_NFP': False, 'use_GLD': False, 'use_OIL': True, 'use_VIX': False, 'use_UMCSENT': True, 'use_GPR': False, 'use_INFCE1': False, 'use_INFE1': False, 'use_BEAR': False, 'use_BULL': False, 'use_UNC': False, 'use_CU_release': False, 'use_INF_release': True, 'use_NFP_release': True, 'use_PMI_release': True, 'use_UN_release': True}. Best is trial 0 with value: -0.4671014835591903.\n"
     ]
    },
    {
     "name": "stdout",
     "output_type": "stream",
     "text": [
      "[INFO] Generated 1 folds for forecast horizon 252\n"
     ]
    },
    {
     "name": "stderr",
     "output_type": "stream",
     "text": [
      "[I 2025-05-11 16:04:43,367] Trial 1 finished with value: -0.02912621359223301 and parameters: {'sequence_length': 1071, 'use_EUDR1T  Index': False, 'use_EUR009M  Index': False, 'use_ER1  Index': True, 'use_ER2  Index': False, 'use_ER3  Index': True, 'use_ER4  Index': True, 'use_ER5  Index': True, 'use_FDTR  Index': False, 'use_GJTB3MO  Index': False, 'use_DU1  Index': False, 'use_RX1  Index': False, 'use_SX5E  Index': False, 'use_SX7E  Index': True, 'use_HSI  Index': False, 'use_EURUSD   Index': False, 'use_EURJPY   Index': True, 'use_EURGBP   Index': True, 'use_EURCHF   Index': False, 'use_CRY  Index': False, 'use_C 1  Index': False, 'use_NG1  Index': True, 'use_MOVE  Index': False, 'use_VIX  Index': True, 'use_GDP CQOQ Index': False, 'use_CPI XYOY  Index': True, 'use_NAPMPMI  Index': True, 'use_IP CHNG  Index': False, 'use_CPTICHNG  Index': True, 'use_USURTOT  Index': False, 'use_NFP TCH  Index': True, 'use_INJCJC  Index': True, 'use_LEI CHNG  Index': False, 'use_EUGNEMUY  Index': True, 'use_CPEXEMUY  Index': True, 'use_EUIPEMUY  Index': True, 'use_EUUCEMU  Index': False, 'use_GRZEEUEX  Index': True, 'use_UMRTEMU   Index': False, 'use_OLE3US  Index': True, 'use_OLE3EURA  Index': True, 'use_OLE3JAPA  Index': True, 'use_OLE3BRAZ  Index': False, 'use_OLE3INDI  Index': True, 'use_OLE3CHIN  Index': True, 'use_EBBSDEPF  Index': True, 'use_EBBSLONG  Index': True, 'use_ECMSM1Y  Index': True, 'use_ECMSM2Y  Index': False, 'use_.USDEUR02 U Index': True, 'use_.EURGBP02 U Index': True, 'use_.EURGBP10 U Index': True, 'use_EU 10Y-03M': True, 'use_US 10Y-03M': True, 'use_.EUR0210Y U Index': True, 'use_.EUR1030Y U Index': False, 'use_CS': True, 'use_HCS': False, 'use_INF': True, 'use_NFP': True, 'use_GLD': True, 'use_OIL': False, 'use_VIX': False, 'use_UMCSENT': False, 'use_GPR': False, 'use_INFCE1': True, 'use_INFE1': True, 'use_BEAR': True, 'use_BULL': False, 'use_UNC': True, 'use_CU_release': True, 'use_INF_release': True, 'use_NFP_release': False, 'use_PMI_release': True, 'use_UN_release': True}. Best is trial 0 with value: -0.4671014835591903.\n"
     ]
    },
    {
     "name": "stdout",
     "output_type": "stream",
     "text": [
      "[INFO] Generated 1 folds for forecast horizon 252\n"
     ]
    },
    {
     "name": "stderr",
     "output_type": "stream",
     "text": [
      "[I 2025-05-11 16:04:43,767] Trial 2 finished with value: 0.0 and parameters: {'sequence_length': 1512, 'use_EUDR1T  Index': True, 'use_EUR009M  Index': False, 'use_ER1  Index': False, 'use_ER2  Index': False, 'use_ER3  Index': False, 'use_ER4  Index': True, 'use_ER5  Index': True, 'use_FDTR  Index': False, 'use_GJTB3MO  Index': True, 'use_DU1  Index': False, 'use_RX1  Index': True, 'use_SX5E  Index': True, 'use_SX7E  Index': True, 'use_HSI  Index': False, 'use_EURUSD   Index': False, 'use_EURJPY   Index': False, 'use_EURGBP   Index': True, 'use_EURCHF   Index': True, 'use_CRY  Index': True, 'use_C 1  Index': False, 'use_NG1  Index': False, 'use_MOVE  Index': True, 'use_VIX  Index': True, 'use_GDP CQOQ Index': False, 'use_CPI XYOY  Index': True, 'use_NAPMPMI  Index': False, 'use_IP CHNG  Index': False, 'use_CPTICHNG  Index': False, 'use_USURTOT  Index': True, 'use_NFP TCH  Index': False, 'use_INJCJC  Index': True, 'use_LEI CHNG  Index': True, 'use_EUGNEMUY  Index': True, 'use_CPEXEMUY  Index': True, 'use_EUIPEMUY  Index': True, 'use_EUUCEMU  Index': False, 'use_GRZEEUEX  Index': False, 'use_UMRTEMU   Index': False, 'use_OLE3US  Index': True, 'use_OLE3EURA  Index': True, 'use_OLE3JAPA  Index': False, 'use_OLE3BRAZ  Index': False, 'use_OLE3INDI  Index': False, 'use_OLE3CHIN  Index': True, 'use_EBBSDEPF  Index': True, 'use_EBBSLONG  Index': True, 'use_ECMSM1Y  Index': True, 'use_ECMSM2Y  Index': True, 'use_.USDEUR02 U Index': True, 'use_.EURGBP02 U Index': False, 'use_.EURGBP10 U Index': True, 'use_EU 10Y-03M': True, 'use_US 10Y-03M': True, 'use_.EUR0210Y U Index': True, 'use_.EUR1030Y U Index': True, 'use_CS': True, 'use_HCS': False, 'use_INF': True, 'use_NFP': True, 'use_GLD': False, 'use_OIL': True, 'use_VIX': True, 'use_UMCSENT': True, 'use_GPR': True, 'use_INFCE1': True, 'use_INFE1': False, 'use_BEAR': False, 'use_BULL': False, 'use_UNC': False, 'use_CU_release': True, 'use_INF_release': False, 'use_NFP_release': True, 'use_PMI_release': True, 'use_UN_release': True}. Best is trial 0 with value: -0.4671014835591903.\n"
     ]
    },
    {
     "name": "stdout",
     "output_type": "stream",
     "text": [
      "[INFO] Generated 2 folds for forecast horizon 252\n"
     ]
    },
    {
     "name": "stderr",
     "output_type": "stream",
     "text": [
      "[I 2025-05-11 16:04:44,691] Trial 3 finished with value: -0.6596312778130959 and parameters: {'sequence_length': 756, 'use_EUDR1T  Index': False, 'use_EUR009M  Index': False, 'use_ER1  Index': False, 'use_ER2  Index': True, 'use_ER3  Index': True, 'use_ER4  Index': True, 'use_ER5  Index': False, 'use_FDTR  Index': True, 'use_GJTB3MO  Index': False, 'use_DU1  Index': False, 'use_RX1  Index': True, 'use_SX5E  Index': False, 'use_SX7E  Index': False, 'use_HSI  Index': False, 'use_EURUSD   Index': False, 'use_EURJPY   Index': True, 'use_EURGBP   Index': True, 'use_EURCHF   Index': False, 'use_CRY  Index': False, 'use_C 1  Index': True, 'use_NG1  Index': False, 'use_MOVE  Index': True, 'use_VIX  Index': False, 'use_GDP CQOQ Index': False, 'use_CPI XYOY  Index': True, 'use_NAPMPMI  Index': True, 'use_IP CHNG  Index': False, 'use_CPTICHNG  Index': True, 'use_USURTOT  Index': False, 'use_NFP TCH  Index': True, 'use_INJCJC  Index': False, 'use_LEI CHNG  Index': False, 'use_EUGNEMUY  Index': False, 'use_CPEXEMUY  Index': True, 'use_EUIPEMUY  Index': True, 'use_EUUCEMU  Index': False, 'use_GRZEEUEX  Index': True, 'use_UMRTEMU   Index': True, 'use_OLE3US  Index': False, 'use_OLE3EURA  Index': True, 'use_OLE3JAPA  Index': False, 'use_OLE3BRAZ  Index': False, 'use_OLE3INDI  Index': True, 'use_OLE3CHIN  Index': True, 'use_EBBSDEPF  Index': False, 'use_EBBSLONG  Index': False, 'use_ECMSM1Y  Index': False, 'use_ECMSM2Y  Index': False, 'use_.USDEUR02 U Index': False, 'use_.EURGBP02 U Index': True, 'use_.EURGBP10 U Index': False, 'use_EU 10Y-03M': True, 'use_US 10Y-03M': False, 'use_.EUR0210Y U Index': True, 'use_.EUR1030Y U Index': False, 'use_CS': True, 'use_HCS': False, 'use_INF': False, 'use_NFP': True, 'use_GLD': True, 'use_OIL': False, 'use_VIX': True, 'use_UMCSENT': True, 'use_GPR': True, 'use_INFCE1': False, 'use_INFE1': True, 'use_BEAR': True, 'use_BULL': False, 'use_UNC': False, 'use_CU_release': False, 'use_INF_release': False, 'use_NFP_release': False, 'use_PMI_release': True, 'use_UN_release': False}. Best is trial 3 with value: -0.6596312778130959.\n"
     ]
    },
    {
     "name": "stdout",
     "output_type": "stream",
     "text": [
      "[INFO] Generated 1 folds for forecast horizon 252\n"
     ]
    },
    {
     "name": "stderr",
     "output_type": "stream",
     "text": [
      "[I 2025-05-11 16:04:45,031] Trial 4 finished with value: -0.023529411764705882 and parameters: {'sequence_length': 1071, 'use_EUDR1T  Index': False, 'use_EUR009M  Index': True, 'use_ER1  Index': False, 'use_ER2  Index': False, 'use_ER3  Index': False, 'use_ER4  Index': False, 'use_ER5  Index': False, 'use_FDTR  Index': False, 'use_GJTB3MO  Index': True, 'use_DU1  Index': False, 'use_RX1  Index': False, 'use_SX5E  Index': True, 'use_SX7E  Index': True, 'use_HSI  Index': True, 'use_EURUSD   Index': False, 'use_EURJPY   Index': False, 'use_EURGBP   Index': True, 'use_EURCHF   Index': True, 'use_CRY  Index': False, 'use_C 1  Index': True, 'use_NG1  Index': False, 'use_MOVE  Index': False, 'use_VIX  Index': True, 'use_GDP CQOQ Index': True, 'use_CPI XYOY  Index': False, 'use_NAPMPMI  Index': True, 'use_IP CHNG  Index': True, 'use_CPTICHNG  Index': True, 'use_USURTOT  Index': False, 'use_NFP TCH  Index': True, 'use_INJCJC  Index': True, 'use_LEI CHNG  Index': True, 'use_EUGNEMUY  Index': True, 'use_CPEXEMUY  Index': True, 'use_EUIPEMUY  Index': False, 'use_EUUCEMU  Index': True, 'use_GRZEEUEX  Index': True, 'use_UMRTEMU   Index': True, 'use_OLE3US  Index': False, 'use_OLE3EURA  Index': True, 'use_OLE3JAPA  Index': True, 'use_OLE3BRAZ  Index': False, 'use_OLE3INDI  Index': True, 'use_OLE3CHIN  Index': False, 'use_EBBSDEPF  Index': True, 'use_EBBSLONG  Index': True, 'use_ECMSM1Y  Index': True, 'use_ECMSM2Y  Index': False, 'use_.USDEUR02 U Index': True, 'use_.EURGBP02 U Index': True, 'use_.EURGBP10 U Index': True, 'use_EU 10Y-03M': False, 'use_US 10Y-03M': True, 'use_.EUR0210Y U Index': False, 'use_.EUR1030Y U Index': False, 'use_CS': True, 'use_HCS': False, 'use_INF': True, 'use_NFP': False, 'use_GLD': False, 'use_OIL': False, 'use_VIX': False, 'use_UMCSENT': False, 'use_GPR': True, 'use_INFCE1': False, 'use_INFE1': True, 'use_BEAR': True, 'use_BULL': False, 'use_UNC': False, 'use_CU_release': False, 'use_INF_release': False, 'use_NFP_release': True, 'use_PMI_release': False, 'use_UN_release': False}. Best is trial 3 with value: -0.6596312778130959.\n"
     ]
    },
    {
     "name": "stdout",
     "output_type": "stream",
     "text": [
      "[INFO] Generated 1 folds for forecast horizon 252\n"
     ]
    },
    {
     "name": "stderr",
     "output_type": "stream",
     "text": [
      "[I 2025-05-11 16:04:45,410] Trial 5 finished with value: 0.0 and parameters: {'sequence_length': 1134, 'use_EUDR1T  Index': True, 'use_EUR009M  Index': False, 'use_ER1  Index': True, 'use_ER2  Index': True, 'use_ER3  Index': True, 'use_ER4  Index': False, 'use_ER5  Index': False, 'use_FDTR  Index': False, 'use_GJTB3MO  Index': True, 'use_DU1  Index': False, 'use_RX1  Index': False, 'use_SX5E  Index': True, 'use_SX7E  Index': True, 'use_HSI  Index': True, 'use_EURUSD   Index': False, 'use_EURJPY   Index': False, 'use_EURGBP   Index': True, 'use_EURCHF   Index': True, 'use_CRY  Index': True, 'use_C 1  Index': False, 'use_NG1  Index': False, 'use_MOVE  Index': False, 'use_VIX  Index': True, 'use_GDP CQOQ Index': True, 'use_CPI XYOY  Index': True, 'use_NAPMPMI  Index': False, 'use_IP CHNG  Index': True, 'use_CPTICHNG  Index': False, 'use_USURTOT  Index': False, 'use_NFP TCH  Index': True, 'use_INJCJC  Index': True, 'use_LEI CHNG  Index': True, 'use_EUGNEMUY  Index': True, 'use_CPEXEMUY  Index': False, 'use_EUIPEMUY  Index': False, 'use_EUUCEMU  Index': True, 'use_GRZEEUEX  Index': True, 'use_UMRTEMU   Index': False, 'use_OLE3US  Index': False, 'use_OLE3EURA  Index': False, 'use_OLE3JAPA  Index': False, 'use_OLE3BRAZ  Index': False, 'use_OLE3INDI  Index': True, 'use_OLE3CHIN  Index': False, 'use_EBBSDEPF  Index': True, 'use_EBBSLONG  Index': True, 'use_ECMSM1Y  Index': False, 'use_ECMSM2Y  Index': False, 'use_.USDEUR02 U Index': False, 'use_.EURGBP02 U Index': True, 'use_.EURGBP10 U Index': True, 'use_EU 10Y-03M': True, 'use_US 10Y-03M': False, 'use_.EUR0210Y U Index': False, 'use_.EUR1030Y U Index': False, 'use_CS': True, 'use_HCS': False, 'use_INF': False, 'use_NFP': True, 'use_GLD': False, 'use_OIL': False, 'use_VIX': False, 'use_UMCSENT': True, 'use_GPR': False, 'use_INFCE1': False, 'use_INFE1': True, 'use_BEAR': True, 'use_BULL': False, 'use_UNC': False, 'use_CU_release': True, 'use_INF_release': True, 'use_NFP_release': True, 'use_PMI_release': False, 'use_UN_release': False}. Best is trial 3 with value: -0.6596312778130959.\n"
     ]
    },
    {
     "name": "stdout",
     "output_type": "stream",
     "text": [
      "[INFO] Generated 1 folds for forecast horizon 252\n"
     ]
    },
    {
     "name": "stderr",
     "output_type": "stream",
     "text": [
      "[I 2025-05-11 16:04:45,703] Trial 6 finished with value: -0.6666666666666666 and parameters: {'sequence_length': 1512, 'use_EUDR1T  Index': True, 'use_EUR009M  Index': True, 'use_ER1  Index': True, 'use_ER2  Index': True, 'use_ER3  Index': False, 'use_ER4  Index': True, 'use_ER5  Index': False, 'use_FDTR  Index': True, 'use_GJTB3MO  Index': False, 'use_DU1  Index': False, 'use_RX1  Index': True, 'use_SX5E  Index': False, 'use_SX7E  Index': True, 'use_HSI  Index': False, 'use_EURUSD   Index': True, 'use_EURJPY   Index': True, 'use_EURGBP   Index': True, 'use_EURCHF   Index': True, 'use_CRY  Index': False, 'use_C 1  Index': True, 'use_NG1  Index': True, 'use_MOVE  Index': False, 'use_VIX  Index': False, 'use_GDP CQOQ Index': True, 'use_CPI XYOY  Index': False, 'use_NAPMPMI  Index': False, 'use_IP CHNG  Index': False, 'use_CPTICHNG  Index': False, 'use_USURTOT  Index': True, 'use_NFP TCH  Index': True, 'use_INJCJC  Index': False, 'use_LEI CHNG  Index': False, 'use_EUGNEMUY  Index': False, 'use_CPEXEMUY  Index': False, 'use_EUIPEMUY  Index': False, 'use_EUUCEMU  Index': True, 'use_GRZEEUEX  Index': False, 'use_UMRTEMU   Index': True, 'use_OLE3US  Index': True, 'use_OLE3EURA  Index': False, 'use_OLE3JAPA  Index': False, 'use_OLE3BRAZ  Index': False, 'use_OLE3INDI  Index': False, 'use_OLE3CHIN  Index': True, 'use_EBBSDEPF  Index': True, 'use_EBBSLONG  Index': False, 'use_ECMSM1Y  Index': False, 'use_ECMSM2Y  Index': True, 'use_.USDEUR02 U Index': True, 'use_.EURGBP02 U Index': False, 'use_.EURGBP10 U Index': True, 'use_EU 10Y-03M': True, 'use_US 10Y-03M': False, 'use_.EUR0210Y U Index': True, 'use_.EUR1030Y U Index': False, 'use_CS': False, 'use_HCS': True, 'use_INF': False, 'use_NFP': True, 'use_GLD': False, 'use_OIL': False, 'use_VIX': False, 'use_UMCSENT': True, 'use_GPR': False, 'use_INFCE1': True, 'use_INFE1': False, 'use_BEAR': True, 'use_BULL': False, 'use_UNC': False, 'use_CU_release': False, 'use_INF_release': True, 'use_NFP_release': True, 'use_PMI_release': True, 'use_UN_release': False}. Best is trial 6 with value: -0.6666666666666666.\n"
     ]
    },
    {
     "name": "stdout",
     "output_type": "stream",
     "text": [
      "[INFO] Generated 1 folds for forecast horizon 252\n"
     ]
    },
    {
     "name": "stderr",
     "output_type": "stream",
     "text": [
      "[I 2025-05-11 16:04:45,992] Trial 7 finished with value: -0.6994818652849741 and parameters: {'sequence_length': 1323, 'use_EUDR1T  Index': True, 'use_EUR009M  Index': False, 'use_ER1  Index': False, 'use_ER2  Index': True, 'use_ER3  Index': True, 'use_ER4  Index': True, 'use_ER5  Index': True, 'use_FDTR  Index': True, 'use_GJTB3MO  Index': False, 'use_DU1  Index': True, 'use_RX1  Index': False, 'use_SX5E  Index': True, 'use_SX7E  Index': True, 'use_HSI  Index': True, 'use_EURUSD   Index': False, 'use_EURJPY   Index': True, 'use_EURGBP   Index': False, 'use_EURCHF   Index': True, 'use_CRY  Index': False, 'use_C 1  Index': True, 'use_NG1  Index': False, 'use_MOVE  Index': False, 'use_VIX  Index': False, 'use_GDP CQOQ Index': True, 'use_CPI XYOY  Index': True, 'use_NAPMPMI  Index': False, 'use_IP CHNG  Index': False, 'use_CPTICHNG  Index': True, 'use_USURTOT  Index': False, 'use_NFP TCH  Index': False, 'use_INJCJC  Index': True, 'use_LEI CHNG  Index': True, 'use_EUGNEMUY  Index': True, 'use_CPEXEMUY  Index': False, 'use_EUIPEMUY  Index': False, 'use_EUUCEMU  Index': True, 'use_GRZEEUEX  Index': False, 'use_UMRTEMU   Index': False, 'use_OLE3US  Index': False, 'use_OLE3EURA  Index': True, 'use_OLE3JAPA  Index': True, 'use_OLE3BRAZ  Index': False, 'use_OLE3INDI  Index': True, 'use_OLE3CHIN  Index': False, 'use_EBBSDEPF  Index': True, 'use_EBBSLONG  Index': False, 'use_ECMSM1Y  Index': False, 'use_ECMSM2Y  Index': False, 'use_.USDEUR02 U Index': False, 'use_.EURGBP02 U Index': False, 'use_.EURGBP10 U Index': False, 'use_EU 10Y-03M': False, 'use_US 10Y-03M': False, 'use_.EUR0210Y U Index': False, 'use_.EUR1030Y U Index': True, 'use_CS': False, 'use_HCS': False, 'use_INF': False, 'use_NFP': False, 'use_GLD': False, 'use_OIL': False, 'use_VIX': True, 'use_UMCSENT': True, 'use_GPR': False, 'use_INFCE1': False, 'use_INFE1': True, 'use_BEAR': False, 'use_BULL': True, 'use_UNC': True, 'use_CU_release': True, 'use_INF_release': False, 'use_NFP_release': False, 'use_PMI_release': False, 'use_UN_release': True}. Best is trial 7 with value: -0.6994818652849741.\n"
     ]
    },
    {
     "name": "stdout",
     "output_type": "stream",
     "text": [
      "[INFO] Generated 1 folds for forecast horizon 252\n"
     ]
    },
    {
     "name": "stderr",
     "output_type": "stream",
     "text": [
      "[I 2025-05-11 16:04:46,280] Trial 8 finished with value: -0.2661596958174905 and parameters: {'sequence_length': 1449, 'use_EUDR1T  Index': True, 'use_EUR009M  Index': True, 'use_ER1  Index': False, 'use_ER2  Index': False, 'use_ER3  Index': False, 'use_ER4  Index': False, 'use_ER5  Index': False, 'use_FDTR  Index': True, 'use_GJTB3MO  Index': True, 'use_DU1  Index': True, 'use_RX1  Index': True, 'use_SX5E  Index': False, 'use_SX7E  Index': True, 'use_HSI  Index': True, 'use_EURUSD   Index': True, 'use_EURJPY   Index': False, 'use_EURGBP   Index': True, 'use_EURCHF   Index': False, 'use_CRY  Index': False, 'use_C 1  Index': False, 'use_NG1  Index': True, 'use_MOVE  Index': False, 'use_VIX  Index': False, 'use_GDP CQOQ Index': True, 'use_CPI XYOY  Index': False, 'use_NAPMPMI  Index': True, 'use_IP CHNG  Index': True, 'use_CPTICHNG  Index': False, 'use_USURTOT  Index': True, 'use_NFP TCH  Index': True, 'use_INJCJC  Index': True, 'use_LEI CHNG  Index': True, 'use_EUGNEMUY  Index': True, 'use_CPEXEMUY  Index': True, 'use_EUIPEMUY  Index': False, 'use_EUUCEMU  Index': False, 'use_GRZEEUEX  Index': True, 'use_UMRTEMU   Index': True, 'use_OLE3US  Index': False, 'use_OLE3EURA  Index': True, 'use_OLE3JAPA  Index': False, 'use_OLE3BRAZ  Index': True, 'use_OLE3INDI  Index': True, 'use_OLE3CHIN  Index': False, 'use_EBBSDEPF  Index': True, 'use_EBBSLONG  Index': False, 'use_ECMSM1Y  Index': True, 'use_ECMSM2Y  Index': True, 'use_.USDEUR02 U Index': True, 'use_.EURGBP02 U Index': True, 'use_.EURGBP10 U Index': True, 'use_EU 10Y-03M': False, 'use_US 10Y-03M': True, 'use_.EUR0210Y U Index': True, 'use_.EUR1030Y U Index': False, 'use_CS': True, 'use_HCS': True, 'use_INF': False, 'use_NFP': True, 'use_GLD': True, 'use_OIL': True, 'use_VIX': False, 'use_UMCSENT': False, 'use_GPR': True, 'use_INFCE1': True, 'use_INFE1': True, 'use_BEAR': True, 'use_BULL': False, 'use_UNC': False, 'use_CU_release': False, 'use_INF_release': True, 'use_NFP_release': True, 'use_PMI_release': True, 'use_UN_release': True}. Best is trial 7 with value: -0.6994818652849741.\n"
     ]
    },
    {
     "name": "stdout",
     "output_type": "stream",
     "text": [
      "[INFO] Generated 1 folds for forecast horizon 252\n"
     ]
    },
    {
     "name": "stderr",
     "output_type": "stream",
     "text": [
      "[I 2025-05-11 16:04:46,519] Trial 9 finished with value: 0.0 and parameters: {'sequence_length': 1071, 'use_EUDR1T  Index': True, 'use_EUR009M  Index': False, 'use_ER1  Index': False, 'use_ER2  Index': False, 'use_ER3  Index': True, 'use_ER4  Index': False, 'use_ER5  Index': False, 'use_FDTR  Index': False, 'use_GJTB3MO  Index': True, 'use_DU1  Index': False, 'use_RX1  Index': True, 'use_SX5E  Index': True, 'use_SX7E  Index': True, 'use_HSI  Index': True, 'use_EURUSD   Index': False, 'use_EURJPY   Index': False, 'use_EURGBP   Index': False, 'use_EURCHF   Index': False, 'use_CRY  Index': False, 'use_C 1  Index': False, 'use_NG1  Index': False, 'use_MOVE  Index': False, 'use_VIX  Index': False, 'use_GDP CQOQ Index': False, 'use_CPI XYOY  Index': True, 'use_NAPMPMI  Index': False, 'use_IP CHNG  Index': True, 'use_CPTICHNG  Index': True, 'use_USURTOT  Index': True, 'use_NFP TCH  Index': False, 'use_INJCJC  Index': True, 'use_LEI CHNG  Index': True, 'use_EUGNEMUY  Index': True, 'use_CPEXEMUY  Index': False, 'use_EUIPEMUY  Index': True, 'use_EUUCEMU  Index': False, 'use_GRZEEUEX  Index': True, 'use_UMRTEMU   Index': False, 'use_OLE3US  Index': True, 'use_OLE3EURA  Index': False, 'use_OLE3JAPA  Index': True, 'use_OLE3BRAZ  Index': True, 'use_OLE3INDI  Index': True, 'use_OLE3CHIN  Index': False, 'use_EBBSDEPF  Index': False, 'use_EBBSLONG  Index': True, 'use_ECMSM1Y  Index': True, 'use_ECMSM2Y  Index': True, 'use_.USDEUR02 U Index': True, 'use_.EURGBP02 U Index': False, 'use_.EURGBP10 U Index': True, 'use_EU 10Y-03M': False, 'use_US 10Y-03M': False, 'use_.EUR0210Y U Index': True, 'use_.EUR1030Y U Index': True, 'use_CS': False, 'use_HCS': True, 'use_INF': True, 'use_NFP': True, 'use_GLD': False, 'use_OIL': True, 'use_VIX': True, 'use_UMCSENT': True, 'use_GPR': False, 'use_INFCE1': False, 'use_INFE1': True, 'use_BEAR': True, 'use_BULL': False, 'use_UNC': True, 'use_CU_release': False, 'use_INF_release': False, 'use_NFP_release': True, 'use_PMI_release': False, 'use_UN_release': True}. Best is trial 7 with value: -0.6994818652849741.\n"
     ]
    },
    {
     "name": "stdout",
     "output_type": "stream",
     "text": [
      "[INFO] Generated 1 folds for forecast horizon 252\n"
     ]
    },
    {
     "name": "stderr",
     "output_type": "stream",
     "text": [
      "[I 2025-05-11 16:04:46,858] Trial 10 finished with value: -0.6976744186046512 and parameters: {'sequence_length': 1323, 'use_EUDR1T  Index': False, 'use_EUR009M  Index': False, 'use_ER1  Index': True, 'use_ER2  Index': True, 'use_ER3  Index': True, 'use_ER4  Index': True, 'use_ER5  Index': True, 'use_FDTR  Index': True, 'use_GJTB3MO  Index': False, 'use_DU1  Index': True, 'use_RX1  Index': False, 'use_SX5E  Index': True, 'use_SX7E  Index': False, 'use_HSI  Index': True, 'use_EURUSD   Index': True, 'use_EURJPY   Index': True, 'use_EURGBP   Index': False, 'use_EURCHF   Index': True, 'use_CRY  Index': True, 'use_C 1  Index': True, 'use_NG1  Index': False, 'use_MOVE  Index': True, 'use_VIX  Index': False, 'use_GDP CQOQ Index': True, 'use_CPI XYOY  Index': False, 'use_NAPMPMI  Index': False, 'use_IP CHNG  Index': False, 'use_CPTICHNG  Index': True, 'use_USURTOT  Index': False, 'use_NFP TCH  Index': False, 'use_INJCJC  Index': False, 'use_LEI CHNG  Index': False, 'use_EUGNEMUY  Index': False, 'use_CPEXEMUY  Index': False, 'use_EUIPEMUY  Index': False, 'use_EUUCEMU  Index': True, 'use_GRZEEUEX  Index': False, 'use_UMRTEMU   Index': False, 'use_OLE3US  Index': False, 'use_OLE3EURA  Index': True, 'use_OLE3JAPA  Index': True, 'use_OLE3BRAZ  Index': True, 'use_OLE3INDI  Index': False, 'use_OLE3CHIN  Index': False, 'use_EBBSDEPF  Index': False, 'use_EBBSLONG  Index': False, 'use_ECMSM1Y  Index': False, 'use_ECMSM2Y  Index': False, 'use_.USDEUR02 U Index': False, 'use_.EURGBP02 U Index': False, 'use_.EURGBP10 U Index': False, 'use_EU 10Y-03M': False, 'use_US 10Y-03M': False, 'use_.EUR0210Y U Index': False, 'use_.EUR1030Y U Index': True, 'use_CS': False, 'use_HCS': False, 'use_INF': False, 'use_NFP': False, 'use_GLD': True, 'use_OIL': False, 'use_VIX': True, 'use_UMCSENT': False, 'use_GPR': False, 'use_INFCE1': False, 'use_INFE1': False, 'use_BEAR': False, 'use_BULL': True, 'use_UNC': True, 'use_CU_release': True, 'use_INF_release': False, 'use_NFP_release': False, 'use_PMI_release': False, 'use_UN_release': True}. Best is trial 7 with value: -0.6994818652849741.\n"
     ]
    },
    {
     "name": "stdout",
     "output_type": "stream",
     "text": [
      "[INFO] Generated 1 folds for forecast horizon 252\n"
     ]
    },
    {
     "name": "stderr",
     "output_type": "stream",
     "text": [
      "[I 2025-05-11 16:04:47,250] Trial 11 finished with value: -0.6976744186046512 and parameters: {'sequence_length': 1323, 'use_EUDR1T  Index': False, 'use_EUR009M  Index': False, 'use_ER1  Index': True, 'use_ER2  Index': True, 'use_ER3  Index': True, 'use_ER4  Index': True, 'use_ER5  Index': True, 'use_FDTR  Index': True, 'use_GJTB3MO  Index': False, 'use_DU1  Index': True, 'use_RX1  Index': False, 'use_SX5E  Index': True, 'use_SX7E  Index': False, 'use_HSI  Index': True, 'use_EURUSD   Index': True, 'use_EURJPY   Index': True, 'use_EURGBP   Index': False, 'use_EURCHF   Index': True, 'use_CRY  Index': True, 'use_C 1  Index': True, 'use_NG1  Index': False, 'use_MOVE  Index': True, 'use_VIX  Index': False, 'use_GDP CQOQ Index': True, 'use_CPI XYOY  Index': False, 'use_NAPMPMI  Index': False, 'use_IP CHNG  Index': False, 'use_CPTICHNG  Index': True, 'use_USURTOT  Index': False, 'use_NFP TCH  Index': False, 'use_INJCJC  Index': False, 'use_LEI CHNG  Index': False, 'use_EUGNEMUY  Index': False, 'use_CPEXEMUY  Index': False, 'use_EUIPEMUY  Index': False, 'use_EUUCEMU  Index': True, 'use_GRZEEUEX  Index': False, 'use_UMRTEMU   Index': False, 'use_OLE3US  Index': False, 'use_OLE3EURA  Index': True, 'use_OLE3JAPA  Index': True, 'use_OLE3BRAZ  Index': True, 'use_OLE3INDI  Index': False, 'use_OLE3CHIN  Index': False, 'use_EBBSDEPF  Index': False, 'use_EBBSLONG  Index': False, 'use_ECMSM1Y  Index': False, 'use_ECMSM2Y  Index': False, 'use_.USDEUR02 U Index': False, 'use_.EURGBP02 U Index': False, 'use_.EURGBP10 U Index': False, 'use_EU 10Y-03M': False, 'use_US 10Y-03M': False, 'use_.EUR0210Y U Index': False, 'use_.EUR1030Y U Index': True, 'use_CS': False, 'use_HCS': False, 'use_INF': False, 'use_NFP': False, 'use_GLD': True, 'use_OIL': False, 'use_VIX': True, 'use_UMCSENT': False, 'use_GPR': False, 'use_INFCE1': False, 'use_INFE1': False, 'use_BEAR': False, 'use_BULL': True, 'use_UNC': True, 'use_CU_release': True, 'use_INF_release': False, 'use_NFP_release': False, 'use_PMI_release': False, 'use_UN_release': True}. Best is trial 7 with value: -0.6994818652849741.\n"
     ]
    },
    {
     "name": "stdout",
     "output_type": "stream",
     "text": [
      "[INFO] Generated 1 folds for forecast horizon 252\n"
     ]
    },
    {
     "name": "stderr",
     "output_type": "stream",
     "text": [
      "[I 2025-05-11 16:04:47,650] Trial 12 finished with value: -0.6976744186046512 and parameters: {'sequence_length': 1323, 'use_EUDR1T  Index': False, 'use_EUR009M  Index': False, 'use_ER1  Index': True, 'use_ER2  Index': True, 'use_ER3  Index': True, 'use_ER4  Index': True, 'use_ER5  Index': True, 'use_FDTR  Index': True, 'use_GJTB3MO  Index': False, 'use_DU1  Index': True, 'use_RX1  Index': False, 'use_SX5E  Index': True, 'use_SX7E  Index': False, 'use_HSI  Index': True, 'use_EURUSD   Index': True, 'use_EURJPY   Index': True, 'use_EURGBP   Index': False, 'use_EURCHF   Index': True, 'use_CRY  Index': True, 'use_C 1  Index': True, 'use_NG1  Index': False, 'use_MOVE  Index': True, 'use_VIX  Index': False, 'use_GDP CQOQ Index': True, 'use_CPI XYOY  Index': False, 'use_NAPMPMI  Index': False, 'use_IP CHNG  Index': False, 'use_CPTICHNG  Index': True, 'use_USURTOT  Index': False, 'use_NFP TCH  Index': False, 'use_INJCJC  Index': False, 'use_LEI CHNG  Index': False, 'use_EUGNEMUY  Index': False, 'use_CPEXEMUY  Index': False, 'use_EUIPEMUY  Index': False, 'use_EUUCEMU  Index': True, 'use_GRZEEUEX  Index': False, 'use_UMRTEMU   Index': False, 'use_OLE3US  Index': False, 'use_OLE3EURA  Index': True, 'use_OLE3JAPA  Index': True, 'use_OLE3BRAZ  Index': True, 'use_OLE3INDI  Index': False, 'use_OLE3CHIN  Index': False, 'use_EBBSDEPF  Index': False, 'use_EBBSLONG  Index': False, 'use_ECMSM1Y  Index': False, 'use_ECMSM2Y  Index': False, 'use_.USDEUR02 U Index': False, 'use_.EURGBP02 U Index': False, 'use_.EURGBP10 U Index': False, 'use_EU 10Y-03M': False, 'use_US 10Y-03M': False, 'use_.EUR0210Y U Index': False, 'use_.EUR1030Y U Index': True, 'use_CS': False, 'use_HCS': False, 'use_INF': False, 'use_NFP': False, 'use_GLD': True, 'use_OIL': False, 'use_VIX': True, 'use_UMCSENT': False, 'use_GPR': False, 'use_INFCE1': False, 'use_INFE1': False, 'use_BEAR': False, 'use_BULL': True, 'use_UNC': True, 'use_CU_release': True, 'use_INF_release': False, 'use_NFP_release': False, 'use_PMI_release': False, 'use_UN_release': True}. Best is trial 7 with value: -0.6994818652849741.\n"
     ]
    },
    {
     "name": "stdout",
     "output_type": "stream",
     "text": [
      "[INFO] Generated 1 folds for forecast horizon 252\n"
     ]
    },
    {
     "name": "stderr",
     "output_type": "stream",
     "text": [
      "[I 2025-05-11 16:04:47,959] Trial 13 finished with value: -0.6976744186046512 and parameters: {'sequence_length': 1323, 'use_EUDR1T  Index': False, 'use_EUR009M  Index': False, 'use_ER1  Index': True, 'use_ER2  Index': True, 'use_ER3  Index': True, 'use_ER4  Index': True, 'use_ER5  Index': True, 'use_FDTR  Index': True, 'use_GJTB3MO  Index': False, 'use_DU1  Index': True, 'use_RX1  Index': False, 'use_SX5E  Index': True, 'use_SX7E  Index': False, 'use_HSI  Index': True, 'use_EURUSD   Index': True, 'use_EURJPY   Index': True, 'use_EURGBP   Index': False, 'use_EURCHF   Index': True, 'use_CRY  Index': True, 'use_C 1  Index': True, 'use_NG1  Index': False, 'use_MOVE  Index': True, 'use_VIX  Index': False, 'use_GDP CQOQ Index': True, 'use_CPI XYOY  Index': False, 'use_NAPMPMI  Index': False, 'use_IP CHNG  Index': False, 'use_CPTICHNG  Index': True, 'use_USURTOT  Index': False, 'use_NFP TCH  Index': False, 'use_INJCJC  Index': False, 'use_LEI CHNG  Index': False, 'use_EUGNEMUY  Index': False, 'use_CPEXEMUY  Index': False, 'use_EUIPEMUY  Index': False, 'use_EUUCEMU  Index': True, 'use_GRZEEUEX  Index': False, 'use_UMRTEMU   Index': False, 'use_OLE3US  Index': False, 'use_OLE3EURA  Index': True, 'use_OLE3JAPA  Index': True, 'use_OLE3BRAZ  Index': True, 'use_OLE3INDI  Index': False, 'use_OLE3CHIN  Index': False, 'use_EBBSDEPF  Index': False, 'use_EBBSLONG  Index': False, 'use_ECMSM1Y  Index': False, 'use_ECMSM2Y  Index': False, 'use_.USDEUR02 U Index': False, 'use_.EURGBP02 U Index': False, 'use_.EURGBP10 U Index': False, 'use_EU 10Y-03M': False, 'use_US 10Y-03M': False, 'use_.EUR0210Y U Index': False, 'use_.EUR1030Y U Index': True, 'use_CS': False, 'use_HCS': False, 'use_INF': False, 'use_NFP': False, 'use_GLD': True, 'use_OIL': False, 'use_VIX': True, 'use_UMCSENT': False, 'use_GPR': False, 'use_INFCE1': False, 'use_INFE1': False, 'use_BEAR': False, 'use_BULL': True, 'use_UNC': True, 'use_CU_release': True, 'use_INF_release': False, 'use_NFP_release': False, 'use_PMI_release': False, 'use_UN_release': True}. Best is trial 7 with value: -0.6994818652849741.\n"
     ]
    },
    {
     "name": "stdout",
     "output_type": "stream",
     "text": [
      "[INFO] Generated 1 folds for forecast horizon 252\n"
     ]
    },
    {
     "name": "stderr",
     "output_type": "stream",
     "text": [
      "[I 2025-05-11 16:04:48,600] Trial 14 finished with value: -0.58125 and parameters: {'sequence_length': 1260, 'use_EUDR1T  Index': True, 'use_EUR009M  Index': False, 'use_ER1  Index': False, 'use_ER2  Index': True, 'use_ER3  Index': True, 'use_ER4  Index': True, 'use_ER5  Index': True, 'use_FDTR  Index': True, 'use_GJTB3MO  Index': False, 'use_DU1  Index': True, 'use_RX1  Index': False, 'use_SX5E  Index': True, 'use_SX7E  Index': False, 'use_HSI  Index': True, 'use_EURUSD   Index': False, 'use_EURJPY   Index': True, 'use_EURGBP   Index': False, 'use_EURCHF   Index': True, 'use_CRY  Index': False, 'use_C 1  Index': True, 'use_NG1  Index': False, 'use_MOVE  Index': True, 'use_VIX  Index': False, 'use_GDP CQOQ Index': True, 'use_CPI XYOY  Index': True, 'use_NAPMPMI  Index': False, 'use_IP CHNG  Index': False, 'use_CPTICHNG  Index': True, 'use_USURTOT  Index': False, 'use_NFP TCH  Index': False, 'use_INJCJC  Index': True, 'use_LEI CHNG  Index': True, 'use_EUGNEMUY  Index': True, 'use_CPEXEMUY  Index': False, 'use_EUIPEMUY  Index': False, 'use_EUUCEMU  Index': True, 'use_GRZEEUEX  Index': False, 'use_UMRTEMU   Index': False, 'use_OLE3US  Index': False, 'use_OLE3EURA  Index': True, 'use_OLE3JAPA  Index': True, 'use_OLE3BRAZ  Index': False, 'use_OLE3INDI  Index': False, 'use_OLE3CHIN  Index': False, 'use_EBBSDEPF  Index': True, 'use_EBBSLONG  Index': False, 'use_ECMSM1Y  Index': False, 'use_ECMSM2Y  Index': False, 'use_.USDEUR02 U Index': False, 'use_.EURGBP02 U Index': False, 'use_.EURGBP10 U Index': False, 'use_EU 10Y-03M': False, 'use_US 10Y-03M': False, 'use_.EUR0210Y U Index': False, 'use_.EUR1030Y U Index': True, 'use_CS': False, 'use_HCS': False, 'use_INF': False, 'use_NFP': False, 'use_GLD': False, 'use_OIL': False, 'use_VIX': True, 'use_UMCSENT': True, 'use_GPR': False, 'use_INFCE1': False, 'use_INFE1': True, 'use_BEAR': False, 'use_BULL': True, 'use_UNC': True, 'use_CU_release': True, 'use_INF_release': False, 'use_NFP_release': False, 'use_PMI_release': False, 'use_UN_release': True}. Best is trial 7 with value: -0.6994818652849741.\n"
     ]
    },
    {
     "name": "stdout",
     "output_type": "stream",
     "text": [
      "[INFO] Generated 1 folds for forecast horizon 252\n"
     ]
    },
    {
     "name": "stderr",
     "output_type": "stream",
     "text": [
      "[I 2025-05-11 16:04:48,879] Trial 15 finished with value: -0.3254237288135593 and parameters: {'sequence_length': 1197, 'use_EUDR1T  Index': False, 'use_EUR009M  Index': False, 'use_ER1  Index': True, 'use_ER2  Index': True, 'use_ER3  Index': True, 'use_ER4  Index': True, 'use_ER5  Index': True, 'use_FDTR  Index': True, 'use_GJTB3MO  Index': False, 'use_DU1  Index': True, 'use_RX1  Index': False, 'use_SX5E  Index': True, 'use_SX7E  Index': False, 'use_HSI  Index': True, 'use_EURUSD   Index': True, 'use_EURJPY   Index': True, 'use_EURGBP   Index': False, 'use_EURCHF   Index': True, 'use_CRY  Index': True, 'use_C 1  Index': True, 'use_NG1  Index': False, 'use_MOVE  Index': True, 'use_VIX  Index': False, 'use_GDP CQOQ Index': True, 'use_CPI XYOY  Index': False, 'use_NAPMPMI  Index': False, 'use_IP CHNG  Index': False, 'use_CPTICHNG  Index': True, 'use_USURTOT  Index': False, 'use_NFP TCH  Index': False, 'use_INJCJC  Index': False, 'use_LEI CHNG  Index': False, 'use_EUGNEMUY  Index': False, 'use_CPEXEMUY  Index': False, 'use_EUIPEMUY  Index': False, 'use_EUUCEMU  Index': True, 'use_GRZEEUEX  Index': False, 'use_UMRTEMU   Index': False, 'use_OLE3US  Index': False, 'use_OLE3EURA  Index': True, 'use_OLE3JAPA  Index': True, 'use_OLE3BRAZ  Index': True, 'use_OLE3INDI  Index': False, 'use_OLE3CHIN  Index': False, 'use_EBBSDEPF  Index': False, 'use_EBBSLONG  Index': False, 'use_ECMSM1Y  Index': False, 'use_ECMSM2Y  Index': False, 'use_.USDEUR02 U Index': False, 'use_.EURGBP02 U Index': False, 'use_.EURGBP10 U Index': False, 'use_EU 10Y-03M': False, 'use_US 10Y-03M': False, 'use_.EUR0210Y U Index': False, 'use_.EUR1030Y U Index': True, 'use_CS': False, 'use_HCS': False, 'use_INF': False, 'use_NFP': False, 'use_GLD': True, 'use_OIL': False, 'use_VIX': True, 'use_UMCSENT': False, 'use_GPR': False, 'use_INFCE1': False, 'use_INFE1': False, 'use_BEAR': False, 'use_BULL': True, 'use_UNC': True, 'use_CU_release': True, 'use_INF_release': False, 'use_NFP_release': False, 'use_PMI_release': False, 'use_UN_release': True}. Best is trial 7 with value: -0.6994818652849741.\n"
     ]
    },
    {
     "name": "stdout",
     "output_type": "stream",
     "text": [
      "[INFO] Generated 1 folds for forecast horizon 252\n"
     ]
    },
    {
     "name": "stderr",
     "output_type": "stream",
     "text": [
      "[I 2025-05-11 16:04:49,262] Trial 16 finished with value: -0.656 and parameters: {'sequence_length': 1386, 'use_EUDR1T  Index': True, 'use_EUR009M  Index': False, 'use_ER1  Index': True, 'use_ER2  Index': True, 'use_ER3  Index': True, 'use_ER4  Index': True, 'use_ER5  Index': True, 'use_FDTR  Index': True, 'use_GJTB3MO  Index': False, 'use_DU1  Index': True, 'use_RX1  Index': False, 'use_SX5E  Index': True, 'use_SX7E  Index': False, 'use_HSI  Index': True, 'use_EURUSD   Index': True, 'use_EURJPY   Index': True, 'use_EURGBP   Index': False, 'use_EURCHF   Index': True, 'use_CRY  Index': False, 'use_C 1  Index': True, 'use_NG1  Index': False, 'use_MOVE  Index': False, 'use_VIX  Index': False, 'use_GDP CQOQ Index': True, 'use_CPI XYOY  Index': True, 'use_NAPMPMI  Index': False, 'use_IP CHNG  Index': False, 'use_CPTICHNG  Index': True, 'use_USURTOT  Index': False, 'use_NFP TCH  Index': False, 'use_INJCJC  Index': True, 'use_LEI CHNG  Index': False, 'use_EUGNEMUY  Index': True, 'use_CPEXEMUY  Index': False, 'use_EUIPEMUY  Index': False, 'use_EUUCEMU  Index': True, 'use_GRZEEUEX  Index': False, 'use_UMRTEMU   Index': False, 'use_OLE3US  Index': False, 'use_OLE3EURA  Index': True, 'use_OLE3JAPA  Index': True, 'use_OLE3BRAZ  Index': True, 'use_OLE3INDI  Index': False, 'use_OLE3CHIN  Index': False, 'use_EBBSDEPF  Index': True, 'use_EBBSLONG  Index': False, 'use_ECMSM1Y  Index': False, 'use_ECMSM2Y  Index': False, 'use_.USDEUR02 U Index': False, 'use_.EURGBP02 U Index': False, 'use_.EURGBP10 U Index': False, 'use_EU 10Y-03M': False, 'use_US 10Y-03M': False, 'use_.EUR0210Y U Index': False, 'use_.EUR1030Y U Index': True, 'use_CS': False, 'use_HCS': False, 'use_INF': False, 'use_NFP': False, 'use_GLD': True, 'use_OIL': False, 'use_VIX': True, 'use_UMCSENT': False, 'use_GPR': False, 'use_INFCE1': False, 'use_INFE1': False, 'use_BEAR': False, 'use_BULL': True, 'use_UNC': True, 'use_CU_release': True, 'use_INF_release': False, 'use_NFP_release': False, 'use_PMI_release': False, 'use_UN_release': True}. Best is trial 7 with value: -0.6994818652849741.\n"
     ]
    },
    {
     "name": "stdout",
     "output_type": "stream",
     "text": [
      "[INFO] Generated 2 folds for forecast horizon 252\n"
     ]
    },
    {
     "name": "stderr",
     "output_type": "stream",
     "text": [
      "[I 2025-05-11 16:04:50,343] Trial 17 finished with value: -0.1925925925925926 and parameters: {'sequence_length': 945, 'use_EUDR1T  Index': False, 'use_EUR009M  Index': False, 'use_ER1  Index': False, 'use_ER2  Index': True, 'use_ER3  Index': True, 'use_ER4  Index': True, 'use_ER5  Index': True, 'use_FDTR  Index': True, 'use_GJTB3MO  Index': False, 'use_DU1  Index': True, 'use_RX1  Index': False, 'use_SX5E  Index': True, 'use_SX7E  Index': False, 'use_HSI  Index': True, 'use_EURUSD   Index': False, 'use_EURJPY   Index': True, 'use_EURGBP   Index': False, 'use_EURCHF   Index': True, 'use_CRY  Index': True, 'use_C 1  Index': True, 'use_NG1  Index': False, 'use_MOVE  Index': True, 'use_VIX  Index': False, 'use_GDP CQOQ Index': True, 'use_CPI XYOY  Index': False, 'use_NAPMPMI  Index': False, 'use_IP CHNG  Index': False, 'use_CPTICHNG  Index': True, 'use_USURTOT  Index': False, 'use_NFP TCH  Index': False, 'use_INJCJC  Index': False, 'use_LEI CHNG  Index': True, 'use_EUGNEMUY  Index': False, 'use_CPEXEMUY  Index': False, 'use_EUIPEMUY  Index': False, 'use_EUUCEMU  Index': True, 'use_GRZEEUEX  Index': False, 'use_UMRTEMU   Index': False, 'use_OLE3US  Index': False, 'use_OLE3EURA  Index': True, 'use_OLE3JAPA  Index': True, 'use_OLE3BRAZ  Index': False, 'use_OLE3INDI  Index': True, 'use_OLE3CHIN  Index': False, 'use_EBBSDEPF  Index': False, 'use_EBBSLONG  Index': False, 'use_ECMSM1Y  Index': False, 'use_ECMSM2Y  Index': False, 'use_.USDEUR02 U Index': False, 'use_.EURGBP02 U Index': False, 'use_.EURGBP10 U Index': False, 'use_EU 10Y-03M': False, 'use_US 10Y-03M': False, 'use_.EUR0210Y U Index': False, 'use_.EUR1030Y U Index': True, 'use_CS': False, 'use_HCS': False, 'use_INF': False, 'use_NFP': False, 'use_GLD': False, 'use_OIL': False, 'use_VIX': True, 'use_UMCSENT': True, 'use_GPR': False, 'use_INFCE1': False, 'use_INFE1': True, 'use_BEAR': False, 'use_BULL': True, 'use_UNC': True, 'use_CU_release': True, 'use_INF_release': False, 'use_NFP_release': False, 'use_PMI_release': False, 'use_UN_release': True}. Best is trial 7 with value: -0.6994818652849741.\n"
     ]
    },
    {
     "name": "stdout",
     "output_type": "stream",
     "text": [
      "[INFO] Generated 1 folds for forecast horizon 252\n"
     ]
    },
    {
     "name": "stderr",
     "output_type": "stream",
     "text": [
      "[I 2025-05-11 16:04:50,660] Trial 18 finished with value: -0.32 and parameters: {'sequence_length': 1197, 'use_EUDR1T  Index': False, 'use_EUR009M  Index': True, 'use_ER1  Index': True, 'use_ER2  Index': True, 'use_ER3  Index': True, 'use_ER4  Index': False, 'use_ER5  Index': True, 'use_FDTR  Index': True, 'use_GJTB3MO  Index': False, 'use_DU1  Index': True, 'use_RX1  Index': False, 'use_SX5E  Index': True, 'use_SX7E  Index': True, 'use_HSI  Index': False, 'use_EURUSD   Index': False, 'use_EURJPY   Index': True, 'use_EURGBP   Index': False, 'use_EURCHF   Index': True, 'use_CRY  Index': True, 'use_C 1  Index': True, 'use_NG1  Index': True, 'use_MOVE  Index': False, 'use_VIX  Index': True, 'use_GDP CQOQ Index': False, 'use_CPI XYOY  Index': False, 'use_NAPMPMI  Index': True, 'use_IP CHNG  Index': True, 'use_CPTICHNG  Index': True, 'use_USURTOT  Index': True, 'use_NFP TCH  Index': False, 'use_INJCJC  Index': True, 'use_LEI CHNG  Index': True, 'use_EUGNEMUY  Index': False, 'use_CPEXEMUY  Index': False, 'use_EUIPEMUY  Index': False, 'use_EUUCEMU  Index': True, 'use_GRZEEUEX  Index': False, 'use_UMRTEMU   Index': False, 'use_OLE3US  Index': False, 'use_OLE3EURA  Index': False, 'use_OLE3JAPA  Index': True, 'use_OLE3BRAZ  Index': False, 'use_OLE3INDI  Index': False, 'use_OLE3CHIN  Index': False, 'use_EBBSDEPF  Index': False, 'use_EBBSLONG  Index': False, 'use_ECMSM1Y  Index': False, 'use_ECMSM2Y  Index': True, 'use_.USDEUR02 U Index': False, 'use_.EURGBP02 U Index': False, 'use_.EURGBP10 U Index': False, 'use_EU 10Y-03M': False, 'use_US 10Y-03M': False, 'use_.EUR0210Y U Index': False, 'use_.EUR1030Y U Index': True, 'use_CS': False, 'use_HCS': True, 'use_INF': False, 'use_NFP': False, 'use_GLD': True, 'use_OIL': True, 'use_VIX': True, 'use_UMCSENT': False, 'use_GPR': True, 'use_INFCE1': True, 'use_INFE1': False, 'use_BEAR': False, 'use_BULL': True, 'use_UNC': True, 'use_CU_release': True, 'use_INF_release': False, 'use_NFP_release': False, 'use_PMI_release': False, 'use_UN_release': False}. Best is trial 7 with value: -0.6994818652849741.\n"
     ]
    },
    {
     "name": "stdout",
     "output_type": "stream",
     "text": [
      "[INFO] Generated 2 folds for forecast horizon 252\n"
     ]
    },
    {
     "name": "stderr",
     "output_type": "stream",
     "text": [
      "[I 2025-05-11 16:04:52,146] Trial 19 finished with value: -0.343070652173913 and parameters: {'sequence_length': 882, 'use_EUDR1T  Index': True, 'use_EUR009M  Index': False, 'use_ER1  Index': False, 'use_ER2  Index': True, 'use_ER3  Index': True, 'use_ER4  Index': True, 'use_ER5  Index': True, 'use_FDTR  Index': True, 'use_GJTB3MO  Index': False, 'use_DU1  Index': True, 'use_RX1  Index': False, 'use_SX5E  Index': True, 'use_SX7E  Index': False, 'use_HSI  Index': True, 'use_EURUSD   Index': True, 'use_EURJPY   Index': True, 'use_EURGBP   Index': False, 'use_EURCHF   Index': True, 'use_CRY  Index': False, 'use_C 1  Index': True, 'use_NG1  Index': False, 'use_MOVE  Index': True, 'use_VIX  Index': False, 'use_GDP CQOQ Index': True, 'use_CPI XYOY  Index': True, 'use_NAPMPMI  Index': False, 'use_IP CHNG  Index': False, 'use_CPTICHNG  Index': True, 'use_USURTOT  Index': False, 'use_NFP TCH  Index': False, 'use_INJCJC  Index': False, 'use_LEI CHNG  Index': False, 'use_EUGNEMUY  Index': True, 'use_CPEXEMUY  Index': False, 'use_EUIPEMUY  Index': False, 'use_EUUCEMU  Index': True, 'use_GRZEEUEX  Index': False, 'use_UMRTEMU   Index': False, 'use_OLE3US  Index': False, 'use_OLE3EURA  Index': True, 'use_OLE3JAPA  Index': True, 'use_OLE3BRAZ  Index': True, 'use_OLE3INDI  Index': True, 'use_OLE3CHIN  Index': False, 'use_EBBSDEPF  Index': True, 'use_EBBSLONG  Index': False, 'use_ECMSM1Y  Index': False, 'use_ECMSM2Y  Index': False, 'use_.USDEUR02 U Index': False, 'use_.EURGBP02 U Index': False, 'use_.EURGBP10 U Index': False, 'use_EU 10Y-03M': False, 'use_US 10Y-03M': False, 'use_.EUR0210Y U Index': False, 'use_.EUR1030Y U Index': True, 'use_CS': False, 'use_HCS': False, 'use_INF': False, 'use_NFP': False, 'use_GLD': False, 'use_OIL': False, 'use_VIX': True, 'use_UMCSENT': True, 'use_GPR': False, 'use_INFCE1': False, 'use_INFE1': True, 'use_BEAR': False, 'use_BULL': True, 'use_UNC': True, 'use_CU_release': True, 'use_INF_release': False, 'use_NFP_release': False, 'use_PMI_release': False, 'use_UN_release': True}. Best is trial 7 with value: -0.6994818652849741.\n"
     ]
    },
    {
     "name": "stdout",
     "output_type": "stream",
     "text": [
      "[INFO] Generated 1 folds for forecast horizon 252\n"
     ]
    },
    {
     "name": "stderr",
     "output_type": "stream",
     "text": [
      "[I 2025-05-11 16:04:52,468] Trial 20 finished with value: -0.656 and parameters: {'sequence_length': 1386, 'use_EUDR1T  Index': True, 'use_EUR009M  Index': False, 'use_ER1  Index': False, 'use_ER2  Index': True, 'use_ER3  Index': True, 'use_ER4  Index': True, 'use_ER5  Index': True, 'use_FDTR  Index': True, 'use_GJTB3MO  Index': False, 'use_DU1  Index': True, 'use_RX1  Index': False, 'use_SX5E  Index': True, 'use_SX7E  Index': False, 'use_HSI  Index': True, 'use_EURUSD   Index': False, 'use_EURJPY   Index': True, 'use_EURGBP   Index': False, 'use_EURCHF   Index': True, 'use_CRY  Index': False, 'use_C 1  Index': True, 'use_NG1  Index': False, 'use_MOVE  Index': False, 'use_VIX  Index': False, 'use_GDP CQOQ Index': True, 'use_CPI XYOY  Index': False, 'use_NAPMPMI  Index': False, 'use_IP CHNG  Index': False, 'use_CPTICHNG  Index': True, 'use_USURTOT  Index': False, 'use_NFP TCH  Index': False, 'use_INJCJC  Index': True, 'use_LEI CHNG  Index': False, 'use_EUGNEMUY  Index': True, 'use_CPEXEMUY  Index': False, 'use_EUIPEMUY  Index': False, 'use_EUUCEMU  Index': True, 'use_GRZEEUEX  Index': False, 'use_UMRTEMU   Index': False, 'use_OLE3US  Index': False, 'use_OLE3EURA  Index': True, 'use_OLE3JAPA  Index': True, 'use_OLE3BRAZ  Index': True, 'use_OLE3INDI  Index': False, 'use_OLE3CHIN  Index': False, 'use_EBBSDEPF  Index': True, 'use_EBBSLONG  Index': False, 'use_ECMSM1Y  Index': False, 'use_ECMSM2Y  Index': False, 'use_.USDEUR02 U Index': False, 'use_.EURGBP02 U Index': False, 'use_.EURGBP10 U Index': False, 'use_EU 10Y-03M': False, 'use_US 10Y-03M': False, 'use_.EUR0210Y U Index': False, 'use_.EUR1030Y U Index': True, 'use_CS': False, 'use_HCS': False, 'use_INF': False, 'use_NFP': False, 'use_GLD': False, 'use_OIL': False, 'use_VIX': True, 'use_UMCSENT': True, 'use_GPR': False, 'use_INFCE1': False, 'use_INFE1': True, 'use_BEAR': False, 'use_BULL': True, 'use_UNC': True, 'use_CU_release': True, 'use_INF_release': False, 'use_NFP_release': False, 'use_PMI_release': False, 'use_UN_release': True}. Best is trial 7 with value: -0.6994818652849741.\n"
     ]
    },
    {
     "name": "stdout",
     "output_type": "stream",
     "text": [
      "[INFO] Generated 1 folds for forecast horizon 252\n"
     ]
    },
    {
     "name": "stderr",
     "output_type": "stream",
     "text": [
      "[I 2025-05-11 16:04:52,838] Trial 21 finished with value: -0.576271186440678 and parameters: {'sequence_length': 1260, 'use_EUDR1T  Index': False, 'use_EUR009M  Index': False, 'use_ER1  Index': True, 'use_ER2  Index': True, 'use_ER3  Index': True, 'use_ER4  Index': True, 'use_ER5  Index': True, 'use_FDTR  Index': True, 'use_GJTB3MO  Index': False, 'use_DU1  Index': True, 'use_RX1  Index': False, 'use_SX5E  Index': True, 'use_SX7E  Index': False, 'use_HSI  Index': True, 'use_EURUSD   Index': True, 'use_EURJPY   Index': True, 'use_EURGBP   Index': False, 'use_EURCHF   Index': True, 'use_CRY  Index': True, 'use_C 1  Index': True, 'use_NG1  Index': False, 'use_MOVE  Index': True, 'use_VIX  Index': False, 'use_GDP CQOQ Index': True, 'use_CPI XYOY  Index': False, 'use_NAPMPMI  Index': False, 'use_IP CHNG  Index': False, 'use_CPTICHNG  Index': True, 'use_USURTOT  Index': False, 'use_NFP TCH  Index': False, 'use_INJCJC  Index': False, 'use_LEI CHNG  Index': False, 'use_EUGNEMUY  Index': False, 'use_CPEXEMUY  Index': False, 'use_EUIPEMUY  Index': False, 'use_EUUCEMU  Index': True, 'use_GRZEEUEX  Index': False, 'use_UMRTEMU   Index': False, 'use_OLE3US  Index': False, 'use_OLE3EURA  Index': True, 'use_OLE3JAPA  Index': True, 'use_OLE3BRAZ  Index': True, 'use_OLE3INDI  Index': False, 'use_OLE3CHIN  Index': False, 'use_EBBSDEPF  Index': False, 'use_EBBSLONG  Index': False, 'use_ECMSM1Y  Index': False, 'use_ECMSM2Y  Index': False, 'use_.USDEUR02 U Index': False, 'use_.EURGBP02 U Index': False, 'use_.EURGBP10 U Index': False, 'use_EU 10Y-03M': False, 'use_US 10Y-03M': False, 'use_.EUR0210Y U Index': False, 'use_.EUR1030Y U Index': True, 'use_CS': False, 'use_HCS': False, 'use_INF': False, 'use_NFP': False, 'use_GLD': True, 'use_OIL': False, 'use_VIX': True, 'use_UMCSENT': False, 'use_GPR': False, 'use_INFCE1': False, 'use_INFE1': False, 'use_BEAR': False, 'use_BULL': True, 'use_UNC': True, 'use_CU_release': True, 'use_INF_release': False, 'use_NFP_release': False, 'use_PMI_release': False, 'use_UN_release': True}. Best is trial 7 with value: -0.6994818652849741.\n"
     ]
    },
    {
     "name": "stdout",
     "output_type": "stream",
     "text": [
      "[INFO] Generated 1 folds for forecast horizon 252\n"
     ]
    },
    {
     "name": "stderr",
     "output_type": "stream",
     "text": [
      "[I 2025-05-11 16:04:53,259] Trial 22 finished with value: -0.656 and parameters: {'sequence_length': 1386, 'use_EUDR1T  Index': False, 'use_EUR009M  Index': False, 'use_ER1  Index': True, 'use_ER2  Index': True, 'use_ER3  Index': True, 'use_ER4  Index': True, 'use_ER5  Index': True, 'use_FDTR  Index': True, 'use_GJTB3MO  Index': False, 'use_DU1  Index': True, 'use_RX1  Index': False, 'use_SX5E  Index': True, 'use_SX7E  Index': False, 'use_HSI  Index': True, 'use_EURUSD   Index': True, 'use_EURJPY   Index': True, 'use_EURGBP   Index': False, 'use_EURCHF   Index': True, 'use_CRY  Index': True, 'use_C 1  Index': True, 'use_NG1  Index': False, 'use_MOVE  Index': True, 'use_VIX  Index': False, 'use_GDP CQOQ Index': True, 'use_CPI XYOY  Index': False, 'use_NAPMPMI  Index': False, 'use_IP CHNG  Index': False, 'use_CPTICHNG  Index': True, 'use_USURTOT  Index': False, 'use_NFP TCH  Index': False, 'use_INJCJC  Index': False, 'use_LEI CHNG  Index': False, 'use_EUGNEMUY  Index': False, 'use_CPEXEMUY  Index': False, 'use_EUIPEMUY  Index': False, 'use_EUUCEMU  Index': True, 'use_GRZEEUEX  Index': False, 'use_UMRTEMU   Index': False, 'use_OLE3US  Index': False, 'use_OLE3EURA  Index': True, 'use_OLE3JAPA  Index': True, 'use_OLE3BRAZ  Index': True, 'use_OLE3INDI  Index': False, 'use_OLE3CHIN  Index': False, 'use_EBBSDEPF  Index': False, 'use_EBBSLONG  Index': False, 'use_ECMSM1Y  Index': False, 'use_ECMSM2Y  Index': False, 'use_.USDEUR02 U Index': False, 'use_.EURGBP02 U Index': False, 'use_.EURGBP10 U Index': False, 'use_EU 10Y-03M': False, 'use_US 10Y-03M': False, 'use_.EUR0210Y U Index': False, 'use_.EUR1030Y U Index': True, 'use_CS': False, 'use_HCS': False, 'use_INF': False, 'use_NFP': False, 'use_GLD': True, 'use_OIL': False, 'use_VIX': True, 'use_UMCSENT': False, 'use_GPR': False, 'use_INFCE1': False, 'use_INFE1': False, 'use_BEAR': False, 'use_BULL': True, 'use_UNC': True, 'use_CU_release': True, 'use_INF_release': False, 'use_NFP_release': False, 'use_PMI_release': False, 'use_UN_release': True}. Best is trial 7 with value: -0.6994818652849741.\n"
     ]
    },
    {
     "name": "stdout",
     "output_type": "stream",
     "text": [
      "[INFO] Generated 1 folds for forecast horizon 252\n"
     ]
    },
    {
     "name": "stderr",
     "output_type": "stream",
     "text": [
      "[I 2025-05-11 16:04:53,540] Trial 23 finished with value: -0.576271186440678 and parameters: {'sequence_length': 1260, 'use_EUDR1T  Index': False, 'use_EUR009M  Index': False, 'use_ER1  Index': True, 'use_ER2  Index': True, 'use_ER3  Index': True, 'use_ER4  Index': True, 'use_ER5  Index': True, 'use_FDTR  Index': True, 'use_GJTB3MO  Index': False, 'use_DU1  Index': True, 'use_RX1  Index': False, 'use_SX5E  Index': True, 'use_SX7E  Index': False, 'use_HSI  Index': True, 'use_EURUSD   Index': True, 'use_EURJPY   Index': True, 'use_EURGBP   Index': False, 'use_EURCHF   Index': True, 'use_CRY  Index': True, 'use_C 1  Index': True, 'use_NG1  Index': False, 'use_MOVE  Index': True, 'use_VIX  Index': False, 'use_GDP CQOQ Index': True, 'use_CPI XYOY  Index': False, 'use_NAPMPMI  Index': False, 'use_IP CHNG  Index': False, 'use_CPTICHNG  Index': True, 'use_USURTOT  Index': False, 'use_NFP TCH  Index': False, 'use_INJCJC  Index': False, 'use_LEI CHNG  Index': False, 'use_EUGNEMUY  Index': False, 'use_CPEXEMUY  Index': False, 'use_EUIPEMUY  Index': False, 'use_EUUCEMU  Index': True, 'use_GRZEEUEX  Index': False, 'use_UMRTEMU   Index': False, 'use_OLE3US  Index': False, 'use_OLE3EURA  Index': True, 'use_OLE3JAPA  Index': True, 'use_OLE3BRAZ  Index': True, 'use_OLE3INDI  Index': False, 'use_OLE3CHIN  Index': False, 'use_EBBSDEPF  Index': False, 'use_EBBSLONG  Index': False, 'use_ECMSM1Y  Index': False, 'use_ECMSM2Y  Index': False, 'use_.USDEUR02 U Index': False, 'use_.EURGBP02 U Index': False, 'use_.EURGBP10 U Index': False, 'use_EU 10Y-03M': False, 'use_US 10Y-03M': False, 'use_.EUR0210Y U Index': False, 'use_.EUR1030Y U Index': True, 'use_CS': False, 'use_HCS': False, 'use_INF': False, 'use_NFP': False, 'use_GLD': True, 'use_OIL': False, 'use_VIX': True, 'use_UMCSENT': False, 'use_GPR': False, 'use_INFCE1': False, 'use_INFE1': False, 'use_BEAR': False, 'use_BULL': True, 'use_UNC': True, 'use_CU_release': True, 'use_INF_release': False, 'use_NFP_release': False, 'use_PMI_release': False, 'use_UN_release': True}. Best is trial 7 with value: -0.6994818652849741.\n"
     ]
    },
    {
     "name": "stdout",
     "output_type": "stream",
     "text": [
      "[INFO] Generated 1 folds for forecast horizon 252\n"
     ]
    },
    {
     "name": "stderr",
     "output_type": "stream",
     "text": [
      "[I 2025-05-11 16:04:53,874] Trial 24 finished with value: -0.3540983606557377 and parameters: {'sequence_length': 1449, 'use_EUDR1T  Index': False, 'use_EUR009M  Index': False, 'use_ER1  Index': True, 'use_ER2  Index': True, 'use_ER3  Index': True, 'use_ER4  Index': True, 'use_ER5  Index': True, 'use_FDTR  Index': True, 'use_GJTB3MO  Index': False, 'use_DU1  Index': True, 'use_RX1  Index': False, 'use_SX5E  Index': True, 'use_SX7E  Index': False, 'use_HSI  Index': True, 'use_EURUSD   Index': True, 'use_EURJPY   Index': True, 'use_EURGBP   Index': False, 'use_EURCHF   Index': True, 'use_CRY  Index': True, 'use_C 1  Index': True, 'use_NG1  Index': False, 'use_MOVE  Index': True, 'use_VIX  Index': False, 'use_GDP CQOQ Index': True, 'use_CPI XYOY  Index': False, 'use_NAPMPMI  Index': False, 'use_IP CHNG  Index': False, 'use_CPTICHNG  Index': True, 'use_USURTOT  Index': False, 'use_NFP TCH  Index': False, 'use_INJCJC  Index': False, 'use_LEI CHNG  Index': False, 'use_EUGNEMUY  Index': False, 'use_CPEXEMUY  Index': False, 'use_EUIPEMUY  Index': False, 'use_EUUCEMU  Index': True, 'use_GRZEEUEX  Index': False, 'use_UMRTEMU   Index': False, 'use_OLE3US  Index': False, 'use_OLE3EURA  Index': True, 'use_OLE3JAPA  Index': True, 'use_OLE3BRAZ  Index': True, 'use_OLE3INDI  Index': False, 'use_OLE3CHIN  Index': False, 'use_EBBSDEPF  Index': False, 'use_EBBSLONG  Index': False, 'use_ECMSM1Y  Index': False, 'use_ECMSM2Y  Index': False, 'use_.USDEUR02 U Index': False, 'use_.EURGBP02 U Index': False, 'use_.EURGBP10 U Index': False, 'use_EU 10Y-03M': False, 'use_US 10Y-03M': False, 'use_.EUR0210Y U Index': False, 'use_.EUR1030Y U Index': True, 'use_CS': False, 'use_HCS': False, 'use_INF': False, 'use_NFP': False, 'use_GLD': True, 'use_OIL': False, 'use_VIX': True, 'use_UMCSENT': False, 'use_GPR': False, 'use_INFCE1': False, 'use_INFE1': False, 'use_BEAR': False, 'use_BULL': True, 'use_UNC': True, 'use_CU_release': True, 'use_INF_release': False, 'use_NFP_release': False, 'use_PMI_release': False, 'use_UN_release': True}. Best is trial 7 with value: -0.6994818652849741.\n"
     ]
    },
    {
     "name": "stdout",
     "output_type": "stream",
     "text": [
      "[INFO] Generated 1 folds for forecast horizon 252\n"
     ]
    },
    {
     "name": "stderr",
     "output_type": "stream",
     "text": [
      "[I 2025-05-11 16:04:54,161] Trial 25 finished with value: -0.6976744186046512 and parameters: {'sequence_length': 1323, 'use_EUDR1T  Index': False, 'use_EUR009M  Index': False, 'use_ER1  Index': True, 'use_ER2  Index': True, 'use_ER3  Index': True, 'use_ER4  Index': True, 'use_ER5  Index': True, 'use_FDTR  Index': True, 'use_GJTB3MO  Index': False, 'use_DU1  Index': True, 'use_RX1  Index': False, 'use_SX5E  Index': True, 'use_SX7E  Index': False, 'use_HSI  Index': True, 'use_EURUSD   Index': True, 'use_EURJPY   Index': True, 'use_EURGBP   Index': False, 'use_EURCHF   Index': True, 'use_CRY  Index': True, 'use_C 1  Index': True, 'use_NG1  Index': False, 'use_MOVE  Index': True, 'use_VIX  Index': False, 'use_GDP CQOQ Index': True, 'use_CPI XYOY  Index': False, 'use_NAPMPMI  Index': False, 'use_IP CHNG  Index': False, 'use_CPTICHNG  Index': True, 'use_USURTOT  Index': False, 'use_NFP TCH  Index': False, 'use_INJCJC  Index': False, 'use_LEI CHNG  Index': False, 'use_EUGNEMUY  Index': False, 'use_CPEXEMUY  Index': False, 'use_EUIPEMUY  Index': False, 'use_EUUCEMU  Index': True, 'use_GRZEEUEX  Index': False, 'use_UMRTEMU   Index': False, 'use_OLE3US  Index': False, 'use_OLE3EURA  Index': True, 'use_OLE3JAPA  Index': True, 'use_OLE3BRAZ  Index': True, 'use_OLE3INDI  Index': False, 'use_OLE3CHIN  Index': False, 'use_EBBSDEPF  Index': False, 'use_EBBSLONG  Index': False, 'use_ECMSM1Y  Index': False, 'use_ECMSM2Y  Index': False, 'use_.USDEUR02 U Index': False, 'use_.EURGBP02 U Index': False, 'use_.EURGBP10 U Index': False, 'use_EU 10Y-03M': False, 'use_US 10Y-03M': False, 'use_.EUR0210Y U Index': False, 'use_.EUR1030Y U Index': True, 'use_CS': False, 'use_HCS': False, 'use_INF': False, 'use_NFP': False, 'use_GLD': True, 'use_OIL': False, 'use_VIX': True, 'use_UMCSENT': False, 'use_GPR': False, 'use_INFCE1': False, 'use_INFE1': False, 'use_BEAR': False, 'use_BULL': True, 'use_UNC': True, 'use_CU_release': True, 'use_INF_release': False, 'use_NFP_release': False, 'use_PMI_release': False, 'use_UN_release': True}. Best is trial 7 with value: -0.6994818652849741.\n"
     ]
    },
    {
     "name": "stdout",
     "output_type": "stream",
     "text": [
      "[INFO] Generated 1 folds for forecast horizon 252\n"
     ]
    },
    {
     "name": "stderr",
     "output_type": "stream",
     "text": [
      "[I 2025-05-11 16:04:54,460] Trial 26 finished with value: -0.32142857142857145 and parameters: {'sequence_length': 1197, 'use_EUDR1T  Index': False, 'use_EUR009M  Index': True, 'use_ER1  Index': True, 'use_ER2  Index': False, 'use_ER3  Index': False, 'use_ER4  Index': False, 'use_ER5  Index': True, 'use_FDTR  Index': True, 'use_GJTB3MO  Index': False, 'use_DU1  Index': True, 'use_RX1  Index': False, 'use_SX5E  Index': False, 'use_SX7E  Index': True, 'use_HSI  Index': False, 'use_EURUSD   Index': True, 'use_EURJPY   Index': False, 'use_EURGBP   Index': False, 'use_EURCHF   Index': False, 'use_CRY  Index': True, 'use_C 1  Index': False, 'use_NG1  Index': True, 'use_MOVE  Index': True, 'use_VIX  Index': True, 'use_GDP CQOQ Index': False, 'use_CPI XYOY  Index': True, 'use_NAPMPMI  Index': True, 'use_IP CHNG  Index': True, 'use_CPTICHNG  Index': False, 'use_USURTOT  Index': True, 'use_NFP TCH  Index': False, 'use_INJCJC  Index': False, 'use_LEI CHNG  Index': True, 'use_EUGNEMUY  Index': False, 'use_CPEXEMUY  Index': True, 'use_EUIPEMUY  Index': True, 'use_EUUCEMU  Index': False, 'use_GRZEEUEX  Index': False, 'use_UMRTEMU   Index': True, 'use_OLE3US  Index': True, 'use_OLE3EURA  Index': False, 'use_OLE3JAPA  Index': False, 'use_OLE3BRAZ  Index': False, 'use_OLE3INDI  Index': True, 'use_OLE3CHIN  Index': True, 'use_EBBSDEPF  Index': False, 'use_EBBSLONG  Index': False, 'use_ECMSM1Y  Index': True, 'use_ECMSM2Y  Index': True, 'use_.USDEUR02 U Index': False, 'use_.EURGBP02 U Index': True, 'use_.EURGBP10 U Index': False, 'use_EU 10Y-03M': True, 'use_US 10Y-03M': True, 'use_.EUR0210Y U Index': False, 'use_.EUR1030Y U Index': True, 'use_CS': False, 'use_HCS': True, 'use_INF': True, 'use_NFP': False, 'use_GLD': True, 'use_OIL': True, 'use_VIX': True, 'use_UMCSENT': False, 'use_GPR': True, 'use_INFCE1': True, 'use_INFE1': False, 'use_BEAR': False, 'use_BULL': True, 'use_UNC': True, 'use_CU_release': True, 'use_INF_release': True, 'use_NFP_release': False, 'use_PMI_release': False, 'use_UN_release': False}. Best is trial 7 with value: -0.6994818652849741.\n"
     ]
    },
    {
     "name": "stdout",
     "output_type": "stream",
     "text": [
      "[INFO] Generated 1 folds for forecast horizon 252\n"
     ]
    },
    {
     "name": "stderr",
     "output_type": "stream",
     "text": [
      "[I 2025-05-11 16:04:54,774] Trial 27 finished with value: -0.3448275862068966 and parameters: {'sequence_length': 1449, 'use_EUDR1T  Index': False, 'use_EUR009M  Index': False, 'use_ER1  Index': True, 'use_ER2  Index': True, 'use_ER3  Index': True, 'use_ER4  Index': True, 'use_ER5  Index': True, 'use_FDTR  Index': True, 'use_GJTB3MO  Index': False, 'use_DU1  Index': True, 'use_RX1  Index': False, 'use_SX5E  Index': True, 'use_SX7E  Index': False, 'use_HSI  Index': True, 'use_EURUSD   Index': True, 'use_EURJPY   Index': True, 'use_EURGBP   Index': False, 'use_EURCHF   Index': True, 'use_CRY  Index': True, 'use_C 1  Index': True, 'use_NG1  Index': False, 'use_MOVE  Index': True, 'use_VIX  Index': False, 'use_GDP CQOQ Index': True, 'use_CPI XYOY  Index': False, 'use_NAPMPMI  Index': False, 'use_IP CHNG  Index': False, 'use_CPTICHNG  Index': True, 'use_USURTOT  Index': False, 'use_NFP TCH  Index': False, 'use_INJCJC  Index': False, 'use_LEI CHNG  Index': False, 'use_EUGNEMUY  Index': False, 'use_CPEXEMUY  Index': False, 'use_EUIPEMUY  Index': False, 'use_EUUCEMU  Index': True, 'use_GRZEEUEX  Index': False, 'use_UMRTEMU   Index': False, 'use_OLE3US  Index': False, 'use_OLE3EURA  Index': True, 'use_OLE3JAPA  Index': True, 'use_OLE3BRAZ  Index': True, 'use_OLE3INDI  Index': False, 'use_OLE3CHIN  Index': False, 'use_EBBSDEPF  Index': False, 'use_EBBSLONG  Index': False, 'use_ECMSM1Y  Index': False, 'use_ECMSM2Y  Index': False, 'use_.USDEUR02 U Index': False, 'use_.EURGBP02 U Index': False, 'use_.EURGBP10 U Index': False, 'use_EU 10Y-03M': False, 'use_US 10Y-03M': False, 'use_.EUR0210Y U Index': False, 'use_.EUR1030Y U Index': True, 'use_CS': False, 'use_HCS': False, 'use_INF': False, 'use_NFP': False, 'use_GLD': True, 'use_OIL': False, 'use_VIX': True, 'use_UMCSENT': False, 'use_GPR': False, 'use_INFCE1': False, 'use_INFE1': False, 'use_BEAR': False, 'use_BULL': True, 'use_UNC': True, 'use_CU_release': True, 'use_INF_release': False, 'use_NFP_release': False, 'use_PMI_release': False, 'use_UN_release': True}. Best is trial 7 with value: -0.6994818652849741.\n"
     ]
    },
    {
     "name": "stdout",
     "output_type": "stream",
     "text": [
      "[INFO] Generated 1 folds for forecast horizon 252\n"
     ]
    },
    {
     "name": "stderr",
     "output_type": "stream",
     "text": [
      "[I 2025-05-11 16:04:55,063] Trial 28 finished with value: -0.6976744186046512 and parameters: {'sequence_length': 1323, 'use_EUDR1T  Index': True, 'use_EUR009M  Index': False, 'use_ER1  Index': False, 'use_ER2  Index': True, 'use_ER3  Index': True, 'use_ER4  Index': True, 'use_ER5  Index': True, 'use_FDTR  Index': True, 'use_GJTB3MO  Index': False, 'use_DU1  Index': True, 'use_RX1  Index': False, 'use_SX5E  Index': True, 'use_SX7E  Index': True, 'use_HSI  Index': True, 'use_EURUSD   Index': False, 'use_EURJPY   Index': True, 'use_EURGBP   Index': False, 'use_EURCHF   Index': True, 'use_CRY  Index': False, 'use_C 1  Index': True, 'use_NG1  Index': False, 'use_MOVE  Index': False, 'use_VIX  Index': False, 'use_GDP CQOQ Index': True, 'use_CPI XYOY  Index': True, 'use_NAPMPMI  Index': False, 'use_IP CHNG  Index': False, 'use_CPTICHNG  Index': True, 'use_USURTOT  Index': False, 'use_NFP TCH  Index': False, 'use_INJCJC  Index': True, 'use_LEI CHNG  Index': True, 'use_EUGNEMUY  Index': True, 'use_CPEXEMUY  Index': False, 'use_EUIPEMUY  Index': False, 'use_EUUCEMU  Index': True, 'use_GRZEEUEX  Index': False, 'use_UMRTEMU   Index': False, 'use_OLE3US  Index': False, 'use_OLE3EURA  Index': True, 'use_OLE3JAPA  Index': True, 'use_OLE3BRAZ  Index': False, 'use_OLE3INDI  Index': True, 'use_OLE3CHIN  Index': False, 'use_EBBSDEPF  Index': True, 'use_EBBSLONG  Index': False, 'use_ECMSM1Y  Index': False, 'use_ECMSM2Y  Index': False, 'use_.USDEUR02 U Index': False, 'use_.EURGBP02 U Index': False, 'use_.EURGBP10 U Index': False, 'use_EU 10Y-03M': False, 'use_US 10Y-03M': False, 'use_.EUR0210Y U Index': False, 'use_.EUR1030Y U Index': True, 'use_CS': False, 'use_HCS': False, 'use_INF': False, 'use_NFP': False, 'use_GLD': False, 'use_OIL': False, 'use_VIX': True, 'use_UMCSENT': True, 'use_GPR': False, 'use_INFCE1': False, 'use_INFE1': True, 'use_BEAR': False, 'use_BULL': True, 'use_UNC': True, 'use_CU_release': True, 'use_INF_release': False, 'use_NFP_release': False, 'use_PMI_release': False, 'use_UN_release': True}. Best is trial 7 with value: -0.6994818652849741.\n"
     ]
    },
    {
     "name": "stdout",
     "output_type": "stream",
     "text": [
      "[INFO] Generated 1 folds for forecast horizon 252\n"
     ]
    },
    {
     "name": "stderr",
     "output_type": "stream",
     "text": [
      "/venv/main/lib/python3.12/site-packages/sklearn/metrics/_classification.py:1565: UndefinedMetricWarning: F-score is ill-defined and being set to 0.0 due to no true nor predicted samples. Use `zero_division` parameter to control this behavior.\n",
      "  _warn_prf(average, modifier, f\"{metric.capitalize()} is\", len(result))\n",
      "/venv/main/lib/python3.12/site-packages/sklearn/metrics/_classification.py:1565: UndefinedMetricWarning: F-score is ill-defined and being set to 0.0 due to no true nor predicted samples. Use `zero_division` parameter to control this behavior.\n",
      "  _warn_prf(average, modifier, f\"{metric.capitalize()} is\", len(result))\n",
      "/venv/main/lib/python3.12/site-packages/sklearn/metrics/_classification.py:1565: UndefinedMetricWarning: F-score is ill-defined and being set to 0.0 due to no true nor predicted samples. Use `zero_division` parameter to control this behavior.\n",
      "  _warn_prf(average, modifier, f\"{metric.capitalize()} is\", len(result))\n",
      "/venv/main/lib/python3.12/site-packages/sklearn/metrics/_classification.py:1565: UndefinedMetricWarning: F-score is ill-defined and being set to 0.0 due to no true nor predicted samples. Use `zero_division` parameter to control this behavior.\n",
      "  _warn_prf(average, modifier, f\"{metric.capitalize()} is\", len(result))\n",
      "/venv/main/lib/python3.12/site-packages/sklearn/metrics/_classification.py:1565: UndefinedMetricWarning: F-score is ill-defined and being set to 0.0 due to no true nor predicted samples. Use `zero_division` parameter to control this behavior.\n",
      "  _warn_prf(average, modifier, f\"{metric.capitalize()} is\", len(result))\n",
      "/venv/main/lib/python3.12/site-packages/sklearn/metrics/_classification.py:1565: UndefinedMetricWarning: F-score is ill-defined and being set to 0.0 due to no true nor predicted samples. Use `zero_division` parameter to control this behavior.\n",
      "  _warn_prf(average, modifier, f\"{metric.capitalize()} is\", len(result))\n",
      "/venv/main/lib/python3.12/site-packages/sklearn/metrics/_classification.py:1565: UndefinedMetricWarning: F-score is ill-defined and being set to 0.0 due to no true nor predicted samples. Use `zero_division` parameter to control this behavior.\n",
      "  _warn_prf(average, modifier, f\"{metric.capitalize()} is\", len(result))\n",
      "/venv/main/lib/python3.12/site-packages/sklearn/metrics/_classification.py:1565: UndefinedMetricWarning: F-score is ill-defined and being set to 0.0 due to no true nor predicted samples. Use `zero_division` parameter to control this behavior.\n",
      "  _warn_prf(average, modifier, f\"{metric.capitalize()} is\", len(result))\n",
      "/venv/main/lib/python3.12/site-packages/sklearn/metrics/_classification.py:1565: UndefinedMetricWarning: F-score is ill-defined and being set to 0.0 due to no true nor predicted samples. Use `zero_division` parameter to control this behavior.\n",
      "  _warn_prf(average, modifier, f\"{metric.capitalize()} is\", len(result))\n",
      "/venv/main/lib/python3.12/site-packages/sklearn/metrics/_classification.py:1565: UndefinedMetricWarning: F-score is ill-defined and being set to 0.0 due to no true nor predicted samples. Use `zero_division` parameter to control this behavior.\n",
      "  _warn_prf(average, modifier, f\"{metric.capitalize()} is\", len(result))\n",
      "[I 2025-05-11 16:04:55,417] Trial 29 finished with value: 0.0 and parameters: {'sequence_length': 1134, 'use_EUDR1T  Index': True, 'use_EUR009M  Index': True, 'use_ER1  Index': False, 'use_ER2  Index': True, 'use_ER3  Index': False, 'use_ER4  Index': True, 'use_ER5  Index': True, 'use_FDTR  Index': False, 'use_GJTB3MO  Index': True, 'use_DU1  Index': True, 'use_RX1  Index': False, 'use_SX5E  Index': False, 'use_SX7E  Index': True, 'use_HSI  Index': True, 'use_EURUSD   Index': True, 'use_EURJPY   Index': True, 'use_EURGBP   Index': False, 'use_EURCHF   Index': False, 'use_CRY  Index': True, 'use_C 1  Index': True, 'use_NG1  Index': True, 'use_MOVE  Index': False, 'use_VIX  Index': False, 'use_GDP CQOQ Index': True, 'use_CPI XYOY  Index': True, 'use_NAPMPMI  Index': False, 'use_IP CHNG  Index': False, 'use_CPTICHNG  Index': False, 'use_USURTOT  Index': False, 'use_NFP TCH  Index': False, 'use_INJCJC  Index': False, 'use_LEI CHNG  Index': True, 'use_EUGNEMUY  Index': False, 'use_CPEXEMUY  Index': False, 'use_EUIPEMUY  Index': True, 'use_EUUCEMU  Index': True, 'use_GRZEEUEX  Index': False, 'use_UMRTEMU   Index': True, 'use_OLE3US  Index': True, 'use_OLE3EURA  Index': False, 'use_OLE3JAPA  Index': True, 'use_OLE3BRAZ  Index': True, 'use_OLE3INDI  Index': True, 'use_OLE3CHIN  Index': True, 'use_EBBSDEPF  Index': False, 'use_EBBSLONG  Index': True, 'use_ECMSM1Y  Index': False, 'use_ECMSM2Y  Index': False, 'use_.USDEUR02 U Index': False, 'use_.EURGBP02 U Index': False, 'use_.EURGBP10 U Index': False, 'use_EU 10Y-03M': False, 'use_US 10Y-03M': True, 'use_.EUR0210Y U Index': False, 'use_.EUR1030Y U Index': True, 'use_CS': False, 'use_HCS': True, 'use_INF': True, 'use_NFP': False, 'use_GLD': False, 'use_OIL': True, 'use_VIX': False, 'use_UMCSENT': True, 'use_GPR': False, 'use_INFCE1': False, 'use_INFE1': False, 'use_BEAR': False, 'use_BULL': True, 'use_UNC': True, 'use_CU_release': False, 'use_INF_release': True, 'use_NFP_release': False, 'use_PMI_release': True, 'use_UN_release': True}. Best is trial 7 with value: -0.6994818652849741.\n"
     ]
    },
    {
     "name": "stdout",
     "output_type": "stream",
     "text": [
      "[RESULT] Horizon 252: Best Params = {'sequence_length': 1323, 'use_EUDR1T  Index': True, 'use_EUR009M  Index': False, 'use_ER1  Index': False, 'use_ER2  Index': True, 'use_ER3  Index': True, 'use_ER4  Index': True, 'use_ER5  Index': True, 'use_FDTR  Index': True, 'use_GJTB3MO  Index': False, 'use_DU1  Index': True, 'use_RX1  Index': False, 'use_SX5E  Index': True, 'use_SX7E  Index': True, 'use_HSI  Index': True, 'use_EURUSD   Index': False, 'use_EURJPY   Index': True, 'use_EURGBP   Index': False, 'use_EURCHF   Index': True, 'use_CRY  Index': False, 'use_C 1  Index': True, 'use_NG1  Index': False, 'use_MOVE  Index': False, 'use_VIX  Index': False, 'use_GDP CQOQ Index': True, 'use_CPI XYOY  Index': True, 'use_NAPMPMI  Index': False, 'use_IP CHNG  Index': False, 'use_CPTICHNG  Index': True, 'use_USURTOT  Index': False, 'use_NFP TCH  Index': False, 'use_INJCJC  Index': True, 'use_LEI CHNG  Index': True, 'use_EUGNEMUY  Index': True, 'use_CPEXEMUY  Index': False, 'use_EUIPEMUY  Index': False, 'use_EUUCEMU  Index': True, 'use_GRZEEUEX  Index': False, 'use_UMRTEMU   Index': False, 'use_OLE3US  Index': False, 'use_OLE3EURA  Index': True, 'use_OLE3JAPA  Index': True, 'use_OLE3BRAZ  Index': False, 'use_OLE3INDI  Index': True, 'use_OLE3CHIN  Index': False, 'use_EBBSDEPF  Index': True, 'use_EBBSLONG  Index': False, 'use_ECMSM1Y  Index': False, 'use_ECMSM2Y  Index': False, 'use_.USDEUR02 U Index': False, 'use_.EURGBP02 U Index': False, 'use_.EURGBP10 U Index': False, 'use_EU 10Y-03M': False, 'use_US 10Y-03M': False, 'use_.EUR0210Y U Index': False, 'use_.EUR1030Y U Index': True, 'use_CS': False, 'use_HCS': False, 'use_INF': False, 'use_NFP': False, 'use_GLD': False, 'use_OIL': False, 'use_VIX': True, 'use_UMCSENT': True, 'use_GPR': False, 'use_INFCE1': False, 'use_INFE1': True, 'use_BEAR': False, 'use_BULL': True, 'use_UNC': True, 'use_CU_release': True, 'use_INF_release': False, 'use_NFP_release': False, 'use_PMI_release': False, 'use_UN_release': True}, Best F1 = 0.6995\n"
     ]
    }
   ],
   "source": [
    "# Load data\n",
    "X_df = pd.read_csv(r\"X_df_filtered.csv\", index_col=0, parse_dates=True)\n",
    "Y_df_dict = {\n",
    "    1: pd.read_csv(r\"Y_df_change_dir_1.csv\", index_col=0, parse_dates=True),\n",
    "    5: pd.read_csv(r\"Y_df_change_dir_5.csv\", index_col=0, parse_dates=True),\n",
    "    21: pd.read_csv(r\"Y_df_change_dir_21.csv\", index_col=0, parse_dates=True),\n",
    "    63: pd.read_csv(r\"Y_df_change_dir_63.csv\", index_col=0, parse_dates=True),\n",
    "    252: pd.read_csv(r\"Y_df_change_dir_252.csv\", index_col=0, parse_dates=True),\n",
    "}\n",
    "\n",
    "# Run optimization\n",
    "results = run_for_all_horizons(X_df, Y_df_dict)"
   ]
  },
  {
   "cell_type": "code",
   "execution_count": null,
   "id": "c39e28e58d3e48c",
   "metadata": {},
   "outputs": [],
   "source": [
    "# ---------------------- Fold Debugging Script ---------------------- #\n",
    "# Load feature data\n",
    "X_df = pd.read_csv(r'C:\\Users\\azorb\\PycharmProjects\\Predicting the Yield Curve\\Data Processing\\Output\\Independent\\X_df.csv', index_col=0, parse_dates=True)\n",
    "X_df.index = pd.to_datetime(X_df.index)\n",
    "\n",
    "# Configs\n",
    "sequence_length = 252\n",
    "holdout_base = 756\n",
    "forecast_horizons = [1, 5, 21, 63, 252]\n",
    "\n",
    "# Run diagnostics for each forecast horizon\n",
    "for h in forecast_horizons:\n",
    "    print(f\"\\n=== Forecast Horizon: {h} ===\")\n",
    "\n",
    "    # Load directional labels for the current horizon\n",
    "    Y_df = pd.read_csv(fr'C:\\Users\\azorb\\PycharmProjects\\Predicting the Yield Curve\\Data Processing\\Output\\Dependent\\Classification\\Y_df_change_dir_{h}.csv', index_col=0, parse_dates=True)\n",
    "    Y_df.index = pd.to_datetime(Y_df.index)\n",
    "\n",
    "    # Shift and align\n",
    "    X_shifted = shift_X_by_horizon(X_df, h)\n",
    "    common_idx = X_shifted.index.intersection(Y_df.index)\n",
    "    X_aligned = X_shifted.loc[common_idx]\n",
    "    Y_aligned = Y_df.loc[common_idx]\n",
    "\n",
    "    assert X_aligned.index.equals(Y_aligned.index), \"Index mismatch after aligning!\"\n",
    "\n",
    "    # Generate folds\n",
    "    val_window = val_window = sequence_length + h + 252 - 1  # or 1008 + forecast_horizon\n",
    "    folds, last_val_end, holdout_days = get_expanding_folds(X_aligned, Y_aligned, h, sequence_length, val_window, holdout_base)\n",
    "\n",
    "    # First fold shapes\n",
    "    X_train, Y_train = folds[0][\"X_train\"], folds[0][\"Y_train\"]\n",
    "    X_val, Y_val = folds[0][\"X_val\"], folds[0][\"Y_val\"]\n",
    "    print(f\"[DEBUG] First fold train X: {X_train.shape}, Y: {Y_train.shape}\")\n",
    "    print(f\"[DEBUG] First fold val X: {X_val.shape}, Y: {Y_val.shape}\")\n",
    "\n",
    "    # Standardize\n",
    "    X_train_std, X_val_std = standardize_fold(X_train, X_val)\n",
    "\n",
    "    # Sequences\n",
    "    X_train_seq, Y_train_seq = create_sequences(X_train_std, Y_train, sequence_length, h)\n",
    "    X_val_seq, Y_val_seq = create_sequences(X_val_std, Y_val, sequence_length, h)\n",
    "\n",
    "    print(f\"[DEBUG] Train sequences X: {X_train_seq.shape}, Y: {Y_train_seq.shape}\")\n",
    "    print(f\"[DEBUG] Val sequences X: {X_val_seq.shape}, Y: {Y_val_seq.shape}\")\n",
    "\n",
    "    # Check correspondence of sequence and target alignment\n",
    "    if len(X_train_seq) > 0:\n",
    "        print(f\"[INFO] First target index: {Y_train.index[sequence_length + h - 1]}\")\n",
    "        print(f\"[INFO] Expected Y index from X: {X_train.index[0]} to {X_train.index[sequence_length - 1]}\")"
   ]
  },
  {
   "cell_type": "code",
   "execution_count": 5,
   "id": "046d73f4-73c3-43ff-890a-ad2ddc7c042e",
   "metadata": {},
   "outputs": [
    {
     "data": {
      "text/plain": [
       "{1: {'best_params': {'sequence_length': 945,\n",
       "   'use_EUDR1T  Index': False,\n",
       "   'use_EUR009M  Index': False,\n",
       "   'use_ER1  Index': True,\n",
       "   'use_ER2  Index': True,\n",
       "   'use_ER3  Index': False,\n",
       "   'use_ER4  Index': True,\n",
       "   'use_ER5  Index': False,\n",
       "   'use_FDTR  Index': False,\n",
       "   'use_GJTB3MO  Index': False,\n",
       "   'use_DU1  Index': True,\n",
       "   'use_RX1  Index': True,\n",
       "   'use_SX5E  Index': True,\n",
       "   'use_SX7E  Index': True,\n",
       "   'use_HSI  Index': False,\n",
       "   'use_EURUSD   Index': False,\n",
       "   'use_EURJPY   Index': False,\n",
       "   'use_EURGBP   Index': True,\n",
       "   'use_EURCHF   Index': True,\n",
       "   'use_CRY  Index': True,\n",
       "   'use_C 1  Index': True,\n",
       "   'use_NG1  Index': True,\n",
       "   'use_MOVE  Index': False,\n",
       "   'use_VIX  Index': True,\n",
       "   'use_GDP CQOQ Index': True,\n",
       "   'use_CPI XYOY  Index': False,\n",
       "   'use_NAPMPMI  Index': False,\n",
       "   'use_IP CHNG  Index': False,\n",
       "   'use_CPTICHNG  Index': False,\n",
       "   'use_USURTOT  Index': False,\n",
       "   'use_NFP TCH  Index': True,\n",
       "   'use_INJCJC  Index': False,\n",
       "   'use_LEI CHNG  Index': False,\n",
       "   'use_EUGNEMUY  Index': True,\n",
       "   'use_CPEXEMUY  Index': False,\n",
       "   'use_EUIPEMUY  Index': False,\n",
       "   'use_EUUCEMU  Index': False,\n",
       "   'use_GRZEEUEX  Index': True,\n",
       "   'use_UMRTEMU   Index': False,\n",
       "   'use_OLE3US  Index': True,\n",
       "   'use_OLE3EURA  Index': True,\n",
       "   'use_OLE3JAPA  Index': True,\n",
       "   'use_OLE3BRAZ  Index': False,\n",
       "   'use_OLE3INDI  Index': True,\n",
       "   'use_OLE3CHIN  Index': True,\n",
       "   'use_EBBSDEPF  Index': True,\n",
       "   'use_EBBSLONG  Index': False,\n",
       "   'use_ECMSM1Y  Index': False,\n",
       "   'use_ECMSM2Y  Index': False,\n",
       "   'use_.USDEUR02 U Index': False,\n",
       "   'use_.EURGBP02 U Index': False,\n",
       "   'use_.EURGBP10 U Index': False,\n",
       "   'use_EU 10Y-03M': False,\n",
       "   'use_US 10Y-03M': True,\n",
       "   'use_.EUR0210Y U Index': False,\n",
       "   'use_.EUR1030Y U Index': True,\n",
       "   'use_CS': False,\n",
       "   'use_HCS': False,\n",
       "   'use_INF': True,\n",
       "   'use_NFP': False,\n",
       "   'use_GLD': True,\n",
       "   'use_OIL': True,\n",
       "   'use_VIX': False,\n",
       "   'use_UMCSENT': True,\n",
       "   'use_GPR': False,\n",
       "   'use_INFCE1': True,\n",
       "   'use_INFE1': False,\n",
       "   'use_BEAR': False,\n",
       "   'use_BULL': False,\n",
       "   'use_UNC': False,\n",
       "   'use_CU_release': True,\n",
       "   'use_INF_release': True,\n",
       "   'use_NFP_release': False,\n",
       "   'use_PMI_release': False,\n",
       "   'use_UN_release': True},\n",
       "  'best_f1': 0.5772755197723672},\n",
       " 5: {'best_params': {'sequence_length': 1197,\n",
       "   'use_EUDR1T  Index': True,\n",
       "   'use_EUR009M  Index': False,\n",
       "   'use_ER1  Index': True,\n",
       "   'use_ER2  Index': False,\n",
       "   'use_ER3  Index': True,\n",
       "   'use_ER4  Index': True,\n",
       "   'use_ER5  Index': False,\n",
       "   'use_FDTR  Index': False,\n",
       "   'use_GJTB3MO  Index': True,\n",
       "   'use_DU1  Index': True,\n",
       "   'use_RX1  Index': False,\n",
       "   'use_SX5E  Index': False,\n",
       "   'use_SX7E  Index': False,\n",
       "   'use_HSI  Index': False,\n",
       "   'use_EURUSD   Index': False,\n",
       "   'use_EURJPY   Index': False,\n",
       "   'use_EURGBP   Index': True,\n",
       "   'use_EURCHF   Index': True,\n",
       "   'use_CRY  Index': False,\n",
       "   'use_C 1  Index': True,\n",
       "   'use_NG1  Index': False,\n",
       "   'use_MOVE  Index': True,\n",
       "   'use_VIX  Index': True,\n",
       "   'use_GDP CQOQ Index': True,\n",
       "   'use_CPI XYOY  Index': False,\n",
       "   'use_NAPMPMI  Index': True,\n",
       "   'use_IP CHNG  Index': False,\n",
       "   'use_CPTICHNG  Index': False,\n",
       "   'use_USURTOT  Index': True,\n",
       "   'use_NFP TCH  Index': False,\n",
       "   'use_INJCJC  Index': False,\n",
       "   'use_LEI CHNG  Index': False,\n",
       "   'use_EUGNEMUY  Index': False,\n",
       "   'use_CPEXEMUY  Index': True,\n",
       "   'use_EUIPEMUY  Index': False,\n",
       "   'use_EUUCEMU  Index': False,\n",
       "   'use_GRZEEUEX  Index': True,\n",
       "   'use_UMRTEMU   Index': True,\n",
       "   'use_OLE3US  Index': True,\n",
       "   'use_OLE3EURA  Index': True,\n",
       "   'use_OLE3JAPA  Index': False,\n",
       "   'use_OLE3BRAZ  Index': False,\n",
       "   'use_OLE3INDI  Index': True,\n",
       "   'use_OLE3CHIN  Index': False,\n",
       "   'use_EBBSDEPF  Index': False,\n",
       "   'use_EBBSLONG  Index': True,\n",
       "   'use_ECMSM1Y  Index': True,\n",
       "   'use_ECMSM2Y  Index': False,\n",
       "   'use_.USDEUR02 U Index': False,\n",
       "   'use_.EURGBP02 U Index': True,\n",
       "   'use_.EURGBP10 U Index': False,\n",
       "   'use_EU 10Y-03M': False,\n",
       "   'use_US 10Y-03M': True,\n",
       "   'use_.EUR0210Y U Index': True,\n",
       "   'use_.EUR1030Y U Index': False,\n",
       "   'use_CS': True,\n",
       "   'use_HCS': True,\n",
       "   'use_INF': True,\n",
       "   'use_NFP': True,\n",
       "   'use_GLD': False,\n",
       "   'use_OIL': False,\n",
       "   'use_VIX': False,\n",
       "   'use_UMCSENT': False,\n",
       "   'use_GPR': True,\n",
       "   'use_INFCE1': False,\n",
       "   'use_INFE1': True,\n",
       "   'use_BEAR': False,\n",
       "   'use_BULL': False,\n",
       "   'use_UNC': False,\n",
       "   'use_CU_release': True,\n",
       "   'use_INF_release': False,\n",
       "   'use_NFP_release': False,\n",
       "   'use_PMI_release': True,\n",
       "   'use_UN_release': False},\n",
       "  'best_f1': 0.6981487949703109},\n",
       " 21: {'best_params': {'sequence_length': 1197,\n",
       "   'use_EUDR1T  Index': False,\n",
       "   'use_EUR009M  Index': True,\n",
       "   'use_ER1  Index': True,\n",
       "   'use_ER2  Index': True,\n",
       "   'use_ER3  Index': True,\n",
       "   'use_ER4  Index': False,\n",
       "   'use_ER5  Index': False,\n",
       "   'use_FDTR  Index': False,\n",
       "   'use_GJTB3MO  Index': False,\n",
       "   'use_DU1  Index': True,\n",
       "   'use_RX1  Index': False,\n",
       "   'use_SX5E  Index': False,\n",
       "   'use_SX7E  Index': True,\n",
       "   'use_HSI  Index': True,\n",
       "   'use_EURUSD   Index': False,\n",
       "   'use_EURJPY   Index': False,\n",
       "   'use_EURGBP   Index': True,\n",
       "   'use_EURCHF   Index': False,\n",
       "   'use_CRY  Index': False,\n",
       "   'use_C 1  Index': False,\n",
       "   'use_NG1  Index': True,\n",
       "   'use_MOVE  Index': True,\n",
       "   'use_VIX  Index': True,\n",
       "   'use_GDP CQOQ Index': True,\n",
       "   'use_CPI XYOY  Index': False,\n",
       "   'use_NAPMPMI  Index': True,\n",
       "   'use_IP CHNG  Index': False,\n",
       "   'use_CPTICHNG  Index': True,\n",
       "   'use_USURTOT  Index': True,\n",
       "   'use_NFP TCH  Index': True,\n",
       "   'use_INJCJC  Index': False,\n",
       "   'use_LEI CHNG  Index': False,\n",
       "   'use_EUGNEMUY  Index': True,\n",
       "   'use_CPEXEMUY  Index': False,\n",
       "   'use_EUIPEMUY  Index': False,\n",
       "   'use_EUUCEMU  Index': False,\n",
       "   'use_GRZEEUEX  Index': True,\n",
       "   'use_UMRTEMU   Index': False,\n",
       "   'use_OLE3US  Index': True,\n",
       "   'use_OLE3EURA  Index': False,\n",
       "   'use_OLE3JAPA  Index': True,\n",
       "   'use_OLE3BRAZ  Index': False,\n",
       "   'use_OLE3INDI  Index': False,\n",
       "   'use_OLE3CHIN  Index': False,\n",
       "   'use_EBBSDEPF  Index': True,\n",
       "   'use_EBBSLONG  Index': True,\n",
       "   'use_ECMSM1Y  Index': True,\n",
       "   'use_ECMSM2Y  Index': True,\n",
       "   'use_.USDEUR02 U Index': True,\n",
       "   'use_.EURGBP02 U Index': False,\n",
       "   'use_.EURGBP10 U Index': True,\n",
       "   'use_EU 10Y-03M': False,\n",
       "   'use_US 10Y-03M': False,\n",
       "   'use_.EUR0210Y U Index': True,\n",
       "   'use_.EUR1030Y U Index': False,\n",
       "   'use_CS': False,\n",
       "   'use_HCS': True,\n",
       "   'use_INF': True,\n",
       "   'use_NFP': False,\n",
       "   'use_GLD': False,\n",
       "   'use_OIL': True,\n",
       "   'use_VIX': False,\n",
       "   'use_UMCSENT': False,\n",
       "   'use_GPR': True,\n",
       "   'use_INFCE1': True,\n",
       "   'use_INFE1': True,\n",
       "   'use_BEAR': True,\n",
       "   'use_BULL': False,\n",
       "   'use_UNC': False,\n",
       "   'use_CU_release': False,\n",
       "   'use_INF_release': False,\n",
       "   'use_NFP_release': False,\n",
       "   'use_PMI_release': False,\n",
       "   'use_UN_release': False},\n",
       "  'best_f1': 0.8273672687465791},\n",
       " 63: {'best_params': {'sequence_length': 1260,\n",
       "   'use_EUDR1T  Index': True,\n",
       "   'use_EUR009M  Index': True,\n",
       "   'use_ER1  Index': False,\n",
       "   'use_ER2  Index': False,\n",
       "   'use_ER3  Index': False,\n",
       "   'use_ER4  Index': False,\n",
       "   'use_ER5  Index': False,\n",
       "   'use_FDTR  Index': False,\n",
       "   'use_GJTB3MO  Index': True,\n",
       "   'use_DU1  Index': True,\n",
       "   'use_RX1  Index': False,\n",
       "   'use_SX5E  Index': False,\n",
       "   'use_SX7E  Index': True,\n",
       "   'use_HSI  Index': False,\n",
       "   'use_EURUSD   Index': False,\n",
       "   'use_EURJPY   Index': True,\n",
       "   'use_EURGBP   Index': False,\n",
       "   'use_EURCHF   Index': True,\n",
       "   'use_CRY  Index': False,\n",
       "   'use_C 1  Index': True,\n",
       "   'use_NG1  Index': False,\n",
       "   'use_MOVE  Index': True,\n",
       "   'use_VIX  Index': False,\n",
       "   'use_GDP CQOQ Index': False,\n",
       "   'use_CPI XYOY  Index': False,\n",
       "   'use_NAPMPMI  Index': False,\n",
       "   'use_IP CHNG  Index': True,\n",
       "   'use_CPTICHNG  Index': False,\n",
       "   'use_USURTOT  Index': False,\n",
       "   'use_NFP TCH  Index': True,\n",
       "   'use_INJCJC  Index': False,\n",
       "   'use_LEI CHNG  Index': False,\n",
       "   'use_EUGNEMUY  Index': True,\n",
       "   'use_CPEXEMUY  Index': True,\n",
       "   'use_EUIPEMUY  Index': True,\n",
       "   'use_EUUCEMU  Index': False,\n",
       "   'use_GRZEEUEX  Index': False,\n",
       "   'use_UMRTEMU   Index': False,\n",
       "   'use_OLE3US  Index': True,\n",
       "   'use_OLE3EURA  Index': False,\n",
       "   'use_OLE3JAPA  Index': False,\n",
       "   'use_OLE3BRAZ  Index': True,\n",
       "   'use_OLE3INDI  Index': False,\n",
       "   'use_OLE3CHIN  Index': True,\n",
       "   'use_EBBSDEPF  Index': False,\n",
       "   'use_EBBSLONG  Index': True,\n",
       "   'use_ECMSM1Y  Index': False,\n",
       "   'use_ECMSM2Y  Index': True,\n",
       "   'use_.USDEUR02 U Index': False,\n",
       "   'use_.EURGBP02 U Index': False,\n",
       "   'use_.EURGBP10 U Index': False,\n",
       "   'use_EU 10Y-03M': True,\n",
       "   'use_US 10Y-03M': True,\n",
       "   'use_.EUR0210Y U Index': False,\n",
       "   'use_.EUR1030Y U Index': True,\n",
       "   'use_CS': True,\n",
       "   'use_HCS': False,\n",
       "   'use_INF': True,\n",
       "   'use_NFP': True,\n",
       "   'use_GLD': True,\n",
       "   'use_OIL': False,\n",
       "   'use_VIX': False,\n",
       "   'use_UMCSENT': True,\n",
       "   'use_GPR': False,\n",
       "   'use_INFCE1': True,\n",
       "   'use_INFE1': False,\n",
       "   'use_BEAR': False,\n",
       "   'use_BULL': False,\n",
       "   'use_UNC': False,\n",
       "   'use_CU_release': True,\n",
       "   'use_INF_release': False,\n",
       "   'use_NFP_release': True,\n",
       "   'use_PMI_release': False,\n",
       "   'use_UN_release': True},\n",
       "  'best_f1': 0.9056603773584906},\n",
       " 252: {'best_params': {'sequence_length': 1323,\n",
       "   'use_EUDR1T  Index': True,\n",
       "   'use_EUR009M  Index': False,\n",
       "   'use_ER1  Index': False,\n",
       "   'use_ER2  Index': True,\n",
       "   'use_ER3  Index': True,\n",
       "   'use_ER4  Index': True,\n",
       "   'use_ER5  Index': True,\n",
       "   'use_FDTR  Index': True,\n",
       "   'use_GJTB3MO  Index': False,\n",
       "   'use_DU1  Index': True,\n",
       "   'use_RX1  Index': False,\n",
       "   'use_SX5E  Index': True,\n",
       "   'use_SX7E  Index': True,\n",
       "   'use_HSI  Index': True,\n",
       "   'use_EURUSD   Index': False,\n",
       "   'use_EURJPY   Index': True,\n",
       "   'use_EURGBP   Index': False,\n",
       "   'use_EURCHF   Index': True,\n",
       "   'use_CRY  Index': False,\n",
       "   'use_C 1  Index': True,\n",
       "   'use_NG1  Index': False,\n",
       "   'use_MOVE  Index': False,\n",
       "   'use_VIX  Index': False,\n",
       "   'use_GDP CQOQ Index': True,\n",
       "   'use_CPI XYOY  Index': True,\n",
       "   'use_NAPMPMI  Index': False,\n",
       "   'use_IP CHNG  Index': False,\n",
       "   'use_CPTICHNG  Index': True,\n",
       "   'use_USURTOT  Index': False,\n",
       "   'use_NFP TCH  Index': False,\n",
       "   'use_INJCJC  Index': True,\n",
       "   'use_LEI CHNG  Index': True,\n",
       "   'use_EUGNEMUY  Index': True,\n",
       "   'use_CPEXEMUY  Index': False,\n",
       "   'use_EUIPEMUY  Index': False,\n",
       "   'use_EUUCEMU  Index': True,\n",
       "   'use_GRZEEUEX  Index': False,\n",
       "   'use_UMRTEMU   Index': False,\n",
       "   'use_OLE3US  Index': False,\n",
       "   'use_OLE3EURA  Index': True,\n",
       "   'use_OLE3JAPA  Index': True,\n",
       "   'use_OLE3BRAZ  Index': False,\n",
       "   'use_OLE3INDI  Index': True,\n",
       "   'use_OLE3CHIN  Index': False,\n",
       "   'use_EBBSDEPF  Index': True,\n",
       "   'use_EBBSLONG  Index': False,\n",
       "   'use_ECMSM1Y  Index': False,\n",
       "   'use_ECMSM2Y  Index': False,\n",
       "   'use_.USDEUR02 U Index': False,\n",
       "   'use_.EURGBP02 U Index': False,\n",
       "   'use_.EURGBP10 U Index': False,\n",
       "   'use_EU 10Y-03M': False,\n",
       "   'use_US 10Y-03M': False,\n",
       "   'use_.EUR0210Y U Index': False,\n",
       "   'use_.EUR1030Y U Index': True,\n",
       "   'use_CS': False,\n",
       "   'use_HCS': False,\n",
       "   'use_INF': False,\n",
       "   'use_NFP': False,\n",
       "   'use_GLD': False,\n",
       "   'use_OIL': False,\n",
       "   'use_VIX': True,\n",
       "   'use_UMCSENT': True,\n",
       "   'use_GPR': False,\n",
       "   'use_INFCE1': False,\n",
       "   'use_INFE1': True,\n",
       "   'use_BEAR': False,\n",
       "   'use_BULL': True,\n",
       "   'use_UNC': True,\n",
       "   'use_CU_release': True,\n",
       "   'use_INF_release': False,\n",
       "   'use_NFP_release': False,\n",
       "   'use_PMI_release': False,\n",
       "   'use_UN_release': True},\n",
       "  'best_f1': 0.6994818652849741}}"
      ]
     },
     "execution_count": 5,
     "metadata": {},
     "output_type": "execute_result"
    }
   ],
   "source": [
    "results"
   ]
  },
  {
   "cell_type": "code",
   "execution_count": 31,
   "id": "6c132f59-dbd6-41cc-813c-2ff20c72567c",
   "metadata": {},
   "outputs": [],
   "source": [
    "from sklearn.metrics import f1_score, accuracy_score, precision_score, recall_score\n",
    "import warnings\n",
    "\n",
    "# ---------------------- Evaluate on Holdout Test Set ---------------------- #\n",
    "def evaluate_on_holdout(X_df, Y_df_dict, best_params_dict):\n",
    "    holdout_results = {}\n",
    "    for h in forecast_horizons:\n",
    "        print(f\"\\n[TEST] Forecast Horizon: {h}\")\n",
    "        params = best_params_dict[h]['best_params']\n",
    "        hidden_dim = int(params['hidden_dim'])\n",
    "        num_layers = int(params['num_layers'])\n",
    "        dropout = float(params['dropout'])\n",
    "        learning_rate = float(params['learning_rate'])\n",
    "        batch_size = int(params['batch_size'])\n",
    "\n",
    "        Y_df = Y_df_dict[h]\n",
    "        X_shifted = shift_X_by_horizon(X_df, h)\n",
    "        Y_aligned = Y_df.loc[X_shifted.index]\n",
    "        X_final, Y_final = X_shifted, Y_aligned\n",
    "\n",
    "        folds, last_val_end, _ = get_expanding_folds(X_final, Y_final, h, sequence_length, val_window_num_sequences, holdout_base)\n",
    "        X_train, Y_train = X_final.iloc[:last_val_end], Y_final.iloc[:last_val_end]\n",
    "        X_test, Y_test = X_final.iloc[last_val_end:], Y_final.iloc[last_val_end:]\n",
    "\n",
    "        print(f\"[INFO] Holdout Label Distribution (0s/1s): {np.bincount(Y_test.values.astype(int).flatten())}\")\n",
    "\n",
    "        scaler = StandardScaler()\n",
    "        X_train_scaled = pd.DataFrame(scaler.fit_transform(X_train), index=X_train.index, columns=X_train.columns)\n",
    "        X_test_scaled = pd.DataFrame(scaler.transform(X_test), index=X_test.index, columns=X_test.columns)\n",
    "\n",
    "        X_train_seq, Y_train_seq = create_sequences(X_train_scaled, Y_train, sequence_length, h)\n",
    "        X_test_seq, Y_test_seq = create_sequences(X_test_scaled, Y_test, sequence_length, h)\n",
    "\n",
    "        X_train_tensor = torch.tensor(X_train_seq, dtype=torch.float32).to(device)\n",
    "        Y_train_tensor = torch.tensor(Y_train_seq, dtype=torch.float32).to(device)\n",
    "        X_test_tensor = torch.tensor(X_test_seq, dtype=torch.float32).to(device)\n",
    "        Y_test_tensor = torch.tensor(Y_test_seq, dtype=torch.float32).to(device)\n",
    "\n",
    "        model = LSTMClassifier(X_train_seq.shape[2], hidden_dim, num_layers, Y_train_seq.shape[1], dropout).to(device)\n",
    "        optimizer = torch.optim.Adam(model.parameters(), lr=learning_rate)\n",
    "        criterion = nn.BCEWithLogitsLoss()\n",
    "\n",
    "        train_loader = DataLoader(TensorDataset(X_train_tensor, Y_train_tensor), batch_size=batch_size, shuffle=True)\n",
    "\n",
    "        for epoch in range(num_epochs):\n",
    "            model.train()\n",
    "            for xb, yb in train_loader:\n",
    "                optimizer.zero_grad()\n",
    "                loss = criterion(model(xb), yb)\n",
    "                loss.backward()\n",
    "                optimizer.step()\n",
    "\n",
    "        model.eval()\n",
    "        preds = []\n",
    "        with torch.no_grad():\n",
    "            for xb in DataLoader(X_test_tensor, batch_size=batch_size):\n",
    "                preds.append(torch.sigmoid(model(xb)))\n",
    "\n",
    "        pred_tensor = torch.cat(preds, dim=0).squeeze()\n",
    "        pred_bin = (pred_tensor > 0.5).int().cpu().numpy()\n",
    "        y_true = Y_test_tensor.int().cpu().numpy()\n",
    "\n",
    "        with warnings.catch_warnings():\n",
    "            warnings.simplefilter(\"ignore\")\n",
    "            acc = accuracy_score(y_true, pred_bin)\n",
    "            f1 = f1_score(y_true, pred_bin, average='macro', zero_division=0)\n",
    "            precision = precision_score(y_true, pred_bin, average='macro', zero_division=0)\n",
    "            recall = recall_score(y_true, pred_bin, average='macro', zero_division=0)\n",
    "\n",
    "        holdout_results[h] = {\n",
    "            \"accuracy\": acc,\n",
    "            \"f1\": f1,\n",
    "            \"precision\": precision,\n",
    "            \"recall\": recall\n",
    "        }\n",
    "        print(f\"[RESULT] Horizon {h}: Accuracy = {acc:.4f}, F1 = {f1:.4f}, Precision = {precision:.4f}, Recall = {recall:.4f}\")\n",
    "\n",
    "    return holdout_results"
   ]
  },
  {
   "cell_type": "code",
   "execution_count": 32,
   "id": "d8234fd1-5055-4006-9b11-b36094efb792",
   "metadata": {},
   "outputs": [
    {
     "name": "stdout",
     "output_type": "stream",
     "text": [
      "\n",
      "[TEST] Forecast Horizon: 1\n",
      "[INFO] Generated 8 folds for forecast horizon 1\n",
      "[INFO] Holdout Label Distribution (0s/1s): [3620 2728]\n",
      "[RESULT] Horizon 1: Accuracy = 0.6092, F1 = 0.4465, Precision = 0.4627, Recall = 0.4816\n",
      "\n",
      "[TEST] Forecast Horizon: 5\n",
      "[INFO] Generated 8 folds for forecast horizon 5\n",
      "[INFO] Holdout Label Distribution (0s/1s): [2856 3252]\n",
      "[RESULT] Horizon 5: Accuracy = 0.5984, F1 = 0.5961, Precision = 0.6124, Recall = 0.6073\n",
      "\n",
      "[TEST] Forecast Horizon: 21\n",
      "[INFO] Generated 8 folds for forecast horizon 21\n",
      "[INFO] Holdout Label Distribution (0s/1s): [2072 3076]\n",
      "[RESULT] Horizon 21: Accuracy = 0.9010, F1 = 0.4740, Precision = 0.4505, Recall = 0.5000\n",
      "\n",
      "[TEST] Forecast Horizon: 63\n",
      "[INFO] Generated 7 folds for forecast horizon 63\n",
      "[INFO] Holdout Label Distribution (0s/1s): [1979 4045]\n",
      "[RESULT] Horizon 63: Accuracy = 0.6493, F1 = 0.6218, Precision = 0.6311, Recall = 0.6641\n",
      "\n",
      "[TEST] Forecast Horizon: 252\n",
      "[INFO] Generated 5 folds for forecast horizon 252\n",
      "[INFO] Holdout Label Distribution (0s/1s): [ 993 3885]\n",
      "[RESULT] Horizon 252: Accuracy = 0.1710, F1 = 0.1460, Precision = 0.5000, Recall = 0.0855\n"
     ]
    }
   ],
   "source": [
    "holdout_results = evaluate_on_holdout(X_df, Y_df_dict, results)"
   ]
  },
  {
   "cell_type": "code",
   "execution_count": null,
   "id": "37c5ed15-c58b-4d29-b480-b96ef4ab85fb",
   "metadata": {},
   "outputs": [],
   "source": []
  }
 ],
 "metadata": {
  "kernelspec": {
   "display_name": "Python3 (ipykernel)",
   "language": "python",
   "name": "python3"
  },
  "language_info": {
   "codemirror_mode": {
    "name": "ipython",
    "version": 3
   },
   "file_extension": ".py",
   "mimetype": "text/x-python",
   "name": "python",
   "nbconvert_exporter": "python",
   "pygments_lexer": "ipython3",
   "version": "3.12.3"
  }
 },
 "nbformat": 4,
 "nbformat_minor": 5
}
