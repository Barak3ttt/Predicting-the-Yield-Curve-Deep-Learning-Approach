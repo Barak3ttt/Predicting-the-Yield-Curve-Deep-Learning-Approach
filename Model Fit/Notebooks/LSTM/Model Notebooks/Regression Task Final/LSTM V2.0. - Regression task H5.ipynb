{
 "cells": [
  {
   "cell_type": "code",
   "execution_count": 1,
   "id": "ba3d7190-9c03-4654-89a8-6986aeaad9a0",
   "metadata": {},
   "outputs": [
    {
     "name": "stdout",
     "output_type": "stream",
     "text": [
      "Requirement already satisfied: numpy in /venv/main/lib/python3.12/site-packages (2.1.2)\n",
      "Collecting pandas\n",
      "  Downloading pandas-2.2.3-cp312-cp312-manylinux_2_17_x86_64.manylinux2014_x86_64.whl.metadata (89 kB)\n",
      "\u001b[2K     \u001b[90m━━━━━━━━━━━━━━━━━━━━━━━━━━━━━━━━━━━━━━━━\u001b[0m \u001b[32m89.9/89.9 kB\u001b[0m \u001b[31m10.3 MB/s\u001b[0m eta \u001b[36m0:00:00\u001b[0m\n",
      "\u001b[?25hRequirement already satisfied: tqdm in /venv/main/lib/python3.12/site-packages (4.67.1)\n",
      "Requirement already satisfied: torch in /venv/main/lib/python3.12/site-packages (2.7.0+cu128)\n",
      "Collecting scikit-learn\n",
      "  Downloading scikit_learn-1.6.1-cp312-cp312-manylinux_2_17_x86_64.manylinux2014_x86_64.whl.metadata (18 kB)\n",
      "Collecting optuna\n",
      "  Downloading optuna-4.3.0-py3-none-any.whl.metadata (17 kB)\n",
      "Requirement already satisfied: python-dateutil>=2.8.2 in /venv/main/lib/python3.12/site-packages (from pandas) (2.9.0.post0)\n",
      "Collecting pytz>=2020.1 (from pandas)\n",
      "  Downloading pytz-2025.2-py2.py3-none-any.whl.metadata (22 kB)\n",
      "Collecting tzdata>=2022.7 (from pandas)\n",
      "  Downloading tzdata-2025.2-py2.py3-none-any.whl.metadata (1.4 kB)\n",
      "Requirement already satisfied: filelock in /venv/main/lib/python3.12/site-packages (from torch) (3.18.0)\n",
      "Requirement already satisfied: typing-extensions>=4.10.0 in /venv/main/lib/python3.12/site-packages (from torch) (4.13.2)\n",
      "Requirement already satisfied: setuptools in /venv/main/lib/python3.12/site-packages (from torch) (70.2.0)\n",
      "Requirement already satisfied: sympy>=1.13.3 in /venv/main/lib/python3.12/site-packages (from torch) (1.13.3)\n",
      "Requirement already satisfied: networkx in /venv/main/lib/python3.12/site-packages (from torch) (3.3)\n",
      "Requirement already satisfied: jinja2 in /venv/main/lib/python3.12/site-packages (from torch) (3.1.4)\n",
      "Requirement already satisfied: fsspec in /venv/main/lib/python3.12/site-packages (from torch) (2025.3.2)\n",
      "Requirement already satisfied: nvidia-cuda-nvrtc-cu12==12.8.61 in /venv/main/lib/python3.12/site-packages (from torch) (12.8.61)\n",
      "Requirement already satisfied: nvidia-cuda-runtime-cu12==12.8.57 in /venv/main/lib/python3.12/site-packages (from torch) (12.8.57)\n",
      "Requirement already satisfied: nvidia-cuda-cupti-cu12==12.8.57 in /venv/main/lib/python3.12/site-packages (from torch) (12.8.57)\n",
      "Requirement already satisfied: nvidia-cudnn-cu12==9.7.1.26 in /venv/main/lib/python3.12/site-packages (from torch) (9.7.1.26)\n",
      "Requirement already satisfied: nvidia-cublas-cu12==12.8.3.14 in /venv/main/lib/python3.12/site-packages (from torch) (12.8.3.14)\n",
      "Requirement already satisfied: nvidia-cufft-cu12==11.3.3.41 in /venv/main/lib/python3.12/site-packages (from torch) (11.3.3.41)\n",
      "Requirement already satisfied: nvidia-curand-cu12==10.3.9.55 in /venv/main/lib/python3.12/site-packages (from torch) (10.3.9.55)\n",
      "Requirement already satisfied: nvidia-cusolver-cu12==11.7.2.55 in /venv/main/lib/python3.12/site-packages (from torch) (11.7.2.55)\n",
      "Requirement already satisfied: nvidia-cusparse-cu12==12.5.7.53 in /venv/main/lib/python3.12/site-packages (from torch) (12.5.7.53)\n",
      "Requirement already satisfied: nvidia-cusparselt-cu12==0.6.3 in /venv/main/lib/python3.12/site-packages (from torch) (0.6.3)\n",
      "Requirement already satisfied: nvidia-nccl-cu12==2.26.2 in /venv/main/lib/python3.12/site-packages (from torch) (2.26.2)\n",
      "Requirement already satisfied: nvidia-nvtx-cu12==12.8.55 in /venv/main/lib/python3.12/site-packages (from torch) (12.8.55)\n",
      "Requirement already satisfied: nvidia-nvjitlink-cu12==12.8.61 in /venv/main/lib/python3.12/site-packages (from torch) (12.8.61)\n",
      "Requirement already satisfied: nvidia-cufile-cu12==1.13.0.11 in /venv/main/lib/python3.12/site-packages (from torch) (1.13.0.11)\n",
      "Requirement already satisfied: triton==3.3.0 in /venv/main/lib/python3.12/site-packages (from torch) (3.3.0)\n",
      "Collecting scipy>=1.6.0 (from scikit-learn)\n",
      "  Downloading scipy-1.15.3-cp312-cp312-manylinux_2_17_x86_64.manylinux2014_x86_64.whl.metadata (61 kB)\n",
      "\u001b[2K     \u001b[90m━━━━━━━━━━━━━━━━━━━━━━━━━━━━━━━━━━━━━━━━\u001b[0m \u001b[32m62.0/62.0 kB\u001b[0m \u001b[31m33.6 MB/s\u001b[0m eta \u001b[36m0:00:00\u001b[0m\n",
      "\u001b[?25hCollecting joblib>=1.2.0 (from scikit-learn)\n",
      "  Downloading joblib-1.5.0-py3-none-any.whl.metadata (5.6 kB)\n",
      "Collecting threadpoolctl>=3.1.0 (from scikit-learn)\n",
      "  Downloading threadpoolctl-3.6.0-py3-none-any.whl.metadata (13 kB)\n",
      "Collecting alembic>=1.5.0 (from optuna)\n",
      "  Downloading alembic-1.15.2-py3-none-any.whl.metadata (7.3 kB)\n",
      "Collecting colorlog (from optuna)\n",
      "  Downloading colorlog-6.9.0-py3-none-any.whl.metadata (10 kB)\n",
      "Requirement already satisfied: packaging>=20.0 in /venv/main/lib/python3.12/site-packages (from optuna) (25.0)\n",
      "Collecting sqlalchemy>=1.4.2 (from optuna)\n",
      "  Downloading sqlalchemy-2.0.40-cp312-cp312-manylinux_2_17_x86_64.manylinux2014_x86_64.whl.metadata (9.6 kB)\n",
      "Requirement already satisfied: PyYAML in /venv/main/lib/python3.12/site-packages (from optuna) (6.0.2)\n",
      "Collecting Mako (from alembic>=1.5.0->optuna)\n",
      "  Downloading mako-1.3.10-py3-none-any.whl.metadata (2.9 kB)\n",
      "Requirement already satisfied: six>=1.5 in /venv/main/lib/python3.12/site-packages (from python-dateutil>=2.8.2->pandas) (1.17.0)\n",
      "Collecting greenlet>=1 (from sqlalchemy>=1.4.2->optuna)\n",
      "  Downloading greenlet-3.2.2-cp312-cp312-manylinux_2_24_x86_64.manylinux_2_28_x86_64.whl.metadata (4.1 kB)\n",
      "Requirement already satisfied: mpmath<1.4,>=1.1.0 in /venv/main/lib/python3.12/site-packages (from sympy>=1.13.3->torch) (1.3.0)\n",
      "Requirement already satisfied: MarkupSafe>=2.0 in /venv/main/lib/python3.12/site-packages (from jinja2->torch) (2.1.5)\n",
      "Downloading pandas-2.2.3-cp312-cp312-manylinux_2_17_x86_64.manylinux2014_x86_64.whl (12.7 MB)\n",
      "\u001b[2K   \u001b[90m━━━━━━━━━━━━━━━━━━━━━━━━━━━━━━━━━━━━━━━━\u001b[0m \u001b[32m12.7/12.7 MB\u001b[0m \u001b[31m197.6 MB/s\u001b[0m eta \u001b[36m0:00:00\u001b[0m \u001b[36m0:00:01\u001b[0m\n",
      "\u001b[?25hDownloading scikit_learn-1.6.1-cp312-cp312-manylinux_2_17_x86_64.manylinux2014_x86_64.whl (13.1 MB)\n",
      "\u001b[2K   \u001b[90m━━━━━━━━━━━━━━━━━━━━━━━━━━━━━━━━━━━━━━━━\u001b[0m \u001b[32m13.1/13.1 MB\u001b[0m \u001b[31m208.0 MB/s\u001b[0m eta \u001b[36m0:00:00\u001b[0m \u001b[36m0:00:01\u001b[0m\n",
      "\u001b[?25hDownloading optuna-4.3.0-py3-none-any.whl (386 kB)\n",
      "\u001b[2K   \u001b[90m━━━━━━━━━━━━━━━━━━━━━━━━━━━━━━━━━━━━━━━\u001b[0m \u001b[32m386.6/386.6 kB\u001b[0m \u001b[31m135.8 MB/s\u001b[0m eta \u001b[36m0:00:00\u001b[0m\n",
      "\u001b[?25hDownloading alembic-1.15.2-py3-none-any.whl (231 kB)\n",
      "\u001b[2K   \u001b[90m━━━━━━━━━━━━━━━━━━━━━━━━━━━━━━━━━━━━━━━\u001b[0m \u001b[32m231.9/231.9 kB\u001b[0m \u001b[31m110.5 MB/s\u001b[0m eta \u001b[36m0:00:00\u001b[0m\n",
      "\u001b[?25hDownloading joblib-1.5.0-py3-none-any.whl (307 kB)\n",
      "\u001b[2K   \u001b[90m━━━━━━━━━━━━━━━━━━━━━━━━━━━━━━━━━━━━━━━\u001b[0m \u001b[32m307.7/307.7 kB\u001b[0m \u001b[31m123.9 MB/s\u001b[0m eta \u001b[36m0:00:00\u001b[0m\n",
      "\u001b[?25hDownloading pytz-2025.2-py2.py3-none-any.whl (509 kB)\n",
      "\u001b[2K   \u001b[90m━━━━━━━━━━━━━━━━━━━━━━━━━━━━━━━━━━━━━━━\u001b[0m \u001b[32m509.2/509.2 kB\u001b[0m \u001b[31m159.9 MB/s\u001b[0m eta \u001b[36m0:00:00\u001b[0m\n",
      "\u001b[?25hDownloading scipy-1.15.3-cp312-cp312-manylinux_2_17_x86_64.manylinux2014_x86_64.whl (37.3 MB)\n",
      "\u001b[2K   \u001b[90m━━━━━━━━━━━━━━━━━━━━━━━━━━━━━━━━━━━━━━━━\u001b[0m \u001b[32m37.3/37.3 MB\u001b[0m \u001b[31m115.8 MB/s\u001b[0m eta \u001b[36m0:00:00\u001b[0m00:01\u001b[0m00:01\u001b[0m\n",
      "\u001b[?25hDownloading sqlalchemy-2.0.40-cp312-cp312-manylinux_2_17_x86_64.manylinux2014_x86_64.whl (3.3 MB)\n",
      "\u001b[2K   \u001b[90m━━━━━━━━━━━━━━━━━━━━━━━━━━━━━━━━━━━━━━━━\u001b[0m \u001b[32m3.3/3.3 MB\u001b[0m \u001b[31m229.1 MB/s\u001b[0m eta \u001b[36m0:00:00\u001b[0m\n",
      "\u001b[?25hDownloading threadpoolctl-3.6.0-py3-none-any.whl (18 kB)\n",
      "Downloading tzdata-2025.2-py2.py3-none-any.whl (347 kB)\n",
      "\u001b[2K   \u001b[90m━━━━━━━━━━━━━━━━━━━━━━━━━━━━━━━━━━━━━━━\u001b[0m \u001b[32m347.8/347.8 kB\u001b[0m \u001b[31m139.8 MB/s\u001b[0m eta \u001b[36m0:00:00\u001b[0m\n",
      "\u001b[?25hDownloading colorlog-6.9.0-py3-none-any.whl (11 kB)\n",
      "Downloading greenlet-3.2.2-cp312-cp312-manylinux_2_24_x86_64.manylinux_2_28_x86_64.whl (603 kB)\n",
      "\u001b[2K   \u001b[90m━━━━━━━━━━━━━━━━━━━━━━━━━━━━━━━━━━━━━━━\u001b[0m \u001b[32m603.9/603.9 kB\u001b[0m \u001b[31m163.1 MB/s\u001b[0m eta \u001b[36m0:00:00\u001b[0m\n",
      "\u001b[?25hDownloading mako-1.3.10-py3-none-any.whl (78 kB)\n",
      "\u001b[2K   \u001b[90m━━━━━━━━━━━━━━━━━━━━━━━━━━━━━━━━━━━━━━━━\u001b[0m \u001b[32m78.5/78.5 kB\u001b[0m \u001b[31m49.6 MB/s\u001b[0m eta \u001b[36m0:00:00\u001b[0m\n",
      "\u001b[?25hInstalling collected packages: pytz, tzdata, threadpoolctl, scipy, Mako, joblib, greenlet, colorlog, sqlalchemy, scikit-learn, pandas, alembic, optuna\n",
      "Successfully installed Mako-1.3.10 alembic-1.15.2 colorlog-6.9.0 greenlet-3.2.2 joblib-1.5.0 optuna-4.3.0 pandas-2.2.3 pytz-2025.2 scikit-learn-1.6.1 scipy-1.15.3 sqlalchemy-2.0.40 threadpoolctl-3.6.0 tzdata-2025.2\n",
      "Note: you may need to restart the kernel to use updated packages.\n"
     ]
    }
   ],
   "source": [
    "pip install numpy pandas tqdm torch scikit-learn optuna"
   ]
  },
  {
   "cell_type": "code",
   "execution_count": 2,
   "id": "9ca08370-cf0e-4d95-a40d-d0fe372f3306",
   "metadata": {},
   "outputs": [
    {
     "name": "stderr",
     "output_type": "stream",
     "text": [
      "[I 2025-05-13 12:11:18,180] A new study created in memory with name: no-name-6a246196-0a4f-476b-b798-ea868760bb3a\n"
     ]
    },
    {
     "name": "stdout",
     "output_type": "stream",
     "text": [
      "[INFO] Device: cuda\n",
      "  • GPU: NVIDIA H100 80GB HBM3\n",
      "Generated 6 folds\n",
      "\n"
     ]
    },
    {
     "data": {
      "application/vnd.jupyter.widget-view+json": {
       "model_id": "cf231f3cb450489c8dcae1e7430ed3ea",
       "version_major": 2,
       "version_minor": 0
      },
      "text/plain": [
       "  0%|          | 0/30 [00:00<?, ?it/s]"
      ]
     },
     "metadata": {},
     "output_type": "display_data"
    },
    {
     "name": "stderr",
     "output_type": "stream",
     "text": [
      "\n",
      "Folds:   0%|          | 0/6 [00:00<?, ?it/s]\u001b[A\n",
      "\u001b[A                                         \n",
      "Folds:   0%|          | 0/6 [00:33<?, ?it/s]\u001b[A\n",
      "Folds:  33%|███▎      | 2/6 [00:33<01:06, 16.58s/it]\u001b[A"
     ]
    },
    {
     "name": "stdout",
     "output_type": "stream",
     "text": [
      "Fold 2 best MSE = 0.2064\n"
     ]
    },
    {
     "name": "stderr",
     "output_type": "stream",
     "text": [
      "\n",
      "\u001b[A                                                 \n",
      "Folds:  33%|███▎      | 2/6 [01:33<01:06, 16.58s/it]\u001b[A\n",
      "Folds:  50%|█████     | 3/6 [01:33<01:44, 34.89s/it]\u001b[A"
     ]
    },
    {
     "name": "stdout",
     "output_type": "stream",
     "text": [
      "Fold 3 best MSE = 0.0719\n"
     ]
    },
    {
     "name": "stderr",
     "output_type": "stream",
     "text": [
      "\n",
      "\u001b[A                                                 \n",
      "Folds:  50%|█████     | 3/6 [02:47<01:44, 34.89s/it]\u001b[A\n",
      "Folds:  67%|██████▋   | 4/6 [02:47<01:38, 49.41s/it]\u001b[A"
     ]
    },
    {
     "name": "stdout",
     "output_type": "stream",
     "text": [
      "Fold 4 best MSE = 0.1525\n"
     ]
    },
    {
     "name": "stderr",
     "output_type": "stream",
     "text": [
      "\n",
      "\u001b[A                                                 \n",
      "Folds:  67%|██████▋   | 4/6 [04:31<01:38, 49.41s/it]\u001b[A\n",
      "Folds:  83%|████████▎ | 5/6 [04:31<01:08, 68.42s/it]\u001b[A"
     ]
    },
    {
     "name": "stdout",
     "output_type": "stream",
     "text": [
      "Fold 5 best MSE = 0.0592\n"
     ]
    },
    {
     "name": "stderr",
     "output_type": "stream",
     "text": [
      "\n",
      "\u001b[A                                                 \n",
      "Folds:  83%|████████▎ | 5/6 [06:11<01:08, 68.42s/it]\u001b[A\n",
      "Folds: 100%|██████████| 6/6 [06:11<00:00, 78.74s/it]\u001b[A\n",
      "                                                    \u001b[A"
     ]
    },
    {
     "name": "stdout",
     "output_type": "stream",
     "text": [
      "Fold 6 best MSE = 0.0288\n",
      "[I 2025-05-13 12:17:29,324] Trial 0 finished with value: 0.10377488769590855 and parameters: {'hidden_dim': 92, 'num_layers': 1, 'dropout': 0.0936111842654619, 'learning_rate': 0.00018408992080552527, 'batch_size': 64, 'epochs': 69}. Best is trial 0 with value: 0.10377488769590855.\n"
     ]
    },
    {
     "name": "stderr",
     "output_type": "stream",
     "text": [
      "\n",
      "Folds:   0%|          | 0/6 [00:00<?, ?it/s]\u001b[A\n",
      "\u001b[A                                         \n",
      "Folds:   0%|          | 0/6 [00:18<?, ?it/s]\u001b[A\n",
      "Folds:  33%|███▎      | 2/6 [00:18<00:36,  9.22s/it]\u001b[A"
     ]
    },
    {
     "name": "stdout",
     "output_type": "stream",
     "text": [
      "Fold 2 best MSE = 0.1621\n"
     ]
    },
    {
     "name": "stderr",
     "output_type": "stream",
     "text": [
      "\n",
      "\u001b[A                                                 \n",
      "Folds:  33%|███▎      | 2/6 [01:00<00:36,  9.22s/it]\u001b[A\n",
      "Folds:  50%|█████     | 3/6 [01:00<01:08, 22.84s/it]\u001b[A"
     ]
    },
    {
     "name": "stdout",
     "output_type": "stream",
     "text": [
      "Fold 3 best MSE = 0.0665\n"
     ]
    },
    {
     "name": "stderr",
     "output_type": "stream",
     "text": [
      "\n",
      "\u001b[A                                                 \n",
      "Folds:  50%|█████     | 3/6 [02:04<01:08, 22.84s/it]\u001b[A\n",
      "Folds:  67%|██████▋   | 4/6 [02:04<01:16, 38.23s/it]\u001b[A"
     ]
    },
    {
     "name": "stdout",
     "output_type": "stream",
     "text": [
      "Fold 4 best MSE = 0.1991\n"
     ]
    },
    {
     "name": "stderr",
     "output_type": "stream",
     "text": [
      "\n",
      "\u001b[A                                                 \n",
      "Folds:  67%|██████▋   | 4/6 [03:27<01:16, 38.23s/it]\u001b[A\n",
      "Folds:  83%|████████▎ | 5/6 [03:27<00:53, 53.83s/it]\u001b[A"
     ]
    },
    {
     "name": "stdout",
     "output_type": "stream",
     "text": [
      "Fold 5 best MSE = 0.0188\n"
     ]
    },
    {
     "name": "stderr",
     "output_type": "stream",
     "text": [
      "\n",
      "\u001b[A                                                 \n",
      "Folds:  83%|████████▎ | 5/6 [04:57<00:53, 53.83s/it]\u001b[A\n",
      "Folds: 100%|██████████| 6/6 [04:57<00:00, 65.81s/it]\u001b[A\n",
      "                                                    \u001b[A"
     ]
    },
    {
     "name": "stdout",
     "output_type": "stream",
     "text": [
      "Fold 6 best MSE = 0.0486\n",
      "[I 2025-05-13 12:22:26,898] Trial 1 finished with value: 0.09900284893810748 and parameters: {'hidden_dim': 35, 'num_layers': 1, 'dropout': 0.10909498032426036, 'learning_rate': 0.0002049268011541737, 'batch_size': 64, 'epochs': 51}. Best is trial 1 with value: 0.09900284893810748.\n"
     ]
    },
    {
     "name": "stderr",
     "output_type": "stream",
     "text": [
      "\n",
      "Folds:   0%|          | 0/6 [00:00<?, ?it/s]\u001b[A\n",
      "\u001b[A                                         \n",
      "Folds:   0%|          | 0/6 [00:15<?, ?it/s]\u001b[A\n",
      "Folds:  33%|███▎      | 2/6 [00:15<00:30,  7.59s/it]\u001b[A"
     ]
    },
    {
     "name": "stdout",
     "output_type": "stream",
     "text": [
      "Fold 2 best MSE = 0.0963\n"
     ]
    },
    {
     "name": "stderr",
     "output_type": "stream",
     "text": [
      "\n",
      "\u001b[A                                                 \n",
      "Folds:  33%|███▎      | 2/6 [00:39<00:30,  7.59s/it]\u001b[A\n",
      "Folds:  50%|█████     | 3/6 [00:39<00:44, 14.76s/it]\u001b[A"
     ]
    },
    {
     "name": "stdout",
     "output_type": "stream",
     "text": [
      "Fold 3 best MSE = 0.0482\n"
     ]
    },
    {
     "name": "stderr",
     "output_type": "stream",
     "text": [
      "\n",
      "\u001b[A                                                 \n",
      "Folds:  50%|█████     | 3/6 [01:15<00:44, 14.76s/it]\u001b[A\n",
      "Folds:  67%|██████▋   | 4/6 [01:15<00:44, 22.35s/it]\u001b[A"
     ]
    },
    {
     "name": "stdout",
     "output_type": "stream",
     "text": [
      "Fold 4 best MSE = 0.1299\n"
     ]
    },
    {
     "name": "stderr",
     "output_type": "stream",
     "text": [
      "\n",
      "\u001b[A                                                 \n",
      "Folds:  67%|██████▋   | 4/6 [02:06<00:44, 22.35s/it]\u001b[A\n",
      "Folds:  83%|████████▎ | 5/6 [02:06<00:32, 32.37s/it]\u001b[A"
     ]
    },
    {
     "name": "stdout",
     "output_type": "stream",
     "text": [
      "Fold 5 best MSE = 0.0025\n"
     ]
    },
    {
     "name": "stderr",
     "output_type": "stream",
     "text": [
      "\n",
      "\u001b[A                                                 \n",
      "Folds:  83%|████████▎ | 5/6 [02:58<00:32, 32.37s/it]\u001b[A\n",
      "Folds: 100%|██████████| 6/6 [02:58<00:00, 39.08s/it]\u001b[A\n",
      "                                                    \u001b[A"
     ]
    },
    {
     "name": "stdout",
     "output_type": "stream",
     "text": [
      "Fold 6 best MSE = 0.0032\n",
      "[I 2025-05-13 12:25:25,810] Trial 2 finished with value: 0.056020981958135964 and parameters: {'hidden_dim': 130, 'num_layers': 3, 'dropout': 0.27364199053022153, 'learning_rate': 0.0021576967455896826, 'batch_size': 128, 'epochs': 41}. Best is trial 2 with value: 0.056020981958135964.\n"
     ]
    },
    {
     "name": "stderr",
     "output_type": "stream",
     "text": [
      "\n",
      "Folds:   0%|          | 0/6 [00:00<?, ?it/s]\u001b[A\n",
      "\u001b[A                                         \n",
      "Folds:   0%|          | 0/6 [00:23<?, ?it/s]\u001b[A\n",
      "Folds:  33%|███▎      | 2/6 [00:23<00:46, 11.59s/it]\u001b[A"
     ]
    },
    {
     "name": "stdout",
     "output_type": "stream",
     "text": [
      "Fold 2 best MSE = 0.0965\n"
     ]
    },
    {
     "name": "stderr",
     "output_type": "stream",
     "text": [
      "\n",
      "\u001b[A                                                 \n",
      "Folds:  33%|███▎      | 2/6 [00:55<00:46, 11.59s/it]\u001b[A\n",
      "Folds:  50%|█████     | 3/6 [00:55<01:00, 20.18s/it]\u001b[A"
     ]
    },
    {
     "name": "stdout",
     "output_type": "stream",
     "text": [
      "Fold 3 best MSE = 0.0475\n"
     ]
    },
    {
     "name": "stderr",
     "output_type": "stream",
     "text": [
      "\n",
      "\u001b[A                                                 \n",
      "Folds:  50%|█████     | 3/6 [01:33<01:00, 20.18s/it]\u001b[A\n",
      "Folds:  67%|██████▋   | 4/6 [01:33<00:53, 26.79s/it]\u001b[A"
     ]
    },
    {
     "name": "stdout",
     "output_type": "stream",
     "text": [
      "Fold 4 best MSE = 0.1291\n"
     ]
    },
    {
     "name": "stderr",
     "output_type": "stream",
     "text": [
      "\n",
      "\u001b[A                                                 \n",
      "Folds:  67%|██████▋   | 4/6 [02:41<00:53, 26.79s/it]\u001b[A\n",
      "Folds:  83%|████████▎ | 5/6 [02:41<00:41, 41.37s/it]\u001b[A"
     ]
    },
    {
     "name": "stdout",
     "output_type": "stream",
     "text": [
      "Fold 5 best MSE = 0.0019\n"
     ]
    },
    {
     "name": "stderr",
     "output_type": "stream",
     "text": [
      "\n",
      "\u001b[A                                                 \n",
      "Folds:  83%|████████▎ | 5/6 [03:25<00:41, 41.37s/it]\u001b[A\n",
      "Folds: 100%|██████████| 6/6 [03:25<00:00, 42.06s/it]\u001b[A\n",
      "                                                    \u001b[A"
     ]
    },
    {
     "name": "stdout",
     "output_type": "stream",
     "text": [
      "Fold 6 best MSE = 0.0048\n",
      "[I 2025-05-13 12:28:51,327] Trial 3 finished with value: 0.05595783882308751 and parameters: {'hidden_dim': 129, 'num_layers': 3, 'dropout': 0.5793792198447356, 'learning_rate': 0.0023628864184236428, 'batch_size': 128, 'epochs': 58}. Best is trial 3 with value: 0.05595783882308751.\n"
     ]
    },
    {
     "name": "stderr",
     "output_type": "stream",
     "text": [
      "\n",
      "Folds:   0%|          | 0/6 [00:00<?, ?it/s]\u001b[A\n",
      "\u001b[A                                         \n",
      "Folds:   0%|          | 0/6 [00:18<?, ?it/s]\u001b[A\n",
      "Folds:  33%|███▎      | 2/6 [00:18<00:37,  9.46s/it]\u001b[A"
     ]
    },
    {
     "name": "stdout",
     "output_type": "stream",
     "text": [
      "Fold 2 best MSE = 0.0954\n"
     ]
    },
    {
     "name": "stderr",
     "output_type": "stream",
     "text": [
      "\n",
      "\u001b[A                                                 \n",
      "Folds:  33%|███▎      | 2/6 [00:39<00:37,  9.46s/it]\u001b[A\n",
      "Folds:  50%|█████     | 3/6 [00:39<00:41, 13.90s/it]\u001b[A"
     ]
    },
    {
     "name": "stdout",
     "output_type": "stream",
     "text": [
      "Fold 3 best MSE = 0.0515\n"
     ]
    },
    {
     "name": "stderr",
     "output_type": "stream",
     "text": [
      "\n",
      "\u001b[A                                                 \n",
      "Folds:  50%|█████     | 3/6 [01:05<00:41, 13.90s/it]\u001b[A\n",
      "Folds:  67%|██████▋   | 4/6 [01:05<00:37, 18.56s/it]\u001b[A"
     ]
    },
    {
     "name": "stdout",
     "output_type": "stream",
     "text": [
      "Fold 4 best MSE = 0.1387\n"
     ]
    },
    {
     "name": "stderr",
     "output_type": "stream",
     "text": [
      "\n",
      "\u001b[A                                                 \n",
      "Folds:  67%|██████▋   | 4/6 [01:53<00:37, 18.56s/it]\u001b[A\n",
      "Folds:  83%|████████▎ | 5/6 [01:53<00:28, 28.83s/it]\u001b[A"
     ]
    },
    {
     "name": "stdout",
     "output_type": "stream",
     "text": [
      "Fold 5 best MSE = 0.0026\n"
     ]
    },
    {
     "name": "stderr",
     "output_type": "stream",
     "text": [
      "\n",
      "\u001b[A                                                 \n",
      "Folds:  83%|████████▎ | 5/6 [02:35<00:28, 28.83s/it]\u001b[A\n",
      "Folds: 100%|██████████| 6/6 [02:35<00:00, 33.30s/it]\u001b[A\n",
      "                                                    \u001b[A"
     ]
    },
    {
     "name": "stdout",
     "output_type": "stream",
     "text": [
      "Fold 6 best MSE = 0.0102\n",
      "[I 2025-05-13 12:31:27,231] Trial 4 finished with value: 0.05966897546313703 and parameters: {'hidden_dim': 51, 'num_layers': 3, 'dropout': 0.15526798896001015, 'learning_rate': 0.0013353819088790589, 'batch_size': 128, 'epochs': 47}. Best is trial 3 with value: 0.05595783882308751.\n"
     ]
    },
    {
     "name": "stderr",
     "output_type": "stream",
     "text": [
      "\n",
      "Folds:   0%|          | 0/6 [00:00<?, ?it/s]\u001b[A\n",
      "\u001b[A                                         \n",
      "Folds:   0%|          | 0/6 [00:25<?, ?it/s]\u001b[A\n",
      "Folds:  33%|███▎      | 2/6 [00:25<00:50, 12.62s/it]\u001b[A"
     ]
    },
    {
     "name": "stdout",
     "output_type": "stream",
     "text": [
      "Fold 2 best MSE = 0.0974\n"
     ]
    },
    {
     "name": "stderr",
     "output_type": "stream",
     "text": [
      "\n",
      "\u001b[A                                                 \n",
      "Folds:  33%|███▎      | 2/6 [01:29<00:50, 12.62s/it]\u001b[A\n",
      "Folds:  50%|█████     | 3/6 [01:29<01:42, 34.03s/it]\u001b[A"
     ]
    },
    {
     "name": "stdout",
     "output_type": "stream",
     "text": [
      "Fold 3 best MSE = 0.0480\n"
     ]
    },
    {
     "name": "stderr",
     "output_type": "stream",
     "text": [
      "\n",
      "\u001b[A                                                 \n",
      "Folds:  50%|█████     | 3/6 [02:12<01:42, 34.03s/it]\u001b[A\n",
      "Folds:  67%|██████▋   | 4/6 [02:12<01:14, 37.38s/it]\u001b[A"
     ]
    },
    {
     "name": "stdout",
     "output_type": "stream",
     "text": [
      "Fold 4 best MSE = 0.1321\n"
     ]
    },
    {
     "name": "stderr",
     "output_type": "stream",
     "text": [
      "\n",
      "\u001b[A                                                 \n",
      "Folds:  67%|██████▋   | 4/6 [03:21<01:14, 37.38s/it]\u001b[A\n",
      "Folds:  83%|████████▎ | 5/6 [03:21<00:48, 48.61s/it]\u001b[A"
     ]
    },
    {
     "name": "stdout",
     "output_type": "stream",
     "text": [
      "Fold 5 best MSE = 0.0025\n"
     ]
    },
    {
     "name": "stderr",
     "output_type": "stream",
     "text": [
      "\n",
      "\u001b[A                                                 \n",
      "Folds:  83%|████████▎ | 5/6 [04:38<00:48, 48.61s/it]\u001b[A\n",
      "Folds: 100%|██████████| 6/6 [04:38<00:00, 57.90s/it]\u001b[A\n",
      "                                                    \u001b[A"
     ]
    },
    {
     "name": "stdout",
     "output_type": "stream",
     "text": [
      "Fold 6 best MSE = 0.0062\n",
      "[I 2025-05-13 12:36:05,809] Trial 5 finished with value: 0.05725272037088871 and parameters: {'hidden_dim': 188, 'num_layers': 2, 'dropout': 0.3587399872866511, 'learning_rate': 0.0036832964384234204, 'batch_size': 64, 'epochs': 53}. Best is trial 3 with value: 0.05595783882308751.\n"
     ]
    },
    {
     "name": "stderr",
     "output_type": "stream",
     "text": [
      "\n",
      "Folds:   0%|          | 0/6 [00:00<?, ?it/s]\u001b[A\n",
      "\u001b[A                                         \n",
      "Folds:   0%|          | 0/6 [00:18<?, ?it/s]\u001b[A\n",
      "Folds:  33%|███▎      | 2/6 [00:18<00:36,  9.07s/it]\u001b[A"
     ]
    },
    {
     "name": "stdout",
     "output_type": "stream",
     "text": [
      "Fold 2 best MSE = 0.1005\n"
     ]
    },
    {
     "name": "stderr",
     "output_type": "stream",
     "text": [
      "\n",
      "\u001b[A                                                 \n",
      "Folds:  33%|███▎      | 2/6 [00:40<00:36,  9.07s/it]\u001b[A\n",
      "Folds:  50%|█████     | 3/6 [00:40<00:44, 14.80s/it]\u001b[A"
     ]
    },
    {
     "name": "stdout",
     "output_type": "stream",
     "text": [
      "Fold 3 best MSE = 0.0525\n"
     ]
    },
    {
     "name": "stderr",
     "output_type": "stream",
     "text": [
      "\n",
      "\u001b[A                                                 \n",
      "Folds:  50%|█████     | 3/6 [01:12<00:44, 14.80s/it]\u001b[A\n",
      "Folds:  67%|██████▋   | 4/6 [01:12<00:42, 21.03s/it]\u001b[A"
     ]
    },
    {
     "name": "stdout",
     "output_type": "stream",
     "text": [
      "Fold 4 best MSE = 0.1318\n"
     ]
    },
    {
     "name": "stderr",
     "output_type": "stream",
     "text": [
      "\n",
      "\u001b[A                                                 \n",
      "Folds:  67%|██████▋   | 4/6 [01:59<00:42, 21.03s/it]\u001b[A\n",
      "Folds:  83%|████████▎ | 5/6 [01:59<00:30, 30.09s/it]\u001b[A"
     ]
    },
    {
     "name": "stdout",
     "output_type": "stream",
     "text": [
      "Fold 5 best MSE = 0.0036\n"
     ]
    },
    {
     "name": "stderr",
     "output_type": "stream",
     "text": [
      "\n",
      "\u001b[A                                                 \n",
      "Folds:  83%|████████▎ | 5/6 [02:52<00:30, 30.09s/it]\u001b[A\n",
      "Folds: 100%|██████████| 6/6 [02:52<00:00, 37.66s/it]\u001b[A\n",
      "                                                    \u001b[A"
     ]
    },
    {
     "name": "stdout",
     "output_type": "stream",
     "text": [
      "Fold 6 best MSE = 0.0225\n",
      "[I 2025-05-13 12:38:58,374] Trial 6 finished with value: 0.062168549234047535 and parameters: {'hidden_dim': 94, 'num_layers': 2, 'dropout': 0.16856070581242846, 'learning_rate': 0.0008356499023325525, 'batch_size': 64, 'epochs': 80}. Best is trial 3 with value: 0.05595783882308751.\n"
     ]
    },
    {
     "name": "stderr",
     "output_type": "stream",
     "text": [
      "\n",
      "Folds:   0%|          | 0/6 [00:00<?, ?it/s]\u001b[A\n",
      "\u001b[A                                         \n",
      "Folds:   0%|          | 0/6 [00:46<?, ?it/s]\u001b[A\n",
      "Folds:  33%|███▎      | 2/6 [00:46<01:32, 23.20s/it]\u001b[A"
     ]
    },
    {
     "name": "stdout",
     "output_type": "stream",
     "text": [
      "Fold 2 best MSE = 0.0933\n"
     ]
    },
    {
     "name": "stderr",
     "output_type": "stream",
     "text": [
      "\n",
      "\u001b[A                                                 \n",
      "Folds:  33%|███▎      | 2/6 [01:50<01:32, 23.20s/it]\u001b[A\n",
      "Folds:  50%|█████     | 3/6 [01:50<02:00, 40.32s/it]\u001b[A"
     ]
    },
    {
     "name": "stdout",
     "output_type": "stream",
     "text": [
      "Fold 3 best MSE = 0.0478\n"
     ]
    },
    {
     "name": "stderr",
     "output_type": "stream",
     "text": [
      "\n",
      "\u001b[A                                                 \n",
      "Folds:  50%|█████     | 3/6 [04:07<02:00, 40.32s/it]\u001b[A\n",
      "Folds:  67%|██████▋   | 4/6 [04:07<02:32, 76.44s/it]\u001b[A"
     ]
    },
    {
     "name": "stdout",
     "output_type": "stream",
     "text": [
      "Fold 4 best MSE = 0.1318\n"
     ]
    },
    {
     "name": "stderr",
     "output_type": "stream",
     "text": [
      "\n",
      "\u001b[A                                                 \n",
      "Folds:  67%|██████▋   | 4/6 [06:08<02:32, 76.44s/it]\u001b[A\n",
      "Folds:  83%|████████▎ | 5/6 [06:08<01:31, 91.76s/it]\u001b[A"
     ]
    },
    {
     "name": "stdout",
     "output_type": "stream",
     "text": [
      "Fold 5 best MSE = 0.0020\n"
     ]
    },
    {
     "name": "stderr",
     "output_type": "stream",
     "text": [
      "\n",
      "\u001b[A                                                 \n",
      "Folds:  83%|████████▎ | 5/6 [08:24<01:31, 91.76s/it]\u001b[A\n",
      "Folds: 100%|██████████| 6/6 [08:24<00:00, 106.37s/it]\u001b[A\n",
      "                                                     \u001b[A"
     ]
    },
    {
     "name": "stdout",
     "output_type": "stream",
     "text": [
      "Fold 6 best MSE = 0.0042\n",
      "[I 2025-05-13 12:47:22,523] Trial 7 finished with value: 0.05582235571928322 and parameters: {'hidden_dim': 156, 'num_layers': 3, 'dropout': 0.4241144063085703, 'learning_rate': 0.001732053535845956, 'batch_size': 32, 'epochs': 44}. Best is trial 7 with value: 0.05582235571928322.\n"
     ]
    },
    {
     "name": "stderr",
     "output_type": "stream",
     "text": [
      "\n",
      "Folds:   0%|          | 0/6 [00:00<?, ?it/s]\u001b[A\n",
      "\u001b[A                                         \n",
      "Folds:   0%|          | 0/6 [00:20<?, ?it/s]\u001b[A\n",
      "Folds:  33%|███▎      | 2/6 [00:20<00:40, 10.18s/it]\u001b[A"
     ]
    },
    {
     "name": "stdout",
     "output_type": "stream",
     "text": [
      "Fold 2 best MSE = 0.1501\n"
     ]
    },
    {
     "name": "stderr",
     "output_type": "stream",
     "text": [
      "\n",
      "\u001b[A                                                 \n",
      "Folds:  33%|███▎      | 2/6 [01:05<00:40, 10.18s/it]\u001b[A\n",
      "Folds:  50%|█████     | 3/6 [01:05<01:14, 24.94s/it]\u001b[A"
     ]
    },
    {
     "name": "stdout",
     "output_type": "stream",
     "text": [
      "Fold 3 best MSE = 0.0563\n"
     ]
    },
    {
     "name": "stderr",
     "output_type": "stream",
     "text": [
      "\n",
      "                                                    \u001b[A"
     ]
    },
    {
     "name": "stdout",
     "output_type": "stream",
     "text": [
      "[I 2025-05-13 12:48:29,785] Trial 8 pruned. \n"
     ]
    },
    {
     "name": "stderr",
     "output_type": "stream",
     "text": [
      "\n",
      "Folds:   0%|          | 0/6 [00:00<?, ?it/s]\u001b[A\n",
      "                                            \u001b[A"
     ]
    },
    {
     "name": "stdout",
     "output_type": "stream",
     "text": [
      "[I 2025-05-13 12:48:30,462] Trial 9 pruned. \n"
     ]
    },
    {
     "name": "stderr",
     "output_type": "stream",
     "text": [
      "\n",
      "Folds:   0%|          | 0/6 [00:00<?, ?it/s]\u001b[A\n",
      "\u001b[A                                         \n",
      "Folds:   0%|          | 0/6 [01:10<?, ?it/s]\u001b[A\n",
      "Folds:  33%|███▎      | 2/6 [01:10<02:21, 35.28s/it]\u001b[A"
     ]
    },
    {
     "name": "stdout",
     "output_type": "stream",
     "text": [
      "Fold 2 best MSE = 0.0962\n"
     ]
    },
    {
     "name": "stderr",
     "output_type": "stream",
     "text": [
      "\n",
      "\u001b[A                                                 \n",
      "Folds:  33%|███▎      | 2/6 [02:52<02:21, 35.28s/it]\u001b[A\n",
      "Folds:  50%|█████     | 3/6 [02:52<03:09, 63.13s/it]\u001b[A"
     ]
    },
    {
     "name": "stdout",
     "output_type": "stream",
     "text": [
      "Fold 3 best MSE = 0.0497\n"
     ]
    },
    {
     "name": "stderr",
     "output_type": "stream",
     "text": [
      "\n",
      "                                                    \u001b[A"
     ]
    },
    {
     "name": "stdout",
     "output_type": "stream",
     "text": [
      "[I 2025-05-13 12:55:24,151] Trial 10 pruned. \n"
     ]
    },
    {
     "name": "stderr",
     "output_type": "stream",
     "text": [
      "\n",
      "Folds:   0%|          | 0/6 [00:00<?, ?it/s]\u001b[A\n",
      "\u001b[A                                         \n",
      "Folds:   0%|          | 0/6 [01:00<?, ?it/s]\u001b[A\n",
      "Folds:  33%|███▎      | 2/6 [01:00<02:00, 30.20s/it]\u001b[A"
     ]
    },
    {
     "name": "stdout",
     "output_type": "stream",
     "text": [
      "Fold 2 best MSE = 0.0922\n"
     ]
    },
    {
     "name": "stderr",
     "output_type": "stream",
     "text": [
      "\n",
      "\u001b[A                                                 \n",
      "Folds:  33%|███▎      | 2/6 [02:06<02:00, 30.20s/it]\u001b[A\n",
      "Folds:  50%|█████     | 3/6 [02:06<02:15, 45.25s/it]\u001b[A"
     ]
    },
    {
     "name": "stdout",
     "output_type": "stream",
     "text": [
      "Fold 3 best MSE = 0.0482\n"
     ]
    },
    {
     "name": "stderr",
     "output_type": "stream",
     "text": [
      "\n",
      "                                                    \u001b[A"
     ]
    },
    {
     "name": "stdout",
     "output_type": "stream",
     "text": [
      "[I 2025-05-13 12:57:34,594] Trial 11 pruned. \n"
     ]
    },
    {
     "name": "stderr",
     "output_type": "stream",
     "text": [
      "\n",
      "Folds:   0%|          | 0/6 [00:00<?, ?it/s]\u001b[A\n",
      "                                            \u001b[A"
     ]
    },
    {
     "name": "stdout",
     "output_type": "stream",
     "text": [
      "[I 2025-05-13 12:57:43,453] Trial 12 pruned. \n"
     ]
    },
    {
     "name": "stderr",
     "output_type": "stream",
     "text": [
      "\n",
      "Folds:   0%|          | 0/6 [00:00<?, ?it/s]\u001b[A\n",
      "\u001b[A                                         \n",
      "Folds:   0%|          | 0/6 [00:40<?, ?it/s]\u001b[A\n",
      "Folds:  33%|███▎      | 2/6 [00:40<01:21, 20.30s/it]\u001b[A"
     ]
    },
    {
     "name": "stdout",
     "output_type": "stream",
     "text": [
      "Fold 2 best MSE = 0.0944\n"
     ]
    },
    {
     "name": "stderr",
     "output_type": "stream",
     "text": [
      "\n",
      "                                                    \u001b[A"
     ]
    },
    {
     "name": "stdout",
     "output_type": "stream",
     "text": [
      "[I 2025-05-13 12:59:17,653] Trial 13 pruned. \n"
     ]
    },
    {
     "name": "stderr",
     "output_type": "stream",
     "text": [
      "\n",
      "Folds:   0%|          | 0/6 [00:00<?, ?it/s]\u001b[A\n",
      "                                            \u001b[A"
     ]
    },
    {
     "name": "stdout",
     "output_type": "stream",
     "text": [
      "[I 2025-05-13 12:59:18,216] Trial 14 pruned. \n"
     ]
    },
    {
     "name": "stderr",
     "output_type": "stream",
     "text": [
      "\n",
      "Folds:   0%|          | 0/6 [00:00<?, ?it/s]\u001b[A\n",
      "\u001b[A                                         \n",
      "Folds:   0%|          | 0/6 [00:52<?, ?it/s]\u001b[A\n",
      "Folds:  33%|███▎      | 2/6 [00:52<01:45, 26.38s/it]\u001b[A"
     ]
    },
    {
     "name": "stdout",
     "output_type": "stream",
     "text": [
      "Fold 2 best MSE = 0.0920\n"
     ]
    },
    {
     "name": "stderr",
     "output_type": "stream",
     "text": [
      "\n",
      "\u001b[A                                                 \n",
      "Folds:  33%|███▎      | 2/6 [02:21<01:45, 26.38s/it]\u001b[A\n",
      "Folds:  50%|█████     | 3/6 [02:21<02:37, 52.34s/it]\u001b[A"
     ]
    },
    {
     "name": "stdout",
     "output_type": "stream",
     "text": [
      "Fold 3 best MSE = 0.0482\n"
     ]
    },
    {
     "name": "stderr",
     "output_type": "stream",
     "text": [
      "\n",
      "\u001b[A                                                 \n",
      "Folds:  50%|█████     | 3/6 [04:04<02:37, 52.34s/it]\u001b[A\n",
      "Folds:  67%|██████▋   | 4/6 [04:04<02:22, 71.12s/it]\u001b[A"
     ]
    },
    {
     "name": "stdout",
     "output_type": "stream",
     "text": [
      "Fold 4 best MSE = 0.1354\n"
     ]
    },
    {
     "name": "stderr",
     "output_type": "stream",
     "text": [
      "\n",
      "\u001b[A                                                 \n",
      "Folds:  67%|██████▋   | 4/6 [06:08<02:22, 71.12s/it]\u001b[A\n",
      "Folds:  83%|████████▎ | 5/6 [06:08<01:29, 89.55s/it]\u001b[A"
     ]
    },
    {
     "name": "stdout",
     "output_type": "stream",
     "text": [
      "Fold 5 best MSE = 0.0025\n"
     ]
    },
    {
     "name": "stderr",
     "output_type": "stream",
     "text": [
      "\n",
      "\u001b[A                                                 \n",
      "Folds:  83%|████████▎ | 5/6 [08:32<01:29, 89.55s/it]\u001b[A\n",
      "Folds: 100%|██████████| 6/6 [08:32<00:00, 107.86s/it]\u001b[A\n",
      "                                                     \u001b[A"
     ]
    },
    {
     "name": "stdout",
     "output_type": "stream",
     "text": [
      "Fold 6 best MSE = 0.0032\n",
      "[I 2025-05-13 13:07:51,253] Trial 15 finished with value: 0.05626687780022621 and parameters: {'hidden_dim': 192, 'num_layers': 3, 'dropout': 0.31531717940643383, 'learning_rate': 0.0015684800651357047, 'batch_size': 32, 'epochs': 49}. Best is trial 7 with value: 0.05582235571928322.\n"
     ]
    },
    {
     "name": "stderr",
     "output_type": "stream",
     "text": [
      "\n",
      "Folds:   0%|          | 0/6 [00:00<?, ?it/s]\u001b[A\n",
      "                                            \u001b[A"
     ]
    },
    {
     "name": "stdout",
     "output_type": "stream",
     "text": [
      "[I 2025-05-13 13:07:51,666] Trial 16 pruned. \n"
     ]
    },
    {
     "name": "stderr",
     "output_type": "stream",
     "text": [
      "\n",
      "Folds:   0%|          | 0/6 [00:00<?, ?it/s]\u001b[A\n",
      "\u001b[A                                         \n",
      "Folds:   0%|          | 0/6 [01:00<?, ?it/s]\u001b[A\n",
      "Folds:  33%|███▎      | 2/6 [01:00<02:00, 30.16s/it]\u001b[A"
     ]
    },
    {
     "name": "stdout",
     "output_type": "stream",
     "text": [
      "Fold 2 best MSE = 0.0936\n"
     ]
    },
    {
     "name": "stderr",
     "output_type": "stream",
     "text": [
      "\n",
      "\u001b[A                                                 \n",
      "Folds:  33%|███▎      | 2/6 [02:03<02:00, 30.16s/it]\u001b[A\n",
      "Folds:  50%|█████     | 3/6 [02:03<02:12, 44.04s/it]\u001b[A"
     ]
    },
    {
     "name": "stdout",
     "output_type": "stream",
     "text": [
      "Fold 3 best MSE = 0.0461\n"
     ]
    },
    {
     "name": "stderr",
     "output_type": "stream",
     "text": [
      "\n",
      "\u001b[A                                                 \n",
      "Folds:  50%|█████     | 3/6 [03:38<02:12, 44.04s/it]\u001b[A\n",
      "Folds:  67%|██████▋   | 4/6 [03:38<02:05, 62.88s/it]\u001b[A"
     ]
    },
    {
     "name": "stdout",
     "output_type": "stream",
     "text": [
      "Fold 4 best MSE = 0.1299\n"
     ]
    },
    {
     "name": "stderr",
     "output_type": "stream",
     "text": [
      "\n",
      "                                                    \u001b[A"
     ]
    },
    {
     "name": "stdout",
     "output_type": "stream",
     "text": [
      "[I 2025-05-13 13:13:07,692] Trial 17 pruned. \n"
     ]
    },
    {
     "name": "stderr",
     "output_type": "stream",
     "text": [
      "\n",
      "Folds:   0%|          | 0/6 [00:00<?, ?it/s]\u001b[A\n",
      "\u001b[A                                         \n",
      "Folds:   0%|          | 0/6 [00:37<?, ?it/s]\u001b[A\n",
      "Folds:  33%|███▎      | 2/6 [00:37<01:15, 18.99s/it]\u001b[A"
     ]
    },
    {
     "name": "stdout",
     "output_type": "stream",
     "text": [
      "Fold 2 best MSE = 0.0935\n"
     ]
    },
    {
     "name": "stderr",
     "output_type": "stream",
     "text": [
      "\n",
      "\u001b[A                                                 \n",
      "Folds:  33%|███▎      | 2/6 [02:08<01:15, 18.99s/it]\u001b[A\n",
      "Folds:  50%|█████     | 3/6 [02:08<02:26, 48.70s/it]\u001b[A"
     ]
    },
    {
     "name": "stdout",
     "output_type": "stream",
     "text": [
      "Fold 3 best MSE = 0.0478\n"
     ]
    },
    {
     "name": "stderr",
     "output_type": "stream",
     "text": [
      "\n",
      "\u001b[A                                                 \n",
      "Folds:  50%|█████     | 3/6 [03:56<02:26, 48.70s/it]\u001b[A\n",
      "Folds:  67%|██████▋   | 4/6 [03:56<02:21, 70.75s/it]\u001b[A"
     ]
    },
    {
     "name": "stdout",
     "output_type": "stream",
     "text": [
      "Fold 4 best MSE = 0.1326\n"
     ]
    },
    {
     "name": "stderr",
     "output_type": "stream",
     "text": [
      "\n",
      "\u001b[A                                                 \n",
      "Folds:  67%|██████▋   | 4/6 [05:45<02:21, 70.75s/it]\u001b[A\n",
      "Folds:  83%|████████▎ | 5/6 [05:45<01:24, 84.19s/it]\u001b[A"
     ]
    },
    {
     "name": "stdout",
     "output_type": "stream",
     "text": [
      "Fold 5 best MSE = 0.0024\n"
     ]
    },
    {
     "name": "stderr",
     "output_type": "stream",
     "text": [
      "\n",
      "\u001b[A                                                 \n",
      "Folds:  83%|████████▎ | 5/6 [08:23<01:24, 84.19s/it]\u001b[A\n",
      "Folds: 100%|██████████| 6/6 [08:23<00:00, 108.78s/it]\u001b[A\n",
      "                                                     \u001b[A"
     ]
    },
    {
     "name": "stdout",
     "output_type": "stream",
     "text": [
      "Fold 6 best MSE = 0.0045\n",
      "[I 2025-05-13 13:21:31,521] Trial 18 finished with value: 0.05616435413248837 and parameters: {'hidden_dim': 173, 'num_layers': 2, 'dropout': 0.4420620035148045, 'learning_rate': 0.0013851174672028994, 'batch_size': 32, 'epochs': 64}. Best is trial 7 with value: 0.05582235571928322.\n"
     ]
    },
    {
     "name": "stderr",
     "output_type": "stream",
     "text": [
      "\n",
      "Folds:   0%|          | 0/6 [00:00<?, ?it/s]\u001b[A\n",
      "\u001b[A                                         \n",
      "Folds:   0%|          | 0/6 [00:29<?, ?it/s]\u001b[A\n",
      "Folds:  33%|███▎      | 2/6 [00:29<00:59, 14.96s/it]\u001b[A"
     ]
    },
    {
     "name": "stdout",
     "output_type": "stream",
     "text": [
      "Fold 2 best MSE = 0.0973\n"
     ]
    },
    {
     "name": "stderr",
     "output_type": "stream",
     "text": [
      "\n",
      "\u001b[A                                                 \n",
      "Folds:  33%|███▎      | 2/6 [01:01<00:59, 14.96s/it]\u001b[A\n",
      "Folds:  50%|█████     | 3/6 [01:01<01:06, 22.06s/it]\u001b[A"
     ]
    },
    {
     "name": "stdout",
     "output_type": "stream",
     "text": [
      "Fold 3 best MSE = 0.0695\n"
     ]
    },
    {
     "name": "stderr",
     "output_type": "stream",
     "text": [
      "\n",
      "                                                    \u001b[A"
     ]
    },
    {
     "name": "stdout",
     "output_type": "stream",
     "text": [
      "[I 2025-05-13 13:23:04,659] Trial 19 pruned. \n"
     ]
    },
    {
     "name": "stderr",
     "output_type": "stream",
     "text": [
      "\n",
      "Folds:   0%|          | 0/6 [00:00<?, ?it/s]\u001b[A\n",
      "                                            \u001b[A"
     ]
    },
    {
     "name": "stdout",
     "output_type": "stream",
     "text": [
      "[I 2025-05-13 13:23:26,658] Trial 20 pruned. \n"
     ]
    },
    {
     "name": "stderr",
     "output_type": "stream",
     "text": [
      "\n",
      "Folds:   0%|          | 0/6 [00:00<?, ?it/s]\u001b[A\n",
      "                                            \u001b[A"
     ]
    },
    {
     "name": "stdout",
     "output_type": "stream",
     "text": [
      "[I 2025-05-13 13:23:27,064] Trial 21 pruned. \n"
     ]
    },
    {
     "name": "stderr",
     "output_type": "stream",
     "text": [
      "\n",
      "Folds:   0%|          | 0/6 [00:00<?, ?it/s]\u001b[A\n",
      "\u001b[A                                         \n",
      "Folds:   0%|          | 0/6 [00:18<?, ?it/s]\u001b[A\n",
      "Folds:  33%|███▎      | 2/6 [00:18<00:36,  9.21s/it]\u001b[A"
     ]
    },
    {
     "name": "stdout",
     "output_type": "stream",
     "text": [
      "Fold 2 best MSE = 0.0944\n"
     ]
    },
    {
     "name": "stderr",
     "output_type": "stream",
     "text": [
      "\n",
      "\u001b[A                                                 \n",
      "Folds:  33%|███▎      | 2/6 [00:48<00:36,  9.21s/it]\u001b[A\n",
      "Folds:  50%|█████     | 3/6 [00:48<00:53, 17.85s/it]\u001b[A"
     ]
    },
    {
     "name": "stdout",
     "output_type": "stream",
     "text": [
      "Fold 3 best MSE = 0.0470\n"
     ]
    },
    {
     "name": "stderr",
     "output_type": "stream",
     "text": [
      "\n",
      "\u001b[A                                                 \n",
      "Folds:  50%|█████     | 3/6 [01:35<00:53, 17.85s/it]\u001b[A\n",
      "Folds:  67%|██████▋   | 4/6 [01:35<00:57, 28.92s/it]\u001b[A"
     ]
    },
    {
     "name": "stdout",
     "output_type": "stream",
     "text": [
      "Fold 4 best MSE = 0.1322\n"
     ]
    },
    {
     "name": "stderr",
     "output_type": "stream",
     "text": [
      "\n",
      "\u001b[A                                                 \n",
      "Folds:  67%|██████▋   | 4/6 [02:25<00:57, 28.92s/it]\u001b[A\n",
      "Folds:  83%|████████▎ | 5/6 [02:25<00:36, 36.22s/it]\u001b[A"
     ]
    },
    {
     "name": "stdout",
     "output_type": "stream",
     "text": [
      "Fold 5 best MSE = 0.0020\n"
     ]
    },
    {
     "name": "stderr",
     "output_type": "stream",
     "text": [
      "\n",
      "\u001b[A                                                 \n",
      "Folds:  83%|████████▎ | 5/6 [03:14<00:36, 36.22s/it]\u001b[A\n",
      "Folds: 100%|██████████| 6/6 [03:14<00:00, 40.26s/it]\u001b[A\n",
      "                                                    \u001b[A"
     ]
    },
    {
     "name": "stdout",
     "output_type": "stream",
     "text": [
      "Fold 6 best MSE = 0.0072\n",
      "[I 2025-05-13 13:26:41,319] Trial 22 finished with value: 0.0565667022485286 and parameters: {'hidden_dim': 149, 'num_layers': 3, 'dropout': 0.2611886493901656, 'learning_rate': 0.0025734875131168955, 'batch_size': 128, 'epochs': 46}. Best is trial 7 with value: 0.05582235571928322.\n"
     ]
    },
    {
     "name": "stderr",
     "output_type": "stream",
     "text": [
      "\n",
      "Folds:   0%|          | 0/6 [00:00<?, ?it/s]\u001b[A\n",
      "\u001b[A                                         \n",
      "Folds:   0%|          | 0/6 [00:13<?, ?it/s]\u001b[A\n",
      "Folds:  33%|███▎      | 2/6 [00:13<00:27,  6.97s/it]\u001b[A"
     ]
    },
    {
     "name": "stdout",
     "output_type": "stream",
     "text": [
      "Fold 2 best MSE = 0.0977\n"
     ]
    },
    {
     "name": "stderr",
     "output_type": "stream",
     "text": [
      "\n",
      "\u001b[A                                                 \n",
      "Folds:  33%|███▎      | 2/6 [00:34<00:27,  6.97s/it]\u001b[A\n",
      "Folds:  50%|█████     | 3/6 [00:34<00:37, 12.65s/it]\u001b[A"
     ]
    },
    {
     "name": "stdout",
     "output_type": "stream",
     "text": [
      "Fold 3 best MSE = 0.0481\n"
     ]
    },
    {
     "name": "stderr",
     "output_type": "stream",
     "text": [
      "\n",
      "\u001b[A                                                 \n",
      "Folds:  50%|█████     | 3/6 [01:14<00:37, 12.65s/it]\u001b[A\n",
      "Folds:  67%|██████▋   | 4/6 [01:14<00:45, 22.86s/it]\u001b[A"
     ]
    },
    {
     "name": "stdout",
     "output_type": "stream",
     "text": [
      "Fold 4 best MSE = 0.1298\n"
     ]
    },
    {
     "name": "stderr",
     "output_type": "stream",
     "text": [
      "\n",
      "\u001b[A                                                 \n",
      "Folds:  67%|██████▋   | 4/6 [02:03<00:45, 22.86s/it]\u001b[A\n",
      "Folds:  83%|████████▎ | 5/6 [02:03<00:31, 31.76s/it]\u001b[A"
     ]
    },
    {
     "name": "stdout",
     "output_type": "stream",
     "text": [
      "Fold 5 best MSE = 0.0024\n"
     ]
    },
    {
     "name": "stderr",
     "output_type": "stream",
     "text": [
      "\n",
      "\u001b[A                                                 \n",
      "Folds:  83%|████████▎ | 5/6 [02:53<00:31, 31.76s/it]\u001b[A\n",
      "Folds: 100%|██████████| 6/6 [02:53<00:00, 37.89s/it]\u001b[A\n",
      "                                                    \u001b[A"
     ]
    },
    {
     "name": "stdout",
     "output_type": "stream",
     "text": [
      "Fold 6 best MSE = 0.0036\n",
      "[I 2025-05-13 13:29:34,639] Trial 23 finished with value: 0.05631810231134295 and parameters: {'hidden_dim': 127, 'num_layers': 3, 'dropout': 0.3865159551546139, 'learning_rate': 0.004878693194817678, 'batch_size': 128, 'epochs': 40}. Best is trial 7 with value: 0.05582235571928322.\n"
     ]
    },
    {
     "name": "stderr",
     "output_type": "stream",
     "text": [
      "\n",
      "Folds:   0%|          | 0/6 [00:00<?, ?it/s]\u001b[A\n",
      "                                            \u001b[A"
     ]
    },
    {
     "name": "stdout",
     "output_type": "stream",
     "text": [
      "[I 2025-05-13 13:29:35,053] Trial 24 pruned. \n"
     ]
    },
    {
     "name": "stderr",
     "output_type": "stream",
     "text": [
      "\n",
      "Folds:   0%|          | 0/6 [00:00<?, ?it/s]\u001b[A\n",
      "                                            \u001b[A"
     ]
    },
    {
     "name": "stdout",
     "output_type": "stream",
     "text": [
      "[I 2025-05-13 13:29:35,974] Trial 25 pruned. \n"
     ]
    },
    {
     "name": "stderr",
     "output_type": "stream",
     "text": [
      "\n",
      "Folds:   0%|          | 0/6 [00:00<?, ?it/s]\u001b[A\n",
      "                                            \u001b[A"
     ]
    },
    {
     "name": "stdout",
     "output_type": "stream",
     "text": [
      "[I 2025-05-13 13:29:36,360] Trial 26 pruned. \n"
     ]
    },
    {
     "name": "stderr",
     "output_type": "stream",
     "text": [
      "\n",
      "Folds:   0%|          | 0/6 [00:00<?, ?it/s]\u001b[A\n",
      "                                            \u001b[A"
     ]
    },
    {
     "name": "stdout",
     "output_type": "stream",
     "text": [
      "[I 2025-05-13 13:29:55,019] Trial 27 pruned. \n"
     ]
    },
    {
     "name": "stderr",
     "output_type": "stream",
     "text": [
      "\n",
      "Folds:   0%|          | 0/6 [00:00<?, ?it/s]\u001b[A\n",
      "                                            \u001b[A"
     ]
    },
    {
     "name": "stdout",
     "output_type": "stream",
     "text": [
      "[I 2025-05-13 13:30:03,859] Trial 28 pruned. \n"
     ]
    },
    {
     "name": "stderr",
     "output_type": "stream",
     "text": [
      "\n",
      "Folds:   0%|          | 0/6 [00:00<?, ?it/s]\u001b[A\n",
      "\u001b[A                                         \n",
      "Folds:   0%|          | 0/6 [00:46<?, ?it/s]\u001b[A\n",
      "Folds:  33%|███▎      | 2/6 [00:46<01:33, 23.34s/it]\u001b[A"
     ]
    },
    {
     "name": "stdout",
     "output_type": "stream",
     "text": [
      "Fold 2 best MSE = 0.0890\n"
     ]
    },
    {
     "name": "stderr",
     "output_type": "stream",
     "text": [
      "\n",
      "\u001b[A                                                 \n",
      "Folds:  33%|███▎      | 2/6 [01:44<01:33, 23.34s/it]\u001b[A\n",
      "Folds:  50%|█████     | 3/6 [01:44<01:52, 37.54s/it]\u001b[A"
     ]
    },
    {
     "name": "stdout",
     "output_type": "stream",
     "text": [
      "Fold 3 best MSE = 0.0488\n"
     ]
    },
    {
     "name": "stderr",
     "output_type": "stream",
     "text": [
      "\n",
      "\u001b[A                                                 \n",
      "Folds:  50%|█████     | 3/6 [02:53<01:52, 37.54s/it]\u001b[A\n",
      "Folds:  67%|██████▋   | 4/6 [02:53<01:38, 49.32s/it]\u001b[A"
     ]
    },
    {
     "name": "stdout",
     "output_type": "stream",
     "text": [
      "Fold 4 best MSE = 0.1298\n"
     ]
    },
    {
     "name": "stderr",
     "output_type": "stream",
     "text": [
      "\n",
      "\u001b[A                                                 \n",
      "Folds:  67%|██████▋   | 4/6 [04:42<01:38, 49.32s/it]\u001b[A\n",
      "Folds:  83%|████████▎ | 5/6 [04:42<01:10, 70.14s/it]\u001b[A"
     ]
    },
    {
     "name": "stdout",
     "output_type": "stream",
     "text": [
      "Fold 5 best MSE = 0.0039\n"
     ]
    },
    {
     "name": "stderr",
     "output_type": "stream",
     "text": [
      "\n",
      "\u001b[A                                                 \n",
      "Folds:  83%|████████▎ | 5/6 [06:29<01:10, 70.14s/it]\u001b[A\n",
      "Folds: 100%|██████████| 6/6 [06:29<00:00, 82.44s/it]\u001b[A\n",
      "                                                    \u001b[A"
     ]
    },
    {
     "name": "stdout",
     "output_type": "stream",
     "text": [
      "Fold 6 best MSE = 0.0042\n",
      "[I 2025-05-13 13:36:33,556] Trial 29 finished with value: 0.055132863111793995 and parameters: {'hidden_dim': 130, 'num_layers': 2, 'dropout': 0.21638671447680213, 'learning_rate': 0.0025299948542400023, 'batch_size': 32, 'epochs': 63}. Best is trial 29 with value: 0.055132863111793995.\n",
      "=== Best Trial ===\n",
      "MSE   : 0.055133\n",
      "Params: {'hidden_dim': 130, 'num_layers': 2, 'dropout': 0.21638671447680213, 'learning_rate': 0.0025299948542400023, 'batch_size': 32, 'epochs': 63}\n",
      "Total run time: 5115.4 s\n"
     ]
    }
   ],
   "source": [
    "# ==============================================================\n",
    "#  LSTM Regression on Yield‑Curve Δ  |  Optuna (50 trials, h=1)\n",
    "#  • Original loop‑based sequence logic\n",
    "#  • Duplicate‑step warning fixed (unique global_step)\n",
    "#  • Clean output: only final fold MSE shown\n",
    "# ==============================================================\n",
    "\n",
    "# ---------------------- Imports ---------------------- #\n",
    "import os, sys, gc, time, random\n",
    "import numpy as np\n",
    "import pandas as pd\n",
    "from tqdm import tqdm\n",
    "\n",
    "import torch\n",
    "import torch.nn as nn\n",
    "import torch.backends.cudnn as cudnn\n",
    "from torch import amp\n",
    "from torch.utils.data import DataLoader, TensorDataset\n",
    "from sklearn.preprocessing import StandardScaler\n",
    "from sklearn.metrics import mean_squared_error\n",
    "\n",
    "import optuna\n",
    "from optuna.pruners import MedianPruner\n",
    "from optuna.samplers import TPESampler\n",
    "\n",
    "# ---------------------- Reproducibility ---------------------- #\n",
    "RNG_SEED = 42\n",
    "random.seed(RNG_SEED); np.random.seed(RNG_SEED); torch.manual_seed(RNG_SEED)\n",
    "if torch.cuda.is_available():\n",
    "    torch.cuda.manual_seed_all(RNG_SEED)\n",
    "\n",
    "# ---------------------- Device & CuDNN ---------------------- #\n",
    "device = torch.device(\"cuda\" if torch.cuda.is_available() else \"cpu\")\n",
    "print(f\"[INFO] Device: {device}\")\n",
    "if device.type == \"cuda\":\n",
    "    print(f\"  • GPU: {torch.cuda.get_device_name(0)}\")\n",
    "    cudnn.benchmark = True\n",
    "\n",
    "# ---------------------- Config ---------------------- #\n",
    "FORECAST_HORIZON = 5\n",
    "TRIALS           = 30\n",
    "EARLY_STOP       = 20\n",
    "val_window_num_sequences = 504\n",
    "holdout_base            = 756\n",
    "seq_len_map             = {5: 1197}\n",
    "\n",
    "HSPACE = {\n",
    "    \"hidden_dim\"   : (32, 192),\n",
    "    \"num_layers\"   : [1, 2, 3],\n",
    "    \"dropout\"      : (0.0, 0.6),\n",
    "    \"learning_rate\": (1e-4, 5e-3),\n",
    "    \"batch_size\"   : [32, 64, 128],\n",
    "    \"epochs\"       : (40, 80),\n",
    "}\n",
    "\n",
    "# ---------------------- Model ---------------------- #\n",
    "class LSTMRegressor(nn.Module):\n",
    "    def __init__(self, in_dim, hid, layers, out_dim, drop=0.0):\n",
    "        super().__init__()\n",
    "        self.lstm = nn.LSTM(in_dim, hid, layers, batch_first=True,\n",
    "                            dropout=(drop if layers > 1 else 0.0))\n",
    "        self.drop = nn.Dropout(drop)\n",
    "        self.norm = nn.LayerNorm(hid)\n",
    "        self.fc   = nn.Linear(hid, out_dim, bias=False)\n",
    "    def forward(self, x):\n",
    "        _, (hn, _) = self.lstm(x)\n",
    "        return self.fc(self.norm(self.drop(hn[-1])))\n",
    "\n",
    "# ---------------------- Data Utilities ---------------------- #\n",
    "def gen_seq(X_df, Y_fold, seq_len, h):\n",
    "    X_arr = X_df.values.astype(np.float32)\n",
    "    Y_arr = Y_fold.reindex(X_df.index).values.astype(np.float32)\n",
    "    idx   = {ts: i for i, ts in enumerate(X_df.index)}\n",
    "    X_seq, Y_seq = [], []\n",
    "    for t in Y_fold.index:\n",
    "        ti = idx.get(t)\n",
    "        if ti is None:\n",
    "            continue\n",
    "        end = ti - h + 1; start = end - seq_len\n",
    "        if start < 0 or end > len(X_arr):\n",
    "            continue\n",
    "        win = X_arr[start:end]\n",
    "        if win.shape[0] != seq_len or np.isnan(win).any() or not np.isfinite(Y_arr[ti]).all():\n",
    "            continue\n",
    "        X_seq.append(win); Y_seq.append(Y_arr[ti])\n",
    "    return np.asarray(X_seq, np.float32), np.asarray(Y_seq, np.float32)\n",
    "\n",
    "\n",
    "def std_fold(Xtr, Xva):\n",
    "    sc = StandardScaler()\n",
    "    return (\n",
    "        pd.DataFrame(sc.fit_transform(Xtr), index=Xtr.index, columns=Xtr.columns),\n",
    "        pd.DataFrame(sc.transform(Xva),     index=Xva.index, columns=Xva.columns),\n",
    "    )\n",
    "\n",
    "# ---------------------- CV ---------------------- #\n",
    "def expanding_folds(X, Y, h):\n",
    "    seq_len = seq_len_map[h]; total = len(X); min_train = seq_len + h\n",
    "    folds, i = [], min_train\n",
    "    while i + val_window_num_sequences + holdout_base <= total:\n",
    "        vs, ve = i, i + val_window_num_sequences\n",
    "        folds.append({\n",
    "            \"X_tr\": X.iloc[:i].copy(),\n",
    "            \"Y_tr\": Y.iloc[:i].copy(),\n",
    "            \"X_va\": X.iloc[vs - seq_len - h + 1: ve - h].copy(),\n",
    "            \"Y_va\": Y.iloc[vs:ve].copy(),\n",
    "            \"seq_len\": seq_len,\n",
    "        })\n",
    "        i += val_window_num_sequences\n",
    "    return folds\n",
    "\n",
    "# ---------------------- Optuna Objective ---------------------- #\n",
    "def objective(trial, folds):\n",
    "    p = {\n",
    "        \"hid\": trial.suggest_int(\"hidden_dim\", *HSPACE[\"hidden_dim\"]),\n",
    "        \"lay\": trial.suggest_categorical(\"num_layers\", HSPACE[\"num_layers\"]),\n",
    "        \"drp\": trial.suggest_float(\"dropout\", *HSPACE[\"dropout\"]),\n",
    "        \"lr\" : trial.suggest_float(\"learning_rate\", *HSPACE[\"learning_rate\"], log=True),\n",
    "        \"bs\" : trial.suggest_categorical(\"batch_size\", HSPACE[\"batch_size\"]),\n",
    "        \"ep\" : trial.suggest_int(\"epochs\", *HSPACE[\"epochs\"]),\n",
    "    }\n",
    "    scaler = amp.GradScaler(); mse_fold = []\n",
    "\n",
    "    for f_idx, f in enumerate(tqdm(folds, desc=\"Folds\", leave=False)):\n",
    "        Xtr_s, Xva_s = std_fold(f[\"X_tr\"], f[\"X_va\"])\n",
    "        Xtr, Ytr = gen_seq(Xtr_s, f[\"Y_tr\"], f[\"seq_len\"], FORECAST_HORIZON)\n",
    "        Xva, Yva = gen_seq(Xva_s, f[\"Y_va\"], f[\"seq_len\"], FORECAST_HORIZON)\n",
    "        if len(Xtr)==0 or len(Xva)==0:\n",
    "            continue\n",
    "\n",
    "        model = LSTMRegressor(Xtr.shape[2], p[\"hid\"], p[\"lay\"], Ytr.shape[1], p[\"drp\"]).to(device)\n",
    "        opt   = torch.optim.Adam(model.parameters(), lr=p[\"lr\"])\n",
    "        best, pat = np.inf, 0; report_every = max(1, p[\"ep\"]//3)\n",
    "\n",
    "        tr_loader = DataLoader(TensorDataset(torch.tensor(Xtr), torch.tensor(Ytr)), batch_size=p[\"bs\"], shuffle=True, pin_memory=True)\n",
    "        va_loader = DataLoader(TensorDataset(torch.tensor(Xva), torch.tensor(Yva)), batch_size=p[\"bs\"], pin_memory=True)\n",
    "\n",
    "        for epoch in range(p[\"ep\"]):\n",
    "            model.train()\n",
    "            for xb, yb in tr_loader:\n",
    "                xb, yb = xb.to(device, non_blocking=True), yb.to(device, non_blocking=True)\n",
    "                opt.zero_grad(set_to_none=True)\n",
    "                with amp.autocast(device_type='cuda'):\n",
    "                    loss = nn.functional.mse_loss(model(xb), yb)\n",
    "                scaler.scale(loss).backward(); scaler.step(opt); scaler.update()\n",
    "\n",
    "            model.eval(); preds, gts = [], []\n",
    "            with torch.no_grad(), amp.autocast(device_type='cuda'):\n",
    "                for xb, yb in va_loader:\n",
    "                    preds.append(model(xb.to(device, non_blocking=True)).cpu()); gts.append(yb)\n",
    "            mse = mean_squared_error(torch.cat(gts).numpy(), torch.cat(preds).numpy())\n",
    "\n",
    "            global_step = f_idx * p[\"ep\"] + epoch\n",
    "            if epoch % report_every == 0:\n",
    "                trial.report(mse, global_step)\n",
    "                if trial.should_prune():\n",
    "                    raise optuna.TrialPruned()\n",
    "\n",
    "            if mse + 1e-6 < best:\n",
    "                best, pat = mse, 0\n",
    "            else:\n",
    "                pat += 1\n",
    "                if pat >= EARLY_STOP:\n",
    "                    break\n",
    "        tqdm.write(f\"Fold {f_idx+1} best MSE = {best:.4f}\")\n",
    "        mse_fold.append(best)\n",
    "    return np.mean(mse_fold) if mse_fold else np.inf\n",
    "\n",
    "# ---------------------- Main ---------------------- #\n",
    "if __name__ == \"__main__\":\n",
    "    X = pd.read_csv(\"X_df_filtered_shap.csv\", index_col=0, parse_dates=True)\n",
    "    Y = pd.read_csv(f\"Y_df_change_{FORECAST_HORIZON}.csv\", index_col=0, parse_dates=True)\n",
    "    folds = expanding_folds(X, Y, FORECAST_HORIZON)\n",
    "    print(f\"Generated {len(folds)} folds\\n\")    \n",
    "\n",
    "    study = optuna.create_study(\n",
    "        direction=\"minimize\",\n",
    "        sampler=TPESampler(seed=RNG_SEED),\n",
    "        pruner=MedianPruner(8, 15)\n",
    "    )\n",
    "\n",
    "    t0 = time.time()\n",
    "    study.optimize(\n",
    "        lambda tr: objective(tr, folds),\n",
    "        n_trials=TRIALS,\n",
    "        n_jobs=1,\n",
    "        show_progress_bar=True\n",
    "    )\n",
    "    dur = time.time() - t0\n",
    "\n",
    "    print(\"=== Best Trial ===\")\n",
    "    print(f\"MSE   : {study.best_value:.6f}\")\n",
    "    print(f\"Params: {study.best_trial.params}\")\n",
    "    print(f\"Total run time: {dur:.1f} s\")"
   ]
  },
  {
   "cell_type": "code",
   "execution_count": 6,
   "id": "117aefa0-6fe3-404a-a5d4-c8f067249a39",
   "metadata": {},
   "outputs": [
    {
     "name": "stdout",
     "output_type": "stream",
     "text": [
      "[INFO] Running final model evaluation on test set\n",
      "[DEBUG] It's working\n",
      "\n",
      "[RESULT] Final Test Set MSE: 0.038973\n"
     ]
    }
   ],
   "source": [
    "\n",
    "if __name__ == \"__main__\":\n",
    "    BEST_PARAMS = {\n",
    "        'hidden_dim': 130,\n",
    "        'num_layers': 2,\n",
    "        'dropout': 0.21638671447680213,\n",
    "        'learning_rate': 0.0025299948542400023,\n",
    "        'batch_size': 32,\n",
    "        'epochs': 63\n",
    "    }\n",
    "    \n",
    "    FORECAST_HORIZON = 5\n",
    "    SEQUENCE_LENGTH = 1197\n",
    "\n",
    "    \n",
    "    print(\"[INFO] Running final model evaluation on test set\")\n",
    "\n",
    "    X = pd.read_csv(\"X_df_filtered_shap.csv\", index_col=0, parse_dates=True)\n",
    "    Y = pd.read_csv(\"Y_df_change_5.csv\", index_col=0, parse_dates=True)\n",
    "\n",
    "    TEST_SIZE = 756             # 3-year hold-out\n",
    "    seq_buffer = SEQUENCE_LENGTH + FORECAST_HORIZON - 1\n",
    "    \n",
    "    X_train = X.iloc[:-TEST_SIZE]\n",
    "    Y_train = Y.iloc[:-TEST_SIZE]\n",
    "    \n",
    "    X_test_start = -TEST_SIZE - seq_buffer   # keep enough context for sequences\n",
    "    X_test = X.iloc[X_test_start:]\n",
    "    Y_test = Y.iloc[-TEST_SIZE:]\n",
    "\n",
    "    sc = StandardScaler()\n",
    "    X_train_std = pd.DataFrame(sc.fit_transform(X_train), index=X_train.index, columns=X_train.columns)\n",
    "    X_test_std  = pd.DataFrame(sc.transform(X_test),     index=X_test.index,  columns=X_test.columns)\n",
    "\n",
    "    X_tr_seq, Y_tr_seq = gen_seq(X_train_std, Y_train, SEQUENCE_LENGTH, FORECAST_HORIZON)\n",
    "    X_te_seq, Y_te_seq = gen_seq(X_test_std,  Y_test,  SEQUENCE_LENGTH, FORECAST_HORIZON)\n",
    "\n",
    "    if len(X_te_seq) == 0 or len(Y_te_seq) == 0:\n",
    "        print(\"[ERROR] No valid test sequences generated. Check alignment or sequence length.\")\n",
    "        sys.exit(1)\n",
    "    else:\n",
    "        print(\"[DEBUG] It's working\")\n",
    "\n",
    "    model = LSTMRegressor(\n",
    "        in_dim=X_tr_seq.shape[2],\n",
    "        hid=BEST_PARAMS['hidden_dim'],\n",
    "        layers=BEST_PARAMS['num_layers'],\n",
    "        out_dim=Y_tr_seq.shape[1],\n",
    "        drop=BEST_PARAMS['dropout']\n",
    "    ).to(device)\n",
    "\n",
    "    optimizer = torch.optim.Adam(model.parameters(), lr=BEST_PARAMS['learning_rate'])\n",
    "    scaler = amp.GradScaler()\n",
    "\n",
    "    train_loader = DataLoader(TensorDataset(torch.tensor(X_tr_seq), torch.tensor(Y_tr_seq)),\n",
    "                              batch_size=BEST_PARAMS['batch_size'], shuffle=True, pin_memory=True)\n",
    "\n",
    "    model.train()\n",
    "    for epoch in range(BEST_PARAMS['epochs']):\n",
    "        for xb, yb in train_loader:\n",
    "            xb, yb = xb.to(device, non_blocking=True), yb.to(device, non_blocking=True)\n",
    "            optimizer.zero_grad(set_to_none=True)\n",
    "            with amp.autocast(device_type=\"cuda\"):\n",
    "                loss = nn.functional.mse_loss(model(xb), yb)\n",
    "            scaler.scale(loss).backward(); scaler.step(optimizer); scaler.update()\n",
    "\n",
    "    model.eval(); preds, gts = [], []\n",
    "    test_loader = DataLoader(TensorDataset(torch.tensor(X_te_seq), torch.tensor(Y_te_seq)),\n",
    "                             batch_size=BEST_PARAMS['batch_size'], pin_memory=True)\n",
    "\n",
    "    with torch.no_grad(), amp.autocast(device_type='cuda'):\n",
    "        for xb, yb in test_loader:\n",
    "            xb = xb.to(device, non_blocking=True)\n",
    "            preds.append(model(xb).cpu())\n",
    "            gts.append(yb)\n",
    "\n",
    "    if len(preds) == 0 or len(gts) == 0:\n",
    "        print(\"[ERROR] No predictions generated. Check test data preprocessing.\")\n",
    "        sys.exit(1)\n",
    "\n",
    "    y_true = torch.cat(gts).numpy()\n",
    "    y_pred = torch.cat(preds).numpy()\n",
    "    mse = mean_squared_error(y_true, y_pred)\n",
    "    print(f\"\\n[RESULT] Final Test Set MSE: {mse:.6f}\")"
   ]
  },
  {
   "cell_type": "code",
   "execution_count": 7,
   "id": "48f08832-a10c-472b-80bc-4e2fbf18f196",
   "metadata": {},
   "outputs": [
    {
     "name": "stdout",
     "output_type": "stream",
     "text": [
      "[INFO] Multi-output predictions saved to 'final_test_predictions_multioutput.csv'\n"
     ]
    }
   ],
   "source": [
    "# ---------------------- Save Multi-Output Results ---------------------- #\n",
    "maturity_labels = [f\"m{i+1}\" for i in range(y_true.shape[1])]  # e.g., m1, m2, ..., m6\n",
    "\n",
    "# Create column-wise dict\n",
    "results_dict = {\n",
    "    \"date\": Y_test.index[-len(y_true):]  # ensure alignment\n",
    "}\n",
    "\n",
    "# Add true and predicted values for each maturity\n",
    "for i, label in enumerate(maturity_labels):\n",
    "    results_dict[f\"{label}_true\"] = y_true[:, i]\n",
    "    results_dict[f\"{label}_pred\"] = y_pred[:, i]\n",
    "\n",
    "# Convert to DataFrame\n",
    "results_df = pd.DataFrame(results_dict).set_index(\"date\")\n",
    "\n",
    "# Save\n",
    "results_df.to_csv(f\"final_test_predictions_multioutput_H{FORECAST_HORIZON}.csv\")\n",
    "print(\"[INFO] Multi-output predictions saved to 'final_test_predictions_multioutput.csv'\")"
   ]
  }
 ],
 "metadata": {
  "kernelspec": {
   "display_name": "Python3 (ipykernel)",
   "language": "python",
   "name": "python3"
  },
  "language_info": {
   "codemirror_mode": {
    "name": "ipython",
    "version": 3
   },
   "file_extension": ".py",
   "mimetype": "text/x-python",
   "name": "python",
   "nbconvert_exporter": "python",
   "pygments_lexer": "ipython3",
   "version": "3.12.3"
  }
 },
 "nbformat": 4,
 "nbformat_minor": 5
}
