{
 "cells": [
  {
   "cell_type": "code",
   "execution_count": 2,
   "id": "ba3d7190-9c03-4654-89a8-6986aeaad9a0",
   "metadata": {},
   "outputs": [
    {
     "name": "stdout",
     "output_type": "stream",
     "text": [
      "Requirement already satisfied: numpy in /venv/main/lib/python3.12/site-packages (2.1.2)\n",
      "Collecting pandas\n",
      "  Downloading pandas-2.2.3-cp312-cp312-manylinux_2_17_x86_64.manylinux2014_x86_64.whl.metadata (89 kB)\n",
      "\u001B[2K     \u001B[90m━━━━━━━━━━━━━━━━━━━━━━━━━━━━━━━━━━━━━━━━\u001B[0m \u001B[32m89.9/89.9 kB\u001B[0m \u001B[31m2.2 MB/s\u001B[0m eta \u001B[36m0:00:00\u001B[0ma \u001B[36m0:00:01\u001B[0m\n",
      "\u001B[?25hRequirement already satisfied: tqdm in /venv/main/lib/python3.12/site-packages (4.67.1)\n",
      "Requirement already satisfied: torch in /venv/main/lib/python3.12/site-packages (2.7.0+cu128)\n",
      "Collecting scikit-learn\n",
      "  Downloading scikit_learn-1.6.1-cp312-cp312-manylinux_2_17_x86_64.manylinux2014_x86_64.whl.metadata (18 kB)\n",
      "Collecting optuna\n",
      "  Downloading optuna-4.3.0-py3-none-any.whl.metadata (17 kB)\n",
      "Requirement already satisfied: python-dateutil>=2.8.2 in /venv/main/lib/python3.12/site-packages (from pandas) (2.9.0.post0)\n",
      "Collecting pytz>=2020.1 (from pandas)\n",
      "  Downloading pytz-2025.2-py2.py3-none-any.whl.metadata (22 kB)\n",
      "Collecting tzdata>=2022.7 (from pandas)\n",
      "  Downloading tzdata-2025.2-py2.py3-none-any.whl.metadata (1.4 kB)\n",
      "Requirement already satisfied: filelock in /venv/main/lib/python3.12/site-packages (from torch) (3.18.0)\n",
      "Requirement already satisfied: typing-extensions>=4.10.0 in /venv/main/lib/python3.12/site-packages (from torch) (4.13.2)\n",
      "Requirement already satisfied: setuptools in /venv/main/lib/python3.12/site-packages (from torch) (70.2.0)\n",
      "Requirement already satisfied: sympy>=1.13.3 in /venv/main/lib/python3.12/site-packages (from torch) (1.13.3)\n",
      "Requirement already satisfied: networkx in /venv/main/lib/python3.12/site-packages (from torch) (3.3)\n",
      "Requirement already satisfied: jinja2 in /venv/main/lib/python3.12/site-packages (from torch) (3.1.4)\n",
      "Requirement already satisfied: fsspec in /venv/main/lib/python3.12/site-packages (from torch) (2025.3.2)\n",
      "Requirement already satisfied: nvidia-cuda-nvrtc-cu12==12.8.61 in /venv/main/lib/python3.12/site-packages (from torch) (12.8.61)\n",
      "Requirement already satisfied: nvidia-cuda-runtime-cu12==12.8.57 in /venv/main/lib/python3.12/site-packages (from torch) (12.8.57)\n",
      "Requirement already satisfied: nvidia-cuda-cupti-cu12==12.8.57 in /venv/main/lib/python3.12/site-packages (from torch) (12.8.57)\n",
      "Requirement already satisfied: nvidia-cudnn-cu12==9.7.1.26 in /venv/main/lib/python3.12/site-packages (from torch) (9.7.1.26)\n",
      "Requirement already satisfied: nvidia-cublas-cu12==12.8.3.14 in /venv/main/lib/python3.12/site-packages (from torch) (12.8.3.14)\n",
      "Requirement already satisfied: nvidia-cufft-cu12==11.3.3.41 in /venv/main/lib/python3.12/site-packages (from torch) (11.3.3.41)\n",
      "Requirement already satisfied: nvidia-curand-cu12==10.3.9.55 in /venv/main/lib/python3.12/site-packages (from torch) (10.3.9.55)\n",
      "Requirement already satisfied: nvidia-cusolver-cu12==11.7.2.55 in /venv/main/lib/python3.12/site-packages (from torch) (11.7.2.55)\n",
      "Requirement already satisfied: nvidia-cusparse-cu12==12.5.7.53 in /venv/main/lib/python3.12/site-packages (from torch) (12.5.7.53)\n",
      "Requirement already satisfied: nvidia-cusparselt-cu12==0.6.3 in /venv/main/lib/python3.12/site-packages (from torch) (0.6.3)\n",
      "Requirement already satisfied: nvidia-nccl-cu12==2.26.2 in /venv/main/lib/python3.12/site-packages (from torch) (2.26.2)\n",
      "Requirement already satisfied: nvidia-nvtx-cu12==12.8.55 in /venv/main/lib/python3.12/site-packages (from torch) (12.8.55)\n",
      "Requirement already satisfied: nvidia-nvjitlink-cu12==12.8.61 in /venv/main/lib/python3.12/site-packages (from torch) (12.8.61)\n",
      "Requirement already satisfied: nvidia-cufile-cu12==1.13.0.11 in /venv/main/lib/python3.12/site-packages (from torch) (1.13.0.11)\n",
      "Requirement already satisfied: triton==3.3.0 in /venv/main/lib/python3.12/site-packages (from torch) (3.3.0)\n",
      "Collecting scipy>=1.6.0 (from scikit-learn)\n",
      "  Downloading scipy-1.15.3-cp312-cp312-manylinux_2_17_x86_64.manylinux2014_x86_64.whl.metadata (61 kB)\n",
      "\u001B[2K     \u001B[90m━━━━━━━━━━━━━━━━━━━━━━━━━━━━━━━━━━━━━━━━\u001B[0m \u001B[32m62.0/62.0 kB\u001B[0m \u001B[31m10.8 MB/s\u001B[0m eta \u001B[36m0:00:00\u001B[0m\n",
      "\u001B[?25hCollecting joblib>=1.2.0 (from scikit-learn)\n",
      "  Downloading joblib-1.5.0-py3-none-any.whl.metadata (5.6 kB)\n",
      "Collecting threadpoolctl>=3.1.0 (from scikit-learn)\n",
      "  Downloading threadpoolctl-3.6.0-py3-none-any.whl.metadata (13 kB)\n",
      "Collecting alembic>=1.5.0 (from optuna)\n",
      "  Downloading alembic-1.15.2-py3-none-any.whl.metadata (7.3 kB)\n",
      "Collecting colorlog (from optuna)\n",
      "  Downloading colorlog-6.9.0-py3-none-any.whl.metadata (10 kB)\n",
      "Requirement already satisfied: packaging>=20.0 in /venv/main/lib/python3.12/site-packages (from optuna) (25.0)\n",
      "Collecting sqlalchemy>=1.4.2 (from optuna)\n",
      "  Downloading sqlalchemy-2.0.40-cp312-cp312-manylinux_2_17_x86_64.manylinux2014_x86_64.whl.metadata (9.6 kB)\n",
      "Requirement already satisfied: PyYAML in /venv/main/lib/python3.12/site-packages (from optuna) (6.0.2)\n",
      "Collecting Mako (from alembic>=1.5.0->optuna)\n",
      "  Downloading mako-1.3.10-py3-none-any.whl.metadata (2.9 kB)\n",
      "Requirement already satisfied: six>=1.5 in /venv/main/lib/python3.12/site-packages (from python-dateutil>=2.8.2->pandas) (1.17.0)\n",
      "Collecting greenlet>=1 (from sqlalchemy>=1.4.2->optuna)\n",
      "  Downloading greenlet-3.2.2-cp312-cp312-manylinux_2_24_x86_64.manylinux_2_28_x86_64.whl.metadata (4.1 kB)\n",
      "Requirement already satisfied: mpmath<1.4,>=1.1.0 in /venv/main/lib/python3.12/site-packages (from sympy>=1.13.3->torch) (1.3.0)\n",
      "Requirement already satisfied: MarkupSafe>=2.0 in /venv/main/lib/python3.12/site-packages (from jinja2->torch) (2.1.5)\n",
      "Downloading pandas-2.2.3-cp312-cp312-manylinux_2_17_x86_64.manylinux2014_x86_64.whl (12.7 MB)\n",
      "\u001B[2K   \u001B[90m━━━━━━━━━━━━━━━━━━━━━━━━━━━━━━━━━━━━━━━━\u001B[0m \u001B[32m12.7/12.7 MB\u001B[0m \u001B[31m17.0 MB/s\u001B[0m eta \u001B[36m0:00:00\u001B[0m00:01\u001B[0m00:01\u001B[0m\n",
      "\u001B[?25hDownloading scikit_learn-1.6.1-cp312-cp312-manylinux_2_17_x86_64.manylinux2014_x86_64.whl (13.1 MB)\n",
      "\u001B[2K   \u001B[90m━━━━━━━━━━━━━━━━━━━━━━━━━━━━━━━━━━━━━━━━\u001B[0m \u001B[32m13.1/13.1 MB\u001B[0m \u001B[31m35.0 MB/s\u001B[0m eta \u001B[36m0:00:00\u001B[0m00:01\u001B[0m00:01\u001B[0m\n",
      "\u001B[?25hDownloading optuna-4.3.0-py3-none-any.whl (386 kB)\n",
      "\u001B[2K   \u001B[90m━━━━━━━━━━━━━━━━━━━━━━━━━━━━━━━━━━━━━━━━\u001B[0m \u001B[32m386.6/386.6 kB\u001B[0m \u001B[31m56.6 MB/s\u001B[0m eta \u001B[36m0:00:00\u001B[0m\n",
      "\u001B[?25hDownloading alembic-1.15.2-py3-none-any.whl (231 kB)\n",
      "\u001B[2K   \u001B[90m━━━━━━━━━━━━━━━━━━━━━━━━━━━━━━━━━━━━━━━━\u001B[0m \u001B[32m231.9/231.9 kB\u001B[0m \u001B[31m42.4 MB/s\u001B[0m eta \u001B[36m0:00:00\u001B[0m\n",
      "\u001B[?25hDownloading joblib-1.5.0-py3-none-any.whl (307 kB)\n",
      "\u001B[2K   \u001B[90m━━━━━━━━━━━━━━━━━━━━━━━━━━━━━━━━━━━━━━━━\u001B[0m \u001B[32m307.7/307.7 kB\u001B[0m \u001B[31m49.1 MB/s\u001B[0m eta \u001B[36m0:00:00\u001B[0m\n",
      "\u001B[?25hDownloading pytz-2025.2-py2.py3-none-any.whl (509 kB)\n",
      "\u001B[2K   \u001B[90m━━━━━━━━━━━━━━━━━━━━━━━━━━━━━━━━━━━━━━━━\u001B[0m \u001B[32m509.2/509.2 kB\u001B[0m \u001B[31m64.9 MB/s\u001B[0m eta \u001B[36m0:00:00\u001B[0m\n",
      "\u001B[?25hDownloading scipy-1.15.3-cp312-cp312-manylinux_2_17_x86_64.manylinux2014_x86_64.whl (37.3 MB)\n",
      "\u001B[2K   \u001B[90m━━━━━━━━━━━━━━━━━━━━━━━━━━━━━━━━━━━━━━━━\u001B[0m \u001B[32m37.3/37.3 MB\u001B[0m \u001B[31m91.6 MB/s\u001B[0m eta \u001B[36m0:00:00\u001B[0m:00:01\u001B[0m00:01\u001B[0m\n",
      "\u001B[?25hDownloading sqlalchemy-2.0.40-cp312-cp312-manylinux_2_17_x86_64.manylinux2014_x86_64.whl (3.3 MB)\n",
      "\u001B[2K   \u001B[90m━━━━━━━━━━━━━━━━━━━━━━━━━━━━━━━━━━━━━━━━\u001B[0m \u001B[32m3.3/3.3 MB\u001B[0m \u001B[31m115.3 MB/s\u001B[0m eta \u001B[36m0:00:00\u001B[0m\n",
      "\u001B[?25hDownloading threadpoolctl-3.6.0-py3-none-any.whl (18 kB)\n",
      "Downloading tzdata-2025.2-py2.py3-none-any.whl (347 kB)\n",
      "\u001B[2K   \u001B[90m━━━━━━━━━━━━━━━━━━━━━━━━━━━━━━━━━━━━━━━━\u001B[0m \u001B[32m347.8/347.8 kB\u001B[0m \u001B[31m60.3 MB/s\u001B[0m eta \u001B[36m0:00:00\u001B[0m\n",
      "\u001B[?25hDownloading colorlog-6.9.0-py3-none-any.whl (11 kB)\n",
      "Downloading greenlet-3.2.2-cp312-cp312-manylinux_2_24_x86_64.manylinux_2_28_x86_64.whl (603 kB)\n",
      "\u001B[2K   \u001B[90m━━━━━━━━━━━━━━━━━━━━━━━━━━━━━━━━━━━━━━━━\u001B[0m \u001B[32m603.9/603.9 kB\u001B[0m \u001B[31m68.4 MB/s\u001B[0m eta \u001B[36m0:00:00\u001B[0m\n",
      "\u001B[?25hDownloading mako-1.3.10-py3-none-any.whl (78 kB)\n",
      "\u001B[2K   \u001B[90m━━━━━━━━━━━━━━━━━━━━━━━━━━━━━━━━━━━━━━━━\u001B[0m \u001B[32m78.5/78.5 kB\u001B[0m \u001B[31m17.7 MB/s\u001B[0m eta \u001B[36m0:00:00\u001B[0m\n",
      "\u001B[?25hInstalling collected packages: pytz, tzdata, threadpoolctl, scipy, Mako, joblib, greenlet, colorlog, sqlalchemy, scikit-learn, pandas, alembic, optuna\n",
      "Successfully installed Mako-1.3.10 alembic-1.15.2 colorlog-6.9.0 greenlet-3.2.2 joblib-1.5.0 optuna-4.3.0 pandas-2.2.3 pytz-2025.2 scikit-learn-1.6.1 scipy-1.15.3 sqlalchemy-2.0.40 threadpoolctl-3.6.0 tzdata-2025.2\n",
      "Note: you may need to restart the kernel to use updated packages.\n"
     ]
    }
   ],
   "source": [
    "pip install numpy pandas tqdm torch scikit-learn optuna"
   ]
  },
  {
   "cell_type": "code",
   "execution_count": 2,
   "id": "9ca08370-cf0e-4d95-a40d-d0fe372f3306",
   "metadata": {},
   "outputs": [
    {
     "name": "stderr",
     "output_type": "stream",
     "text": [
      "[I 2025-05-13 11:56:40,212] A new study created in memory with name: no-name-3927cc6f-bd77-4fd8-932a-3758f895ceb7\n"
     ]
    },
    {
     "name": "stdout",
     "output_type": "stream",
     "text": [
      "[INFO] Device: cuda\n",
      "  • GPU: NVIDIA H200\n",
      "Generated 6 folds\n",
      "\n"
     ]
    },
    {
     "data": {
      "application/vnd.jupyter.widget-view+json": {
       "model_id": "6f42b95888614d89b3bf08a1a31d7437",
       "version_major": 2,
       "version_minor": 0
      },
      "text/plain": [
       "  0%|          | 0/30 [00:00<?, ?it/s]"
      ]
     },
     "metadata": {},
     "output_type": "display_data"
    },
    {
     "name": "stderr",
     "output_type": "stream",
     "text": [
      "\n",
      "Folds:   0%|          | 0/6 [00:00<?, ?it/s]\u001B[A\n",
      "\u001B[A                                         \n",
      "Folds:   0%|          | 0/6 [00:05<?, ?it/s]\u001B[A\n",
      "Folds:  17%|█▋        | 1/6 [00:05<00:28,  5.74s/it]\u001B[A"
     ]
    },
    {
     "name": "stdout",
     "output_type": "stream",
     "text": [
      "Fold 1 best MSE = 0.2068\n"
     ]
    },
    {
     "name": "stderr",
     "output_type": "stream",
     "text": [
      "\n",
      "\u001B[A                                                 \n",
      "Folds:  17%|█▋        | 1/6 [00:34<00:28,  5.74s/it]\u001B[A\n",
      "Folds:  33%|███▎      | 2/6 [00:34<01:17, 19.49s/it]\u001B[A"
     ]
    },
    {
     "name": "stdout",
     "output_type": "stream",
     "text": [
      "Fold 2 best MSE = 0.0364\n"
     ]
    },
    {
     "name": "stderr",
     "output_type": "stream",
     "text": [
      "\n",
      "\u001B[A                                                 \n",
      "Folds:  33%|███▎      | 2/6 [01:23<01:17, 19.49s/it]\u001B[A\n",
      "Folds:  50%|█████     | 3/6 [01:23<01:38, 32.87s/it]\u001B[A"
     ]
    },
    {
     "name": "stdout",
     "output_type": "stream",
     "text": [
      "Fold 3 best MSE = 0.0493\n"
     ]
    },
    {
     "name": "stderr",
     "output_type": "stream",
     "text": [
      "\n",
      "\u001B[A                                                 \n",
      "Folds:  50%|█████     | 3/6 [02:30<01:38, 32.87s/it]\u001B[A\n",
      "Folds:  67%|██████▋   | 4/6 [02:30<01:32, 46.46s/it]\u001B[A"
     ]
    },
    {
     "name": "stdout",
     "output_type": "stream",
     "text": [
      "Fold 4 best MSE = 0.0107\n"
     ]
    },
    {
     "name": "stderr",
     "output_type": "stream",
     "text": [
      "\n",
      "\u001B[A                                                 \n",
      "Folds:  67%|██████▋   | 4/6 [03:56<01:32, 46.46s/it]\u001B[A\n",
      "Folds:  83%|████████▎ | 5/6 [03:56<01:00, 60.69s/it]\u001B[A"
     ]
    },
    {
     "name": "stdout",
     "output_type": "stream",
     "text": [
      "Fold 5 best MSE = 0.0027\n"
     ]
    },
    {
     "name": "stderr",
     "output_type": "stream",
     "text": [
      "\n",
      "\u001B[A                                                 \n",
      "Folds:  83%|████████▎ | 5/6 [07:56<01:00, 60.69s/it]\u001B[A\n",
      "Folds: 100%|██████████| 6/6 [07:56<00:00, 121.38s/it]\u001B[A\n",
      "                                                     \u001B[A"
     ]
    },
    {
     "name": "stdout",
     "output_type": "stream",
     "text": [
      "Fold 6 best MSE = 0.0321\n",
      "[I 2025-05-13 12:04:36,315] Trial 0 finished with value: 0.05634353787172586 and parameters: {'hidden_dim': 92, 'num_layers': 1, 'dropout': 0.0936111842654619, 'learning_rate': 0.00018408992080552527, 'batch_size': 64, 'epochs': 69}. Best is trial 0 with value: 0.05634353787172586.\n"
     ]
    },
    {
     "name": "stderr",
     "output_type": "stream",
     "text": [
      "\n",
      "Folds:   0%|          | 0/6 [00:00<?, ?it/s]\u001B[A\n",
      "\u001B[A                                         \n",
      "Folds:   0%|          | 0/6 [00:03<?, ?it/s]\u001B[A\n",
      "Folds:  17%|█▋        | 1/6 [00:03<00:17,  3.56s/it]\u001B[A"
     ]
    },
    {
     "name": "stdout",
     "output_type": "stream",
     "text": [
      "Fold 1 best MSE = 0.1932\n"
     ]
    },
    {
     "name": "stderr",
     "output_type": "stream",
     "text": [
      "\n",
      "\u001B[A                                                 \n",
      "Folds:  17%|█▋        | 1/6 [00:24<00:17,  3.56s/it]\u001B[A\n",
      "Folds:  33%|███▎      | 2/6 [00:24<00:55, 13.93s/it]\u001B[A"
     ]
    },
    {
     "name": "stdout",
     "output_type": "stream",
     "text": [
      "Fold 2 best MSE = 0.0399\n"
     ]
    },
    {
     "name": "stderr",
     "output_type": "stream",
     "text": [
      "\n",
      "\u001B[A                                                 \n",
      "Folds:  33%|███▎      | 2/6 [01:00<00:55, 13.93s/it]\u001B[A\n",
      "Folds:  50%|█████     | 3/6 [01:00<01:11, 23.88s/it]\u001B[A"
     ]
    },
    {
     "name": "stdout",
     "output_type": "stream",
     "text": [
      "Fold 3 best MSE = 0.1068\n"
     ]
    },
    {
     "name": "stderr",
     "output_type": "stream",
     "text": [
      "\n",
      "\u001B[A                                                 \n",
      "Folds:  50%|█████     | 3/6 [01:48<01:11, 23.88s/it]\u001B[A\n",
      "Folds:  67%|██████▋   | 4/6 [01:48<01:06, 33.28s/it]\u001B[A"
     ]
    },
    {
     "name": "stdout",
     "output_type": "stream",
     "text": [
      "Fold 4 best MSE = 0.0256\n"
     ]
    },
    {
     "name": "stderr",
     "output_type": "stream",
     "text": [
      "\n",
      "\u001B[A                                                 \n",
      "Folds:  67%|██████▋   | 4/6 [02:46<01:06, 33.28s/it]\u001B[A\n",
      "Folds:  83%|████████▎ | 5/6 [02:46<00:42, 42.48s/it]\u001B[A"
     ]
    },
    {
     "name": "stdout",
     "output_type": "stream",
     "text": [
      "Fold 5 best MSE = 0.0154\n"
     ]
    },
    {
     "name": "stderr",
     "output_type": "stream",
     "text": [
      "\n",
      "\u001B[A                                                 \n",
      "Folds:  83%|████████▎ | 5/6 [03:59<00:42, 42.48s/it]\u001B[A\n",
      "Folds: 100%|██████████| 6/6 [03:59<00:00, 52.55s/it]\u001B[A\n",
      "                                                    \u001B[A"
     ]
    },
    {
     "name": "stdout",
     "output_type": "stream",
     "text": [
      "Fold 6 best MSE = 0.0411\n",
      "[I 2025-05-13 12:08:35,423] Trial 1 finished with value: 0.07033011270686984 and parameters: {'hidden_dim': 35, 'num_layers': 1, 'dropout': 0.10909498032426036, 'learning_rate': 0.0002049268011541737, 'batch_size': 64, 'epochs': 51}. Best is trial 0 with value: 0.05634353787172586.\n"
     ]
    },
    {
     "name": "stderr",
     "output_type": "stream",
     "text": [
      "\n",
      "Folds:   0%|          | 0/6 [00:00<?, ?it/s]\u001B[A\n",
      "\u001B[A                                         \n",
      "Folds:   0%|          | 0/6 [00:16<?, ?it/s]\u001B[A\n",
      "Folds:  17%|█▋        | 1/6 [00:16<01:23, 16.79s/it]\u001B[A"
     ]
    },
    {
     "name": "stdout",
     "output_type": "stream",
     "text": [
      "Fold 1 best MSE = 0.0486\n"
     ]
    },
    {
     "name": "stderr",
     "output_type": "stream",
     "text": [
      "\n",
      "\u001B[A                                                 \n",
      "Folds:  17%|█▋        | 1/6 [00:49<01:23, 16.79s/it]\u001B[A\n",
      "Folds:  33%|███▎      | 2/6 [00:49<01:45, 26.26s/it]\u001B[A"
     ]
    },
    {
     "name": "stdout",
     "output_type": "stream",
     "text": [
      "Fold 2 best MSE = 0.0180\n"
     ]
    },
    {
     "name": "stderr",
     "output_type": "stream",
     "text": [
      "\n",
      "\u001B[A                                                 \n",
      "Folds:  33%|███▎      | 2/6 [01:38<01:45, 26.26s/it]\u001B[A\n",
      "Folds:  50%|█████     | 3/6 [01:38<01:50, 36.67s/it]\u001B[A"
     ]
    },
    {
     "name": "stdout",
     "output_type": "stream",
     "text": [
      "Fold 3 best MSE = 0.0346\n"
     ]
    },
    {
     "name": "stderr",
     "output_type": "stream",
     "text": [
      "\n",
      "\u001B[A                                                 \n",
      "Folds:  50%|█████     | 3/6 [02:26<01:50, 36.67s/it]\u001B[A\n",
      "Folds:  67%|██████▋   | 4/6 [02:26<01:22, 41.20s/it]\u001B[A"
     ]
    },
    {
     "name": "stdout",
     "output_type": "stream",
     "text": [
      "Fold 4 best MSE = 0.0009\n"
     ]
    },
    {
     "name": "stderr",
     "output_type": "stream",
     "text": [
      "\n",
      "\u001B[A                                                 \n",
      "Folds:  67%|██████▋   | 4/6 [03:24<01:22, 41.20s/it]\u001B[A\n",
      "Folds:  83%|████████▎ | 5/6 [03:24<00:47, 47.06s/it]\u001B[A"
     ]
    },
    {
     "name": "stdout",
     "output_type": "stream",
     "text": [
      "Fold 5 best MSE = 0.0006\n"
     ]
    },
    {
     "name": "stderr",
     "output_type": "stream",
     "text": [
      "\n",
      "\u001B[A                                                 \n",
      "Folds:  83%|████████▎ | 5/6 [05:07<00:47, 47.06s/it]\u001B[A\n",
      "Folds: 100%|██████████| 6/6 [05:07<00:00, 66.03s/it]\u001B[A\n",
      "                                                    \u001B[A"
     ]
    },
    {
     "name": "stdout",
     "output_type": "stream",
     "text": [
      "Fold 6 best MSE = 0.0298\n",
      "[I 2025-05-13 12:13:42,659] Trial 2 finished with value: 0.022090455546276644 and parameters: {'hidden_dim': 130, 'num_layers': 3, 'dropout': 0.27364199053022153, 'learning_rate': 0.0021576967455896826, 'batch_size': 128, 'epochs': 41}. Best is trial 2 with value: 0.022090455546276644.\n"
     ]
    },
    {
     "name": "stderr",
     "output_type": "stream",
     "text": [
      "\n",
      "Folds:   0%|          | 0/6 [00:00<?, ?it/s]\u001B[A\n",
      "\u001B[A                                         \n",
      "Folds:   0%|          | 0/6 [00:19<?, ?it/s]\u001B[A\n",
      "Folds:  17%|█▋        | 1/6 [00:19<01:35, 19.15s/it]\u001B[A"
     ]
    },
    {
     "name": "stdout",
     "output_type": "stream",
     "text": [
      "Fold 1 best MSE = 0.0639\n"
     ]
    },
    {
     "name": "stderr",
     "output_type": "stream",
     "text": [
      "\n",
      "\u001B[A                                                 \n",
      "Folds:  17%|█▋        | 1/6 [00:57<01:35, 19.15s/it]\u001B[A\n",
      "Folds:  33%|███▎      | 2/6 [00:57<02:02, 30.71s/it]\u001B[A"
     ]
    },
    {
     "name": "stdout",
     "output_type": "stream",
     "text": [
      "Fold 2 best MSE = 0.0180\n"
     ]
    },
    {
     "name": "stderr",
     "output_type": "stream",
     "text": [
      "\n",
      "\u001B[A                                                 \n",
      "Folds:  33%|███▎      | 2/6 [02:05<02:02, 30.71s/it]\u001B[A\n",
      "Folds:  50%|█████     | 3/6 [02:05<02:22, 47.46s/it]\u001B[A"
     ]
    },
    {
     "name": "stdout",
     "output_type": "stream",
     "text": [
      "Fold 3 best MSE = 0.0348\n"
     ]
    },
    {
     "name": "stderr",
     "output_type": "stream",
     "text": [
      "\n",
      "\u001B[A                                                 \n",
      "Folds:  50%|█████     | 3/6 [03:03<02:22, 47.46s/it]\u001B[A\n",
      "Folds:  67%|██████▋   | 4/6 [03:03<01:43, 51.50s/it]\u001B[A"
     ]
    },
    {
     "name": "stdout",
     "output_type": "stream",
     "text": [
      "Fold 4 best MSE = 0.0009\n"
     ]
    },
    {
     "name": "stderr",
     "output_type": "stream",
     "text": [
      "\n",
      "\u001B[A                                                 \n",
      "Folds:  67%|██████▋   | 4/6 [04:20<01:43, 51.50s/it]\u001B[A\n",
      "Folds:  83%|████████▎ | 5/6 [04:20<01:00, 60.76s/it]\u001B[A"
     ]
    },
    {
     "name": "stdout",
     "output_type": "stream",
     "text": [
      "Fold 5 best MSE = 0.0005\n"
     ]
    },
    {
     "name": "stderr",
     "output_type": "stream",
     "text": [
      "\n",
      "\u001B[A                                                 \n",
      "Folds:  83%|████████▎ | 5/6 [06:54<01:00, 60.76s/it]\u001B[A\n",
      "Folds: 100%|██████████| 6/6 [06:54<00:00, 92.41s/it]\u001B[A\n",
      "                                                    \u001B[A"
     ]
    },
    {
     "name": "stdout",
     "output_type": "stream",
     "text": [
      "Fold 6 best MSE = 0.0298\n",
      "[I 2025-05-13 12:20:36,774] Trial 3 finished with value: 0.024672055878909305 and parameters: {'hidden_dim': 129, 'num_layers': 3, 'dropout': 0.5793792198447356, 'learning_rate': 0.0023628864184236428, 'batch_size': 128, 'epochs': 58}. Best is trial 2 with value: 0.022090455546276644.\n"
     ]
    },
    {
     "name": "stderr",
     "output_type": "stream",
     "text": [
      "\n",
      "Folds:   0%|          | 0/6 [00:00<?, ?it/s]\u001B[A\n",
      "\u001B[A                                         \n",
      "Folds:   0%|          | 0/6 [00:14<?, ?it/s]\u001B[A\n",
      "Folds:  17%|█▋        | 1/6 [00:14<01:12, 14.40s/it]\u001B[A"
     ]
    },
    {
     "name": "stdout",
     "output_type": "stream",
     "text": [
      "Fold 1 best MSE = 0.0300\n"
     ]
    },
    {
     "name": "stderr",
     "output_type": "stream",
     "text": [
      "\n",
      "\u001B[A                                                 \n",
      "Folds:  17%|█▋        | 1/6 [00:41<01:12, 14.40s/it]\u001B[A\n",
      "Folds:  33%|███▎      | 2/6 [00:41<01:26, 21.69s/it]\u001B[A"
     ]
    },
    {
     "name": "stdout",
     "output_type": "stream",
     "text": [
      "Fold 2 best MSE = 0.0183\n"
     ]
    },
    {
     "name": "stderr",
     "output_type": "stream",
     "text": [
      "\n",
      "\u001B[A                                                 \n",
      "Folds:  33%|███▎      | 2/6 [01:12<01:26, 21.69s/it]\u001B[A\n",
      "Folds:  50%|█████     | 3/6 [01:12<01:18, 26.13s/it]\u001B[A"
     ]
    },
    {
     "name": "stdout",
     "output_type": "stream",
     "text": [
      "Fold 3 best MSE = 0.0356\n"
     ]
    },
    {
     "name": "stderr",
     "output_type": "stream",
     "text": [
      "\n",
      "\u001B[A                                                 \n",
      "Folds:  50%|█████     | 3/6 [01:52<01:18, 26.13s/it]\u001B[A\n",
      "Folds:  67%|██████▋   | 4/6 [01:52<01:03, 31.57s/it]\u001B[A"
     ]
    },
    {
     "name": "stdout",
     "output_type": "stream",
     "text": [
      "Fold 4 best MSE = 0.0010\n"
     ]
    },
    {
     "name": "stderr",
     "output_type": "stream",
     "text": [
      "\n",
      "\u001B[A                                                 \n",
      "Folds:  67%|██████▋   | 4/6 [02:39<01:03, 31.57s/it]\u001B[A\n",
      "Folds:  83%|████████▎ | 5/6 [02:39<00:37, 37.31s/it]\u001B[A"
     ]
    },
    {
     "name": "stdout",
     "output_type": "stream",
     "text": [
      "Fold 5 best MSE = 0.0010\n"
     ]
    },
    {
     "name": "stderr",
     "output_type": "stream",
     "text": [
      "\n",
      "\u001B[A                                                 \n",
      "Folds:  83%|████████▎ | 5/6 [03:53<00:37, 37.31s/it]\u001B[A\n",
      "Folds: 100%|██████████| 6/6 [03:53<00:00, 49.45s/it]\u001B[A\n",
      "                                                    \u001B[A"
     ]
    },
    {
     "name": "stdout",
     "output_type": "stream",
     "text": [
      "Fold 6 best MSE = 0.0300\n",
      "[I 2025-05-13 12:24:29,836] Trial 4 finished with value: 0.019297625452357654 and parameters: {'hidden_dim': 51, 'num_layers': 3, 'dropout': 0.15526798896001015, 'learning_rate': 0.0013353819088790589, 'batch_size': 128, 'epochs': 47}. Best is trial 4 with value: 0.019297625452357654.\n"
     ]
    },
    {
     "name": "stderr",
     "output_type": "stream",
     "text": [
      "\n",
      "Folds:   0%|          | 0/6 [00:00<?, ?it/s]\u001B[A\n",
      "\u001B[A                                         \n",
      "Folds:   0%|          | 0/6 [00:23<?, ?it/s]\u001B[A\n",
      "Folds:  17%|█▋        | 1/6 [00:23<01:59, 23.86s/it]\u001B[A"
     ]
    },
    {
     "name": "stdout",
     "output_type": "stream",
     "text": [
      "Fold 1 best MSE = 0.0417\n"
     ]
    },
    {
     "name": "stderr",
     "output_type": "stream",
     "text": [
      "\n",
      "\u001B[A                                                 \n",
      "Folds:  17%|█▋        | 1/6 [00:57<01:59, 23.86s/it]\u001B[A\n",
      "Folds:  33%|███▎      | 2/6 [00:57<01:57, 29.34s/it]\u001B[A"
     ]
    },
    {
     "name": "stdout",
     "output_type": "stream",
     "text": [
      "Fold 2 best MSE = 0.0181\n"
     ]
    },
    {
     "name": "stderr",
     "output_type": "stream",
     "text": [
      "\n",
      "\u001B[A                                                 \n",
      "Folds:  33%|███▎      | 2/6 [02:30<01:57, 29.34s/it]\u001B[A\n",
      "Folds:  50%|█████     | 3/6 [02:30<02:55, 58.41s/it]\u001B[A"
     ]
    },
    {
     "name": "stdout",
     "output_type": "stream",
     "text": [
      "Fold 3 best MSE = 0.0339\n"
     ]
    },
    {
     "name": "stderr",
     "output_type": "stream",
     "text": [
      "\n",
      "\u001B[A                                                 \n",
      "Folds:  50%|█████     | 3/6 [04:02<02:55, 58.41s/it]\u001B[A\n",
      "Folds:  67%|██████▋   | 4/6 [04:02<02:23, 71.72s/it]\u001B[A"
     ]
    },
    {
     "name": "stdout",
     "output_type": "stream",
     "text": [
      "Fold 4 best MSE = 0.0014\n"
     ]
    },
    {
     "name": "stderr",
     "output_type": "stream",
     "text": [
      "\n",
      "\u001B[A                                                 \n",
      "Folds:  67%|██████▋   | 4/6 [05:18<02:23, 71.72s/it]\u001B[A\n",
      "Folds:  83%|████████▎ | 5/6 [05:18<01:13, 73.54s/it]\u001B[A"
     ]
    },
    {
     "name": "stdout",
     "output_type": "stream",
     "text": [
      "Fold 5 best MSE = 0.0006\n"
     ]
    },
    {
     "name": "stderr",
     "output_type": "stream",
     "text": [
      "\n",
      "\u001B[A                                                 \n",
      "Folds:  83%|████████▎ | 5/6 [07:38<01:13, 73.54s/it]\u001B[A\n",
      "Folds: 100%|██████████| 6/6 [07:38<00:00, 96.01s/it]\u001B[A\n",
      "                                                    \u001B[A"
     ]
    },
    {
     "name": "stdout",
     "output_type": "stream",
     "text": [
      "Fold 6 best MSE = 0.0297\n",
      "[I 2025-05-13 12:32:08,458] Trial 5 finished with value: 0.020885084978848074 and parameters: {'hidden_dim': 188, 'num_layers': 2, 'dropout': 0.3587399872866511, 'learning_rate': 0.0036832964384234204, 'batch_size': 64, 'epochs': 53}. Best is trial 4 with value: 0.019297625452357654.\n"
     ]
    },
    {
     "name": "stderr",
     "output_type": "stream",
     "text": [
      "\n",
      "Folds:   0%|          | 0/6 [00:00<?, ?it/s]\u001B[A\n",
      "\u001B[A                                         \n",
      "Folds:   0%|          | 0/6 [00:14<?, ?it/s]\u001B[A\n",
      "Folds:  17%|█▋        | 1/6 [00:14<01:11, 14.33s/it]\u001B[A"
     ]
    },
    {
     "name": "stdout",
     "output_type": "stream",
     "text": [
      "Fold 1 best MSE = 0.0484\n"
     ]
    },
    {
     "name": "stderr",
     "output_type": "stream",
     "text": [
      "\n",
      "\u001B[A                                                 \n",
      "Folds:  17%|█▋        | 1/6 [00:38<01:11, 14.33s/it]\u001B[A\n",
      "Folds:  33%|███▎      | 2/6 [00:38<01:19, 19.83s/it]\u001B[A"
     ]
    },
    {
     "name": "stdout",
     "output_type": "stream",
     "text": [
      "Fold 2 best MSE = 0.0189\n"
     ]
    },
    {
     "name": "stderr",
     "output_type": "stream",
     "text": [
      "\n",
      "\u001B[A                                                 \n",
      "Folds:  33%|███▎      | 2/6 [01:38<01:19, 19.83s/it]\u001B[A\n",
      "Folds:  50%|█████     | 3/6 [01:38<01:55, 38.41s/it]\u001B[A"
     ]
    },
    {
     "name": "stdout",
     "output_type": "stream",
     "text": [
      "Fold 3 best MSE = 0.0365\n"
     ]
    },
    {
     "name": "stderr",
     "output_type": "stream",
     "text": [
      "\n",
      "\u001B[A                                                 \n",
      "Folds:  50%|█████     | 3/6 [02:14<01:55, 38.41s/it]\u001B[A\n",
      "Folds:  67%|██████▋   | 4/6 [02:14<01:14, 37.29s/it]\u001B[A"
     ]
    },
    {
     "name": "stdout",
     "output_type": "stream",
     "text": [
      "Fold 4 best MSE = 0.0015\n"
     ]
    },
    {
     "name": "stderr",
     "output_type": "stream",
     "text": [
      "\n",
      "\u001B[A                                                 \n",
      "Folds:  67%|██████▋   | 4/6 [03:02<01:14, 37.29s/it]\u001B[A\n",
      "Folds:  83%|████████▎ | 5/6 [03:02<00:41, 41.23s/it]\u001B[A"
     ]
    },
    {
     "name": "stdout",
     "output_type": "stream",
     "text": [
      "Fold 5 best MSE = 0.0010\n"
     ]
    },
    {
     "name": "stderr",
     "output_type": "stream",
     "text": [
      "\n",
      "\u001B[A                                                 \n",
      "Folds:  83%|████████▎ | 5/6 [04:38<00:41, 41.23s/it]\u001B[A\n",
      "Folds: 100%|██████████| 6/6 [04:38<00:00, 59.95s/it]\u001B[A\n",
      "                                                    \u001B[A"
     ]
    },
    {
     "name": "stdout",
     "output_type": "stream",
     "text": [
      "Fold 6 best MSE = 0.0297\n",
      "[I 2025-05-13 12:36:47,144] Trial 6 finished with value: 0.02268317361207058 and parameters: {'hidden_dim': 94, 'num_layers': 2, 'dropout': 0.16856070581242846, 'learning_rate': 0.0008356499023325525, 'batch_size': 64, 'epochs': 80}. Best is trial 4 with value: 0.019297625452357654.\n"
     ]
    },
    {
     "name": "stderr",
     "output_type": "stream",
     "text": [
      "\n",
      "Folds:   0%|          | 0/6 [00:00<?, ?it/s]\u001B[A\n",
      "\u001B[A                                         \n",
      "Folds:   0%|          | 0/6 [00:37<?, ?it/s]\u001B[A\n",
      "Folds:  17%|█▋        | 1/6 [00:37<03:05, 37.12s/it]\u001B[A"
     ]
    },
    {
     "name": "stdout",
     "output_type": "stream",
     "text": [
      "Fold 1 best MSE = 0.0289\n"
     ]
    },
    {
     "name": "stderr",
     "output_type": "stream",
     "text": [
      "\n",
      "\u001B[A                                                 \n",
      "Folds:  17%|█▋        | 1/6 [01:50<03:05, 37.12s/it]\u001B[A\n",
      "Folds:  33%|███▎      | 2/6 [01:50<03:53, 58.34s/it]\u001B[A"
     ]
    },
    {
     "name": "stdout",
     "output_type": "stream",
     "text": [
      "Fold 2 best MSE = 0.0181\n"
     ]
    },
    {
     "name": "stderr",
     "output_type": "stream",
     "text": [
      "\n",
      "\u001B[A                                                 \n",
      "Folds:  33%|███▎      | 2/6 [04:27<03:53, 58.34s/it]\u001B[A\n",
      "Folds:  50%|█████     | 3/6 [04:27<05:10, 103.62s/it]\u001B[A"
     ]
    },
    {
     "name": "stdout",
     "output_type": "stream",
     "text": [
      "Fold 3 best MSE = 0.0335\n"
     ]
    },
    {
     "name": "stderr",
     "output_type": "stream",
     "text": [
      "\n",
      "\u001B[A                                                  \n",
      "Folds:  50%|█████     | 3/6 [08:15<05:10, 103.62s/it]\u001B[A\n",
      "Folds:  67%|██████▋   | 4/6 [08:15<05:05, 152.54s/it]\u001B[A"
     ]
    },
    {
     "name": "stdout",
     "output_type": "stream",
     "text": [
      "Fold 4 best MSE = 0.0010\n"
     ]
    },
    {
     "name": "stderr",
     "output_type": "stream",
     "text": [
      "\n",
      "\u001B[A                                                  \n",
      "Folds:  67%|██████▋   | 4/6 [11:09<05:05, 152.54s/it]\u001B[A\n",
      "Folds:  83%|████████▎ | 5/6 [11:09<02:40, 160.30s/it]\u001B[A"
     ]
    },
    {
     "name": "stdout",
     "output_type": "stream",
     "text": [
      "Fold 5 best MSE = 0.0007\n"
     ]
    },
    {
     "name": "stderr",
     "output_type": "stream",
     "text": [
      "\n",
      "\u001B[A                                                  \n",
      "Folds:  83%|████████▎ | 5/6 [16:50<02:40, 160.30s/it]\u001B[A\n",
      "Folds: 100%|██████████| 6/6 [16:50<00:00, 221.77s/it]\u001B[A\n",
      "                                                     \u001B[A"
     ]
    },
    {
     "name": "stdout",
     "output_type": "stream",
     "text": [
      "Fold 6 best MSE = 0.0298\n",
      "[I 2025-05-13 12:53:37,726] Trial 7 finished with value: 0.018670764499499153 and parameters: {'hidden_dim': 156, 'num_layers': 3, 'dropout': 0.4241144063085703, 'learning_rate': 0.001732053535845956, 'batch_size': 32, 'epochs': 44}. Best is trial 7 with value: 0.018670764499499153.\n"
     ]
    },
    {
     "name": "stderr",
     "output_type": "stream",
     "text": [
      "\n",
      "Folds:   0%|          | 0/6 [00:00<?, ?it/s]\u001B[A\n",
      "\u001B[A                                         \n",
      "Folds:   0%|          | 0/6 [00:23<?, ?it/s]\u001B[A\n",
      "Folds:  17%|█▋        | 1/6 [00:23<01:57, 23.48s/it]\u001B[A"
     ]
    },
    {
     "name": "stdout",
     "output_type": "stream",
     "text": [
      "Fold 1 best MSE = 0.1139\n"
     ]
    },
    {
     "name": "stderr",
     "output_type": "stream",
     "text": [
      "\n",
      "\u001B[A                                                 \n",
      "Folds:  17%|█▋        | 1/6 [01:09<01:57, 23.48s/it]\u001B[A\n",
      "Folds:  33%|███▎      | 2/6 [01:09<02:27, 36.96s/it]\u001B[A"
     ]
    },
    {
     "name": "stdout",
     "output_type": "stream",
     "text": [
      "Fold 2 best MSE = 0.0239\n"
     ]
    },
    {
     "name": "stderr",
     "output_type": "stream",
     "text": [
      "\n",
      "\u001B[A                                                 \n",
      "Folds:  50%|█████     | 3/6 [02:39<02:05, 41.84s/it]\u001B[A\n",
      "Folds:  67%|██████▋   | 4/6 [02:39<01:30, 45.07s/it]\u001B[A"
     ]
    },
    {
     "name": "stdout",
     "output_type": "stream",
     "text": [
      "Fold 4 best MSE = 0.0014\n"
     ]
    },
    {
     "name": "stderr",
     "output_type": "stream",
     "text": [
      "\n",
      "\u001B[A                                                 \n",
      "Folds:  67%|██████▋   | 4/6 [03:52<01:30, 45.07s/it]\u001B[A\n",
      "Folds:  83%|████████▎ | 5/6 [03:52<00:55, 55.28s/it]\u001B[A"
     ]
    },
    {
     "name": "stdout",
     "output_type": "stream",
     "text": [
      "Fold 5 best MSE = 0.0009\n"
     ]
    },
    {
     "name": "stderr",
     "output_type": "stream",
     "text": [
      "\n",
      "\u001B[A                                                 \n",
      "Folds:  83%|████████▎ | 5/6 [05:20<00:55, 55.28s/it]\u001B[A\n",
      "Folds: 100%|██████████| 6/6 [05:20<00:00, 66.41s/it]\u001B[A\n",
      "                                                    \u001B[A"
     ]
    },
    {
     "name": "stdout",
     "output_type": "stream",
     "text": [
      "Fold 6 best MSE = 0.0300\n",
      "[I 2025-05-13 13:01:39,339] Trial 11 finished with value: 0.01897050131810829 and parameters: {'hidden_dim': 73, 'num_layers': 3, 'dropout': 0.02855624015246097, 'learning_rate': 0.0011218824307463397, 'batch_size': 32, 'epochs': 46}. Best is trial 7 with value: 0.018670764499499153.\n"
     ]
    },
    {
     "name": "stderr",
     "output_type": "stream",
     "text": [
      "\n",
      "Folds:   0%|          | 0/6 [00:00<?, ?it/s]\u001B[A\n",
      "\u001B[A                                         \n",
      "Folds:   0%|          | 0/6 [00:14<?, ?it/s]\u001B[A\n",
      "Folds:  17%|█▋        | 1/6 [00:14<01:11, 14.22s/it]\u001B[A"
     ]
    },
    {
     "name": "stdout",
     "output_type": "stream",
     "text": [
      "Fold 1 best MSE = 0.0295\n"
     ]
    },
    {
     "name": "stderr",
     "output_type": "stream",
     "text": [
      "\n",
      "\u001B[A                                                 \n",
      "Folds:  33%|███▎      | 2/6 [01:44<01:43, 25.98s/it]\u001B[A\n",
      "Folds:  50%|█████     | 3/6 [01:44<01:59, 39.69s/it]\u001B[A"
     ]
    },
    {
     "name": "stdout",
     "output_type": "stream",
     "text": [
      "Fold 3 best MSE = 0.0350\n"
     ]
    },
    {
     "name": "stderr",
     "output_type": "stream",
     "text": [
      "\n",
      "\u001B[A                                                 \n",
      "Folds:  50%|█████     | 3/6 [02:59<01:59, 39.69s/it]\u001B[A\n",
      "Folds:  67%|██████▋   | 4/6 [02:59<01:47, 53.62s/it]\u001B[A"
     ]
    },
    {
     "name": "stdout",
     "output_type": "stream",
     "text": [
      "Fold 4 best MSE = 0.0015\n"
     ]
    },
    {
     "name": "stderr",
     "output_type": "stream",
     "text": [
      "\n",
      "\u001B[A                                                 \n",
      "Folds:  67%|██████▋   | 4/6 [04:05<01:47, 53.62s/it]\u001B[A\n",
      "Folds:  83%|████████▎ | 5/6 [04:05<00:58, 58.02s/it]\u001B[A"
     ]
    },
    {
     "name": "stdout",
     "output_type": "stream",
     "text": [
      "Fold 5 best MSE = 0.0010\n"
     ]
    },
    {
     "name": "stderr",
     "output_type": "stream",
     "text": [
      "\n",
      "\u001B[A                                                 \n",
      "Folds:  83%|████████▎ | 5/6 [05:33<00:58, 58.02s/it]\u001B[A\n",
      "Folds: 100%|██████████| 6/6 [05:33<00:00, 68.34s/it]\u001B[A\n",
      "                                                    \u001B[A"
     ]
    },
    {
     "name": "stdout",
     "output_type": "stream",
     "text": [
      "Fold 6 best MSE = 0.0300\n",
      "[I 2025-05-13 13:07:13,027] Trial 12 finished with value: 0.019209401740226895 and parameters: {'hidden_dim': 81, 'num_layers': 3, 'dropout': 0.018536163615168397, 'learning_rate': 0.0010065994866629551, 'batch_size': 32, 'epochs': 40}. Best is trial 7 with value: 0.018670764499499153.\n"
     ]
    },
    {
     "name": "stderr",
     "output_type": "stream",
     "text": [
      "\n",
      "Folds:   0%|          | 0/6 [00:00<?, ?it/s]\u001B[A\n",
      "\u001B[A                                         \n",
      "Folds:   0%|          | 0/6 [00:12<?, ?it/s]\u001B[A\n",
      "Folds:  17%|█▋        | 1/6 [00:12<01:02, 12.54s/it]\u001B[A"
     ]
    },
    {
     "name": "stdout",
     "output_type": "stream",
     "text": [
      "Fold 1 best MSE = 0.0608\n"
     ]
    },
    {
     "name": "stderr",
     "output_type": "stream",
     "text": [
      "\n",
      "                                                    \u001B[A"
     ]
    },
    {
     "name": "stdout",
     "output_type": "stream",
     "text": [
      "[I 2025-05-13 13:07:48,792] Trial 13 pruned. \n"
     ]
    },
    {
     "name": "stderr",
     "output_type": "stream",
     "text": [
      "\n",
      "Folds:   0%|          | 0/6 [00:00<?, ?it/s]\u001B[A\n",
      "                                            \u001B[A"
     ]
    },
    {
     "name": "stdout",
     "output_type": "stream",
     "text": [
      "[I 2025-05-13 13:08:35,370] Trial 14 pruned. \n"
     ]
    },
    {
     "name": "stderr",
     "output_type": "stream",
     "text": [
      "\n",
      "Folds:   0%|          | 0/6 [00:00<?, ?it/s]\u001B[A\n",
      "\u001B[A                                         \n",
      "Folds:   0%|          | 0/6 [00:23<?, ?it/s]\u001B[A\n",
      "Folds:  17%|█▋        | 1/6 [00:23<01:57, 23.49s/it]\u001B[A"
     ]
    },
    {
     "name": "stdout",
     "output_type": "stream",
     "text": [
      "Fold 1 best MSE = 0.0252\n"
     ]
    },
    {
     "name": "stderr",
     "output_type": "stream",
     "text": [
      "\n",
      "                                                    \u001B[A"
     ]
    },
    {
     "name": "stdout",
     "output_type": "stream",
     "text": [
      "[I 2025-05-13 13:08:59,877] Trial 15 pruned. \n"
     ]
    },
    {
     "name": "stderr",
     "output_type": "stream",
     "text": [
      "\n",
      "Folds:   0%|          | 0/6 [00:00<?, ?it/s]\u001B[A\n",
      "\u001B[A                                         \n",
      "Folds:   0%|          | 0/6 [00:23<?, ?it/s]\u001B[A\n",
      "Folds:  17%|█▋        | 1/6 [00:23<01:58, 23.80s/it]\u001B[A"
     ]
    },
    {
     "name": "stdout",
     "output_type": "stream",
     "text": [
      "Fold 1 best MSE = 0.0296\n"
     ]
    },
    {
     "name": "stderr",
     "output_type": "stream",
     "text": [
      "\n",
      "                                                    \u001B[A"
     ]
    },
    {
     "name": "stdout",
     "output_type": "stream",
     "text": [
      "[I 2025-05-13 13:09:45,493] Trial 16 pruned. \n"
     ]
    },
    {
     "name": "stderr",
     "output_type": "stream",
     "text": [
      "\n",
      "Folds:   0%|          | 0/6 [00:00<?, ?it/s]\u001B[A\n",
      "                                            \u001B[A"
     ]
    },
    {
     "name": "stdout",
     "output_type": "stream",
     "text": [
      "[I 2025-05-13 13:09:59,067] Trial 17 pruned. \n"
     ]
    },
    {
     "name": "stderr",
     "output_type": "stream",
     "text": [
      "\n",
      "Folds:   0%|          | 0/6 [00:00<?, ?it/s]\u001B[A\n",
      "                                            \u001B[A"
     ]
    },
    {
     "name": "stdout",
     "output_type": "stream",
     "text": [
      "[I 2025-05-13 13:10:34,389] Trial 18 pruned. \n"
     ]
    },
    {
     "name": "stderr",
     "output_type": "stream",
     "text": [
      "\n",
      "Folds:   0%|          | 0/6 [00:00<?, ?it/s]\u001B[A\n",
      "\u001B[A                                         \n",
      "Folds:   0%|          | 0/6 [00:17<?, ?it/s]\u001B[A\n",
      "Folds:  17%|█▋        | 1/6 [00:17<01:28, 17.66s/it]\u001B[A"
     ]
    },
    {
     "name": "stdout",
     "output_type": "stream",
     "text": [
      "Fold 1 best MSE = 0.0991\n"
     ]
    },
    {
     "name": "stderr",
     "output_type": "stream",
     "text": [
      "\n",
      "\u001B[A                                                 \n",
      "Folds:  17%|█▋        | 1/6 [01:12<01:28, 17.66s/it]\u001B[A\n",
      "Folds:  33%|███▎      | 2/6 [01:12<02:37, 39.46s/it]\u001B[A"
     ]
    },
    {
     "name": "stdout",
     "output_type": "stream",
     "text": [
      "Fold 2 best MSE = 0.0198\n"
     ]
    },
    {
     "name": "stderr",
     "output_type": "stream",
     "text": [
      "\n",
      "\u001B[A                                                 \n",
      "Folds:  33%|███▎      | 2/6 [02:46<02:37, 39.46s/it]\u001B[A\n",
      "Folds:  50%|█████     | 3/6 [02:46<03:13, 64.40s/it]\u001B[A"
     ]
    },
    {
     "name": "stdout",
     "output_type": "stream",
     "text": [
      "Fold 3 best MSE = 0.0375\n"
     ]
    },
    {
     "name": "stderr",
     "output_type": "stream",
     "text": [
      "\n",
      "\u001B[A                                                 \n",
      "Folds:  50%|█████     | 3/6 [03:52<03:13, 64.40s/it]\u001B[A\n",
      "Folds:  67%|██████▋   | 4/6 [03:52<02:10, 65.15s/it]\u001B[A"
     ]
    },
    {
     "name": "stdout",
     "output_type": "stream",
     "text": [
      "Fold 4 best MSE = 0.0025\n"
     ]
    },
    {
     "name": "stderr",
     "output_type": "stream",
     "text": [
      "\n",
      "\u001B[A                                                 \n",
      "Folds:  67%|██████▋   | 4/6 [05:53<02:10, 65.15s/it]\u001B[A\n",
      "Folds:  83%|████████▎ | 5/6 [05:53<01:25, 85.25s/it]\u001B[A"
     ]
    },
    {
     "name": "stdout",
     "output_type": "stream",
     "text": [
      "Fold 5 best MSE = 0.0027\n"
     ]
    },
    {
     "name": "stderr",
     "output_type": "stream",
     "text": [
      "\n",
      "\u001B[A                                                 \n",
      "Folds:  83%|████████▎ | 5/6 [07:53<01:25, 85.25s/it]\u001B[A\n",
      "Folds: 100%|██████████| 6/6 [07:53<00:00, 97.07s/it]\u001B[A\n",
      "                                                    \u001B[A"
     ]
    },
    {
     "name": "stdout",
     "output_type": "stream",
     "text": [
      "Fold 6 best MSE = 0.0310\n",
      "[I 2025-05-13 13:18:28,135] Trial 19 finished with value: 0.03209943285522362 and parameters: {'hidden_dim': 107, 'num_layers': 1, 'dropout': 0.3339844782242135, 'learning_rate': 0.00037559230620767353, 'batch_size': 32, 'epochs': 75}. Best is trial 7 with value: 0.018670764499499153.\n"
     ]
    },
    {
     "name": "stderr",
     "output_type": "stream",
     "text": [
      "\n",
      "Folds:   0%|          | 0/6 [00:00<?, ?it/s]\u001B[A\n",
      "\u001B[A                                         \n",
      "Folds:   0%|          | 0/6 [00:16<?, ?it/s]\u001B[A\n",
      "Folds:  17%|█▋        | 1/6 [00:16<01:22, 16.42s/it]\u001B[A"
     ]
    },
    {
     "name": "stdout",
     "output_type": "stream",
     "text": [
      "Fold 1 best MSE = 0.0365\n"
     ]
    },
    {
     "name": "stderr",
     "output_type": "stream",
     "text": [
      "\n",
      "\u001B[A                                                 \n",
      "Folds:  17%|█▋        | 1/6 [00:50<01:22, 16.42s/it]\u001B[A\n",
      "Folds:  33%|███▎      | 2/6 [00:50<01:47, 26.77s/it]\u001B[A"
     ]
    },
    {
     "name": "stdout",
     "output_type": "stream",
     "text": [
      "Fold 2 best MSE = 0.0180\n"
     ]
    },
    {
     "name": "stderr",
     "output_type": "stream",
     "text": [
      "\n",
      "\u001B[A                                                 \n",
      "Folds:  33%|███▎      | 2/6 [01:36<01:47, 26.77s/it]\u001B[A\n",
      "Folds:  50%|█████     | 3/6 [01:36<01:46, 35.45s/it]\u001B[A"
     ]
    },
    {
     "name": "stdout",
     "output_type": "stream",
     "text": [
      "Fold 3 best MSE = 0.0350\n"
     ]
    },
    {
     "name": "stderr",
     "output_type": "stream",
     "text": [
      "\n",
      "\u001B[A                                                 \n",
      "Folds:  50%|█████     | 3/6 [02:48<01:46, 35.45s/it]\u001B[A\n",
      "Folds:  67%|██████▋   | 4/6 [02:48<01:39, 49.85s/it]\u001B[A"
     ]
    },
    {
     "name": "stdout",
     "output_type": "stream",
     "text": [
      "Fold 4 best MSE = 0.0009\n"
     ]
    },
    {
     "name": "stderr",
     "output_type": "stream",
     "text": [
      "\n",
      "\u001B[A                                                 \n",
      "Folds:  67%|██████▋   | 4/6 [04:06<01:39, 49.85s/it]\u001B[A\n",
      "Folds:  83%|████████▎ | 5/6 [04:06<01:00, 60.25s/it]\u001B[A"
     ]
    },
    {
     "name": "stdout",
     "output_type": "stream",
     "text": [
      "Fold 5 best MSE = 0.0005\n"
     ]
    },
    {
     "name": "stderr",
     "output_type": "stream",
     "text": [
      "\n",
      "\u001B[A                                                 \n",
      "Folds:  83%|████████▎ | 5/6 [06:21<01:00, 60.25s/it]\u001B[A\n",
      "Folds: 100%|██████████| 6/6 [06:21<00:00, 85.42s/it]\u001B[A\n",
      "                                                    \u001B[A"
     ]
    },
    {
     "name": "stdout",
     "output_type": "stream",
     "text": [
      "Fold 6 best MSE = 0.0297\n",
      "[I 2025-05-13 13:24:49,346] Trial 20 finished with value: 0.020105815123921882 and parameters: {'hidden_dim': 66, 'num_layers': 3, 'dropout': 0.4180172675910732, 'learning_rate': 0.0010441714346034964, 'batch_size': 32, 'epochs': 56}. Best is trial 7 with value: 0.018670764499499153.\n"
     ]
    },
    {
     "name": "stderr",
     "output_type": "stream",
     "text": [
      "\n",
      "Folds:   0%|          | 0/6 [00:00<?, ?it/s]\u001B[A\n",
      "\u001B[A                                         \n",
      "Folds:   0%|          | 0/6 [00:13<?, ?it/s]\u001B[A\n",
      "Folds:  17%|█▋        | 1/6 [00:13<01:09, 13.83s/it]\u001B[A"
     ]
    },
    {
     "name": "stdout",
     "output_type": "stream",
     "text": [
      "Fold 1 best MSE = 0.0295\n"
     ]
    },
    {
     "name": "stderr",
     "output_type": "stream",
     "text": [
      "\n",
      "                                                    \u001B[A"
     ]
    },
    {
     "name": "stdout",
     "output_type": "stream",
     "text": [
      "[I 2025-05-13 13:25:04,173] Trial 21 pruned. \n"
     ]
    },
    {
     "name": "stderr",
     "output_type": "stream",
     "text": [
      "\n",
      "Folds:   0%|          | 0/6 [00:00<?, ?it/s]\u001B[A\n",
      "\u001B[A                                         \n",
      "Folds:   0%|          | 0/6 [00:14<?, ?it/s]\u001B[A\n",
      "Folds:  17%|█▋        | 1/6 [00:14<01:10, 14.19s/it]\u001B[A"
     ]
    },
    {
     "name": "stdout",
     "output_type": "stream",
     "text": [
      "Fold 1 best MSE = 0.0323\n"
     ]
    },
    {
     "name": "stderr",
     "output_type": "stream",
     "text": [
      "\n",
      "                                                    \u001B[A"
     ]
    },
    {
     "name": "stdout",
     "output_type": "stream",
     "text": [
      "[I 2025-05-13 13:25:40,571] Trial 22 pruned. \n"
     ]
    },
    {
     "name": "stderr",
     "output_type": "stream",
     "text": [
      "\n",
      "Folds:   0%|          | 0/6 [00:00<?, ?it/s]\u001B[A\n",
      "\u001B[A                                         \n",
      "Folds:   0%|          | 0/6 [00:15<?, ?it/s]\u001B[A\n",
      "Folds:  17%|█▋        | 1/6 [00:15<01:15, 15.19s/it]\u001B[A"
     ]
    },
    {
     "name": "stdout",
     "output_type": "stream",
     "text": [
      "Fold 1 best MSE = 0.0271\n"
     ]
    },
    {
     "name": "stderr",
     "output_type": "stream",
     "text": [
      "\n",
      "\u001B[A                                                 \n",
      "Folds:  17%|█▋        | 1/6 [00:51<01:15, 15.19s/it]\u001B[A\n",
      "Folds:  33%|███▎      | 2/6 [00:51<01:51, 27.84s/it]\u001B[A"
     ]
    },
    {
     "name": "stdout",
     "output_type": "stream",
     "text": [
      "Fold 2 best MSE = 0.0179\n"
     ]
    },
    {
     "name": "stderr",
     "output_type": "stream",
     "text": [
      "\n",
      "                                                    \u001B[A"
     ]
    },
    {
     "name": "stdout",
     "output_type": "stream",
     "text": [
      "[I 2025-05-13 13:27:32,584] Trial 23 pruned. \n"
     ]
    },
    {
     "name": "stderr",
     "output_type": "stream",
     "text": [
      "\n",
      "Folds:   0%|          | 0/6 [00:00<?, ?it/s]\u001B[A\n",
      "\u001B[A                                         \n",
      "Folds:   0%|          | 0/6 [00:21<?, ?it/s]\u001B[A\n",
      "Folds:  17%|█▋        | 1/6 [00:21<01:49, 21.88s/it]\u001B[A"
     ]
    },
    {
     "name": "stdout",
     "output_type": "stream",
     "text": [
      "Fold 1 best MSE = 0.0268\n"
     ]
    },
    {
     "name": "stderr",
     "output_type": "stream",
     "text": [
      "\n",
      "\u001B[A                                                 \n",
      "Folds:  17%|█▋        | 1/6 [01:17<01:49, 21.88s/it]\u001B[A\n",
      "Folds:  33%|███▎      | 2/6 [01:17<02:47, 41.89s/it]\u001B[A"
     ]
    },
    {
     "name": "stdout",
     "output_type": "stream",
     "text": [
      "Fold 2 best MSE = 0.0179\n"
     ]
    },
    {
     "name": "stderr",
     "output_type": "stream",
     "text": [
      "\n",
      "\u001B[A                                                 \n",
      "Folds:  33%|███▎      | 2/6 [02:40<02:47, 41.89s/it]\u001B[A\n",
      "Folds:  50%|█████     | 3/6 [02:40<03:01, 60.39s/it]\u001B[A"
     ]
    },
    {
     "name": "stdout",
     "output_type": "stream",
     "text": [
      "Fold 3 best MSE = 0.0344\n"
     ]
    },
    {
     "name": "stderr",
     "output_type": "stream",
     "text": [
      "\n",
      "\u001B[A                                                 \n",
      "Folds:  50%|█████     | 3/6 [03:51<03:01, 60.39s/it]\u001B[A\n",
      "Folds:  67%|██████▋   | 4/6 [03:51<02:09, 64.90s/it]\u001B[A"
     ]
    },
    {
     "name": "stdout",
     "output_type": "stream",
     "text": [
      "Fold 4 best MSE = 0.0011\n"
     ]
    },
    {
     "name": "stderr",
     "output_type": "stream",
     "text": [
      "\n",
      "\u001B[A                                                 \n",
      "Folds:  67%|██████▋   | 4/6 [05:23<02:09, 64.90s/it]\u001B[A\n",
      "Folds:  83%|████████▎ | 5/6 [05:23<01:14, 74.60s/it]\u001B[A"
     ]
    },
    {
     "name": "stdout",
     "output_type": "stream",
     "text": [
      "Fold 5 best MSE = 0.0008\n"
     ]
    },
    {
     "name": "stderr",
     "output_type": "stream",
     "text": [
      "\n",
      "                                                    \u001B[A"
     ]
    },
    {
     "name": "stdout",
     "output_type": "stream",
     "text": [
      "[I 2025-05-13 13:34:03,678] Trial 24 pruned. \n"
     ]
    },
    {
     "name": "stderr",
     "output_type": "stream",
     "text": [
      "\n",
      "Folds:   0%|          | 0/6 [00:00<?, ?it/s]\u001B[A\n",
      "\u001B[A                                         \n",
      "Folds:   0%|          | 0/6 [00:13<?, ?it/s]\u001B[A\n",
      "Folds:  17%|█▋        | 1/6 [00:13<01:08, 13.67s/it]\u001B[A"
     ]
    },
    {
     "name": "stdout",
     "output_type": "stream",
     "text": [
      "Fold 1 best MSE = 0.0394\n"
     ]
    },
    {
     "name": "stderr",
     "output_type": "stream",
     "text": [
      "\n",
      "\u001B[A                                                 \n",
      "Folds:  17%|█▋        | 1/6 [00:54<01:08, 13.67s/it]\u001B[A\n",
      "Folds:  33%|███▎      | 2/6 [00:54<01:57, 29.47s/it]\u001B[A"
     ]
    },
    {
     "name": "stdout",
     "output_type": "stream",
     "text": [
      "Fold 2 best MSE = 0.0184\n"
     ]
    },
    {
     "name": "stderr",
     "output_type": "stream",
     "text": [
      "\n",
      "                                                    \u001B[A"
     ]
    },
    {
     "name": "stdout",
     "output_type": "stream",
     "text": [
      "[I 2025-05-13 13:34:59,569] Trial 25 pruned. \n"
     ]
    },
    {
     "name": "stderr",
     "output_type": "stream",
     "text": [
      "\n",
      "Folds:   0%|          | 0/6 [00:00<?, ?it/s]\u001B[A\n",
      "\u001B[A                                         \n",
      "Folds:   0%|          | 0/6 [00:13<?, ?it/s]\u001B[A\n",
      "Folds:  17%|█▋        | 1/6 [00:13<01:05, 13.09s/it]\u001B[A"
     ]
    },
    {
     "name": "stdout",
     "output_type": "stream",
     "text": [
      "Fold 1 best MSE = 0.0308\n"
     ]
    },
    {
     "name": "stderr",
     "output_type": "stream",
     "text": [
      "\n",
      "\u001B[A                                                 \n",
      "Folds:  17%|█▋        | 1/6 [00:45<01:05, 13.09s/it]\u001B[A\n",
      "Folds:  33%|███▎      | 2/6 [00:45<01:36, 24.21s/it]\u001B[A"
     ]
    },
    {
     "name": "stdout",
     "output_type": "stream",
     "text": [
      "Fold 2 best MSE = 0.0184\n"
     ]
    },
    {
     "name": "stderr",
     "output_type": "stream",
     "text": [
      "\n",
      "\u001B[A                                                 \n",
      "Folds:  33%|███▎      | 2/6 [01:38<01:36, 24.21s/it]\u001B[A\n",
      "Folds:  50%|█████     | 3/6 [01:38<01:52, 37.36s/it]\u001B[A"
     ]
    },
    {
     "name": "stdout",
     "output_type": "stream",
     "text": [
      "Fold 3 best MSE = 0.0348\n"
     ]
    },
    {
     "name": "stderr",
     "output_type": "stream",
     "text": [
      "\n",
      "\u001B[A                                                 \n",
      "Folds:  50%|█████     | 3/6 [02:43<01:52, 37.36s/it]\u001B[A\n",
      "Folds:  67%|██████▋   | 4/6 [02:43<01:37, 48.51s/it]\u001B[A"
     ]
    },
    {
     "name": "stdout",
     "output_type": "stream",
     "text": [
      "Fold 4 best MSE = 0.0010\n"
     ]
    },
    {
     "name": "stderr",
     "output_type": "stream",
     "text": [
      "\n",
      "\u001B[A                                                 \n",
      "Folds:  67%|██████▋   | 4/6 [03:49<01:37, 48.51s/it]\u001B[A\n",
      "Folds:  83%|████████▎ | 5/6 [03:49<00:54, 54.89s/it]\u001B[A"
     ]
    },
    {
     "name": "stdout",
     "output_type": "stream",
     "text": [
      "Fold 5 best MSE = 0.0006\n"
     ]
    },
    {
     "name": "stderr",
     "output_type": "stream",
     "text": [
      "\n",
      "\u001B[A                                                 \n",
      "Folds:  83%|████████▎ | 5/6 [05:42<00:54, 54.89s/it]\u001B[A\n",
      "Folds: 100%|██████████| 6/6 [05:42<00:00, 74.61s/it]\u001B[A\n",
      "                                                    \u001B[A"
     ]
    },
    {
     "name": "stdout",
     "output_type": "stream",
     "text": [
      "Fold 6 best MSE = 0.0298\n",
      "[I 2025-05-13 13:40:42,453] Trial 26 finished with value: 0.01922988099977374 and parameters: {'hidden_dim': 39, 'num_layers': 3, 'dropout': 0.2286653698851398, 'learning_rate': 0.0005209628920999434, 'batch_size': 32, 'epochs': 43}. Best is trial 7 with value: 0.018670764499499153.\n"
     ]
    },
    {
     "name": "stderr",
     "output_type": "stream",
     "text": [
      "\n",
      "Folds:   0%|          | 0/6 [00:00<?, ?it/s]\u001B[A\n",
      "\u001B[A                                         \n",
      "Folds:   0%|          | 0/6 [00:44<?, ?it/s]\u001B[A\n",
      "Folds:  17%|█▋        | 1/6 [00:44<03:43, 44.73s/it]\u001B[A"
     ]
    },
    {
     "name": "stdout",
     "output_type": "stream",
     "text": [
      "Fold 1 best MSE = 0.0263\n"
     ]
    },
    {
     "name": "stderr",
     "output_type": "stream",
     "text": [
      "\n",
      "                                                    \u001B[A"
     ]
    },
    {
     "name": "stdout",
     "output_type": "stream",
     "text": [
      "[I 2025-05-13 13:42:06,396] Trial 27 pruned. \n"
     ]
    },
    {
     "name": "stderr",
     "output_type": "stream",
     "text": [
      "\n",
      "Folds:   0%|          | 0/6 [00:00<?, ?it/s]\u001B[A\n",
      "                                            \u001B[A"
     ]
    },
    {
     "name": "stdout",
     "output_type": "stream",
     "text": [
      "[I 2025-05-13 13:42:12,906] Trial 28 pruned. \n"
     ]
    },
    {
     "name": "stderr",
     "output_type": "stream",
     "text": [
      "\n",
      "Folds:   0%|          | 0/6 [00:00<?, ?it/s]\u001B[A\n",
      "                                            \u001B[A"
     ]
    },
    {
     "name": "stdout",
     "output_type": "stream",
     "text": [
      "[I 2025-05-13 13:42:20,487] Trial 29 pruned. \n",
      "=== Best Trial ===\n",
      "MSE   : 0.018671\n",
      "Params: {'hidden_dim': 156, 'num_layers': 3, 'dropout': 0.4241144063085703, 'learning_rate': 0.001732053535845956, 'batch_size': 32, 'epochs': 44}\n",
      "Total run time: 6340.3 s\n"
     ]
    }
   ],
   "source": [
    "# ==============================================================\n",
    "#  LSTM Regression on Yield‑Curve Δ  |  Optuna (50 trials, h=1)\n",
    "#  • Original loop‑based sequence logic\n",
    "#  • Duplicate‑step warning fixed (unique global_step)\n",
    "#  • Clean output: only final fold MSE shown\n",
    "# ==============================================================\n",
    "\n",
    "# ---------------------- Imports ---------------------- #\n",
    "import os, sys, gc, time, random\n",
    "import numpy as np\n",
    "import pandas as pd\n",
    "from tqdm import tqdm\n",
    "\n",
    "import torch\n",
    "import torch.nn as nn\n",
    "import torch.backends.cudnn as cudnn\n",
    "from torch import amp\n",
    "from torch.utils.data import DataLoader, TensorDataset\n",
    "from sklearn.preprocessing import StandardScaler\n",
    "from sklearn.metrics import mean_squared_error\n",
    "\n",
    "import optuna\n",
    "from optuna.pruners import MedianPruner\n",
    "from optuna.samplers import TPESampler\n",
    "\n",
    "# ---------------------- Reproducibility ---------------------- #\n",
    "RNG_SEED = 42\n",
    "random.seed(RNG_SEED); np.random.seed(RNG_SEED); torch.manual_seed(RNG_SEED)\n",
    "if torch.cuda.is_available():\n",
    "    torch.cuda.manual_seed_all(RNG_SEED)\n",
    "\n",
    "# ---------------------- Device & CuDNN ---------------------- #\n",
    "device = torch.device(\"cuda\" if torch.cuda.is_available() else \"cpu\")\n",
    "print(f\"[INFO] Device: {device}\")\n",
    "if device.type == \"cuda\":\n",
    "    print(f\"  • GPU: {torch.cuda.get_device_name(0)}\")\n",
    "    cudnn.benchmark = True\n",
    "\n",
    "# ---------------------- Config ---------------------- #\n",
    "FORECAST_HORIZON = 1\n",
    "TRIALS           = 30\n",
    "EARLY_STOP       = 20\n",
    "val_window_num_sequences = 504\n",
    "holdout_base            = 756\n",
    "seq_len_map             = {1: 1512}\n",
    "\n",
    "HSPACE = {\n",
    "    \"hidden_dim\"   : (32, 192),\n",
    "    \"num_layers\"   : [1, 2, 3],\n",
    "    \"dropout\"      : (0.0, 0.6),\n",
    "    \"learning_rate\": (1e-4, 5e-3),\n",
    "    \"batch_size\"   : [32, 64, 128],\n",
    "    \"epochs\"       : (40, 80),\n",
    "}\n",
    "\n",
    "# ---------------------- Model ---------------------- #\n",
    "class LSTMRegressor(nn.Module):\n",
    "    def __init__(self, in_dim, hid, layers, out_dim, drop=0.0):\n",
    "        super().__init__()\n",
    "        self.lstm = nn.LSTM(in_dim, hid, layers, batch_first=True,\n",
    "                            dropout=(drop if layers > 1 else 0.0))\n",
    "        self.drop = nn.Dropout(drop)\n",
    "        self.norm = nn.LayerNorm(hid)\n",
    "        self.fc   = nn.Linear(hid, out_dim, bias=False)\n",
    "    def forward(self, x):\n",
    "        _, (hn, _) = self.lstm(x)\n",
    "        return self.fc(self.norm(self.drop(hn[-1])))\n",
    "\n",
    "# ---------------------- Data Utilities ---------------------- #\n",
    "def gen_seq(X_df, Y_fold, seq_len, h):\n",
    "    X_arr = X_df.values.astype(np.float32)\n",
    "    Y_arr = Y_fold.reindex(X_df.index).values.astype(np.float32)\n",
    "    idx   = {ts: i for i, ts in enumerate(X_df.index)}\n",
    "    X_seq, Y_seq = [], []\n",
    "    for t in Y_fold.index:\n",
    "        ti = idx.get(t)\n",
    "        if ti is None:\n",
    "            continue\n",
    "        end = ti - h + 1; start = end - seq_len\n",
    "        if start < 0 or end > len(X_arr):\n",
    "            continue\n",
    "        win = X_arr[start:end]\n",
    "        if win.shape[0] != seq_len or np.isnan(win).any() or not np.isfinite(Y_arr[ti]).all():\n",
    "            continue\n",
    "        X_seq.append(win); Y_seq.append(Y_arr[ti])\n",
    "    return np.asarray(X_seq, np.float32), np.asarray(Y_seq, np.float32)\n",
    "\n",
    "\n",
    "def std_fold(Xtr, Xva):\n",
    "    sc = StandardScaler()\n",
    "    return (\n",
    "        pd.DataFrame(sc.fit_transform(Xtr), index=Xtr.index, columns=Xtr.columns),\n",
    "        pd.DataFrame(sc.transform(Xva),     index=Xva.index, columns=Xva.columns),\n",
    "    )\n",
    "\n",
    "# ---------------------- CV ---------------------- #\n",
    "def expanding_folds(X, Y, h):\n",
    "    seq_len = seq_len_map[h]; total = len(X); min_train = seq_len + h\n",
    "    folds, i = [], min_train\n",
    "    while i + val_window_num_sequences + holdout_base <= total:\n",
    "        vs, ve = i, i + val_window_num_sequences\n",
    "        folds.append({\n",
    "            \"X_tr\": X.iloc[:i].copy(),\n",
    "            \"Y_tr\": Y.iloc[:i].copy(),\n",
    "            \"X_va\": X.iloc[vs - seq_len - h + 1: ve - h].copy(),\n",
    "            \"Y_va\": Y.iloc[vs:ve].copy(),\n",
    "            \"seq_len\": seq_len,\n",
    "        })\n",
    "        i += val_window_num_sequences\n",
    "    return folds\n",
    "\n",
    "# ---------------------- Optuna Objective ---------------------- #\n",
    "def objective(trial, folds):\n",
    "    p = {\n",
    "        \"hid\": trial.suggest_int(\"hidden_dim\", *HSPACE[\"hidden_dim\"]),\n",
    "        \"lay\": trial.suggest_categorical(\"num_layers\", HSPACE[\"num_layers\"]),\n",
    "        \"drp\": trial.suggest_float(\"dropout\", *HSPACE[\"dropout\"]),\n",
    "        \"lr\" : trial.suggest_float(\"learning_rate\", *HSPACE[\"learning_rate\"], log=True),\n",
    "        \"bs\" : trial.suggest_categorical(\"batch_size\", HSPACE[\"batch_size\"]),\n",
    "        \"ep\" : trial.suggest_int(\"epochs\", *HSPACE[\"epochs\"]),\n",
    "    }\n",
    "    scaler = amp.GradScaler(); mse_fold = []\n",
    "\n",
    "    for f_idx, f in enumerate(tqdm(folds, desc=\"Folds\", leave=False)):\n",
    "        Xtr_s, Xva_s = std_fold(f[\"X_tr\"], f[\"X_va\"])\n",
    "        Xtr, Ytr = gen_seq(Xtr_s, f[\"Y_tr\"], f[\"seq_len\"], FORECAST_HORIZON)\n",
    "        Xva, Yva = gen_seq(Xva_s, f[\"Y_va\"], f[\"seq_len\"], FORECAST_HORIZON)\n",
    "        if len(Xtr)==0 or len(Xva)==0:\n",
    "            continue\n",
    "\n",
    "        model = LSTMRegressor(Xtr.shape[2], p[\"hid\"], p[\"lay\"], Ytr.shape[1], p[\"drp\"]).to(device)\n",
    "        opt   = torch.optim.Adam(model.parameters(), lr=p[\"lr\"])\n",
    "        best, pat = np.inf, 0; report_every = max(1, p[\"ep\"]//3)\n",
    "\n",
    "        tr_loader = DataLoader(TensorDataset(torch.tensor(Xtr), torch.tensor(Ytr)), batch_size=p[\"bs\"], shuffle=True, pin_memory=True)\n",
    "        va_loader = DataLoader(TensorDataset(torch.tensor(Xva), torch.tensor(Yva)), batch_size=p[\"bs\"], pin_memory=True)\n",
    "\n",
    "        for epoch in range(p[\"ep\"]):\n",
    "            model.train()\n",
    "            for xb, yb in tr_loader:\n",
    "                xb, yb = xb.to(device, non_blocking=True), yb.to(device, non_blocking=True)\n",
    "                opt.zero_grad(set_to_none=True)\n",
    "                with amp.autocast(device_type='cuda'):\n",
    "                    loss = nn.functional.mse_loss(model(xb), yb)\n",
    "                scaler.scale(loss).backward(); scaler.step(opt); scaler.update()\n",
    "\n",
    "            model.eval(); preds, gts = [], []\n",
    "            with torch.no_grad(), amp.autocast(device_type='cuda'):\n",
    "                for xb, yb in va_loader:\n",
    "                    preds.append(model(xb.to(device, non_blocking=True)).cpu()); gts.append(yb)\n",
    "            mse = mean_squared_error(torch.cat(gts).numpy(), torch.cat(preds).numpy())\n",
    "\n",
    "            global_step = f_idx * p[\"ep\"] + epoch\n",
    "            if epoch % report_every == 0:\n",
    "                trial.report(mse, global_step)\n",
    "                if trial.should_prune():\n",
    "                    raise optuna.TrialPruned()\n",
    "\n",
    "            if mse + 1e-6 < best:\n",
    "                best, pat = mse, 0\n",
    "            else:\n",
    "                pat += 1\n",
    "                if pat >= EARLY_STOP:\n",
    "                    break\n",
    "        tqdm.write(f\"Fold {f_idx+1} best MSE = {best:.4f}\")\n",
    "        mse_fold.append(best)\n",
    "    return np.mean(mse_fold) if mse_fold else np.inf\n",
    "\n",
    "# ---------------------- Main ---------------------- #\n",
    "if __name__ == \"__main__\":\n",
    "    X = pd.read_csv(\"X_df_filtered_shap.csv\", index_col=0, parse_dates=True)\n",
    "    Y = pd.read_csv(\"Y_df_change_1.csv\", index_col=0, parse_dates=True)\n",
    "    folds = expanding_folds(X, Y, FORECAST_HORIZON)\n",
    "    print(f\"Generated {len(folds)} folds\\n\")    \n",
    "\n",
    "    study = optuna.create_study(\n",
    "        direction=\"minimize\",\n",
    "        sampler=TPESampler(seed=RNG_SEED),\n",
    "        pruner=MedianPruner(8, 15)\n",
    "    )\n",
    "\n",
    "    t0 = time.time()\n",
    "    study.optimize(\n",
    "        lambda tr: objective(tr, folds),\n",
    "        n_trials=TRIALS,\n",
    "        n_jobs=1,\n",
    "        show_progress_bar=True\n",
    "    )\n",
    "    dur = time.time() - t0\n",
    "\n",
    "    print(\"=== Best Trial ===\")\n",
    "    print(f\"MSE   : {study.best_value:.6f}\")\n",
    "    print(f\"Params: {study.best_trial.params}\")\n",
    "    print(f\"Total run time: {dur:.1f} s\")"
   ]
  },
  {
   "cell_type": "code",
   "execution_count": 3,
   "id": "117aefa0-6fe3-404a-a5d4-c8f067249a39",
   "metadata": {},
   "outputs": [
    {
     "name": "stdout",
     "output_type": "stream",
     "text": [
      "MSE   : 0.018671\n",
      "Params: {'hidden_dim': 156, 'num_layers': 3, 'dropout': 0.4241144063085703, 'learning_rate': 0.001732053535845956, 'batch_size': 32, 'epochs': 44}\n",
      "Total run time: 6340.3 s\n"
     ]
    }
   ],
   "source": [
    "    print(f\"MSE   : {study.best_value:.6f}\")\n",
    "    print(f\"Params: {study.best_trial.params}\")\n",
    "    print(f\"Total run time: {dur:.1f} s\")"
   ]
  },
  {
   "cell_type": "code",
   "execution_count": 10,
   "id": "bf582293-9367-4a97-9c9a-a7d36095eb49",
   "metadata": {},
   "outputs": [
    {
     "name": "stdout",
     "output_type": "stream",
     "text": [
      "[INFO] Running final model evaluation on test set\n",
      "[DEBUG] It's working\n",
      "\n",
      "[RESULT] Final Test Set MSE: 0.000339\n"
     ]
    }
   ],
   "source": [
    "if __name__ == \"__main__\":\n",
    "\n",
    "    FORECAST_HORIZON = 1\n",
    "    BEST_PARAMS = {\n",
    "        'hidden_dim': 156,\n",
    "        'num_layers': 3,\n",
    "        'dropout': 0.4241144063085703,\n",
    "        'learning_rate': 0.001732053535845956,\n",
    "        'batch_size': 32,\n",
    "        'epochs': 44\n",
    "    }\n",
    "    SEQUENCE_LENGTH = 1512\n",
    "    \n",
    "    print(\"[INFO] Running final model evaluation on test set\")\n",
    "\n",
    "    X = pd.read_csv(\"X_df_filtered_shap.csv\", index_col=0, parse_dates=True)\n",
    "    Y = pd.read_csv(\"Y_df_change_1.csv\", index_col=0, parse_dates=True)\n",
    "\n",
    "    TEST_SIZE = 756             # 3-year hold-out\n",
    "    seq_buffer = SEQUENCE_LENGTH + FORECAST_HORIZON - 1\n",
    "    \n",
    "    X_train = X.iloc[:-TEST_SIZE]\n",
    "    Y_train = Y.iloc[:-TEST_SIZE]\n",
    "    \n",
    "    X_test_start = -TEST_SIZE - seq_buffer   # keep enough context for sequences\n",
    "    X_test = X.iloc[X_test_start:]\n",
    "    Y_test = Y.iloc[-TEST_SIZE:]\n",
    "\n",
    "    sc = StandardScaler()\n",
    "    X_train_std = pd.DataFrame(sc.fit_transform(X_train), index=X_train.index, columns=X_train.columns)\n",
    "    X_test_std  = pd.DataFrame(sc.transform(X_test),     index=X_test.index,  columns=X_test.columns)\n",
    "\n",
    "    X_tr_seq, Y_tr_seq = gen_seq(X_train_std, Y_train, SEQUENCE_LENGTH, FORECAST_HORIZON)\n",
    "    X_te_seq, Y_te_seq = gen_seq(X_test_std,  Y_test,  SEQUENCE_LENGTH, FORECAST_HORIZON)\n",
    "\n",
    "    if len(X_te_seq) == 0 or len(Y_te_seq) == 0:\n",
    "        print(\"[ERROR] No valid test sequences generated. Check alignment or sequence length.\")\n",
    "        sys.exit(1)\n",
    "    else:\n",
    "        print(\"[DEBUG] It's working\")\n",
    "\n",
    "    model = LSTMRegressor(\n",
    "        in_dim=X_tr_seq.shape[2],\n",
    "        hid=BEST_PARAMS['hidden_dim'],\n",
    "        layers=BEST_PARAMS['num_layers'],\n",
    "        out_dim=Y_tr_seq.shape[1],\n",
    "        drop=BEST_PARAMS['dropout']\n",
    "    ).to(device)\n",
    "\n",
    "    optimizer = torch.optim.Adam(model.parameters(), lr=BEST_PARAMS['learning_rate'])\n",
    "    scaler = amp.GradScaler()\n",
    "\n",
    "    train_loader = DataLoader(TensorDataset(torch.tensor(X_tr_seq), torch.tensor(Y_tr_seq)),\n",
    "                              batch_size=BEST_PARAMS['batch_size'], shuffle=True, pin_memory=True)\n",
    "\n",
    "    model.train()\n",
    "    for epoch in range(BEST_PARAMS['epochs']):\n",
    "        for xb, yb in train_loader:\n",
    "            xb, yb = xb.to(device, non_blocking=True), yb.to(device, non_blocking=True)\n",
    "            optimizer.zero_grad(set_to_none=True)\n",
    "            with amp.autocast(device_type=\"cuda\"):\n",
    "                loss = nn.functional.mse_loss(model(xb), yb)\n",
    "            scaler.scale(loss).backward(); scaler.step(optimizer); scaler.update()\n",
    "\n",
    "    model.eval(); preds, gts = [], []\n",
    "    test_loader = DataLoader(TensorDataset(torch.tensor(X_te_seq), torch.tensor(Y_te_seq)),\n",
    "                             batch_size=BEST_PARAMS['batch_size'], pin_memory=True)\n",
    "\n",
    "    with torch.no_grad(), amp.autocast(device_type='cuda'):\n",
    "        for xb, yb in test_loader:\n",
    "            xb = xb.to(device, non_blocking=True)\n",
    "            preds.append(model(xb).cpu())\n",
    "            gts.append(yb)\n",
    "\n",
    "    if len(preds) == 0 or len(gts) == 0:\n",
    "        print(\"[ERROR] No predictions generated. Check test data preprocessing.\")\n",
    "        sys.exit(1)\n",
    "\n",
    "    y_true = torch.cat(gts).numpy()\n",
    "    y_pred = torch.cat(preds).numpy()\n",
    "    mse = mean_squared_error(y_true, y_pred)\n",
    "    print(f\"\\n[RESULT] Final Test Set MSE: {mse:.6f}\")"
   ]
  },
  {
   "cell_type": "code",
   "execution_count": 18,
   "id": "16dcdd34-c742-4fed-a396-4b15ff5b5549",
   "metadata": {},
   "outputs": [
    {
     "name": "stdout",
     "output_type": "stream",
     "text": [
      "[INFO] Multi-output predictions saved to 'final_test_predictions_multioutput.csv'\n"
     ]
    }
   ],
   "source": [
    "# ---------------------- Save Multi-Output Results ---------------------- #\n",
    "maturity_labels = [f\"m{i+1}\" for i in range(y_true.shape[1])]  # e.g., m1, m2, ..., m6\n",
    "\n",
    "# Create column-wise dict\n",
    "results_dict = {\n",
    "    \"date\": Y_test.index[-len(y_true):]  # ensure alignment\n",
    "}\n",
    "\n",
    "# Add true and predicted values for each maturity\n",
    "for i, label in enumerate(maturity_labels):\n",
    "    results_dict[f\"{label}_true\"] = y_true[:, i]\n",
    "    results_dict[f\"{label}_pred\"] = y_pred[:, i]\n",
    "\n",
    "# Convert to DataFrame\n",
    "results_df = pd.DataFrame(results_dict).set_index(\"date\")\n",
    "\n",
    "# Save\n",
    "results_df.to_csv(\"final_test_predictions_multioutput.csv\")\n",
    "print(\"[INFO] Multi-output predictions saved to 'final_test_predictions_multioutput.csv'\")\n"
   ]
  },
  {
   "cell_type": "code",
   "execution_count": 15,
   "id": "3022755c-87d7-4f88-aa45-14a10af63937",
   "metadata": {},
   "outputs": [
    {
     "data": {
      "text/plain": [
       "DatetimeIndex(['2022-04-13', '2022-04-14', '2022-04-15', '2022-04-18',\n",
       "               '2022-04-19', '2022-04-20', '2022-04-21', '2022-04-22',\n",
       "               '2022-04-25', '2022-04-26',\n",
       "               ...\n",
       "               '2025-02-20', '2025-02-21', '2025-02-24', '2025-02-25',\n",
       "               '2025-02-26', '2025-02-27', '2025-02-28', '2025-03-03',\n",
       "               '2025-03-04', '2025-03-05'],\n",
       "              dtype='datetime64[ns]', length=756, freq=None)"
      ]
     },
     "execution_count": 15,
     "metadata": {},
     "output_type": "execute_result"
    }
   ],
   "source": [
    "# ---------------------- Save Results ---------------------- #\n",
    "import os\n",
    "\n",
    "Y_test.index[-len(y_true):]"
   ]
  },
  {
   "cell_type": "code",
   "execution_count": 17,
   "id": "14a511d1-e5c8-4b4a-a9d4-5c23dd3af05b",
   "metadata": {},
   "outputs": [
    {
     "data": {
      "text/plain": [
       "756"
      ]
     },
     "execution_count": 17,
     "metadata": {},
     "output_type": "execute_result"
    }
   ],
   "source": [
    "len(y_true)"
   ]
  },
  {
   "metadata": {
    "ExecuteTime": {
     "end_time": "2025-05-17T14:36:46.892121Z",
     "start_time": "2025-05-17T14:36:39.249436Z"
    }
   },
   "cell_type": "code",
   "source": [
    "import optuna\n",
    "from optuna.visualization import (\n",
    "    plot_parallel_coordinate,\n",
    "    plot_slice,\n",
    "    plot_contour,\n",
    ")\n",
    "\n",
    "# ----------------------------------------------------------------------\n",
    "# Assume you have an existing Optuna Study in memory called `study`\n",
    "# (e.g. from your previous .optimize(...) run)\n",
    "# ----------------------------------------------------------------------\n",
    "\n",
    "# 1. Parallel‐Coordinates Plot\n",
    "#    This shows each trial as a polyline crossing one axis per hyperparameter,\n",
    "#    colored by the objective value.\n",
    "fig_pc = plot_parallel_coordinate(study)\n",
    "fig_pc.show()\n",
    "\n",
    "# 2. Slice Plot\n",
    "#    This shows the relationship between each individual hyperparameter and\n",
    "#    the objective, with one scatter‐and‐density plot per parameter.\n",
    "fig_slice = plot_slice(study)\n",
    "fig_slice.show()\n",
    "\n",
    "# 3. Contour Plot\n",
    "#    This gives a heat‐map style view of pairwise interactions between two\n",
    "#    hyperparameters, colored by the objective value.\n",
    "fig_contour = plot_contour(study)\n",
    "fig_contour.show()\n"
   ],
   "id": "d6d7a2c1815dd665",
   "outputs": [
    {
     "name": "stderr",
     "output_type": "stream",
     "text": [
      "C:\\Users\\azorb\\PycharmProjects\\Predicting the Yield Curve\\.venv\\Lib\\site-packages\\tqdm\\auto.py:21: TqdmWarning: IProgress not found. Please update jupyter and ipywidgets. See https://ipywidgets.readthedocs.io/en/stable/user_install.html\n",
      "  from .autonotebook import tqdm as notebook_tqdm\n"
     ]
    },
    {
     "ename": "NameError",
     "evalue": "name 'study' is not defined",
     "output_type": "error",
     "traceback": [
      "\u001B[31m---------------------------------------------------------------------------\u001B[39m",
      "\u001B[31mNameError\u001B[39m                                 Traceback (most recent call last)",
      "\u001B[36mCell\u001B[39m\u001B[36m \u001B[39m\u001B[32mIn[1]\u001B[39m\u001B[32m, line 16\u001B[39m\n\u001B[32m      2\u001B[39m \u001B[38;5;28;01mfrom\u001B[39;00m\u001B[38;5;250m \u001B[39m\u001B[34;01moptuna\u001B[39;00m\u001B[34;01m.\u001B[39;00m\u001B[34;01mvisualization\u001B[39;00m\u001B[38;5;250m \u001B[39m\u001B[38;5;28;01mimport\u001B[39;00m (\n\u001B[32m      3\u001B[39m     plot_parallel_coordinate,\n\u001B[32m      4\u001B[39m     plot_slice,\n\u001B[32m      5\u001B[39m     plot_contour,\n\u001B[32m      6\u001B[39m )\n\u001B[32m      8\u001B[39m \u001B[38;5;66;03m# ----------------------------------------------------------------------\u001B[39;00m\n\u001B[32m      9\u001B[39m \u001B[38;5;66;03m# Assume you have an existing Optuna Study in memory called `study`\u001B[39;00m\n\u001B[32m     10\u001B[39m \u001B[38;5;66;03m# (e.g. from your previous .optimize(...) run)\u001B[39;00m\n\u001B[32m   (...)\u001B[39m\u001B[32m     14\u001B[39m \u001B[38;5;66;03m#    This shows each trial as a polyline crossing one axis per hyperparameter,\u001B[39;00m\n\u001B[32m     15\u001B[39m \u001B[38;5;66;03m#    colored by the objective value.\u001B[39;00m\n\u001B[32m---> \u001B[39m\u001B[32m16\u001B[39m fig_pc = plot_parallel_coordinate(\u001B[43mstudy\u001B[49m)\n\u001B[32m     17\u001B[39m fig_pc.show()\n\u001B[32m     19\u001B[39m \u001B[38;5;66;03m# 2. Slice Plot\u001B[39;00m\n\u001B[32m     20\u001B[39m \u001B[38;5;66;03m#    This shows the relationship between each individual hyperparameter and\u001B[39;00m\n\u001B[32m     21\u001B[39m \u001B[38;5;66;03m#    the objective, with one scatter‐and‐density plot per parameter.\u001B[39;00m\n",
      "\u001B[31mNameError\u001B[39m: name 'study' is not defined"
     ]
    }
   ],
   "execution_count": 1
  }
 ],
 "metadata": {
  "kernelspec": {
   "display_name": "Python3 (ipykernel)",
   "language": "python",
   "name": "python3"
  },
  "language_info": {
   "codemirror_mode": {
    "name": "ipython",
    "version": 3
   },
   "file_extension": ".py",
   "mimetype": "text/x-python",
   "name": "python",
   "nbconvert_exporter": "python",
   "pygments_lexer": "ipython3",
   "version": "3.12.3"
  }
 },
 "nbformat": 4,
 "nbformat_minor": 5
}
