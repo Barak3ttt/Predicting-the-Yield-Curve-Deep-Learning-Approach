{
 "cells": [
  {
   "cell_type": "code",
   "execution_count": 1,
   "id": "ba3d7190-9c03-4654-89a8-6986aeaad9a0",
   "metadata": {},
   "outputs": [
    {
     "name": "stdout",
     "output_type": "stream",
     "text": [
      "Requirement already satisfied: numpy in /venv/main/lib/python3.12/site-packages (2.1.2)\n",
      "Collecting pandas\n",
      "  Downloading pandas-2.2.3-cp312-cp312-manylinux_2_17_x86_64.manylinux2014_x86_64.whl.metadata (89 kB)\n",
      "\u001b[2K     \u001b[90m━━━━━━━━━━━━━━━━━━━━━━━━━━━━━━━━━━━━━━━━\u001b[0m \u001b[32m89.9/89.9 kB\u001b[0m \u001b[31m9.6 MB/s\u001b[0m eta \u001b[36m0:00:00\u001b[0m\n",
      "\u001b[?25hRequirement already satisfied: tqdm in /venv/main/lib/python3.12/site-packages (4.67.1)\n",
      "Requirement already satisfied: torch in /venv/main/lib/python3.12/site-packages (2.6.0+cu126)\n",
      "Collecting scikit-learn\n",
      "  Downloading scikit_learn-1.6.1-cp312-cp312-manylinux_2_17_x86_64.manylinux2014_x86_64.whl.metadata (18 kB)\n",
      "Collecting optuna\n",
      "  Downloading optuna-4.3.0-py3-none-any.whl.metadata (17 kB)\n",
      "Requirement already satisfied: python-dateutil>=2.8.2 in /venv/main/lib/python3.12/site-packages (from pandas) (2.9.0.post0)\n",
      "Collecting pytz>=2020.1 (from pandas)\n",
      "  Downloading pytz-2025.2-py2.py3-none-any.whl.metadata (22 kB)\n",
      "Collecting tzdata>=2022.7 (from pandas)\n",
      "  Downloading tzdata-2025.2-py2.py3-none-any.whl.metadata (1.4 kB)\n",
      "Requirement already satisfied: filelock in /venv/main/lib/python3.12/site-packages (from torch) (3.18.0)\n",
      "Requirement already satisfied: typing-extensions>=4.10.0 in /venv/main/lib/python3.12/site-packages (from torch) (4.13.2)\n",
      "Requirement already satisfied: setuptools in /venv/main/lib/python3.12/site-packages (from torch) (70.2.0)\n",
      "Requirement already satisfied: sympy==1.13.1 in /venv/main/lib/python3.12/site-packages (from torch) (1.13.1)\n",
      "Requirement already satisfied: networkx in /venv/main/lib/python3.12/site-packages (from torch) (3.3)\n",
      "Requirement already satisfied: jinja2 in /venv/main/lib/python3.12/site-packages (from torch) (3.1.4)\n",
      "Requirement already satisfied: fsspec in /venv/main/lib/python3.12/site-packages (from torch) (2025.3.2)\n",
      "Requirement already satisfied: nvidia-cuda-nvrtc-cu12==12.6.77 in /venv/main/lib/python3.12/site-packages (from torch) (12.6.77)\n",
      "Requirement already satisfied: nvidia-cuda-runtime-cu12==12.6.77 in /venv/main/lib/python3.12/site-packages (from torch) (12.6.77)\n",
      "Requirement already satisfied: nvidia-cuda-cupti-cu12==12.6.80 in /venv/main/lib/python3.12/site-packages (from torch) (12.6.80)\n",
      "Requirement already satisfied: nvidia-cudnn-cu12==9.5.1.17 in /venv/main/lib/python3.12/site-packages (from torch) (9.5.1.17)\n",
      "Requirement already satisfied: nvidia-cublas-cu12==12.6.4.1 in /venv/main/lib/python3.12/site-packages (from torch) (12.6.4.1)\n",
      "Requirement already satisfied: nvidia-cufft-cu12==11.3.0.4 in /venv/main/lib/python3.12/site-packages (from torch) (11.3.0.4)\n",
      "Requirement already satisfied: nvidia-curand-cu12==10.3.7.77 in /venv/main/lib/python3.12/site-packages (from torch) (10.3.7.77)\n",
      "Requirement already satisfied: nvidia-cusolver-cu12==11.7.1.2 in /venv/main/lib/python3.12/site-packages (from torch) (11.7.1.2)\n",
      "Requirement already satisfied: nvidia-cusparse-cu12==12.5.4.2 in /venv/main/lib/python3.12/site-packages (from torch) (12.5.4.2)\n",
      "Requirement already satisfied: nvidia-cusparselt-cu12==0.6.3 in /venv/main/lib/python3.12/site-packages (from torch) (0.6.3)\n",
      "Requirement already satisfied: nvidia-nccl-cu12==2.21.5 in /venv/main/lib/python3.12/site-packages (from torch) (2.21.5)\n",
      "Requirement already satisfied: nvidia-nvtx-cu12==12.6.77 in /venv/main/lib/python3.12/site-packages (from torch) (12.6.77)\n",
      "Requirement already satisfied: nvidia-nvjitlink-cu12==12.6.85 in /venv/main/lib/python3.12/site-packages (from torch) (12.6.85)\n",
      "Requirement already satisfied: triton==3.2.0 in /venv/main/lib/python3.12/site-packages (from torch) (3.2.0)\n",
      "Requirement already satisfied: mpmath<1.4,>=1.1.0 in /venv/main/lib/python3.12/site-packages (from sympy==1.13.1->torch) (1.3.0)\n",
      "Collecting scipy>=1.6.0 (from scikit-learn)\n",
      "  Downloading scipy-1.15.3-cp312-cp312-manylinux_2_17_x86_64.manylinux2014_x86_64.whl.metadata (61 kB)\n",
      "\u001b[2K     \u001b[90m━━━━━━━━━━━━━━━━━━━━━━━━━━━━━━━━━━━━━━━━\u001b[0m \u001b[32m62.0/62.0 kB\u001b[0m \u001b[31m28.9 MB/s\u001b[0m eta \u001b[36m0:00:00\u001b[0m\n",
      "\u001b[?25hCollecting joblib>=1.2.0 (from scikit-learn)\n",
      "  Downloading joblib-1.5.0-py3-none-any.whl.metadata (5.6 kB)\n",
      "Collecting threadpoolctl>=3.1.0 (from scikit-learn)\n",
      "  Downloading threadpoolctl-3.6.0-py3-none-any.whl.metadata (13 kB)\n",
      "Collecting alembic>=1.5.0 (from optuna)\n",
      "  Downloading alembic-1.15.2-py3-none-any.whl.metadata (7.3 kB)\n",
      "Collecting colorlog (from optuna)\n",
      "  Downloading colorlog-6.9.0-py3-none-any.whl.metadata (10 kB)\n",
      "Requirement already satisfied: packaging>=20.0 in /venv/main/lib/python3.12/site-packages (from optuna) (25.0)\n",
      "Collecting sqlalchemy>=1.4.2 (from optuna)\n",
      "  Downloading sqlalchemy-2.0.40-cp312-cp312-manylinux_2_17_x86_64.manylinux2014_x86_64.whl.metadata (9.6 kB)\n",
      "Requirement already satisfied: PyYAML in /venv/main/lib/python3.12/site-packages (from optuna) (6.0.2)\n",
      "Collecting Mako (from alembic>=1.5.0->optuna)\n",
      "  Downloading mako-1.3.10-py3-none-any.whl.metadata (2.9 kB)\n",
      "Requirement already satisfied: six>=1.5 in /venv/main/lib/python3.12/site-packages (from python-dateutil>=2.8.2->pandas) (1.17.0)\n",
      "Collecting greenlet>=1 (from sqlalchemy>=1.4.2->optuna)\n",
      "  Downloading greenlet-3.2.2-cp312-cp312-manylinux_2_24_x86_64.manylinux_2_28_x86_64.whl.metadata (4.1 kB)\n",
      "Requirement already satisfied: MarkupSafe>=2.0 in /venv/main/lib/python3.12/site-packages (from jinja2->torch) (2.1.5)\n",
      "Downloading pandas-2.2.3-cp312-cp312-manylinux_2_17_x86_64.manylinux2014_x86_64.whl (12.7 MB)\n",
      "\u001b[2K   \u001b[90m━━━━━━━━━━━━━━━━━━━━━━━━━━━━━━━━━━━━━━━━\u001b[0m \u001b[32m12.7/12.7 MB\u001b[0m \u001b[31m37.6 MB/s\u001b[0m eta \u001b[36m0:00:00\u001b[0m00:01\u001b[0m00:01\u001b[0m\n",
      "\u001b[?25hDownloading scikit_learn-1.6.1-cp312-cp312-manylinux_2_17_x86_64.manylinux2014_x86_64.whl (13.1 MB)\n",
      "\u001b[2K   \u001b[90m━━━━━━━━━━━━━━━━━━━━━━━━━━━━━━━━━━━━━━━━\u001b[0m \u001b[32m13.1/13.1 MB\u001b[0m \u001b[31m37.7 MB/s\u001b[0m eta \u001b[36m0:00:00\u001b[0ma \u001b[36m0:00:01\u001b[0m\n",
      "\u001b[?25hDownloading optuna-4.3.0-py3-none-any.whl (386 kB)\n",
      "\u001b[2K   \u001b[90m━━━━━━━━━━━━━━━━━━━━━━━━━━━━━━━━━━━━━━━━\u001b[0m \u001b[32m386.6/386.6 kB\u001b[0m \u001b[31m25.3 MB/s\u001b[0m eta \u001b[36m0:00:00\u001b[0m\n",
      "\u001b[?25hDownloading alembic-1.15.2-py3-none-any.whl (231 kB)\n",
      "\u001b[2K   \u001b[90m━━━━━━━━━━━━━━━━━━━━━━━━━━━━━━━━━━━━━━━━\u001b[0m \u001b[32m231.9/231.9 kB\u001b[0m \u001b[31m38.2 MB/s\u001b[0m eta \u001b[36m0:00:00\u001b[0m\n",
      "\u001b[?25hDownloading joblib-1.5.0-py3-none-any.whl (307 kB)\n",
      "\u001b[2K   \u001b[90m━━━━━━━━━━━━━━━━━━━━━━━━━━━━━━━━━━━━━━━━\u001b[0m \u001b[32m307.7/307.7 kB\u001b[0m \u001b[31m42.5 MB/s\u001b[0m eta \u001b[36m0:00:00\u001b[0m\n",
      "\u001b[?25hDownloading pytz-2025.2-py2.py3-none-any.whl (509 kB)\n",
      "\u001b[2K   \u001b[90m━━━━━━━━━━━━━━━━━━━━━━━━━━━━━━━━━━━━━━━━\u001b[0m \u001b[32m509.2/509.2 kB\u001b[0m \u001b[31m43.7 MB/s\u001b[0m eta \u001b[36m0:00:00\u001b[0m\n",
      "\u001b[?25hDownloading scipy-1.15.3-cp312-cp312-manylinux_2_17_x86_64.manylinux2014_x86_64.whl (37.3 MB)\n",
      "\u001b[2K   \u001b[90m━━━━━━━━━━━━━━━━━━━━━━━━━━━━━━━━━━━━━━━━\u001b[0m \u001b[32m37.3/37.3 MB\u001b[0m \u001b[31m36.6 MB/s\u001b[0m eta \u001b[36m0:00:00\u001b[0m00:01\u001b[0m00:01\u001b[0m\n",
      "\u001b[?25hDownloading sqlalchemy-2.0.40-cp312-cp312-manylinux_2_17_x86_64.manylinux2014_x86_64.whl (3.3 MB)\n",
      "\u001b[2K   \u001b[90m━━━━━━━━━━━━━━━━━━━━━━━━━━━━━━━━━━━━━━━━\u001b[0m \u001b[32m3.3/3.3 MB\u001b[0m \u001b[31m36.2 MB/s\u001b[0m eta \u001b[36m0:00:00\u001b[0ma \u001b[36m0:00:01\u001b[0m\n",
      "\u001b[?25hDownloading threadpoolctl-3.6.0-py3-none-any.whl (18 kB)\n",
      "Downloading tzdata-2025.2-py2.py3-none-any.whl (347 kB)\n",
      "\u001b[2K   \u001b[90m━━━━━━━━━━━━━━━━━━━━━━━━━━━━━━━━━━━━━━━━\u001b[0m \u001b[32m347.8/347.8 kB\u001b[0m \u001b[31m41.5 MB/s\u001b[0m eta \u001b[36m0:00:00\u001b[0m\n",
      "\u001b[?25hDownloading colorlog-6.9.0-py3-none-any.whl (11 kB)\n",
      "Downloading greenlet-3.2.2-cp312-cp312-manylinux_2_24_x86_64.manylinux_2_28_x86_64.whl (603 kB)\n",
      "\u001b[2K   \u001b[90m━━━━━━━━━━━━━━━━━━━━━━━━━━━━━━━━━━━━━━━━\u001b[0m \u001b[32m603.9/603.9 kB\u001b[0m \u001b[31m36.6 MB/s\u001b[0m eta \u001b[36m0:00:00\u001b[0m\n",
      "\u001b[?25hDownloading mako-1.3.10-py3-none-any.whl (78 kB)\n",
      "\u001b[2K   \u001b[90m━━━━━━━━━━━━━━━━━━━━━━━━━━━━━━━━━━━━━━━━\u001b[0m \u001b[32m78.5/78.5 kB\u001b[0m \u001b[31m36.1 MB/s\u001b[0m eta \u001b[36m0:00:00\u001b[0m\n",
      "\u001b[?25hInstalling collected packages: pytz, tzdata, threadpoolctl, scipy, Mako, joblib, greenlet, colorlog, sqlalchemy, scikit-learn, pandas, alembic, optuna\n",
      "Successfully installed Mako-1.3.10 alembic-1.15.2 colorlog-6.9.0 greenlet-3.2.2 joblib-1.5.0 optuna-4.3.0 pandas-2.2.3 pytz-2025.2 scikit-learn-1.6.1 scipy-1.15.3 sqlalchemy-2.0.40 threadpoolctl-3.6.0 tzdata-2025.2\n",
      "Note: you may need to restart the kernel to use updated packages.\n"
     ]
    }
   ],
   "source": [
    "pip install numpy pandas tqdm torch scikit-learn optuna"
   ]
  },
  {
   "cell_type": "code",
   "execution_count": 5,
   "id": "9ca08370-cf0e-4d95-a40d-d0fe372f3306",
   "metadata": {},
   "outputs": [
    {
     "name": "stderr",
     "output_type": "stream",
     "text": [
      "[I 2025-05-13 21:36:50,337] A new study created in memory with name: no-name-3d686cc2-0a28-44d1-8aab-ab4ed9d9fdb1\n"
     ]
    },
    {
     "name": "stdout",
     "output_type": "stream",
     "text": [
      "[INFO] Device: cuda\n",
      "  • GPU: NVIDIA H100 80GB HBM3\n",
      "Generated 5 folds\n",
      "\n"
     ]
    },
    {
     "data": {
      "application/vnd.jupyter.widget-view+json": {
       "model_id": "6d7bee87193046b1bd193452198d6c01",
       "version_major": 2,
       "version_minor": 0
      },
      "text/plain": [
       "  0%|          | 0/75 [00:00<?, ?it/s]"
      ]
     },
     "metadata": {},
     "output_type": "display_data"
    },
    {
     "name": "stderr",
     "output_type": "stream",
     "text": [
      "\n",
      "Folds:   0%|          | 0/5 [00:00<?, ?it/s]\u001b[A\n",
      "\u001b[A                                         \n",
      "Folds:   0%|          | 0/5 [00:25<?, ?it/s]\u001b[A\n",
      "Folds:  40%|████      | 2/5 [00:25<00:38, 12.76s/it]\u001b[A"
     ]
    },
    {
     "name": "stdout",
     "output_type": "stream",
     "text": [
      "Fold 2 best MSE = 1.6314\n"
     ]
    },
    {
     "name": "stderr",
     "output_type": "stream",
     "text": [
      "\n",
      "\u001b[A                                                 \n",
      "Folds:  40%|████      | 2/5 [01:37<00:38, 12.76s/it]\u001b[A\n",
      "Folds:  60%|██████    | 3/5 [01:37<01:15, 37.61s/it]\u001b[A"
     ]
    },
    {
     "name": "stdout",
     "output_type": "stream",
     "text": [
      "Fold 3 best MSE = 0.4596\n"
     ]
    },
    {
     "name": "stderr",
     "output_type": "stream",
     "text": [
      "\n",
      "\u001b[A                                                 \n",
      "Folds:  60%|██████    | 3/5 [02:14<01:15, 37.61s/it]\u001b[A\n",
      "Folds:  80%|████████  | 4/5 [02:14<00:37, 37.12s/it]\u001b[A"
     ]
    },
    {
     "name": "stdout",
     "output_type": "stream",
     "text": [
      "Fold 4 best MSE = 8.1141\n"
     ]
    },
    {
     "name": "stderr",
     "output_type": "stream",
     "text": [
      "\n",
      "\u001b[A                                                 \n",
      "Folds:  80%|████████  | 4/5 [02:54<00:37, 37.12s/it]\u001b[A\n",
      "Folds: 100%|██████████| 5/5 [02:54<00:00, 38.29s/it]\u001b[A\n",
      "                                                    \u001b[A"
     ]
    },
    {
     "name": "stdout",
     "output_type": "stream",
     "text": [
      "Fold 5 best MSE = 0.5653\n",
      "[I 2025-05-13 21:39:45,106] Trial 0 finished with value: 2.692591331899166 and parameters: {'hidden_dim': 92, 'num_layers': 1, 'dropout': 0.0936111842654619, 'learning_rate': 0.00018408992080552527, 'batch_size': 64, 'epochs': 69}. Best is trial 0 with value: 2.692591331899166.\n"
     ]
    },
    {
     "name": "stderr",
     "output_type": "stream",
     "text": [
      "\n",
      "Folds:   0%|          | 0/5 [00:00<?, ?it/s]\u001b[A\n",
      "\u001b[A                                         \n",
      "Folds:   0%|          | 0/5 [00:32<?, ?it/s]\u001b[A\n",
      "Folds:  40%|████      | 2/5 [00:32<00:49, 16.47s/it]\u001b[A"
     ]
    },
    {
     "name": "stdout",
     "output_type": "stream",
     "text": [
      "Fold 2 best MSE = 1.4614\n"
     ]
    },
    {
     "name": "stderr",
     "output_type": "stream",
     "text": [
      "\n",
      "\u001b[A                                                 \n",
      "Folds:  40%|████      | 2/5 [01:27<00:49, 16.47s/it]\u001b[A\n",
      "Folds:  60%|██████    | 3/5 [01:27<01:04, 32.49s/it]\u001b[A"
     ]
    },
    {
     "name": "stdout",
     "output_type": "stream",
     "text": [
      "Fold 3 best MSE = 0.3699\n"
     ]
    },
    {
     "name": "stderr",
     "output_type": "stream",
     "text": [
      "\n",
      "\u001b[A                                                 \n",
      "Folds:  60%|██████    | 3/5 [02:14<01:04, 32.49s/it]\u001b[A\n",
      "Folds:  80%|████████  | 4/5 [02:14<00:37, 37.72s/it]\u001b[A"
     ]
    },
    {
     "name": "stdout",
     "output_type": "stream",
     "text": [
      "Fold 4 best MSE = 8.1092\n"
     ]
    },
    {
     "name": "stderr",
     "output_type": "stream",
     "text": [
      "\n",
      "\u001b[A                                                 \n",
      "Folds:  80%|████████  | 4/5 [03:02<00:37, 37.72s/it]\u001b[A\n",
      "Folds: 100%|██████████| 5/5 [03:02<00:00, 41.47s/it]\u001b[A\n",
      "                                                    \u001b[A"
     ]
    },
    {
     "name": "stdout",
     "output_type": "stream",
     "text": [
      "Fold 5 best MSE = 0.2091\n",
      "[I 2025-05-13 21:42:48,031] Trial 1 finished with value: 2.5374038182199 and parameters: {'hidden_dim': 35, 'num_layers': 1, 'dropout': 0.10909498032426036, 'learning_rate': 0.0002049268011541737, 'batch_size': 64, 'epochs': 51}. Best is trial 1 with value: 2.5374038182199.\n"
     ]
    },
    {
     "name": "stderr",
     "output_type": "stream",
     "text": [
      "\n",
      "Folds:   0%|          | 0/5 [00:00<?, ?it/s]\u001b[A\n",
      "\u001b[A                                         \n",
      "Folds:   0%|          | 0/5 [00:14<?, ?it/s]\u001b[A\n",
      "Folds:  40%|████      | 2/5 [00:14<00:22,  7.46s/it]\u001b[A"
     ]
    },
    {
     "name": "stdout",
     "output_type": "stream",
     "text": [
      "Fold 2 best MSE = 1.4746\n"
     ]
    },
    {
     "name": "stderr",
     "output_type": "stream",
     "text": [
      "\n",
      "\u001b[A                                                 \n",
      "Folds:  40%|████      | 2/5 [00:53<00:22,  7.46s/it]\u001b[A\n",
      "Folds:  60%|██████    | 3/5 [00:53<00:41, 20.56s/it]\u001b[A"
     ]
    },
    {
     "name": "stdout",
     "output_type": "stream",
     "text": [
      "Fold 3 best MSE = 0.3375\n"
     ]
    },
    {
     "name": "stderr",
     "output_type": "stream",
     "text": [
      "\n",
      "\u001b[A                                                 \n",
      "Folds:  60%|██████    | 3/5 [01:26<00:41, 20.56s/it]\u001b[A\n",
      "Folds:  80%|████████  | 4/5 [01:26<00:24, 24.91s/it]\u001b[A"
     ]
    },
    {
     "name": "stdout",
     "output_type": "stream",
     "text": [
      "Fold 4 best MSE = 11.6626\n"
     ]
    },
    {
     "name": "stderr",
     "output_type": "stream",
     "text": [
      "\n",
      "\u001b[A                                                 \n",
      "Folds:  80%|████████  | 4/5 [02:11<00:24, 24.91s/it]\u001b[A\n",
      "Folds: 100%|██████████| 5/5 [02:11<00:00, 32.21s/it]\u001b[A\n",
      "                                                    \u001b[A"
     ]
    },
    {
     "name": "stdout",
     "output_type": "stream",
     "text": [
      "Fold 5 best MSE = 0.5852\n",
      "[I 2025-05-13 21:45:00,037] Trial 2 finished with value: 3.5149842724204063 and parameters: {'hidden_dim': 130, 'num_layers': 3, 'dropout': 0.27364199053022153, 'learning_rate': 0.0021576967455896826, 'batch_size': 128, 'epochs': 41}. Best is trial 1 with value: 2.5374038182199.\n"
     ]
    },
    {
     "name": "stderr",
     "output_type": "stream",
     "text": [
      "\n",
      "Folds:   0%|          | 0/5 [00:00<?, ?it/s]\u001b[A\n",
      "\u001b[A                                         \n",
      "Folds:   0%|          | 0/5 [00:16<?, ?it/s]\u001b[A\n",
      "Folds:  40%|████      | 2/5 [00:16<00:24,  8.21s/it]\u001b[A"
     ]
    },
    {
     "name": "stdout",
     "output_type": "stream",
     "text": [
      "Fold 2 best MSE = 1.1875\n"
     ]
    },
    {
     "name": "stderr",
     "output_type": "stream",
     "text": [
      "\n",
      "\u001b[A                                                 \n",
      "Folds:  40%|████      | 2/5 [01:09<00:24,  8.21s/it]\u001b[A\n",
      "Folds:  60%|██████    | 3/5 [01:09<00:54, 27.09s/it]\u001b[A"
     ]
    },
    {
     "name": "stdout",
     "output_type": "stream",
     "text": [
      "Fold 3 best MSE = 0.4416\n"
     ]
    },
    {
     "name": "stderr",
     "output_type": "stream",
     "text": [
      "\n",
      "\u001b[A                                                 \n",
      "Folds:  60%|██████    | 3/5 [01:41<00:54, 27.09s/it]\u001b[A\n",
      "Folds:  80%|████████  | 4/5 [01:41<00:28, 28.92s/it]\u001b[A"
     ]
    },
    {
     "name": "stdout",
     "output_type": "stream",
     "text": [
      "Fold 4 best MSE = 10.4413\n"
     ]
    },
    {
     "name": "stderr",
     "output_type": "stream",
     "text": [
      "\n",
      "\u001b[A                                                 \n",
      "Folds:  80%|████████  | 4/5 [03:04<00:28, 28.92s/it]\u001b[A\n",
      "Folds: 100%|██████████| 5/5 [03:04<00:00, 47.62s/it]\u001b[A\n",
      "                                                    \u001b[A"
     ]
    },
    {
     "name": "stdout",
     "output_type": "stream",
     "text": [
      "Fold 5 best MSE = 0.5851\n",
      "[I 2025-05-13 21:48:04,739] Trial 3 finished with value: 3.1638926342129707 and parameters: {'hidden_dim': 129, 'num_layers': 3, 'dropout': 0.5793792198447356, 'learning_rate': 0.0023628864184236428, 'batch_size': 128, 'epochs': 58}. Best is trial 1 with value: 2.5374038182199.\n"
     ]
    },
    {
     "name": "stderr",
     "output_type": "stream",
     "text": [
      "\n",
      "Folds:   0%|          | 0/5 [00:00<?, ?it/s]\u001b[A\n",
      "\u001b[A                                         \n",
      "Folds:   0%|          | 0/5 [00:18<?, ?it/s]\u001b[A\n",
      "Folds:  40%|████      | 2/5 [00:18<00:27,  9.06s/it]\u001b[A"
     ]
    },
    {
     "name": "stdout",
     "output_type": "stream",
     "text": [
      "Fold 2 best MSE = 1.2442\n"
     ]
    },
    {
     "name": "stderr",
     "output_type": "stream",
     "text": [
      "\n",
      "\u001b[A                                                 \n",
      "Folds:  40%|████      | 2/5 [00:59<00:27,  9.06s/it]\u001b[A\n",
      "Folds:  60%|██████    | 3/5 [00:59<00:45, 22.71s/it]\u001b[A"
     ]
    },
    {
     "name": "stdout",
     "output_type": "stream",
     "text": [
      "Fold 3 best MSE = 0.4607\n"
     ]
    },
    {
     "name": "stderr",
     "output_type": "stream",
     "text": [
      "\n",
      "\u001b[A                                                 \n",
      "Folds:  60%|██████    | 3/5 [01:27<00:45, 22.71s/it]\u001b[A\n",
      "Folds:  80%|████████  | 4/5 [01:27<00:24, 24.45s/it]\u001b[A"
     ]
    },
    {
     "name": "stdout",
     "output_type": "stream",
     "text": [
      "Fold 4 best MSE = 8.6261\n"
     ]
    },
    {
     "name": "stderr",
     "output_type": "stream",
     "text": [
      "\n",
      "\u001b[A                                                 \n",
      "Folds:  80%|████████  | 4/5 [02:05<00:24, 24.45s/it]\u001b[A\n",
      "Folds: 100%|██████████| 5/5 [02:05<00:00, 29.23s/it]\u001b[A\n",
      "                                                    \u001b[A"
     ]
    },
    {
     "name": "stdout",
     "output_type": "stream",
     "text": [
      "Fold 5 best MSE = 0.5978\n",
      "[I 2025-05-13 21:50:10,308] Trial 4 finished with value: 2.7321842238307 and parameters: {'hidden_dim': 51, 'num_layers': 3, 'dropout': 0.15526798896001015, 'learning_rate': 0.0013353819088790589, 'batch_size': 128, 'epochs': 47}. Best is trial 1 with value: 2.5374038182199.\n"
     ]
    },
    {
     "name": "stderr",
     "output_type": "stream",
     "text": [
      "\n",
      "Folds:   0%|          | 0/5 [00:00<?, ?it/s]\u001b[A\n",
      "\u001b[A                                         \n",
      "Folds:   0%|          | 0/5 [00:24<?, ?it/s]\u001b[A\n",
      "Folds:  40%|████      | 2/5 [00:24<00:36, 12.13s/it]\u001b[A"
     ]
    },
    {
     "name": "stdout",
     "output_type": "stream",
     "text": [
      "Fold 2 best MSE = 1.0311\n"
     ]
    },
    {
     "name": "stderr",
     "output_type": "stream",
     "text": [
      "\n",
      "\u001b[A                                                 \n",
      "Folds:  40%|████      | 2/5 [01:27<00:36, 12.13s/it]\u001b[A\n",
      "Folds:  60%|██████    | 3/5 [01:27<01:06, 33.45s/it]\u001b[A"
     ]
    },
    {
     "name": "stdout",
     "output_type": "stream",
     "text": [
      "Fold 3 best MSE = 0.3393\n"
     ]
    },
    {
     "name": "stderr",
     "output_type": "stream",
     "text": [
      "\n",
      "\u001b[A                                                 \n",
      "Folds:  60%|██████    | 3/5 [02:32<01:06, 33.45s/it]\u001b[A\n",
      "Folds:  80%|████████  | 4/5 [02:32<00:45, 45.37s/it]\u001b[A"
     ]
    },
    {
     "name": "stdout",
     "output_type": "stream",
     "text": [
      "Fold 4 best MSE = 21.0456\n"
     ]
    },
    {
     "name": "stderr",
     "output_type": "stream",
     "text": [
      "\n",
      "\u001b[A                                                 \n",
      "Folds:  80%|████████  | 4/5 [03:51<00:45, 45.37s/it]\u001b[A\n",
      "Folds: 100%|██████████| 5/5 [03:51<00:00, 56.89s/it]\u001b[A\n",
      "                                                    \u001b[A"
     ]
    },
    {
     "name": "stdout",
     "output_type": "stream",
     "text": [
      "Fold 5 best MSE = 0.1571\n",
      "[I 2025-05-13 21:54:01,827] Trial 5 finished with value: 5.643290229141712 and parameters: {'hidden_dim': 188, 'num_layers': 2, 'dropout': 0.3587399872866511, 'learning_rate': 0.0036832964384234204, 'batch_size': 64, 'epochs': 53}. Best is trial 1 with value: 2.5374038182199.\n"
     ]
    },
    {
     "name": "stderr",
     "output_type": "stream",
     "text": [
      "\n",
      "Folds:   0%|          | 0/5 [00:00<?, ?it/s]\u001b[A\n",
      "\u001b[A                                         \n",
      "Folds:   0%|          | 0/5 [00:17<?, ?it/s]\u001b[A\n",
      "Folds:  40%|████      | 2/5 [00:17<00:26,  8.72s/it]\u001b[A"
     ]
    },
    {
     "name": "stdout",
     "output_type": "stream",
     "text": [
      "Fold 2 best MSE = 1.5967\n"
     ]
    },
    {
     "name": "stderr",
     "output_type": "stream",
     "text": [
      "\n",
      "\u001b[A                                                 \n",
      "Folds:  40%|████      | 2/5 [01:25<00:26,  8.72s/it]\u001b[A\n",
      "Folds:  60%|██████    | 3/5 [01:25<01:06, 33.34s/it]\u001b[A"
     ]
    },
    {
     "name": "stdout",
     "output_type": "stream",
     "text": [
      "Fold 3 best MSE = 0.3429\n"
     ]
    },
    {
     "name": "stderr",
     "output_type": "stream",
     "text": [
      "\n",
      "\u001b[A                                                 \n",
      "Folds:  60%|██████    | 3/5 [01:57<01:06, 33.34s/it]\u001b[A\n",
      "Folds:  80%|████████  | 4/5 [01:57<00:33, 33.06s/it]\u001b[A"
     ]
    },
    {
     "name": "stdout",
     "output_type": "stream",
     "text": [
      "Fold 4 best MSE = 9.2543\n"
     ]
    },
    {
     "name": "stderr",
     "output_type": "stream",
     "text": [
      "\n",
      "\u001b[A                                                 \n",
      "Folds:  80%|████████  | 4/5 [02:39<00:33, 33.06s/it]\u001b[A\n",
      "Folds: 100%|██████████| 5/5 [02:39<00:00, 36.03s/it]\u001b[A\n",
      "                                                    \u001b[A"
     ]
    },
    {
     "name": "stdout",
     "output_type": "stream",
     "text": [
      "Fold 5 best MSE = 0.8607\n",
      "[I 2025-05-13 21:56:41,319] Trial 6 finished with value: 3.013662226498127 and parameters: {'hidden_dim': 94, 'num_layers': 2, 'dropout': 0.16856070581242846, 'learning_rate': 0.0008356499023325525, 'batch_size': 64, 'epochs': 80}. Best is trial 1 with value: 2.5374038182199.\n"
     ]
    },
    {
     "name": "stderr",
     "output_type": "stream",
     "text": [
      "\n",
      "Folds:   0%|          | 0/5 [00:00<?, ?it/s]\u001b[A\n",
      "\u001b[A                                         \n",
      "Folds:   0%|          | 0/5 [00:43<?, ?it/s]\u001b[A\n",
      "Folds:  40%|████      | 2/5 [00:43<01:05, 21.78s/it]\u001b[A"
     ]
    },
    {
     "name": "stdout",
     "output_type": "stream",
     "text": [
      "Fold 2 best MSE = 1.0817\n"
     ]
    },
    {
     "name": "stderr",
     "output_type": "stream",
     "text": [
      "\n",
      "\u001b[A                                                 \n",
      "Folds:  40%|████      | 2/5 [02:01<01:05, 21.78s/it]\u001b[A\n",
      "Folds:  60%|██████    | 3/5 [02:01<01:30, 45.13s/it]\u001b[A"
     ]
    },
    {
     "name": "stdout",
     "output_type": "stream",
     "text": [
      "Fold 3 best MSE = 0.3922\n"
     ]
    },
    {
     "name": "stderr",
     "output_type": "stream",
     "text": [
      "\n",
      "\u001b[A                                                 \n",
      "Folds:  60%|██████    | 3/5 [03:32<01:30, 45.13s/it]\u001b[A\n",
      "Folds:  80%|████████  | 4/5 [03:32<01:02, 62.15s/it]\u001b[A"
     ]
    },
    {
     "name": "stdout",
     "output_type": "stream",
     "text": [
      "Fold 4 best MSE = 21.6409\n"
     ]
    },
    {
     "name": "stderr",
     "output_type": "stream",
     "text": [
      "\n",
      "\u001b[A                                                 \n",
      "Folds:  80%|████████  | 4/5 [07:46<01:02, 62.15s/it]\u001b[A\n",
      "Folds: 100%|██████████| 5/5 [07:46<00:00, 128.96s/it]\u001b[A\n",
      "                                                     \u001b[A"
     ]
    },
    {
     "name": "stdout",
     "output_type": "stream",
     "text": [
      "Fold 5 best MSE = 0.5946\n",
      "[I 2025-05-13 22:04:27,796] Trial 7 finished with value: 5.927362248301506 and parameters: {'hidden_dim': 156, 'num_layers': 3, 'dropout': 0.4241144063085703, 'learning_rate': 0.001732053535845956, 'batch_size': 32, 'epochs': 44}. Best is trial 1 with value: 2.5374038182199.\n"
     ]
    },
    {
     "name": "stderr",
     "output_type": "stream",
     "text": [
      "\n",
      "Folds:   0%|          | 0/5 [00:00<?, ?it/s]\u001b[A\n",
      "\u001b[A                                         \n",
      "Folds:   0%|          | 0/5 [00:26<?, ?it/s]\u001b[A\n",
      "Folds:  40%|████      | 2/5 [00:26<00:39, 13.04s/it]\u001b[A"
     ]
    },
    {
     "name": "stdout",
     "output_type": "stream",
     "text": [
      "Fold 2 best MSE = 1.2369\n"
     ]
    },
    {
     "name": "stderr",
     "output_type": "stream",
     "text": [
      "\n",
      "\u001b[A                                                 \n",
      "Folds:  40%|████      | 2/5 [00:48<00:39, 13.04s/it]\u001b[A\n",
      "Folds:  60%|██████    | 3/5 [00:48<00:34, 17.03s/it]\u001b[A"
     ]
    },
    {
     "name": "stdout",
     "output_type": "stream",
     "text": [
      "Fold 3 best MSE = 0.3869\n"
     ]
    },
    {
     "name": "stderr",
     "output_type": "stream",
     "text": [
      "\n",
      "\u001b[A                                                 \n",
      "Folds:  60%|██████    | 3/5 [01:20<00:34, 17.03s/it]\u001b[A\n",
      "Folds:  80%|████████  | 4/5 [01:20<00:22, 22.65s/it]\u001b[A"
     ]
    },
    {
     "name": "stdout",
     "output_type": "stream",
     "text": [
      "Fold 4 best MSE = 8.3211\n"
     ]
    },
    {
     "name": "stderr",
     "output_type": "stream",
     "text": [
      "\n",
      "\u001b[A                                                 \n",
      "Folds:  80%|████████  | 4/5 [02:04<00:22, 22.65s/it]\u001b[A\n",
      "Folds: 100%|██████████| 5/5 [02:04<00:00, 30.04s/it]\u001b[A\n",
      "                                                    \u001b[A"
     ]
    },
    {
     "name": "stdout",
     "output_type": "stream",
     "text": [
      "Fold 5 best MSE = 0.6083\n",
      "[I 2025-05-13 22:06:32,532] Trial 8 finished with value: 2.6382987946271896 and parameters: {'hidden_dim': 170, 'num_layers': 1, 'dropout': 0.1865893930293973, 'learning_rate': 0.00035684261232554244, 'batch_size': 128, 'epochs': 59}. Best is trial 1 with value: 2.5374038182199.\n"
     ]
    },
    {
     "name": "stderr",
     "output_type": "stream",
     "text": [
      "\n",
      "Folds:   0%|          | 0/5 [00:00<?, ?it/s]\u001b[A\n",
      "                                            \u001b[A"
     ]
    },
    {
     "name": "stdout",
     "output_type": "stream",
     "text": [
      "[I 2025-05-13 22:06:33,662] Trial 9 pruned. \n"
     ]
    },
    {
     "name": "stderr",
     "output_type": "stream",
     "text": [
      "\n",
      "Folds:   0%|          | 0/5 [00:00<?, ?it/s]\u001b[A\n",
      "                                            \u001b[A"
     ]
    },
    {
     "name": "stdout",
     "output_type": "stream",
     "text": [
      "[I 2025-05-13 22:06:34,364] Trial 10 pruned. \n"
     ]
    },
    {
     "name": "stderr",
     "output_type": "stream",
     "text": [
      "\n",
      "Folds:   0%|          | 0/5 [00:00<?, ?it/s]\u001b[A\n",
      "                                            \u001b[A"
     ]
    },
    {
     "name": "stdout",
     "output_type": "stream",
     "text": [
      "[I 2025-05-13 22:06:34,952] Trial 11 pruned. \n"
     ]
    },
    {
     "name": "stderr",
     "output_type": "stream",
     "text": [
      "\n",
      "Folds:   0%|          | 0/5 [00:00<?, ?it/s]\u001b[A\n",
      "                                            \u001b[A"
     ]
    },
    {
     "name": "stdout",
     "output_type": "stream",
     "text": [
      "[I 2025-05-13 22:06:56,164] Trial 12 pruned. \n"
     ]
    },
    {
     "name": "stderr",
     "output_type": "stream",
     "text": [
      "\n",
      "Folds:   0%|          | 0/5 [00:00<?, ?it/s]\u001b[A\n",
      "\u001b[A                                         \n",
      "Folds:   0%|          | 0/5 [00:25<?, ?it/s]\u001b[A\n",
      "Folds:  40%|████      | 2/5 [00:25<00:38, 12.89s/it]\u001b[A"
     ]
    },
    {
     "name": "stdout",
     "output_type": "stream",
     "text": [
      "Fold 2 best MSE = 1.5688\n"
     ]
    },
    {
     "name": "stderr",
     "output_type": "stream",
     "text": [
      "\n",
      "                                                    \u001b[A"
     ]
    },
    {
     "name": "stdout",
     "output_type": "stream",
     "text": [
      "[I 2025-05-13 22:07:23,255] Trial 13 pruned. \n"
     ]
    },
    {
     "name": "stderr",
     "output_type": "stream",
     "text": [
      "\n",
      "Folds:   0%|          | 0/5 [00:00<?, ?it/s]\u001b[A\n",
      "                                            \u001b[A"
     ]
    },
    {
     "name": "stdout",
     "output_type": "stream",
     "text": [
      "[I 2025-05-13 22:07:24,569] Trial 14 pruned. \n"
     ]
    },
    {
     "name": "stderr",
     "output_type": "stream",
     "text": [
      "\n",
      "Folds:   0%|          | 0/5 [00:00<?, ?it/s]\u001b[A\n",
      "\u001b[A                                         \n",
      "Folds:   0%|          | 0/5 [00:30<?, ?it/s]\u001b[A\n",
      "Folds:  40%|████      | 2/5 [00:30<00:45, 15.09s/it]\u001b[A"
     ]
    },
    {
     "name": "stdout",
     "output_type": "stream",
     "text": [
      "Fold 2 best MSE = 1.4649\n"
     ]
    },
    {
     "name": "stderr",
     "output_type": "stream",
     "text": [
      "\n",
      "\u001b[A                                                 \n",
      "Folds:  40%|████      | 2/5 [01:36<00:45, 15.09s/it]\u001b[A\n",
      "Folds:  60%|██████    | 3/5 [01:36<01:13, 36.63s/it]\u001b[A"
     ]
    },
    {
     "name": "stdout",
     "output_type": "stream",
     "text": [
      "Fold 3 best MSE = 0.3371\n"
     ]
    },
    {
     "name": "stderr",
     "output_type": "stream",
     "text": [
      "\n",
      "\u001b[A                                                 \n",
      "Folds:  60%|██████    | 3/5 [02:10<01:13, 36.63s/it]\u001b[A\n",
      "Folds:  80%|████████  | 4/5 [02:10<00:35, 35.51s/it]\u001b[A"
     ]
    },
    {
     "name": "stdout",
     "output_type": "stream",
     "text": [
      "Fold 4 best MSE = 8.3114\n"
     ]
    },
    {
     "name": "stderr",
     "output_type": "stream",
     "text": [
      "\n",
      "\u001b[A                                                 \n",
      "Folds:  80%|████████  | 4/5 [02:52<00:35, 35.51s/it]\u001b[A\n",
      "Folds: 100%|██████████| 5/5 [02:52<00:00, 37.76s/it]\u001b[A\n",
      "                                                    \u001b[A"
     ]
    },
    {
     "name": "stdout",
     "output_type": "stream",
     "text": [
      "Fold 5 best MSE = 0.8075\n",
      "[I 2025-05-13 22:10:17,212] Trial 15 finished with value: 2.7302504032850266 and parameters: {'hidden_dim': 71, 'num_layers': 1, 'dropout': 0.234230813266048, 'learning_rate': 0.0005674717306853513, 'batch_size': 64, 'epochs': 63}. Best is trial 1 with value: 2.5374038182199.\n"
     ]
    },
    {
     "name": "stderr",
     "output_type": "stream",
     "text": [
      "\n",
      "Folds:   0%|          | 0/5 [00:00<?, ?it/s]\u001b[A\n",
      "                                            \u001b[A"
     ]
    },
    {
     "name": "stdout",
     "output_type": "stream",
     "text": [
      "[I 2025-05-13 22:10:41,572] Trial 16 pruned. \n"
     ]
    },
    {
     "name": "stderr",
     "output_type": "stream",
     "text": [
      "\n",
      "Folds:   0%|          | 0/5 [00:00<?, ?it/s]\u001b[A\n",
      "                                            \u001b[A"
     ]
    },
    {
     "name": "stdout",
     "output_type": "stream",
     "text": [
      "[I 2025-05-13 22:10:42,084] Trial 17 pruned. \n"
     ]
    },
    {
     "name": "stderr",
     "output_type": "stream",
     "text": [
      "\n",
      "Folds:   0%|          | 0/5 [00:00<?, ?it/s]\u001b[A\n",
      "                                            \u001b[A"
     ]
    },
    {
     "name": "stdout",
     "output_type": "stream",
     "text": [
      "[I 2025-05-13 22:11:05,856] Trial 18 pruned. \n"
     ]
    },
    {
     "name": "stderr",
     "output_type": "stream",
     "text": [
      "\n",
      "Folds:   0%|          | 0/5 [00:00<?, ?it/s]\u001b[A\n",
      "\u001b[A                                         \n",
      "Folds:   0%|          | 0/5 [00:32<?, ?it/s]\u001b[A\n",
      "Folds:  40%|████      | 2/5 [00:33<00:49, 16.50s/it]\u001b[A"
     ]
    },
    {
     "name": "stdout",
     "output_type": "stream",
     "text": [
      "Fold 2 best MSE = 1.7751\n"
     ]
    },
    {
     "name": "stderr",
     "output_type": "stream",
     "text": [
      "\n",
      "\u001b[A                                                 \n",
      "Folds:  40%|████      | 2/5 [01:59<00:49, 16.50s/it]\u001b[A\n",
      "Folds:  60%|██████    | 3/5 [01:59<01:31, 45.79s/it]\u001b[A"
     ]
    },
    {
     "name": "stdout",
     "output_type": "stream",
     "text": [
      "Fold 3 best MSE = 0.3777\n"
     ]
    },
    {
     "name": "stderr",
     "output_type": "stream",
     "text": [
      "\n",
      "\u001b[A                                                 \n",
      "Folds:  60%|██████    | 3/5 [02:51<01:31, 45.79s/it]\u001b[A\n",
      "Folds:  80%|████████  | 4/5 [02:51<00:47, 47.99s/it]\u001b[A"
     ]
    },
    {
     "name": "stdout",
     "output_type": "stream",
     "text": [
      "Fold 4 best MSE = 8.5030\n"
     ]
    },
    {
     "name": "stderr",
     "output_type": "stream",
     "text": [
      "\n",
      "\u001b[A                                                 \n",
      "Folds:  80%|████████  | 4/5 [04:00<00:47, 47.99s/it]\u001b[A\n",
      "Folds: 100%|██████████| 5/5 [04:00<00:00, 55.26s/it]\u001b[A\n",
      "                                                    \u001b[A"
     ]
    },
    {
     "name": "stdout",
     "output_type": "stream",
     "text": [
      "Fold 5 best MSE = 1.0494\n",
      "[I 2025-05-13 22:15:06,310] Trial 19 finished with value: 2.9263038262724876 and parameters: {'hidden_dim': 107, 'num_layers': 2, 'dropout': 0.07432130251385269, 'learning_rate': 0.00024677295740564465, 'batch_size': 32, 'epochs': 48}. Best is trial 1 with value: 2.5374038182199.\n"
     ]
    },
    {
     "name": "stderr",
     "output_type": "stream",
     "text": [
      "\n",
      "Folds:   0%|          | 0/5 [00:00<?, ?it/s]\u001b[A\n",
      "\u001b[A                                         \n",
      "Folds:   0%|          | 0/5 [00:17<?, ?it/s]\u001b[A\n",
      "Folds:  40%|████      | 2/5 [00:17<00:26,  8.69s/it]\u001b[A"
     ]
    },
    {
     "name": "stdout",
     "output_type": "stream",
     "text": [
      "Fold 2 best MSE = 1.3848\n"
     ]
    },
    {
     "name": "stderr",
     "output_type": "stream",
     "text": [
      "\n",
      "                                                    \u001b[A"
     ]
    },
    {
     "name": "stdout",
     "output_type": "stream",
     "text": [
      "[I 2025-05-13 22:15:24,786] Trial 20 pruned. \n"
     ]
    },
    {
     "name": "stderr",
     "output_type": "stream",
     "text": [
      "\n",
      "Folds:   0%|          | 0/5 [00:00<?, ?it/s]\u001b[A\n",
      "                                            \u001b[A"
     ]
    },
    {
     "name": "stdout",
     "output_type": "stream",
     "text": [
      "[I 2025-05-13 22:15:39,757] Trial 21 pruned. \n"
     ]
    },
    {
     "name": "stderr",
     "output_type": "stream",
     "text": [
      "\n",
      "Folds:   0%|          | 0/5 [00:00<?, ?it/s]\u001b[A\n",
      "                                            \u001b[A"
     ]
    },
    {
     "name": "stdout",
     "output_type": "stream",
     "text": [
      "[I 2025-05-13 22:15:40,454] Trial 22 pruned. \n"
     ]
    },
    {
     "name": "stderr",
     "output_type": "stream",
     "text": [
      "\n",
      "Folds:   0%|          | 0/5 [00:00<?, ?it/s]\u001b[A\n",
      "\u001b[A                                         \n",
      "Folds:   0%|          | 0/5 [00:28<?, ?it/s]\u001b[A\n",
      "Folds:  40%|████      | 2/5 [00:28<00:42, 14.25s/it]\u001b[A"
     ]
    },
    {
     "name": "stdout",
     "output_type": "stream",
     "text": [
      "Fold 2 best MSE = 1.3101\n"
     ]
    },
    {
     "name": "stderr",
     "output_type": "stream",
     "text": [
      "\n",
      "\u001b[A                                                 \n",
      "Folds:  40%|████      | 2/5 [00:50<00:42, 14.25s/it]\u001b[A\n",
      "Folds:  60%|██████    | 3/5 [00:50<00:35, 17.52s/it]\u001b[A"
     ]
    },
    {
     "name": "stdout",
     "output_type": "stream",
     "text": [
      "Fold 3 best MSE = 0.3273\n"
     ]
    },
    {
     "name": "stderr",
     "output_type": "stream",
     "text": [
      "\n",
      "\u001b[A                                                 \n",
      "Folds:  60%|██████    | 3/5 [01:22<00:35, 17.52s/it]\u001b[A\n",
      "Folds:  80%|████████  | 4/5 [01:22<00:22, 22.99s/it]\u001b[A"
     ]
    },
    {
     "name": "stdout",
     "output_type": "stream",
     "text": [
      "Fold 4 best MSE = 8.3386\n"
     ]
    },
    {
     "name": "stderr",
     "output_type": "stream",
     "text": [
      "\n",
      "\u001b[A                                                 \n",
      "Folds:  80%|████████  | 4/5 [02:05<00:22, 22.99s/it]\u001b[A\n",
      "Folds: 100%|██████████| 5/5 [02:05<00:00, 29.95s/it]\u001b[A\n",
      "                                                    \u001b[A"
     ]
    },
    {
     "name": "stdout",
     "output_type": "stream",
     "text": [
      "Fold 5 best MSE = 0.5576\n",
      "[I 2025-05-13 22:17:46,306] Trial 23 finished with value: 2.633403852581978 and parameters: {'hidden_dim': 109, 'num_layers': 1, 'dropout': 0.21187723381764362, 'learning_rate': 0.00026452119117093654, 'batch_size': 64, 'epochs': 67}. Best is trial 1 with value: 2.5374038182199.\n"
     ]
    },
    {
     "name": "stderr",
     "output_type": "stream",
     "text": [
      "\n",
      "Folds:   0%|          | 0/5 [00:00<?, ?it/s]\u001b[A\n",
      "\u001b[A                                         \n",
      "Folds:   0%|          | 0/5 [00:23<?, ?it/s]\u001b[A\n",
      "Folds:  40%|████      | 2/5 [00:23<00:35, 11.93s/it]\u001b[A"
     ]
    },
    {
     "name": "stdout",
     "output_type": "stream",
     "text": [
      "Fold 2 best MSE = 1.3396\n"
     ]
    },
    {
     "name": "stderr",
     "output_type": "stream",
     "text": [
      "\n",
      "\u001b[A                                                 \n",
      "Folds:  40%|████      | 2/5 [01:23<00:35, 11.93s/it]\u001b[A\n",
      "Folds:  60%|██████    | 3/5 [01:23<01:03, 31.87s/it]\u001b[A"
     ]
    },
    {
     "name": "stdout",
     "output_type": "stream",
     "text": [
      "Fold 3 best MSE = 0.4087\n"
     ]
    },
    {
     "name": "stderr",
     "output_type": "stream",
     "text": [
      "\n",
      "\u001b[A                                                 \n",
      "Folds:  60%|██████    | 3/5 [02:06<01:03, 31.87s/it]\u001b[A\n",
      "Folds:  80%|████████  | 4/5 [02:06<00:35, 35.83s/it]\u001b[A"
     ]
    },
    {
     "name": "stdout",
     "output_type": "stream",
     "text": [
      "Fold 4 best MSE = 8.3774\n"
     ]
    },
    {
     "name": "stderr",
     "output_type": "stream",
     "text": [
      "\n",
      "\u001b[A                                                 \n",
      "Folds:  80%|████████  | 4/5 [03:09<00:35, 35.83s/it]\u001b[A\n",
      "Folds: 100%|██████████| 5/5 [03:09<00:00, 45.45s/it]\u001b[A\n",
      "                                                    \u001b[A"
     ]
    },
    {
     "name": "stdout",
     "output_type": "stream",
     "text": [
      "Fold 5 best MSE = 0.6514\n",
      "[I 2025-05-13 22:20:56,000] Trial 24 finished with value: 2.6942782253026962 and parameters: {'hidden_dim': 143, 'num_layers': 1, 'dropout': 0.22180021375270814, 'learning_rate': 0.00046600318274811703, 'batch_size': 64, 'epochs': 65}. Best is trial 1 with value: 2.5374038182199.\n"
     ]
    },
    {
     "name": "stderr",
     "output_type": "stream",
     "text": [
      "\n",
      "Folds:   0%|          | 0/5 [00:00<?, ?it/s]\u001b[A\n",
      "\u001b[A                                         \n",
      "Folds:   0%|          | 0/5 [00:25<?, ?it/s]\u001b[A\n",
      "Folds:  40%|████      | 2/5 [00:25<00:37, 12.57s/it]\u001b[A"
     ]
    },
    {
     "name": "stdout",
     "output_type": "stream",
     "text": [
      "Fold 2 best MSE = 1.4273\n"
     ]
    },
    {
     "name": "stderr",
     "output_type": "stream",
     "text": [
      "\n",
      "\u001b[A                                                 \n",
      "Folds:  40%|████      | 2/5 [00:48<00:37, 12.57s/it]\u001b[A\n",
      "Folds:  60%|██████    | 3/5 [00:48<00:33, 16.96s/it]\u001b[A"
     ]
    },
    {
     "name": "stdout",
     "output_type": "stream",
     "text": [
      "Fold 3 best MSE = 0.4068\n"
     ]
    },
    {
     "name": "stderr",
     "output_type": "stream",
     "text": [
      "\n",
      "\u001b[A                                                 \n",
      "Folds:  60%|██████    | 3/5 [01:20<00:33, 16.96s/it]\u001b[A\n",
      "Folds:  80%|████████  | 4/5 [01:20<00:22, 22.84s/it]\u001b[A"
     ]
    },
    {
     "name": "stdout",
     "output_type": "stream",
     "text": [
      "Fold 4 best MSE = 8.4243\n"
     ]
    },
    {
     "name": "stderr",
     "output_type": "stream",
     "text": [
      "\n",
      "\u001b[A                                                 \n",
      "Folds:  80%|████████  | 4/5 [02:06<00:22, 22.84s/it]\u001b[A\n",
      "Folds: 100%|██████████| 5/5 [02:06<00:00, 30.86s/it]\u001b[A\n",
      "                                                    \u001b[A"
     ]
    },
    {
     "name": "stdout",
     "output_type": "stream",
     "text": [
      "Fold 5 best MSE = 0.3661\n",
      "[I 2025-05-13 22:23:02,954] Trial 25 finished with value: 2.656140759587288 and parameters: {'hidden_dim': 110, 'num_layers': 1, 'dropout': 0.3112952324919726, 'learning_rate': 0.00028259400367428077, 'batch_size': 64, 'epochs': 74}. Best is trial 1 with value: 2.5374038182199.\n"
     ]
    },
    {
     "name": "stderr",
     "output_type": "stream",
     "text": [
      "\n",
      "Folds:   0%|          | 0/5 [00:00<?, ?it/s]\u001b[A\n",
      "                                            \u001b[A"
     ]
    },
    {
     "name": "stdout",
     "output_type": "stream",
     "text": [
      "[I 2025-05-13 22:23:17,554] Trial 26 pruned. \n"
     ]
    },
    {
     "name": "stderr",
     "output_type": "stream",
     "text": [
      "\n",
      "Folds:   0%|          | 0/5 [00:00<?, ?it/s]\u001b[A\n",
      "                                            \u001b[A"
     ]
    },
    {
     "name": "stdout",
     "output_type": "stream",
     "text": [
      "[I 2025-05-13 22:23:18,358] Trial 27 pruned. \n"
     ]
    },
    {
     "name": "stderr",
     "output_type": "stream",
     "text": [
      "\n",
      "Folds:   0%|          | 0/5 [00:00<?, ?it/s]\u001b[A\n",
      "\u001b[A                                         \n",
      "Folds:   0%|          | 0/5 [00:42<?, ?it/s]\u001b[A\n",
      "Folds:  40%|████      | 2/5 [00:42<01:03, 21.10s/it]\u001b[A"
     ]
    },
    {
     "name": "stdout",
     "output_type": "stream",
     "text": [
      "Fold 2 best MSE = 1.4858\n"
     ]
    },
    {
     "name": "stderr",
     "output_type": "stream",
     "text": [
      "\n",
      "                                                    \u001b[A"
     ]
    },
    {
     "name": "stdout",
     "output_type": "stream",
     "text": [
      "[I 2025-05-13 22:24:42,065] Trial 28 pruned. \n"
     ]
    },
    {
     "name": "stderr",
     "output_type": "stream",
     "text": [
      "\n",
      "Folds:   0%|          | 0/5 [00:00<?, ?it/s]\u001b[A\n",
      "                                            \u001b[A"
     ]
    },
    {
     "name": "stdout",
     "output_type": "stream",
     "text": [
      "[I 2025-05-13 22:25:00,360] Trial 29 pruned. \n"
     ]
    },
    {
     "name": "stderr",
     "output_type": "stream",
     "text": [
      "\n",
      "Folds:   0%|          | 0/5 [00:00<?, ?it/s]\u001b[A\n",
      "                                            \u001b[A"
     ]
    },
    {
     "name": "stdout",
     "output_type": "stream",
     "text": [
      "[I 2025-05-13 22:25:16,570] Trial 30 pruned. \n"
     ]
    },
    {
     "name": "stderr",
     "output_type": "stream",
     "text": [
      "\n",
      "Folds:   0%|          | 0/5 [00:00<?, ?it/s]\u001b[A\n",
      "                                            \u001b[A"
     ]
    },
    {
     "name": "stdout",
     "output_type": "stream",
     "text": [
      "[I 2025-05-13 22:25:17,168] Trial 31 pruned. \n"
     ]
    },
    {
     "name": "stderr",
     "output_type": "stream",
     "text": [
      "\n",
      "Folds:   0%|          | 0/5 [00:00<?, ?it/s]\u001b[A\n",
      "\u001b[A                                         \n",
      "Folds:   0%|          | 0/5 [00:30<?, ?it/s]\u001b[A\n",
      "Folds:  40%|████      | 2/5 [00:30<00:46, 15.44s/it]\u001b[A"
     ]
    },
    {
     "name": "stdout",
     "output_type": "stream",
     "text": [
      "Fold 2 best MSE = 1.3505\n"
     ]
    },
    {
     "name": "stderr",
     "output_type": "stream",
     "text": [
      "\n",
      "\u001b[A                                                 \n",
      "Folds:  40%|████      | 2/5 [01:48<00:46, 15.44s/it]\u001b[A\n",
      "Folds:  60%|██████    | 3/5 [01:48<01:22, 41.42s/it]\u001b[A"
     ]
    },
    {
     "name": "stdout",
     "output_type": "stream",
     "text": [
      "Fold 3 best MSE = 0.3820\n"
     ]
    },
    {
     "name": "stderr",
     "output_type": "stream",
     "text": [
      "\n",
      "\u001b[A                                                 \n",
      "Folds:  60%|██████    | 3/5 [02:21<01:22, 41.42s/it]\u001b[A\n",
      "Folds:  80%|████████  | 4/5 [02:21<00:38, 38.06s/it]\u001b[A"
     ]
    },
    {
     "name": "stdout",
     "output_type": "stream",
     "text": [
      "Fold 4 best MSE = 8.0522\n"
     ]
    },
    {
     "name": "stderr",
     "output_type": "stream",
     "text": [
      "\n",
      "\u001b[A                                                 \n",
      "Folds:  80%|████████  | 4/5 [03:01<00:38, 38.06s/it]\u001b[A\n",
      "Folds: 100%|██████████| 5/5 [03:01<00:00, 38.84s/it]\u001b[A\n",
      "                                                    \u001b[A"
     ]
    },
    {
     "name": "stdout",
     "output_type": "stream",
     "text": [
      "Fold 5 best MSE = 0.4555\n",
      "[I 2025-05-13 22:28:18,695] Trial 32 finished with value: 2.5600352212786674 and parameters: {'hidden_dim': 115, 'num_layers': 1, 'dropout': 0.30605899609568793, 'learning_rate': 0.00022837222778991547, 'batch_size': 64, 'epochs': 73}. Best is trial 1 with value: 2.5374038182199.\n"
     ]
    },
    {
     "name": "stderr",
     "output_type": "stream",
     "text": [
      "\n",
      "Folds:   0%|          | 0/5 [00:00<?, ?it/s]\u001b[A\n",
      "\u001b[A                                         \n",
      "Folds:   0%|          | 0/5 [00:29<?, ?it/s]\u001b[A\n",
      "Folds:  40%|████      | 2/5 [00:29<00:44, 14.93s/it]\u001b[A"
     ]
    },
    {
     "name": "stdout",
     "output_type": "stream",
     "text": [
      "Fold 2 best MSE = 1.1318\n"
     ]
    },
    {
     "name": "stderr",
     "output_type": "stream",
     "text": [
      "\n",
      "\u001b[A                                                 \n",
      "Folds:  40%|████      | 2/5 [01:43<00:44, 14.93s/it]\u001b[A\n",
      "Folds:  60%|██████    | 3/5 [01:43<01:19, 39.58s/it]\u001b[A"
     ]
    },
    {
     "name": "stdout",
     "output_type": "stream",
     "text": [
      "Fold 3 best MSE = 0.4210\n"
     ]
    },
    {
     "name": "stderr",
     "output_type": "stream",
     "text": [
      "\n",
      "\u001b[A                                                 \n",
      "Folds:  60%|██████    | 3/5 [02:22<01:19, 39.58s/it]\u001b[A\n",
      "Folds:  80%|████████  | 4/5 [02:22<00:39, 39.10s/it]\u001b[A"
     ]
    },
    {
     "name": "stdout",
     "output_type": "stream",
     "text": [
      "Fold 4 best MSE = 8.2864\n"
     ]
    },
    {
     "name": "stderr",
     "output_type": "stream",
     "text": [
      "\n",
      "\u001b[A                                                 \n",
      "Folds:  80%|████████  | 4/5 [03:10<00:39, 39.10s/it]\u001b[A\n",
      "Folds: 100%|██████████| 5/5 [03:10<00:00, 42.37s/it]\u001b[A\n",
      "                                                    \u001b[A"
     ]
    },
    {
     "name": "stdout",
     "output_type": "stream",
     "text": [
      "Fold 5 best MSE = 0.3253\n",
      "[I 2025-05-13 22:31:29,518] Trial 33 finished with value: 2.541120409965515 and parameters: {'hidden_dim': 141, 'num_layers': 1, 'dropout': 0.4086692432023684, 'learning_rate': 0.00021864968904309026, 'batch_size': 64, 'epochs': 61}. Best is trial 1 with value: 2.5374038182199.\n"
     ]
    },
    {
     "name": "stderr",
     "output_type": "stream",
     "text": [
      "\n",
      "Folds:   0%|          | 0/5 [00:00<?, ?it/s]\u001b[A\n",
      "                                            \u001b[A"
     ]
    },
    {
     "name": "stdout",
     "output_type": "stream",
     "text": [
      "[I 2025-05-13 22:31:48,576] Trial 34 pruned. \n"
     ]
    },
    {
     "name": "stderr",
     "output_type": "stream",
     "text": [
      "\n",
      "Folds:   0%|          | 0/5 [00:00<?, ?it/s]\u001b[A\n",
      "                                            \u001b[A"
     ]
    },
    {
     "name": "stdout",
     "output_type": "stream",
     "text": [
      "[I 2025-05-13 22:32:04,770] Trial 35 pruned. \n"
     ]
    },
    {
     "name": "stderr",
     "output_type": "stream",
     "text": [
      "\n",
      "Folds:   0%|          | 0/5 [00:00<?, ?it/s]\u001b[A\n",
      "                                            \u001b[A"
     ]
    },
    {
     "name": "stdout",
     "output_type": "stream",
     "text": [
      "[I 2025-05-13 22:32:05,577] Trial 36 pruned. \n"
     ]
    },
    {
     "name": "stderr",
     "output_type": "stream",
     "text": [
      "\n",
      "Folds:   0%|          | 0/5 [00:00<?, ?it/s]\u001b[A\n",
      "\u001b[A                                         \n",
      "Folds:   0%|          | 0/5 [00:20<?, ?it/s]\u001b[A\n",
      "Folds:  40%|████      | 2/5 [00:20<00:30, 10.24s/it]\u001b[A"
     ]
    },
    {
     "name": "stdout",
     "output_type": "stream",
     "text": [
      "Fold 2 best MSE = 1.0828\n"
     ]
    },
    {
     "name": "stderr",
     "output_type": "stream",
     "text": [
      "\n",
      "                                                    \u001b[A"
     ]
    },
    {
     "name": "stdout",
     "output_type": "stream",
     "text": [
      "[I 2025-05-13 22:32:27,362] Trial 37 pruned. \n"
     ]
    },
    {
     "name": "stderr",
     "output_type": "stream",
     "text": [
      "\n",
      "Folds:   0%|          | 0/5 [00:00<?, ?it/s]\u001b[A\n",
      "                                            \u001b[A"
     ]
    },
    {
     "name": "stdout",
     "output_type": "stream",
     "text": [
      "[I 2025-05-13 22:32:44,752] Trial 38 pruned. \n"
     ]
    },
    {
     "name": "stderr",
     "output_type": "stream",
     "text": [
      "\n",
      "Folds:   0%|          | 0/5 [00:00<?, ?it/s]\u001b[A\n",
      "                                            \u001b[A"
     ]
    },
    {
     "name": "stdout",
     "output_type": "stream",
     "text": [
      "[I 2025-05-13 22:32:45,454] Trial 39 pruned. \n"
     ]
    },
    {
     "name": "stderr",
     "output_type": "stream",
     "text": [
      "\n",
      "Folds:   0%|          | 0/5 [00:00<?, ?it/s]\u001b[A\n",
      "\u001b[A                                         \n",
      "Folds:   0%|          | 0/5 [00:29<?, ?it/s]\u001b[A\n",
      "Folds:  40%|████      | 2/5 [00:29<00:43, 14.61s/it]\u001b[A"
     ]
    },
    {
     "name": "stdout",
     "output_type": "stream",
     "text": [
      "Fold 2 best MSE = 1.7022\n"
     ]
    },
    {
     "name": "stderr",
     "output_type": "stream",
     "text": [
      "\n",
      "                                                    \u001b[A"
     ]
    },
    {
     "name": "stdout",
     "output_type": "stream",
     "text": [
      "[I 2025-05-13 22:33:34,570] Trial 40 pruned. \n"
     ]
    },
    {
     "name": "stderr",
     "output_type": "stream",
     "text": [
      "\n",
      "Folds:   0%|          | 0/5 [00:00<?, ?it/s]\u001b[A\n",
      "\u001b[A                                         \n",
      "Folds:   0%|          | 0/5 [00:24<?, ?it/s]\u001b[A\n",
      "Folds:  40%|████      | 2/5 [00:24<00:36, 12.10s/it]\u001b[A"
     ]
    },
    {
     "name": "stdout",
     "output_type": "stream",
     "text": [
      "Fold 2 best MSE = 1.3912\n"
     ]
    },
    {
     "name": "stderr",
     "output_type": "stream",
     "text": [
      "\n",
      "                                                    \u001b[A"
     ]
    },
    {
     "name": "stdout",
     "output_type": "stream",
     "text": [
      "[I 2025-05-13 22:33:59,995] Trial 41 pruned. \n"
     ]
    },
    {
     "name": "stderr",
     "output_type": "stream",
     "text": [
      "\n",
      "Folds:   0%|          | 0/5 [00:00<?, ?it/s]\u001b[A\n",
      "                                            \u001b[A"
     ]
    },
    {
     "name": "stdout",
     "output_type": "stream",
     "text": [
      "[I 2025-05-13 22:34:10,170] Trial 42 pruned. \n"
     ]
    },
    {
     "name": "stderr",
     "output_type": "stream",
     "text": [
      "\n",
      "Folds:   0%|          | 0/5 [00:00<?, ?it/s]\u001b[A\n",
      "\u001b[A                                         \n",
      "Folds:   0%|          | 0/5 [00:27<?, ?it/s]\u001b[A\n",
      "Folds:  40%|████      | 2/5 [00:27<00:41, 13.99s/it]\u001b[A"
     ]
    },
    {
     "name": "stdout",
     "output_type": "stream",
     "text": [
      "Fold 2 best MSE = 1.4075\n"
     ]
    },
    {
     "name": "stderr",
     "output_type": "stream",
     "text": [
      "\n",
      "                                                    \u001b[A"
     ]
    },
    {
     "name": "stdout",
     "output_type": "stream",
     "text": [
      "[I 2025-05-13 22:34:39,568] Trial 43 pruned. \n"
     ]
    },
    {
     "name": "stderr",
     "output_type": "stream",
     "text": [
      "\n",
      "Folds:   0%|          | 0/5 [00:00<?, ?it/s]\u001b[A\n",
      "                                            \u001b[A"
     ]
    },
    {
     "name": "stdout",
     "output_type": "stream",
     "text": [
      "[I 2025-05-13 22:34:40,874] Trial 44 pruned. \n"
     ]
    },
    {
     "name": "stderr",
     "output_type": "stream",
     "text": [
      "\n",
      "Folds:   0%|          | 0/5 [00:00<?, ?it/s]\u001b[A\n",
      "                                            \u001b[A"
     ]
    },
    {
     "name": "stdout",
     "output_type": "stream",
     "text": [
      "[I 2025-05-13 22:34:41,386] Trial 45 pruned. \n"
     ]
    },
    {
     "name": "stderr",
     "output_type": "stream",
     "text": [
      "\n",
      "Folds:   0%|          | 0/5 [00:00<?, ?it/s]\u001b[A\n",
      "                                            \u001b[A"
     ]
    },
    {
     "name": "stdout",
     "output_type": "stream",
     "text": [
      "[I 2025-05-13 22:34:42,156] Trial 46 pruned. \n"
     ]
    },
    {
     "name": "stderr",
     "output_type": "stream",
     "text": [
      "\n",
      "Folds:   0%|          | 0/5 [00:00<?, ?it/s]\u001b[A\n",
      "                                            \u001b[A"
     ]
    },
    {
     "name": "stdout",
     "output_type": "stream",
     "text": [
      "[I 2025-05-13 22:34:57,452] Trial 47 pruned. \n"
     ]
    },
    {
     "name": "stderr",
     "output_type": "stream",
     "text": [
      "\n",
      "Folds:   0%|          | 0/5 [00:00<?, ?it/s]\u001b[A\n",
      "                                            \u001b[A"
     ]
    },
    {
     "name": "stdout",
     "output_type": "stream",
     "text": [
      "[I 2025-05-13 22:34:58,057] Trial 48 pruned. \n"
     ]
    },
    {
     "name": "stderr",
     "output_type": "stream",
     "text": [
      "\n",
      "Folds:   0%|          | 0/5 [00:00<?, ?it/s]\u001b[A\n",
      "                                            \u001b[A"
     ]
    },
    {
     "name": "stdout",
     "output_type": "stream",
     "text": [
      "[I 2025-05-13 22:34:59,166] Trial 49 pruned. \n"
     ]
    },
    {
     "name": "stderr",
     "output_type": "stream",
     "text": [
      "\n",
      "Folds:   0%|          | 0/5 [00:00<?, ?it/s]\u001b[A\n",
      "                                            \u001b[A"
     ]
    },
    {
     "name": "stdout",
     "output_type": "stream",
     "text": [
      "[I 2025-05-13 22:34:59,965] Trial 50 pruned. \n"
     ]
    },
    {
     "name": "stderr",
     "output_type": "stream",
     "text": [
      "\n",
      "Folds:   0%|          | 0/5 [00:00<?, ?it/s]\u001b[A\n",
      "                                            \u001b[A"
     ]
    },
    {
     "name": "stdout",
     "output_type": "stream",
     "text": [
      "[I 2025-05-13 22:35:15,662] Trial 51 pruned. \n"
     ]
    },
    {
     "name": "stderr",
     "output_type": "stream",
     "text": [
      "\n",
      "Folds:   0%|          | 0/5 [00:00<?, ?it/s]\u001b[A\n",
      "                                            \u001b[A"
     ]
    },
    {
     "name": "stdout",
     "output_type": "stream",
     "text": [
      "[I 2025-05-13 22:35:31,570] Trial 52 pruned. \n"
     ]
    },
    {
     "name": "stderr",
     "output_type": "stream",
     "text": [
      "\n",
      "Folds:   0%|          | 0/5 [00:00<?, ?it/s]\u001b[A\n",
      "                                            \u001b[A"
     ]
    },
    {
     "name": "stdout",
     "output_type": "stream",
     "text": [
      "[I 2025-05-13 22:35:32,352] Trial 53 pruned. \n"
     ]
    },
    {
     "name": "stderr",
     "output_type": "stream",
     "text": [
      "\n",
      "Folds:   0%|          | 0/5 [00:00<?, ?it/s]\u001b[A\n",
      "\u001b[A                                         \n",
      "Folds:   0%|          | 0/5 [00:25<?, ?it/s]\u001b[A\n",
      "Folds:  40%|████      | 2/5 [00:25<00:38, 12.99s/it]\u001b[A"
     ]
    },
    {
     "name": "stdout",
     "output_type": "stream",
     "text": [
      "Fold 2 best MSE = 1.5551\n"
     ]
    },
    {
     "name": "stderr",
     "output_type": "stream",
     "text": [
      "\n",
      "\u001b[A                                                 \n",
      "Folds:  40%|████      | 2/5 [01:25<00:38, 12.99s/it]\u001b[A\n",
      "Folds:  60%|██████    | 3/5 [01:25<01:04, 32.41s/it]\u001b[A"
     ]
    },
    {
     "name": "stdout",
     "output_type": "stream",
     "text": [
      "Fold 3 best MSE = 0.4433\n"
     ]
    },
    {
     "name": "stderr",
     "output_type": "stream",
     "text": [
      "\n",
      "\u001b[A                                                 \n",
      "Folds:  60%|██████    | 3/5 [01:57<01:04, 32.41s/it]\u001b[A\n",
      "Folds:  80%|████████  | 4/5 [01:57<00:32, 32.26s/it]\u001b[A"
     ]
    },
    {
     "name": "stdout",
     "output_type": "stream",
     "text": [
      "Fold 4 best MSE = 8.0730\n"
     ]
    },
    {
     "name": "stderr",
     "output_type": "stream",
     "text": [
      "\n",
      "\u001b[A                                                 \n",
      "Folds:  80%|████████  | 4/5 [02:38<00:32, 32.26s/it]\u001b[A\n",
      "Folds: 100%|██████████| 5/5 [02:38<00:00, 35.19s/it]\u001b[A\n",
      "                                                    \u001b[A"
     ]
    },
    {
     "name": "stdout",
     "output_type": "stream",
     "text": [
      "Fold 5 best MSE = 0.7756\n",
      "[I 2025-05-13 22:38:10,706] Trial 54 finished with value: 2.7117336317896843 and parameters: {'hidden_dim': 109, 'num_layers': 1, 'dropout': 0.3066417751108878, 'learning_rate': 0.0003371936304367111, 'batch_size': 64, 'epochs': 75}. Best is trial 1 with value: 2.5374038182199.\n"
     ]
    },
    {
     "name": "stderr",
     "output_type": "stream",
     "text": [
      "\n",
      "Folds:   0%|          | 0/5 [00:00<?, ?it/s]\u001b[A\n",
      "                                            \u001b[A"
     ]
    },
    {
     "name": "stdout",
     "output_type": "stream",
     "text": [
      "[I 2025-05-13 22:38:26,356] Trial 55 pruned. \n"
     ]
    },
    {
     "name": "stderr",
     "output_type": "stream",
     "text": [
      "\n",
      "Folds:   0%|          | 0/5 [00:00<?, ?it/s]\u001b[A\n",
      "                                            \u001b[A"
     ]
    },
    {
     "name": "stdout",
     "output_type": "stream",
     "text": [
      "[I 2025-05-13 22:38:26,988] Trial 56 pruned. \n"
     ]
    },
    {
     "name": "stderr",
     "output_type": "stream",
     "text": [
      "\n",
      "Folds:   0%|          | 0/5 [00:00<?, ?it/s]\u001b[A\n",
      "                                            \u001b[A"
     ]
    },
    {
     "name": "stdout",
     "output_type": "stream",
     "text": [
      "[I 2025-05-13 22:38:27,762] Trial 57 pruned. \n"
     ]
    },
    {
     "name": "stderr",
     "output_type": "stream",
     "text": [
      "\n",
      "Folds:   0%|          | 0/5 [00:00<?, ?it/s]\u001b[A\n",
      "                                            \u001b[A"
     ]
    },
    {
     "name": "stdout",
     "output_type": "stream",
     "text": [
      "[I 2025-05-13 22:38:28,564] Trial 58 pruned. \n"
     ]
    },
    {
     "name": "stderr",
     "output_type": "stream",
     "text": [
      "\n",
      "Folds:   0%|          | 0/5 [00:00<?, ?it/s]\u001b[A\n",
      "\u001b[A                                         \n",
      "Folds:   0%|          | 0/5 [00:30<?, ?it/s]\u001b[A\n",
      "Folds:  40%|████      | 2/5 [00:30<00:45, 15.04s/it]\u001b[A"
     ]
    },
    {
     "name": "stdout",
     "output_type": "stream",
     "text": [
      "Fold 2 best MSE = 1.1236\n"
     ]
    },
    {
     "name": "stderr",
     "output_type": "stream",
     "text": [
      "\n",
      "\u001b[A                                                 \n",
      "Folds:  40%|████      | 2/5 [02:13<00:45, 15.04s/it]\u001b[A\n",
      "Folds:  60%|██████    | 3/5 [02:13<01:43, 51.86s/it]\u001b[A"
     ]
    },
    {
     "name": "stdout",
     "output_type": "stream",
     "text": [
      "Fold 3 best MSE = 0.3624\n"
     ]
    },
    {
     "name": "stderr",
     "output_type": "stream",
     "text": [
      "\n",
      "\u001b[A                                                 \n",
      "Folds:  60%|██████    | 3/5 [03:11<01:43, 51.86s/it]\u001b[A\n",
      "Folds:  80%|████████  | 4/5 [03:11<00:54, 54.26s/it]\u001b[A"
     ]
    },
    {
     "name": "stdout",
     "output_type": "stream",
     "text": [
      "Fold 4 best MSE = 10.2033\n"
     ]
    },
    {
     "name": "stderr",
     "output_type": "stream",
     "text": [
      "\n",
      "\u001b[A                                                 \n",
      "Folds:  80%|████████  | 4/5 [04:39<00:54, 54.26s/it]\u001b[A\n",
      "Folds: 100%|██████████| 5/5 [04:39<00:00, 66.03s/it]\u001b[A\n",
      "                                                    \u001b[A"
     ]
    },
    {
     "name": "stdout",
     "output_type": "stream",
     "text": [
      "Fold 5 best MSE = 0.9227\n",
      "[I 2025-05-13 22:43:08,519] Trial 59 finished with value: 3.1529987677931786 and parameters: {'hidden_dim': 115, 'num_layers': 3, 'dropout': 0.18644988426123088, 'learning_rate': 0.0004892150707470191, 'batch_size': 32, 'epochs': 52}. Best is trial 1 with value: 2.5374038182199.\n"
     ]
    },
    {
     "name": "stderr",
     "output_type": "stream",
     "text": [
      "\n",
      "Folds:   0%|          | 0/5 [00:00<?, ?it/s]\u001b[A\n",
      "                                            \u001b[A"
     ]
    },
    {
     "name": "stdout",
     "output_type": "stream",
     "text": [
      "[I 2025-05-13 22:43:17,977] Trial 60 pruned. \n"
     ]
    },
    {
     "name": "stderr",
     "output_type": "stream",
     "text": [
      "\n",
      "Folds:   0%|          | 0/5 [00:00<?, ?it/s]\u001b[A\n",
      "                                            \u001b[A"
     ]
    },
    {
     "name": "stdout",
     "output_type": "stream",
     "text": [
      "[I 2025-05-13 22:43:18,657] Trial 61 pruned. \n"
     ]
    },
    {
     "name": "stderr",
     "output_type": "stream",
     "text": [
      "\n",
      "Folds:   0%|          | 0/5 [00:00<?, ?it/s]\u001b[A\n",
      "                                            \u001b[A"
     ]
    },
    {
     "name": "stdout",
     "output_type": "stream",
     "text": [
      "[I 2025-05-13 22:43:34,158] Trial 62 pruned. \n"
     ]
    },
    {
     "name": "stderr",
     "output_type": "stream",
     "text": [
      "\n",
      "Folds:   0%|          | 0/5 [00:00<?, ?it/s]\u001b[A\n",
      "                                            \u001b[A"
     ]
    },
    {
     "name": "stdout",
     "output_type": "stream",
     "text": [
      "[I 2025-05-13 22:43:34,762] Trial 63 pruned. \n"
     ]
    },
    {
     "name": "stderr",
     "output_type": "stream",
     "text": [
      "\n",
      "Folds:   0%|          | 0/5 [00:00<?, ?it/s]\u001b[A\n",
      "\u001b[A                                         \n",
      "Folds:   0%|          | 0/5 [00:34<?, ?it/s]\u001b[A\n",
      "Folds:  40%|████      | 2/5 [00:34<00:52, 17.49s/it]\u001b[A"
     ]
    },
    {
     "name": "stdout",
     "output_type": "stream",
     "text": [
      "Fold 2 best MSE = 1.3114\n"
     ]
    },
    {
     "name": "stderr",
     "output_type": "stream",
     "text": [
      "\n",
      "                                                    \u001b[A"
     ]
    },
    {
     "name": "stdout",
     "output_type": "stream",
     "text": [
      "[I 2025-05-13 22:44:10,955] Trial 64 pruned. \n"
     ]
    },
    {
     "name": "stderr",
     "output_type": "stream",
     "text": [
      "\n",
      "Folds:   0%|          | 0/5 [00:00<?, ?it/s]\u001b[A\n",
      "                                            \u001b[A"
     ]
    },
    {
     "name": "stdout",
     "output_type": "stream",
     "text": [
      "[I 2025-05-13 22:44:11,564] Trial 65 pruned. \n"
     ]
    },
    {
     "name": "stderr",
     "output_type": "stream",
     "text": [
      "\n",
      "Folds:   0%|          | 0/5 [00:00<?, ?it/s]\u001b[A\n",
      "                                            \u001b[A"
     ]
    },
    {
     "name": "stdout",
     "output_type": "stream",
     "text": [
      "[I 2025-05-13 22:44:25,669] Trial 66 pruned. \n"
     ]
    },
    {
     "name": "stderr",
     "output_type": "stream",
     "text": [
      "\n",
      "Folds:   0%|          | 0/5 [00:00<?, ?it/s]\u001b[A\n",
      "                                            \u001b[A"
     ]
    },
    {
     "name": "stdout",
     "output_type": "stream",
     "text": [
      "[I 2025-05-13 22:44:26,355] Trial 67 pruned. \n"
     ]
    },
    {
     "name": "stderr",
     "output_type": "stream",
     "text": [
      "\n",
      "Folds:   0%|          | 0/5 [00:00<?, ?it/s]\u001b[A\n",
      "                                            \u001b[A"
     ]
    },
    {
     "name": "stdout",
     "output_type": "stream",
     "text": [
      "[I 2025-05-13 22:44:44,377] Trial 68 pruned. \n"
     ]
    },
    {
     "name": "stderr",
     "output_type": "stream",
     "text": [
      "\n",
      "Folds:   0%|          | 0/5 [00:00<?, ?it/s]\u001b[A\n",
      "                                            \u001b[A"
     ]
    },
    {
     "name": "stdout",
     "output_type": "stream",
     "text": [
      "[I 2025-05-13 22:44:45,069] Trial 69 pruned. \n"
     ]
    },
    {
     "name": "stderr",
     "output_type": "stream",
     "text": [
      "\n",
      "Folds:   0%|          | 0/5 [00:00<?, ?it/s]\u001b[A\n",
      "\u001b[A                                         \n",
      "Folds:   0%|          | 0/5 [00:32<?, ?it/s]\u001b[A\n",
      "Folds:  40%|████      | 2/5 [00:32<00:49, 16.39s/it]\u001b[A"
     ]
    },
    {
     "name": "stdout",
     "output_type": "stream",
     "text": [
      "Fold 2 best MSE = 1.2842\n"
     ]
    },
    {
     "name": "stderr",
     "output_type": "stream",
     "text": [
      "\n",
      "\u001b[A                                                 \n",
      "Folds:  40%|████      | 2/5 [01:28<00:49, 16.39s/it]\u001b[A\n",
      "Folds:  60%|██████    | 3/5 [01:28<01:05, 32.73s/it]\u001b[A"
     ]
    },
    {
     "name": "stdout",
     "output_type": "stream",
     "text": [
      "Fold 3 best MSE = 0.3414\n"
     ]
    },
    {
     "name": "stderr",
     "output_type": "stream",
     "text": [
      "\n",
      "\u001b[A                                                 \n",
      "Folds:  60%|██████    | 3/5 [02:06<01:05, 32.73s/it]\u001b[A\n",
      "Folds:  80%|████████  | 4/5 [02:06<00:34, 34.69s/it]\u001b[A"
     ]
    },
    {
     "name": "stdout",
     "output_type": "stream",
     "text": [
      "Fold 4 best MSE = 8.3896\n"
     ]
    },
    {
     "name": "stderr",
     "output_type": "stream",
     "text": [
      "\n",
      "\u001b[A                                                 \n",
      "Folds:  80%|████████  | 4/5 [02:58<00:34, 34.69s/it]\u001b[A\n",
      "Folds: 100%|██████████| 5/5 [02:58<00:00, 40.81s/it]\u001b[A\n",
      "                                                    \u001b[A"
     ]
    },
    {
     "name": "stdout",
     "output_type": "stream",
     "text": [
      "Fold 5 best MSE = 0.4206\n",
      "[I 2025-05-13 22:47:43,803] Trial 70 finished with value: 2.6089649349451065 and parameters: {'hidden_dim': 129, 'num_layers': 1, 'dropout': 0.09458752281759475, 'learning_rate': 0.00020686315930554133, 'batch_size': 64, 'epochs': 46}. Best is trial 1 with value: 2.5374038182199.\n"
     ]
    },
    {
     "name": "stderr",
     "output_type": "stream",
     "text": [
      "\n",
      "Folds:   0%|          | 0/5 [00:00<?, ?it/s]\u001b[A\n",
      "                                            \u001b[A"
     ]
    },
    {
     "name": "stdout",
     "output_type": "stream",
     "text": [
      "[I 2025-05-13 22:48:03,859] Trial 71 pruned. \n"
     ]
    },
    {
     "name": "stderr",
     "output_type": "stream",
     "text": [
      "\n",
      "Folds:   0%|          | 0/5 [00:00<?, ?it/s]\u001b[A\n",
      "                                            \u001b[A"
     ]
    },
    {
     "name": "stdout",
     "output_type": "stream",
     "text": [
      "[I 2025-05-13 22:48:04,652] Trial 72 pruned. \n"
     ]
    },
    {
     "name": "stderr",
     "output_type": "stream",
     "text": [
      "\n",
      "Folds:   0%|          | 0/5 [00:00<?, ?it/s]\u001b[A\n",
      "                                            \u001b[A"
     ]
    },
    {
     "name": "stdout",
     "output_type": "stream",
     "text": [
      "[I 2025-05-13 22:48:25,173] Trial 73 pruned. \n"
     ]
    },
    {
     "name": "stderr",
     "output_type": "stream",
     "text": [
      "\n",
      "Folds:   0%|          | 0/5 [00:00<?, ?it/s]\u001b[A\n",
      "Folds:  20%|██        | 1/5 [00:00<00:00,  9.33it/s]\u001b[A\n",
      "                                                    \u001b[A"
     ]
    },
    {
     "name": "stdout",
     "output_type": "stream",
     "text": [
      "[I 2025-05-13 22:48:25,979] Trial 74 pruned. \n",
      "=== Best Trial ===\n",
      "MSE   : 2.537404\n",
      "Params: {'hidden_dim': 35, 'num_layers': 1, 'dropout': 0.10909498032426036, 'learning_rate': 0.0002049268011541737, 'batch_size': 64, 'epochs': 51}\n",
      "Total run time: 4295.6 s\n"
     ]
    }
   ],
   "source": [
    "# ==============================================================\n",
    "#  LSTM Regression on Yield‑Curve Δ  |  Optuna (50 trials, h=1)\n",
    "#  • Original loop‑based sequence logic\n",
    "#  • Duplicate‑step warning fixed (unique global_step)\n",
    "#  • Clean output: only final fold MSE shown\n",
    "# ==============================================================\n",
    "\n",
    "# ---------------------- Imports ---------------------- #\n",
    "import os, sys, gc, time, random\n",
    "import numpy as np\n",
    "import pandas as pd\n",
    "from tqdm import tqdm\n",
    "\n",
    "import torch\n",
    "import torch.nn as nn\n",
    "import torch.backends.cudnn as cudnn\n",
    "from torch import amp\n",
    "from torch.utils.data import DataLoader, TensorDataset\n",
    "from sklearn.preprocessing import StandardScaler\n",
    "from sklearn.metrics import mean_squared_error\n",
    "\n",
    "import optuna\n",
    "from optuna.pruners import MedianPruner\n",
    "from optuna.samplers import TPESampler\n",
    "\n",
    "# ---------------------- Reproducibility ---------------------- #\n",
    "RNG_SEED = 42\n",
    "random.seed(RNG_SEED); np.random.seed(RNG_SEED); torch.manual_seed(RNG_SEED)\n",
    "if torch.cuda.is_available():\n",
    "    torch.cuda.manual_seed_all(RNG_SEED)\n",
    "\n",
    "# ---------------------- Device & CuDNN ---------------------- #\n",
    "device = torch.device(\"cuda\" if torch.cuda.is_available() else \"cpu\")\n",
    "print(f\"[INFO] Device: {device}\")\n",
    "if device.type == \"cuda\":\n",
    "    print(f\"  • GPU: {torch.cuda.get_device_name(0)}\")\n",
    "    cudnn.benchmark = True\n",
    "\n",
    "# ---------------------- Config ---------------------- #\n",
    "FORECAST_HORIZON = 252\n",
    "TRIALS           = 75\n",
    "EARLY_STOP       = 20\n",
    "val_window_num_sequences = 504\n",
    "holdout_base            = 756\n",
    "seq_len_map             = {252: 1323}\n",
    "\n",
    "HSPACE = {\n",
    "    \"hidden_dim\"   : (32, 192),\n",
    "    \"num_layers\"   : [1, 2, 3],\n",
    "    \"dropout\"      : (0.0, 0.6),\n",
    "    \"learning_rate\": (1e-4, 5e-3),\n",
    "    \"batch_size\"   : [32, 64, 128],\n",
    "    \"epochs\"       : (40, 80),\n",
    "}\n",
    "\n",
    "# ---------------------- Model ---------------------- #\n",
    "class LSTMRegressor(nn.Module):\n",
    "    def __init__(self, in_dim, hid, layers, out_dim, drop=0.0):\n",
    "        super().__init__()\n",
    "        self.lstm = nn.LSTM(in_dim, hid, layers, batch_first=True,\n",
    "                            dropout=(drop if layers > 1 else 0.0))\n",
    "        self.drop = nn.Dropout(drop)\n",
    "        self.norm = nn.LayerNorm(hid)\n",
    "        self.fc   = nn.Linear(hid, out_dim, bias=False)\n",
    "    def forward(self, x):\n",
    "        _, (hn, _) = self.lstm(x)\n",
    "        return self.fc(self.norm(self.drop(hn[-1])))\n",
    "\n",
    "# ---------------------- Data Utilities ---------------------- #\n",
    "def gen_seq(X_df, Y_fold, seq_len, h):\n",
    "    X_arr = X_df.values.astype(np.float32)\n",
    "    Y_arr = Y_fold.reindex(X_df.index).values.astype(np.float32)\n",
    "    idx   = {ts: i for i, ts in enumerate(X_df.index)}\n",
    "    X_seq, Y_seq = [], []\n",
    "    for t in Y_fold.index:\n",
    "        ti = idx.get(t)\n",
    "        if ti is None:\n",
    "            continue\n",
    "        end = ti - h + 1; start = end - seq_len\n",
    "        if start < 0 or end > len(X_arr):\n",
    "            continue\n",
    "        win = X_arr[start:end]\n",
    "        if win.shape[0] != seq_len or np.isnan(win).any() or not np.isfinite(Y_arr[ti]).all():\n",
    "            continue\n",
    "        X_seq.append(win); Y_seq.append(Y_arr[ti])\n",
    "    return np.asarray(X_seq, np.float32), np.asarray(Y_seq, np.float32)\n",
    "\n",
    "\n",
    "def std_fold(Xtr, Xva):\n",
    "    sc = StandardScaler()\n",
    "    return (\n",
    "        pd.DataFrame(sc.fit_transform(Xtr), index=Xtr.index, columns=Xtr.columns),\n",
    "        pd.DataFrame(sc.transform(Xva),     index=Xva.index, columns=Xva.columns),\n",
    "    )\n",
    "\n",
    "# ---------------------- CV ---------------------- #\n",
    "def expanding_folds(X, Y, h):\n",
    "    seq_len = seq_len_map[h]; total = len(X); min_train = seq_len + h\n",
    "    folds, i = [], min_train\n",
    "    while i + val_window_num_sequences + holdout_base <= total:\n",
    "        vs, ve = i, i + val_window_num_sequences\n",
    "        folds.append({\n",
    "            \"X_tr\": X.iloc[:i].copy(),\n",
    "            \"Y_tr\": Y.iloc[:i].copy(),\n",
    "            \"X_va\": X.iloc[vs - seq_len - h + 1: ve - h].copy(),\n",
    "            \"Y_va\": Y.iloc[vs:ve].copy(),\n",
    "            \"seq_len\": seq_len,\n",
    "        })\n",
    "        i += val_window_num_sequences\n",
    "    return folds\n",
    "\n",
    "# ---------------------- Optuna Objective ---------------------- #\n",
    "def objective(trial, folds):\n",
    "    p = {\n",
    "        \"hid\": trial.suggest_int(\"hidden_dim\", *HSPACE[\"hidden_dim\"]),\n",
    "        \"lay\": trial.suggest_categorical(\"num_layers\", HSPACE[\"num_layers\"]),\n",
    "        \"drp\": trial.suggest_float(\"dropout\", *HSPACE[\"dropout\"]),\n",
    "        \"lr\" : trial.suggest_float(\"learning_rate\", *HSPACE[\"learning_rate\"], log=True),\n",
    "        \"bs\" : trial.suggest_categorical(\"batch_size\", HSPACE[\"batch_size\"]),\n",
    "        \"ep\" : trial.suggest_int(\"epochs\", *HSPACE[\"epochs\"]),\n",
    "    }\n",
    "    scaler = amp.GradScaler(); mse_fold = []\n",
    "\n",
    "    for f_idx, f in enumerate(tqdm(folds, desc=\"Folds\", leave=False)):\n",
    "        Xtr_s, Xva_s = std_fold(f[\"X_tr\"], f[\"X_va\"])\n",
    "        Xtr, Ytr = gen_seq(Xtr_s, f[\"Y_tr\"], f[\"seq_len\"], FORECAST_HORIZON)\n",
    "        Xva, Yva = gen_seq(Xva_s, f[\"Y_va\"], f[\"seq_len\"], FORECAST_HORIZON)\n",
    "        if len(Xtr)==0 or len(Xva)==0:\n",
    "            continue\n",
    "\n",
    "        model = LSTMRegressor(Xtr.shape[2], p[\"hid\"], p[\"lay\"], Ytr.shape[1], p[\"drp\"]).to(device)\n",
    "        opt   = torch.optim.Adam(model.parameters(), lr=p[\"lr\"])\n",
    "        best, pat = np.inf, 0; report_every = max(1, p[\"ep\"]//3)\n",
    "\n",
    "        tr_loader = DataLoader(TensorDataset(torch.tensor(Xtr), torch.tensor(Ytr)), batch_size=p[\"bs\"], shuffle=True, pin_memory=True)\n",
    "        va_loader = DataLoader(TensorDataset(torch.tensor(Xva), torch.tensor(Yva)), batch_size=p[\"bs\"], pin_memory=True)\n",
    "\n",
    "        for epoch in range(p[\"ep\"]):\n",
    "            model.train()\n",
    "            for xb, yb in tr_loader:\n",
    "                xb, yb = xb.to(device, non_blocking=True), yb.to(device, non_blocking=True)\n",
    "                opt.zero_grad(set_to_none=True)\n",
    "                with amp.autocast(device_type='cuda'):\n",
    "                    loss = nn.functional.mse_loss(model(xb), yb)\n",
    "                scaler.scale(loss).backward(); scaler.step(opt); scaler.update()\n",
    "\n",
    "            model.eval(); preds, gts = [], []\n",
    "            with torch.no_grad(), amp.autocast(device_type='cuda'):\n",
    "                for xb, yb in va_loader:\n",
    "                    preds.append(model(xb.to(device, non_blocking=True)).cpu()); gts.append(yb)\n",
    "            mse = mean_squared_error(torch.cat(gts).numpy(), torch.cat(preds).numpy())\n",
    "\n",
    "            global_step = f_idx * p[\"ep\"] + epoch\n",
    "            if epoch % report_every == 0:\n",
    "                trial.report(mse, global_step)\n",
    "                if trial.should_prune():\n",
    "                    raise optuna.TrialPruned()\n",
    "\n",
    "            if mse + 1e-6 < best:\n",
    "                best, pat = mse, 0\n",
    "            else:\n",
    "                pat += 1\n",
    "                if pat >= EARLY_STOP:\n",
    "                    break\n",
    "        tqdm.write(f\"Fold {f_idx+1} best MSE = {best:.4f}\")\n",
    "        mse_fold.append(best)\n",
    "    return np.mean(mse_fold) if mse_fold else np.inf\n",
    "\n",
    "# ---------------------- Main ---------------------- #\n",
    "if __name__ == \"__main__\":\n",
    "    X = pd.read_csv(\"X_df_filtered_shap.csv\", index_col=0, parse_dates=True)\n",
    "    Y = pd.read_csv(f\"Y_df_change_{FORECAST_HORIZON}.csv\", index_col=0, parse_dates=True)\n",
    "    folds = expanding_folds(X, Y, FORECAST_HORIZON)\n",
    "    print(f\"Generated {len(folds)} folds\\n\")    \n",
    "\n",
    "    study = optuna.create_study(\n",
    "        direction=\"minimize\",\n",
    "        sampler=TPESampler(seed=RNG_SEED),\n",
    "        pruner=MedianPruner(8, 15)\n",
    "    )\n",
    "\n",
    "    t0 = time.time()\n",
    "    study.optimize(\n",
    "        lambda tr: objective(tr, folds),\n",
    "        n_trials=TRIALS,\n",
    "        n_jobs=1,\n",
    "        show_progress_bar=True\n",
    "    )\n",
    "    dur = time.time() - t0\n",
    "\n",
    "    print(\"=== Best Trial ===\")\n",
    "    print(f\"MSE   : {study.best_value:.6f}\")\n",
    "    print(f\"Params: {study.best_trial.params}\")\n",
    "    print(f\"Total run time: {dur:.1f} s\")"
   ]
  },
  {
   "cell_type": "code",
   "execution_count": 12,
   "id": "117aefa0-6fe3-404a-a5d4-c8f067249a39",
   "metadata": {},
   "outputs": [
    {
     "name": "stdout",
     "output_type": "stream",
     "text": [
      "[INFO] Running final model evaluation on test set\n",
      "[DEBUG] It's working\n",
      "\n",
      "[RESULT] Final Test Set MSE: 0.046121\n"
     ]
    }
   ],
   "source": [
    "if __name__ == \"__main__\":\n",
    "    BEST_PARAMS = {\n",
    "        'hidden_dim': 35,\n",
    "        'num_layers': 1,\n",
    "        'dropout': 0.10909498032426036,\n",
    "        'learning_rate': 0.0002049268011541737,\n",
    "        'batch_size': 64,\n",
    "        'epochs': 51\n",
    "    }\n",
    "    \n",
    "    FORECAST_HORIZON = 252\n",
    "    SEQUENCE_LENGTH = 1323\n",
    "    \n",
    "    print(\"[INFO] Running final model evaluation on test set\")\n",
    "\n",
    "    X = pd.read_csv(\"X_df_filtered_shap.csv\", index_col=0, parse_dates=True)\n",
    "    Y = pd.read_csv(\"Y_df_change_5.csv\", index_col=0, parse_dates=True)\n",
    "\n",
    "    TEST_SIZE = 756             # 3-year hold-out\n",
    "    seq_buffer = SEQUENCE_LENGTH + FORECAST_HORIZON - 1\n",
    "    \n",
    "    X_train = X.iloc[:-TEST_SIZE]\n",
    "    Y_train = Y.iloc[:-TEST_SIZE]\n",
    "    \n",
    "    X_test_start = -TEST_SIZE - seq_buffer   # keep enough context for sequences\n",
    "    X_test = X.iloc[X_test_start:]\n",
    "    Y_test = Y.iloc[-TEST_SIZE:]\n",
    "\n",
    "    sc = StandardScaler()\n",
    "    X_train_std = pd.DataFrame(sc.fit_transform(X_train), index=X_train.index, columns=X_train.columns)\n",
    "    X_test_std  = pd.DataFrame(sc.transform(X_test),     index=X_test.index,  columns=X_test.columns)\n",
    "\n",
    "    X_tr_seq, Y_tr_seq = gen_seq(X_train_std, Y_train, SEQUENCE_LENGTH, FORECAST_HORIZON)\n",
    "    X_te_seq, Y_te_seq = gen_seq(X_test_std,  Y_test,  SEQUENCE_LENGTH, FORECAST_HORIZON)\n",
    "\n",
    "    if len(X_te_seq) == 0 or len(Y_te_seq) == 0:\n",
    "        print(\"[ERROR] No valid test sequences generated. Check alignment or sequence length.\")\n",
    "        sys.exit(1)\n",
    "    else:\n",
    "        print(\"[DEBUG] It's working\")\n",
    "\n",
    "    model = LSTMRegressor(\n",
    "        in_dim=X_tr_seq.shape[2],\n",
    "        hid=BEST_PARAMS['hidden_dim'],\n",
    "        layers=BEST_PARAMS['num_layers'],\n",
    "        out_dim=Y_tr_seq.shape[1],\n",
    "        drop=BEST_PARAMS['dropout']\n",
    "    ).to(device)\n",
    "\n",
    "    optimizer = torch.optim.Adam(model.parameters(), lr=BEST_PARAMS['learning_rate'])\n",
    "    scaler = amp.GradScaler()\n",
    "\n",
    "    train_loader = DataLoader(TensorDataset(torch.tensor(X_tr_seq), torch.tensor(Y_tr_seq)),\n",
    "                              batch_size=BEST_PARAMS['batch_size'], shuffle=True, pin_memory=True)\n",
    "\n",
    "    model.train()\n",
    "    for epoch in range(BEST_PARAMS['epochs']):\n",
    "        for xb, yb in train_loader:\n",
    "            xb, yb = xb.to(device, non_blocking=True), yb.to(device, non_blocking=True)\n",
    "            optimizer.zero_grad(set_to_none=True)\n",
    "            with amp.autocast(device_type=\"cuda\"):\n",
    "                loss = nn.functional.mse_loss(model(xb), yb)\n",
    "            scaler.scale(loss).backward(); scaler.step(optimizer); scaler.update()\n",
    "\n",
    "    model.eval(); preds, gts = [], []\n",
    "    test_loader = DataLoader(TensorDataset(torch.tensor(X_te_seq), torch.tensor(Y_te_seq)),\n",
    "                             batch_size=BEST_PARAMS['batch_size'], pin_memory=True)\n",
    "\n",
    "    with torch.no_grad(), amp.autocast(device_type='cuda'):\n",
    "        for xb, yb in test_loader:\n",
    "            xb = xb.to(device, non_blocking=True)\n",
    "            preds.append(model(xb).cpu())\n",
    "            gts.append(yb)\n",
    "\n",
    "    if len(preds) == 0 or len(gts) == 0:\n",
    "        print(\"[ERROR] No predictions generated. Check test data preprocessing.\")\n",
    "        sys.exit(1)\n",
    "\n",
    "    y_true = torch.cat(gts).numpy()\n",
    "    y_pred = torch.cat(preds).numpy()\n",
    "    mse = mean_squared_error(y_true, y_pred)\n",
    "    print(f\"\\n[RESULT] Final Test Set MSE: {mse:.6f}\")"
   ]
  },
  {
   "cell_type": "code",
   "execution_count": 13,
   "id": "9eb7a920-3028-484b-9836-4add1ef97145",
   "metadata": {},
   "outputs": [
    {
     "name": "stdout",
     "output_type": "stream",
     "text": [
      "[INFO] Multi-output predictions saved to 'final_test_predictions_multioutput.csv'\n"
     ]
    }
   ],
   "source": [
    "# ---------------------- Save Multi-Output Results ---------------------- #\n",
    "maturity_labels = [f\"m{i+1}\" for i in range(y_true.shape[1])]  # e.g., m1, m2, ..., m6\n",
    "\n",
    "# Create column-wise dict\n",
    "results_dict = {\n",
    "    \"date\": Y_test.index[-len(y_true):]  # ensure alignment\n",
    "}\n",
    "\n",
    "# Add true and predicted values for each maturity\n",
    "for i, label in enumerate(maturity_labels):\n",
    "    results_dict[f\"{label}_true\"] = y_true[:, i]\n",
    "    results_dict[f\"{label}_pred\"] = y_pred[:, i]\n",
    "\n",
    "# Convert to DataFrame\n",
    "results_df = pd.DataFrame(results_dict).set_index(\"date\")\n",
    "\n",
    "# Save\n",
    "results_df.to_csv(f\"final_test_predictions_multioutput_H{FORECAST_HORIZON}.csv\")\n",
    "print(\"[INFO] Multi-output predictions saved to 'final_test_predictions_multioutput.csv'\")"
   ]
  }
 ],
 "metadata": {
  "kernelspec": {
   "display_name": "Python3 (ipykernel)",
   "language": "python",
   "name": "python3"
  },
  "language_info": {
   "codemirror_mode": {
    "name": "ipython",
    "version": 3
   },
   "file_extension": ".py",
   "mimetype": "text/x-python",
   "name": "python",
   "nbconvert_exporter": "python",
   "pygments_lexer": "ipython3",
   "version": "3.12.3"
  }
 },
 "nbformat": 4,
 "nbformat_minor": 5
}
