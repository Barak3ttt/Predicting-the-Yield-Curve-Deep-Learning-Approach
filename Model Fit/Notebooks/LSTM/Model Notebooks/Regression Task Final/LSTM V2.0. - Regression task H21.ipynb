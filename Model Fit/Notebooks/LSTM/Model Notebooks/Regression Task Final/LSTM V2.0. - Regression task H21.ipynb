{
 "cells": [
  {
   "cell_type": "code",
   "execution_count": 1,
   "id": "ba3d7190-9c03-4654-89a8-6986aeaad9a0",
   "metadata": {},
   "outputs": [
    {
     "name": "stdout",
     "output_type": "stream",
     "text": [
      "Requirement already satisfied: numpy in /venv/main/lib/python3.10/site-packages (2.1.2)\n",
      "Collecting pandas\n",
      "  Downloading pandas-2.2.3-cp310-cp310-manylinux_2_17_x86_64.manylinux2014_x86_64.whl (13.1 MB)\n",
      "\u001b[2K     \u001b[90m━━━━━━━━━━━━━━━━━━━━━━━━━━━━━━━━━━━━━━━━\u001b[0m \u001b[32m13.1/13.1 MB\u001b[0m \u001b[31m27.9 MB/s\u001b[0m eta \u001b[36m0:00:00\u001b[0m00:01\u001b[0m00:01\u001b[0m\n",
      "\u001b[?25hRequirement already satisfied: tqdm in /venv/main/lib/python3.10/site-packages (4.67.1)\n",
      "Requirement already satisfied: torch in /venv/main/lib/python3.10/site-packages (2.5.1+cu124)\n",
      "Collecting scikit-learn\n",
      "  Downloading scikit_learn-1.6.1-cp310-cp310-manylinux_2_17_x86_64.manylinux2014_x86_64.whl (13.5 MB)\n",
      "\u001b[2K     \u001b[90m━━━━━━━━━━━━━━━━━━━━━━━━━━━━━━━━━━━━━━━━\u001b[0m \u001b[32m13.5/13.5 MB\u001b[0m \u001b[31m59.9 MB/s\u001b[0m eta \u001b[36m0:00:00\u001b[0m00:01\u001b[0m00:01\u001b[0m\n",
      "\u001b[?25hCollecting optuna\n",
      "  Downloading optuna-4.3.0-py3-none-any.whl (386 kB)\n",
      "\u001b[2K     \u001b[90m━━━━━━━━━━━━━━━━━━━━━━━━━━━━━━━━━━━━━\u001b[0m \u001b[32m386.6/386.6 KB\u001b[0m \u001b[31m145.4 MB/s\u001b[0m eta \u001b[36m0:00:00\u001b[0m\n",
      "\u001b[?25hCollecting pytz>=2020.1\n",
      "  Downloading pytz-2025.2-py2.py3-none-any.whl (509 kB)\n",
      "\u001b[2K     \u001b[90m━━━━━━━━━━━━━━━━━━━━━━━━━━━━━━━━━━━━━\u001b[0m \u001b[32m509.2/509.2 KB\u001b[0m \u001b[31m160.9 MB/s\u001b[0m eta \u001b[36m0:00:00\u001b[0m\n",
      "\u001b[?25hCollecting tzdata>=2022.7\n",
      "  Downloading tzdata-2025.2-py2.py3-none-any.whl (347 kB)\n",
      "\u001b[2K     \u001b[90m━━━━━━━━━━━━━━━━━━━━━━━━━━━━━━━━━━━━━\u001b[0m \u001b[32m347.8/347.8 KB\u001b[0m \u001b[31m132.2 MB/s\u001b[0m eta \u001b[36m0:00:00\u001b[0m\n",
      "\u001b[?25hRequirement already satisfied: python-dateutil>=2.8.2 in /venv/main/lib/python3.10/site-packages (from pandas) (2.9.0.post0)\n",
      "Requirement already satisfied: typing-extensions>=4.8.0 in /venv/main/lib/python3.10/site-packages (from torch) (4.13.2)\n",
      "Requirement already satisfied: fsspec in /venv/main/lib/python3.10/site-packages (from torch) (2025.3.2)\n",
      "Requirement already satisfied: triton==3.1.0 in /venv/main/lib/python3.10/site-packages (from torch) (3.1.0)\n",
      "Requirement already satisfied: filelock in /venv/main/lib/python3.10/site-packages (from torch) (3.18.0)\n",
      "Requirement already satisfied: nvidia-cufft-cu12==11.2.1.3 in /venv/main/lib/python3.10/site-packages (from torch) (11.2.1.3)\n",
      "Requirement already satisfied: networkx in /venv/main/lib/python3.10/site-packages (from torch) (3.3)\n",
      "Requirement already satisfied: nvidia-cuda-runtime-cu12==12.4.127 in /venv/main/lib/python3.10/site-packages (from torch) (12.4.127)\n",
      "Requirement already satisfied: nvidia-cuda-cupti-cu12==12.4.127 in /venv/main/lib/python3.10/site-packages (from torch) (12.4.127)\n",
      "Requirement already satisfied: nvidia-nvjitlink-cu12==12.4.127 in /venv/main/lib/python3.10/site-packages (from torch) (12.4.127)\n",
      "Requirement already satisfied: sympy==1.13.1 in /venv/main/lib/python3.10/site-packages (from torch) (1.13.1)\n",
      "Requirement already satisfied: nvidia-cudnn-cu12==9.1.0.70 in /venv/main/lib/python3.10/site-packages (from torch) (9.1.0.70)\n",
      "Requirement already satisfied: nvidia-cusolver-cu12==11.6.1.9 in /venv/main/lib/python3.10/site-packages (from torch) (11.6.1.9)\n",
      "Requirement already satisfied: nvidia-curand-cu12==10.3.5.147 in /venv/main/lib/python3.10/site-packages (from torch) (10.3.5.147)\n",
      "Requirement already satisfied: nvidia-nccl-cu12==2.21.5 in /venv/main/lib/python3.10/site-packages (from torch) (2.21.5)\n",
      "Requirement already satisfied: nvidia-cuda-nvrtc-cu12==12.4.127 in /venv/main/lib/python3.10/site-packages (from torch) (12.4.127)\n",
      "Requirement already satisfied: nvidia-cublas-cu12==12.4.5.8 in /venv/main/lib/python3.10/site-packages (from torch) (12.4.5.8)\n",
      "Requirement already satisfied: nvidia-nvtx-cu12==12.4.127 in /venv/main/lib/python3.10/site-packages (from torch) (12.4.127)\n",
      "Requirement already satisfied: nvidia-cusparse-cu12==12.3.1.170 in /venv/main/lib/python3.10/site-packages (from torch) (12.3.1.170)\n",
      "Requirement already satisfied: jinja2 in /venv/main/lib/python3.10/site-packages (from torch) (3.1.4)\n",
      "Requirement already satisfied: mpmath<1.4,>=1.1.0 in /venv/main/lib/python3.10/site-packages (from sympy==1.13.1->torch) (1.3.0)\n",
      "Collecting joblib>=1.2.0\n",
      "  Downloading joblib-1.5.0-py3-none-any.whl (307 kB)\n",
      "\u001b[2K     \u001b[90m━━━━━━━━━━━━━━━━━━━━━━━━━━━━━━━━━━━━━\u001b[0m \u001b[32m307.7/307.7 KB\u001b[0m \u001b[31m115.1 MB/s\u001b[0m eta \u001b[36m0:00:00\u001b[0m\n",
      "\u001b[?25hCollecting scipy>=1.6.0\n",
      "  Downloading scipy-1.15.3-cp310-cp310-manylinux_2_17_x86_64.manylinux2014_x86_64.whl (37.7 MB)\n",
      "\u001b[2K     \u001b[90m━━━━━━━━━━━━━━━━━━━━━━━━━━━━━━━━━━━━━━━━\u001b[0m \u001b[32m37.7/37.7 MB\u001b[0m \u001b[31m59.7 MB/s\u001b[0m eta \u001b[36m0:00:00\u001b[0m00:01\u001b[0m00:01\u001b[0m\n",
      "\u001b[?25hCollecting threadpoolctl>=3.1.0\n",
      "  Downloading threadpoolctl-3.6.0-py3-none-any.whl (18 kB)\n",
      "Collecting sqlalchemy>=1.4.2\n",
      "  Downloading sqlalchemy-2.0.40-cp310-cp310-manylinux_2_17_x86_64.manylinux2014_x86_64.whl (3.1 MB)\n",
      "\u001b[2K     \u001b[90m━━━━━━━━━━━━━━━━━━━━━━━━━━━━━━━━━━━━━━━━\u001b[0m \u001b[32m3.1/3.1 MB\u001b[0m \u001b[31m213.6 MB/s\u001b[0m eta \u001b[36m0:00:00\u001b[0m\n",
      "\u001b[?25hCollecting alembic>=1.5.0\n",
      "  Downloading alembic-1.15.2-py3-none-any.whl (231 kB)\n",
      "\u001b[2K     \u001b[90m━━━━━━━━━━━━━━━━━━━━━━━━━━━━━━━━━━━━━━\u001b[0m \u001b[32m231.9/231.9 KB\u001b[0m \u001b[31m92.9 MB/s\u001b[0m eta \u001b[36m0:00:00\u001b[0m\n",
      "\u001b[?25hRequirement already satisfied: PyYAML in /venv/main/lib/python3.10/site-packages (from optuna) (6.0.2)\n",
      "Requirement already satisfied: packaging>=20.0 in /venv/main/lib/python3.10/site-packages (from optuna) (25.0)\n",
      "Collecting colorlog\n",
      "  Downloading colorlog-6.9.0-py3-none-any.whl (11 kB)\n",
      "Collecting Mako\n",
      "  Downloading mako-1.3.10-py3-none-any.whl (78 kB)\n",
      "\u001b[2K     \u001b[90m━━━━━━━━━━━━━━━━━━━━━━━━━━━━━━━━━━━━━━━━\u001b[0m \u001b[32m78.5/78.5 KB\u001b[0m \u001b[31m40.2 MB/s\u001b[0m eta \u001b[36m0:00:00\u001b[0m\n",
      "\u001b[?25hRequirement already satisfied: six>=1.5 in /venv/main/lib/python3.10/site-packages (from python-dateutil>=2.8.2->pandas) (1.17.0)\n",
      "Collecting greenlet>=1\n",
      "  Downloading greenlet-3.2.2-cp310-cp310-manylinux_2_24_x86_64.manylinux_2_28_x86_64.whl (580 kB)\n",
      "\u001b[2K     \u001b[90m━━━━━━━━━━━━━━━━━━━━━━━━━━━━━━━━━━━━━\u001b[0m \u001b[32m580.6/580.6 KB\u001b[0m \u001b[31m158.2 MB/s\u001b[0m eta \u001b[36m0:00:00\u001b[0m\n",
      "\u001b[?25hRequirement already satisfied: MarkupSafe>=2.0 in /venv/main/lib/python3.10/site-packages (from jinja2->torch) (2.1.5)\n",
      "Installing collected packages: pytz, tzdata, threadpoolctl, scipy, Mako, joblib, greenlet, colorlog, sqlalchemy, scikit-learn, pandas, alembic, optuna\n",
      "Successfully installed Mako-1.3.10 alembic-1.15.2 colorlog-6.9.0 greenlet-3.2.2 joblib-1.5.0 optuna-4.3.0 pandas-2.2.3 pytz-2025.2 scikit-learn-1.6.1 scipy-1.15.3 sqlalchemy-2.0.40 threadpoolctl-3.6.0 tzdata-2025.2\n",
      "Note: you may need to restart the kernel to use updated packages.\n"
     ]
    }
   ],
   "source": [
    "pip install numpy pandas tqdm torch scikit-learn optuna"
   ]
  },
  {
   "cell_type": "code",
   "execution_count": 2,
   "id": "9ca08370-cf0e-4d95-a40d-d0fe372f3306",
   "metadata": {},
   "outputs": [
    {
     "name": "stderr",
     "output_type": "stream",
     "text": [
      "[I 2025-05-13 12:13:06,942] A new study created in memory with name: no-name-ab0467ba-3cf3-461e-b23c-219f5b47bc1f\n"
     ]
    },
    {
     "name": "stdout",
     "output_type": "stream",
     "text": [
      "[INFO] Device: cuda\n",
      "  • GPU: NVIDIA H100 80GB HBM3\n",
      "Generated 6 folds\n",
      "\n"
     ]
    },
    {
     "data": {
      "application/vnd.jupyter.widget-view+json": {
       "model_id": "3136ca12fc7e48179e14c5042c8ab146",
       "version_major": 2,
       "version_minor": 0
      },
      "text/plain": [
       "  0%|          | 0/30 [00:00<?, ?it/s]"
      ]
     },
     "metadata": {},
     "output_type": "display_data"
    },
    {
     "name": "stderr",
     "output_type": "stream",
     "text": [
      "\n",
      "Folds:   0%|          | 0/6 [00:00<?, ?it/s]\u001b[A\n",
      "\u001b[A                                         \n",
      "Folds:   0%|          | 0/6 [00:08<?, ?it/s]\u001b[A\n",
      "Folds:  33%|███▎      | 2/6 [00:08<00:16,  4.09s/it]\u001b[A"
     ]
    },
    {
     "name": "stdout",
     "output_type": "stream",
     "text": [
      "Fold 2 best MSE = 0.3747\n"
     ]
    },
    {
     "name": "stderr",
     "output_type": "stream",
     "text": [
      "\n",
      "\u001b[A                                                 \n",
      "Folds:  33%|███▎      | 2/6 [00:30<00:16,  4.09s/it]\u001b[A\n",
      "Folds:  50%|█████     | 3/6 [00:30<00:35, 11.73s/it]\u001b[A"
     ]
    },
    {
     "name": "stdout",
     "output_type": "stream",
     "text": [
      "Fold 3 best MSE = 0.4509\n"
     ]
    },
    {
     "name": "stderr",
     "output_type": "stream",
     "text": [
      "\n",
      "\u001b[A                                                 \n",
      "Folds:  50%|█████     | 3/6 [01:03<00:35, 11.73s/it]\u001b[A\n",
      "Folds:  67%|██████▋   | 4/6 [01:03<00:38, 19.48s/it]\u001b[A"
     ]
    },
    {
     "name": "stdout",
     "output_type": "stream",
     "text": [
      "Fold 4 best MSE = 1.0902\n"
     ]
    },
    {
     "name": "stderr",
     "output_type": "stream",
     "text": [
      "\n",
      "\u001b[A                                                 \n",
      "Folds:  67%|██████▋   | 4/6 [01:23<00:38, 19.48s/it]\u001b[A\n",
      "Folds:  83%|████████▎ | 5/6 [01:23<00:19, 19.69s/it]\u001b[A"
     ]
    },
    {
     "name": "stdout",
     "output_type": "stream",
     "text": [
      "Fold 5 best MSE = 0.1413\n"
     ]
    },
    {
     "name": "stderr",
     "output_type": "stream",
     "text": [
      "\n",
      "\u001b[A                                                 \n",
      "Folds:  83%|████████▎ | 5/6 [01:40<00:19, 19.69s/it]\u001b[A\n",
      "Folds: 100%|██████████| 6/6 [01:40<00:00, 18.99s/it]\u001b[A\n",
      "                                                    \u001b[A"
     ]
    },
    {
     "name": "stdout",
     "output_type": "stream",
     "text": [
      "Fold 6 best MSE = 0.3880\n",
      "[I 2025-05-13 12:14:47,788] Trial 0 finished with value: 0.489018115401268 and parameters: {'hidden_dim': 92, 'num_layers': 1, 'dropout': 0.0936111842654619, 'learning_rate': 0.00018408992080552527, 'batch_size': 64, 'epochs': 69}. Best is trial 0 with value: 0.489018115401268.\n"
     ]
    },
    {
     "name": "stderr",
     "output_type": "stream",
     "text": [
      "\n",
      "Folds:   0%|          | 0/6 [00:00<?, ?it/s]\u001b[A\n",
      "\u001b[A                                         \n",
      "Folds:   0%|          | 0/6 [00:08<?, ?it/s]\u001b[A\n",
      "Folds:  33%|███▎      | 2/6 [00:08<00:16,  4.23s/it]\u001b[A"
     ]
    },
    {
     "name": "stdout",
     "output_type": "stream",
     "text": [
      "Fold 2 best MSE = 0.3277\n"
     ]
    },
    {
     "name": "stderr",
     "output_type": "stream",
     "text": [
      "\n",
      "\u001b[A                                                 \n",
      "Folds:  33%|███▎      | 2/6 [00:24<00:16,  4.23s/it]\u001b[A\n",
      "Folds:  50%|█████     | 3/6 [00:24<00:27,  9.06s/it]\u001b[A"
     ]
    },
    {
     "name": "stdout",
     "output_type": "stream",
     "text": [
      "Fold 3 best MSE = 0.3301\n"
     ]
    },
    {
     "name": "stderr",
     "output_type": "stream",
     "text": [
      "\n",
      "\u001b[A                                                 \n",
      "Folds:  50%|█████     | 3/6 [00:45<00:27,  9.06s/it]\u001b[A\n",
      "Folds:  67%|██████▋   | 4/6 [00:45<00:27, 13.58s/it]\u001b[A"
     ]
    },
    {
     "name": "stdout",
     "output_type": "stream",
     "text": [
      "Fold 4 best MSE = 0.9847\n"
     ]
    },
    {
     "name": "stderr",
     "output_type": "stream",
     "text": [
      "\n",
      "\u001b[A                                                 \n",
      "Folds:  67%|██████▋   | 4/6 [01:14<00:27, 13.58s/it]\u001b[A\n",
      "Folds:  83%|████████▎ | 5/6 [01:14<00:19, 19.08s/it]\u001b[A"
     ]
    },
    {
     "name": "stdout",
     "output_type": "stream",
     "text": [
      "Fold 5 best MSE = 0.0328\n"
     ]
    },
    {
     "name": "stderr",
     "output_type": "stream",
     "text": [
      "\n",
      "\u001b[A                                                 \n",
      "Folds:  83%|████████▎ | 5/6 [01:32<00:19, 19.08s/it]\u001b[A\n",
      "Folds: 100%|██████████| 6/6 [01:32<00:00, 18.70s/it]\u001b[A\n",
      "                                                    \u001b[A"
     ]
    },
    {
     "name": "stdout",
     "output_type": "stream",
     "text": [
      "Fold 6 best MSE = 0.3847\n",
      "[I 2025-05-13 12:16:20,620] Trial 1 finished with value: 0.4120042182505131 and parameters: {'hidden_dim': 35, 'num_layers': 1, 'dropout': 0.10909498032426036, 'learning_rate': 0.0002049268011541737, 'batch_size': 64, 'epochs': 51}. Best is trial 1 with value: 0.4120042182505131.\n"
     ]
    },
    {
     "name": "stderr",
     "output_type": "stream",
     "text": [
      "\n",
      "Folds:   0%|          | 0/6 [00:00<?, ?it/s]\u001b[A\n",
      "\u001b[A                                         \n",
      "Folds:   0%|          | 0/6 [00:13<?, ?it/s]\u001b[A\n",
      "Folds:  33%|███▎      | 2/6 [00:13<00:26,  6.62s/it]\u001b[A"
     ]
    },
    {
     "name": "stdout",
     "output_type": "stream",
     "text": [
      "Fold 2 best MSE = 0.2212\n"
     ]
    },
    {
     "name": "stderr",
     "output_type": "stream",
     "text": [
      "\n",
      "\u001b[A                                                 \n",
      "Folds:  33%|███▎      | 2/6 [00:30<00:26,  6.62s/it]\u001b[A\n",
      "Folds:  50%|█████     | 3/6 [00:30<00:32, 10.97s/it]\u001b[A"
     ]
    },
    {
     "name": "stdout",
     "output_type": "stream",
     "text": [
      "Fold 3 best MSE = 0.2340\n"
     ]
    },
    {
     "name": "stderr",
     "output_type": "stream",
     "text": [
      "\n",
      "\u001b[A                                                 \n",
      "Folds:  50%|█████     | 3/6 [00:49<00:32, 10.97s/it]\u001b[A\n",
      "Folds:  67%|██████▋   | 4/6 [00:49<00:28, 14.22s/it]\u001b[A"
     ]
    },
    {
     "name": "stdout",
     "output_type": "stream",
     "text": [
      "Fold 4 best MSE = 0.8946\n"
     ]
    },
    {
     "name": "stderr",
     "output_type": "stream",
     "text": [
      "\n",
      "\u001b[A                                                 \n",
      "Folds:  67%|██████▋   | 4/6 [01:14<00:28, 14.22s/it]\u001b[A\n",
      "Folds:  83%|████████▎ | 5/6 [01:14<00:17, 17.74s/it]\u001b[A"
     ]
    },
    {
     "name": "stdout",
     "output_type": "stream",
     "text": [
      "Fold 5 best MSE = 0.0144\n"
     ]
    },
    {
     "name": "stderr",
     "output_type": "stream",
     "text": [
      "\n",
      "\u001b[A                                                 \n",
      "Folds:  83%|████████▎ | 5/6 [01:45<00:17, 17.74s/it]\u001b[A\n",
      "Folds: 100%|██████████| 6/6 [01:45<00:00, 22.17s/it]\u001b[A\n",
      "                                                    \u001b[A"
     ]
    },
    {
     "name": "stdout",
     "output_type": "stream",
     "text": [
      "Fold 6 best MSE = 0.3178\n",
      "[I 2025-05-13 12:18:06,067] Trial 2 finished with value: 0.33640558626502753 and parameters: {'hidden_dim': 130, 'num_layers': 3, 'dropout': 0.27364199053022153, 'learning_rate': 0.0021576967455896826, 'batch_size': 128, 'epochs': 41}. Best is trial 2 with value: 0.33640558626502753.\n"
     ]
    },
    {
     "name": "stderr",
     "output_type": "stream",
     "text": [
      "\n",
      "Folds:   0%|          | 0/6 [00:00<?, ?it/s]\u001b[A\n",
      "\u001b[A                                         \n",
      "Folds:   0%|          | 0/6 [00:10<?, ?it/s]\u001b[A\n",
      "Folds:  33%|███▎      | 2/6 [00:10<00:20,  5.19s/it]\u001b[A"
     ]
    },
    {
     "name": "stdout",
     "output_type": "stream",
     "text": [
      "Fold 2 best MSE = 0.1839\n"
     ]
    },
    {
     "name": "stderr",
     "output_type": "stream",
     "text": [
      "\n",
      "\u001b[A                                                 \n",
      "Folds:  33%|███▎      | 2/6 [00:47<00:20,  5.19s/it]\u001b[A\n",
      "Folds:  50%|█████     | 3/6 [00:47<00:54, 18.30s/it]\u001b[A"
     ]
    },
    {
     "name": "stdout",
     "output_type": "stream",
     "text": [
      "Fold 3 best MSE = 0.2097\n"
     ]
    },
    {
     "name": "stderr",
     "output_type": "stream",
     "text": [
      "\n",
      "\u001b[A                                                 \n",
      "Folds:  50%|█████     | 3/6 [01:06<00:54, 18.30s/it]\u001b[A\n",
      "Folds:  67%|██████▋   | 4/6 [01:06<00:37, 18.79s/it]\u001b[A"
     ]
    },
    {
     "name": "stdout",
     "output_type": "stream",
     "text": [
      "Fold 4 best MSE = 0.8958\n"
     ]
    },
    {
     "name": "stderr",
     "output_type": "stream",
     "text": [
      "\n",
      "\u001b[A                                                 \n",
      "Folds:  67%|██████▋   | 4/6 [01:35<00:37, 18.79s/it]\u001b[A\n",
      "Folds:  83%|████████▎ | 5/6 [01:35<00:22, 22.42s/it]\u001b[A"
     ]
    },
    {
     "name": "stdout",
     "output_type": "stream",
     "text": [
      "Fold 5 best MSE = 0.0050\n"
     ]
    },
    {
     "name": "stderr",
     "output_type": "stream",
     "text": [
      "\n",
      "\u001b[A                                                 \n",
      "Folds:  83%|████████▎ | 5/6 [03:06<00:22, 22.42s/it]\u001b[A\n",
      "Folds: 100%|██████████| 6/6 [03:06<00:00, 45.04s/it]\u001b[A\n",
      "                                                    \u001b[A"
     ]
    },
    {
     "name": "stdout",
     "output_type": "stream",
     "text": [
      "Fold 6 best MSE = 0.2813\n",
      "[I 2025-05-13 12:21:12,573] Trial 3 finished with value: 0.31512034544721246 and parameters: {'hidden_dim': 129, 'num_layers': 3, 'dropout': 0.5793792198447356, 'learning_rate': 0.0023628864184236428, 'batch_size': 128, 'epochs': 58}. Best is trial 3 with value: 0.31512034544721246.\n"
     ]
    },
    {
     "name": "stderr",
     "output_type": "stream",
     "text": [
      "\n",
      "Folds:   0%|          | 0/6 [00:00<?, ?it/s]\u001b[A\n",
      "\u001b[A                                         \n",
      "Folds:   0%|          | 0/6 [00:03<?, ?it/s]\u001b[A\n",
      "Folds:  33%|███▎      | 2/6 [00:03<00:07,  1.78s/it]\u001b[A"
     ]
    },
    {
     "name": "stdout",
     "output_type": "stream",
     "text": [
      "Fold 2 best MSE = 0.2409\n"
     ]
    },
    {
     "name": "stderr",
     "output_type": "stream",
     "text": [
      "\n",
      "\u001b[A                                                 \n",
      "Folds:  33%|███▎      | 2/6 [00:19<00:07,  1.78s/it]\u001b[A\n",
      "Folds:  50%|█████     | 3/6 [00:19<00:22,  7.55s/it]\u001b[A"
     ]
    },
    {
     "name": "stdout",
     "output_type": "stream",
     "text": [
      "Fold 3 best MSE = 0.2437\n"
     ]
    },
    {
     "name": "stderr",
     "output_type": "stream",
     "text": [
      "\n",
      "\u001b[A                                                 \n",
      "Folds:  50%|█████     | 3/6 [00:32<00:22,  7.55s/it]\u001b[A\n",
      "Folds:  67%|██████▋   | 4/6 [00:32<00:19,  9.55s/it]\u001b[A"
     ]
    },
    {
     "name": "stdout",
     "output_type": "stream",
     "text": [
      "Fold 4 best MSE = 0.9847\n"
     ]
    },
    {
     "name": "stderr",
     "output_type": "stream",
     "text": [
      "\n",
      "\u001b[A                                                 \n",
      "Folds:  67%|██████▋   | 4/6 [00:47<00:19,  9.55s/it]\u001b[A\n",
      "Folds:  83%|████████▎ | 5/6 [00:47<00:11, 11.71s/it]\u001b[A"
     ]
    },
    {
     "name": "stdout",
     "output_type": "stream",
     "text": [
      "Fold 5 best MSE = 0.0119\n"
     ]
    },
    {
     "name": "stderr",
     "output_type": "stream",
     "text": [
      "\n",
      "\u001b[A                                                 \n",
      "Folds:  83%|████████▎ | 5/6 [01:04<00:11, 11.71s/it]\u001b[A\n",
      "Folds: 100%|██████████| 6/6 [01:04<00:00, 13.43s/it]\u001b[A\n",
      "                                                    \u001b[A"
     ]
    },
    {
     "name": "stdout",
     "output_type": "stream",
     "text": [
      "Fold 6 best MSE = 0.2887\n",
      "[I 2025-05-13 12:22:17,373] Trial 4 finished with value: 0.3539853794500232 and parameters: {'hidden_dim': 51, 'num_layers': 3, 'dropout': 0.15526798896001015, 'learning_rate': 0.0013353819088790589, 'batch_size': 128, 'epochs': 47}. Best is trial 3 with value: 0.31512034544721246.\n"
     ]
    },
    {
     "name": "stderr",
     "output_type": "stream",
     "text": [
      "\n",
      "Folds:   0%|          | 0/6 [00:00<?, ?it/s]\u001b[A\n",
      "\u001b[A                                         \n",
      "Folds:   0%|          | 0/6 [00:15<?, ?it/s]\u001b[A\n",
      "Folds:  33%|███▎      | 2/6 [00:15<00:31,  7.88s/it]\u001b[A"
     ]
    },
    {
     "name": "stdout",
     "output_type": "stream",
     "text": [
      "Fold 2 best MSE = 0.2185\n"
     ]
    },
    {
     "name": "stderr",
     "output_type": "stream",
     "text": [
      "\n",
      "\u001b[A                                                 \n",
      "Folds:  33%|███▎      | 2/6 [00:37<00:31,  7.88s/it]\u001b[A\n",
      "Folds:  50%|█████     | 3/6 [00:37<00:41, 13.83s/it]\u001b[A"
     ]
    },
    {
     "name": "stdout",
     "output_type": "stream",
     "text": [
      "Fold 3 best MSE = 0.2375\n"
     ]
    },
    {
     "name": "stderr",
     "output_type": "stream",
     "text": [
      "\n",
      "\u001b[A                                                 \n",
      "Folds:  50%|█████     | 3/6 [01:10<00:41, 13.83s/it]\u001b[A\n",
      "Folds:  67%|██████▋   | 4/6 [01:10<00:41, 20.85s/it]\u001b[A"
     ]
    },
    {
     "name": "stdout",
     "output_type": "stream",
     "text": [
      "Fold 4 best MSE = 0.9470\n"
     ]
    },
    {
     "name": "stderr",
     "output_type": "stream",
     "text": [
      "\n",
      "\u001b[A                                                 \n",
      "Folds:  67%|██████▋   | 4/6 [01:52<00:41, 20.85s/it]\u001b[A\n",
      "Folds:  83%|████████▎ | 5/6 [01:52<00:28, 28.27s/it]\u001b[A"
     ]
    },
    {
     "name": "stdout",
     "output_type": "stream",
     "text": [
      "Fold 5 best MSE = 0.0088\n"
     ]
    },
    {
     "name": "stderr",
     "output_type": "stream",
     "text": [
      "\n",
      "\u001b[A                                                 \n",
      "Folds:  83%|████████▎ | 5/6 [02:47<00:28, 28.27s/it]\u001b[A\n",
      "Folds: 100%|██████████| 6/6 [02:47<00:00, 37.03s/it]\u001b[A\n",
      "                                                    \u001b[A"
     ]
    },
    {
     "name": "stdout",
     "output_type": "stream",
     "text": [
      "Fold 6 best MSE = 0.2514\n",
      "[I 2025-05-13 12:25:04,827] Trial 5 finished with value: 0.33263284917920827 and parameters: {'hidden_dim': 188, 'num_layers': 2, 'dropout': 0.3587399872866511, 'learning_rate': 0.0036832964384234204, 'batch_size': 64, 'epochs': 53}. Best is trial 3 with value: 0.31512034544721246.\n"
     ]
    },
    {
     "name": "stderr",
     "output_type": "stream",
     "text": [
      "\n",
      "Folds:   0%|          | 0/6 [00:00<?, ?it/s]\u001b[A\n",
      "\u001b[A                                         \n",
      "Folds:   0%|          | 0/6 [00:04<?, ?it/s]\u001b[A\n",
      "Folds:  33%|███▎      | 2/6 [00:04<00:08,  2.23s/it]\u001b[A"
     ]
    },
    {
     "name": "stdout",
     "output_type": "stream",
     "text": [
      "Fold 2 best MSE = 0.2325\n"
     ]
    },
    {
     "name": "stderr",
     "output_type": "stream",
     "text": [
      "\n",
      "\u001b[A                                                 \n",
      "Folds:  33%|███▎      | 2/6 [00:13<00:08,  2.23s/it]\u001b[A\n",
      "Folds:  50%|█████     | 3/6 [00:13<00:14,  4.92s/it]\u001b[A"
     ]
    },
    {
     "name": "stdout",
     "output_type": "stream",
     "text": [
      "Fold 3 best MSE = 0.2381\n"
     ]
    },
    {
     "name": "stderr",
     "output_type": "stream",
     "text": [
      "\n",
      "\u001b[A                                                 \n",
      "Folds:  50%|█████     | 3/6 [00:34<00:14,  4.92s/it]\u001b[A\n",
      "Folds:  67%|██████▋   | 4/6 [00:34<00:21, 10.92s/it]\u001b[A"
     ]
    },
    {
     "name": "stdout",
     "output_type": "stream",
     "text": [
      "Fold 4 best MSE = 0.8484\n"
     ]
    },
    {
     "name": "stderr",
     "output_type": "stream",
     "text": [
      "\n",
      "\u001b[A                                                 \n",
      "Folds:  67%|██████▋   | 4/6 [00:50<00:21, 10.92s/it]\u001b[A\n",
      "Folds:  83%|████████▎ | 5/6 [00:50<00:12, 12.71s/it]\u001b[A"
     ]
    },
    {
     "name": "stdout",
     "output_type": "stream",
     "text": [
      "Fold 5 best MSE = 0.0159\n"
     ]
    },
    {
     "name": "stderr",
     "output_type": "stream",
     "text": [
      "\n",
      "\u001b[A                                                 \n",
      "Folds:  83%|████████▎ | 5/6 [01:06<00:12, 12.71s/it]\u001b[A\n",
      "Folds: 100%|██████████| 6/6 [01:06<00:00, 13.80s/it]\u001b[A\n",
      "                                                    \u001b[A"
     ]
    },
    {
     "name": "stdout",
     "output_type": "stream",
     "text": [
      "Fold 6 best MSE = 0.4202\n",
      "[I 2025-05-13 12:26:11,107] Trial 6 finished with value: 0.35103695653378963 and parameters: {'hidden_dim': 94, 'num_layers': 2, 'dropout': 0.16856070581242846, 'learning_rate': 0.0008356499023325525, 'batch_size': 64, 'epochs': 80}. Best is trial 3 with value: 0.31512034544721246.\n"
     ]
    },
    {
     "name": "stderr",
     "output_type": "stream",
     "text": [
      "\n",
      "Folds:   0%|          | 0/6 [00:00<?, ?it/s]\u001b[A\n",
      "\u001b[A                                         \n",
      "Folds:   0%|          | 0/6 [00:21<?, ?it/s]\u001b[A\n",
      "Folds:  33%|███▎      | 2/6 [00:21<00:42, 10.57s/it]\u001b[A"
     ]
    },
    {
     "name": "stdout",
     "output_type": "stream",
     "text": [
      "Fold 2 best MSE = 0.2050\n"
     ]
    },
    {
     "name": "stderr",
     "output_type": "stream",
     "text": [
      "\n",
      "\u001b[A                                                 \n",
      "Folds:  33%|███▎      | 2/6 [01:08<00:42, 10.57s/it]\u001b[A\n",
      "Folds:  50%|█████     | 3/6 [01:08<01:17, 25.98s/it]\u001b[A"
     ]
    },
    {
     "name": "stdout",
     "output_type": "stream",
     "text": [
      "Fold 3 best MSE = 0.2412\n"
     ]
    },
    {
     "name": "stderr",
     "output_type": "stream",
     "text": [
      "\n",
      "\u001b[A                                                 \n",
      "Folds:  50%|█████     | 3/6 [02:10<01:17, 25.98s/it]\u001b[A\n",
      "Folds:  67%|██████▋   | 4/6 [02:10<01:18, 39.24s/it]\u001b[A"
     ]
    },
    {
     "name": "stdout",
     "output_type": "stream",
     "text": [
      "Fold 4 best MSE = 0.9412\n"
     ]
    },
    {
     "name": "stderr",
     "output_type": "stream",
     "text": [
      "\n",
      "\u001b[A                                                 \n",
      "Folds:  67%|██████▋   | 4/6 [03:58<01:18, 39.24s/it]\u001b[A\n",
      "Folds:  83%|████████▎ | 5/6 [03:58<01:03, 63.19s/it]\u001b[A"
     ]
    },
    {
     "name": "stdout",
     "output_type": "stream",
     "text": [
      "Fold 5 best MSE = 0.0100\n"
     ]
    },
    {
     "name": "stderr",
     "output_type": "stream",
     "text": [
      "\n",
      "\u001b[A                                                 \n",
      "Folds:  83%|████████▎ | 5/6 [06:05<01:03, 63.19s/it]\u001b[A\n",
      "Folds: 100%|██████████| 6/6 [06:05<00:00, 84.36s/it]\u001b[A\n",
      "                                                    \u001b[A"
     ]
    },
    {
     "name": "stdout",
     "output_type": "stream",
     "text": [
      "Fold 6 best MSE = 0.3892\n",
      "[I 2025-05-13 12:32:16,485] Trial 7 finished with value: 0.35732873249799013 and parameters: {'hidden_dim': 156, 'num_layers': 3, 'dropout': 0.4241144063085703, 'learning_rate': 0.001732053535845956, 'batch_size': 32, 'epochs': 44}. Best is trial 3 with value: 0.31512034544721246.\n"
     ]
    },
    {
     "name": "stderr",
     "output_type": "stream",
     "text": [
      "\n",
      "Folds:   0%|          | 0/6 [00:00<?, ?it/s]\u001b[A\n",
      "\u001b[A                                         \n",
      "Folds:   0%|          | 0/6 [00:15<?, ?it/s]\u001b[A\n",
      "Folds:  33%|███▎      | 2/6 [00:15<00:30,  7.64s/it]\u001b[A"
     ]
    },
    {
     "name": "stdout",
     "output_type": "stream",
     "text": [
      "Fold 2 best MSE = 0.2295\n"
     ]
    },
    {
     "name": "stderr",
     "output_type": "stream",
     "text": [
      "\n",
      "\u001b[A                                                 \n",
      "Folds:  33%|███▎      | 2/6 [00:42<00:30,  7.64s/it]\u001b[A\n",
      "Folds:  50%|█████     | 3/6 [00:42<00:47, 15.77s/it]\u001b[A"
     ]
    },
    {
     "name": "stdout",
     "output_type": "stream",
     "text": [
      "Fold 3 best MSE = 0.2591\n"
     ]
    },
    {
     "name": "stderr",
     "output_type": "stream",
     "text": [
      "\n",
      "                                                    \u001b[A"
     ]
    },
    {
     "name": "stdout",
     "output_type": "stream",
     "text": [
      "[I 2025-05-13 12:32:59,818] Trial 8 pruned. \n"
     ]
    },
    {
     "name": "stderr",
     "output_type": "stream",
     "text": [
      "\n",
      "Folds:   0%|          | 0/6 [00:00<?, ?it/s]\u001b[A\n",
      "                                            \u001b[A"
     ]
    },
    {
     "name": "stdout",
     "output_type": "stream",
     "text": [
      "[I 2025-05-13 12:33:00,161] Trial 9 pruned. \n"
     ]
    },
    {
     "name": "stderr",
     "output_type": "stream",
     "text": [
      "\n",
      "Folds:   0%|          | 0/6 [00:00<?, ?it/s]\u001b[A\n",
      "\u001b[A                                         \n",
      "Folds:   0%|          | 0/6 [00:09<?, ?it/s]\u001b[A\n",
      "Folds:  33%|███▎      | 2/6 [00:09<00:19,  4.85s/it]\u001b[A"
     ]
    },
    {
     "name": "stdout",
     "output_type": "stream",
     "text": [
      "Fold 2 best MSE = 0.2009\n"
     ]
    },
    {
     "name": "stderr",
     "output_type": "stream",
     "text": [
      "\n",
      "\u001b[A                                                 \n",
      "Folds:  33%|███▎      | 2/6 [00:20<00:19,  4.85s/it]\u001b[A\n",
      "Folds:  50%|█████     | 3/6 [00:20<00:22,  7.51s/it]\u001b[A"
     ]
    },
    {
     "name": "stdout",
     "output_type": "stream",
     "text": [
      "Fold 3 best MSE = 0.2349\n"
     ]
    },
    {
     "name": "stderr",
     "output_type": "stream",
     "text": [
      "\n",
      "                                                    \u001b[A"
     ]
    },
    {
     "name": "stdout",
     "output_type": "stream",
     "text": [
      "[I 2025-05-13 12:33:21,733] Trial 10 pruned. \n"
     ]
    },
    {
     "name": "stderr",
     "output_type": "stream",
     "text": [
      "\n",
      "Folds:   0%|          | 0/6 [00:00<?, ?it/s]\u001b[A\n",
      "\u001b[A                                         \n",
      "Folds:   0%|          | 0/6 [00:14<?, ?it/s]\u001b[A\n",
      "Folds:  33%|███▎      | 2/6 [00:14<00:28,  7.15s/it]\u001b[A"
     ]
    },
    {
     "name": "stdout",
     "output_type": "stream",
     "text": [
      "Fold 2 best MSE = 0.2182\n"
     ]
    },
    {
     "name": "stderr",
     "output_type": "stream",
     "text": [
      "\n",
      "\u001b[A                                                 \n",
      "Folds:  33%|███▎      | 2/6 [00:42<00:28,  7.15s/it]\u001b[A\n",
      "Folds:  50%|█████     | 3/6 [00:42<00:47, 15.93s/it]\u001b[A"
     ]
    },
    {
     "name": "stdout",
     "output_type": "stream",
     "text": [
      "Fold 3 best MSE = 0.2413\n"
     ]
    },
    {
     "name": "stderr",
     "output_type": "stream",
     "text": [
      "\n",
      "\u001b[A                                                 \n",
      "Folds:  50%|█████     | 3/6 [01:20<00:47, 15.93s/it]\u001b[A\n",
      "Folds:  67%|██████▋   | 4/6 [01:20<00:48, 24.29s/it]\u001b[A"
     ]
    },
    {
     "name": "stdout",
     "output_type": "stream",
     "text": [
      "Fold 4 best MSE = 0.9330\n"
     ]
    },
    {
     "name": "stderr",
     "output_type": "stream",
     "text": [
      "\n",
      "\u001b[A                                                 \n",
      "Folds:  67%|██████▋   | 4/6 [02:13<00:48, 24.29s/it]\u001b[A\n",
      "Folds:  83%|████████▎ | 5/6 [02:13<00:34, 34.04s/it]\u001b[A"
     ]
    },
    {
     "name": "stdout",
     "output_type": "stream",
     "text": [
      "Fold 5 best MSE = 0.0053\n"
     ]
    },
    {
     "name": "stderr",
     "output_type": "stream",
     "text": [
      "\n",
      "\u001b[A                                                 \n",
      "Folds:  83%|████████▎ | 5/6 [03:20<00:34, 34.04s/it]\u001b[A\n",
      "Folds: 100%|██████████| 6/6 [03:20<00:00, 45.00s/it]\u001b[A\n",
      "                                                    \u001b[A"
     ]
    },
    {
     "name": "stdout",
     "output_type": "stream",
     "text": [
      "Fold 6 best MSE = 0.2148\n",
      "[I 2025-05-13 12:36:42,020] Trial 11 finished with value: 0.322499908041209 and parameters: {'hidden_dim': 190, 'num_layers': 2, 'dropout': 0.5852524085771199, 'learning_rate': 0.0049440434786950415, 'batch_size': 64, 'epochs': 56}. Best is trial 3 with value: 0.31512034544721246.\n"
     ]
    },
    {
     "name": "stderr",
     "output_type": "stream",
     "text": [
      "\n",
      "Folds:   0%|          | 0/6 [00:00<?, ?it/s]\u001b[A\n",
      "\u001b[A                                         \n",
      "Folds:   0%|          | 0/6 [00:14<?, ?it/s]\u001b[A\n",
      "Folds:  33%|███▎      | 2/6 [00:14<00:28,  7.15s/it]\u001b[A"
     ]
    },
    {
     "name": "stdout",
     "output_type": "stream",
     "text": [
      "Fold 2 best MSE = 0.2094\n"
     ]
    },
    {
     "name": "stderr",
     "output_type": "stream",
     "text": [
      "\n",
      "\u001b[A                                                 \n",
      "Folds:  33%|███▎      | 2/6 [00:31<00:28,  7.15s/it]\u001b[A\n",
      "Folds:  50%|█████     | 3/6 [00:31<00:34, 11.45s/it]\u001b[A"
     ]
    },
    {
     "name": "stdout",
     "output_type": "stream",
     "text": [
      "Fold 3 best MSE = 0.2539\n"
     ]
    },
    {
     "name": "stderr",
     "output_type": "stream",
     "text": [
      "\n",
      "                                                    \u001b[A"
     ]
    },
    {
     "name": "stdout",
     "output_type": "stream",
     "text": [
      "[I 2025-05-13 12:37:34,080] Trial 12 pruned. \n"
     ]
    },
    {
     "name": "stderr",
     "output_type": "stream",
     "text": [
      "\n",
      "Folds:   0%|          | 0/6 [00:00<?, ?it/s]\u001b[A\n",
      "\u001b[A                                         \n",
      "Folds:   0%|          | 0/6 [00:13<?, ?it/s]\u001b[A\n",
      "Folds:  33%|███▎      | 2/6 [00:13<00:26,  6.54s/it]\u001b[A"
     ]
    },
    {
     "name": "stdout",
     "output_type": "stream",
     "text": [
      "Fold 2 best MSE = 0.1947\n"
     ]
    },
    {
     "name": "stderr",
     "output_type": "stream",
     "text": [
      "\n",
      "\u001b[A                                                 \n",
      "Folds:  33%|███▎      | 2/6 [00:29<00:26,  6.54s/it]\u001b[A\n",
      "Folds:  50%|█████     | 3/6 [00:29<00:31, 10.56s/it]\u001b[A"
     ]
    },
    {
     "name": "stdout",
     "output_type": "stream",
     "text": [
      "Fold 3 best MSE = 0.2453\n"
     ]
    },
    {
     "name": "stderr",
     "output_type": "stream",
     "text": [
      "\n",
      "                                                    \u001b[A"
     ]
    },
    {
     "name": "stdout",
     "output_type": "stream",
     "text": [
      "[I 2025-05-13 12:38:04,442] Trial 13 pruned. \n"
     ]
    },
    {
     "name": "stderr",
     "output_type": "stream",
     "text": [
      "\n",
      "Folds:   0%|          | 0/6 [00:00<?, ?it/s]\u001b[A\n",
      "                                            \u001b[A"
     ]
    },
    {
     "name": "stdout",
     "output_type": "stream",
     "text": [
      "[I 2025-05-13 12:38:04,933] Trial 14 pruned. \n"
     ]
    },
    {
     "name": "stderr",
     "output_type": "stream",
     "text": [
      "\n",
      "Folds:   0%|          | 0/6 [00:00<?, ?it/s]\u001b[A\n",
      "\u001b[A                                         \n",
      "Folds:   0%|          | 0/6 [00:15<?, ?it/s]\u001b[A\n",
      "Folds:  33%|███▎      | 2/6 [00:15<00:31,  7.88s/it]\u001b[A"
     ]
    },
    {
     "name": "stdout",
     "output_type": "stream",
     "text": [
      "Fold 2 best MSE = 0.2086\n"
     ]
    },
    {
     "name": "stderr",
     "output_type": "stream",
     "text": [
      "\n",
      "\u001b[A                                                 \n",
      "Folds:  33%|███▎      | 2/6 [00:38<00:31,  7.88s/it]\u001b[A\n",
      "Folds:  50%|█████     | 3/6 [00:38<00:42, 14.25s/it]\u001b[A"
     ]
    },
    {
     "name": "stdout",
     "output_type": "stream",
     "text": [
      "Fold 3 best MSE = 0.2508\n"
     ]
    },
    {
     "name": "stderr",
     "output_type": "stream",
     "text": [
      "\n",
      "\u001b[A                                                 \n",
      "Folds:  50%|█████     | 3/6 [01:26<00:42, 14.25s/it]\u001b[A\n",
      "Folds:  67%|██████▋   | 4/6 [01:26<00:53, 26.71s/it]\u001b[A"
     ]
    },
    {
     "name": "stdout",
     "output_type": "stream",
     "text": [
      "Fold 4 best MSE = 0.8890\n"
     ]
    },
    {
     "name": "stderr",
     "output_type": "stream",
     "text": [
      "\n",
      "\u001b[A                                                 \n",
      "Folds:  67%|██████▋   | 4/6 [02:24<00:53, 26.71s/it]\u001b[A\n",
      "Folds:  83%|████████▎ | 5/6 [02:24<00:37, 37.69s/it]\u001b[A"
     ]
    },
    {
     "name": "stdout",
     "output_type": "stream",
     "text": [
      "Fold 5 best MSE = 0.0063\n"
     ]
    },
    {
     "name": "stderr",
     "output_type": "stream",
     "text": [
      "\n",
      "\u001b[A                                                 \n",
      "Folds:  83%|████████▎ | 5/6 [03:18<00:37, 37.69s/it]\u001b[A\n",
      "Folds: 100%|██████████| 6/6 [03:18<00:00, 42.90s/it]\u001b[A\n",
      "                                                    \u001b[A"
     ]
    },
    {
     "name": "stdout",
     "output_type": "stream",
     "text": [
      "Fold 6 best MSE = 0.3597\n",
      "[I 2025-05-13 12:41:23,238] Trial 15 finished with value: 0.34289634646847844 and parameters: {'hidden_dim': 141, 'num_layers': 3, 'dropout': 0.015329696886325794, 'learning_rate': 0.004922625520664036, 'batch_size': 64, 'epochs': 55}. Best is trial 3 with value: 0.31512034544721246.\n"
     ]
    },
    {
     "name": "stderr",
     "output_type": "stream",
     "text": [
      "\n",
      "Folds:   0%|          | 0/6 [00:00<?, ?it/s]\u001b[A\n",
      "\u001b[A                                         \n",
      "Folds:   0%|          | 0/6 [00:04<?, ?it/s]\u001b[A\n",
      "Folds:  33%|███▎      | 2/6 [00:04<00:09,  2.41s/it]\u001b[A"
     ]
    },
    {
     "name": "stdout",
     "output_type": "stream",
     "text": [
      "Fold 2 best MSE = 0.2110\n"
     ]
    },
    {
     "name": "stderr",
     "output_type": "stream",
     "text": [
      "\n",
      "\u001b[A                                                 \n",
      "Folds:  33%|███▎      | 2/6 [00:12<00:09,  2.41s/it]\u001b[A\n",
      "Folds:  50%|█████     | 3/6 [00:12<00:13,  4.45s/it]\u001b[A"
     ]
    },
    {
     "name": "stdout",
     "output_type": "stream",
     "text": [
      "Fold 3 best MSE = 0.2280\n"
     ]
    },
    {
     "name": "stderr",
     "output_type": "stream",
     "text": [
      "\n",
      "\u001b[A                                                 \n",
      "Folds:  50%|█████     | 3/6 [00:23<00:13,  4.45s/it]\u001b[A\n",
      "Folds:  67%|██████▋   | 4/6 [00:23<00:13,  6.99s/it]\u001b[A"
     ]
    },
    {
     "name": "stdout",
     "output_type": "stream",
     "text": [
      "Fold 4 best MSE = 1.0274\n"
     ]
    },
    {
     "name": "stderr",
     "output_type": "stream",
     "text": [
      "\n",
      "\u001b[A                                                 \n",
      "Folds:  67%|██████▋   | 4/6 [00:34<00:13,  6.99s/it]\u001b[A\n",
      "Folds:  83%|████████▎ | 5/6 [00:34<00:08,  8.39s/it]\u001b[A"
     ]
    },
    {
     "name": "stdout",
     "output_type": "stream",
     "text": [
      "Fold 5 best MSE = 0.0139\n"
     ]
    },
    {
     "name": "stderr",
     "output_type": "stream",
     "text": [
      "\n",
      "\u001b[A                                                 \n",
      "Folds:  83%|████████▎ | 5/6 [00:55<00:08,  8.39s/it]\u001b[A\n",
      "Folds: 100%|██████████| 6/6 [00:55<00:00, 12.66s/it]\u001b[A\n",
      "                                                    \u001b[A"
     ]
    },
    {
     "name": "stdout",
     "output_type": "stream",
     "text": [
      "Fold 6 best MSE = 0.2492\n",
      "[I 2025-05-13 12:42:18,938] Trial 16 finished with value: 0.3459096210077405 and parameters: {'hidden_dim': 117, 'num_layers': 2, 'dropout': 0.38311975635854834, 'learning_rate': 0.002793259096669491, 'batch_size': 128, 'epochs': 64}. Best is trial 3 with value: 0.31512034544721246.\n"
     ]
    },
    {
     "name": "stderr",
     "output_type": "stream",
     "text": [
      "\n",
      "Folds:   0%|          | 0/6 [00:00<?, ?it/s]\u001b[A\n",
      "\u001b[A                                         \n",
      "Folds:   0%|          | 0/6 [00:04<?, ?it/s]\u001b[A\n",
      "Folds:  33%|███▎      | 2/6 [00:04<00:09,  2.30s/it]\u001b[A"
     ]
    },
    {
     "name": "stdout",
     "output_type": "stream",
     "text": [
      "Fold 2 best MSE = 0.2100\n"
     ]
    },
    {
     "name": "stderr",
     "output_type": "stream",
     "text": [
      "\n",
      "\u001b[A                                                 \n",
      "Folds:  33%|███▎      | 2/6 [00:16<00:09,  2.30s/it]\u001b[A\n",
      "Folds:  50%|█████     | 3/6 [00:16<00:18,  6.31s/it]\u001b[A"
     ]
    },
    {
     "name": "stdout",
     "output_type": "stream",
     "text": [
      "Fold 3 best MSE = 0.2477\n"
     ]
    },
    {
     "name": "stderr",
     "output_type": "stream",
     "text": [
      "\n",
      "\u001b[A                                                 \n",
      "Folds:  50%|█████     | 3/6 [00:26<00:18,  6.31s/it]\u001b[A\n",
      "Folds:  67%|██████▋   | 4/6 [00:26<00:15,  7.61s/it]\u001b[A"
     ]
    },
    {
     "name": "stdout",
     "output_type": "stream",
     "text": [
      "Fold 4 best MSE = 1.0108\n"
     ]
    },
    {
     "name": "stderr",
     "output_type": "stream",
     "text": [
      "\n",
      "\u001b[A                                                 \n",
      "Folds:  67%|██████▋   | 4/6 [00:50<00:15,  7.61s/it]\u001b[A\n",
      "Folds:  83%|████████▎ | 5/6 [00:50<00:13, 13.31s/it]\u001b[A"
     ]
    },
    {
     "name": "stdout",
     "output_type": "stream",
     "text": [
      "Fold 5 best MSE = 0.0071\n"
     ]
    },
    {
     "name": "stderr",
     "output_type": "stream",
     "text": [
      "\n",
      "\u001b[A                                                 \n",
      "Folds:  83%|████████▎ | 5/6 [01:05<00:13, 13.31s/it]\u001b[A\n",
      "Folds: 100%|██████████| 6/6 [01:05<00:00, 13.83s/it]\u001b[A\n",
      "                                                    \u001b[A"
     ]
    },
    {
     "name": "stdout",
     "output_type": "stream",
     "text": [
      "Fold 6 best MSE = 0.2889\n",
      "[I 2025-05-13 12:43:24,199] Trial 17 finished with value: 0.3529004011303186 and parameters: {'hidden_dim': 75, 'num_layers': 3, 'dropout': 0.5492336280142828, 'learning_rate': 0.0005285228085105334, 'batch_size': 128, 'epochs': 72}. Best is trial 3 with value: 0.31512034544721246.\n"
     ]
    },
    {
     "name": "stderr",
     "output_type": "stream",
     "text": [
      "\n",
      "Folds:   0%|          | 0/6 [00:00<?, ?it/s]\u001b[A\n",
      "\u001b[A                                         \n",
      "Folds:   0%|          | 0/6 [00:08<?, ?it/s]\u001b[A\n",
      "Folds:  33%|███▎      | 2/6 [00:08<00:16,  4.11s/it]\u001b[A"
     ]
    },
    {
     "name": "stdout",
     "output_type": "stream",
     "text": [
      "Fold 2 best MSE = 0.2251\n"
     ]
    },
    {
     "name": "stderr",
     "output_type": "stream",
     "text": [
      "\n",
      "                                                    \u001b[A"
     ]
    },
    {
     "name": "stdout",
     "output_type": "stream",
     "text": [
      "[I 2025-05-13 12:43:45,674] Trial 18 pruned. \n"
     ]
    },
    {
     "name": "stderr",
     "output_type": "stream",
     "text": [
      "\n",
      "Folds:   0%|          | 0/6 [00:00<?, ?it/s]\u001b[A\n",
      "                                            \u001b[A"
     ]
    },
    {
     "name": "stdout",
     "output_type": "stream",
     "text": [
      "[I 2025-05-13 12:43:49,468] Trial 19 pruned. \n"
     ]
    },
    {
     "name": "stderr",
     "output_type": "stream",
     "text": [
      "\n",
      "Folds:   0%|          | 0/6 [00:00<?, ?it/s]\u001b[A\n",
      "\u001b[A                                         \n",
      "Folds:   0%|          | 0/6 [00:21<?, ?it/s]\u001b[A\n",
      "Folds:  33%|███▎      | 2/6 [00:21<00:42, 10.71s/it]\u001b[A"
     ]
    },
    {
     "name": "stdout",
     "output_type": "stream",
     "text": [
      "Fold 2 best MSE = 0.2070\n"
     ]
    },
    {
     "name": "stderr",
     "output_type": "stream",
     "text": [
      "\n",
      "\u001b[A                                                 \n",
      "Folds:  33%|███▎      | 2/6 [01:02<00:42, 10.71s/it]\u001b[A\n",
      "Folds:  50%|█████     | 3/6 [01:02<01:10, 23.46s/it]\u001b[A"
     ]
    },
    {
     "name": "stdout",
     "output_type": "stream",
     "text": [
      "Fold 3 best MSE = 0.2334\n"
     ]
    },
    {
     "name": "stderr",
     "output_type": "stream",
     "text": [
      "\n",
      "\u001b[A                                                 \n",
      "Folds:  50%|█████     | 3/6 [01:40<01:10, 23.46s/it]\u001b[A\n",
      "Folds:  67%|██████▋   | 4/6 [01:40<00:57, 28.80s/it]\u001b[A"
     ]
    },
    {
     "name": "stdout",
     "output_type": "stream",
     "text": [
      "Fold 4 best MSE = 0.9533\n"
     ]
    },
    {
     "name": "stderr",
     "output_type": "stream",
     "text": [
      "\n",
      "                                                    \u001b[A"
     ]
    },
    {
     "name": "stdout",
     "output_type": "stream",
     "text": [
      "[I 2025-05-13 12:45:32,578] Trial 20 pruned. \n"
     ]
    },
    {
     "name": "stderr",
     "output_type": "stream",
     "text": [
      "\n",
      "Folds:   0%|          | 0/6 [00:00<?, ?it/s]\u001b[A\n",
      "                                            \u001b[A"
     ]
    },
    {
     "name": "stdout",
     "output_type": "stream",
     "text": [
      "[I 2025-05-13 12:45:33,082] Trial 21 pruned. \n"
     ]
    },
    {
     "name": "stderr",
     "output_type": "stream",
     "text": [
      "\n",
      "Folds:   0%|          | 0/6 [00:00<?, ?it/s]\u001b[A\n",
      "                                            \u001b[A"
     ]
    },
    {
     "name": "stdout",
     "output_type": "stream",
     "text": [
      "[I 2025-05-13 12:45:33,496] Trial 22 pruned. \n"
     ]
    },
    {
     "name": "stderr",
     "output_type": "stream",
     "text": [
      "\n",
      "Folds:   0%|          | 0/6 [00:00<?, ?it/s]\u001b[A\n",
      "\u001b[A                                         \n",
      "Folds:   0%|          | 0/6 [00:11<?, ?it/s]\u001b[A\n",
      "Folds:  33%|███▎      | 2/6 [00:11<00:22,  5.54s/it]\u001b[A"
     ]
    },
    {
     "name": "stdout",
     "output_type": "stream",
     "text": [
      "Fold 2 best MSE = 0.2193\n"
     ]
    },
    {
     "name": "stderr",
     "output_type": "stream",
     "text": [
      "\n",
      "\u001b[A                                                 \n",
      "Folds:  33%|███▎      | 2/6 [00:25<00:22,  5.54s/it]\u001b[A\n",
      "Folds:  50%|█████     | 3/6 [00:25<00:27,  9.30s/it]\u001b[A"
     ]
    },
    {
     "name": "stdout",
     "output_type": "stream",
     "text": [
      "Fold 3 best MSE = 0.2404\n"
     ]
    },
    {
     "name": "stderr",
     "output_type": "stream",
     "text": [
      "\n",
      "                                                    \u001b[A"
     ]
    },
    {
     "name": "stdout",
     "output_type": "stream",
     "text": [
      "[I 2025-05-13 12:46:17,643] Trial 23 pruned. \n"
     ]
    },
    {
     "name": "stderr",
     "output_type": "stream",
     "text": [
      "\n",
      "Folds:   0%|          | 0/6 [00:00<?, ?it/s]\u001b[A\n",
      "                                            \u001b[A"
     ]
    },
    {
     "name": "stdout",
     "output_type": "stream",
     "text": [
      "[I 2025-05-13 12:46:18,106] Trial 24 pruned. \n"
     ]
    },
    {
     "name": "stderr",
     "output_type": "stream",
     "text": [
      "\n",
      "Folds:   0%|          | 0/6 [00:00<?, ?it/s]\u001b[A\n",
      "                                            \u001b[A"
     ]
    },
    {
     "name": "stdout",
     "output_type": "stream",
     "text": [
      "[I 2025-05-13 12:46:18,686] Trial 25 pruned. \n"
     ]
    },
    {
     "name": "stderr",
     "output_type": "stream",
     "text": [
      "\n",
      "Folds:   0%|          | 0/6 [00:00<?, ?it/s]\u001b[A\n",
      "                                            \u001b[A"
     ]
    },
    {
     "name": "stdout",
     "output_type": "stream",
     "text": [
      "[I 2025-05-13 12:46:24,955] Trial 26 pruned. \n"
     ]
    },
    {
     "name": "stderr",
     "output_type": "stream",
     "text": [
      "\n",
      "Folds:   0%|          | 0/6 [00:00<?, ?it/s]\u001b[A\n",
      "                                            \u001b[A"
     ]
    },
    {
     "name": "stdout",
     "output_type": "stream",
     "text": [
      "[I 2025-05-13 12:46:32,431] Trial 27 pruned. \n"
     ]
    },
    {
     "name": "stderr",
     "output_type": "stream",
     "text": [
      "\n",
      "Folds:   0%|          | 0/6 [00:00<?, ?it/s]\u001b[A\n",
      "                                            \u001b[A"
     ]
    },
    {
     "name": "stdout",
     "output_type": "stream",
     "text": [
      "[I 2025-05-13 12:46:42,253] Trial 28 pruned. \n"
     ]
    },
    {
     "name": "stderr",
     "output_type": "stream",
     "text": [
      "\n",
      "Folds:   0%|          | 0/6 [00:00<?, ?it/s]\u001b[A\n",
      "\u001b[A                                         \n",
      "Folds:   0%|          | 0/6 [00:23<?, ?it/s]\u001b[A\n",
      "Folds:  33%|███▎      | 2/6 [00:23<00:46, 11.54s/it]\u001b[A"
     ]
    },
    {
     "name": "stdout",
     "output_type": "stream",
     "text": [
      "Fold 2 best MSE = 0.2197\n"
     ]
    },
    {
     "name": "stderr",
     "output_type": "stream",
     "text": [
      "\n",
      "\u001b[A                                                 \n",
      "Folds:  33%|███▎      | 2/6 [00:55<00:46, 11.54s/it]\u001b[A\n",
      "Folds:  50%|█████     | 3/6 [00:55<01:00, 20.18s/it]\u001b[A"
     ]
    },
    {
     "name": "stdout",
     "output_type": "stream",
     "text": [
      "Fold 3 best MSE = 0.2369\n"
     ]
    },
    {
     "name": "stderr",
     "output_type": "stream",
     "text": [
      "\n",
      "\u001b[A                                                 \n",
      "Folds:  50%|█████     | 3/6 [01:51<01:00, 20.18s/it]\u001b[A\n",
      "Folds:  67%|██████▋   | 4/6 [01:51<01:06, 33.44s/it]\u001b[A"
     ]
    },
    {
     "name": "stdout",
     "output_type": "stream",
     "text": [
      "Fold 4 best MSE = 0.8828\n"
     ]
    },
    {
     "name": "stderr",
     "output_type": "stream",
     "text": [
      "\n",
      "\u001b[A                                                 \n",
      "Folds:  67%|██████▋   | 4/6 [02:42<01:06, 33.44s/it]\u001b[A\n",
      "Folds:  83%|████████▎ | 5/6 [02:42<00:39, 39.65s/it]\u001b[A"
     ]
    },
    {
     "name": "stdout",
     "output_type": "stream",
     "text": [
      "Fold 5 best MSE = 0.0042\n"
     ]
    },
    {
     "name": "stderr",
     "output_type": "stream",
     "text": [
      "\n",
      "\u001b[A                                                 \n",
      "Folds:  83%|████████▎ | 5/6 [03:44<00:39, 39.65s/it]\u001b[A\n",
      "Folds: 100%|██████████| 6/6 [03:44<00:00, 47.16s/it]\u001b[A\n",
      "                                                    \u001b[A"
     ]
    },
    {
     "name": "stdout",
     "output_type": "stream",
     "text": [
      "Fold 6 best MSE = 0.3362\n",
      "[I 2025-05-13 12:50:26,987] Trial 29 finished with value: 0.3359738756902516 and parameters: {'hidden_dim': 163, 'num_layers': 3, 'dropout': 0.4594227864328111, 'learning_rate': 0.0015184426823866438, 'batch_size': 128, 'epochs': 71}. Best is trial 3 with value: 0.31512034544721246.\n",
      "=== Best Trial ===\n",
      "MSE   : 0.315120\n",
      "Params: {'hidden_dim': 129, 'num_layers': 3, 'dropout': 0.5793792198447356, 'learning_rate': 0.0023628864184236428, 'batch_size': 128, 'epochs': 58}\n",
      "Total run time: 2240.0 s\n"
     ]
    }
   ],
   "source": [
    "# ==============================================================\n",
    "#  LSTM Regression on Yield‑Curve Δ  |  Optuna (50 trials, h=1)\n",
    "#  • Original loop‑based sequence logic\n",
    "#  • Duplicate‑step warning fixed (unique global_step)\n",
    "#  • Clean output: only final fold MSE shown\n",
    "# ==============================================================\n",
    "\n",
    "# ---------------------- Imports ---------------------- #\n",
    "import os, sys, gc, time, random\n",
    "import numpy as np\n",
    "import pandas as pd\n",
    "from tqdm import tqdm\n",
    "\n",
    "import torch\n",
    "import torch.nn as nn\n",
    "import torch.backends.cudnn as cudnn\n",
    "from torch import amp\n",
    "from torch.utils.data import DataLoader, TensorDataset\n",
    "from sklearn.preprocessing import StandardScaler\n",
    "from sklearn.metrics import mean_squared_error\n",
    "\n",
    "import optuna\n",
    "from optuna.pruners import MedianPruner\n",
    "from optuna.samplers import TPESampler\n",
    "\n",
    "# ---------------------- Reproducibility ---------------------- #\n",
    "RNG_SEED = 42\n",
    "random.seed(RNG_SEED); np.random.seed(RNG_SEED); torch.manual_seed(RNG_SEED)\n",
    "if torch.cuda.is_available():\n",
    "    torch.cuda.manual_seed_all(RNG_SEED)\n",
    "\n",
    "# ---------------------- Device & CuDNN ---------------------- #\n",
    "device = torch.device(\"cuda\" if torch.cuda.is_available() else \"cpu\")\n",
    "print(f\"[INFO] Device: {device}\")\n",
    "if device.type == \"cuda\":\n",
    "    print(f\"  • GPU: {torch.cuda.get_device_name(0)}\")\n",
    "    cudnn.benchmark = True\n",
    "\n",
    "# ---------------------- Config ---------------------- #\n",
    "FORECAST_HORIZON = 21\n",
    "TRIALS           = 30\n",
    "EARLY_STOP       = 20\n",
    "val_window_num_sequences = 504\n",
    "holdout_base            = 756\n",
    "seq_len_map             = {21: 1323}\n",
    "\n",
    "HSPACE = {\n",
    "    \"hidden_dim\"   : (32, 192),\n",
    "    \"num_layers\"   : [1, 2, 3],\n",
    "    \"dropout\"      : (0.0, 0.6),\n",
    "    \"learning_rate\": (1e-4, 5e-3),\n",
    "    \"batch_size\"   : [32, 64, 128],\n",
    "    \"epochs\"       : (40, 80),\n",
    "}\n",
    "\n",
    "# ---------------------- Model ---------------------- #\n",
    "class LSTMRegressor(nn.Module):\n",
    "    def __init__(self, in_dim, hid, layers, out_dim, drop=0.0):\n",
    "        super().__init__()\n",
    "        self.lstm = nn.LSTM(in_dim, hid, layers, batch_first=True,\n",
    "                            dropout=(drop if layers > 1 else 0.0))\n",
    "        self.drop = nn.Dropout(drop)\n",
    "        self.norm = nn.LayerNorm(hid)\n",
    "        self.fc   = nn.Linear(hid, out_dim, bias=False)\n",
    "    def forward(self, x):\n",
    "        _, (hn, _) = self.lstm(x)\n",
    "        return self.fc(self.norm(self.drop(hn[-1])))\n",
    "\n",
    "# ---------------------- Data Utilities ---------------------- #\n",
    "def gen_seq(X_df, Y_fold, seq_len, h):\n",
    "    X_arr = X_df.values.astype(np.float32)\n",
    "    Y_arr = Y_fold.reindex(X_df.index).values.astype(np.float32)\n",
    "    idx   = {ts: i for i, ts in enumerate(X_df.index)}\n",
    "    X_seq, Y_seq = [], []\n",
    "    for t in Y_fold.index:\n",
    "        ti = idx.get(t)\n",
    "        if ti is None:\n",
    "            continue\n",
    "        end = ti - h + 1; start = end - seq_len\n",
    "        if start < 0 or end > len(X_arr):\n",
    "            continue\n",
    "        win = X_arr[start:end]\n",
    "        if win.shape[0] != seq_len or np.isnan(win).any() or not np.isfinite(Y_arr[ti]).all():\n",
    "            continue\n",
    "        X_seq.append(win); Y_seq.append(Y_arr[ti])\n",
    "    return np.asarray(X_seq, np.float32), np.asarray(Y_seq, np.float32)\n",
    "\n",
    "\n",
    "def std_fold(Xtr, Xva):\n",
    "    sc = StandardScaler()\n",
    "    return (\n",
    "        pd.DataFrame(sc.fit_transform(Xtr), index=Xtr.index, columns=Xtr.columns),\n",
    "        pd.DataFrame(sc.transform(Xva),     index=Xva.index, columns=Xva.columns),\n",
    "    )\n",
    "\n",
    "# ---------------------- CV ---------------------- #\n",
    "def expanding_folds(X, Y, h):\n",
    "    seq_len = seq_len_map[h]; total = len(X); min_train = seq_len + h\n",
    "    folds, i = [], min_train\n",
    "    while i + val_window_num_sequences + holdout_base <= total:\n",
    "        vs, ve = i, i + val_window_num_sequences\n",
    "        folds.append({\n",
    "            \"X_tr\": X.iloc[:i].copy(),\n",
    "            \"Y_tr\": Y.iloc[:i].copy(),\n",
    "            \"X_va\": X.iloc[vs - seq_len - h + 1: ve - h].copy(),\n",
    "            \"Y_va\": Y.iloc[vs:ve].copy(),\n",
    "            \"seq_len\": seq_len,\n",
    "        })\n",
    "        i += val_window_num_sequences\n",
    "    return folds\n",
    "\n",
    "# ---------------------- Optuna Objective ---------------------- #\n",
    "def objective(trial, folds):\n",
    "    p = {\n",
    "        \"hid\": trial.suggest_int(\"hidden_dim\", *HSPACE[\"hidden_dim\"]),\n",
    "        \"lay\": trial.suggest_categorical(\"num_layers\", HSPACE[\"num_layers\"]),\n",
    "        \"drp\": trial.suggest_float(\"dropout\", *HSPACE[\"dropout\"]),\n",
    "        \"lr\" : trial.suggest_float(\"learning_rate\", *HSPACE[\"learning_rate\"], log=True),\n",
    "        \"bs\" : trial.suggest_categorical(\"batch_size\", HSPACE[\"batch_size\"]),\n",
    "        \"ep\" : trial.suggest_int(\"epochs\", *HSPACE[\"epochs\"]),\n",
    "    }\n",
    "    scaler = amp.GradScaler(); mse_fold = []\n",
    "\n",
    "    for f_idx, f in enumerate(tqdm(folds, desc=\"Folds\", leave=False)):\n",
    "        Xtr_s, Xva_s = std_fold(f[\"X_tr\"], f[\"X_va\"])\n",
    "        Xtr, Ytr = gen_seq(Xtr_s, f[\"Y_tr\"], f[\"seq_len\"], FORECAST_HORIZON)\n",
    "        Xva, Yva = gen_seq(Xva_s, f[\"Y_va\"], f[\"seq_len\"], FORECAST_HORIZON)\n",
    "        if len(Xtr)==0 or len(Xva)==0:\n",
    "            continue\n",
    "\n",
    "        model = LSTMRegressor(Xtr.shape[2], p[\"hid\"], p[\"lay\"], Ytr.shape[1], p[\"drp\"]).to(device)\n",
    "        opt   = torch.optim.Adam(model.parameters(), lr=p[\"lr\"])\n",
    "        best, pat = np.inf, 0; report_every = max(1, p[\"ep\"]//3)\n",
    "\n",
    "        tr_loader = DataLoader(TensorDataset(torch.tensor(Xtr), torch.tensor(Ytr)), batch_size=p[\"bs\"], shuffle=True, pin_memory=True)\n",
    "        va_loader = DataLoader(TensorDataset(torch.tensor(Xva), torch.tensor(Yva)), batch_size=p[\"bs\"], pin_memory=True)\n",
    "\n",
    "        for epoch in range(p[\"ep\"]):\n",
    "            model.train()\n",
    "            for xb, yb in tr_loader:\n",
    "                xb, yb = xb.to(device, non_blocking=True), yb.to(device, non_blocking=True)\n",
    "                opt.zero_grad(set_to_none=True)\n",
    "                with amp.autocast(device_type='cuda'):\n",
    "                    loss = nn.functional.mse_loss(model(xb), yb)\n",
    "                scaler.scale(loss).backward(); scaler.step(opt); scaler.update()\n",
    "\n",
    "            model.eval(); preds, gts = [], []\n",
    "            with torch.no_grad(), amp.autocast(device_type='cuda'):\n",
    "                for xb, yb in va_loader:\n",
    "                    preds.append(model(xb.to(device, non_blocking=True)).cpu()); gts.append(yb)\n",
    "            mse = mean_squared_error(torch.cat(gts).numpy(), torch.cat(preds).numpy())\n",
    "\n",
    "            global_step = f_idx * p[\"ep\"] + epoch\n",
    "            if epoch % report_every == 0:\n",
    "                trial.report(mse, global_step)\n",
    "                if trial.should_prune():\n",
    "                    raise optuna.TrialPruned()\n",
    "\n",
    "            if mse + 1e-6 < best:\n",
    "                best, pat = mse, 0\n",
    "            else:\n",
    "                pat += 1\n",
    "                if pat >= EARLY_STOP:\n",
    "                    break\n",
    "        tqdm.write(f\"Fold {f_idx+1} best MSE = {best:.4f}\")\n",
    "        mse_fold.append(best)\n",
    "    return np.mean(mse_fold) if mse_fold else np.inf\n",
    "\n",
    "# ---------------------- Main ---------------------- #\n",
    "if __name__ == \"__main__\":\n",
    "    X = pd.read_csv(\"X_df_filtered_shap.csv\", index_col=0, parse_dates=True)\n",
    "    Y = pd.read_csv(f\"Y_df_change_{FORECAST_HORIZON}.csv\", index_col=0, parse_dates=True)\n",
    "    folds = expanding_folds(X, Y, FORECAST_HORIZON)\n",
    "    print(f\"Generated {len(folds)} folds\\n\")    \n",
    "\n",
    "    study = optuna.create_study(\n",
    "        direction=\"minimize\",\n",
    "        sampler=TPESampler(seed=RNG_SEED),\n",
    "        pruner=MedianPruner(8, 15)\n",
    "    )\n",
    "\n",
    "    t0 = time.time()\n",
    "    study.optimize(\n",
    "        lambda tr: objective(tr, folds),\n",
    "        n_trials=TRIALS,\n",
    "        n_jobs=1,\n",
    "        show_progress_bar=True\n",
    "    )\n",
    "    dur = time.time() - t0\n",
    "\n",
    "    print(\"=== Best Trial ===\")\n",
    "    print(f\"MSE   : {study.best_value:.6f}\")\n",
    "    print(f\"Params: {study.best_trial.params}\")\n",
    "    print(f\"Total run time: {dur:.1f} s\")"
   ]
  },
  {
   "cell_type": "code",
   "execution_count": 10,
   "id": "117aefa0-6fe3-404a-a5d4-c8f067249a39",
   "metadata": {},
   "outputs": [
    {
     "name": "stdout",
     "output_type": "stream",
     "text": [
      "[INFO] Running final model evaluation on test set\n",
      "[LEAK CHECK] ✅ No overlap between training and testing targets — safe to proceed.\n",
      "[DEBUG] It's working\n",
      "\n",
      "[RESULT] Final Test Set MSE: 0.163979\n"
     ]
    }
   ],
   "source": [
    "\n",
    "if __name__ == \"__main__\":\n",
    "    BEST_PARAMS = {\n",
    "        'hidden_dim': 130,\n",
    "        'num_layers': 2,\n",
    "        'dropout': 0.21638671447680213,\n",
    "        'learning_rate': 0.0025299948542400023,\n",
    "        'batch_size': 32,\n",
    "        'epochs': 63\n",
    "    }\n",
    "\n",
    "    FORECAST_HORIZON = 21\n",
    "    SEQUENCE_LENGTH = 1323\n",
    "\n",
    "    \n",
    "    print(\"[INFO] Running final model evaluation on test set\")\n",
    "\n",
    "    X = pd.read_csv(\"X_df_filtered_shap.csv\", index_col=0, parse_dates=True)\n",
    "    Y = pd.read_csv(\"Y_df_change_21.csv\", index_col=0, parse_dates=True)\n",
    "\n",
    "    TEST_SIZE = 756             # 3-year hold-out\n",
    "    seq_buffer = SEQUENCE_LENGTH + FORECAST_HORIZON - 1\n",
    "    \n",
    "    X_train = X.iloc[:-TEST_SIZE]\n",
    "    Y_train = Y.iloc[:-TEST_SIZE]\n",
    "    \n",
    "    X_test_start = -TEST_SIZE - seq_buffer   # keep enough context for sequences\n",
    "    X_test = X.iloc[X_test_start:]\n",
    "    Y_test = Y.iloc[-TEST_SIZE:]\n",
    "\n",
    "    sc = StandardScaler()\n",
    "    X_train_std = pd.DataFrame(sc.fit_transform(X_train), index=X_train.index, columns=X_train.columns)\n",
    "    X_test_std  = pd.DataFrame(sc.transform(X_test),     index=X_test.index,  columns=X_test.columns)\n",
    "\n",
    "    # ---------------------- Data Leakage Check ---------------------- #\n",
    "    # Recreate index map to find actual target timestamps\n",
    "    idx_map = {ts: i for i, ts in enumerate(X_train_std.index)}\n",
    "    train_target_dates = []\n",
    "    \n",
    "    for t in Y_train.index:\n",
    "        target_idx = idx_map.get(t)\n",
    "        if target_idx is None:\n",
    "            continue\n",
    "        x_end = target_idx - FORECAST_HORIZON + 1\n",
    "        x_start = x_end - SEQUENCE_LENGTH\n",
    "        if x_start >= 0 and x_end <= len(X_train_std):\n",
    "            train_target_dates.append(t)\n",
    "\n",
    "    \n",
    "    idx_map_test = {ts: i for i, ts in enumerate(X_test_std.index)}\n",
    "    test_target_dates = []\n",
    "    \n",
    "    for t in Y_test.index:\n",
    "        target_idx = idx_map_test.get(t)\n",
    "        if target_idx is None:\n",
    "            continue\n",
    "        x_end = target_idx - FORECAST_HORIZON + 1\n",
    "        x_start = x_end - SEQUENCE_LENGTH\n",
    "        if x_start >= 0 and x_end <= len(X_test_std):\n",
    "            test_target_dates.append(t)\n",
    "\n",
    "    \n",
    "    # Check for overlap\n",
    "    overlap = set(train_target_dates).intersection(test_target_dates)\n",
    "    if overlap:\n",
    "        print(f\"[LEAK WARNING] {len(overlap)} overlapping target timestamps between train and test!\")\n",
    "        print(f\"[LEAK WARNING] Example overlapping dates: {list(overlap)[:5]}\")\n",
    "    else:\n",
    "        print(\"[LEAK CHECK] ✅ No overlap between training and testing targets — safe to proceed.\")\n",
    "\n",
    "\n",
    "    X_tr_seq, Y_tr_seq = gen_seq(X_train_std, Y_train, SEQUENCE_LENGTH, FORECAST_HORIZON)\n",
    "    X_te_seq, Y_te_seq = gen_seq(X_test_std,  Y_test,  SEQUENCE_LENGTH, FORECAST_HORIZON)\n",
    "\n",
    "    if len(X_te_seq) == 0 or len(Y_te_seq) == 0:\n",
    "        print(\"[ERROR] No valid test sequences generated. Check alignment or sequence length.\")\n",
    "        sys.exit(1)\n",
    "    else:\n",
    "        print(\"[DEBUG] It's working\")\n",
    "\n",
    "    model = LSTMRegressor(\n",
    "        in_dim=X_tr_seq.shape[2],\n",
    "        hid=BEST_PARAMS['hidden_dim'],\n",
    "        layers=BEST_PARAMS['num_layers'],\n",
    "        out_dim=Y_tr_seq.shape[1],\n",
    "        drop=BEST_PARAMS['dropout']\n",
    "    ).to(device)\n",
    "\n",
    "    optimizer = torch.optim.Adam(model.parameters(), lr=BEST_PARAMS['learning_rate'])\n",
    "    scaler = amp.GradScaler()\n",
    "\n",
    "    train_loader = DataLoader(TensorDataset(torch.tensor(X_tr_seq), torch.tensor(Y_tr_seq)),\n",
    "                              batch_size=BEST_PARAMS['batch_size'], shuffle=True, pin_memory=True)\n",
    "\n",
    "    model.train()\n",
    "    for epoch in range(BEST_PARAMS['epochs']):\n",
    "        for xb, yb in train_loader:\n",
    "            xb, yb = xb.to(device, non_blocking=True), yb.to(device, non_blocking=True)\n",
    "            optimizer.zero_grad(set_to_none=True)\n",
    "            with amp.autocast(device_type=\"cuda\"):\n",
    "                loss = nn.functional.mse_loss(model(xb), yb)\n",
    "            scaler.scale(loss).backward(); scaler.step(optimizer); scaler.update()\n",
    "\n",
    "    model.eval(); preds, gts = [], []\n",
    "    test_loader = DataLoader(TensorDataset(torch.tensor(X_te_seq), torch.tensor(Y_te_seq)),\n",
    "                             batch_size=BEST_PARAMS['batch_size'], pin_memory=True)\n",
    "\n",
    "    with torch.no_grad(), amp.autocast(device_type='cuda'):\n",
    "        for xb, yb in test_loader:\n",
    "            xb = xb.to(device, non_blocking=True)\n",
    "            preds.append(model(xb).cpu())\n",
    "            gts.append(yb)\n",
    "\n",
    "    if len(preds) == 0 or len(gts) == 0:\n",
    "        print(\"[ERROR] No predictions generated. Check test data preprocessing.\")\n",
    "        sys.exit(1)\n",
    "\n",
    "    y_true = torch.cat(gts).numpy()\n",
    "    y_pred = torch.cat(preds).numpy()\n",
    "    mse = mean_squared_error(y_true, y_pred)\n",
    "    print(f\"\\n[RESULT] Final Test Set MSE: {mse:.6f}\")"
   ]
  },
  {
   "cell_type": "code",
   "execution_count": 11,
   "id": "b0f4b367-a5ff-4cc3-9cca-b0c859698756",
   "metadata": {},
   "outputs": [
    {
     "name": "stdout",
     "output_type": "stream",
     "text": [
      "[INFO] Multi-output predictions saved to 'final_test_predictions_multioutput.csv'\n"
     ]
    }
   ],
   "source": [
    "# ---------------------- Save Multi-Output Results ---------------------- #\n",
    "maturity_labels = [f\"m{i+1}\" for i in range(y_true.shape[1])]  # e.g., m1, m2, ..., m6\n",
    "\n",
    "# Create column-wise dict\n",
    "results_dict = {\n",
    "    \"date\": Y_test.index[-len(y_true):]  # ensure alignment\n",
    "}\n",
    "\n",
    "# Add true and predicted values for each maturity\n",
    "for i, label in enumerate(maturity_labels):\n",
    "    results_dict[f\"{label}_true\"] = y_true[:, i]\n",
    "    results_dict[f\"{label}_pred\"] = y_pred[:, i]\n",
    "\n",
    "# Convert to DataFrame\n",
    "results_df = pd.DataFrame(results_dict).set_index(\"date\")\n",
    "\n",
    "# Save\n",
    "results_df.to_csv(f\"final_test_predictions_multioutput_H{FORECAST_HORIZON}.csv\")\n",
    "print(\"[INFO] Multi-output predictions saved to 'final_test_predictions_multioutput.csv'\")"
   ]
  }
 ],
 "metadata": {
  "kernelspec": {
   "display_name": "Python3 (ipykernel)",
   "language": "python",
   "name": "python3"
  },
  "language_info": {
   "codemirror_mode": {
    "name": "ipython",
    "version": 3
   },
   "file_extension": ".py",
   "mimetype": "text/x-python",
   "name": "python",
   "nbconvert_exporter": "python",
   "pygments_lexer": "ipython3",
   "version": "3.10.12"
  }
 },
 "nbformat": 4,
 "nbformat_minor": 5
}
